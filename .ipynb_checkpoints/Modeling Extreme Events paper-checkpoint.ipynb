{
 "cells": [
  {
   "cell_type": "code",
   "execution_count": 1,
   "id": "bd5072c7",
   "metadata": {},
   "outputs": [
    {
     "name": "stderr",
     "output_type": "stream",
     "text": [
      "D:\\miniconda\\envs\\torchenv\\lib\\site-packages\\torchvision\\io\\image.py:11: UserWarning: Failed to load image Python extension: Could not find module 'D:\\miniconda\\envs\\torchenv\\Lib\\site-packages\\torchvision\\image.pyd' (or one of its dependencies). Try using the full path with constructor syntax.\n",
      "  warn(f\"Failed to load image Python extension: {e}\")\n"
     ]
    }
   ],
   "source": [
    "import numpy as np\n",
    "import pandas as pd\n",
    "import torchvision\n",
    "import torch\n",
    "import matplotlib.pyplot as plt\n",
    "import torchvision.transforms as transforms\n",
    "from torch.utils.data.sampler import SubsetRandomSampler\n",
    "from torch import nn\n",
    "import torch.nn.functional as F\n",
    "import torch.optim as optim\n",
    "from torch.autograd import Variable\n",
    "from sklearn.preprocessing import MinMaxScaler\n",
    "import numpy as np\n",
    "import matplotlib.pyplot as plt\n",
    "from scipy.integrate import odeint\n",
    "from scipy.integrate import solve_ivp\n",
    "import matplotlib.pyplot as plt\n",
    "%matplotlib inline"
   ]
  },
  {
   "cell_type": "code",
   "execution_count": 2,
   "id": "81650bca",
   "metadata": {},
   "outputs": [],
   "source": [
    "data = np.load(\"DK_time_series_for_new_loss.npy\")\n",
    "data = data[0] + data[3]\n",
    "\n",
    "train = data[:10000]\n",
    "test =  data[10000:]\n",
    "\n",
    "mean = train.mean()\n",
    "std = train.std()\n",
    "#sigmastest = np.abs(test - mean)\n",
    "train_norm = (train - mean)/std\n",
    "test_norm = (test - mean)/std\n",
    "\n",
    "train_norm = torch.FloatTensor(train_norm).view(-1)\n",
    "test_norm = torch.FloatTensor(test_norm).view(-1)"
   ]
  },
  {
   "cell_type": "code",
   "execution_count": null,
   "id": "11f12ea4",
   "metadata": {},
   "outputs": [],
   "source": [
    "plt.hist(train_norm, 1000)\n",
    "plt.show()"
   ]
  }
 ],
 "metadata": {
  "kernelspec": {
   "display_name": "Python 3 (ipykernel)",
   "language": "python",
   "name": "python3"
  },
  "language_info": {
   "codemirror_mode": {
    "name": "ipython",
    "version": 3
   },
   "file_extension": ".py",
   "mimetype": "text/x-python",
   "name": "python",
   "nbconvert_exporter": "python",
   "pygments_lexer": "ipython3",
   "version": "3.9.7"
  }
 },
 "nbformat": 4,
 "nbformat_minor": 5
}
