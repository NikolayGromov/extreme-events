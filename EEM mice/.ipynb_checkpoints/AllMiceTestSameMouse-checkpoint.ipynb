{
 "cells": [
  {
   "cell_type": "code",
   "execution_count": 1,
   "id": "2ecd2bb1",
   "metadata": {},
   "outputs": [],
   "source": [
    "import numpy as np\n",
    "import torchvision\n",
    "import torch\n",
    "import torchvision.transforms as transforms\n",
    "from torch.utils.data.sampler import SubsetRandomSampler\n",
    "from torch import nn\n",
    "import torch.nn.functional as F\n",
    "import torch.optim as optim\n",
    "from torch.autograd import Variable\n",
    "from sklearn.preprocessing import MinMaxScaler\n",
    "import numpy as np\n",
    "import matplotlib.pyplot as plt\n",
    "from scipy.integrate import odeint\n",
    "from scipy.integrate import solve_ivp\n",
    "import matplotlib.pyplot as plt\n",
    "from torch.utils.data import DataLoader\n",
    "import math\n",
    "from IPython.display import clear_output\n",
    "from tqdm import tqdm\n",
    "%matplotlib inline"
   ]
  },
  {
   "cell_type": "code",
   "execution_count": 2,
   "id": "d65390d3",
   "metadata": {},
   "outputs": [],
   "source": [
    "data = np.load(\"all_epi_mice_data.npy\")\n",
    "\n",
    "#data = data[:, 1][::100] \n",
    "\n",
    "train = data[:-277648]\n",
    "test =  data[-277648:]\n",
    "\n",
    "mean = train.mean()\n",
    "std = train.std()\n",
    "#sigmastest = np.abs(test - mean)\n",
    "train_norm = (train - mean)/std\n",
    "test_norm = (test - mean)/std\n",
    "\n",
    "train_norm = torch.FloatTensor(train_norm).view(-1)\n",
    "test_norm = torch.FloatTensor(test_norm).view(-1)"
   ]
  },
  {
   "cell_type": "code",
   "execution_count": 3,
   "id": "5031b9d9",
   "metadata": {},
   "outputs": [],
   "source": [
    "class LSTMModel(nn.Module):\n",
    "    def __init__(self, input_size=1, hidden_layer_size=32, num_layers=2, output_size=1, dropout=0.2):\n",
    "        super().__init__()\n",
    "        self.hidden_layer_size = hidden_layer_size\n",
    "\n",
    "        self.linear_1 = nn.Linear(input_size, hidden_layer_size)\n",
    "        self.relu = nn.ReLU()\n",
    "        self.lstm = nn.LSTM(hidden_layer_size, hidden_size=self.hidden_layer_size, num_layers=num_layers, batch_first=True)\n",
    "        self.dropout = nn.Dropout(dropout)\n",
    "        self.linear_2 = nn.Linear(num_layers*hidden_layer_size, output_size)\n",
    "        \n",
    "\n",
    "    def forward(self, x):\n",
    "        batchsize = x.shape[0]\n",
    "\n",
    "        # layer 1\n",
    "        x = self.linear_1(x)\n",
    "        x = self.relu(x)\n",
    "        \n",
    "        # LSTM layer\n",
    "        lstm_out, (h_n, c_n) = self.lstm(x)\n",
    "\n",
    "        # Floating\n",
    "        x = h_n.permute(1, 0, 2).reshape(batchsize, -1) \n",
    "        \n",
    "        # layer 2\n",
    "        x = self.dropout(x)\n",
    "        predictions = self.linear_2(x)\n",
    "        return predictions[:,-1]"
   ]
  },
  {
   "cell_type": "code",
   "execution_count": null,
   "id": "e5916a71",
   "metadata": {},
   "outputs": [],
   "source": [
    "lstm_train = data[:-277648]\n",
    "lstm_test =  data[-277648:]\n",
    "\n",
    "mean = lstm_train.mean()\n",
    "std = lstm_train.std()\n",
    "#sigmastest = np.abs(test - mean)\n",
    "train_norm = (lstm_train - mean)/std\n",
    "test_norm = (lstm_test - mean)/std\n",
    "\n",
    "train_norm = torch.FloatTensor(train_norm).view(-1)\n",
    "test_norm = torch.FloatTensor(test_norm).view(-1)"
   ]
  },
  {
   "cell_type": "code",
   "execution_count": null,
   "id": "d079c051",
   "metadata": {},
   "outputs": [],
   "source": []
  },
  {
   "cell_type": "code",
   "execution_count": 4,
   "id": "857f85dc",
   "metadata": {},
   "outputs": [],
   "source": [
    "mean = data.mean()\n",
    "std = data.std()\n",
    "\n",
    "norm_data = torch.FloatTensor((data - mean) / std).view(-1)"
   ]
  },
  {
   "cell_type": "code",
   "execution_count": 5,
   "id": "40f23c66",
   "metadata": {},
   "outputs": [],
   "source": [
    "train_window = 20\n",
    "\n",
    "def create_inout_sequences(input_data, tw):\n",
    "    inout_seq = []\n",
    "    L = len(input_data)\n",
    "    for i in range(L-tw):\n",
    "        train_seq = input_data[i:i+tw]\n",
    "        train_label = input_data[i+tw:i+tw+1]\n",
    "        inout_seq.append((train_seq ,train_label))\n",
    "    return inout_seq\n",
    "\n",
    "#train_inout_seq = create_inout_sequences(train_norm, train_window)\n",
    "#test_inout_seq = create_inout_sequences(test_norm, train_window)"
   ]
  },
  {
   "cell_type": "markdown",
   "id": "98d81ad0",
   "metadata": {},
   "source": [
    "Размеры я посмотрел в visualisation"
   ]
  },
  {
   "cell_type": "code",
   "execution_count": 6,
   "id": "d2d10ba0",
   "metadata": {},
   "outputs": [],
   "source": [
    "train_inout_seq = create_inout_sequences(norm_data[:162927] , train_window)\n",
    "train_inout_seq += create_inout_sequences(norm_data[217237:217237 + 270000], train_window)\n",
    "train_inout_seq += create_inout_sequences(norm_data[217237 + 360001: 217237 + 360001 + 235449], train_window)\n",
    "train_inout_seq += create_inout_sequences(norm_data[217237 + 360001 + 313933: 217237 + 360001 + 313933 + 212409], train_window)\n",
    "train_inout_seq += create_inout_sequences(norm_data[217237 + 360001 + 313933 + 283213:217237 + 360001 + 313933 + 283213 + 208236], train_window)\n",
    "\n",
    "\n",
    "test_inout_seq = create_inout_sequences(norm_data[162927:217237], train_window)\n",
    "test_inout_seq += create_inout_sequences(norm_data[217237 + 270000:217237 + 360001], train_window)\n",
    "test_inout_seq += create_inout_sequences(norm_data[217237 + 360001 + 235449: 217237 + 360001 + 313933], train_window)\n",
    "test_inout_seq += create_inout_sequences(norm_data[217237 + 360001 + 313933 + 212409:217237 + 360001 + 313933 + 283213], train_window)\n",
    "test_inout_seq += create_inout_sequences(norm_data[217237 + 360001 + 313933 + 283213 + 208236:], train_window)"
   ]
  },
  {
   "cell_type": "code",
   "execution_count": null,
   "id": "f9fa05f7",
   "metadata": {},
   "outputs": [],
   "source": [
    "train_dataloader = DataLoader(train_inout_seq, batch_size=64, shuffle=True, drop_last=True)\n",
    "test_dataloader = DataLoader(test_inout_seq, batch_size=64, shuffle=False, drop_last=True)"
   ]
  },
  {
   "cell_type": "code",
   "execution_count": null,
   "id": "93633964",
   "metadata": {},
   "outputs": [],
   "source": [
    "model_lstm = LSTMModel(input_size=1, hidden_layer_size=100, num_layers=2, output_size=1, dropout=0.2)\n",
    "model_lstm = model_lstm.to('cuda')"
   ]
  },
  {
   "cell_type": "code",
   "execution_count": null,
   "id": "00385647",
   "metadata": {},
   "outputs": [],
   "source": [
    "def run_epoch(model, dataloader, is_training=False):\n",
    "    epoch_loss = 0\n",
    "\n",
    "    if is_training:\n",
    "        model.train()\n",
    "    else:\n",
    "        model.eval()\n",
    "\n",
    "    for idx, (x, y) in enumerate(dataloader):\n",
    "        if is_training:\n",
    "            optimizer.zero_grad()\n",
    "\n",
    "        batchsize = x.shape[0]\n",
    "\n",
    "        x = torch.reshape(x, (64, 20, 1)).to('cuda')\n",
    "        y = y.view(-1).to('cuda')\n",
    "\n",
    "        out = model(x)\n",
    "        loss = criterion(out.contiguous(), y.contiguous())\n",
    "\n",
    "        if is_training:\n",
    "            loss.backward()\n",
    "            optimizer.step()\n",
    "\n",
    "        epoch_loss += (loss.detach().item() / batchsize)\n",
    "\n",
    "\n",
    "    return epoch_loss"
   ]
  },
  {
   "cell_type": "code",
   "execution_count": null,
   "id": "0e075167",
   "metadata": {},
   "outputs": [],
   "source": [
    "# define optimizer and loss function\n",
    "criterion = nn.MSELoss()\n",
    "optimizer = optim.Adam(model_lstm.parameters(), lr=0.001, betas=(0.9, 0.999), eps=1e-9)\n",
    "lr = 0.001\n",
    "epochs = 175\n",
    "\n",
    "losses_train = []\n",
    "losses_test = []\n",
    "best_loss = 10e9\n",
    "\n",
    "# begin training\n",
    "for epoch in range(epochs): \n",
    "    if epoch > 20:\n",
    "        lr = 0.0005\n",
    "    if epoch > 100:\n",
    "        lr = 0.0001\n",
    "    optimizer = optim.Adam(model_lstm.parameters(), lr=lr, betas=(0.9, 0.999), eps=1e-9)    \n",
    "    loss_train = run_epoch(model_lstm, train_dataloader, is_training=True)\n",
    "    loss_val = run_epoch(model_lstm, test_dataloader)\n",
    "    losses_train.append(loss_train)\n",
    "    losses_test.append(loss_val)\n",
    "    \n",
    "    if losses_test[-1] < best_loss:\n",
    "        best_loss = losses_test[-1]\n",
    "        torch.save(model_lstm.state_dict(), \"./LSTMMiseAllData\")\n",
    "    \n",
    "    clear_output(True)\n",
    "    fig = plt.figure(figsize=(10, 9))\n",
    "    \n",
    "    ax_1 = fig.add_subplot(2, 1, 1)\n",
    "    ax_2 = fig.add_subplot(2, 1, 2)\n",
    "    ax_1.set_title('train')\n",
    "    ax_1.plot(losses_train)\n",
    "    ax_2.set_title('test')\n",
    "    ax_2.plot(losses_test)\n",
    "    plt.show()\n",
    "    \n",
    "    print('Epoch[{}/{}] | loss train:{:.6f}, test:{:.6f}'\n",
    "              .format(epoch+1, epochs, loss_train, loss_val))"
   ]
  }
 ],
 "metadata": {
  "kernelspec": {
   "display_name": "Python 3 (ipykernel)",
   "language": "python",
   "name": "python3"
  },
  "language_info": {
   "codemirror_mode": {
    "name": "ipython",
    "version": 3
   },
   "file_extension": ".py",
   "mimetype": "text/x-python",
   "name": "python",
   "nbconvert_exporter": "python",
   "pygments_lexer": "ipython3",
   "version": "3.10.4"
  }
 },
 "nbformat": 4,
 "nbformat_minor": 5
}
