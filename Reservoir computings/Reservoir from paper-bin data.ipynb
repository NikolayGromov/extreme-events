{
 "cells": [
  {
   "cell_type": "code",
   "execution_count": 10,
   "id": "22dd7194",
   "metadata": {},
   "outputs": [],
   "source": [
    "import numpy as np\n",
    "import matplotlib.pyplot as plt\n",
    "from scipy import linalg\n",
    "from scipy.integrate import solve_ivp\n",
    "from tqdm import tqdm\n",
    "# numpy.linalg is also an option for even fewer dependencies"
   ]
  },
  {
   "cell_type": "code",
   "execution_count": 11,
   "id": "4d050829",
   "metadata": {},
   "outputs": [
    {
     "data": {
      "text/plain": [
       "Text(0.5, 1.0, 'A sample of data')"
      ]
     },
     "execution_count": 11,
     "metadata": {},
     "output_type": "execute_result"
    },
    {
     "data": {
      "image/png": "[encoded data removed]",
      "text/plain": [
       "<Figure size 432x288 with 1 Axes>"
      ]
     },
     "metadata": {
      "needs_background": "light"
     },
     "output_type": "display_data"
    }
   ],
   "source": [
    "# load the data\n",
    "trainLen = 1250000\n",
    "testLen = 249999\n",
    "initLen = 0\n",
    "data = np.load(\"data/DK_time_series_3000000.npy\")\n",
    "\n",
    "# plot some of it\n",
    "plt.figure(10).clear()\n",
    "plt.plot(data[:1000])\n",
    "plt.title('A sample of data')"
   ]
  },
  {
   "cell_type": "code",
   "execution_count": 12,
   "id": "5f886fcb",
   "metadata": {},
   "outputs": [],
   "source": [
    "def amp_to_int(x, n=256):\n",
    "    ### x.min must be negative\n",
    "    step = (x.max() - x.min()) / n\n",
    "    ans = np.zeros_like(x)\n",
    "    for i, val in enumerate(np.arange(x.min(), x.max(), step)):\n",
    "        for j in range(len(x)):\n",
    "            if val <= x[j] < val + step:\n",
    "                ans[j] = i\n",
    "                \n",
    "    return ans\n",
    "\n",
    "\n",
    "def int_to_amp(x, x_true, n=256):\n",
    "    ### x.min must be negative\n",
    "    step = (x_true.max() - x_true.min()) / n\n",
    "    ans = np.zeros_like(x, dtype=float)\n",
    "    #for j in range(len(x)):\n",
    "    ans = x_true.min() + x * step\n",
    "                \n",
    "    return ans        \n",
    "    "
   ]
  },
  {
   "cell_type": "code",
   "execution_count": 13,
   "id": "555cd3dc",
   "metadata": {},
   "outputs": [],
   "source": [
    "def one_hot(x, num_channels=256):\n",
    "    x_o = np.zeros((256, len(x)), dtype=\"int\")\n",
    "    for i in tqdm(list(range(len(x)))):\n",
    "        x_o[int(x[i]), i] = 1\n",
    "    return x_o"
   ]
  },
  {
   "cell_type": "code",
   "execution_count": 14,
   "id": "6fc6b227",
   "metadata": {},
   "outputs": [
    {
     "name": "stderr",
     "output_type": "stream",
     "text": [
      "100%|███████████████████████████████████████████████████████████████████| 3000000/3000000 [00:02<00:00, 1399560.14it/s]\n"
     ]
    }
   ],
   "source": [
    "data_o = one_hot(amp_to_int(data))"
   ]
  },
  {
   "cell_type": "code",
   "execution_count": 15,
   "id": "73d07ec6",
   "metadata": {},
   "outputs": [],
   "source": [
    "#np.save(\"bin_data\", data_o)"
   ]
  },
  {
   "cell_type": "code",
   "execution_count": 16,
   "id": "8d7d6a67",
   "metadata": {},
   "outputs": [],
   "source": [
    "def ReservoirComputings(data, true_data, a=0.5, size=400, spectral_radius=0.001):\n",
    "\n",
    "\n",
    "\n",
    "    # generate the ESN reservoir\n",
    "    inSize = outSize = 256\n",
    "    resSize = size\n",
    "#     a = 0.5 # leaking rate\n",
    "    np.random.seed(42)\n",
    "    Win = (np.random.rand(resSize,inSize) - 0.5) * 1\n",
    "    W = (np.random.rand(resSize,resSize) - 0.5) * 2 \n",
    "    for i in range(resSize):\n",
    "        W[i][i] = 0\n",
    "    # normalizing and setting spectral radius (correct, slow):\n",
    "    print('Computing spectral radius...')\n",
    "    rhoW = max(abs(linalg.eig(W)[0]))\n",
    "    print('done.')\n",
    "    W *= spectral_radius / rhoW\n",
    "\n",
    "    # allocated memory for the design (collected states) matrix\n",
    "    X = np.zeros((inSize+resSize,trainLen-initLen))\n",
    "    # set the corresponding target matrix directly\n",
    "    Yt = data[None,initLen+1:trainLen+1] \n",
    "\n",
    "    # run the reservoir with the data and collect X\n",
    "    x = np.zeros((resSize,1))\n",
    "    for t in tqdm(range(trainLen)):\n",
    "        u = data[t]\n",
    "        \n",
    "        x = (1-a)*x + a*np.tanh(np.dot(Win, u).reshape((resSize,1)) + np.dot( W, x ) )\n",
    "        \n",
    "        if t >= initLen:\n",
    "            X[:,t-initLen] = np.concatenate((u.reshape((inSize, 1)),x))[:,0]\n",
    "    reservoir_end = x \n",
    "    # train the output by ridge regression\n",
    "    reg = 1e-8  # regularization coefficient\n",
    "    # direct equations from texts:\n",
    "    #X_T = X.T\n",
    "    #Wout = np.dot( np.dot(Yt,X_T), linalg.inv( np.dot(X,X_T) + \\\n",
    "    #    reg*np.eye(1+inSize+resSize) ) )\n",
    "    # using scipy.linalg.solve:\n",
    "    Wout = linalg.solve( np.dot(X,X.T) + reg*np.eye(inSize+resSize), \n",
    "        np.dot(X,Yt.T)).T\n",
    "\n",
    "    # run the trained ESN in a generative mode. no need to initialize here, \n",
    "    # because x is initialized with training data and we continue from there.\n",
    "    Y = np.zeros((outSize,testLen))\n",
    "    u = data[trainLen]\n",
    "    for t in tqdm(range(testLen)):\n",
    "        x = (1-a)*x + a*np.tanh(np.dot(Win, u).reshape((resSize,1)) + np.dot( W, x ) )\n",
    "        y = np.dot( Wout, np.concatenate((u.reshape((inSize, 1)),x)) )[0, :, 0]\n",
    "        Y[:,t] = np.argmax(y)\n",
    "        # generative mode:\n",
    "        #u = y\n",
    "        ## this would be a predictive mode:\n",
    "        u = data[trainLen+t+1] \n",
    "        \n",
    "    # compute MSE for the first errorLen time steps\n",
    "    errorLen = testLen\n",
    "    mse = sum( np.square( true_data[trainLen+1:trainLen+errorLen+1] - \n",
    "        int_to_amp(Y[0,0:errorLen], true_data) ) ) / errorLen\n",
    "    print('MSE = ' + str( mse ))\n",
    "    \n",
    "    return (mse, reservoir_end, Wout, Win, W)\n",
    "\n",
    "    # # plot some signals\n",
    "    # plt.figure(1).clear()\n",
    "    # plt.plot( data[trainLen+1:trainLen+testLen+1], 'g' )\n",
    "    # plt.plot( Y.T, 'b' )\n",
    "    # plt.title('Target and generated signals $y(n)$ starting at $n=0$')\n",
    "    # plt.legend(['Target signal', 'Free-running predicted signal'])\n",
    "\n",
    "    # plt.figure(2).clear()\n",
    "    # plt.plot( X[0:20,0:200].T )\n",
    "    # plt.title(r'Some reservoir activations $\\mathbf{x}(n)$')\n",
    "\n",
    "    # plt.figure(3).clear()\n",
    "    # plt.bar( np.arange(1+inSize+resSize), Wout[0].T )\n",
    "    # plt.title(r'Output weights $\\mathbf{W}^{out}$')\n",
    "\n",
    "    # plt.show()"
   ]
  },
  {
   "cell_type": "code",
   "execution_count": 7,
   "id": "34864019",
   "metadata": {},
   "outputs": [
    {
     "name": "stdout",
     "output_type": "stream",
     "text": [
      "Computing spectral radius...\n",
      "done.\n"
     ]
    },
    {
     "name": "stderr",
     "output_type": "stream",
     "text": [
      "100%|█████████████████████████████████████████████████████████████████████| 1250000/1250000 [01:25<00:00, 14686.59it/s]\n"
     ]
    }
   ],
   "source": [
    "res1, reservoir_end, Wout, Win, W = ReservoirComputings(data_o.T)"
   ]
  },
  {
   "cell_type": "code",
   "execution_count": 15,
   "id": "cf7a2064",
   "metadata": {},
   "outputs": [],
   "source": [
    "parameters = {\"a\":[0.2, 0.4, 0.6, 0.8], \"size\":[400, 1000], \"spectral_radius\":[0.001, 0.01]}"
   ]
  },
  {
   "cell_type": "code",
   "execution_count": 16,
   "id": "9cc03b4e",
   "metadata": {},
   "outputs": [
    {
     "name": "stdout",
     "output_type": "stream",
     "text": [
      "sr= 0.001\n",
      "size= 400\n",
      "a= 0.2\n",
      "Computing spectral radius...\n",
      "done.\n"
     ]
    },
    {
     "name": "stderr",
     "output_type": "stream",
     "text": [
      "100%|█████████████████████████████████████████████████████████████████████| 1250000/1250000 [01:24<00:00, 14706.05it/s]\n",
      "100%|████████████████████████████████████████████████████████████████████████| 249999/249999 [00:26<00:00, 9508.26it/s]\n"
     ]
    },
    {
     "name": "stdout",
     "output_type": "stream",
     "text": [
      "MSE = 0.24076625062610676\n",
      "sr= 0.01\n",
      "size= 400\n",
      "a= 0.2\n",
      "Computing spectral radius...\n",
      "done.\n"
     ]
    },
    {
     "name": "stderr",
     "output_type": "stream",
     "text": [
      "100%|█████████████████████████████████████████████████████████████████████| 1250000/1250000 [01:24<00:00, 14819.82it/s]\n",
      "100%|████████████████████████████████████████████████████████████████████████| 249999/249999 [00:25<00:00, 9839.48it/s]\n"
     ]
    },
    {
     "name": "stdout",
     "output_type": "stream",
     "text": [
      "MSE = 0.24049387407108605\n",
      "sr= 0.001\n",
      "size= 1000\n",
      "a= 0.2\n",
      "Computing spectral radius...\n",
      "done.\n"
     ]
    },
    {
     "name": "stderr",
     "output_type": "stream",
     "text": [
      "100%|██████████████████████████████████████████████████████████████████████| 1250000/1250000 [05:29<00:00, 3792.05it/s]\n",
      "100%|████████████████████████████████████████████████████████████████████████| 249999/249999 [02:00<00:00, 2080.18it/s]\n"
     ]
    },
    {
     "name": "stdout",
     "output_type": "stream",
     "text": [
      "MSE = 0.3054384008071665\n",
      "sr= 0.01\n",
      "size= 1000\n",
      "a= 0.2\n",
      "Computing spectral radius...\n",
      "done.\n"
     ]
    },
    {
     "name": "stderr",
     "output_type": "stream",
     "text": [
      "100%|██████████████████████████████████████████████████████████████████████| 1250000/1250000 [05:49<00:00, 3576.24it/s]\n",
      "100%|████████████████████████████████████████████████████████████████████████| 249999/249999 [01:48<00:00, 2313.82it/s]\n"
     ]
    },
    {
     "name": "stdout",
     "output_type": "stream",
     "text": [
      "MSE = 0.3069404017997643\n",
      "sr= 0.001\n",
      "size= 400\n",
      "a= 0.4\n",
      "Computing spectral radius...\n",
      "done.\n"
     ]
    },
    {
     "name": "stderr",
     "output_type": "stream",
     "text": [
      "100%|█████████████████████████████████████████████████████████████████████| 1250000/1250000 [01:23<00:00, 14918.63it/s]\n",
      "100%|████████████████████████████████████████████████████████████████████████| 249999/249999 [00:25<00:00, 9673.58it/s]\n"
     ]
    },
    {
     "name": "stdout",
     "output_type": "stream",
     "text": [
      "MSE = 0.32399494200320017\n",
      "sr= 0.01\n",
      "size= 400\n",
      "a= 0.4\n",
      "Computing spectral radius...\n",
      "done.\n"
     ]
    },
    {
     "name": "stderr",
     "output_type": "stream",
     "text": [
      "100%|█████████████████████████████████████████████████████████████████████| 1250000/1250000 [01:22<00:00, 15118.35it/s]\n",
      "100%|████████████████████████████████████████████████████████████████████████| 249999/249999 [00:25<00:00, 9667.14it/s]\n"
     ]
    },
    {
     "name": "stdout",
     "output_type": "stream",
     "text": [
      "MSE = 0.32378110125057463\n",
      "sr= 0.001\n",
      "size= 1000\n",
      "a= 0.4\n",
      "Computing spectral radius...\n",
      "done.\n"
     ]
    },
    {
     "name": "stderr",
     "output_type": "stream",
     "text": [
      "100%|██████████████████████████████████████████████████████████████████████| 1250000/1250000 [05:40<00:00, 3669.36it/s]\n",
      "100%|████████████████████████████████████████████████████████████████████████| 249999/249999 [01:46<00:00, 2345.23it/s]\n"
     ]
    },
    {
     "name": "stdout",
     "output_type": "stream",
     "text": [
      "MSE = 0.30324723571404616\n",
      "sr= 0.01\n",
      "size= 1000\n",
      "a= 0.4\n",
      "Computing spectral radius...\n",
      "done.\n"
     ]
    },
    {
     "name": "stderr",
     "output_type": "stream",
     "text": [
      "100%|██████████████████████████████████████████████████████████████████████| 1250000/1250000 [05:29<00:00, 3791.95it/s]\n",
      "100%|████████████████████████████████████████████████████████████████████████| 249999/249999 [01:53<00:00, 2193.79it/s]\n"
     ]
    },
    {
     "name": "stdout",
     "output_type": "stream",
     "text": [
      "MSE = 0.30521853126829057\n",
      "sr= 0.001\n",
      "size= 400\n",
      "a= 0.6\n",
      "Computing spectral radius...\n",
      "done.\n"
     ]
    },
    {
     "name": "stderr",
     "output_type": "stream",
     "text": [
      "100%|█████████████████████████████████████████████████████████████████████| 1250000/1250000 [01:25<00:00, 14592.05it/s]\n",
      "100%|████████████████████████████████████████████████████████████████████████| 249999/249999 [00:25<00:00, 9904.60it/s]\n"
     ]
    },
    {
     "name": "stdout",
     "output_type": "stream",
     "text": [
      "MSE = 0.36982955160962033\n",
      "sr= 0.01\n",
      "size= 400\n",
      "a= 0.6\n",
      "Computing spectral radius...\n",
      "done.\n"
     ]
    },
    {
     "name": "stderr",
     "output_type": "stream",
     "text": [
      "100%|█████████████████████████████████████████████████████████████████████| 1250000/1250000 [01:20<00:00, 15455.87it/s]\n",
      "100%|████████████████████████████████████████████████████████████████████████| 249999/249999 [00:25<00:00, 9942.22it/s]\n"
     ]
    },
    {
     "name": "stdout",
     "output_type": "stream",
     "text": [
      "MSE = 0.3696859956525391\n",
      "sr= 0.001\n",
      "size= 1000\n",
      "a= 0.6\n",
      "Computing spectral radius...\n",
      "done.\n"
     ]
    },
    {
     "name": "stderr",
     "output_type": "stream",
     "text": [
      "100%|██████████████████████████████████████████████████████████████████████| 1250000/1250000 [05:23<00:00, 3866.46it/s]\n"
     ]
    },
    {
     "ename": "MemoryError",
     "evalue": "Unable to allocate 2.38 GiB for an array with shape (256, 1250000, 1) and data type float64",
     "output_type": "error",
     "traceback": [
      "\u001b[1;31m---------------------------------------------------------------------------\u001b[0m",
      "\u001b[1;31mMemoryError\u001b[0m                               Traceback (most recent call last)",
      "Input \u001b[1;32mIn [16]\u001b[0m, in \u001b[0;36m<cell line: 2>\u001b[1;34m()\u001b[0m\n\u001b[0;32m      6\u001b[0m \u001b[38;5;28mprint\u001b[39m(\u001b[38;5;124m\"\u001b[39m\u001b[38;5;124msize=\u001b[39m\u001b[38;5;124m\"\u001b[39m, size)\n\u001b[0;32m      7\u001b[0m \u001b[38;5;28mprint\u001b[39m(\u001b[38;5;124m\"\u001b[39m\u001b[38;5;124ma=\u001b[39m\u001b[38;5;124m\"\u001b[39m, a)\n\u001b[1;32m----> 9\u001b[0m results\u001b[38;5;241m.\u001b[39mappend([\u001b[43mReservoirComputings\u001b[49m\u001b[43m(\u001b[49m\u001b[43mdata_o\u001b[49m\u001b[38;5;241;43m.\u001b[39;49m\u001b[43mT\u001b[49m\u001b[43m,\u001b[49m\u001b[43m \u001b[49m\u001b[43mdata\u001b[49m\u001b[43m,\u001b[49m\u001b[43m \u001b[49m\u001b[43ma\u001b[49m\u001b[43m,\u001b[49m\u001b[43m \u001b[49m\u001b[43msize\u001b[49m\u001b[43m,\u001b[49m\u001b[43m \u001b[49m\u001b[43msr\u001b[49m\u001b[43m)\u001b[49m])\n",
      "Input \u001b[1;32mIn [14]\u001b[0m, in \u001b[0;36mReservoirComputings\u001b[1;34m(data, true_data, a, size, spectral_radius)\u001b[0m\n\u001b[0;32m     36\u001b[0m reg \u001b[38;5;241m=\u001b[39m \u001b[38;5;241m1e-8\u001b[39m  \u001b[38;5;66;03m# regularization coefficient\u001b[39;00m\n\u001b[0;32m     37\u001b[0m \u001b[38;5;66;03m# direct equations from texts:\u001b[39;00m\n\u001b[0;32m     38\u001b[0m \u001b[38;5;66;03m#X_T = X.T\u001b[39;00m\n\u001b[0;32m     39\u001b[0m \u001b[38;5;66;03m#Wout = np.dot( np.dot(Yt,X_T), linalg.inv( np.dot(X,X_T) + \\\u001b[39;00m\n\u001b[0;32m     40\u001b[0m \u001b[38;5;66;03m#    reg*np.eye(1+inSize+resSize) ) )\u001b[39;00m\n\u001b[0;32m     41\u001b[0m \u001b[38;5;66;03m# using scipy.linalg.solve:\u001b[39;00m\n\u001b[0;32m     42\u001b[0m Wout \u001b[38;5;241m=\u001b[39m linalg\u001b[38;5;241m.\u001b[39msolve( np\u001b[38;5;241m.\u001b[39mdot(X,X\u001b[38;5;241m.\u001b[39mT) \u001b[38;5;241m+\u001b[39m reg\u001b[38;5;241m*\u001b[39mnp\u001b[38;5;241m.\u001b[39meye(inSize\u001b[38;5;241m+\u001b[39mresSize), \n\u001b[1;32m---> 43\u001b[0m     \u001b[43mnp\u001b[49m\u001b[38;5;241;43m.\u001b[39;49m\u001b[43mdot\u001b[49m\u001b[43m(\u001b[49m\u001b[43mX\u001b[49m\u001b[43m,\u001b[49m\u001b[43mYt\u001b[49m\u001b[38;5;241;43m.\u001b[39;49m\u001b[43mT\u001b[49m\u001b[43m)\u001b[49m)\u001b[38;5;241m.\u001b[39mT\n\u001b[0;32m     45\u001b[0m \u001b[38;5;66;03m# run the trained ESN in a generative mode. no need to initialize here, \u001b[39;00m\n\u001b[0;32m     46\u001b[0m \u001b[38;5;66;03m# because x is initialized with training data and we continue from there.\u001b[39;00m\n\u001b[0;32m     47\u001b[0m Y \u001b[38;5;241m=\u001b[39m np\u001b[38;5;241m.\u001b[39mzeros((outSize,testLen))\n",
      "File \u001b[1;32m<__array_function__ internals>:5\u001b[0m, in \u001b[0;36mdot\u001b[1;34m(*args, **kwargs)\u001b[0m\n",
      "\u001b[1;31mMemoryError\u001b[0m: Unable to allocate 2.38 GiB for an array with shape (256, 1250000, 1) and data type float64"
     ]
    }
   ],
   "source": [
    "results = []\n",
    "for a in parameters[\"a\"]:\n",
    "    for size in parameters[\"size\"]:\n",
    "        for sr in parameters[\"spectral_radius\"]:\n",
    "            print(\"sr=\", sr)\n",
    "            print(\"size=\", size)\n",
    "            print(\"a=\", a)\n",
    "            \n",
    "            results.append([ReservoirComputings(data_o.T, data, a, size, sr)])"
   ]
  },
  {
   "cell_type": "code",
   "execution_count": 7,
   "id": "e26eed2b",
   "metadata": {},
   "outputs": [],
   "source": [
    "parameters = {\"a\":[0.6, 0.8], \"size\":[400, 1000], \"spectral_radius\":[0.001, 0.01]}"
   ]
  },
  {
   "cell_type": "code",
   "execution_count": null,
   "id": "77b4a426",
   "metadata": {},
   "outputs": [
    {
     "name": "stdout",
     "output_type": "stream",
     "text": [
      "sr= 0.001\n",
      "size= 400\n",
      "a= 0.6\n",
      "Computing spectral radius...\n",
      "done.\n"
     ]
    },
    {
     "name": "stderr",
     "output_type": "stream",
     "text": [
      "100%|█████████████████████████████████████████████████████████████████████| 1250000/1250000 [01:20<00:00, 15457.72it/s]\n",
      "100%|████████████████████████████████████████████████████████████████████████| 249999/249999 [00:25<00:00, 9932.15it/s]\n"
     ]
    },
    {
     "name": "stdout",
     "output_type": "stream",
     "text": [
      "MSE = 0.36982955160962033\n",
      "sr= 0.01\n",
      "size= 400\n",
      "a= 0.6\n",
      "Computing spectral radius...\n",
      "done.\n"
     ]
    },
    {
     "name": "stderr",
     "output_type": "stream",
     "text": [
      "100%|█████████████████████████████████████████████████████████████████████| 1250000/1250000 [01:21<00:00, 15333.50it/s]\n",
      "100%|████████████████████████████████████████████████████████████████████████| 249999/249999 [00:25<00:00, 9828.65it/s]\n"
     ]
    },
    {
     "name": "stdout",
     "output_type": "stream",
     "text": [
      "MSE = 0.3696859956525391\n",
      "sr= 0.001\n",
      "size= 1000\n",
      "a= 0.6\n",
      "Computing spectral radius...\n",
      "done.\n"
     ]
    },
    {
     "name": "stderr",
     "output_type": "stream",
     "text": [
      "100%|██████████████████████████████████████████████████████████████████████| 1250000/1250000 [04:53<00:00, 4255.52it/s]\n",
      "100%|████████████████████████████████████████████████████████████████████████| 249999/249999 [01:12<00:00, 3461.72it/s]\n"
     ]
    },
    {
     "name": "stdout",
     "output_type": "stream",
     "text": [
      "MSE = 0.26440493961025713\n",
      "sr= 0.01\n",
      "size= 1000\n",
      "a= 0.6\n",
      "Computing spectral radius...\n",
      "done.\n"
     ]
    },
    {
     "name": "stderr",
     "output_type": "stream",
     "text": [
      "100%|██████████████████████████████████████████████████████████████████████| 1250000/1250000 [04:49<00:00, 4321.26it/s]\n",
      "100%|████████████████████████████████████████████████████████████████████████| 249999/249999 [01:56<00:00, 2149.88it/s]\n"
     ]
    },
    {
     "name": "stdout",
     "output_type": "stream",
     "text": [
      "MSE = 0.26630999566182034\n",
      "sr= 0.001\n",
      "size= 400\n",
      "a= 0.8\n",
      "Computing spectral radius...\n",
      "done.\n"
     ]
    },
    {
     "name": "stderr",
     "output_type": "stream",
     "text": [
      "100%|█████████████████████████████████████████████████████████████████████| 1250000/1250000 [01:24<00:00, 14865.28it/s]\n",
      "100%|████████████████████████████████████████████████████████████████████████| 249999/249999 [00:26<00:00, 9529.16it/s]\n"
     ]
    },
    {
     "name": "stdout",
     "output_type": "stream",
     "text": [
      "MSE = 0.3745905218965038\n",
      "sr= 0.01\n",
      "size= 400\n",
      "a= 0.8\n",
      "Computing spectral radius...\n",
      "done.\n"
     ]
    },
    {
     "name": "stderr",
     "output_type": "stream",
     "text": [
      "100%|█████████████████████████████████████████████████████████████████████| 1250000/1250000 [01:22<00:00, 15210.65it/s]\n",
      "100%|████████████████████████████████████████████████████████████████████████| 249999/249999 [00:26<00:00, 9529.01it/s]\n"
     ]
    },
    {
     "name": "stdout",
     "output_type": "stream",
     "text": [
      "MSE = 0.3733527980184817\n",
      "sr= 0.001\n",
      "size= 1000\n",
      "a= 0.8\n",
      "Computing spectral radius...\n",
      "done.\n"
     ]
    },
    {
     "name": "stderr",
     "output_type": "stream",
     "text": [
      " 59%|█████████████████████████████████████████▌                             | 732124/1250000 [03:15<02:12, 3916.38it/s]"
     ]
    }
   ],
   "source": [
    "results = []\n",
    "for a in parameters[\"a\"]:\n",
    "    for size in parameters[\"size\"]:\n",
    "        for sr in parameters[\"spectral_radius\"]:\n",
    "            print(\"sr=\", sr)\n",
    "            print(\"size=\", size)\n",
    "            print(\"a=\", a)\n",
    "            \n",
    "            results.append([ReservoirComputings(data_o.T, data, a, size, sr)])"
   ]
  },
  {
   "cell_type": "code",
   "execution_count": 8,
   "id": "59c838a5",
   "metadata": {},
   "outputs": [],
   "source": [
    "parameters = {\"a\":[0.8], \"size\":[1000], \"spectral_radius\":[0.001, 0.01]}"
   ]
  },
  {
   "cell_type": "code",
   "execution_count": null,
   "id": "c94c8db6",
   "metadata": {},
   "outputs": [
    {
     "name": "stdout",
     "output_type": "stream",
     "text": [
      "sr= 0.001\n",
      "size= 1000\n",
      "a= 0.8\n",
      "Computing spectral radius...\n",
      "done.\n"
     ]
    },
    {
     "name": "stderr",
     "output_type": "stream",
     "text": [
      "100%|██████████████████████████████████████████████████████████████████████| 1250000/1250000 [05:17<00:00, 3938.90it/s]\n",
      "100%|████████████████████████████████████████████████████████████████████████| 249999/249999 [02:09<00:00, 1923.43it/s]\n"
     ]
    },
    {
     "name": "stdout",
     "output_type": "stream",
     "text": [
      "MSE = 0.20653667441152074\n",
      "sr= 0.01\n",
      "size= 1000\n",
      "a= 0.8\n",
      "Computing spectral radius...\n",
      "done.\n"
     ]
    },
    {
     "name": "stderr",
     "output_type": "stream",
     "text": [
      " 90%|███████████████████████████████████████████████████████████████       | 1125699/1250000 [04:57<00:32, 3794.93it/s]"
     ]
    }
   ],
   "source": [
    "results = []\n",
    "for a in parameters[\"a\"]:\n",
    "    for size in parameters[\"size\"]:\n",
    "        for sr in parameters[\"spectral_radius\"]:\n",
    "            print(\"sr=\", sr)\n",
    "            print(\"size=\", size)\n",
    "            print(\"a=\", a)\n",
    "            \n",
    "            results.append([ReservoirComputings(data_o.T, data, a, size, sr)])"
   ]
  },
  {
   "cell_type": "code",
   "execution_count": 17,
   "id": "66b03c93",
   "metadata": {},
   "outputs": [],
   "source": [
    "parameters = {\"a\":[0.8], \"size\":[1000], \"spectral_radius\":[0.01]}"
   ]
  },
  {
   "cell_type": "code",
   "execution_count": 18,
   "id": "eda57098",
   "metadata": {},
   "outputs": [
    {
     "name": "stdout",
     "output_type": "stream",
     "text": [
      "sr= 0.01\n",
      "size= 1000\n",
      "a= 0.8\n",
      "Computing spectral radius...\n",
      "done.\n"
     ]
    },
    {
     "name": "stderr",
     "output_type": "stream",
     "text": [
      "100%|██████████████████████████████████████████████████████████████████████| 1250000/1250000 [05:31<00:00, 3775.92it/s]\n",
      "100%|████████████████████████████████████████████████████████████████████████| 249999/249999 [02:21<00:00, 1762.40it/s]\n"
     ]
    },
    {
     "name": "stdout",
     "output_type": "stream",
     "text": [
      "MSE = 0.20633303076957976\n"
     ]
    }
   ],
   "source": [
    "results = []\n",
    "for a in parameters[\"a\"]:\n",
    "    for size in parameters[\"size\"]:\n",
    "        for sr in parameters[\"spectral_radius\"]:\n",
    "            print(\"sr=\", sr)\n",
    "            print(\"size=\", size)\n",
    "            print(\"a=\", a)\n",
    "            \n",
    "            results.append([ReservoirComputings(data_o.T, data, a, size, sr)])"
   ]
  },
  {
   "cell_type": "code",
   "execution_count": 26,
   "id": "d8c43b28",
   "metadata": {},
   "outputs": [
    {
     "data": {
      "text/plain": [
       "45.063967212572926"
      ]
     },
     "execution_count": 26,
     "metadata": {},
     "output_type": "execute_result"
    }
   ],
   "source": [
    "results[0][0][2].max()"
   ]
  },
  {
   "cell_type": "code",
   "execution_count": 31,
   "id": "2cd569d3",
   "metadata": {},
   "outputs": [],
   "source": [
    "# np.save(\"model/reservoir_end_bin\", reservoir_end)\n",
    "# np.save(\"model/Wout_bin\", Wout)\n",
    "# np.save(\"model/Win_bin\", Win)\n",
    "# np.save(\"model/W_bin\", W)"
   ]
  },
  {
   "cell_type": "code",
   "execution_count": 27,
   "id": "6fe25384",
   "metadata": {},
   "outputs": [],
   "source": [
    "_, reservoir_end, Wout, Win, W = results[0][0]"
   ]
  },
  {
   "cell_type": "code",
   "execution_count": 37,
   "id": "b99038e5",
   "metadata": {},
   "outputs": [],
   "source": [
    "def GetRmseReservoir(reservoir_end, Wout, Win, W, data, a=0.8, size=1000, k=19):\n",
    "\n",
    "    all_predicts = np.empty((k, 1))\n",
    "    \n",
    "    \n",
    "    predicted_val = np.array([])\n",
    "    \n",
    "    r = reservoir_end\n",
    "    \n",
    "    resSize=size\n",
    "    \n",
    "    inSize = outSize = 256\n",
    "    \n",
    "    for t in tqdm(range(testLen)):\n",
    "        all_predicts = np.concatenate((all_predicts, np.zeros((k, 1))), axis=1)\n",
    "\n",
    "        u = data[trainLen+t]\n",
    "        r = (1-a)*r + a*np.tanh(np.dot(Win, u).reshape((resSize,1)) + np.dot( W, r ) )\n",
    "        cur_r = r\n",
    "        cur_u = u\n",
    "        for step in range(k):\n",
    "\n",
    "            out = np.dot( Wout, np.concatenate((cur_u.reshape((inSize, 1)),cur_r)))[0, :, 0]\n",
    "            all_predicts[step, -1] = np.argmax(out)\n",
    "            cur_u = np.zeros_like(u)\n",
    "            cur_u[np.argmax(out)] = 1\n",
    "            cur_r = (1-a)*cur_r + a*np.tanh(np.dot(Win, cur_u).reshape((resSize,1)) + np.dot( W, cur_r ) )\n",
    "\n",
    "\n",
    "    return all_predicts"
   ]
  },
  {
   "cell_type": "code",
   "execution_count": 38,
   "id": "824049d5",
   "metadata": {},
   "outputs": [
    {
     "name": "stderr",
     "output_type": "stream",
     "text": [
      "100%|████████████████████████████████████████████████████████████████████████| 249999/249999 [1:00:07<00:00, 69.30it/s]\n"
     ]
    }
   ],
   "source": [
    "all_predicts = GetRmseReservoir(reservoir_end, Wout, Win, W, data_o.T)"
   ]
  },
  {
   "cell_type": "code",
   "execution_count": 10,
   "id": "d135240c",
   "metadata": {},
   "outputs": [],
   "source": [
    "#np.save('predicts/all_predicts_bin_res', all_predicts)"
   ]
  },
  {
   "cell_type": "code",
   "execution_count": 43,
   "id": "f54db577",
   "metadata": {},
   "outputs": [],
   "source": [
    "np.save('predicts/all_predicts_bin_res_best_params', all_predicts)"
   ]
  },
  {
   "cell_type": "code",
   "execution_count": 39,
   "id": "711271be",
   "metadata": {},
   "outputs": [],
   "source": [
    "def CalcRMSE(x, y):\n",
    "    return (((x - y)**2).mean())**0.5"
   ]
  },
  {
   "cell_type": "code",
   "execution_count": 40,
   "id": "ca8c50cd",
   "metadata": {},
   "outputs": [
    {
     "name": "stderr",
     "output_type": "stream",
     "text": [
      "100%|█████████████████████████████████████████████████████████████████████████████████| 18/18 [00:00<00:00, 137.33it/s]\n"
     ]
    }
   ],
   "source": [
    "res_bin_rmses = []\n",
    "res_bin_rmses.append(CalcRMSE(int_to_amp(all_predicts[0][1:], data), data[trainLen+1:trainLen + testLen+1]))\n",
    "for i in tqdm(range(1, 19)):\n",
    "    res_bin_rmses.append(CalcRMSE(int_to_amp(all_predicts[i][1:], data, n=256)[:-i], data[trainLen+1+i:trainLen + testLen+1]))"
   ]
  },
  {
   "cell_type": "code",
   "execution_count": 41,
   "id": "dabbd05c",
   "metadata": {},
   "outputs": [
    {
     "data": {
      "text/plain": [
       "[0.45423895778497325,\n",
       " 0.4529140837886297,\n",
       " 0.5120752799947261,\n",
       " 0.5746794409021813,\n",
       " 0.6117279057057589,\n",
       " 0.7035415240333928,\n",
       " 0.78470101315335,\n",
       " 0.8450272417910758,\n",
       " 0.8886806411309635,\n",
       " 0.8867161071847558,\n",
       " 0.8848106519331105,\n",
       " 0.8867254877626963,\n",
       " 0.9082672188291951,\n",
       " 0.9079788197057427,\n",
       " 0.9119564743357579,\n",
       " 0.9118827906555556,\n",
       " 0.9135734217158241,\n",
       " 0.9219992619395389,\n",
       " 0.916927034874414]"
      ]
     },
     "execution_count": 41,
     "metadata": {},
     "output_type": "execute_result"
    }
   ],
   "source": [
    "res_bin_rmses"
   ]
  },
  {
   "cell_type": "code",
   "execution_count": 42,
   "id": "48d36b52",
   "metadata": {},
   "outputs": [
    {
     "data": {
      "text/plain": [
       "[<matplotlib.lines.Line2D at 0x23965fca260>]"
      ]
     },
     "execution_count": 42,
     "metadata": {},
     "output_type": "execute_result"
    },
    {
     "data": {
      "image/png": "[encoded data removed]",
      "text/plain": [
       "<Figure size 432x288 with 1 Axes>"
      ]
     },
     "metadata": {
      "needs_background": "light"
     },
     "output_type": "display_data"
    }
   ],
   "source": [
    "plt.plot(res_bin_rmses)"
   ]
  },
  {
   "cell_type": "code",
   "execution_count": 72,
   "id": "04940106",
   "metadata": {},
   "outputs": [
    {
     "data": {
      "text/plain": [
       "[<matplotlib.lines.Line2D at 0x14e8c021900>]"
      ]
     },
     "execution_count": 72,
     "metadata": {},
     "output_type": "execute_result"
    },
    {
     "data": {
      "image/png": "[encoded data removed]",
      "text/plain": [
       "<Figure size 432x288 with 1 Axes>"
      ]
     },
     "metadata": {
      "needs_background": "light"
     },
     "output_type": "display_data"
    }
   ],
   "source": [
    "i = 10\n",
    "plt.plot(int_to_amp(all_predicts[i][1:], data, n=256)[:-i][:1000])\n",
    "plt.plot(data[trainLen+i:trainLen + testLen][:1000])"
   ]
  },
  {
   "cell_type": "code",
   "execution_count": 59,
   "id": "17e89923",
   "metadata": {},
   "outputs": [
    {
     "data": {
      "text/plain": [
       "[<matplotlib.lines.Line2D at 0x14e89b36c20>]"
      ]
     },
     "execution_count": 59,
     "metadata": {},
     "output_type": "execute_result"
    },
    {
     "data": {
      "image/png": "[encoded data removed]",
      "text/plain": [
       "<Figure size 432x288 with 1 Axes>"
      ]
     },
     "metadata": {
      "needs_background": "light"
     },
     "output_type": "display_data"
    }
   ],
   "source": [
    "plt.plot(all_predicts[6])"
   ]
  },
  {
   "cell_type": "code",
   "execution_count": 64,
   "id": "6c0c8d11",
   "metadata": {},
   "outputs": [],
   "source": [
    "def GetRMSE(reservoir_end, Wout, Win, W, data):\n",
    "    a=0.5\n",
    "    inSize = outSize = 256\n",
    "    resSize = 400\n",
    "    Y = np.zeros((outSize,testLen))\n",
    "    u = data[trainLen]\n",
    "    x = reservoir_end\n",
    "    for t in tqdm(range(testLen)):\n",
    "        x = (1-a)*x + a*np.tanh(np.dot(Win, u).reshape((resSize,1)) + np.dot( W, x ) )\n",
    "        y = np.dot( Wout, np.concatenate((u.reshape((inSize, 1)),x)) )\n",
    "        Y[:,t] = y[0, :, 0]\n",
    "        # generative mode:\n",
    "        #u = y\n",
    "        ## this would be a predictive mode:\n",
    "        u = data[trainLen+t+1] \n",
    "    return Y"
   ]
  },
  {
   "cell_type": "code",
   "execution_count": 65,
   "id": "040f1966",
   "metadata": {},
   "outputs": [
    {
     "name": "stderr",
     "output_type": "stream",
     "text": [
      "100%|████████████████████████████████████████████████████████████████████████| 249999/249999 [00:27<00:00, 9189.18it/s]\n"
     ]
    }
   ],
   "source": [
    "res = GetRMSE(reservoir_end, Wout, Win, W, data_o.T)"
   ]
  },
  {
   "cell_type": "code",
   "execution_count": 67,
   "id": "c86c0dd2",
   "metadata": {},
   "outputs": [
    {
     "data": {
      "text/plain": [
       "0.740712639272934"
      ]
     },
     "execution_count": 67,
     "metadata": {},
     "output_type": "execute_result"
    }
   ],
   "source": [
    "CalcRMSE(int_to_amp(res.argmax(axis=0), data), data[trainLen:trainLen + testLen])"
   ]
  },
  {
   "cell_type": "code",
   "execution_count": 49,
   "id": "d69e90e7",
   "metadata": {},
   "outputs": [
    {
     "data": {
      "text/plain": [
       "[<matplotlib.lines.Line2D at 0x14e8dd165c0>]"
      ]
     },
     "execution_count": 49,
     "metadata": {},
     "output_type": "execute_result"
    },
    {
     "data": {
      "image/png": "[encoded data removed]",
      "text/plain": [
       "<Figure size 432x288 with 1 Axes>"
      ]
     },
     "metadata": {
      "needs_background": "light"
     },
     "output_type": "display_data"
    }
   ],
   "source": [
    "plt.plot(res.argmax(axis=0)[:1000])"
   ]
  },
  {
   "cell_type": "code",
   "execution_count": 50,
   "id": "d10b2852",
   "metadata": {},
   "outputs": [
    {
     "data": {
      "text/plain": [
       "[<matplotlib.lines.Line2D at 0x14e8dd80df0>]"
      ]
     },
     "execution_count": 50,
     "metadata": {},
     "output_type": "execute_result"
    },
    {
     "data": {
      "image/png": "[encoded data removed]",
      "text/plain": [
       "<Figure size 432x288 with 1 Axes>"
      ]
     },
     "metadata": {
      "needs_background": "light"
     },
     "output_type": "display_data"
    }
   ],
   "source": [
    "plt.plot((data_o).argmax(axis=0)[trainLen:trainLen + testLen][:1000])"
   ]
  }
 ],
 "metadata": {
  "kernelspec": {
   "display_name": "Python 3 (ipykernel)",
   "language": "python",
   "name": "python3"
  },
  "language_info": {
   "codemirror_mode": {
    "name": "ipython",
    "version": 3
   },
   "file_extension": ".py",
   "mimetype": "text/x-python",
   "name": "python",
   "nbconvert_exporter": "python",
   "pygments_lexer": "ipython3",
   "version": "3.10.4"
  }
 },
 "nbformat": 4,
 "nbformat_minor": 5
}
