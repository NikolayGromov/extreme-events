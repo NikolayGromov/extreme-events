{
 "cells": [
  {
   "cell_type": "code",
   "execution_count": 3,
   "id": "59ca4cd4",
   "metadata": {},
   "outputs": [
    {
     "data": {
      "text/plain": [
       "2-dimensional DeterministicIteratedMap\n",
       " deterministic: true\n",
       " discrete time: true\n",
       " in-place:      false\n",
       " dynamic rule:  henon_rule\n",
       " parameters:    [1.4, 0.3]\n",
       " time:          0\n",
       " state:         [0.0, 0.0]\n"
      ]
     },
     "execution_count": 3,
     "metadata": {},
     "output_type": "execute_result"
    }
   ],
   "source": [
    "# using Pkg\n",
    "# Pkg.add(\"DynamicalSystems\")\n",
    "# Pkg.add(\"PyPlot\")\n",
    "\n",
    "#using DynamicalSystems, PyPlot\n",
    "\n",
    "ds = Systems.henon()\n",
    "\n"
   ]
  },
  {
   "cell_type": "code",
   "execution_count": 13,
   "id": "d77b18ef",
   "metadata": {},
   "outputs": [
    {
     "data": {
      "text/plain": [
       "0:1:100000"
      ]
     },
     "execution_count": 13,
     "metadata": {},
     "output_type": "execute_result"
    }
   ],
   "source": [
    "data[2]"
   ]
  },
  {
   "cell_type": "code",
   "execution_count": 6,
   "id": "690d99fd",
   "metadata": {},
   "outputs": [
    {
     "ename": "LoadError",
     "evalue": "MethodError: no method matching getindex(::Tuple{StateSpaceSet{2, Float64}, StepRange{Int64, Int64}}, ::Colon, ::Int64)\n\n\u001b[0mClosest candidates are:\n\u001b[0m  getindex(::Tuple, ::Colon)\n\u001b[0m\u001b[90m   @\u001b[39m \u001b[90mBase\u001b[39m \u001b[90m\u001b[4mtuple.jl:33\u001b[24m\u001b[39m\n\u001b[0m  getindex(::Tuple, \u001b[91m::Int64\u001b[39m)\n\u001b[0m\u001b[90m   @\u001b[39m \u001b[90mBase\u001b[39m \u001b[90m\u001b[4mtuple.jl:29\u001b[24m\u001b[39m\n\u001b[0m  getindex(::Tuple, \u001b[91m::Integer\u001b[39m)\n\u001b[0m\u001b[90m   @\u001b[39m \u001b[90mBase\u001b[39m \u001b[90m\u001b[4mtuple.jl:30\u001b[24m\u001b[39m\n\u001b[0m  ...\n",
     "output_type": "error",
     "traceback": [
      "MethodError: no method matching getindex(::Tuple{StateSpaceSet{2, Float64}, StepRange{Int64, Int64}}, ::Colon, ::Int64)\n\n\u001b[0mClosest candidates are:\n\u001b[0m  getindex(::Tuple, ::Colon)\n\u001b[0m\u001b[90m   @\u001b[39m \u001b[90mBase\u001b[39m \u001b[90m\u001b[4mtuple.jl:33\u001b[24m\u001b[39m\n\u001b[0m  getindex(::Tuple, \u001b[91m::Int64\u001b[39m)\n\u001b[0m\u001b[90m   @\u001b[39m \u001b[90mBase\u001b[39m \u001b[90m\u001b[4mtuple.jl:29\u001b[24m\u001b[39m\n\u001b[0m  getindex(::Tuple, \u001b[91m::Integer\u001b[39m)\n\u001b[0m\u001b[90m   @\u001b[39m \u001b[90mBase\u001b[39m \u001b[90m\u001b[4mtuple.jl:30\u001b[24m\u001b[39m\n\u001b[0m  ...\n",
      "",
      "Stacktrace:",
      " [1] top-level scope",
      "   @ In[6]:2"
     ]
    }
   ],
   "source": [
    "#data = trajectory(ds, 100000)\n",
    "x = data[:, 1] #fake measurements for the win!\n",
    "\n",
    "# ks = 1:20\n",
    "# ℜ = 1:10000\n",
    "# fig = figure(figsize=(10,6))\n",
    "# i = 1\n"
   ]
  },
  {
   "cell_type": "code",
   "execution_count": 20,
   "id": "9772a3d0",
   "metadata": {},
   "outputs": [
    {
     "name": "stderr",
     "output_type": "stream",
     "text": [
      "\u001b[32m\u001b[1m   Resolving\u001b[22m\u001b[39m package versions...\n",
      "\u001b[32m\u001b[1m  No Changes\u001b[22m\u001b[39m to `C:\\Users\\gromo\\.julia\\environments\\v1.9\\Project.toml`\n",
      "\u001b[32m\u001b[1m  No Changes\u001b[22m\u001b[39m to `C:\\Users\\gromo\\.julia\\environments\\v1.9\\Manifest.toml`\n"
     ]
    }
   ],
   "source": [
    "using Pkg \n",
    "Pkg.add(\"NearestNeighbors\")"
   ]
  },
  {
   "cell_type": "code",
   "execution_count": 21,
   "id": "b705655c",
   "metadata": {},
   "outputs": [],
   "source": [
    "using DelimitedFiles\n",
    "using NearestNeighbors "
   ]
  },
  {
   "cell_type": "code",
   "execution_count": 22,
   "id": "f01cfe68",
   "metadata": {},
   "outputs": [
    {
     "data": {
      "text/plain": [
       "1"
      ]
     },
     "execution_count": 22,
     "metadata": {},
     "output_type": "execute_result"
    }
   ],
   "source": [
    "dataChild = open(\"data/child.txt\") do file\n",
    "    readdlm(file, '\\n', Float64)\n",
    "end\n",
    "x = dataChild\n",
    "\n",
    "ks = 1:20\n",
    "ℜ = 1:10000\n",
    "fig = figure(figsize=(10,6))\n",
    "i = 1"
   ]
  },
  {
   "cell_type": "code",
   "execution_count": 23,
   "id": "1faadfdb",
   "metadata": {},
   "outputs": [
    {
     "ename": "LoadError",
     "evalue": "UndefVarError: `FixedMassNeighborhood` not defined",
     "output_type": "error",
     "traceback": [
      "UndefVarError: `FixedMassNeighborhood` not defined",
      "",
      "Stacktrace:",
      " [1] top-level scope",
      "   @ .\\In[23]:4"
     ]
    }
   ],
   "source": [
    "for (i, di) in enumerate([Euclidean(), Cityblock()])\n",
    "  subplot(1, 2, i)\n",
    "  i+=1\n",
    "  method = FixedMassNeighborhood(2)\n",
    "\n",
    "  title(\"Distance: $(di)\", size = 18)\n",
    "  for D in [2, 4, 7]\n",
    "    R = Reconstruction(x, D, 1)\n",
    "    E = numericallyapunov(R, ks;\n",
    "    refstates = ℜ, distance = di, method = method)\n",
    "    # The following operation:\n",
    "    Δt = 1\n",
    "    λ = linear_region(ks.*Δt, E)[2]\n",
    "    # gives the linear slope, i.e. the Lyapunov exponent\n",
    "    plot(ks-1, E-E[1], label = \"D=$D, λ=$(round(λ, 3))\")\n",
    "    legend()\n",
    "    tight_layout()\n",
    "  end\n",
    "\n",
    "\n",
    "end"
   ]
  },
  {
   "cell_type": "code",
   "execution_count": 25,
   "id": "b9cabf89",
   "metadata": {},
   "outputs": [
    {
     "name": "stderr",
     "output_type": "stream",
     "text": [
      "\u001b[32m\u001b[1m   Resolving\u001b[22m\u001b[39m package versions...\n",
      "\u001b[32m\u001b[1m   Installed\u001b[22m\u001b[39m Libmount_jll ────────────── v2.35.0+0\n",
      "\u001b[32m\u001b[1m   Installed\u001b[22m\u001b[39m JpegTurbo_jll ───────────── v2.1.91+0\n",
      "\u001b[32m\u001b[1m   Installed\u001b[22m\u001b[39m libfdk_aac_jll ──────────── v2.0.2+0\n",
      "\u001b[32m\u001b[1m   Installed\u001b[22m\u001b[39m x265_jll ────────────────── v3.5.0+0\n",
      "\u001b[32m\u001b[1m   Installed\u001b[22m\u001b[39m ImageIO ─────────────────── v0.6.6\n",
      "\u001b[32m\u001b[1m   Installed\u001b[22m\u001b[39m TiffImages ──────────────── v0.6.4\n",
      "\u001b[32m\u001b[1m   Installed\u001b[22m\u001b[39m JpegTurbo ───────────────── v0.1.2\n",
      "\u001b[32m\u001b[1m   Installed\u001b[22m\u001b[39m AxisArrays ──────────────── v0.4.6\n",
      "\u001b[32m\u001b[1m   Installed\u001b[22m\u001b[39m Opus_jll ────────────────── v1.3.2+0\n",
      "\u001b[32m\u001b[1m   Installed\u001b[22m\u001b[39m StableHashTraits ────────── v0.3.1\n",
      "\u001b[32m\u001b[1m   Installed\u001b[22m\u001b[39m RelocatableFolders ──────── v1.0.0\n",
      "\u001b[32m\u001b[1m   Installed\u001b[22m\u001b[39m EarCut_jll ──────────────── v2.2.4+0\n",
      "\u001b[32m\u001b[1m   Installed\u001b[22m\u001b[39m Grisu ───────────────────── v1.0.2\n",
      "\u001b[32m\u001b[1m   Installed\u001b[22m\u001b[39m PNGFiles ────────────────── v0.3.17\n",
      "\u001b[32m\u001b[1m   Installed\u001b[22m\u001b[39m Sixel ───────────────────── v0.1.2\n",
      "\u001b[32m\u001b[1m   Installed\u001b[22m\u001b[39m OpenEXR ─────────────────── v0.3.2\n",
      "\u001b[32m\u001b[1m   Installed\u001b[22m\u001b[39m Qhull_jll ───────────────── v8.0.1003+0\n",
      "\u001b[32m\u001b[1m   Installed\u001b[22m\u001b[39m MiniQhull ───────────────── v0.4.0\n",
      "\u001b[32m\u001b[1m   Installed\u001b[22m\u001b[39m Xorg_libpthread_stubs_jll ─ v0.1.0+3\n",
      "\u001b[32m\u001b[1m   Installed\u001b[22m\u001b[39m Formatting ──────────────── v0.4.2\n",
      "\u001b[32m\u001b[1m   Installed\u001b[22m\u001b[39m CEnum ───────────────────── v0.4.2\n",
      "\u001b[32m\u001b[1m   Installed\u001b[22m\u001b[39m PlotUtils ───────────────── v1.3.5\n",
      "\u001b[32m\u001b[1m   Installed\u001b[22m\u001b[39m Cairo_jll ───────────────── v1.16.1+1\n",
      "\u001b[32m\u001b[1m   Installed\u001b[22m\u001b[39m FileIO ──────────────────── v1.16.1\n",
      "\u001b[32m\u001b[1m   Installed\u001b[22m\u001b[39m Libgpg_error_jll ────────── v1.42.0+0\n",
      "\u001b[32m\u001b[1m   Installed\u001b[22m\u001b[39m Fontconfig_jll ──────────── v2.13.93+0\n",
      "\u001b[32m\u001b[1m   Installed\u001b[22m\u001b[39m SignedDistanceFields ────── v0.4.0\n",
      "\u001b[32m\u001b[1m   Installed\u001b[22m\u001b[39m QhullMiniWrapper_jll ────── v1.0.0+1\n",
      "\u001b[32m\u001b[1m   Installed\u001b[22m\u001b[39m Xorg_libXau_jll ─────────── v1.0.9+4\n",
      "\u001b[32m\u001b[1m   Installed\u001b[22m\u001b[39m Netpbm ──────────────────── v1.1.0\n",
      "\u001b[32m\u001b[1m   Installed\u001b[22m\u001b[39m TupleTools ──────────────── v1.3.0\n",
      "\u001b[32m\u001b[1m   Installed\u001b[22m\u001b[39m FFMPEG ──────────────────── v0.4.1\n",
      "\u001b[32m\u001b[1m   Installed\u001b[22m\u001b[39m TriplotBase ─────────────── v0.1.0\n",
      "\u001b[32m\u001b[1m   Installed\u001b[22m\u001b[39m Pango_jll ───────────────── v1.50.9+0\n",
      "\u001b[32m\u001b[1m   Installed\u001b[22m\u001b[39m SIMD ────────────────────── v3.4.5\n",
      "\u001b[32m\u001b[1m   Installed\u001b[22m\u001b[39m Showoff ─────────────────── v1.0.3\n",
      "\u001b[32m\u001b[1m   Installed\u001b[22m\u001b[39m ScanByte ────────────────── v0.3.3\n",
      "\u001b[32m\u001b[1m   Installed\u001b[22m\u001b[39m PolygonOps ──────────────── v0.1.2\n",
      "\u001b[32m\u001b[1m   Installed\u001b[22m\u001b[39m Bzip2_jll ───────────────── v1.0.8+0\n",
      "\u001b[32m\u001b[1m   Installed\u001b[22m\u001b[39m HarfBuzz_jll ────────────── v2.8.1+1\n",
      "\u001b[32m\u001b[1m   Installed\u001b[22m\u001b[39m LZO_jll ─────────────────── v2.10.1+0\n",
      "\u001b[32m\u001b[1m   Installed\u001b[22m\u001b[39m isoband_jll ─────────────── v0.2.3+0\n",
      "\u001b[32m\u001b[1m   Installed\u001b[22m\u001b[39m QOI ─────────────────────── v1.0.0\n",
      "\u001b[32m\u001b[1m   Installed\u001b[22m\u001b[39m TranscodingStreams ──────── v0.9.13\n",
      "\u001b[32m\u001b[1m   Installed\u001b[22m\u001b[39m FriBidi_jll ─────────────── v1.0.10+0\n",
      "\u001b[32m\u001b[1m   Installed\u001b[22m\u001b[39m PkgVersion ──────────────── v0.3.2\n",
      "\u001b[32m\u001b[1m   Installed\u001b[22m\u001b[39m MathTeXEngine ───────────── v0.5.6\n",
      "\u001b[32m\u001b[1m   Installed\u001b[22m\u001b[39m ImageMetadata ───────────── v0.9.8\n",
      "\u001b[32m\u001b[1m   Installed\u001b[22m\u001b[39m UnicodeFun ──────────────── v0.4.1\n",
      "\u001b[32m\u001b[1m   Installed\u001b[22m\u001b[39m Graphics ────────────────── v1.1.2\n",
      "\u001b[32m\u001b[1m   Installed\u001b[22m\u001b[39m x264_jll ────────────────── v2021.5.5+0\n",
      "\u001b[32m\u001b[1m   Installed\u001b[22m\u001b[39m MappedArrays ────────────── v0.4.2\n",
      "\u001b[32m\u001b[1m   Installed\u001b[22m\u001b[39m FreeType2_jll ───────────── v2.10.4+0\n",
      "\u001b[32m\u001b[1m   Installed\u001b[22m\u001b[39m FreeType ────────────────── v4.0.0\n",
      "\u001b[32m\u001b[1m   Installed\u001b[22m\u001b[39m PaddedViews ─────────────── v0.5.12\n",
      "\u001b[32m\u001b[1m   Installed\u001b[22m\u001b[39m GridLayoutBase ──────────── v0.9.1\n",
      "\u001b[32m\u001b[1m   Installed\u001b[22m\u001b[39m MosaicViews ─────────────── v0.3.4\n",
      "\u001b[32m\u001b[1m   Installed\u001b[22m\u001b[39m libpng_jll ──────────────── v1.6.38+0\n",
      "\u001b[32m\u001b[1m   Installed\u001b[22m\u001b[39m Xorg_libxcb_jll ─────────── v1.13.0+3\n",
      "\u001b[32m\u001b[1m   Installed\u001b[22m\u001b[39m LazyModules ─────────────── v0.3.1\n",
      "\u001b[32m\u001b[1m   Installed\u001b[22m\u001b[39m libaom_jll ──────────────── v3.4.0+0\n",
      "\u001b[32m\u001b[1m   Installed\u001b[22m\u001b[39m Automa ──────────────────── v0.8.2\n",
      "\u001b[32m\u001b[1m   Installed\u001b[22m\u001b[39m ImageCore ───────────────── v0.9.4\n",
      "\u001b[32m\u001b[1m   Installed\u001b[22m\u001b[39m Xorg_libXext_jll ────────── v1.3.4+4\n",
      "\u001b[32m\u001b[1m   Installed\u001b[22m\u001b[39m Match ───────────────────── v1.2.0\n",
      "\u001b[32m\u001b[1m   Installed\u001b[22m\u001b[39m Expat_jll ───────────────── v2.4.8+0\n",
      "\u001b[32m\u001b[1m   Installed\u001b[22m\u001b[39m FreeTypeAbstraction ─────── v0.10.0\n",
      "\u001b[32m\u001b[1m   Installed\u001b[22m\u001b[39m Isoband ─────────────────── v0.1.1\n",
      "\u001b[32m\u001b[1m   Installed\u001b[22m\u001b[39m Imath_jll ───────────────── v3.1.7+0\n",
      "\u001b[32m\u001b[1m   Installed\u001b[22m\u001b[39m Extents ─────────────────── v0.1.1\n",
      "\u001b[32m\u001b[1m   Installed\u001b[22m\u001b[39m Packing ─────────────────── v0.5.0\n",
      "\u001b[32m\u001b[1m   Installed\u001b[22m\u001b[39m Libffi_jll ──────────────── v3.2.2+1\n",
      "\u001b[32m\u001b[1m   Installed\u001b[22m\u001b[39m Ogg_jll ─────────────────── v1.3.5+1\n",
      "\u001b[32m\u001b[1m   Installed\u001b[22m\u001b[39m Xorg_libXrender_jll ─────── v0.9.10+4\n",
      "\u001b[32m\u001b[1m   Installed\u001b[22m\u001b[39m AbstractTrees ───────────── v0.4.4\n",
      "\u001b[32m\u001b[1m   Installed\u001b[22m\u001b[39m KernelDensity ───────────── v0.6.7\n",
      "\u001b[32m\u001b[1m   Installed\u001b[22m\u001b[39m XSLT_jll ────────────────── v1.1.34+0\n",
      "\u001b[32m\u001b[1m   Installed\u001b[22m\u001b[39m Animations ──────────────── v0.4.1\n",
      "\u001b[32m\u001b[1m   Installed\u001b[22m\u001b[39m StackViews ──────────────── v0.1.1\n",
      "\u001b[32m\u001b[1m   Installed\u001b[22m\u001b[39m RangeArrays ─────────────── v0.3.2\n",
      "\u001b[32m\u001b[1m   Installed\u001b[22m\u001b[39m Libuuid_jll ─────────────── v2.36.0+0\n",
      "\u001b[32m\u001b[1m   Installed\u001b[22m\u001b[39m OpenEXR_jll ─────────────── v3.1.4+0\n",
      "\u001b[32m\u001b[1m   Installed\u001b[22m\u001b[39m libass_jll ──────────────── v0.15.1+0\n",
      "\u001b[32m\u001b[1m   Installed\u001b[22m\u001b[39m Graphite2_jll ───────────── v1.3.14+0\n",
      "\u001b[32m\u001b[1m   Installed\u001b[22m\u001b[39m ColorBrewer ─────────────── v0.4.0\n",
      "\u001b[32m\u001b[1m   Installed\u001b[22m\u001b[39m Pixman_jll ──────────────── v0.40.1+0\n",
      "\u001b[32m\u001b[1m   Installed\u001b[22m\u001b[39m XML2_jll ────────────────── v2.10.3+0\n",
      "\u001b[32m\u001b[1m   Installed\u001b[22m\u001b[39m ImageBase ───────────────── v0.1.5\n",
      "\u001b[32m\u001b[1m   Installed\u001b[22m\u001b[39m IntervalSets ────────────── v0.7.4\n",
      "\u001b[32m\u001b[1m   Installed\u001b[22m\u001b[39m Gettext_jll ─────────────── v0.21.0+0\n",
      "\u001b[32m\u001b[1m   Installed\u001b[22m\u001b[39m FFMPEG_jll ──────────────── v4.4.2+2\n",
      "\u001b[32m\u001b[1m   Installed\u001b[22m\u001b[39m OpenSSL_jll ─────────────── v1.1.20+0\n",
      "\u001b[32m\u001b[1m   Installed\u001b[22m\u001b[39m Xorg_xtrans_jll ─────────── v1.4.0+3\n",
      "\u001b[32m\u001b[1m   Installed\u001b[22m\u001b[39m IndirectArrays ──────────── v1.0.0\n",
      "\u001b[32m\u001b[1m   Installed\u001b[22m\u001b[39m Libgcrypt_jll ───────────── v1.8.7+0\n",
      "\u001b[32m\u001b[1m   Installed\u001b[22m\u001b[39m GeometryBasics ──────────── v0.4.7\n",
      "\u001b[32m\u001b[1m   Installed\u001b[22m\u001b[39m MakieCore ───────────────── v0.6.3\n",
      "\u001b[32m\u001b[1m   Installed\u001b[22m\u001b[39m Cairo ───────────────────── v1.0.5\n",
      "\u001b[32m\u001b[1m   Installed\u001b[22m\u001b[39m LAME_jll ────────────────── v3.100.1+0\n",
      "\u001b[32m\u001b[1m   Installed\u001b[22m\u001b[39m CairoMakie ──────────────── v0.10.5\n",
      "\u001b[32m\u001b[1m   Installed\u001b[22m\u001b[39m Libiconv_jll ────────────── v1.16.1+2\n",
      "\u001b[32m\u001b[1m   Installed\u001b[22m\u001b[39m StructArrays ────────────── v0.6.15\n",
      "\u001b[32m\u001b[1m   Installed\u001b[22m\u001b[39m libsixel_jll ────────────── v1.10.3+0\n",
      "\u001b[32m\u001b[1m   Installed\u001b[22m\u001b[39m ImageAxes ───────────────── v0.6.10\n",
      "\u001b[32m\u001b[1m   Installed\u001b[22m\u001b[39m Xorg_libX11_jll ─────────── v1.6.9+4\n",
      "\u001b[32m\u001b[1m   Installed\u001b[22m\u001b[39m Xorg_libXdmcp_jll ───────── v1.1.3+4\n",
      "\u001b[32m\u001b[1m   Installed\u001b[22m\u001b[39m Glib_jll ────────────────── v2.74.0+2\n",
      "\u001b[32m\u001b[1m   Installed\u001b[22m\u001b[39m libvorbis_jll ───────────── v1.3.7+1\n",
      "\u001b[32m\u001b[1m   Installed\u001b[22m\u001b[39m Observables ─────────────── v0.5.4\n",
      "\u001b[32m\u001b[1m   Installed\u001b[22m\u001b[39m GeoInterface ────────────── v1.3.1\n",
      "\u001b[32m\u001b[1m   Installed\u001b[22m\u001b[39m Makie ───────────────────── v0.19.5\n",
      "\u001b[32m\u001b[1m    Updating\u001b[22m\u001b[39m `C:\\Users\\gromo\\.julia\\environments\\v1.9\\Project.toml`\n",
      "  \u001b[90m[13f3f980] \u001b[39m\u001b[92m+ CairoMakie v0.10.5\u001b[39m\n",
      "\u001b[32m\u001b[1m    Updating\u001b[22m\u001b[39m `C:\\Users\\gromo\\.julia\\environments\\v1.9\\Manifest.toml`\n",
      "  \u001b[90m[1520ce14] \u001b[39m\u001b[92m+ AbstractTrees v0.4.4\u001b[39m\n",
      "  \u001b[90m[27a7e980] \u001b[39m\u001b[92m+ Animations v0.4.1\u001b[39m\n",
      "  \u001b[90m[67c07d97] \u001b[39m\u001b[92m+ Automa v0.8.2\u001b[39m\n",
      "  \u001b[90m[39de3d68] \u001b[39m\u001b[92m+ AxisArrays v0.4.6\u001b[39m\n",
      "  \u001b[90m[fa961155] \u001b[39m\u001b[92m+ CEnum v0.4.2\u001b[39m\n",
      "  \u001b[90m[159f3aea] \u001b[39m\u001b[92m+ Cairo v1.0.5\u001b[39m\n",
      "  \u001b[90m[13f3f980] \u001b[39m\u001b[92m+ CairoMakie v0.10.5\u001b[39m\n",
      "  \u001b[90m[a2cac450] \u001b[39m\u001b[92m+ ColorBrewer v0.4.0\u001b[39m\n",
      "  \u001b[90m[411431e0] \u001b[39m\u001b[92m+ Extents v0.1.1\u001b[39m\n",
      "  \u001b[90m[c87230d0] \u001b[39m\u001b[92m+ FFMPEG v0.4.1\u001b[39m\n",
      "  \u001b[90m[5789e2e9] \u001b[39m\u001b[92m+ FileIO v1.16.1\u001b[39m\n",
      "  \u001b[90m[59287772] \u001b[39m\u001b[92m+ Formatting v0.4.2\u001b[39m\n",
      "  \u001b[90m[b38be410] \u001b[39m\u001b[92m+ FreeType v4.0.0\u001b[39m\n",
      "  \u001b[90m[663a7486] \u001b[39m\u001b[92m+ FreeTypeAbstraction v0.10.0\u001b[39m\n",
      "  \u001b[90m[cf35fbd7] \u001b[39m\u001b[92m+ GeoInterface v1.3.1\u001b[39m\n",
      "  \u001b[90m[5c1252a2] \u001b[39m\u001b[92m+ GeometryBasics v0.4.7\u001b[39m\n",
      "  \u001b[90m[a2bd30eb] \u001b[39m\u001b[92m+ Graphics v1.1.2\u001b[39m\n",
      "  \u001b[90m[3955a311] \u001b[39m\u001b[92m+ GridLayoutBase v0.9.1\u001b[39m\n",
      "  \u001b[90m[42e2da0e] \u001b[39m\u001b[92m+ Grisu v1.0.2\u001b[39m\n",
      "  \u001b[90m[2803e5a7] \u001b[39m\u001b[92m+ ImageAxes v0.6.10\u001b[39m\n",
      "  \u001b[90m[c817782e] \u001b[39m\u001b[92m+ ImageBase v0.1.5\u001b[39m\n",
      "  \u001b[90m[a09fc81d] \u001b[39m\u001b[92m+ ImageCore v0.9.4\u001b[39m\n",
      "  \u001b[90m[82e4d734] \u001b[39m\u001b[92m+ ImageIO v0.6.6\u001b[39m\n",
      "  \u001b[90m[bc367c6b] \u001b[39m\u001b[92m+ ImageMetadata v0.9.8\u001b[39m\n",
      "  \u001b[90m[9b13fd28] \u001b[39m\u001b[92m+ IndirectArrays v1.0.0\u001b[39m\n",
      "  \u001b[90m[8197267c] \u001b[39m\u001b[92m+ IntervalSets v0.7.4\u001b[39m\n",
      "  \u001b[90m[f1662d9f] \u001b[39m\u001b[92m+ Isoband v0.1.1\u001b[39m\n",
      "  \u001b[90m[b835a17e] \u001b[39m\u001b[92m+ JpegTurbo v0.1.2\u001b[39m\n",
      "  \u001b[90m[5ab0869b] \u001b[39m\u001b[92m+ KernelDensity v0.6.7\u001b[39m\n",
      "  \u001b[90m[8cdb02fc] \u001b[39m\u001b[92m+ LazyModules v0.3.1\u001b[39m\n",
      "  \u001b[90m[ee78f7c6] \u001b[39m\u001b[92m+ Makie v0.19.5\u001b[39m\n",
      "  \u001b[90m[20f20a25] \u001b[39m\u001b[92m+ MakieCore v0.6.3\u001b[39m\n",
      "  \u001b[90m[dbb5928d] \u001b[39m\u001b[92m+ MappedArrays v0.4.2\u001b[39m\n",
      "  \u001b[90m[7eb4fadd] \u001b[39m\u001b[92m+ Match v1.2.0\u001b[39m\n",
      "  \u001b[90m[0a4f8689] \u001b[39m\u001b[92m+ MathTeXEngine v0.5.6\u001b[39m\n",
      "  \u001b[90m[978d7f02] \u001b[39m\u001b[92m+ MiniQhull v0.4.0\u001b[39m\n",
      "  \u001b[90m[e94cdb99] \u001b[39m\u001b[92m+ MosaicViews v0.3.4\u001b[39m\n",
      "  \u001b[90m[f09324ee] \u001b[39m\u001b[92m+ Netpbm v1.1.0\u001b[39m\n",
      "  \u001b[90m[510215fc] \u001b[39m\u001b[92m+ Observables v0.5.4\u001b[39m\n",
      "  \u001b[90m[52e1d378] \u001b[39m\u001b[92m+ OpenEXR v0.3.2\u001b[39m\n",
      "  \u001b[90m[f57f5aa1] \u001b[39m\u001b[92m+ PNGFiles v0.3.17\u001b[39m\n",
      "  \u001b[90m[19eb6ba3] \u001b[39m\u001b[92m+ Packing v0.5.0\u001b[39m\n",
      "  \u001b[90m[5432bcbf] \u001b[39m\u001b[92m+ PaddedViews v0.5.12\u001b[39m\n",
      "  \u001b[90m[eebad327] \u001b[39m\u001b[92m+ PkgVersion v0.3.2\u001b[39m\n",
      "  \u001b[90m[995b91a9] \u001b[39m\u001b[92m+ PlotUtils v1.3.5\u001b[39m\n",
      "  \u001b[90m[647866c9] \u001b[39m\u001b[92m+ PolygonOps v0.1.2\u001b[39m\n",
      "  \u001b[90m[4b34888f] \u001b[39m\u001b[92m+ QOI v1.0.0\u001b[39m\n",
      "  \u001b[90m[b3c3ace0] \u001b[39m\u001b[92m+ RangeArrays v0.3.2\u001b[39m\n",
      "  \u001b[90m[05181044] \u001b[39m\u001b[92m+ RelocatableFolders v1.0.0\u001b[39m\n",
      "  \u001b[90m[fdea26ae] \u001b[39m\u001b[92m+ SIMD v3.4.5\u001b[39m\n",
      "  \u001b[90m[7b38b023] \u001b[39m\u001b[92m+ ScanByte v0.3.3\u001b[39m\n",
      "  \u001b[90m[992d4aef] \u001b[39m\u001b[92m+ Showoff v1.0.3\u001b[39m\n",
      "  \u001b[90m[73760f76] \u001b[39m\u001b[92m+ SignedDistanceFields v0.4.0\u001b[39m\n",
      "  \u001b[90m[45858cf5] \u001b[39m\u001b[92m+ Sixel v0.1.2\u001b[39m\n",
      "  \u001b[90m[c5dd0088] \u001b[39m\u001b[92m+ StableHashTraits v0.3.1\u001b[39m\n",
      "  \u001b[90m[cae243ae] \u001b[39m\u001b[92m+ StackViews v0.1.1\u001b[39m\n",
      "  \u001b[90m[09ab397b] \u001b[39m\u001b[92m+ StructArrays v0.6.15\u001b[39m\n",
      "  \u001b[90m[731e570b] \u001b[39m\u001b[92m+ TiffImages v0.6.4\u001b[39m\n",
      "  \u001b[90m[3bb67fe8] \u001b[39m\u001b[92m+ TranscodingStreams v0.9.13\u001b[39m\n",
      "  \u001b[90m[981d1d27] \u001b[39m\u001b[92m+ TriplotBase v0.1.0\u001b[39m\n",
      "  \u001b[90m[9d95972d] \u001b[39m\u001b[92m+ TupleTools v1.3.0\u001b[39m\n",
      "  \u001b[90m[1cfade01] \u001b[39m\u001b[92m+ UnicodeFun v0.4.1\u001b[39m\n",
      "  \u001b[90m[6e34b625] \u001b[39m\u001b[92m+ Bzip2_jll v1.0.8+0\u001b[39m\n",
      "  \u001b[90m[83423d85] \u001b[39m\u001b[92m+ Cairo_jll v1.16.1+1\u001b[39m\n",
      "  \u001b[90m[5ae413db] \u001b[39m\u001b[92m+ EarCut_jll v2.2.4+0\u001b[39m\n",
      "  \u001b[90m[2e619515] \u001b[39m\u001b[92m+ Expat_jll v2.4.8+0\u001b[39m\n",
      "  \u001b[90m[b22a6f82] \u001b[39m\u001b[92m+ FFMPEG_jll v4.4.2+2\u001b[39m\n",
      "  \u001b[90m[a3f928ae] \u001b[39m\u001b[92m+ Fontconfig_jll v2.13.93+0\u001b[39m\n",
      "  \u001b[90m[d7e528f0] \u001b[39m\u001b[92m+ FreeType2_jll v2.10.4+0\u001b[39m\n",
      "  \u001b[90m[559328eb] \u001b[39m\u001b[92m+ FriBidi_jll v1.0.10+0\u001b[39m\n",
      "  \u001b[90m[78b55507] \u001b[39m\u001b[92m+ Gettext_jll v0.21.0+0\u001b[39m\n",
      "  \u001b[90m[7746bdde] \u001b[39m\u001b[92m+ Glib_jll v2.74.0+2\u001b[39m\n",
      "  \u001b[90m[3b182d85] \u001b[39m\u001b[92m+ Graphite2_jll v1.3.14+0\u001b[39m\n",
      "  \u001b[90m[2e76f6c2] \u001b[39m\u001b[92m+ HarfBuzz_jll v2.8.1+1\u001b[39m\n",
      "  \u001b[90m[905a6f67] \u001b[39m\u001b[92m+ Imath_jll v3.1.7+0\u001b[39m\n",
      "  \u001b[90m[aacddb02] \u001b[39m\u001b[92m+ JpegTurbo_jll v2.1.91+0\u001b[39m\n",
      "  \u001b[90m[c1c5ebd0] \u001b[39m\u001b[92m+ LAME_jll v3.100.1+0\u001b[39m\n",
      "  \u001b[90m[dd4b983a] \u001b[39m\u001b[92m+ LZO_jll v2.10.1+0\u001b[39m\n",
      "\u001b[33m⌅\u001b[39m \u001b[90m[e9f186c6] \u001b[39m\u001b[92m+ Libffi_jll v3.2.2+1\u001b[39m\n",
      "  \u001b[90m[d4300ac3] \u001b[39m\u001b[92m+ Libgcrypt_jll v1.8.7+0\u001b[39m\n",
      "  \u001b[90m[7add5ba3] \u001b[39m\u001b[92m+ Libgpg_error_jll v1.42.0+0\u001b[39m\n",
      "  \u001b[90m[94ce4f54] \u001b[39m\u001b[92m+ Libiconv_jll v1.16.1+2\u001b[39m\n",
      "  \u001b[90m[4b2f31a3] \u001b[39m\u001b[92m+ Libmount_jll v2.35.0+0\u001b[39m\n",
      "  \u001b[90m[38a345b3] \u001b[39m\u001b[92m+ Libuuid_jll v2.36.0+0\u001b[39m\n",
      "  \u001b[90m[e7412a2a] \u001b[39m\u001b[92m+ Ogg_jll v1.3.5+1\u001b[39m\n",
      "  \u001b[90m[18a262bb] \u001b[39m\u001b[92m+ OpenEXR_jll v3.1.4+0\u001b[39m\n",
      "\u001b[33m⌅\u001b[39m \u001b[90m[458c3c95] \u001b[39m\u001b[92m+ OpenSSL_jll v1.1.20+0\u001b[39m\n",
      "  \u001b[90m[91d4177d] \u001b[39m\u001b[92m+ Opus_jll v1.3.2+0\u001b[39m\n",
      "  \u001b[90m[36c8627f] \u001b[39m\u001b[92m+ Pango_jll v1.50.9+0\u001b[39m\n",
      "  \u001b[90m[30392449] \u001b[39m\u001b[92m+ Pixman_jll v0.40.1+0\u001b[39m\n",
      "  \u001b[90m[460c41e3] \u001b[39m\u001b[92m+ QhullMiniWrapper_jll v1.0.0+1\u001b[39m\n",
      "\u001b[33m⌅\u001b[39m \u001b[90m[784f63db] \u001b[39m\u001b[92m+ Qhull_jll v8.0.1003+0\u001b[39m\n",
      "  \u001b[90m[02c8fc9c] \u001b[39m\u001b[92m+ XML2_jll v2.10.3+0\u001b[39m\n",
      "  \u001b[90m[aed1982a] \u001b[39m\u001b[92m+ XSLT_jll v1.1.34+0\u001b[39m\n",
      "  \u001b[90m[4f6342f7] \u001b[39m\u001b[92m+ Xorg_libX11_jll v1.6.9+4\u001b[39m\n",
      "  \u001b[90m[0c0b7dd1] \u001b[39m\u001b[92m+ Xorg_libXau_jll v1.0.9+4\u001b[39m\n",
      "  \u001b[90m[a3789734] \u001b[39m\u001b[92m+ Xorg_libXdmcp_jll v1.1.3+4\u001b[39m\n",
      "  \u001b[90m[1082639a] \u001b[39m\u001b[92m+ Xorg_libXext_jll v1.3.4+4\u001b[39m\n",
      "  \u001b[90m[ea2f1a96] \u001b[39m\u001b[92m+ Xorg_libXrender_jll v0.9.10+4\u001b[39m\n",
      "  \u001b[90m[14d82f49] \u001b[39m\u001b[92m+ Xorg_libpthread_stubs_jll v0.1.0+3\u001b[39m\n",
      "  \u001b[90m[c7cfdc94] \u001b[39m\u001b[92m+ Xorg_libxcb_jll v1.13.0+3\u001b[39m\n",
      "  \u001b[90m[c5fb5394] \u001b[39m\u001b[92m+ Xorg_xtrans_jll v1.4.0+3\u001b[39m\n",
      "  \u001b[90m[9a68df92] \u001b[39m\u001b[92m+ isoband_jll v0.2.3+0\u001b[39m\n",
      "  \u001b[90m[a4ae2306] \u001b[39m\u001b[92m+ libaom_jll v3.4.0+0\u001b[39m\n",
      "  \u001b[90m[0ac62f75] \u001b[39m\u001b[92m+ libass_jll v0.15.1+0\u001b[39m\n",
      "  \u001b[90m[f638f0a6] \u001b[39m\u001b[92m+ libfdk_aac_jll v2.0.2+0\u001b[39m\n",
      "  \u001b[90m[b53b4c65] \u001b[39m\u001b[92m+ libpng_jll v1.6.38+0\u001b[39m\n",
      "  \u001b[90m[075b6546] \u001b[39m\u001b[92m+ libsixel_jll v1.10.3+0\u001b[39m\n",
      "  \u001b[90m[f27f6e37] \u001b[39m\u001b[92m+ libvorbis_jll v1.3.7+1\u001b[39m\n",
      "  \u001b[90m[1270edf5] \u001b[39m\u001b[92m+ x264_jll v2021.5.5+0\u001b[39m\n",
      "  \u001b[90m[dfaa095f] \u001b[39m\u001b[92m+ x265_jll v3.5.0+0\u001b[39m\n",
      "  \u001b[90m[8bf52ea8] \u001b[39m\u001b[92m+ CRC32c\u001b[39m\n",
      "  \u001b[90m[efcefdf7] \u001b[39m\u001b[92m+ PCRE2_jll v10.42.0+0\u001b[39m\n",
      "\u001b[36m\u001b[1m        Info\u001b[22m\u001b[39m Packages marked with \u001b[33m⌅\u001b[39m have new versions available but compatibility constraints restrict them from upgrading. To see why use `status --outdated -m`\n"
     ]
    },
    {
     "name": "stderr",
     "output_type": "stream",
     "text": [
      "\u001b[32m\u001b[1mPrecompiling\u001b[22m\u001b[39m project...\n",
      "\u001b[32m  ✓ \u001b[39m\u001b[90mRangeArrays\u001b[39m\n",
      "\u001b[32m  ✓ \u001b[39m\u001b[90mCEnum\u001b[39m\n",
      "\u001b[32m  ✓ \u001b[39m\u001b[90mPolygonOps\u001b[39m\n",
      "\u001b[32m  ✓ \u001b[39m\u001b[90mIndirectArrays\u001b[39m\n",
      "\u001b[32m  ✓ \u001b[39m\u001b[90mTriplotBase\u001b[39m\n",
      "\u001b[32m  ✓ \u001b[39m\u001b[90mMatch\u001b[39m\n",
      "\u001b[32m  ✓ \u001b[39m\u001b[90mPkgVersion\u001b[39m\n",
      "\u001b[32m  ✓ \u001b[39m\u001b[90mObservables\u001b[39m\n",
      "\u001b[32m  ✓ \u001b[39m\u001b[90mExtents\u001b[39m\n",
      "\u001b[32m  ✓ \u001b[39m\u001b[90mIntervalSets\u001b[39m\n",
      "\u001b[32m  ✓ \u001b[39m\u001b[90mAbstractTrees\u001b[39m\n",
      "\u001b[32m  ✓ \u001b[39m\u001b[90mFormatting\u001b[39m\n",
      "\u001b[32m  ✓ \u001b[39m\u001b[90mGrisu\u001b[39m\n",
      "\u001b[32m  ✓ \u001b[39m\u001b[90mLazyModules\u001b[39m\n",
      "\u001b[32m  ✓ \u001b[39m\u001b[90mTupleTools\u001b[39m\n",
      "\u001b[32m  ✓ \u001b[39m\u001b[90mMappedArrays\u001b[39m\n",
      "\u001b[32m  ✓ \u001b[39m\u001b[90mSignedDistanceFields\u001b[39m\n",
      "\u001b[32m  ✓ \u001b[39m\u001b[90mRelocatableFolders\u001b[39m\n",
      "\u001b[32m  ✓ \u001b[39m\u001b[90mTranscodingStreams\u001b[39m\n",
      "\u001b[32m  ✓ \u001b[39m\u001b[90mStructArrays\u001b[39m\n",
      "\u001b[32m  ✓ \u001b[39m\u001b[90mUnicodeFun\u001b[39m\n",
      "\u001b[32m  ✓ \u001b[39m\u001b[90mOpenSSL_jll\u001b[39m\n",
      "\u001b[32m  ✓ \u001b[39m\u001b[90mQhull_jll\u001b[39m\n",
      "\u001b[32m  ✓ \u001b[39m\u001b[90mGraphite2_jll\u001b[39m\n",
      "\u001b[32m  ✓ \u001b[39m\u001b[90mLibmount_jll\u001b[39m\n",
      "\u001b[32m  ✓ \u001b[39m\u001b[90mBzip2_jll\u001b[39m\n",
      "\u001b[32m  ✓ \u001b[39m\u001b[90mXorg_libXau_jll\u001b[39m\n",
      "\u001b[32m  ✓ \u001b[39m\u001b[90mlibpng_jll\u001b[39m\n",
      "\u001b[32m  ✓ \u001b[39m\u001b[90mlibfdk_aac_jll\u001b[39m\n",
      "\u001b[32m  ✓ \u001b[39m\u001b[90mImath_jll\u001b[39m\n",
      "\u001b[32m  ✓ \u001b[39m\u001b[90mLAME_jll\u001b[39m\n",
      "\u001b[32m  ✓ \u001b[39m\u001b[90mPixman_jll\u001b[39m\n",
      "\u001b[32m  ✓ \u001b[39m\u001b[90mEarCut_jll\u001b[39m\n",
      "\u001b[32m  ✓ \u001b[39m\u001b[90mJpegTurbo_jll\u001b[39m\n",
      "\u001b[32m  ✓ \u001b[39m\u001b[90mOgg_jll\u001b[39m\n",
      "\u001b[32m  ✓ \u001b[39m\u001b[90mXorg_libXdmcp_jll\u001b[39m\n",
      "\u001b[32m  ✓ \u001b[39m\u001b[90mx265_jll\u001b[39m\n",
      "\u001b[32m  ✓ \u001b[39m\u001b[90mFileIO\u001b[39m\n",
      "\u001b[32m  ✓ \u001b[39m\u001b[90mx264_jll\u001b[39m\n",
      "\u001b[32m  ✓ \u001b[39m\u001b[90mlibaom_jll\u001b[39m\n",
      "\u001b[32m  ✓ \u001b[39m\u001b[90mExpat_jll\u001b[39m\n",
      "\u001b[32m  ✓ \u001b[39m\u001b[90mLZO_jll\u001b[39m\n",
      "\u001b[32m  ✓ \u001b[39m\u001b[90mOpus_jll\u001b[39m\n",
      "\u001b[32m  ✓ \u001b[39m\u001b[90mXorg_xtrans_jll\u001b[39m\n",
      "\u001b[32m  ✓ \u001b[39m\u001b[90mLibffi_jll\u001b[39m\n",
      "\u001b[32m  ✓ \u001b[39m\u001b[90mLibiconv_jll\u001b[39m\n",
      "\u001b[32m  ✓ \u001b[39m\u001b[90misoband_jll\u001b[39m\n",
      "\u001b[32m  ✓ \u001b[39m\u001b[90mLibgpg_error_jll\u001b[39m\n",
      "\u001b[32m  ✓ \u001b[39m\u001b[90mXorg_libpthread_stubs_jll\u001b[39m\n",
      "\u001b[32m  ✓ \u001b[39m\u001b[90mFriBidi_jll\u001b[39m\n",
      "\u001b[32m  ✓ \u001b[39m\u001b[90mStackViews\u001b[39m\n",
      "\u001b[32m  ✓ \u001b[39m\u001b[90mLibuuid_jll\u001b[39m\n",
      "\u001b[32m  ✓ \u001b[39m\u001b[90mPaddedViews\u001b[39m\n",
      "\u001b[32m  ✓ \u001b[39m\u001b[90mColorBrewer\u001b[39m\n",
      "\u001b[32m  ✓ \u001b[39m\u001b[90mGraphics\u001b[39m\n",
      "\u001b[32m  ✓ \u001b[39m\u001b[90mMakieCore\u001b[39m\n",
      "\u001b[32m  ✓ \u001b[39m\u001b[90mAnimations\u001b[39m\n",
      "\u001b[32m  ✓ \u001b[39m\u001b[90mConstructionBase → ConstructionBaseIntervalSetsExt\u001b[39m\n",
      "\u001b[32m  ✓ \u001b[39m\u001b[90mGeoInterface\u001b[39m\n",
      "\u001b[32m  ✓ \u001b[39m\u001b[90mAxisArrays\u001b[39m\n",
      "\u001b[32m  ✓ \u001b[39m\u001b[90mShowoff\u001b[39m\n",
      "\u001b[32m  ✓ \u001b[39m\u001b[90mStableHashTraits\u001b[39m\n",
      "\u001b[32m  ✓ \u001b[39m\u001b[90mQhullMiniWrapper_jll\u001b[39m\n",
      "\u001b[32m  ✓ \u001b[39m\u001b[90mKernelDensity\u001b[39m\n",
      "\u001b[32m  ✓ \u001b[39m\u001b[90mFreeType2_jll\u001b[39m\n",
      "\u001b[32m  ✓ \u001b[39m\u001b[90mOpenEXR_jll\u001b[39m\n",
      "\u001b[32m  ✓ \u001b[39m\u001b[90mlibsixel_jll\u001b[39m\n",
      "\u001b[32m  ✓ \u001b[39m\u001b[90mlibvorbis_jll\u001b[39m\n",
      "\u001b[32m  ✓ \u001b[39m\u001b[90mQOI\u001b[39m\n",
      "\u001b[32m  ✓ \u001b[39m\u001b[90mUnicodePlots → IntervalSetsExt\u001b[39m\n",
      "\u001b[32m  ✓ \u001b[39m\u001b[90mXML2_jll\u001b[39m\n",
      "\u001b[32m  ✓ \u001b[39m\u001b[90mIsoband\u001b[39m\n",
      "\u001b[32m  ✓ \u001b[39m\u001b[90mSIMD\u001b[39m\n",
      "\u001b[32m  ✓ \u001b[39m\u001b[90mLibgcrypt_jll\u001b[39m\n",
      "\u001b[32m  ✓ \u001b[39m\u001b[90mMosaicViews\u001b[39m\n",
      "\u001b[32m  ✓ \u001b[39m\u001b[90mMiniQhull\u001b[39m\n",
      "\u001b[32m  ✓ \u001b[39m\u001b[90mPolynomials → PolynomialsMakieCoreExt\u001b[39m\n",
      "\u001b[32m  ✓ \u001b[39m\u001b[90mFontconfig_jll\u001b[39m\n",
      "\u001b[32m  ✓ \u001b[39m\u001b[90mFreeType\u001b[39m\n",
      "\u001b[32m  ✓ \u001b[39m\u001b[90mOpenEXR\u001b[39m\n",
      "\u001b[32m  ✓ \u001b[39m\u001b[90mGettext_jll\u001b[39m\n",
      "\u001b[32m  ✓ \u001b[39m\u001b[90mXSLT_jll\u001b[39m\n",
      "\u001b[32m  ✓ \u001b[39m\u001b[90mScanByte\u001b[39m\n",
      "\u001b[32m  ✓ \u001b[39m\u001b[90mGlib_jll\u001b[39m\n",
      "\u001b[32m  ✓ \u001b[39m\u001b[90mXorg_libxcb_jll\u001b[39m\n",
      "\u001b[32m  ✓ \u001b[39m\u001b[90mXorg_libX11_jll\u001b[39m\n",
      "\u001b[32m  ✓ \u001b[39m\u001b[90mAutoma\u001b[39m\n",
      "\u001b[32m  ✓ \u001b[39m\u001b[90mUnicodePlots → FreeTypeExt\u001b[39m\n",
      "\u001b[32m  ✓ \u001b[39m\u001b[90mXorg_libXrender_jll\u001b[39m\n",
      "\u001b[32m  ✓ \u001b[39m\u001b[90mXorg_libXext_jll\u001b[39m\n",
      "\u001b[32m  ✓ \u001b[39m\u001b[90mGeometryBasics\u001b[39m\n",
      "\u001b[32m  ✓ \u001b[39m\u001b[90mCairo_jll\u001b[39m\n",
      "\u001b[32m  ✓ \u001b[39m\u001b[90mPlotUtils\u001b[39m\n",
      "\u001b[32m  ✓ \u001b[39m\u001b[90mHarfBuzz_jll\u001b[39m\n",
      "\u001b[32m  ✓ \u001b[39m\u001b[90mPacking\u001b[39m\n",
      "\u001b[32m  ✓ \u001b[39m\u001b[90mPango_jll\u001b[39m\n",
      "\u001b[32m  ✓ \u001b[39m\u001b[90mlibass_jll\u001b[39m\n",
      "\u001b[32m  ✓ \u001b[39m\u001b[90mFreeTypeAbstraction\u001b[39m\n",
      "\u001b[32m  ✓ \u001b[39m\u001b[90mFFMPEG_jll\u001b[39m\n",
      "\u001b[32m  ✓ \u001b[39m\u001b[90mCairo\u001b[39m\n",
      "\u001b[32m  ✓ \u001b[39m\u001b[90mFFMPEG\u001b[39m\n",
      "\u001b[32m  ✓ \u001b[39m\u001b[90mGridLayoutBase\u001b[39m\n",
      "\u001b[32m  ✓ \u001b[39m\u001b[90mMathTeXEngine\u001b[39m\n",
      "\u001b[32m  ✓ \u001b[39m\u001b[90mImageCore\u001b[39m\n",
      "\u001b[32m  ✓ \u001b[39m\u001b[90mJpegTurbo\u001b[39m\n",
      "\u001b[32m  ✓ \u001b[39m\u001b[90mSixel\u001b[39m\n",
      "\u001b[32m  ✓ \u001b[39m\u001b[90mImageBase\u001b[39m\n",
      "\u001b[32m  ✓ \u001b[39m\u001b[90mPNGFiles\u001b[39m\n",
      "\u001b[32m  ✓ \u001b[39m\u001b[90mImageAxes\u001b[39m\n",
      "\u001b[32m  ✓ \u001b[39m\u001b[90mImageMetadata\u001b[39m\n",
      "\u001b[32m  ✓ \u001b[39m\u001b[90mNetpbm\u001b[39m\n",
      "\u001b[32m  ✓ \u001b[39m\u001b[90mTiffImages\u001b[39m\n",
      "\u001b[32m  ✓ \u001b[39m\u001b[90mImageIO\u001b[39m\n",
      "\u001b[32m  ✓ \u001b[39m\u001b[90mMakie\u001b[39m\n",
      "\u001b[32m  ✓ \u001b[39mCairoMakie\n",
      "  115 dependencies successfully precompiled in 269 seconds. 215 already precompiled.\n"
     ]
    }
   ],
   "source": [
    "Pkg.add(\"CairoMakie\")"
   ]
  },
  {
   "cell_type": "code",
   "execution_count": 27,
   "id": "29957e0a",
   "metadata": {},
   "outputs": [],
   "source": [
    "using PyPlot"
   ]
  },
  {
   "cell_type": "code",
   "execution_count": 33,
   "id": "458ffbb1",
   "metadata": {},
   "outputs": [
    {
     "name": "stderr",
     "output_type": "stream",
     "text": [
      "\u001b[32m\u001b[1m   Resolving\u001b[22m\u001b[39m package versions...\n",
      "\u001b[32m\u001b[1m    Updating\u001b[22m\u001b[39m `C:\\Users\\gromo\\.julia\\environments\\v1.9\\Project.toml`\n",
      "  \u001b[90m[5732040d] \u001b[39m\u001b[92m+ DelayEmbeddings v2.7.1\u001b[39m\n",
      "\u001b[32m\u001b[1m  No Changes\u001b[22m\u001b[39m to `C:\\Users\\gromo\\.julia\\environments\\v1.9\\Manifest.toml`\n"
     ]
    }
   ],
   "source": [
    "Pkg.add(\"DelayEmbeddings\")"
   ]
  },
  {
   "cell_type": "code",
   "execution_count": 34,
   "id": "21f130e3",
   "metadata": {},
   "outputs": [],
   "source": [
    "using DelayEmbeddings"
   ]
  },
  {
   "cell_type": "code",
   "execution_count": 37,
   "id": "a210208e",
   "metadata": {},
   "outputs": [
    {
     "ename": "LoadError",
     "evalue": "UndefVarError: `xyz` not defined",
     "output_type": "error",
     "traceback": [
      "UndefVarError: `xyz` not defined",
      ""
     ]
    }
   ],
   "source": [
    "xyz"
   ]
  },
  {
   "cell_type": "code",
   "execution_count": 36,
   "id": "20ede197",
   "metadata": {},
   "outputs": [
    {
     "ename": "LoadError",
     "evalue": "ArgumentError: Things have changed in DynamicalSystems.jl and now you cannot provide\na Jacobian function as a 4th argument to CoupledODEs. You have to\nfirst initialize CoupledODEs without a Jacobian, and then pass the initialized\nsystem and Jacobian into a `TangentDynamicalSystem`.\n",
     "output_type": "error",
     "traceback": [
      "ArgumentError: Things have changed in DynamicalSystems.jl and now you cannot provide\na Jacobian function as a 4th argument to CoupledODEs. You have to\nfirst initialize CoupledODEs without a Jacobian, and then pass the initialized\nsystem and Jacobian into a `TangentDynamicalSystem`.\n",
      "",
      "Stacktrace:",
      " [1] CoupledODEs(f::Function, u0::Vector{Float64}, p::Vector{Float64}, J::Function)",
      "   @ DynamicalSystemsBase C:\\Users\\gromo\\.julia\\packages\\DynamicalSystemsBase\\9MGYI\\src\\deprecations.jl:14",
      " [2] gissinger(u0::Vector{Float64}; μ::Float64, ν::Float64, Γ::Float64)",
      "   @ PredefinedDynamicalSystems C:\\Users\\gromo\\.julia\\packages\\PredefinedDynamicalSystems\\CUFs4\\src\\continuous_famous_systems.jl:395",
      " [3] gissinger(u0::Vector{Float64})",
      "   @ PredefinedDynamicalSystems C:\\Users\\gromo\\.julia\\packages\\PredefinedDynamicalSystems\\CUFs4\\src\\continuous_famous_systems.jl:394",
      " [4] top-level scope",
      "   @ In[36]:3"
     ]
    }
   ],
   "source": [
    "using DynamicalSystems, CairoMakie\n",
    "\n",
    "ds = Systems.gissinger(ones(3))\n",
    "data = trajectory(ds, 1000.0; Ttr = 100, Δt = 0.05)\n",
    "xyz = columns(data)\n",
    "\n",
    "fig = Figure(resolution = (1000, 800))\n",
    "kk = 1\n",
    "for i in 1:3\n",
    "    for (j,τ) in enumerate([5, 30, 100])\n",
    "        R = embed(xyz[i], 2, τ)\n",
    "        ax = Axis(fig[i,j]; title = \"var = $i, τ = $τ\")\n",
    "        lines!(ax, R[:, 1], R[:, 2], color = Cycled(kk), linewidth=1.5)\n",
    "        global kk+=1\n",
    "    end\n",
    "end\n",
    "\n",
    "Label(fig[0, :], \"2D reconstructed space\")\n",
    "fig"
   ]
  },
  {
   "cell_type": "code",
   "execution_count": 50,
   "id": "317212b5",
   "metadata": {},
   "outputs": [
    {
     "data": {
      "text/plain": [
       "921600-element Vector{Float64}:\n",
       " -17.77777777777778\n",
       "   0.19536019536019536\n",
       "   0.19536019536019536\n",
       "   0.5860805860805861\n",
       "   0.19536019536019536\n",
       "  -1.3675213675213675\n",
       "  -2.148962148962149\n",
       "   0.5860805860805861\n",
       "   2.93040293040293\n",
       "  -0.5860805860805861\n",
       "  -6.837606837606837\n",
       " -16.214896214896214\n",
       " -23.247863247863247\n",
       "   ⋮\n",
       " -17.387057387057386\n",
       " -20.903540903540904\n",
       " -18.168498168498168\n",
       " -17.387057387057386\n",
       " -23.247863247863247\n",
       " -27.936507936507937\n",
       " -33.01587301587302\n",
       " -33.7973137973138\n",
       " -27.545787545787547\n",
       " -17.77777777777778\n",
       "  -8.791208791208792\n",
       "  -4.884004884004884"
      ]
     },
     "execution_count": 50,
     "metadata": {},
     "output_type": "execute_result"
    }
   ],
   "source": [
    "x[:]"
   ]
  },
  {
   "cell_type": "code",
   "execution_count": 54,
   "id": "734766f6",
   "metadata": {},
   "outputs": [
    {
     "name": "stdout",
     "output_type": "stream",
     "text": [
      "NaN"
     ]
    },
    {
     "name": "stderr",
     "output_type": "stream",
     "text": [
      "\u001b[33m\u001b[1m┌ \u001b[22m\u001b[39m\u001b[33m\u001b[1mWarning: \u001b[22m\u001b[39mFound linear region spans less than a 3rd of the available x-axis and might imply inaccurate slope or insufficient data. Recommended: plot `x` vs `y`.\n",
      "\u001b[33m\u001b[1m└ \u001b[22m\u001b[39m\u001b[90m@ FractalDimensions C:\\Users\\gromo\\.julia\\packages\\FractalDimensions\\ey1q7\\src\\linear_fits\\linear_regions.jl:149\u001b[39m\n"
     ]
    },
    {
     "name": "stdout",
     "output_type": "stream",
     "text": [
      "0.069444220157055310.29926821552903937"
     ]
    },
    {
     "name": "stderr",
     "output_type": "stream",
     "text": [
      "\u001b[33m\u001b[1m┌ \u001b[22m\u001b[39m\u001b[33m\u001b[1mWarning: \u001b[22m\u001b[39mFound linear region spans less than a 3rd of the available x-axis and might imply inaccurate slope or insufficient data. Recommended: plot `x` vs `y`.\n",
      "\u001b[33m\u001b[1m└ \u001b[22m\u001b[39m\u001b[90m@ FractalDimensions C:\\Users\\gromo\\.julia\\packages\\FractalDimensions\\ey1q7\\src\\linear_fits\\linear_regions.jl:149\u001b[39m\n"
     ]
    },
    {
     "ename": "LoadError",
     "evalue": "MethodError: no method matching delay_distance(::Cityblock, ::StateSpaceSet{2, Float64}, ::Int64, ::Int64, ::Int64)\n\n\u001b[0mClosest candidates are:\n\u001b[0m  delay_distance(\u001b[91m::FirstElement\u001b[39m, ::Any, ::Any, ::Any, ::Any)\n\u001b[0m\u001b[90m   @\u001b[39m \u001b[32mChaosTools\u001b[39m \u001b[90mC:\\Users\\gromo\\.julia\\packages\\ChaosTools\\VMXUY\\src\\chaosdetection\\lyapunovs\\\u001b[39m\u001b[90m\u001b[4mlyapunov_from_data.jl:122\u001b[24m\u001b[39m\n\u001b[0m  delay_distance(\u001b[91m::Euclidean\u001b[39m, ::Any, ::Any, ::Any, ::Any)\n\u001b[0m\u001b[90m   @\u001b[39m \u001b[32mChaosTools\u001b[39m \u001b[90mC:\\Users\\gromo\\.julia\\packages\\ChaosTools\\VMXUY\\src\\chaosdetection\\lyapunovs\\\u001b[39m\u001b[90m\u001b[4mlyapunov_from_data.jl:126\u001b[24m\u001b[39m\n",
     "output_type": "error",
     "traceback": [
      "MethodError: no method matching delay_distance(::Cityblock, ::StateSpaceSet{2, Float64}, ::Int64, ::Int64, ::Int64)\n\n\u001b[0mClosest candidates are:\n\u001b[0m  delay_distance(\u001b[91m::FirstElement\u001b[39m, ::Any, ::Any, ::Any, ::Any)\n\u001b[0m\u001b[90m   @\u001b[39m \u001b[32mChaosTools\u001b[39m \u001b[90mC:\\Users\\gromo\\.julia\\packages\\ChaosTools\\VMXUY\\src\\chaosdetection\\lyapunovs\\\u001b[39m\u001b[90m\u001b[4mlyapunov_from_data.jl:122\u001b[24m\u001b[39m\n\u001b[0m  delay_distance(\u001b[91m::Euclidean\u001b[39m, ::Any, ::Any, ::Any, ::Any)\n\u001b[0m\u001b[90m   @\u001b[39m \u001b[32mChaosTools\u001b[39m \u001b[90mC:\\Users\\gromo\\.julia\\packages\\ChaosTools\\VMXUY\\src\\chaosdetection\\lyapunovs\\\u001b[39m\u001b[90m\u001b[4mlyapunov_from_data.jl:126\u001b[24m\u001b[39m\n",
      "",
      "Stacktrace:",
      " [1] lyapunov_from_data(R::StateSpaceSet{2, Float64}, ks::UnitRange{Int64}; refstates::UnitRange{Int64}, w::Int64, distance::Cityblock, ntype::NeighborNumber)",
      "   @ ChaosTools C:\\Users\\gromo\\.julia\\packages\\ChaosTools\\VMXUY\\src\\chaosdetection\\lyapunovs\\lyapunov_from_data.jl:99",
      " [2] top-level scope",
      "   @ .\\In[54]:16"
     ]
    }
   ],
   "source": [
    "using DynamicalSystems, CairoMakie\n",
    "\n",
    "x = dataChild\n",
    "\n",
    "ks = 1:20\n",
    "ℜ = 1:10000\n",
    "#fig = figure(figsize=(500,500))\n",
    "\n",
    "for (i, di) in enumerate([Euclidean(), Cityblock()])\n",
    "    #ax = Axis(fig[1, i]; title = \"Distance: $(di)\", fontsize = 18)\n",
    "    ntype = NeighborNumber(2)\n",
    "    #print(i)\n",
    "    for D in [2, 4, 7]\n",
    "        \n",
    "        R = embed(x[:], D, 1)\n",
    "        E = lyapunov_from_data(R, ks;\n",
    "        refstates = ℜ, distance = di, ntype = ntype)\n",
    "        Δt = 1\n",
    "        λ = linear_region(ks.*Δt, E)[2]\n",
    "        print(λ)\n",
    "        # gives the linear slope, i.e. the Lyapunov exponent\n",
    "        #lines!(ax, ks .- 1, E .- E[1], label = \"D=$D, λ=$(round(λ, digits = 3))\")\n",
    "    end\n",
    "    #axislegend(ax)\n",
    "end"
   ]
  },
  {
   "cell_type": "code",
   "execution_count": null,
   "id": "629cbe25",
   "metadata": {},
   "outputs": [],
   "source": []
  }
 ],
 "metadata": {
  "kernelspec": {
   "display_name": "Julia 1.9.0",
   "language": "julia",
   "name": "julia-1.9"
  },
  "language_info": {
   "file_extension": ".jl",
   "mimetype": "application/julia",
   "name": "julia",
   "version": "1.9.0"
  }
 },
 "nbformat": 4,
 "nbformat_minor": 5
}
