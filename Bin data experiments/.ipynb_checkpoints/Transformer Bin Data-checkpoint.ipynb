{
 "cells": [
  {
   "cell_type": "code",
   "execution_count": 1,
   "id": "19ac1291",
   "metadata": {},
   "outputs": [],
   "source": [
    "import numpy as np\n",
    "import torchvision\n",
    "import torch\n",
    "import torchvision.transforms as transforms\n",
    "from torch.utils.data.sampler import SubsetRandomSampler\n",
    "from torch import nn\n",
    "import torch.nn.functional as F\n",
    "import torch.optim as optim\n",
    "from torch.autograd import Variable\n",
    "from sklearn.preprocessing import MinMaxScaler\n",
    "import numpy as np\n",
    "import matplotlib.pyplot as plt\n",
    "from scipy.integrate import odeint\n",
    "from scipy.integrate import solve_ivp\n",
    "import matplotlib.pyplot as plt\n",
    "from torch.utils.data import DataLoader\n",
    "import math\n",
    "from IPython.display import clear_output\n",
    "from tqdm import tqdm\n",
    "import matplotlib.ticker as ticker\n",
    "%matplotlib inline"
   ]
  },
  {
   "cell_type": "code",
   "execution_count": 2,
   "id": "78cf46e5",
   "metadata": {},
   "outputs": [],
   "source": [
    "data = np.load(\"data/DK_time_series_3000000.npy\")\n",
    "\n",
    "train = data[:-500000]\n",
    "test =  data[-500000:]\n",
    "\n",
    "mean = train.mean()\n",
    "std = train.std()\n",
    "#sigmastest = np.abs(test - mean)\n",
    "train_norm = (train - mean)/std\n",
    "test_norm = (test - mean)/std\n",
    "\n",
    "train_norm = torch.FloatTensor(train_norm).view(-1)\n",
    "test_norm = torch.FloatTensor(test_norm).view(-1)"
   ]
  },
  {
   "cell_type": "code",
   "execution_count": 3,
   "id": "eb846ebe",
   "metadata": {},
   "outputs": [],
   "source": [
    "def amp_to_int(x, n=256):\n",
    "    ### x.min must be negative\n",
    "    step = (x.max() - x.min()) / n\n",
    "    ans = np.zeros_like(x)\n",
    "    for i, val in enumerate(np.arange(x.min(), x.max(), step)):\n",
    "        for j in range(len(x)):\n",
    "            if val <= x[j] < val + step:\n",
    "                ans[j] = i\n",
    "                \n",
    "    return ans\n",
    "\n",
    "\n",
    "def int_to_amp(x, x_true, n=256):\n",
    "    ### x.min must be negative\n",
    "    step = (x_true.max() - x_true.min()) / n\n",
    "    ans = np.zeros_like(x, dtype=float)\n",
    "    #for j in range(len(x)):\n",
    "    ans = x_true.min() + x * step\n",
    "                \n",
    "    return ans        \n",
    "    "
   ]
  },
  {
   "cell_type": "code",
   "execution_count": 4,
   "id": "3c6fa446",
   "metadata": {},
   "outputs": [],
   "source": [
    "int_data = amp_to_int(data)\n",
    "train = int_data[:-500000]\n",
    "test = int_data[-500000:]"
   ]
  },
  {
   "cell_type": "code",
   "execution_count": 5,
   "id": "1d420b26",
   "metadata": {},
   "outputs": [],
   "source": [
    "class PositionalEncoding(nn.Module):\n",
    "\n",
    "    def __init__(self, d_model, max_len=5000):\n",
    "        super(PositionalEncoding, self).__init__()       \n",
    "        pe = torch.zeros(max_len, d_model)\n",
    "        position = torch.arange(0, max_len, dtype=torch.float).unsqueeze(1)\n",
    "        div_term = torch.exp(torch.arange(0, d_model, 2).float() * (-math.log(10000.0) / d_model))\n",
    "        pe[:, 0::2] = torch.sin(position * div_term)\n",
    "        pe[:, 1::2] = torch.cos(position * div_term)\n",
    "        pe = pe.unsqueeze(0).transpose(0, 1)\n",
    "        #pe.requires_grad = False\n",
    "        self.register_buffer('pe', pe)\n",
    "\n",
    "    def forward(self, x):\n",
    "    \n",
    "        return x + self.pe[:x.size(0), :]\n",
    "          \n",
    "\n",
    "class TransAm(nn.Module):\n",
    "    def __init__(self,feature_size=256, nhead=8, num_layers=2,dropout=0.1):\n",
    "        super(TransAm, self).__init__()\n",
    "        self.model_type = 'Transformer'\n",
    "        \n",
    "        self.src_mask = None\n",
    "        self.pos_encoder = PositionalEncoding(feature_size)\n",
    "        self.encoder_layer = nn.TransformerEncoderLayer(d_model=feature_size, nhead=nhead, dropout=dropout)\n",
    "        self.transformer_encoder = nn.TransformerEncoder(self.encoder_layer, num_layers=num_layers)        \n",
    "        self.decoder = nn.Linear(feature_size,256)\n",
    "        self.init_weights()\n",
    "\n",
    "    def init_weights(self):\n",
    "        initrange = 0.1    \n",
    "        self.decoder.bias.data.zero_()\n",
    "        self.decoder.weight.data.uniform_(-initrange, initrange)\n",
    "\n",
    "    def forward(self,src):\n",
    "        if self.src_mask is None or self.src_mask.size(0) != len(src):\n",
    "            device = src.device\n",
    "            mask = self._generate_square_subsequent_mask(len(src)).to(device)\n",
    "            self.src_mask = mask\n",
    "        \n",
    "        #print(src.size())\n",
    "        src = self.pos_encoder(src)\n",
    "        #print(src.size())\n",
    "\n",
    "        output = self.transformer_encoder(src,self.src_mask)#, self.src_mask)\n",
    "        #print(output.size())\n",
    "        \n",
    "        output = self.decoder(output)\n",
    "        #print(output.size())\n",
    "        return output\n",
    "\n",
    "    def _generate_square_subsequent_mask(self, sz):\n",
    "        mask = (torch.triu(torch.ones(sz, sz)) == 1).transpose(0, 1)\n",
    "        mask = mask.float().masked_fill(mask == 0, float('-inf')).masked_fill(mask == 1, float(0.0))\n",
    "        return mask"
   ]
  },
  {
   "cell_type": "code",
   "execution_count": 6,
   "id": "79778039",
   "metadata": {},
   "outputs": [],
   "source": [
    "model_trans = TransAm().to('cuda')"
   ]
  },
  {
   "cell_type": "code",
   "execution_count": 7,
   "id": "7bfed3b2",
   "metadata": {},
   "outputs": [],
   "source": [
    "input_window = 20\n",
    "batch_size = 64"
   ]
  },
  {
   "cell_type": "code",
   "execution_count": 8,
   "id": "c7d30bce",
   "metadata": {},
   "outputs": [],
   "source": [
    "def one_hot(x, num_channels=256, device='cuda'):\n",
    "    x_o = torch.FloatTensor(x.shape[0], num_channels, x.shape[1])\n",
    "    x_o = x_o.to(device)\n",
    "    x_o.zero_().scatter_(1, x.unsqueeze(1), 1)\n",
    "    return x_o"
   ]
  },
  {
   "cell_type": "code",
   "execution_count": 9,
   "id": "88ad62fa",
   "metadata": {},
   "outputs": [],
   "source": [
    "train_window = 20\n",
    "\n",
    "def create_inout_sequences(input_data, tw):\n",
    "    inout_seq = []\n",
    "    input_data = torch.LongTensor(input_data)\n",
    "    L = len(input_data)\n",
    "    for i in range(L-tw):\n",
    "        train_seq = input_data[i:i+tw]\n",
    "        train_label = input_data[i+1:i+tw+1]\n",
    "        inout_seq.append((train_seq ,train_label))\n",
    "    return inout_seq\n",
    "\n",
    "train_inout_seq = create_inout_sequences(train, train_window)\n",
    "test_inout_seq = create_inout_sequences(test, train_window)"
   ]
  },
  {
   "cell_type": "code",
   "execution_count": 10,
   "id": "f073d9ac",
   "metadata": {},
   "outputs": [],
   "source": [
    "def get_batch(source, i,batch_size):\n",
    "    seq_len = min(batch_size, len(source) - 1 - i)\n",
    "    data = source[i:i+seq_len]    \n",
    "    input = torch.stack(torch.stack([item[0] for item in data]).chunk(input_window,1)) # 1 is feature size\n",
    "    target = torch.stack(torch.stack([item[1] for item in data]).chunk(input_window,1))\n",
    "    return input, target"
   ]
  },
  {
   "cell_type": "code",
   "execution_count": 11,
   "id": "90a991c4",
   "metadata": {},
   "outputs": [
    {
     "data": {
      "text/plain": [
       "39062.5"
      ]
     },
     "execution_count": 11,
     "metadata": {},
     "output_type": "execute_result"
    }
   ],
   "source": [
    "len(train) / batch_size"
   ]
  },
  {
   "cell_type": "code",
   "execution_count": 17,
   "id": "0c72de3c",
   "metadata": {},
   "outputs": [],
   "source": [
    "def run_epoch(model, train_data, is_training=False):\n",
    "    epoch_loss = 0\n",
    "\n",
    "    if is_training:\n",
    "        model.train()\n",
    "    else:\n",
    "        model.eval()\n",
    "\n",
    "    for batch, i in enumerate(range(0, len(train_data) - 1, batch_size)):\n",
    "        data, targets = get_batch(train_data, i,batch_size)\n",
    "        if is_training:\n",
    "            optimizer.zero_grad()\n",
    "            \n",
    "        #print(data.size())\n",
    "        #print(y.size())\n",
    "        #x = torch.transpose(x, 0, 1).reshape((20, 10, 1)).float().to('cuda')\n",
    "        #y = y.view(-1).float().to('cuda')\n",
    "\n",
    "        #out = model(data.to('cuda'))\n",
    "        #loss = criterion(out, targets.to('cuda'))\n",
    "                \n",
    "        \n",
    "        if data.size()[1] < 64: \n",
    "            break\n",
    "        data = torch.reshape(data, (64, 20)).to('cuda')\n",
    "\n",
    "        x_o = one_hot(data)\n",
    "        \n",
    "#         y = y.type(torch.LongTensor)\n",
    "#         y = y.view(-1).to('cuda')\n",
    "        \n",
    "\n",
    "\n",
    "        out = model(x_o.permute(0, 2, 1))\n",
    "        #targets= targets.view(-1).to('cuda')\n",
    "        #targets = targets.permute(1, 0, 2).to('cuda')\n",
    "        #print(out.size())\n",
    "        #print(targets.size())\n",
    "        #loss = criterion(out, targets)\n",
    "        output_v = out.view(-1,out.shape[-1])\n",
    "        target_v = targets.to('cuda').view(-1,1).squeeze()\n",
    "        loss = criterion(output_v, target_v)\n",
    "#         loss = 0\n",
    "        \n",
    "#         for i in range(train_window):\n",
    "#              loss = criterion(out[:, i, :], targets[i, :, 0].to('cuda'))\n",
    "        \n",
    "\n",
    "        if is_training:\n",
    "            loss.backward()\n",
    "            torch.nn.utils.clip_grad_norm_(model.parameters(), 0.7)\n",
    "            optimizer.step()\n",
    "\n",
    "        epoch_loss += (loss.detach().item() / batch_size)\n",
    "\n",
    "    #lr = scheduler.get_last_lr()[0]\n",
    "\n",
    "    return epoch_loss"
   ]
  },
  {
   "cell_type": "code",
   "execution_count": 24,
   "id": "be824f19",
   "metadata": {},
   "outputs": [
    {
     "data": {
      "text/plain": [
       "<All keys matched successfully>"
      ]
     },
     "execution_count": 24,
     "metadata": {},
     "output_type": "execute_result"
    }
   ],
   "source": [
    "model_trans.load_state_dict(torch.load(\"./TransformerLargeBin26.04\"))"
   ]
  },
  {
   "cell_type": "code",
   "execution_count": 25,
   "id": "aaff0bde",
   "metadata": {},
   "outputs": [
    {
     "data": {
      "image/png": "[encoded data removed]",
      "text/plain": [
       "<Figure size 720x648 with 2 Axes>"
      ]
     },
     "metadata": {
      "needs_background": "light"
     },
     "output_type": "display_data"
    },
    {
     "name": "stderr",
     "output_type": "stream",
     "text": [
      "\r",
      " 28%|████████████████████▋                                                      | 55/200 [6:24:07<16:03:40, 398.76s/it]"
     ]
    },
    {
     "name": "stdout",
     "output_type": "stream",
     "text": [
      "Epoch[55/200] | loss train:351.982141, test:64.753432\n"
     ]
    },
    {
     "name": "stderr",
     "output_type": "stream",
     "text": [
      " 28%|████████████████████▋                                                      | 55/200 [6:29:38<17:07:13, 425.06s/it]\n"
     ]
    },
    {
     "ename": "KeyboardInterrupt",
     "evalue": "",
     "output_type": "error",
     "traceback": [
      "\u001b[1;31m---------------------------------------------------------------------------\u001b[0m",
      "\u001b[1;31mKeyboardInterrupt\u001b[0m                         Traceback (most recent call last)",
      "Input \u001b[1;32mIn [25]\u001b[0m, in \u001b[0;36m<cell line: 10>\u001b[1;34m()\u001b[0m\n\u001b[0;32m      9\u001b[0m \u001b[38;5;66;03m# begin training\u001b[39;00m\n\u001b[0;32m     10\u001b[0m \u001b[38;5;28;01mfor\u001b[39;00m epoch \u001b[38;5;129;01min\u001b[39;00m tqdm(\u001b[38;5;28mrange\u001b[39m(\u001b[38;5;241m200\u001b[39m)):\n\u001b[1;32m---> 11\u001b[0m     loss_train \u001b[38;5;241m=\u001b[39m \u001b[43mrun_epoch\u001b[49m\u001b[43m(\u001b[49m\u001b[43mmodel_trans\u001b[49m\u001b[43m,\u001b[49m\u001b[43m \u001b[49m\u001b[43mtrain_inout_seq\u001b[49m\u001b[43m,\u001b[49m\u001b[43m \u001b[49m\u001b[43mis_training\u001b[49m\u001b[38;5;241;43m=\u001b[39;49m\u001b[38;5;28;43;01mTrue\u001b[39;49;00m\u001b[43m)\u001b[49m\n\u001b[0;32m     12\u001b[0m     loss_val \u001b[38;5;241m=\u001b[39m run_epoch(model_trans, test_inout_seq)\n\u001b[0;32m     13\u001b[0m     \u001b[38;5;66;03m#scheduler.step()\u001b[39;00m\n",
      "Input \u001b[1;32mIn [17]\u001b[0m, in \u001b[0;36mrun_epoch\u001b[1;34m(model, train_data, is_training)\u001b[0m\n\u001b[0;32m     50\u001b[0m         loss\u001b[38;5;241m.\u001b[39mbackward()\n\u001b[0;32m     51\u001b[0m         torch\u001b[38;5;241m.\u001b[39mnn\u001b[38;5;241m.\u001b[39mutils\u001b[38;5;241m.\u001b[39mclip_grad_norm_(model\u001b[38;5;241m.\u001b[39mparameters(), \u001b[38;5;241m0.7\u001b[39m)\n\u001b[1;32m---> 52\u001b[0m         \u001b[43moptimizer\u001b[49m\u001b[38;5;241;43m.\u001b[39;49m\u001b[43mstep\u001b[49m\u001b[43m(\u001b[49m\u001b[43m)\u001b[49m\n\u001b[0;32m     54\u001b[0m     epoch_loss \u001b[38;5;241m+\u001b[39m\u001b[38;5;241m=\u001b[39m (loss\u001b[38;5;241m.\u001b[39mdetach()\u001b[38;5;241m.\u001b[39mitem() \u001b[38;5;241m/\u001b[39m batch_size)\n\u001b[0;32m     56\u001b[0m \u001b[38;5;66;03m#lr = scheduler.get_last_lr()[0]\u001b[39;00m\n",
      "File \u001b[1;32mD:\\Miniconda3\\envs\\audio\\lib\\site-packages\\torch\\optim\\optimizer.py:112\u001b[0m, in \u001b[0;36mOptimizer._hook_for_profile.<locals>.profile_hook_step.<locals>.wrapper\u001b[1;34m(*args, **kwargs)\u001b[0m\n\u001b[0;32m    110\u001b[0m obj, \u001b[38;5;241m*\u001b[39m_ \u001b[38;5;241m=\u001b[39m args\n\u001b[0;32m    111\u001b[0m profile_name \u001b[38;5;241m=\u001b[39m \u001b[38;5;124m\"\u001b[39m\u001b[38;5;124mOptimizer.step#\u001b[39m\u001b[38;5;132;01m{}\u001b[39;00m\u001b[38;5;124m.step\u001b[39m\u001b[38;5;124m\"\u001b[39m\u001b[38;5;241m.\u001b[39mformat(obj\u001b[38;5;241m.\u001b[39m\u001b[38;5;18m__class__\u001b[39m\u001b[38;5;241m.\u001b[39m\u001b[38;5;18m__name__\u001b[39m)\n\u001b[1;32m--> 112\u001b[0m \u001b[38;5;28;01mwith\u001b[39;00m \u001b[43mtorch\u001b[49m\u001b[38;5;241;43m.\u001b[39;49m\u001b[43mautograd\u001b[49m\u001b[38;5;241;43m.\u001b[39;49m\u001b[43mprofiler\u001b[49m\u001b[38;5;241;43m.\u001b[39;49m\u001b[43mrecord_function\u001b[49m\u001b[43m(\u001b[49m\u001b[43mprofile_name\u001b[49m\u001b[43m)\u001b[49m:\n\u001b[0;32m    113\u001b[0m     \u001b[38;5;28;01mreturn\u001b[39;00m func(\u001b[38;5;241m*\u001b[39margs, \u001b[38;5;241m*\u001b[39m\u001b[38;5;241m*\u001b[39mkwargs)\n",
      "File \u001b[1;32mD:\\Miniconda3\\envs\\audio\\lib\\site-packages\\torch\\autograd\\profiler.py:443\u001b[0m, in \u001b[0;36mrecord_function.__init__\u001b[1;34m(self, name, args)\u001b[0m\n\u001b[0;32m    440\u001b[0m \u001b[38;5;28mself\u001b[39m\u001b[38;5;241m.\u001b[39mrun_callbacks_on_exit: \u001b[38;5;28mbool\u001b[39m \u001b[38;5;241m=\u001b[39m \u001b[38;5;28;01mTrue\u001b[39;00m\n\u001b[0;32m    441\u001b[0m \u001b[38;5;66;03m# Stores underlying RecordFunction as a tensor. TODO: move to custom\u001b[39;00m\n\u001b[0;32m    442\u001b[0m \u001b[38;5;66;03m# class (https://github.com/pytorch/pytorch/issues/35026).\u001b[39;00m\n\u001b[1;32m--> 443\u001b[0m \u001b[38;5;28mself\u001b[39m\u001b[38;5;241m.\u001b[39mhandle: torch\u001b[38;5;241m.\u001b[39mTensor \u001b[38;5;241m=\u001b[39m \u001b[43mtorch\u001b[49m\u001b[38;5;241;43m.\u001b[39;49m\u001b[43mzeros\u001b[49m\u001b[43m(\u001b[49m\u001b[38;5;241;43m1\u001b[39;49m\u001b[43m)\u001b[49m\n",
      "\u001b[1;31mKeyboardInterrupt\u001b[0m: "
     ]
    }
   ],
   "source": [
    "criterion = nn.CrossEntropyLoss()\n",
    "lr = 0.001 \n",
    "optimizer = optim.Adam(model_trans.parameters(), lr=lr, betas=(0.9, 0.98), eps=1e-9)\n",
    "#scheduler = optim.lr_scheduler.StepLR(optimizer,  1.0, gamma=0.95)\n",
    "\n",
    "losses_train = []\n",
    "losses_test = []\n",
    "best_loss = 1e9\n",
    "# begin training\n",
    "for epoch in tqdm(range(200)):\n",
    "    loss_train = run_epoch(model_trans, train_inout_seq, is_training=True)\n",
    "    loss_val = run_epoch(model_trans, test_inout_seq)\n",
    "    #scheduler.step()\n",
    "    optimizer = optim.Adam(model_trans.parameters(), lr=lr, betas=(0.9, 0.98), eps=1e-9)\n",
    "    losses_train.append(loss_train)\n",
    "    losses_test.append(loss_val)\n",
    "    \n",
    "    if epoch > 10:\n",
    "        lr = 0.0005\n",
    "        \n",
    "    if epoch > 20:\n",
    "        lr = 0.0001\n",
    "    \n",
    "    if losses_test[-1] < best_loss:\n",
    "        best_loss = losses_test[-1]\n",
    "        torch.save(model_trans.state_dict(), \"./TransformerLargeBin26.04cont\")\n",
    "    \n",
    "    clear_output(True)\n",
    "    fig = plt.figure(figsize=(10, 9))\n",
    "    \n",
    "    ax_1 = fig.add_subplot(2, 1, 1)\n",
    "    ax_2 = fig.add_subplot(2, 1, 2)\n",
    "    ax_1.set_title('train')\n",
    "    ax_1.plot(losses_train)\n",
    "    ax_2.set_title('test')\n",
    "    ax_2.plot(losses_test)\n",
    "    plt.show()\n",
    "    \n",
    "    print('Epoch[{}/{}] | loss train:{:.6f}, test:{:.6f}'\n",
    "              .format(epoch+1, 200, loss_train, loss_val))"
   ]
  },
  {
   "cell_type": "code",
   "execution_count": 11,
   "id": "089cc39a",
   "metadata": {},
   "outputs": [],
   "source": [
    "def GetRmseTransformer(model, test_inout_seq, k=19):\n",
    "    model.eval()\n",
    "    \n",
    "\n",
    "    rmse = []\n",
    "    transformer_predicts = []\n",
    "    all_predicts = np.empty((k, 1))\n",
    "    \n",
    "    for batch, i in tqdm(enumerate(range(0, len(test_inout_seq) - 1, batch_size))):\n",
    "        data, targets = get_batch(test_inout_seq, i,batch_size)\n",
    "        if data.size()[1] < 64:\n",
    "                break\n",
    "        all_predicts = np.concatenate((all_predicts, np.zeros((k, 64))), axis=1)\n",
    "        x = torch.reshape(data, (64, 20, 1))\n",
    "        cur_x = x\n",
    "        for step in range(k):\n",
    "            x_step = cur_x.type(torch.LongTensor)\n",
    "            x_step = torch.reshape(x_step, (64, 20)).to('cuda')\n",
    "            x_o = one_hot(x_step)\n",
    "            out = model(x_o.permute(0, 2, 1))\n",
    "            #print(out.size())\n",
    "            all_predicts[step, -64:] = np.argmax(out[:, -1, :].detach().cpu(), axis=1)\n",
    "            cur_x = torch.hstack((cur_x[:, 1:].detach(), \n",
    "                                  torch.reshape(np.argmax(out[:, -1, :].detach().cpu(), axis=1), (64, 1, 1))))\n",
    "    \n",
    "#     for step in tqdm(range(1, k+1)):\n",
    "#         test_right_part = (len(test)- 20)%64\n",
    "#         predicted_val = np.array([])\n",
    "#         for batch, i in enumerate(range(0, len(test_inout_seq) - 1, batch_size)):\n",
    "#             all_predicts = np.concatenate((all_predicts, np.zeros((k, 64))), axis=1)\n",
    "#             data, targets = get_batch(test_inout_seq, i,batch_size)\n",
    "#             if data.size()[1] < 64:\n",
    "#                 break\n",
    "#             cur_x = data\n",
    "#             for _ in range(step):\n",
    "#                 x_step = cur_x.type(torch.LongTensor)\n",
    "#                 x_step = torch.reshape(x_step, (64, 20))\n",
    "#                 x_o = one_hot(x_step, device=\"cpu\")\n",
    "#                 out = model(x_o.permute(0, 2, 1))\n",
    "#                 all_predicts[step, -64:] = np.argmax(out.detach(), axis=1)\n",
    "#                 cur_x = torch.hstack((cur_x[:, 1:].detach(), \n",
    "#                                   torch.reshape(np.argmax(out.detach(), axis=1), (64, 1, 1))))\n",
    "#                 #out = model(cur_x.to('cuda'))\n",
    "#                 #cur_x = torch.hstack((cur_x[:, 1:], out.cpu()))\n",
    "#                 #cur_x = torch.vstack((cur_x[1:, :], out[-1].cpu().reshape((1, 64, 1))))\n",
    "#             #out = model1(cur_x.to('cuda'))\n",
    "#             #predicted_val = np.concatenate((predicted_val, out[-1, :, 0].cpu().detach().numpy()))\n",
    "#             #predicted_val = np.concatenate((predicted_val, cur_x[-1, :, 0].cpu().detach().numpy()))\n",
    "            \n",
    "#         transformer_predicts.append(np.array(predicted_val)*std+mean)\n",
    "        \n",
    "#         if k == 1:\n",
    "#             r = (((np.array(predicted_val)*std+mean - np.array(test[20:-test_right_part]))**2).mean())**0.5\n",
    "#         else:\n",
    "#             r = (((np.array(predicted_val[:-k+1])*std+mean - np.array(test[20+k-1:-test_right_part]))**2).mean())**0.5\n",
    "#         rmse.append(r)\n",
    "    return all_predicts"
   ]
  },
  {
   "cell_type": "code",
   "execution_count": 13,
   "id": "5c28a72b",
   "metadata": {},
   "outputs": [
    {
     "data": {
      "text/plain": [
       "<All keys matched successfully>"
      ]
     },
     "execution_count": 13,
     "metadata": {},
     "output_type": "execute_result"
    }
   ],
   "source": [
    "model_trans.load_state_dict(torch.load(\"./TransformerLargeBin26.04cont\"))"
   ]
  },
  {
   "cell_type": "code",
   "execution_count": 14,
   "id": "6282e671",
   "metadata": {},
   "outputs": [
    {
     "name": "stderr",
     "output_type": "stream",
     "text": [
      "7812it [12:22, 10.53it/s]\n"
     ]
    }
   ],
   "source": [
    "predicts = GetRmseTransformer(model_trans.to('cuda'), test_inout_seq)"
   ]
  },
  {
   "cell_type": "code",
   "execution_count": 26,
   "id": "63d42940",
   "metadata": {},
   "outputs": [],
   "source": [
    "np.save(\"transformer_bin_predicts.npy\", predicts)"
   ]
  },
  {
   "cell_type": "code",
   "execution_count": 29,
   "id": "e00491e0",
   "metadata": {},
   "outputs": [],
   "source": [
    "np.save(\"transformer_bin_predicts27_04.npy\", predicts)"
   ]
  },
  {
   "cell_type": "code",
   "execution_count": 22,
   "id": "218f09b5",
   "metadata": {},
   "outputs": [
    {
     "data": {
      "text/plain": [
       "[<matplotlib.lines.Line2D at 0x18885b6c5b0>]"
      ]
     },
     "execution_count": 22,
     "metadata": {},
     "output_type": "execute_result"
    },
    {
     "data": {
      "image/png": "[encoded data removed]",
      "text/plain": [
       "<Figure size 432x288 with 1 Axes>"
      ]
     },
     "metadata": {
      "needs_background": "light"
     },
     "output_type": "display_data"
    }
   ],
   "source": [
    "plt.plot(predicts[0])"
   ]
  },
  {
   "cell_type": "code",
   "execution_count": 21,
   "id": "f186c991",
   "metadata": {},
   "outputs": [
    {
     "data": {
      "text/plain": [
       "19"
      ]
     },
     "execution_count": 21,
     "metadata": {},
     "output_type": "execute_result"
    }
   ],
   "source": [
    "len(predicts)"
   ]
  },
  {
   "cell_type": "code",
   "execution_count": 28,
   "id": "b73702ac",
   "metadata": {},
   "outputs": [
    {
     "data": {
      "text/plain": [
       "[<matplotlib.lines.Line2D at 0x210dc952950>]"
      ]
     },
     "execution_count": 28,
     "metadata": {},
     "output_type": "execute_result"
    },
    {
     "data": {
      "image/png": "[encoded data removed]",
      "text/plain": [
       "<Figure size 432x288 with 1 Axes>"
      ]
     },
     "metadata": {
      "needs_background": "light"
     },
     "output_type": "display_data"
    }
   ],
   "source": [
    "plt.plot(predicts[12])"
   ]
  },
  {
   "cell_type": "code",
   "execution_count": null,
   "id": "6201474e",
   "metadata": {},
   "outputs": [],
   "source": []
  }
 ],
 "metadata": {
  "kernelspec": {
   "display_name": "Python 3 (ipykernel)",
   "language": "python",
   "name": "python3"
  },
  "language_info": {
   "codemirror_mode": {
    "name": "ipython",
    "version": 3
   },
   "file_extension": ".py",
   "mimetype": "text/x-python",
   "name": "python",
   "nbconvert_exporter": "python",
   "pygments_lexer": "ipython3",
   "version": "3.10.4"
  }
 },
 "nbformat": 4,
 "nbformat_minor": 5
}
