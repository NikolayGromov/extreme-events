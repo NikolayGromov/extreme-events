{
 "cells": [
  {
   "cell_type": "code",
   "execution_count": 1,
   "id": "e3ba6e9c",
   "metadata": {},
   "outputs": [],
   "source": [
    "import numpy as np\n",
    "import torchvision\n",
    "import torch\n",
    "import torchvision.transforms as transforms\n",
    "from torch.utils.data.sampler import SubsetRandomSampler\n",
    "from torch import nn\n",
    "import torch.nn.functional as F\n",
    "import torch.optim as optim\n",
    "from torch.autograd import Variable\n",
    "from sklearn.preprocessing import MinMaxScaler\n",
    "import numpy as np\n",
    "import matplotlib.pyplot as plt\n",
    "from scipy.integrate import odeint\n",
    "from scipy.integrate import solve_ivp\n",
    "import matplotlib.pyplot as plt\n",
    "from torch.utils.data import DataLoader\n",
    "import math\n",
    "from IPython.display import clear_output\n",
    "from tqdm import tqdm\n",
    "import matplotlib.ticker as ticker\n",
    "%matplotlib inline"
   ]
  },
  {
   "cell_type": "code",
   "execution_count": 2,
   "id": "37483ff2",
   "metadata": {},
   "outputs": [],
   "source": [
    "data = np.load(\"data/DK_time_series_3000000.npy\")\n",
    "\n",
    "train = data[:-500000]\n",
    "test =  data[-500000:]\n",
    "\n",
    "mean = train.mean()\n",
    "std = train.std()\n",
    "#sigmastest = np.abs(test - mean)\n",
    "train_norm = (train - mean)/std\n",
    "test_norm = (test - mean)/std\n",
    "\n",
    "train_norm = torch.FloatTensor(train_norm).view(-1)\n",
    "test_norm = torch.FloatTensor(test_norm).view(-1)"
   ]
  },
  {
   "cell_type": "code",
   "execution_count": 3,
   "id": "bc47f13e",
   "metadata": {},
   "outputs": [],
   "source": [
    "def amp_to_int(x, n=256):\n",
    "    ### x.min must be negative\n",
    "    step = (x.max() - x.min()) / n\n",
    "    ans = np.zeros_like(x)\n",
    "    for i, val in enumerate(np.arange(x.min(), x.max(), step)):\n",
    "        for j in range(len(x)):\n",
    "            if val <= x[j] < val + step:\n",
    "                ans[j] = i\n",
    "                \n",
    "    return ans\n",
    "\n",
    "\n",
    "def int_to_amp(x, x_true, n=256):\n",
    "    ### x.min must be negative\n",
    "    step = (x_true.max() - x_true.min()) / n\n",
    "    ans = np.zeros_like(x, dtype=float)\n",
    "    #for j in range(len(x)):\n",
    "    ans = x_true.min() + x * step\n",
    "                \n",
    "    return ans        \n",
    "    "
   ]
  },
  {
   "cell_type": "code",
   "execution_count": 21,
   "id": "8d7e231a",
   "metadata": {},
   "outputs": [],
   "source": [
    "def one_hot(x, num_channels=256, device='cuda'):\n",
    "    x_o = torch.FloatTensor(x.shape[0], num_channels, x.shape[1])\n",
    "    x_o = x_o.to(device)\n",
    "    x_o.zero_().scatter_(1, x.unsqueeze(1), 1)\n",
    "    return x_o"
   ]
  },
  {
   "cell_type": "code",
   "execution_count": 5,
   "id": "5e1ed6d0",
   "metadata": {},
   "outputs": [],
   "source": [
    "int_data = amp_to_int(data)\n",
    "train = int_data[:-500000]\n",
    "test = int_data[-500000:]"
   ]
  },
  {
   "cell_type": "code",
   "execution_count": 89,
   "id": "385baa63",
   "metadata": {},
   "outputs": [],
   "source": [
    "train_window = 20\n",
    "\n",
    "def create_inout_sequences(input_data, tw):\n",
    "    inout_seq = []\n",
    "    L = len(input_data)\n",
    "    for i in range(L-tw):\n",
    "        train_seq = input_data[i:i+tw]\n",
    "        train_label = input_data[i+tw:i+tw+1]\n",
    "        inout_seq.append((train_seq ,train_label))\n",
    "    return inout_seq\n",
    "\n",
    "train_inout_seq = create_inout_sequences(train, train_window)\n",
    "test_inout_seq = create_inout_sequences(test, train_window)"
   ]
  },
  {
   "cell_type": "code",
   "execution_count": 90,
   "id": "0f4f1d94",
   "metadata": {},
   "outputs": [
    {
     "data": {
      "text/plain": [
       "array([ 86., 193.,  35.,  84.,   0.,  30.,  66., 215.,  49.,  47., 106.,\n",
       "       218.,  31.,  63., 166., 100.,  37.,  71., 199.,  55.])"
      ]
     },
     "execution_count": 90,
     "metadata": {},
     "output_type": "execute_result"
    }
   ],
   "source": [
    "train_inout_seq[0][0]"
   ]
  },
  {
   "cell_type": "code",
   "execution_count": 91,
   "id": "5ea9bfe6",
   "metadata": {},
   "outputs": [],
   "source": [
    "for i in range(len(train_inout_seq)):\n",
    "    if len(train_inout_seq[i][0]) != 20:\n",
    "        print(i)"
   ]
  },
  {
   "cell_type": "code",
   "execution_count": 16,
   "id": "cd1f4e94",
   "metadata": {},
   "outputs": [
    {
     "data": {
      "text/plain": [
       "array([[[ 86.],\n",
       "        [193.],\n",
       "        [ 35.],\n",
       "        [ 84.],\n",
       "        [  0.],\n",
       "        [ 30.],\n",
       "        [ 66.],\n",
       "        [215.],\n",
       "        [ 49.],\n",
       "        [ 47.],\n",
       "        [106.],\n",
       "        [218.],\n",
       "        [ 31.],\n",
       "        [ 63.],\n",
       "        [166.],\n",
       "        [100.],\n",
       "        [ 37.],\n",
       "        [ 71.],\n",
       "        [199.],\n",
       "        [ 55.]]])"
      ]
     },
     "execution_count": 16,
     "metadata": {},
     "output_type": "execute_result"
    }
   ],
   "source": [
    "train_inout_seq[0][0].reshape(1, 20, 1)"
   ]
  },
  {
   "cell_type": "code",
   "execution_count": 33,
   "id": "f953ffb3",
   "metadata": {},
   "outputs": [
    {
     "data": {
      "text/plain": [
       "[(array([ 86., 193.,  35.,  84.,   0.,  30.,  66., 215.,  49.,  47., 106.,\n",
       "         218.,  31.,  63., 166., 100.,  37.,  71., 199.,  55.]),\n",
       "  array([37.])),\n",
       " (array([193.,  35.,  84.,   0.,  30.,  66., 215.,  49.,  47., 106., 218.,\n",
       "          31.,  63., 166., 100.,  37.,  71., 199.,  55.,  37.]),\n",
       "  array([68.]))]"
      ]
     },
     "execution_count": 33,
     "metadata": {},
     "output_type": "execute_result"
    }
   ],
   "source": [
    "train_inout_seq[0:2]"
   ]
  },
  {
   "cell_type": "code",
   "execution_count": 40,
   "id": "be030a35",
   "metadata": {},
   "outputs": [
    {
     "data": {
      "text/plain": [
       "tensor([[ 86, 193,  35,  84,   0,  30,  66, 215,  49,  47, 106, 218,  31,  63,\n",
       "         166, 100,  37,  71, 199,  55]])"
      ]
     },
     "execution_count": 40,
     "metadata": {},
     "output_type": "execute_result"
    }
   ],
   "source": [
    "one_hot(torch.LongTensor(train_inout_seq[0][0]).reshape((1, 20)), device='cpu').argmax(axis=1)"
   ]
  },
  {
   "cell_type": "code",
   "execution_count": 52,
   "id": "4e392cc9",
   "metadata": {},
   "outputs": [],
   "source": [
    "train_inout_seq[0][0].dtype = 'int'"
   ]
  },
  {
   "cell_type": "code",
   "execution_count": 92,
   "id": "3f948c2f",
   "metadata": {},
   "outputs": [],
   "source": [
    "train_dataloader = DataLoader(train_inout_seq, batch_size=64, shuffle=True, drop_last=True)\n",
    "test_dataloader = DataLoader(test_inout_seq, batch_size=64, shuffle=False, drop_last=True)"
   ]
  },
  {
   "cell_type": "code",
   "execution_count": 97,
   "id": "80c6cedf",
   "metadata": {},
   "outputs": [],
   "source": [
    "class LSTMModel(nn.Module):\n",
    "    def __init__(self, input_size=1, hidden_layer_size=32, num_layers=2, output_size=256, dropout=0.2):\n",
    "        super().__init__()\n",
    "        self.hidden_layer_size = hidden_layer_size\n",
    "\n",
    "        self.linear_1 = nn.Linear(input_size, hidden_layer_size)\n",
    "        self.relu = nn.ReLU()\n",
    "        self.lstm = nn.LSTM(hidden_layer_size, hidden_size=self.hidden_layer_size, num_layers=num_layers, batch_first=True)\n",
    "        self.dropout = nn.Dropout(dropout)\n",
    "        self.linear_2 = nn.Linear(num_layers*hidden_layer_size, output_size)\n",
    "        \n",
    "\n",
    "    def forward(self, x):\n",
    "        batchsize = x.shape[0]\n",
    "        #assert batchsize == 64\n",
    "\n",
    "        # layer 1\n",
    "        x = self.linear_1(x)\n",
    "        \n",
    "        #assert x.size() == torch.Size((64, 20, 256))\n",
    "        x = self.relu(x)\n",
    "        \n",
    "        # LSTM layer\n",
    "        lstm_out, (h_n, c_n) = self.lstm(x)\n",
    "\n",
    "        # Floating\n",
    "        x = h_n.permute(1, 0, 2) \n",
    "        \n",
    "        x = torch.nn.Flatten()(x)\n",
    "        \n",
    "        #assert x.size() == torch.Size((64, 512))\n",
    "        \n",
    "        # layer 2\n",
    "        x = self.dropout(x)\n",
    "        predictions = self.linear_2(x)\n",
    "        \n",
    "        #assert predictions.size() == torch.Size((64, 256)) \n",
    "        return predictions"
   ]
  },
  {
   "cell_type": "code",
   "execution_count": 98,
   "id": "053252da",
   "metadata": {},
   "outputs": [],
   "source": [
    "model_lstm = LSTMModel(input_size=256, hidden_layer_size=256, num_layers=2, output_size=256, dropout=0.2)\n",
    "model_lstm = model_lstm.to('cuda')"
   ]
  },
  {
   "cell_type": "code",
   "execution_count": 99,
   "id": "b8516ab6",
   "metadata": {},
   "outputs": [],
   "source": [
    "def run_epoch(model, dataloader, is_training=False):\n",
    "    epoch_loss = 0\n",
    "\n",
    "    if is_training:\n",
    "        model.train()\n",
    "    else:\n",
    "        model.eval()\n",
    "\n",
    "    for idx, (x, y) in enumerate(dataloader):\n",
    "        if is_training:\n",
    "            optimizer.zero_grad()\n",
    "\n",
    "        batchsize = x.shape[0]\n",
    "        \n",
    "        \n",
    "        \n",
    "        x = x.type(torch.LongTensor)\n",
    "        \n",
    "        \n",
    "\n",
    "        x = torch.reshape(x, (64, 20)).to('cuda')\n",
    "        x_o = one_hot(x)\n",
    "        \n",
    "        y = y.type(torch.LongTensor)\n",
    "        y = y.view(-1).to('cuda')\n",
    "        \n",
    "        #print(x_o.size())\n",
    "\n",
    "        out = model(x_o.permute(0, 2, 1))\n",
    "        loss = criterion(out, y)\n",
    "\n",
    "        if is_training:\n",
    "            loss.backward()\n",
    "            optimizer.step()\n",
    "\n",
    "        epoch_loss += (loss.detach().item() / batchsize)\n",
    "\n",
    "\n",
    "    return epoch_loss"
   ]
  },
  {
   "cell_type": "code",
   "execution_count": null,
   "id": "558293fd",
   "metadata": {},
   "outputs": [
    {
     "data": {
      "image/png": "[encoded data removed]",
      "text/plain": [
       "<Figure size 720x648 with 2 Axes>"
      ]
     },
     "metadata": {
      "needs_background": "light"
     },
     "output_type": "display_data"
    },
    {
     "name": "stderr",
     "output_type": "stream",
     "text": [
      "\r",
      " 17%|████████████▌                                                               | 29/175 [1:43:55<8:29:11, 209.25s/it]"
     ]
    },
    {
     "name": "stdout",
     "output_type": "stream",
     "text": [
      "Epoch[29/175] | loss train:424.209704, test:87.915437\n"
     ]
    }
   ],
   "source": [
    "# define optimizer and loss function\n",
    "criterion = nn.CrossEntropyLoss()\n",
    "optimizer = optim.Adam(model_lstm.parameters(), lr=0.001, betas=(0.9, 0.999), eps=1e-9)\n",
    "lr = 0.001\n",
    "epochs = 175\n",
    "\n",
    "losses_train = []\n",
    "losses_test = []\n",
    "best_loss = 10e9\n",
    "# begin training\n",
    "for epoch in tqdm(range(epochs)): \n",
    "    if epoch > 40:\n",
    "        lr = 0.0005\n",
    "    if epoch > 100:\n",
    "        lr = 0.0001\n",
    "    optimizer = optim.Adam(model_lstm.parameters(), lr=lr, betas=(0.9, 0.999), eps=1e-9)    \n",
    "    loss_train = run_epoch(model_lstm, train_dataloader, is_training=True)\n",
    "    loss_val = run_epoch(model_lstm, test_dataloader)\n",
    "    losses_train.append(loss_train)\n",
    "    losses_test.append(loss_val)\n",
    "    \n",
    "    if losses_test[-1] < best_loss:\n",
    "        best_loss = losses_test[-1]\n",
    "        torch.save(model_lstm.state_dict(), \"./LSTMLargeDataBin\")\n",
    "    \n",
    "    clear_output(True)\n",
    "    fig = plt.figure(figsize=(10, 9))\n",
    "    \n",
    "    ax_1 = fig.add_subplot(2, 1, 1)\n",
    "    ax_2 = fig.add_subplot(2, 1, 2)\n",
    "    ax_1.set_title('train')\n",
    "    ax_1.plot(losses_train)\n",
    "    ax_2.set_title('test')\n",
    "    ax_2.plot(losses_test)\n",
    "    plt.show()\n",
    "    \n",
    "    print('Epoch[{}/{}] | loss train:{:.6f}, test:{:.6f}'\n",
    "              .format(epoch+1, epochs, loss_train, loss_val))"
   ]
  },
  {
   "cell_type": "markdown",
   "id": "b5181380",
   "metadata": {},
   "source": [
    "## Transformer"
   ]
  },
  {
   "cell_type": "code",
   "execution_count": null,
   "id": "4a38f7d2",
   "metadata": {},
   "outputs": [],
   "source": [
    "class PositionalEncoding(nn.Module):\n",
    "\n",
    "    def __init__(self, d_model, max_len=5000):\n",
    "        super(PositionalEncoding, self).__init__()       \n",
    "        pe = torch.zeros(max_len, d_model)\n",
    "        position = torch.arange(0, max_len, dtype=torch.float).unsqueeze(1)\n",
    "        div_term = torch.exp(torch.arange(0, d_model, 2).float() * (-math.log(10000.0) / d_model))\n",
    "        pe[:, 0::2] = torch.sin(position * div_term)\n",
    "        pe[:, 1::2] = torch.cos(position * div_term)\n",
    "        pe = pe.unsqueeze(0).transpose(0, 1)\n",
    "        #pe.requires_grad = False\n",
    "        self.register_buffer('pe', pe)\n",
    "\n",
    "    def forward(self, x):\n",
    "    \n",
    "        return x + self.pe[:x.size(0), :]\n",
    "          \n",
    "\n",
    "class TransAm(nn.Module):\n",
    "    def __init__(self,feature_size=250, nhead=10, num_layers=2,dropout=0.1):\n",
    "        super(TransAm, self).__init__()\n",
    "        self.model_type = 'Transformer'\n",
    "        \n",
    "        self.src_mask = None\n",
    "        self.pos_encoder = PositionalEncoding(feature_size)\n",
    "        self.encoder_layer = nn.TransformerEncoderLayer(d_model=feature_size, nhead=nhead, dropout=dropout)\n",
    "        self.transformer_encoder = nn.TransformerEncoder(self.encoder_layer, num_layers=num_layers)        \n",
    "        self.decoder = nn.Linear(feature_size,1)\n",
    "        self.init_weights()\n",
    "\n",
    "    def init_weights(self):\n",
    "        initrange = 0.1    \n",
    "        self.decoder.bias.data.zero_()\n",
    "        self.decoder.weight.data.uniform_(-initrange, initrange)\n",
    "\n",
    "    def forward(self,src):\n",
    "        if self.src_mask is None or self.src_mask.size(0) != len(src):\n",
    "            device = src.device\n",
    "            mask = self._generate_square_subsequent_mask(len(src)).to(device)\n",
    "            self.src_mask = mask\n",
    "        \n",
    "        #print(src.size())\n",
    "        src = self.pos_encoder(src)\n",
    "        #print(src.size())\n",
    "\n",
    "        output = self.transformer_encoder(src,self.src_mask)#, self.src_mask)\n",
    "        #print(output.size())\n",
    "        \n",
    "        output = self.decoder(output)\n",
    "        #print(output.size())\n",
    "        return output\n",
    "\n",
    "    def _generate_square_subsequent_mask(self, sz):\n",
    "        mask = (torch.triu(torch.ones(sz, sz)) == 1).transpose(0, 1)\n",
    "        mask = mask.float().masked_fill(mask == 0, float('-inf')).masked_fill(mask == 1, float(0.0))\n",
    "        return mask"
   ]
  },
  {
   "cell_type": "code",
   "execution_count": null,
   "id": "e7b832de",
   "metadata": {},
   "outputs": [],
   "source": [
    "model_trans = TransAm().to('cuda')"
   ]
  },
  {
   "cell_type": "code",
   "execution_count": null,
   "id": "4e018ac1",
   "metadata": {},
   "outputs": [],
   "source": [
    "input_window = 20\n",
    "batch_size = 64"
   ]
  },
  {
   "cell_type": "code",
   "execution_count": null,
   "id": "c67e3c5e",
   "metadata": {},
   "outputs": [],
   "source": [
    "def get_batch(source, i,batch_size):\n",
    "    seq_len = min(batch_size, len(source) - 1 - i)\n",
    "    data = source[i:i+seq_len]    \n",
    "    input = torch.stack(torch.stack([item[0] for item in data]).chunk(input_window,1)) # 1 is feature size\n",
    "    target = torch.stack(torch.stack([item[1] for item in data]).chunk(input_window,1))\n",
    "    return input, target"
   ]
  },
  {
   "cell_type": "code",
   "execution_count": null,
   "id": "e9253718",
   "metadata": {},
   "outputs": [],
   "source": [
    "def run_epoch(model, train_data, is_training=False):\n",
    "    epoch_loss = 0\n",
    "\n",
    "    if is_training:\n",
    "        model.train()\n",
    "    else:\n",
    "        model.eval()\n",
    "\n",
    "    for batch, i in enumerate(range(0, len(train_data) - 1, batch_size)):\n",
    "        data, targets = get_batch(train_data, i,batch_size)\n",
    "        if is_training:\n",
    "            optimizer.zero_grad()\n",
    "            \n",
    "        #print(x.size())\n",
    "        #print(y.size())\n",
    "        #x = torch.transpose(x, 0, 1).reshape((20, 10, 1)).float().to('cuda')\n",
    "        #y = y.view(-1).float().to('cuda')\n",
    "        \n",
    "        data = data.type(torch.LongTensor)\n",
    "        data = torch.reshape(data, (64, 20)).to('cuda')\n",
    "        x_o = one_hot(x)\n",
    "        \n",
    "        targets = targets.type(torch.LongTensor)\n",
    "        targets = targets.view(-1).to('cuda')\n",
    "\n",
    "        out = model(data.to('cuda'))\n",
    "        loss = criterion(out, targets)\n",
    "\n",
    "        if is_training:\n",
    "            loss.backward()\n",
    "            torch.nn.utils.clip_grad_norm_(model.parameters(), 0.7)\n",
    "            optimizer.step()\n",
    "\n",
    "        epoch_loss += (loss.detach().item() / batch_size)\n",
    "\n",
    "    #lr = scheduler.get_last_lr()[0]\n",
    "\n",
    "    return epoch_loss"
   ]
  },
  {
   "cell_type": "code",
   "execution_count": null,
   "id": "9d096a13",
   "metadata": {},
   "outputs": [],
   "source": [
    "criterion = nn.CrossEntropyLoss()\n",
    "lr = 0.005 \n",
    "optimizer = optim.Adam(model_trans.parameters(), lr=lr, betas=(0.9, 0.98), eps=1e-9)\n",
    "scheduler = optim.lr_scheduler.StepLR(optimizer,  1.0, gamma=0.95)\n",
    "\n",
    "losses_train = []\n",
    "losses_test = []\n",
    "best_loss = 1e9\n",
    "# begin training\n",
    "for epoch in range(200):\n",
    "    loss_train = run_epoch(model_trans, train_inout_seq, is_training=True)\n",
    "    loss_val = run_epoch(model_trans, test_inout_seq)\n",
    "    scheduler.step()\n",
    "    losses_train.append(loss_train)\n",
    "    losses_test.append(loss_val)\n",
    "    \n",
    "    if losses_test[-1] < best_loss:\n",
    "        best_loss = losses_test[-1]\n",
    "        torch.save(model_trans.state_dict(), \"./TransformerLargeBin\")\n",
    "    \n",
    "    clear_output(True)\n",
    "    fig = plt.figure(figsize=(10, 9))\n",
    "    \n",
    "    ax_1 = fig.add_subplot(2, 1, 1)\n",
    "    ax_2 = fig.add_subplot(2, 1, 2)\n",
    "    ax_1.set_title('train')\n",
    "    ax_1.plot(losses_train)\n",
    "    ax_2.set_title('test')\n",
    "    ax_2.plot(losses_test)\n",
    "    plt.show()\n",
    "    \n",
    "    print('Epoch[{}/{}] | loss train:{:.6f}, test:{:.6f}'\n",
    "              .format(epoch+1, 200, loss_train, loss_val))"
   ]
  }
 ],
 "metadata": {
  "kernelspec": {
   "display_name": "Python 3 (ipykernel)",
   "language": "python",
   "name": "python3"
  },
  "language_info": {
   "codemirror_mode": {
    "name": "ipython",
    "version": 3
   },
   "file_extension": ".py",
   "mimetype": "text/x-python",
   "name": "python",
   "nbconvert_exporter": "python",
   "pygments_lexer": "ipython3",
   "version": "3.10.4"
  }
 },
 "nbformat": 4,
 "nbformat_minor": 5
}
