{
 "cells": [
  {
   "cell_type": "code",
   "execution_count": 1,
   "id": "8cb1a6c0-2c9d-4797-909d-fe616bcfaab6",
   "metadata": {
    "ExecuteTime": {
     "end_time": "2024-11-22T10:38:45.902673Z",
     "start_time": "2024-11-22T10:38:41.284610Z"
    }
   },
   "outputs": [],
   "source": [
    "import pyedflib\n",
    "\n",
    "import mne\n",
    "import numpy as np\n",
    "import matplotlib.pyplot as plt\n",
    "import os\n",
    "from tqdm import tqdm\n",
    "from scipy.signal import butter, filtfilt\n",
    "\n",
    "import torch\n",
    "from torch import nn\n",
    "import torch.nn.functional as F\n",
    "import torch.optim as optim\n",
    "from torch.optim.lr_scheduler import ReduceLROnPlateau\n",
    "from torch.utils.data import DataLoader\n",
    "from adan_pytorch import Adan\n",
    "\n",
    "from os import listdir\n",
    "import os\n",
    "\n",
    "from sklearn.metrics import precision_score, recall_score, f1_score, confusion_matrix, ConfusionMatrixDisplay\n",
    "\n",
    "from IPython.display import clear_output"
   ]
  },
  {
   "cell_type": "markdown",
   "id": "334ac904-a048-4dc9-a686-ed1392ce6066",
   "metadata": {},
   "source": [
    "# Loading and preprocess data"
   ]
  },
  {
   "cell_type": "code",
   "execution_count": 2,
   "id": "cea20eb7",
   "metadata": {
    "ExecuteTime": {
     "end_time": "2024-11-22T10:38:45.910326Z",
     "start_time": "2024-11-22T10:38:45.904380Z"
    }
   },
   "outputs": [],
   "source": [
    "def ReadSignal(file_name): \n",
    "\n",
    "    f = pyedflib.EdfReader(file_name)\n",
    "    n = f.signals_in_file\n",
    "    signal_labels = f.getSignalLabels()\n",
    "    sigbufs = np.zeros((20, f.getNSamples()[0])) #or n\n",
    "    \n",
    "    if n == 22:\n",
    "        for i in np.arange(19):\n",
    "            sigbufs[i, :] = f.readSignal(i)\n",
    "        sigbufs[19, :] = f.readSignal(21)\n",
    "    elif n == 23:\n",
    "        for i in np.arange(19):\n",
    "            sigbufs[i, :] = f.readSignal(i)\n",
    "        sigbufs[19, :] = f.readSignal(20)\n",
    "    else:\n",
    "        for i in np.arange(n):\n",
    "            sigbufs[i, :] = f.readSignal(i)\n",
    "\n",
    "    time = [1/f.samplefrequency(0) * i for i in range(len(sigbufs[0]))]\n",
    "\n",
    "    annotations = f.readAnnotations()  \n",
    "\n",
    "\n",
    "    new_annot = [(annotations[0][i], annotations[1][i], annotations[2][i])  \n",
    "                 for i in range(len(annotations[0])) \n",
    "                                if (annotations[1][i] > 0) and (annotations[2][i] in ['?', 'Ð²Ñ\\x81', 'Ð²Ñ\\x81?'])]\n",
    "    f.close()\n",
    "    return sigbufs, new_annot, time, f.samplefrequency(0)"
   ]
  },
  {
   "cell_type": "code",
   "execution_count": 3,
   "id": "31d63dfc",
   "metadata": {
    "ExecuteTime": {
     "end_time": "2024-11-22T10:39:07.174504Z",
     "start_time": "2024-11-22T10:38:45.913126Z"
    }
   },
   "outputs": [],
   "source": [
    "record_names = [\"MoscowSpecialistsData/P2.edf\", \n",
    "                \"MoscowSpecialistsData/P3.edf\", \n",
    "                \"MoscowSpecialistsData/P4.edf\", \n",
    "                \"MoscowSpecialistsData/P5.edf\"]\n",
    "\n",
    "records = []\n",
    "annots = []\n",
    "times = []\n",
    "freqs = []\n",
    "for file_name in record_names:\n",
    "\n",
    "    sigbufs, new_annot, time, freq = ReadSignal(file_name)\n",
    "    records.append(sigbufs)\n",
    "    annots.append(new_annot)\n",
    "    times.append(time)\n",
    "    freqs.append(freq)\n",
    "    "
   ]
  },
  {
   "cell_type": "code",
   "execution_count": 4,
   "id": "1cad5ce1",
   "metadata": {
    "ExecuteTime": {
     "end_time": "2024-11-22T10:39:07.179546Z",
     "start_time": "2024-11-22T10:39:07.176668Z"
    }
   },
   "outputs": [],
   "source": [
    "FREQ_EDF_WRITE = freqs[0]"
   ]
  },
  {
   "cell_type": "code",
   "execution_count": 5,
   "id": "e43657c7",
   "metadata": {
    "ExecuteTime": {
     "end_time": "2024-11-22T10:39:07.183511Z",
     "start_time": "2024-11-22T10:39:07.180849Z"
    }
   },
   "outputs": [],
   "source": [
    "def Labeling(time, events_lst):\n",
    "    labels = np.zeros_like(time)\n",
    "\n",
    "    for events in events_lst:\n",
    "        for event in tqdm(events):\n",
    "            start = np.array(time < event[0]).argmin()\n",
    "            fin = np.array(time < event[0] + event[1]).argmin()\n",
    "            labels[start:fin] =  1\n",
    "    return labels\n",
    "        "
   ]
  },
  {
   "cell_type": "code",
   "execution_count": 6,
   "id": "7dc1d163",
   "metadata": {
    "ExecuteTime": {
     "end_time": "2024-11-22T10:39:07.186559Z",
     "start_time": "2024-11-22T10:39:07.184824Z"
    }
   },
   "outputs": [],
   "source": [
    "# all_labels = []\n",
    "# for i in range(len(records)-2, len(records)):\n",
    "#     labels = Labeling(times[i], [annots[i]])\n",
    "#     if \"Moscow\" in record_names[i]:\n",
    "#         np.save(\"MoscowSpecialistsData/Labels/\" + record_names[i][22:] + \"freq\" + str(freqs[i])[:3], labels)\n",
    "#     all_labels.append(labels)"
   ]
  },
  {
   "cell_type": "code",
   "execution_count": 7,
   "id": "4727c86b",
   "metadata": {
    "ExecuteTime": {
     "end_time": "2024-11-22T10:39:07.965748Z",
     "start_time": "2024-11-22T10:39:07.187812Z"
    }
   },
   "outputs": [],
   "source": [
    "all_labels = []\n",
    "\n",
    "for i in range(len(records)):\n",
    "    if \"Moscow\" in record_names[i]:\n",
    "        all_labels.append(np.load(\"MoscowSpecialistsData/Labels/\" + \n",
    "                                  record_names[i][22:] + \"freq\" + str(freqs[i])[:3] + \".npy\"))"
   ]
  },
  {
   "cell_type": "markdown",
   "id": "7d3ab489",
   "metadata": {},
   "source": [
    "# Train Test Split"
   ]
  },
  {
   "cell_type": "code",
   "execution_count": 8,
   "id": "bbbf95d6",
   "metadata": {
    "ExecuteTime": {
     "end_time": "2024-11-22T10:39:07.972198Z",
     "start_time": "2024-11-22T10:39:07.968483Z"
    }
   },
   "outputs": [],
   "source": [
    "def Shuffle(records):\n",
    "    shuffled_records = []\n",
    "    for i in range(len(records)):\n",
    "        shuffled_records.append(records[i].copy())\n",
    "        np.random.shuffle(shuffled_records[-1][:-1])\n",
    "    return shuffled_records"
   ]
  },
  {
   "cell_type": "code",
   "execution_count": 9,
   "id": "340161f8",
   "metadata": {
    "ExecuteTime": {
     "end_time": "2024-11-22T10:39:08.118882Z",
     "start_time": "2024-11-22T10:39:07.976311Z"
    }
   },
   "outputs": [],
   "source": [
    "def GetTrainTestByIdxs(array, train_indices):\n",
    "    train_array = [array[idx] for idx, is_train in enumerate(train_indices) if is_train == True]\n",
    "    test_array = [array[idx] for idx, is_train in enumerate(train_indices) if is_train == False]    \n",
    "    return train_array, test_array\n",
    "\n",
    "def GetTrainTestSplit(records, annots, times, labels, index, shuffle_leads, N):\n",
    "    train_indices = np.ones(N) #number of records\n",
    "    \n",
    "    train_indices[index] = 0\n",
    "    \n",
    "    train_records, test_records = GetTrainTestByIdxs(records, train_indices)\n",
    "    train_labels, test_labels = GetTrainTestByIdxs(labels, train_indices)  \n",
    "    train_annots, test_annots = GetTrainTestByIdxs(annots, train_indices)\n",
    "    train_times, test_times = GetTrainTestByIdxs(times, train_indices)\n",
    "    \n",
    "    \n",
    "    if shuffle_leads:\n",
    "        train_records = Shuffle(train_records)\n",
    "    \n",
    "    train_data = []\n",
    "    for i in range(len(train_records)):\n",
    "        train_time_start = train_annots[i][0][0]\n",
    "        train_time_end = train_annots[i][-1][0]\n",
    "        train_idx_start = (np.array(train_times[i]) <= train_time_start).argmin()\n",
    "        train_idx_fin = (np.array(train_times[i]) < train_time_end).argmin()        \n",
    "        \n",
    "        train_data.append(torch.FloatTensor(train_records[i][:, train_idx_start:train_idx_fin]))\n",
    "        \n",
    "        current_labels = train_labels[i][train_idx_start:train_idx_fin]\n",
    "        new_trainl = torch.zeros(2, len(current_labels))\n",
    "        new_trainl = (torch.arange(2) == torch.LongTensor(current_labels)[:,None]).T\n",
    "        new_trainl = new_trainl.float()\n",
    "        train_labels[i] = new_trainl\n",
    "    \n",
    "    test_data = []\n",
    "    for i in range(len(test_records)):\n",
    "        test_time_start = test_annots[i][0][0]\n",
    "        test_time_end = test_annots[i][-1][0]\n",
    "        test_idx_start = (np.array(test_times[i]) <= test_time_start).argmin()\n",
    "        test_idx_fin = (np.array(test_times[i]) < test_time_end).argmin()\n",
    "\n",
    "        test_data.append(torch.FloatTensor(test_records[i][:, test_idx_start:test_idx_fin]))\n",
    "        \n",
    "        current_labels = test_labels[i][test_idx_start:test_idx_fin]\n",
    "        new_testl = torch.zeros(2, len(current_labels))\n",
    "        new_testl = (torch.arange(2) == torch.LongTensor(current_labels)[:,None]).T\n",
    "        new_testl = new_testl.float()\n",
    "        test_labels[i] = new_testl\n",
    "    \n",
    "    return train_data, train_labels, test_data, test_labels"
   ]
  },
  {
   "cell_type": "code",
   "execution_count": 10,
   "id": "ff43e409",
   "metadata": {
    "ExecuteTime": {
     "end_time": "2024-11-22T10:39:08.124098Z",
     "start_time": "2024-11-22T10:39:08.120258Z"
    }
   },
   "outputs": [],
   "source": [
    "RECEPTIVE_FIELD = 4000\n",
    "OVERLAP = 0 \n",
    "\n",
    "def CreateSamples(x, labels, rf = RECEPTIVE_FIELD, ov = OVERLAP):\n",
    "    inout_seq = []\n",
    "    L = x.shape[-1]\n",
    "    for i in tqdm(range(ov, L- rf - ov, rf)):\n",
    "        train_seq = x[:, i-ov:i+rf+ov]\n",
    "        train_label = labels[:, i:i+rf]\n",
    "        inout_seq.append((train_seq ,train_label))\n",
    "    return inout_seq\n",
    "    "
   ]
  },
  {
   "cell_type": "markdown",
   "id": "59d4ecfe-0c69-43d6-be2b-7470c5457a35",
   "metadata": {},
   "source": [
    "# Net and Training"
   ]
  },
  {
   "cell_type": "code",
   "execution_count": 11,
   "id": "6e6080d5-00bf-4516-820a-03d112993131",
   "metadata": {
    "ExecuteTime": {
     "end_time": "2024-11-22T10:39:08.244448Z",
     "start_time": "2024-11-22T10:39:08.125684Z"
    },
    "code_folding": [
     0,
     15,
     37,
     53
    ]
   },
   "outputs": [],
   "source": [
    "class conbr_block(nn.Module):\n",
    "    def __init__(self, in_layer, out_layer, kernel_size, stride, dilation):\n",
    "        super(conbr_block, self).__init__()\n",
    "\n",
    "        self.conv1 = nn.Conv1d(in_layer, out_layer, kernel_size=kernel_size, stride=stride, dilation = dilation, padding = 3, bias=True)\n",
    "        self.bn = nn.BatchNorm1d(out_layer)\n",
    "        self.relu = nn.ReLU()\n",
    "    \n",
    "    def forward(self,x):\n",
    "        x = self.conv1(x)\n",
    "        x = self.bn(x)\n",
    "        out = self.relu(x)\n",
    "        \n",
    "        return out       \n",
    "\n",
    "class se_block(nn.Module):\n",
    "    def __init__(self,in_layer, out_layer):\n",
    "        super(se_block, self).__init__()\n",
    "        \n",
    "        self.conv1 = nn.Conv1d(in_layer, out_layer//8, kernel_size=1, padding=0)\n",
    "        self.conv2 = nn.Conv1d(out_layer//8, in_layer, kernel_size=1, padding=0)\n",
    "        self.fc = nn.Linear(1,out_layer//8)\n",
    "        self.fc2 = nn.Linear(out_layer//8,out_layer)\n",
    "        self.relu = nn.ReLU()\n",
    "        self.sigmoid = nn.Sigmoid()\n",
    "    \n",
    "    def forward(self,x):\n",
    "\n",
    "        x_se = nn.functional.adaptive_avg_pool1d(x,1)\n",
    "        x_se = self.conv1(x_se)\n",
    "        x_se = self.relu(x_se)\n",
    "        x_se = self.conv2(x_se)\n",
    "        x_se = self.sigmoid(x_se)\n",
    "        \n",
    "        x_out = torch.add(x, x_se)\n",
    "        return x_out\n",
    "\n",
    "class re_block(nn.Module):\n",
    "    def __init__(self, in_layer, out_layer, kernel_size, dilation):\n",
    "        super(re_block, self).__init__()\n",
    "        \n",
    "        self.cbr1 = conbr_block(in_layer,out_layer, kernel_size, 1, dilation)\n",
    "        self.cbr2 = conbr_block(out_layer,out_layer, kernel_size, 1, dilation)\n",
    "        self.seblock = se_block(out_layer, out_layer)\n",
    "    \n",
    "    def forward(self,x):\n",
    "\n",
    "        x_re = self.cbr1(x)\n",
    "        x_re = self.cbr2(x_re)\n",
    "        x_re = self.seblock(x_re)\n",
    "        x_out = torch.add(x, x_re)\n",
    "        return x_out          \n",
    "\n",
    "class UNET_1D(nn.Module):\n",
    "    def __init__(self ,input_dim,layer_n,kernel_size,depth):\n",
    "        super(UNET_1D, self).__init__()\n",
    "        self.input_dim = input_dim\n",
    "        self.layer_n = layer_n\n",
    "        self.kernel_size = kernel_size\n",
    "        self.depth = depth\n",
    "        \n",
    "        self.AvgPool1D1 = nn.AvgPool1d(input_dim, stride=5, padding=8)\n",
    "        self.AvgPool1D2 = nn.AvgPool1d(input_dim, stride=25, padding=8)\n",
    "        self.AvgPool1D3 = nn.AvgPool1d(input_dim, stride=125, padding=8)\n",
    "        \n",
    "        self.layer1 = self.down_layer(self.input_dim, self.layer_n, self.kernel_size,1, 2)\n",
    "        self.layer2 = self.down_layer(self.layer_n, int(self.layer_n*2), self.kernel_size,5, 2)\n",
    "        self.layer3 = self.down_layer(int(self.layer_n*2)+int(self.input_dim), int(self.layer_n*3), self.kernel_size,5, 2)\n",
    "        self.layer4 = self.down_layer(int(self.layer_n*3)+int(self.input_dim), int(self.layer_n*4), self.kernel_size,5, 2)\n",
    "        self.layer5 = self.down_layer(int(self.layer_n*4)+int(self.input_dim), int(self.layer_n*5), self.kernel_size,4, 2)\n",
    "\n",
    "        self.cbr_up1 = conbr_block(int(self.layer_n*7), int(self.layer_n*3), self.kernel_size, 1, 1)\n",
    "        self.cbr_up2 = conbr_block(int(self.layer_n*5), int(self.layer_n*2), self.kernel_size, 1, 1)\n",
    "        self.cbr_up3 = conbr_block(int(self.layer_n*3), self.layer_n, self.kernel_size, 1, 1)\n",
    "        self.upsample = nn.Upsample(scale_factor=5, mode='nearest')\n",
    "        self.upsample1 = nn.Upsample(scale_factor=5, mode='nearest') #for 4000 it is 5 and for 100 is 4\n",
    "        \n",
    "        self.outcov = nn.Conv1d(self.layer_n, 2, kernel_size=self.kernel_size, stride=1,padding = 3)\n",
    "    \n",
    "        \n",
    "    def down_layer(self, input_layer, out_layer, kernel, stride, depth):\n",
    "        block = []\n",
    "        block.append(conbr_block(input_layer, out_layer, kernel, stride, 1))\n",
    "        for i in range(depth):\n",
    "            block.append(re_block(out_layer,out_layer,kernel,1))\n",
    "        return nn.Sequential(*block)\n",
    "            \n",
    "    def forward(self, x):\n",
    "        \n",
    "        #print(\"x\", x.size())\n",
    "        pool_x1 = self.AvgPool1D1(x)\n",
    "        #print(\"pool_x1\", pool_x1.size())\n",
    "        \n",
    "        pool_x2 = self.AvgPool1D2(x)\n",
    "        #print(\"pool_x2\", pool_x2.size())\n",
    "        \n",
    "        pool_x3 = self.AvgPool1D3(x)\n",
    "        #print(\"pool_x3\", pool_x3.size())\n",
    "        \n",
    "        \n",
    "        #############Encoder#####################\n",
    "        \n",
    "        out_0 = self.layer1(x)\n",
    "        #print(\"out_0\", out_0.size())\n",
    "        out_1 = self.layer2(out_0)        \n",
    "        #print(\"out_1\", out_1.size())\n",
    "        \n",
    "        \n",
    "        x = torch.cat([out_1,pool_x1],1)\n",
    "\n",
    "        #print(\"x\", x.size())\n",
    "        out_2 = self.layer3(x)\n",
    "        #print(\"out_2\", out_2.size())\n",
    "        \n",
    "        x = torch.cat([out_2,pool_x2],1)\n",
    "        #print(\"x\", x.size())\n",
    "        x = self.layer4(x)\n",
    "        #print(\"x\", x.size())\n",
    "        \n",
    "        \n",
    "        #############Decoder####################\n",
    "        \n",
    "        up = self.upsample1(x)\n",
    "        #print(\"up\", up.size())\n",
    "        \n",
    "        up = torch.cat([up,out_2],1)\n",
    "        #print(\"up\", up.size())\n",
    "        \n",
    "        up = self.cbr_up1(up)\n",
    "        #print(\"up\", up.size())\n",
    "        \n",
    "        up = self.upsample(up)\n",
    "        #print(\"up\", up.size())\n",
    "        \n",
    "        up = torch.cat([up,out_1],1)\n",
    "        #print(\"up\", up.size())\n",
    "        \n",
    "        up = self.cbr_up2(up)\n",
    "        #print(\"up\", up.size())\n",
    "        \n",
    "        \n",
    "        up = self.upsample(up)\n",
    "        #print(\"up\", up.size())\n",
    "        \n",
    "        up = torch.cat([up,out_0],1)\n",
    "        #print(\"up\", up.size())\n",
    "        \n",
    "        up = self.cbr_up3(up)\n",
    "        #print(\"up\", up.size())\n",
    "        \n",
    "        out = self.outcov(up)\n",
    "        #print(\"out\", out.size())\n",
    "        \n",
    "        #out = nn.functional.softmax(out,dim=2)\n",
    "        \n",
    "        return out"
   ]
  },
  {
   "cell_type": "code",
   "execution_count": 12,
   "id": "f7f95c95",
   "metadata": {
    "ExecuteTime": {
     "end_time": "2024-11-22T10:39:08.251325Z",
     "start_time": "2024-11-22T10:39:08.246486Z"
    }
   },
   "outputs": [],
   "source": [
    "def run_epoch(model, optimizer, criterion, dataloader, is_training=False):\n",
    "    epoch_loss = 0\n",
    "\n",
    "    if is_training:\n",
    "        model.train()\n",
    "    else:\n",
    "        model.eval()\n",
    "\n",
    "    for idx, (x, y) in tqdm(enumerate(dataloader)):\n",
    "        if is_training:\n",
    "            optimizer.zero_grad()\n",
    "      \n",
    "        #print(\"x\", x.shape)\n",
    "        \n",
    "\n",
    "        out = model(x.to('cuda'))\n",
    "        #print(\"y\", y.shape)\n",
    "        #print(\"out\", out.shape)\n",
    "        loss = criterion(out, y.to('cuda'))\n",
    "\n",
    "        if is_training:\n",
    "            loss.backward()\n",
    "            optimizer.step()\n",
    "\n",
    "        epoch_loss += (loss.detach().item() / len(dataloader))\n",
    "\n",
    "\n",
    "    return epoch_loss"
   ]
  },
  {
   "cell_type": "code",
   "execution_count": 13,
   "id": "2d09798b",
   "metadata": {
    "ExecuteTime": {
     "end_time": "2024-11-22T10:39:08.257278Z",
     "start_time": "2024-11-22T10:39:08.253101Z"
    }
   },
   "outputs": [],
   "source": [
    "def GetRawMetricsAndCMEPINoLogging(predictions, test_labels):\n",
    "    TP_sum = 0\n",
    "    FP_sum = 0\n",
    "    FN_sum = 0    \n",
    "    \n",
    "    for i in range(len(test_labels)):\n",
    "        pred_len = len(predictions[i])\n",
    "\n",
    "        TP, FP, FN = CollectingTPFPFN(predictions[i], test_labels[i][1, :pred_len].numpy())\n",
    "\n",
    "        TP_sum += TP\n",
    "        FP_sum += FP\n",
    "        FN_sum += FN      \n",
    "\n",
    "        \n",
    "    return 2 * TP_sum / (2 * TP_sum + FP_sum + FN_sum)\n",
    "    "
   ]
  },
  {
   "cell_type": "code",
   "execution_count": 14,
   "id": "b3a4cb44",
   "metadata": {
    "ExecuteTime": {
     "end_time": "2024-11-22T10:39:08.264941Z",
     "start_time": "2024-11-22T10:39:08.259167Z"
    }
   },
   "outputs": [],
   "source": [
    "def CalculateMetric(model, test_dataloader, test_labels, split_index): # now only for 1 record in test_dataloader\n",
    "    \n",
    "\n",
    "    all_preds = []\n",
    "    record_preds = []\n",
    "    for idx, (x, y) in tqdm(enumerate(test_dataloader)):\n",
    "        \n",
    "      \n",
    "        #print(\"x\", x.shape)\n",
    "        \n",
    "\n",
    "        out = model(x.to('cuda'))\n",
    "        \n",
    "        m = nn.Softmax(dim=1)\n",
    "        out = m(out)\n",
    "            \n",
    "        preds = np.argmax(out.detach().cpu().numpy(), axis=1)\n",
    "        record_preds.append(preds)\n",
    "    shapes = np.array(record_preds).shape\n",
    "    record_preds = np.array(record_preds).reshape(shapes[0] * shapes[1] * shapes[2])\n",
    "    all_preds.append(record_preds)\n",
    "    \n",
    "    threshold1 = 50\n",
    "    threshold2 = None\n",
    "    if split_index < 4:\n",
    "        threshold2 = 150\n",
    "    \n",
    "    for j in range(len(all_preds)):\n",
    "        PostProcessing(all_preds[j], threshold1, threshold2)\n",
    "    metric = GetRawMetricsAndCMEPINoLogging(all_preds, test_labels)\n",
    "    return metric"
   ]
  },
  {
   "cell_type": "code",
   "execution_count": 15,
   "id": "48541ec0",
   "metadata": {
    "ExecuteTime": {
     "end_time": "2024-11-22T10:39:08.274819Z",
     "start_time": "2024-11-22T10:39:08.266670Z"
    }
   },
   "outputs": [],
   "source": [
    "def Train(model, train_dataloader, test_dataloader, test_labels, i, path):\n",
    "\n",
    "    criterion = nn.BCEWithLogitsLoss()#pos_weight = torch.FloatTensor([[0.3, 0.7]] * 4000).T.to(\"cuda\"))\n",
    "    optimizer = optim.Adam(model.parameters(), lr=0.001, betas=(0.9, 0.999), eps=1e-9)\n",
    "    scheduler = ReduceLROnPlateau(optimizer, patience = 3, factor=0.5, min_lr=0.00001)\n",
    "    epochs = 250\n",
    "\n",
    "    losses_train = []\n",
    "    losses_test = []\n",
    "    metrics = []\n",
    "    best_loss = 10e9\n",
    "    best_metric = 0\n",
    "    \n",
    "    # begin training\n",
    "\n",
    "    early_stop_count = 15\n",
    "    current_es = 0\n",
    "    best_epoch = 0\n",
    "    for epoch in range(epochs): \n",
    "\n",
    "\n",
    "        loss_train = run_epoch(model, optimizer, criterion, train_dataloader, is_training=True)\n",
    "        loss_val = run_epoch(model, optimizer, criterion, test_dataloader)\n",
    "        scheduler.step(loss_val)\n",
    "        losses_train.append(loss_train)\n",
    "        losses_test.append(loss_val)\n",
    "        \n",
    "        #metric = CalculateMetric(model, test_dataloader, test_labels, i)\n",
    "        #metrics.append(metric)\n",
    "        \n",
    "#         if metric >= best_metric:\n",
    "#             best_metric = metric\n",
    "#             torch.save(model.state_dict(), path + \"/Split\" + str(i) +\"/Unet1d\")\n",
    "#             best_epoch = epoch\n",
    "\n",
    "        if losses_test[-1] < best_loss:\n",
    "            current_es = 0\n",
    "            best_loss = losses_test[-1]\n",
    "            torch.save(model.state_dict(), path + \"/Split\" + str(i) +\"/Unet1d\")\n",
    "            best_epoch = epoch\n",
    "        else:\n",
    "            current_es += 1\n",
    "        #if current_es == early_stop_count:\n",
    "            #break\n",
    "\n",
    "        clear_output(True)\n",
    "        fig = plt.figure(figsize=(10, 9))\n",
    "\n",
    "        ax_1 = fig.add_subplot(3, 1, 1)\n",
    "        ax_2 = fig.add_subplot(3, 1, 2)\n",
    "        ax_3 = fig.add_subplot(3, 1, 3)\n",
    "        \n",
    "        ax_1.set_title('train loss')\n",
    "        ax_1.plot(losses_train)\n",
    "        ax_2.set_title('test loss')\n",
    "        ax_2.plot(losses_test)\n",
    "#         ax_3.set_title('test metric')\n",
    "#         ax_3.plot(metrics)\n",
    "        plt.savefig(path + \"/Split\" + str(i) + \"/Unet1dFigure\")\n",
    "\n",
    "        plt.show()\n",
    "\n",
    "\n",
    "        print('Epoch[{}/{}] | loss train:{:.6f}, test:{:.6f}'\n",
    "                  .format(epoch+1, epochs, loss_train, loss_val))\n",
    "    f = open(path + \"/Split\" + str(i) + \"/BestEpoch.txt\", 'w')\n",
    "    f.write(str(best_epoch))\n",
    "    f.close()\n",
    "    "
   ]
  },
  {
   "cell_type": "markdown",
   "id": "7f94346c-4f9a-477d-b888-1eab9e070416",
   "metadata": {},
   "source": [
    "# Collecting Predictions, Calculating Metrics"
   ]
  },
  {
   "cell_type": "code",
   "execution_count": 16,
   "id": "5a77950d",
   "metadata": {
    "ExecuteTime": {
     "end_time": "2024-11-22T10:39:08.280528Z",
     "start_time": "2024-11-22T10:39:08.276228Z"
    }
   },
   "outputs": [],
   "source": [
    "def CollectingPreds(model, test_data):\n",
    "\n",
    "    model.eval()\n",
    "    model.cpu()\n",
    "    all_preds = []\n",
    "    for i in range(len(test_data)):\n",
    "        record_preds = []\n",
    "        for idx in tqdm(range(OVERLAP, test_data[i].size()[1]- RECEPTIVE_FIELD - OVERLAP, RECEPTIVE_FIELD)):\n",
    "\n",
    "            train_seq = test_data[i][:, idx-OVERLAP:idx+RECEPTIVE_FIELD+OVERLAP][None, ...]\n",
    "                  \n",
    "            out = model(train_seq)\n",
    "            m = nn.Softmax(dim=1)\n",
    "            out = m(out)\n",
    "            \n",
    "            preds = np.argmax(out.detach().cpu().numpy(), axis=1)\n",
    "            record_preds.append(preds)\n",
    "        shapes = np.array(record_preds).shape\n",
    "        record_preds = np.array(record_preds).reshape(shapes[0] * shapes[1] * shapes[2])\n",
    "        all_preds.append(record_preds)\n",
    "    return all_preds"
   ]
  },
  {
   "cell_type": "code",
   "execution_count": 17,
   "id": "d21912f5",
   "metadata": {
    "ExecuteTime": {
     "end_time": "2024-11-22T10:39:08.286755Z",
     "start_time": "2024-11-22T10:39:08.281973Z"
    }
   },
   "outputs": [],
   "source": [
    "def MergeClose(predictions, threshold):\n",
    "    i = 0\n",
    "    in_event = False\n",
    "    while i < len(predictions):\n",
    "        while i < len(predictions) and predictions[i] == 1:\n",
    "            in_event = True\n",
    "            i += 1\n",
    "        if  i < len(predictions) and in_event:\n",
    "            if np.any(predictions[i:i+threshold]):\n",
    "                while  i < len(predictions) and predictions[i] == 0:\n",
    "                    predictions[i] = 1\n",
    "                    i += 1\n",
    "            else:\n",
    "                in_event = False\n",
    "        i += 1\n",
    "\n",
    "def DeleteShortEvents(predictions, threshold):\n",
    "    i = 0\n",
    "    while i < len(predictions):\n",
    "        event_len = 0\n",
    "        event_idx_start = i\n",
    "        while i < len(predictions) and predictions[i] == 1:\n",
    "            i += 1\n",
    "            event_len += 1\n",
    "        if event_len < threshold:\n",
    "            predictions[event_idx_start:i] = 0\n",
    "        i += 1\n",
    "def PostProcessing(predictions, threshold1, threshold2=None):\n",
    "    MergeClose(predictions, threshold1)\n",
    "    if threshold2 is None:\n",
    "        DeleteShortEvents(predictions, threshold1)\n",
    "    else:\n",
    "        DeleteShortEvents(predictions, threshold2)\n",
    "        "
   ]
  },
  {
   "cell_type": "code",
   "execution_count": 18,
   "id": "7161eb8f",
   "metadata": {
    "ExecuteTime": {
     "end_time": "2024-11-22T10:39:08.297797Z",
     "start_time": "2024-11-22T10:39:08.288402Z"
    }
   },
   "outputs": [],
   "source": [
    "def CollectingTPFPFN(pred_labels, true_labels):\n",
    "    i = 0\n",
    "    TP = 0\n",
    "    FP = 0\n",
    "    FN = 0\n",
    "\n",
    "    is_true_flag = 0\n",
    "    is_pred_flag = 0\n",
    "    while i < len(pred_labels):\n",
    "        while i < len(pred_labels) and true_labels[i] == 1:\n",
    "            is_true_flag = 1\n",
    "            if pred_labels[i] == 1:\n",
    "                is_pred_flag = 1\n",
    "            i += 1\n",
    "        if is_true_flag:\n",
    "            if is_pred_flag:\n",
    "                TP += 1\n",
    "            else:\n",
    "                FN += 1\n",
    "        \n",
    "        is_true_flag = 0\n",
    "        is_pred_flag = 0   \n",
    "        i += 1\n",
    "\n",
    "    i = 0\n",
    "    while i < len(pred_labels):\n",
    "        while i < len(pred_labels) and pred_labels[i] == 1:\n",
    "            is_pred_flag = 1\n",
    "            if true_labels[i] == 1:\n",
    "                is_true_flag = 1\n",
    "            i += 1\n",
    "        if is_pred_flag and not is_true_flag:\n",
    "            FP += 1\n",
    "        is_pred_flag = 0\n",
    "        is_true_flag = 0\n",
    "        i += 1\n",
    "\n",
    "    return TP, FP, FN \n",
    "\n",
    "def GetRawMetricsAndCMEPI(predictions, test_labels, split_index, path, N):\n",
    "    lens = []\n",
    "    sums = []\n",
    "\n",
    "    acc = []\n",
    "    precision = []\n",
    "    recall = []\n",
    "    f1 = []\n",
    "\n",
    "    TP_sum = 0\n",
    "    FP_sum = 0\n",
    "    FN_sum = 0\n",
    "    \n",
    "    all_cm = 0\n",
    "    \n",
    "    train_indices = np.ones(N) #number of records\n",
    "    \n",
    "    train_indices[split_index] = 0\n",
    "        \n",
    "    train_record_names, test_record_names = GetTrainTestByIdxs(record_names, train_indices)\n",
    "    \n",
    "        \n",
    "    f = open(path + \"/Split\" + str(split_index) + \"/Metrics.txt\", 'w')\n",
    "    \n",
    "    for i in range(len(test_labels)):\n",
    "        pred_len = len(predictions[i])\n",
    "\n",
    "        TP, FP, FN = CollectingTPFPFN(predictions[i], test_labels[i][1, :pred_len].numpy())\n",
    "\n",
    "        TP_sum += TP\n",
    "        FP_sum += FP\n",
    "        FN_sum += FN\n",
    "            \n",
    "        if TP + FP != 0:\n",
    "            precision.append(TP / (TP + FP))\n",
    "        else:\n",
    "            precision.append(0)\n",
    "        recall.append(TP / (TP + FN))\n",
    "        f1.append(2 * TP / (2 * TP + FP + FN))\n",
    "        \n",
    "\n",
    "        cm = np.array([[0, FP], [FN, TP]])\n",
    "        all_cm += cm\n",
    "        \n",
    "        f.write(\"=============Record \" + test_record_names[i] + \"================\\n\")\n",
    "    \n",
    "        f.write(\"precision \" + str(precision[i]) + \"\\n\")\n",
    "        f.write(\"recall \" + str(recall[i]) + \"\\n\")\n",
    "        f.write(\"f1 score \" + str(f1[i]) + \"\\n\")\n",
    "                \n",
    "        con_mat = ConfusionMatrixDisplay(cm)\n",
    "        con_mat.plot().figure_.savefig(path + \"/Split\" + str(split_index) + \n",
    "                                \"/ConfusionMatrix_\" + test_record_names[i].replace(\"/\", \"_\") + \".png\")\n",
    "    f.write(\"===========ALL RECORDS SCORE==================\\n\")\n",
    "    \n",
    "    if TP_sum + FP_sum != 0:\n",
    "        f.write(\"Full precision \" + str(TP_sum / (TP_sum + FP_sum)) + \"\\n\")\n",
    "    else:\n",
    "        f.write(\"Full precision \" + str(0) + \"\\n\")\n",
    "        \n",
    "    f.write(\"Full recall \" + str(TP_sum / (TP_sum + FN_sum)) + \"\\n\")\n",
    "    f.write(\"Full f1 \" + str(2 * TP_sum / (2 * TP_sum + FP_sum + FN_sum)) + \"\\n\")\n",
    "    \n",
    "    \n",
    "    f.close()\n",
    "    con_mat = ConfusionMatrixDisplay(all_cm)\n",
    "    con_mat.plot().figure_.savefig(path + \"/Split\" + str(split_index) + \n",
    "                                \"/ConfusionMatrixFull.png\")"
   ]
  },
  {
   "cell_type": "markdown",
   "id": "3ff3d01d",
   "metadata": {},
   "source": [
    "# Logging and Creating Folder"
   ]
  },
  {
   "cell_type": "code",
   "execution_count": 19,
   "id": "7056cdb7",
   "metadata": {
    "ExecuteTime": {
     "end_time": "2024-11-22T10:39:08.303198Z",
     "start_time": "2024-11-22T10:39:08.299399Z"
    }
   },
   "outputs": [],
   "source": [
    "def LogResults(model, test_data, test_labels, i, path, last_epoch, low_freq, area_SWI, write_edf, annots, N):\n",
    "    if not last_epoch:\n",
    "        model.load_state_dict(torch.load(path + \"/Split\" + str(i) +\"/Unet1d\"))  \n",
    "    all_preds = CollectingPreds(model, test_data)\n",
    "    threshold1 = 25 #low because of lower sample rate, for 500 need to up to ???\n",
    "    threshold2 = None\n",
    "    sr = 200\n",
    "    if not low_freq:\n",
    "        threshold = 30\n",
    "        sr = 500\n",
    "    for j in range(len(all_preds)):\n",
    "        PostProcessing(all_preds[j], threshold1, threshold2)\n",
    "    GetRawMetricsAndCMEPI(all_preds, test_labels, i, path, N)  \n",
    "    if write_edf:\n",
    "        WriteEDF(all_preds, i, FREQ_EDF_WRITE, annots, path, N)\n",
    "        \n",
    "#     SWIs_pred = []\n",
    "#     SWIs_true = []\n",
    "    \n",
    "#     for j in range(len(all_preds)):\n",
    "#         SWIs_pred.append(CalculateSWI(all_preds[j], sr, area_SWI))\n",
    "#         SWIs_true.append(CalculateSWI(test_labels[j][1], sr, area_SWI))     \n",
    "#    np.savetxt(path + \"/Split\" + str(i) +\"/SWIPred\", np.array(SWIs_pred))\n",
    "#    np.savetxt(path + \"/Split\" + str(i) +\"/SWITrue\", np.array(SWIs_true))    "
   ]
  },
  {
   "cell_type": "code",
   "execution_count": 20,
   "id": "0df1636d",
   "metadata": {
    "ExecuteTime": {
     "end_time": "2024-11-22T10:39:08.307969Z",
     "start_time": "2024-11-22T10:39:08.304766Z"
    }
   },
   "outputs": [],
   "source": [
    "def CreateFolder(path, N):\n",
    "    try:  \n",
    "        os.mkdir(path)  \n",
    "    except OSError as error:\n",
    "        True\n",
    "    for i in range(N):\n",
    "        try:\n",
    "            os.mkdir(path + \"/Split\" + str(i))\n",
    "        except OSError as error:\n",
    "            continue\n",
    "    "
   ]
  },
  {
   "cell_type": "markdown",
   "id": "3bb26e43",
   "metadata": {},
   "source": [
    "# EDF write"
   ]
  },
  {
   "cell_type": "code",
   "execution_count": 21,
   "id": "54dfbbf1",
   "metadata": {
    "ExecuteTime": {
     "end_time": "2024-11-22T10:39:08.313341Z",
     "start_time": "2024-11-22T10:39:08.309319Z"
    }
   },
   "outputs": [],
   "source": [
    "def CreateNewAnnotation(time_start, labels, freq): \n",
    "    freq = 1/freq\n",
    "    i = 0\n",
    "    label_starts = [time_start]\n",
    "    label_lens = [-1]\n",
    "    desc = [\"StartPredictionTime\"]\n",
    "    while i < len(labels):\n",
    "        if labels[i] == 1:\n",
    "            desc.append(\"ModelPrediction\")\n",
    "            label_starts.append(time_start + i*freq)\n",
    "            cur_start = i\n",
    "            while labels[i] == 1:\n",
    "                i += 1\n",
    "            label_lens.append((i - cur_start) * freq)\n",
    "        i += 1\n",
    "    label_starts += [time_start + i*freq]\n",
    "    label_lens += [-1]\n",
    "    desc += [\"EndPredictionTime\"]\n",
    "\n",
    "    return np.array(label_starts), np.array(label_lens), np.array(desc)"
   ]
  },
  {
   "cell_type": "code",
   "execution_count": 22,
   "id": "a8147c23",
   "metadata": {
    "ExecuteTime": {
     "end_time": "2024-11-22T10:39:08.321134Z",
     "start_time": "2024-11-22T10:39:08.314817Z"
    }
   },
   "outputs": [],
   "source": [
    "def WriteEDF(predictions, split_index, freq, annots, path, N):\n",
    "    train_indices = np.ones(N) #number of records\n",
    "    \n",
    "    train_indices[split_index] = 0\n",
    "        \n",
    "    train_record_names, test_record_names = GetTrainTestByIdxs(record_names, train_indices)\n",
    "    train_indices = np.ones(19) #number of records\n",
    "    train_indices[-split_index] = 0\n",
    "    train_annots, test_annots = GetTrainTestByIdxs(annots, train_indices)\n",
    "    for i in range(len(test_record_names)):\n",
    "        time_start = test_annots[i][0][0]\n",
    "        print(time_start)\n",
    "        preds_annotations = CreateNewAnnotation(time_start, predictions[i], freq)\n",
    "        data = mne.io.read_raw_edf(test_record_names[i])\n",
    "\n",
    "        preds_annotations = list(preds_annotations)\n",
    "        preds_annotations[1] = np.clip(preds_annotations[1], a_min=0, a_max = None)\n",
    "        print(np.isnan(preds_annotations[1]).any())\n",
    "\n",
    "        old_annot = np.array([[data.annotations[i][\"onset\"], data.annotations[i][\"duration\"], data.annotations[i][\"description\"]] \n",
    "                      for i in range(len(data.annotations))])\n",
    "        \n",
    "        full_annot = np.concatenate([np.array(preds_annotations), old_annot.T], axis=1)\n",
    "        annotations = mne.Annotations(np.array(preds_annotations)[0], np.array(preds_annotations)[1], np.array(preds_annotations)[2])\n",
    "        print(annotations)\n",
    "        data.set_annotations(annotations)\n",
    "        \n",
    "        data.export(path + \"/Split\" + str(split_index) + \"/Preds_\" + test_record_names[i].split(\"/\")[1], overwrite=True)\n",
    "        data.close()\n",
    "        "
   ]
  },
  {
   "cell_type": "markdown",
   "id": "66d33d1c",
   "metadata": {},
   "source": [
    "# Exps"
   ]
  },
  {
   "cell_type": "code",
   "execution_count": 23,
   "id": "abcc588b",
   "metadata": {
    "ExecuteTime": {
     "end_time": "2024-11-22T10:39:08.327672Z",
     "start_time": "2024-11-22T10:39:08.322714Z"
    }
   },
   "outputs": [],
   "source": [
    "def CrossValidationExperement(records, annots, times, labels, path, shuffle_leads=False, last_epoch=False, low_freq=True, \n",
    "                              is_train=True, area_SWI=False, write_edf=False):\n",
    "    N = len(records)\n",
    "    CreateFolder(path, N)\n",
    "    for i in range(N):\n",
    "        train_data, train_labels, test_data, test_labels = GetTrainTestSplit(records, annots, times, labels, i, \n",
    "                                                                             shuffle_leads, N)\n",
    "        train_samples = []\n",
    "        for j in range(len(train_data)):\n",
    "            train_samples += CreateSamples(train_data[j], train_labels[j])\n",
    "\n",
    "        test_samples = []\n",
    "        for j in range(len(test_data)):\n",
    "            test_samples += CreateSamples(test_data[j], test_labels[j])\n",
    "          \n",
    "        print(len(train_samples))\n",
    "        print(len(test_samples))\n",
    "        \n",
    "        train_dataloader = DataLoader(train_samples, batch_size=len(train_samples), shuffle=True, drop_last=True) # 128 or train_samples for 4000 or new_train_samples for 100\n",
    "        test_dataloader = DataLoader(test_samples, batch_size=len(test_samples), shuffle=False, drop_last=True)# 4\n",
    "        model = UNET_1D(20,128,7,3) #(input_dim, hidden_layer, kernel_size, depth)\n",
    "        model = model.to(\"cuda\")\n",
    "        if is_train:\n",
    "            Train(model, train_dataloader, test_dataloader, test_labels, i, path)\n",
    "        LogResults(model, test_data, test_labels, i, path, last_epoch, low_freq, area_SWI, write_edf, annots, N)\n",
    "        "
   ]
  },
  {
   "cell_type": "code",
   "execution_count": 24,
   "id": "8d981bcb",
   "metadata": {
    "ExecuteTime": {
     "end_time": "2024-11-22T10:39:08.334075Z",
     "start_time": "2024-11-22T10:39:08.328924Z"
    }
   },
   "outputs": [
    {
     "data": {
      "text/plain": [
       "199.50274692224406"
      ]
     },
     "execution_count": 24,
     "metadata": {},
     "output_type": "execute_result"
    }
   ],
   "source": [
    "FREQ_EDF_WRITE"
   ]
  },
  {
   "cell_type": "code",
   "execution_count": 25,
   "id": "bffbded2",
   "metadata": {
    "ExecuteTime": {
     "end_time": "2024-11-22T10:39:33.208394Z",
     "start_time": "2024-11-22T10:39:08.335254Z"
    }
   },
   "outputs": [
    {
     "name": "stderr",
     "output_type": "stream",
     "text": [
      "100%|███████████████████████████████████████████████████████████████| 31/31 [00:00<00:00, 71677.74it/s]\n",
      "100%|███████████████████████████████████████████████████████████████| 28/28 [00:00<00:00, 59015.33it/s]\n",
      "100%|███████████████████████████████████████████████████████████████| 38/38 [00:00<00:00, 61992.82it/s]\n",
      "100%|██████████████████████████████████████████████████████████████| 30/30 [00:00<00:00, 101639.03it/s]\n"
     ]
    },
    {
     "name": "stdout",
     "output_type": "stream",
     "text": [
      "97\n",
      "30\n"
     ]
    },
    {
     "name": "stderr",
     "output_type": "stream",
     "text": [
      "100%|██████████████████████████████████████████████████████████████████| 30/30 [00:02<00:00, 14.58it/s]\n",
      "100%|███████████████████████████████████████████████████████████████| 30/30 [00:00<00:00, 68947.46it/s]\n",
      "100%|███████████████████████████████████████████████████████████████| 28/28 [00:00<00:00, 72718.58it/s]\n",
      "100%|██████████████████████████████████████████████████████████████| 38/38 [00:00<00:00, 103765.33it/s]\n",
      "100%|██████████████████████████████████████████████████████████████| 31/31 [00:00<00:00, 109817.08it/s]\n"
     ]
    },
    {
     "name": "stdout",
     "output_type": "stream",
     "text": [
      "96\n",
      "31\n"
     ]
    },
    {
     "name": "stderr",
     "output_type": "stream",
     "text": [
      "100%|██████████████████████████████████████████████████████████████████| 31/31 [00:01<00:00, 15.95it/s]\n",
      "100%|███████████████████████████████████████████████████████████████| 30/30 [00:00<00:00, 64527.75it/s]\n",
      "100%|███████████████████████████████████████████████████████████████| 31/31 [00:00<00:00, 54954.96it/s]\n",
      "100%|███████████████████████████████████████████████████████████████| 38/38 [00:00<00:00, 73178.86it/s]\n",
      "100%|███████████████████████████████████████████████████████████████| 28/28 [00:00<00:00, 39475.80it/s]\n"
     ]
    },
    {
     "name": "stdout",
     "output_type": "stream",
     "text": [
      "99\n",
      "28\n"
     ]
    },
    {
     "name": "stderr",
     "output_type": "stream",
     "text": [
      "100%|██████████████████████████████████████████████████████████████████| 28/28 [00:01<00:00, 16.39it/s]\n",
      "100%|███████████████████████████████████████████████████████████████| 30/30 [00:00<00:00, 53796.12it/s]\n",
      "100%|███████████████████████████████████████████████████████████████| 31/31 [00:00<00:00, 75288.61it/s]\n",
      "100%|███████████████████████████████████████████████████████████████| 28/28 [00:00<00:00, 15309.67it/s]\n",
      "100%|███████████████████████████████████████████████████████████████| 38/38 [00:00<00:00, 96772.04it/s]\n"
     ]
    },
    {
     "name": "stdout",
     "output_type": "stream",
     "text": [
      "89\n",
      "38\n"
     ]
    },
    {
     "name": "stderr",
     "output_type": "stream",
     "text": [
      "100%|██████████████████████████████████████████████████████████████████| 38/38 [00:02<00:00, 15.87it/s]\n"
     ]
    },
    {
     "data": {
      "image/png": "[encoded data removed]",
      "text/plain": [
       "<Figure size 640x480 with 2 Axes>"
      ]
     },
     "metadata": {},
     "output_type": "display_data"
    },
    {
     "data": {
      "image/png": "[encoded data removed]",
      "text/plain": [
       "<Figure size 640x480 with 2 Axes>"
      ]
     },
     "metadata": {},
     "output_type": "display_data"
    },
    {
     "data": {
      "image/png": "[encoded data removed]",
      "text/plain": [
       "<Figure size 640x480 with 2 Axes>"
      ]
     },
     "metadata": {},
     "output_type": "display_data"
    },
    {
     "data": {
      "image/png": "[encoded data removed]",
      "text/plain": [
       "<Figure size 640x480 with 2 Axes>"
      ]
     },
     "metadata": {},
     "output_type": "display_data"
    },
    {
     "data": {
      "image/png": "[encoded data removed]",
      "text/plain": [
       "<Figure size 640x480 with 2 Axes>"
      ]
     },
     "metadata": {},
     "output_type": "display_data"
    },
    {
     "data": {
      "image/png": "[encoded data removed]",
      "text/plain": [
       "<Figure size 640x480 with 2 Axes>"
      ]
     },
     "metadata": {},
     "output_type": "display_data"
    },
    {
     "data": {
      "image/png": "[encoded data removed]",
      "text/plain": [
       "<Figure size 640x480 with 2 Axes>"
      ]
     },
     "metadata": {},
     "output_type": "display_data"
    },
    {
     "data": {
      "image/png": "[encoded data removed]",
      "text/plain": [
       "<Figure size 640x480 with 2 Axes>"
      ]
     },
     "metadata": {},
     "output_type": "display_data"
    }
   ],
   "source": [
    "CrossValidationExperement(records, annots, times, all_labels, \"./CrossValidationResults/DebugTrain\", \n",
    "                          shuffle_leads=False, low_freq=True, is_train=False, area_SWI=True)"
   ]
  },
  {
   "cell_type": "code",
   "execution_count": null,
   "id": "561c5a62",
   "metadata": {},
   "outputs": [],
   "source": []
  }
 ],
 "metadata": {
  "kernelspec": {
   "display_name": "Python 3 (ipykernel)",
   "language": "python",
   "name": "python3"
  },
  "language_info": {
   "codemirror_mode": {
    "name": "ipython",
    "version": 3
   },
   "file_extension": ".py",
   "mimetype": "text/x-python",
   "name": "python",
   "nbconvert_exporter": "python",
   "pygments_lexer": "ipython3",
   "version": "3.10.12"
  },
  "toc": {
   "base_numbering": 1,
   "nav_menu": {},
   "number_sections": true,
   "sideBar": true,
   "skip_h1_title": false,
   "title_cell": "Table of Contents",
   "title_sidebar": "Contents",
   "toc_cell": false,
   "toc_position": {},
   "toc_section_display": true,
   "toc_window_display": false
  },
  "varInspector": {
   "cols": {
    "lenName": 16,
    "lenType": 16,
    "lenVar": 40
   },
   "kernels_config": {
    "python": {
     "delete_cmd_postfix": "",
     "delete_cmd_prefix": "del ",
     "library": "var_list.py",
     "varRefreshCmd": "print(var_dic_list())"
    },
    "r": {
     "delete_cmd_postfix": ") ",
     "delete_cmd_prefix": "rm(",
     "library": "var_list.r",
     "varRefreshCmd": "cat(var_dic_list()) "
    }
   },
   "types_to_exclude": [
    "module",
    "function",
    "builtin_function_or_method",
    "instance",
    "_Feature"
   ],
   "window_display": false
  }
 },
 "nbformat": 4,
 "nbformat_minor": 5
}
