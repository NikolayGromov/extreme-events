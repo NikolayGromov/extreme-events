{
 "cells": [
  {
   "cell_type": "code",
   "execution_count": 1,
   "id": "4195633f",
   "metadata": {
    "ExecuteTime": {
     "end_time": "2024-11-29T12:42:34.346454Z",
     "start_time": "2024-11-29T12:42:32.142915Z"
    }
   },
   "outputs": [],
   "source": [
    "import pyedflib\n",
    "import mne\n",
    "import numpy as np\n",
    "import matplotlib.pyplot as plt\n",
    "import os\n",
    "from tqdm import tqdm\n",
    "from scipy.signal import butter, filtfilt\n",
    "\n",
    "import torch\n",
    "from torch import nn\n",
    "import torch.nn.functional as F\n",
    "import torch.optim as optim\n",
    "from torch.optim.lr_scheduler import ReduceLROnPlateau\n",
    "from torch.utils.data import DataLoader\n",
    "from adan_pytorch import Adan\n",
    "\n",
    "from sklearn.metrics import precision_score, recall_score, f1_score, confusion_matrix, ConfusionMatrixDisplay\n",
    "import seaborn as sns\n",
    "\n",
    "from IPython.display import clear_output"
   ]
  },
  {
   "cell_type": "markdown",
   "id": "143a87bb",
   "metadata": {},
   "source": [
    "# Downloading"
   ]
  },
  {
   "cell_type": "code",
   "execution_count": 2,
   "id": "ecc31315",
   "metadata": {
    "ExecuteTime": {
     "end_time": "2024-11-29T12:42:34.354686Z",
     "start_time": "2024-11-29T12:42:34.348623Z"
    }
   },
   "outputs": [],
   "source": [
    "def ReadSignal(file_name): \n",
    "\n",
    "    f = pyedflib.EdfReader(file_name)\n",
    "    n = f.signals_in_file\n",
    "    signal_labels = f.getSignalLabels()\n",
    "    sigbufs = np.zeros((20, f.getNSamples()[0])) #or n\n",
    "    \n",
    "    if n == 22:\n",
    "        for i in np.arange(19):\n",
    "            sigbufs[i, :] = f.readSignal(i)\n",
    "        sigbufs[19, :] = f.readSignal(21)\n",
    "    elif n == 23:\n",
    "        for i in np.arange(19):\n",
    "            sigbufs[i, :] = f.readSignal(i)\n",
    "        sigbufs[19, :] = f.readSignal(20)\n",
    "    else:\n",
    "        for i in np.arange(n):\n",
    "            sigbufs[i, :] = f.readSignal(i)\n",
    "\n",
    "    time = [1/f.samplefrequency(0) * i for i in range(len(sigbufs[0]))]\n",
    "\n",
    "    annotations = f.readAnnotations()  \n",
    "\n",
    "\n",
    "    new_annot = [(annotations[0][i], annotations[1][i], annotations[2][i])  \n",
    "                 for i in range(len(annotations[0])) \n",
    "                                if (annotations[1][i] > 0) and (annotations[2][i] in ['?', 'Ð²Ñ\\x81', 'Ð²Ñ\\x81?'])]\n",
    "    f.close()\n",
    "    return sigbufs, new_annot, time, f.samplefrequency(0)"
   ]
  },
  {
   "cell_type": "code",
   "execution_count": 3,
   "id": "ebba8dc0",
   "metadata": {
    "ExecuteTime": {
     "end_time": "2024-11-29T12:42:34.358601Z",
     "start_time": "2024-11-29T12:42:34.356172Z"
    }
   },
   "outputs": [],
   "source": [
    "path = \"../\""
   ]
  },
  {
   "cell_type": "code",
   "execution_count": 4,
   "id": "b761e659",
   "metadata": {
    "ExecuteTime": {
     "end_time": "2024-11-29T12:43:09.636364Z",
     "start_time": "2024-11-29T12:42:34.359998Z"
    }
   },
   "outputs": [],
   "source": [
    "record_names = [\"MoscowSpecialistsData/P2.edf\", \n",
    "                \"MoscowSpecialistsData/P3.edf\", \n",
    "                \"MoscowSpecialistsData/P4.edf\", \n",
    "                \"MoscowSpecialistsData/P5.edf\", \n",
    "                \"MoscowSpecialistsData/P6.edf\", \n",
    "                \"MoscowSpecialistsData/P8.edf\"]\n",
    "records = []\n",
    "annots = []\n",
    "times = []\n",
    "freqs = []\n",
    "for file_name in record_names:\n",
    "\n",
    "    sigbufs, new_annot, time, freq = ReadSignal(path+file_name)\n",
    "    records.append(sigbufs)\n",
    "    annots.append(new_annot)\n",
    "    times.append(time)\n",
    "    freqs.append(freq)\n",
    "    "
   ]
  },
  {
   "cell_type": "code",
   "execution_count": 5,
   "id": "84b56020",
   "metadata": {
    "ExecuteTime": {
     "end_time": "2024-11-29T12:43:09.744416Z",
     "start_time": "2024-11-29T12:43:09.641227Z"
    }
   },
   "outputs": [],
   "source": [
    "all_labels = []\n",
    "\n",
    "for i in range(len(records)):\n",
    "    if \"Moscow\" in record_names[i]:\n",
    "        all_labels.append(np.load(path + \"MoscowSpecialistsData/Labels/\" + \n",
    "                                  record_names[i][22:] + \"freq\" + str(freqs[i])[:3] + \".npy\"))"
   ]
  },
  {
   "cell_type": "code",
   "execution_count": 6,
   "id": "8febf7c7",
   "metadata": {
    "ExecuteTime": {
     "end_time": "2024-11-29T12:43:09.750541Z",
     "start_time": "2024-11-29T12:43:09.746798Z"
    }
   },
   "outputs": [],
   "source": [
    "def CollectAmplitude(x):\n",
    "    amplitudes = np.max(x[:19], axis=1)\n",
    "    return amplitudes.mean()"
   ]
  },
  {
   "cell_type": "code",
   "execution_count": 7,
   "id": "0e8788c0",
   "metadata": {
    "ExecuteTime": {
     "end_time": "2024-11-29T12:43:09.755808Z",
     "start_time": "2024-11-29T12:43:09.752275Z"
    }
   },
   "outputs": [],
   "source": [
    "def CollectFreq(x):\n",
    "    centered_x = x[:19] - np.mean(x[:19], axis=1)[..., None]\n",
    "    zero_cross_num = ((centered_x[:, :-1] * centered_x[:, 1:]) < 0).sum(axis=1)\n",
    "    return zero_cross_num.mean() / x.shape[1]"
   ]
  },
  {
   "cell_type": "code",
   "execution_count": 8,
   "id": "4b10f51b",
   "metadata": {
    "ExecuteTime": {
     "end_time": "2024-11-29T12:43:09.761947Z",
     "start_time": "2024-11-29T12:43:09.757458Z"
    }
   },
   "outputs": [],
   "source": [
    "def CollectCharacteristics(x, labels):   \n",
    "    lens = []\n",
    "    ampls = []\n",
    "    freqs = []\n",
    "    \n",
    "    c = 0\n",
    "    in_event = False\n",
    "    for i in range(len(labels)):\n",
    "        if labels[i] == 1:\n",
    "            if not in_event:\n",
    "                idx_start = i\n",
    "            in_event = True\n",
    "            c += 1\n",
    "        elif in_event:\n",
    "            ampls.append(CollectAmplitude(x[:, idx_start:i]))\n",
    "            freqs.append(CollectFreq(x[:, idx_start:i]))\n",
    "            lens.append(c)\n",
    "            c = 0\n",
    "            in_event = False\n",
    "                \n",
    "    return np.mean(lens), np.mean(ampls), np.mean(freqs), len(lens)   "
   ]
  },
  {
   "cell_type": "code",
   "execution_count": 9,
   "id": "2f6bf7b7",
   "metadata": {
    "ExecuteTime": {
     "end_time": "2024-11-29T12:43:09.768075Z",
     "start_time": "2024-11-29T12:43:09.763446Z"
    }
   },
   "outputs": [],
   "source": [
    "def CreateSamples(x, labels, window=2, sr=199): #window in minutes\n",
    "    sample_window = window * 60 * sr\n",
    "    inout_seq_labels = []\n",
    "    inout_seq_characteristics = []\n",
    "    for i in range(0, x.shape[1] - sample_window, sample_window):\n",
    "        if (labels[i:i + sample_window]).max() == 1:\n",
    "            train_seq = x[:, i:i+sample_window]\n",
    "            train_label = labels[i:i+sample_window]\n",
    "            duration, amplitude, freq, ss_number = CollectCharacteristics(train_seq, train_label)\n",
    "            inout_seq_labels.append((torch.FloatTensor(train_seq), train_label))\n",
    "            inout_seq_characteristics.append((torch.FloatTensor(train_seq), \n",
    "                                              torch.FloatTensor([duration, amplitude, freq, ss_number])))\n",
    "    return inout_seq_labels, inout_seq_characteristics"
   ]
  },
  {
   "cell_type": "code",
   "execution_count": 10,
   "id": "ddcf1103",
   "metadata": {
    "ExecuteTime": {
     "end_time": "2024-11-29T12:43:10.072062Z",
     "start_time": "2024-11-29T12:43:09.769680Z"
    }
   },
   "outputs": [],
   "source": [
    "def GetTrainTest(records, labels, i):\n",
    "    train_records = [records[j] for j in range(len(records)) if j != i]\n",
    "    test_records = [records[i]]\n",
    "    \n",
    "    train_labels = [labels[j] for j in range(len(labels)) if j != i]\n",
    "    test_labels = [labels[i]]\n",
    "    train_samples = []\n",
    "    for i in range(len(train_records)):\n",
    "        _, inout_seq_characteristics = CreateSamples(train_records[i], train_labels[i])\n",
    "        train_samples += inout_seq_characteristics\n",
    "\n",
    "    test_samples = []\n",
    "    for i in range(len(test_records)):\n",
    "        _, inout_seq_characteristics = CreateSamples(test_records[i], test_labels[i])\n",
    "        test_samples += inout_seq_characteristics\n",
    "        \n",
    "    means = []\n",
    "    stds = []\n",
    "    \n",
    "    durs = []\n",
    "    ampls = []\n",
    "    freqs = []\n",
    "    nums = []\n",
    "\n",
    "    for i in range(len(train_samples)):\n",
    "        durs.append(train_samples[i][1][0])\n",
    "        ampls.append(train_samples[i][1][1])    \n",
    "        freqs.append(train_samples[i][1][2])    \n",
    "        nums.append(train_samples[i][1][3])  \n",
    "\n",
    "    chars = [durs, ampls, freqs, nums]\n",
    "   \n",
    "    for i in range(4):\n",
    "        means.append(np.mean(chars[i]))\n",
    "        stds.append(np.std(chars[i]))\n",
    "\n",
    "\n",
    "    for i in range(len(train_samples)):\n",
    "        for j in range(4):\n",
    "            train_samples[i][1][j] = (train_samples[i][1][j] - means[j]) / stds[j]\n",
    "\n",
    "    for i in range(len(test_samples)):\n",
    "        for j in range(4):\n",
    "            test_samples[i][1][j] = (test_samples[i][1][j] - means[j]) / stds[j]\n",
    "    return train_samples, test_samples, means, stds"
   ]
  },
  {
   "cell_type": "markdown",
   "id": "23e6cabe",
   "metadata": {},
   "source": [
    "# Network"
   ]
  },
  {
   "cell_type": "code",
   "execution_count": 11,
   "id": "d87601b1",
   "metadata": {
    "ExecuteTime": {
     "end_time": "2024-11-29T12:43:10.342777Z",
     "start_time": "2024-11-29T12:43:10.074067Z"
    }
   },
   "outputs": [],
   "source": [
    "class MDB_block(nn.Module):\n",
    "    def __init__(self, k, F):\n",
    "        super(MDB_block, self).__init__()\n",
    "\n",
    "        #print(F, k)\n",
    "        self.conv11 = nn.Conv1d(F, F//2, kernel_size=k, dilation=1, padding=(k-1)//2) #p = d * (k-1) / 2\n",
    "        self.bn11 = nn.BatchNorm1d(F//2)\n",
    "        self.conv12 = nn.Conv1d(F, F//4, kernel_size=k, dilation=2, padding=k-1) \n",
    "        self.bn12 = nn.BatchNorm1d(F//4)\n",
    "        self.conv13 = nn.Conv1d(F, F//8, kernel_size=k, dilation=4, padding=2*(k-1))\n",
    "        self.bn13 = nn.BatchNorm1d(F//8)\n",
    "        self.conv14 = nn.Conv1d(F, F//8, kernel_size=k, dilation=8, padding=4*(k-1))\n",
    "        self.bn14 = nn.BatchNorm1d(F//8)\n",
    "\n",
    "        self.conv21 = nn.Conv1d(F//2, F//2, kernel_size=k, dilation=1, padding=(k-1)//2)\n",
    "        self.bn21 = nn.BatchNorm1d(F//2)\n",
    "        self.conv22 = nn.Conv1d(F//4, F//4, kernel_size=k, dilation=2, padding=k-1)\n",
    "        self.bn22 = nn.BatchNorm1d(F//4)\n",
    "        self.conv23 = nn.Conv1d(F//8, F//8, kernel_size=k, dilation=4, padding=2*(k-1))\n",
    "        self.bn23 = nn.BatchNorm1d(F//8)\n",
    "        self.conv24 = nn.Conv1d(F//8, F//8, kernel_size=k, dilation=8, padding=4*(k-1))\n",
    "        self.bn24 = nn.BatchNorm1d(F//8)\n",
    "\n",
    "        self.relu = nn.ReLU()\n",
    "\n",
    "        \n",
    "    \n",
    "    def forward(self,x):\n",
    "\n",
    "        x1 = self.conv11(x)\n",
    "        x1 = self.bn11(x1)\n",
    "        x1 = self.relu(x1)\n",
    "        x1 = self.conv21(x1)\n",
    "        x1 = self.bn21(x1)\n",
    "        x1 = self.relu(x1)\n",
    "        \n",
    "        x2 = self.conv12(x)\n",
    "        x2 = self.bn12(x2)\n",
    "        x2 = self.relu(x2)\n",
    "        x2 = self.conv22(x2)\n",
    "        x2 = self.bn22(x2)\n",
    "        x2 = self.relu(x2)\n",
    "\n",
    "        x3 = self.conv13(x)\n",
    "        x3 = self.bn13(x3)\n",
    "        x3 = self.relu(x3)\n",
    "        x3 = self.conv23(x3)\n",
    "        x3 = self.bn23(x3)\n",
    "        x3 = self.relu(x3)\n",
    "\n",
    "        x4 = self.conv14(x)\n",
    "        x4 = self.bn14(x4)\n",
    "        x4 = self.relu(x4)\n",
    "        x4 = self.conv24(x4)\n",
    "        x4 = self.bn24(x4)\n",
    "        x4 = self.relu(x4)\n",
    "        \n",
    "        return torch.concatenate([x1, x2, x3, x4], axis=1)  \n",
    "\n",
    "class SEED(nn.Module):\n",
    "    def __init__(self, overlap=0, input_dim=27, F = 64, q1=0.2, q2=0.5, N1=256, N2=128):\n",
    "        super(SEED, self).__init__()\n",
    "\n",
    "        self.N1 = N1\n",
    "        \n",
    "        self.bn = nn.BatchNorm1d(input_dim)\n",
    "        self.conv1 = nn.Conv1d(input_dim, F, kernel_size=3)\n",
    "        self.bn1 = nn.BatchNorm1d(F)\n",
    "        self.relu = nn.ReLU()\n",
    "        \n",
    "        self.conv2 = nn.Conv1d(F, 2*F, kernel_size=3)\n",
    "        self.bn2 = nn.BatchNorm1d(2*F)\n",
    "\n",
    "        self.AvgPool1D = nn.AvgPool1d(2)\n",
    "\n",
    "        self.mdb1 = MDB_block(3, 2*F)\n",
    "\n",
    "        self.conv3 = nn.Conv1d(2*F, 4*F, kernel_size=3)\n",
    "        self.bn3 = nn.BatchNorm1d(4*F)\n",
    "        \n",
    "        self.mdb2 = MDB_block(3, 4*F)\n",
    "\n",
    "        self.dropout1 = nn.Dropout(q1)\n",
    "        self.dropout2 = nn.Dropout(q2)\n",
    "\n",
    "        \n",
    "        self.lstm1 = nn.LSTM(N1, N1, num_layers=1, batch_first=True, bidirectional=True)\n",
    "        self.convlstm1 = nn.Conv1d(2*N1, N1, kernel_size=1) #256?\n",
    "        self.bn3 = nn.BatchNorm1d(N1)\n",
    "\n",
    "        self.lstm2 = nn.LSTM(N1, N1, num_layers=1, batch_first=True, bidirectional=True)\n",
    "        self.convlstm2 = nn.Conv1d(2*N1, N1, kernel_size=1) #256?\n",
    "        self.bn4 = nn.BatchNorm1d(N1)\n",
    "\n",
    "        self.classifier1 = nn.Conv1d(N1, N2, kernel_size=1) \n",
    "        self.bn5 = nn.BatchNorm1d(N2)\n",
    "        self.classifier2 = nn.Conv1d(N2, 1, kernel_size=1) \n",
    "        \n",
    "        self.linear1 = nn.Linear(2855, 256)\n",
    "        self.linear2 = nn.Linear(256, 1)\n",
    "        \n",
    "\n",
    "    def forward(self,x):\n",
    "        x = self.bn(x)\n",
    "        x = self.conv1(x)\n",
    "        \n",
    "        x = self.bn1(x)\n",
    "        x = self.relu(x)\n",
    "        x = self.conv2(x)\n",
    "        \n",
    "        \n",
    "        x = self.bn2(x)\n",
    "        x = self.relu(x)\n",
    "\n",
    "        x = self.AvgPool1D(x)\n",
    "        \n",
    "        \n",
    "        x = self.mdb1(x)\n",
    "        \n",
    "\n",
    "        x = self.conv3(x)\n",
    "        \n",
    "        \n",
    "        x = self.bn3(x)\n",
    "        x = self.relu(x)\n",
    "\n",
    "        x = self.AvgPool1D(x)\n",
    "        \n",
    "        \n",
    "        x = self.mdb2(x)\n",
    "        \n",
    "\n",
    "        x = self.AvgPool1D(x)\n",
    "        \n",
    "\n",
    "        x = x[:, :, 65:-64]\n",
    "        \n",
    "\n",
    "        x = self.dropout1(x)\n",
    "\n",
    "        lstm_out, (h_n, c_n) = self.lstm1(x.transpose(2, 1))\n",
    "\n",
    "        \n",
    "\n",
    "        x = lstm_out[:, :, :self.N1] + lstm_out[:, :, self.N1:]\n",
    "        x = self.dropout2(x)\n",
    "\n",
    "       \n",
    "\n",
    "        lstm_out, (h_n, c_n) = self.lstm2(x)\n",
    "\n",
    "        \n",
    "\n",
    "        x = lstm_out[:, :, :self.N1] + lstm_out[:, :, self.N1:]\n",
    "        x = self.dropout2(x)\n",
    "        \n",
    "        x = x.transpose(2, 1)\n",
    "        x = self.dropout2(x)\n",
    "        \n",
    "\n",
    "        x = self.classifier1(x)\n",
    "        \n",
    "        \n",
    "        x = self.bn5(x)\n",
    "        x = self.relu(x)\n",
    "\n",
    "        x = self.classifier2(x)    \n",
    "        \n",
    "        x = x.flatten(start_dim=1)\n",
    "\n",
    "        x = self.linear1(x)\n",
    "        x = self.relu(x)\n",
    "        x = self.linear2(x)\n",
    "        \n",
    "    \n",
    "        return x\n",
    "        "
   ]
  },
  {
   "cell_type": "code",
   "execution_count": 12,
   "id": "0f042d4a",
   "metadata": {
    "ExecuteTime": {
     "end_time": "2024-11-29T12:43:10.349120Z",
     "start_time": "2024-11-29T12:43:10.344691Z"
    }
   },
   "outputs": [],
   "source": [
    "def run_epoch(model, optimizer, criterion, dataloader, char_ind, is_training=False):\n",
    "    epoch_loss = 0\n",
    "\n",
    "    if is_training:\n",
    "        model.train()\n",
    "    else:\n",
    "        model.eval()\n",
    "\n",
    "    for idx, (x, y) in tqdm(enumerate(dataloader)):\n",
    "        if is_training:\n",
    "            optimizer.zero_grad()\n",
    "      \n",
    "        #print(\"x\", x.shape)\n",
    "        \n",
    "        out = model(x.to(\"cuda\"))\n",
    "        \n",
    "        loss = criterion(out, y[:, char_ind][..., None].to(\"cuda\"))\n",
    "\n",
    "        if is_training:\n",
    "            loss.backward()\n",
    "            optimizer.step()\n",
    "\n",
    "        epoch_loss += (loss.detach().item() / len(dataloader))\n",
    "\n",
    "\n",
    "    return epoch_loss"
   ]
  },
  {
   "cell_type": "code",
   "execution_count": 13,
   "id": "c3d1de0d",
   "metadata": {
    "ExecuteTime": {
     "end_time": "2024-11-29T12:43:10.357189Z",
     "start_time": "2024-11-29T12:43:10.350816Z"
    }
   },
   "outputs": [],
   "source": [
    "def Train(model, train_dataloader, test_dataloader, path, split_ind, char_ind):\n",
    "\n",
    "    criterion = nn.MSELoss()\n",
    "    #optimizer = optim.SGD(model_d.parameters(), lr = 1e-3, momentum = 0.9, weight_decay = 0.5)\n",
    "    optimizer = Adan(\n",
    "        model.parameters(),\n",
    "        lr = 1e-3,                  # learning rate (can be much higher than Adam, up to 5-10x)\n",
    "        betas = (0.02, 0.08, 0.01), # beta 1-2-3 as described in paper - author says most sensitive to beta3 tuning\n",
    "        weight_decay = 0.02         # weight decay 0.02 is optimal per author\n",
    "    )\n",
    "\n",
    "    #optim.Adam(model.parameters(), lr=0.001, betas=(0.9, 0.999), eps=1e-9)\n",
    "    scheduler = ReduceLROnPlateau(optimizer, patience = 3, factor=0.5, min_lr=0.0001)\n",
    "    epochs = 1000\n",
    "\n",
    "    losses_train = []\n",
    "    losses_test = []\n",
    "    best_loss = 10e9\n",
    "    # begin training\n",
    "\n",
    "    early_stop_count = 30\n",
    "    current_es = 0\n",
    "    for epoch in range(epochs): \n",
    "\n",
    "\n",
    "        loss_train = run_epoch(model, optimizer, criterion, train_dataloader, char_ind, is_training=True)\n",
    "        loss_val = run_epoch(model, optimizer, criterion, test_dataloader, char_ind)\n",
    "        scheduler.step(loss_val)\n",
    "        losses_train.append(loss_train)\n",
    "        losses_test.append(loss_val)\n",
    "\n",
    "        if losses_test[-1] < best_loss:\n",
    "            current_es = 0\n",
    "            best_loss = losses_test[-1]\n",
    "            torch.save(model.state_dict(), path + \"/Split\" + str(split_ind) + \"/SEED\" + str(char_ind))\n",
    "        else:\n",
    "            current_es += 1\n",
    "        #if current_es == early_stop_count:\n",
    "            #break\n",
    "\n",
    "        clear_output(True)\n",
    "        fig = plt.figure(figsize=(10, 9))\n",
    "\n",
    "        ax_1 = fig.add_subplot(2, 1, 1)\n",
    "        ax_2 = fig.add_subplot(2, 1, 2)\n",
    "        ax_1.set_title('train')\n",
    "        ax_1.plot(losses_train)\n",
    "        ax_2.set_title('test')\n",
    "        ax_2.plot(losses_test)\n",
    "        \n",
    "        plt.savefig(path + \"/Split\" + str(split_ind) + \"/SEEDFigure\" + str(char_ind))\n",
    "\n",
    "        plt.show()\n",
    "\n",
    "\n",
    "        print('Epoch[{}/{}] | loss train:{:.6f}, test:{:.6f}'\n",
    "                  .format(epoch+1, epochs, loss_train, loss_val))"
   ]
  },
  {
   "cell_type": "markdown",
   "id": "3757bbc3",
   "metadata": {},
   "source": [
    "# Logging"
   ]
  },
  {
   "cell_type": "code",
   "execution_count": 14,
   "id": "662079bd",
   "metadata": {
    "ExecuteTime": {
     "end_time": "2024-11-29T12:43:10.364255Z",
     "start_time": "2024-11-29T12:43:10.360388Z"
    }
   },
   "outputs": [],
   "source": [
    "def CollectPredsSingleChar(model, dataloader, i):\n",
    "    model.eval()\n",
    "    \n",
    "    preds = np.empty([1])\n",
    "    answers = np.empty([1])\n",
    "    for idx, (x, y) in tqdm(enumerate(dataloader)):      \n",
    "        \n",
    "        answers = np.hstack([answers, y[:, i].cpu().detach().numpy()])\n",
    "        out = model(x)\n",
    "        \n",
    "        preds = np.hstack([preds, out[:, 0].cpu().detach().numpy()])\n",
    "        \n",
    "    return answers, preds   "
   ]
  },
  {
   "cell_type": "code",
   "execution_count": 15,
   "id": "5bcc6cd9",
   "metadata": {
    "ExecuteTime": {
     "end_time": "2024-11-29T12:43:10.373652Z",
     "start_time": "2024-11-29T12:43:10.365881Z"
    }
   },
   "outputs": [],
   "source": [
    "def LogResults(model, test_dataloader, path, split_ind, means, stds):\n",
    "    model.cpu()\n",
    "    all_answers = []\n",
    "\n",
    "    all_preds = []\n",
    "\n",
    "    for i in range(4):\n",
    "        model.load_state_dict(torch.load(path + \"/Split\" + str(split_ind) + \"/SEED\" + str(i)))\n",
    "        answers, preds = CollectPredsSingleChar(model, test_dataloader, i)\n",
    "        all_answers.append(answers[1:] * stds[i] + means[i])\n",
    "        all_preds.append(preds[1:] * stds[i] + means[i]) \n",
    "    \n",
    "    abs_difs = []\n",
    "    for i in range(4):\n",
    "        abs_difs.append(np.abs(all_answers[i] - all_preds[i]))\n",
    "        \n",
    "    f, axes = plt.subplots(1, 4, figsize=(20, 4))\n",
    "    axes[0].hist(all_answers[0])\n",
    "    axes[0].hist(all_preds[0], alpha=0.5)\n",
    "\n",
    "    axes[0].set_title(\"Duration hist\")\n",
    "\n",
    "    axes[1].hist(all_answers[1])\n",
    "    axes[1].hist(all_preds[1], alpha=0.5)\n",
    "    \n",
    "    axes[1].set_title(\"Amplitude hist\")\n",
    "\n",
    "    axes[2].hist(all_answers[2] * 256)\n",
    "    axes[2].hist(all_preds[2], alpha=0.5)\n",
    "    \n",
    "    axes[2].set_title(\"Frequency hist\")\n",
    "\n",
    "    axes[3].hist(all_answers[3])\n",
    "    axes[3].hist(all_preds[3], alpha=0.5)\n",
    "    \n",
    "    axes[3].set_title(\"Number hist\")\n",
    "    \n",
    "    plt.savefig(path + \"/Split\" + str(split_ind) + \"/Histogram\")\n",
    "        \n",
    "    f, axes = plt.subplots(1, 5, figsize=(16, 9))\n",
    "    sns.boxplot(abs_difs[0] / 256, ax=axes[0])\n",
    "    axes[0].set_title(\"Duration in seconds\")\n",
    "    sns.boxplot(abs_difs[0], ax=axes[1])\n",
    "    axes[1].set_title(\"Duration in samples\")\n",
    "\n",
    "    sns.boxplot(abs_difs[1], ax=axes[2])\n",
    "    axes[2].set_title(\"Amplitudies\")\n",
    "    sns.boxplot(abs_difs[2] * 256, ax=axes[3])\n",
    "    axes[3].set_title(\"Frequencys\")\n",
    "\n",
    "    sns.boxplot(abs_difs[3], ax=axes[4])\n",
    "    axes[4].set_title(\"Number\")\n",
    "    plt.savefig(path + \"/Split\" + str(split_ind) + \"/Boxplot\")\n",
    "    "
   ]
  },
  {
   "cell_type": "code",
   "execution_count": 16,
   "id": "8e6bc016",
   "metadata": {
    "ExecuteTime": {
     "end_time": "2024-11-29T12:43:10.378563Z",
     "start_time": "2024-11-29T12:43:10.375251Z"
    }
   },
   "outputs": [],
   "source": [
    "def CreateFolder(path, N):\n",
    "    try:  \n",
    "        os.mkdir(path)  \n",
    "    except OSError as error:\n",
    "        True\n",
    "    for i in range(N):\n",
    "        try:\n",
    "            os.mkdir(path + \"/Split\" + str(i))\n",
    "        except OSError as error:\n",
    "            continue\n",
    "    "
   ]
  },
  {
   "cell_type": "markdown",
   "id": "f6a02452",
   "metadata": {},
   "source": [
    "# Run"
   ]
  },
  {
   "cell_type": "code",
   "execution_count": 17,
   "id": "693b8dae",
   "metadata": {
    "ExecuteTime": {
     "end_time": "2024-11-29T12:43:10.384389Z",
     "start_time": "2024-11-29T12:43:10.380192Z"
    }
   },
   "outputs": [],
   "source": [
    "def CrossValidation(records, labels, path):\n",
    "    N = len(records)\n",
    "    CreateFolder(path, N)\n",
    "    for i in range(N):\n",
    "        train_samples, test_samples, means, stds = GetTrainTest(records, labels, i)\n",
    "        \n",
    "        train_dataloader = DataLoader(train_samples, batch_size=len(train_samples), shuffle=True, drop_last=True) \n",
    "        test_dataloader = DataLoader(test_samples, batch_size=len(test_samples), shuffle=False, drop_last=True)\n",
    "        model = SEED(input_dim=20).to('cuda')  \n",
    "        for char_ind in range(4):\n",
    "            torch.cuda.empty_cache()\n",
    "            Train(model, train_dataloader, test_dataloader, path, i, char_ind)\n",
    "        LogResults(model, test_dataloader, path, i, means, stds)"
   ]
  },
  {
   "cell_type": "code",
   "execution_count": 18,
   "id": "64db2f1e",
   "metadata": {
    "ExecuteTime": {
     "end_time": "2024-11-26T19:47:42.356439Z",
     "start_time": "2024-11-26T14:06:20.404045Z"
    }
   },
   "outputs": [
    {
     "data": {
      "image/png": "[encoded data removed]",
      "text/plain": [
       "<Figure size 1000x900 with 2 Axes>"
      ]
     },
     "metadata": {},
     "output_type": "display_data"
    },
    {
     "name": "stdout",
     "output_type": "stream",
     "text": [
      "Epoch[1000/1000] | loss train:0.001129, test:12.597357\n"
     ]
    },
    {
     "name": "stderr",
     "output_type": "stream",
     "text": [
      "1it [00:00,  1.23it/s]\n",
      "1it [00:00,  1.20it/s]\n",
      "1it [00:00,  1.15it/s]\n",
      "1it [00:00,  1.11it/s]\n"
     ]
    },
    {
     "data": {
      "image/png": "[encoded data removed]",
      "text/plain": [
       "<Figure size 2000x400 with 4 Axes>"
      ]
     },
     "metadata": {},
     "output_type": "display_data"
    },
    {
     "data": {
      "image/png": "[encoded data removed]",
      "text/plain": [
       "<Figure size 1600x900 with 5 Axes>"
      ]
     },
     "metadata": {},
     "output_type": "display_data"
    }
   ],
   "source": [
    "CrossValidation(records, all_labels, \"../CrossValidationResults/SEED6Records\" )"
   ]
  },
  {
   "cell_type": "code",
   "execution_count": 19,
   "id": "d1651ca4",
   "metadata": {
    "ExecuteTime": {
     "end_time": "2024-11-29T12:45:25.758564Z",
     "start_time": "2024-11-29T12:44:50.051296Z"
    }
   },
   "outputs": [
    {
     "name": "stderr",
     "output_type": "stream",
     "text": [
      "1it [00:01,  1.20s/it]\n",
      "1it [00:01,  1.16s/it]\n",
      "1it [00:01,  1.16s/it]\n",
      "1it [00:01,  1.09s/it]\n",
      "1it [00:00,  1.02it/s]\n",
      "1it [00:00,  1.07it/s]\n",
      "1it [00:00,  1.00it/s]\n",
      "1it [00:00,  1.06it/s]\n",
      "1it [00:01,  1.03s/it]\n",
      "1it [00:01,  1.10s/it]\n",
      "1it [00:00,  1.04it/s]\n",
      "1it [00:00,  1.06it/s]\n",
      "1it [00:00,  1.04it/s]\n",
      "1it [00:00,  1.07it/s]\n",
      "1it [00:00,  1.09it/s]\n",
      "1it [00:00,  1.10it/s]\n",
      "1it [00:00,  1.08it/s]\n",
      "1it [00:00,  1.04it/s]\n",
      "1it [00:00,  1.18it/s]\n",
      "1it [00:00,  1.20it/s]\n",
      "1it [00:00,  1.15it/s]\n",
      "1it [00:00,  1.15it/s]\n",
      "1it [00:00,  1.14it/s]\n",
      "1it [00:00,  1.14it/s]\n"
     ]
    }
   ],
   "source": [
    "name = \"../CrossValidationResults/SEED6Records\"\n",
    "means = []\n",
    "all_answers = []\n",
    "all_preds = []\n",
    "for split_ind in range(6):\n",
    "    train_samples, test_samples, means, stds = GetTrainTest(records, all_labels, split_ind)\n",
    "\n",
    "    train_dataloader = DataLoader(train_samples, batch_size=len(train_samples), shuffle=True, drop_last=True) \n",
    "    test_dataloader = DataLoader(test_samples, batch_size=len(test_samples), shuffle=False, drop_last=True)\n",
    "    model = SEED(input_dim=20)\n",
    "\n",
    "    split_answers = []\n",
    "    split_preds = []\n",
    "\n",
    "    for i in range(4):\n",
    "        model.load_state_dict(torch.load(name + \"/Split\" + str(split_ind) + \"/SEED\" + str(i)))\n",
    "        answers, preds = CollectPredsSingleChar(model, test_dataloader, i)\n",
    "        split_answers.append(answers[1:] * stds[i] + means[i])\n",
    "        split_preds.append(preds[1:]* stds[i] + means[i])\n",
    "    all_answers.append(split_answers)\n",
    "    all_preds.append(split_preds)\n",
    "    np.save(name + \"/Split\" + str(split_ind) + \"/Answers\", split_answers)\n",
    "    np.save(name + \"/Split\" + str(split_ind) + \"/Preds\", split_preds)    "
   ]
  },
  {
   "cell_type": "code",
   "execution_count": null,
   "id": "62c7375d",
   "metadata": {},
   "outputs": [],
   "source": []
  }
 ],
 "metadata": {
  "kernelspec": {
   "display_name": "Python 3 (ipykernel)",
   "language": "python",
   "name": "python3"
  },
  "language_info": {
   "codemirror_mode": {
    "name": "ipython",
    "version": 3
   },
   "file_extension": ".py",
   "mimetype": "text/x-python",
   "name": "python",
   "nbconvert_exporter": "python",
   "pygments_lexer": "ipython3",
   "version": "3.10.12"
  },
  "toc": {
   "base_numbering": 1,
   "nav_menu": {},
   "number_sections": true,
   "sideBar": true,
   "skip_h1_title": false,
   "title_cell": "Table of Contents",
   "title_sidebar": "Contents",
   "toc_cell": false,
   "toc_position": {},
   "toc_section_display": true,
   "toc_window_display": false
  },
  "varInspector": {
   "cols": {
    "lenName": 16,
    "lenType": 16,
    "lenVar": 40
   },
   "kernels_config": {
    "python": {
     "delete_cmd_postfix": "",
     "delete_cmd_prefix": "del ",
     "library": "var_list.py",
     "varRefreshCmd": "print(var_dic_list())"
    },
    "r": {
     "delete_cmd_postfix": ") ",
     "delete_cmd_prefix": "rm(",
     "library": "var_list.r",
     "varRefreshCmd": "cat(var_dic_list()) "
    }
   },
   "types_to_exclude": [
    "module",
    "function",
    "builtin_function_or_method",
    "instance",
    "_Feature"
   ],
   "window_display": false
  }
 },
 "nbformat": 4,
 "nbformat_minor": 5
}
