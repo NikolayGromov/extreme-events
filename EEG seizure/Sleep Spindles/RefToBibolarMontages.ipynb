{
 "cells": [
  {
   "cell_type": "markdown",
   "id": "4d2d097b",
   "metadata": {},
   "source": [
    "0 - 2\n",
    "1 - 3\n",
    "2 - 6\n",
    "3 - 7\n",
    "6 - 8\n",
    "7 - 9\n",
    "0 - 4\n",
    "1 - 5\n",
    "4 - 12\n"
   ]
  },
  {
   "cell_type": "code",
   "execution_count": 1,
   "id": "c0ed38a9",
   "metadata": {
    "ExecuteTime": {
     "end_time": "2024-10-21T11:02:38.882545Z",
     "start_time": "2024-10-21T11:02:34.868386Z"
    }
   },
   "outputs": [],
   "source": [
    "import mne\n",
    "import numpy as np\n",
    "import matplotlib.pyplot as plt\n",
    "import os\n",
    "from tqdm import tqdm\n",
    "from scipy.signal import butter, filtfilt\n",
    "\n",
    "import torch\n",
    "from torch import nn\n",
    "import torch.nn.functional as F\n",
    "import torch.optim as optim\n",
    "from torch.optim.lr_scheduler import ReduceLROnPlateau\n",
    "from torch.utils.data import DataLoader\n",
    "from adan_pytorch import Adan\n",
    "\n",
    "from sklearn.metrics import precision_score, recall_score, f1_score, confusion_matrix, ConfusionMatrixDisplay\n",
    "\n",
    "from IPython.display import clear_output"
   ]
  },
  {
   "cell_type": "code",
   "execution_count": 2,
   "id": "92b43a79",
   "metadata": {
    "ExecuteTime": {
     "end_time": "2024-10-21T11:02:38.893854Z",
     "start_time": "2024-10-21T11:02:38.890597Z"
    }
   },
   "outputs": [],
   "source": [
    "REF_ORDER = ['Fp1-F3',\n",
    " 'Fp2-F4',\n",
    " 'F3-C3',\n",
    " 'F4-C4',\n",
    " 'C3-P3',\n",
    " 'C4-P4',\n",
    " 'P3-O1',\n",
    " 'P4-O2',\n",
    " 'Fp1-F7',\n",
    " 'Fp2-F8',\n",
    " 'F7-T3',\n",
    " 'F8-T4',\n",
    " 'T3-T5',\n",
    " 'T4-T6',\n",
    " 'T5-O1',\n",
    " 'T6-O2',\n",
    " 'Fz-Cz',\n",
    " 'Cz-Pz',\n",
    " 'Fz-Pz',\n",
    " 'ECG']"
   ]
  },
  {
   "cell_type": "code",
   "execution_count": 3,
   "id": "e1f014a7",
   "metadata": {
    "ExecuteTime": {
     "end_time": "2024-10-21T11:02:41.705003Z",
     "start_time": "2024-10-21T11:02:41.701706Z"
    }
   },
   "outputs": [],
   "source": [
    "PATH = \"/home/gromov_n/MASS/ss2/\""
   ]
  },
  {
   "cell_type": "code",
   "execution_count": 15,
   "id": "33f0287f",
   "metadata": {
    "ExecuteTime": {
     "end_time": "2024-10-21T11:14:12.432143Z",
     "start_time": "2024-10-21T11:14:12.423454Z"
    }
   },
   "outputs": [],
   "source": [
    "def ReadSignals(PATH):\n",
    "    all_data = {}\n",
    "    names = []\n",
    "    for file in tqdm(os.listdir(PATH)):\n",
    "        if \"PSG\" in file:\n",
    "            data = mne.io.read_raw_edf(PATH + file, verbose=False)\n",
    "            raw_data = data.get_data()\n",
    "            names = data.info.ch_names\n",
    "            labels = np.load(\"data/\" + file + \"labels.npy\")\n",
    "            assert len(labels) == len(raw_data[0])\n",
    "            number = int(file[8:10])\n",
    "            all_data[number] = [raw_data, labels]\n",
    "           \n",
    "            data.close()\n",
    "    return all_data, names"
   ]
  },
  {
   "cell_type": "code",
   "execution_count": 16,
   "id": "7fc93503",
   "metadata": {
    "ExecuteTime": {
     "end_time": "2024-10-21T11:16:22.780348Z",
     "start_time": "2024-10-21T11:14:41.777921Z"
    }
   },
   "outputs": [
    {
     "name": "stderr",
     "output_type": "stream",
     "text": [
      "100%|████████████████████████████████████████████████████████████████| 97/97 [01:40<00:00,  1.04s/it]\n"
     ]
    }
   ],
   "source": [
    "all_data, names = ReadSignals(PATH)\n",
    "assert len(all_data) == 19"
   ]
  },
  {
   "cell_type": "code",
   "execution_count": 17,
   "id": "ff89fc6f",
   "metadata": {
    "ExecuteTime": {
     "end_time": "2024-10-21T11:16:29.590660Z",
     "start_time": "2024-10-21T11:16:29.575931Z"
    }
   },
   "outputs": [
    {
     "data": {
      "text/plain": [
       "['EEG Fp1-CLE',\n",
       " 'EEG Fp2-CLE',\n",
       " 'EEG F3-CLE',\n",
       " 'EEG F4-CLE',\n",
       " 'EEG F7-CLE',\n",
       " 'EEG F8-CLE',\n",
       " 'EEG C3-CLE',\n",
       " 'EEG C4-CLE',\n",
       " 'EEG P3-CLE',\n",
       " 'EEG P4-CLE',\n",
       " 'EEG O1-CLE',\n",
       " 'EEG O2-CLE',\n",
       " 'EEG T3-CLE',\n",
       " 'EEG T4-CLE',\n",
       " 'EEG T5-CLE',\n",
       " 'EEG T6-CLE',\n",
       " 'EEG Fpz-CLE',\n",
       " 'EEG Cz-CLE',\n",
       " 'EEG Pz-CLE',\n",
       " 'EOG Upper Vertic',\n",
       " 'EOG Lower Vertic',\n",
       " 'EOG Left Horiz',\n",
       " 'EOG Right Horiz',\n",
       " 'EMG Chin',\n",
       " 'ECG ECGI',\n",
       " 'Resp Nasal',\n",
       " 'EEG A2-CLE']"
      ]
     },
     "execution_count": 17,
     "metadata": {},
     "output_type": "execute_result"
    }
   ],
   "source": [
    "names"
   ]
  },
  {
   "cell_type": "code",
   "execution_count": 41,
   "id": "890de750",
   "metadata": {
    "ExecuteTime": {
     "end_time": "2024-10-21T11:28:34.429617Z",
     "start_time": "2024-10-21T11:28:34.424042Z"
    }
   },
   "outputs": [],
   "source": [
    "def RefToBibolarMontages(signals, lead_names_bip, lead_names_ref, ecg_idx):\n",
    "    new_signals = np.zeros_like(signals)[:20]\n",
    "    for row, name in enumerate(lead_names_bip):\n",
    "        first_lead, second_lead = name.split(\"-\")\n",
    "        idx_first_lead, idx_second_lead = 0, 0\n",
    "        \n",
    "        for i, ref_name in enumerate(lead_names_ref):\n",
    "            if ref_name.split(\"-\")[0][4:] == first_lead:\n",
    "                idx_first_lead = i\n",
    "            elif ref_name.split(\"-\")[0][4:] == second_lead: # [4:]  start is EEG_\n",
    "                idx_second_lead = i\n",
    "        \n",
    "        new_signals[row] = signals[idx_first_lead] - signals[idx_second_lead]\n",
    "    new_signals[-1] = signals[ecg_idx]\n",
    "    return new_signals"
   ]
  },
  {
   "cell_type": "code",
   "execution_count": 42,
   "id": "6f9b2969",
   "metadata": {
    "ExecuteTime": {
     "end_time": "2024-10-21T11:28:35.141832Z",
     "start_time": "2024-10-21T11:28:35.134739Z"
    }
   },
   "outputs": [
    {
     "data": {
      "text/plain": [
       "dict_keys([12, 11, 1, 5, 10, 19, 6, 7, 15, 2, 16, 3, 14, 13, 18, 8, 4, 9, 17])"
      ]
     },
     "execution_count": 42,
     "metadata": {},
     "output_type": "execute_result"
    }
   ],
   "source": [
    "all_data.keys()"
   ]
  },
  {
   "cell_type": "code",
   "execution_count": 43,
   "id": "674cb1ff",
   "metadata": {
    "ExecuteTime": {
     "end_time": "2024-10-21T11:29:01.425951Z",
     "start_time": "2024-10-21T11:28:36.682188Z"
    }
   },
   "outputs": [],
   "source": [
    "new_data = []\n",
    "labels = []\n",
    "for i in range(len(all_data)):\n",
    "    new_data.append(RefToBibolarMontages(all_data[i+1][0], REF_ORDER[:-1], names, -3))\n",
    "    labels.append(all_data[i+1][1])"
   ]
  },
  {
   "cell_type": "code",
   "execution_count": 52,
   "id": "fdc45caf",
   "metadata": {
    "ExecuteTime": {
     "end_time": "2024-10-21T11:32:16.523538Z",
     "start_time": "2024-10-21T11:32:16.518908Z"
    }
   },
   "outputs": [
    {
     "data": {
      "text/plain": [
       "array([[ 2.62623026e-06,  4.23196765e-06,  1.63530938e-06, ...,\n",
       "         3.99786374e-09, -5.82894636e-09, -1.37331197e-09],\n",
       "       [ 5.69695583e-07, -7.28084230e-07,  5.36606394e-06, ...,\n",
       "        -2.05996796e-09,  2.97550927e-09,  2.05996796e-09],\n",
       "       [ 4.02484169e-06,  5.83642329e-06,  6.80283818e-06, ...,\n",
       "        -7.87365530e-09,  3.05180438e-11, -8.75867857e-09],\n",
       "       [ 4.59453727e-06,  5.10833906e-06,  1.21689021e-05, ...,\n",
       "        -9.93362325e-09,  3.00602731e-09, -6.69871061e-09],\n",
       "       [-6.53617151e-06, -5.32716869e-06, -7.74517433e-06, ...,\n",
       "        -7.17845426e-07, -1.09565881e-06, -2.00241093e-06]])"
      ]
     },
     "execution_count": 52,
     "metadata": {},
     "output_type": "execute_result"
    }
   ],
   "source": [
    "new_data[0][15:20]"
   ]
  },
  {
   "cell_type": "code",
   "execution_count": 46,
   "id": "0039ea34",
   "metadata": {
    "ExecuteTime": {
     "end_time": "2024-10-21T11:30:12.225425Z",
     "start_time": "2024-10-21T11:29:50.711577Z"
    }
   },
   "outputs": [
    {
     "data": {
      "image/png": "[encoded data removed]",
      "text/plain": [
       "<Figure size 640x480 with 1 Axes>"
      ]
     },
     "metadata": {},
     "output_type": "display_data"
    }
   ],
   "source": [
    "for i in range(len(new_data[0])):\n",
    "    plt.plot(new_data[0][i])"
   ]
  },
  {
   "cell_type": "code",
   "execution_count": null,
   "id": "251c3405",
   "metadata": {},
   "outputs": [],
   "source": []
  }
 ],
 "metadata": {
  "kernelspec": {
   "display_name": "Python 3 (ipykernel)",
   "language": "python",
   "name": "python3"
  },
  "language_info": {
   "codemirror_mode": {
    "name": "ipython",
    "version": 3
   },
   "file_extension": ".py",
   "mimetype": "text/x-python",
   "name": "python",
   "nbconvert_exporter": "python",
   "pygments_lexer": "ipython3",
   "version": "3.10.12"
  },
  "toc": {
   "base_numbering": 1,
   "nav_menu": {},
   "number_sections": true,
   "sideBar": true,
   "skip_h1_title": false,
   "title_cell": "Table of Contents",
   "title_sidebar": "Contents",
   "toc_cell": false,
   "toc_position": {},
   "toc_section_display": true,
   "toc_window_display": false
  },
  "varInspector": {
   "cols": {
    "lenName": 16,
    "lenType": 16,
    "lenVar": 40
   },
   "kernels_config": {
    "python": {
     "delete_cmd_postfix": "",
     "delete_cmd_prefix": "del ",
     "library": "var_list.py",
     "varRefreshCmd": "print(var_dic_list())"
    },
    "r": {
     "delete_cmd_postfix": ") ",
     "delete_cmd_prefix": "rm(",
     "library": "var_list.r",
     "varRefreshCmd": "cat(var_dic_list()) "
    }
   },
   "types_to_exclude": [
    "module",
    "function",
    "builtin_function_or_method",
    "instance",
    "_Feature"
   ],
   "window_display": false
  }
 },
 "nbformat": 4,
 "nbformat_minor": 5
}
