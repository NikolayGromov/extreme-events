{
 "cells": [
  {
   "cell_type": "code",
   "execution_count": null,
   "id": "d8fa9b34",
   "metadata": {},
   "outputs": [],
   "source": []
  },
  {
   "cell_type": "code",
   "execution_count": 35,
   "id": "3381dcfd",
   "metadata": {
    "ExecuteTime": {
     "end_time": "2024-11-28T13:48:37.685681Z",
     "start_time": "2024-11-28T13:48:37.670091Z"
    }
   },
   "outputs": [],
   "source": [
    "def CollectingTPFPFN(pred_labels, true_labels):\n",
    "    i = 0\n",
    "    TP = 0\n",
    "    FP = 0\n",
    "    FN = 0\n",
    "\n",
    "    is_true_flag = 0\n",
    "    is_pred_flag = 0\n",
    "    is_used_pred_flag = 0\n",
    "    while i < len(pred_labels):\n",
    "        if pred_labels[i] == 0:\n",
    "            is_used_pred_flag = 0 \n",
    "        while i < len(pred_labels) and true_labels[i] == 1:\n",
    "            is_true_flag = 1\n",
    "            if not is_used_pred_flag:\n",
    "                if pred_labels[i] == 1:\n",
    "                    is_pred_flag = 1\n",
    "                    is_used_pred_flag = 1 \n",
    "            else:\n",
    "                if pred_labels[i] == 0:\n",
    "                    is_used_pred_flag = 0 \n",
    "            i += 1\n",
    "        if is_true_flag:\n",
    "            if is_pred_flag:\n",
    "                TP += 1\n",
    "            else:\n",
    "                FN += 1\n",
    "            i -= 1\n",
    "        \n",
    "        is_true_flag = 0\n",
    "        is_pred_flag = 0\n",
    "        \n",
    "        i += 1\n",
    "\n",
    "    i = 0\n",
    "    while i < len(pred_labels):\n",
    "        while i < len(pred_labels) and pred_labels[i] == 1:\n",
    "            is_pred_flag = 1\n",
    "            if true_labels[i] == 1:\n",
    "                is_true_flag = 1\n",
    "            i += 1\n",
    "        if is_pred_flag and not is_true_flag:\n",
    "            FP += 1\n",
    "        is_pred_flag = 0\n",
    "        is_true_flag = 0\n",
    "        i += 1\n",
    "\n",
    "    return TP, FP, FN "
   ]
  },
  {
   "cell_type": "code",
   "execution_count": 66,
   "id": "4d7ca364",
   "metadata": {
    "ExecuteTime": {
     "end_time": "2024-11-28T13:51:31.597542Z",
     "start_time": "2024-11-28T13:51:31.591995Z"
    }
   },
   "outputs": [],
   "source": [
    "test_labels = [1, 1, 0, 1, 1, 0, 0, 1, 1]\n",
    "predictions = [0, 1, 1, 1, 1, 1, 0, 1]"
   ]
  },
  {
   "cell_type": "code",
   "execution_count": 67,
   "id": "529a2876",
   "metadata": {
    "ExecuteTime": {
     "end_time": "2024-11-28T13:51:32.102283Z",
     "start_time": "2024-11-28T13:51:32.094257Z"
    }
   },
   "outputs": [
    {
     "name": "stdout",
     "output_type": "stream",
     "text": [
      "TP FP FN\n"
     ]
    },
    {
     "data": {
      "text/plain": [
       "(2, 0, 1)"
      ]
     },
     "execution_count": 67,
     "metadata": {},
     "output_type": "execute_result"
    }
   ],
   "source": [
    "print(\"TP FP FN\")\n",
    "CollectingTPFPFN(predictions, test_labels)"
   ]
  },
  {
   "cell_type": "code",
   "execution_count": null,
   "id": "06ae33fc",
   "metadata": {},
   "outputs": [],
   "source": []
  }
 ],
 "metadata": {
  "kernelspec": {
   "display_name": "Python 3 (ipykernel)",
   "language": "python",
   "name": "python3"
  },
  "language_info": {
   "codemirror_mode": {
    "name": "ipython",
    "version": 3
   },
   "file_extension": ".py",
   "mimetype": "text/x-python",
   "name": "python",
   "nbconvert_exporter": "python",
   "pygments_lexer": "ipython3",
   "version": "3.10.12"
  },
  "toc": {
   "base_numbering": 1,
   "nav_menu": {},
   "number_sections": true,
   "sideBar": true,
   "skip_h1_title": false,
   "title_cell": "Table of Contents",
   "title_sidebar": "Contents",
   "toc_cell": false,
   "toc_position": {},
   "toc_section_display": true,
   "toc_window_display": false
  },
  "varInspector": {
   "cols": {
    "lenName": 16,
    "lenType": 16,
    "lenVar": 40
   },
   "kernels_config": {
    "python": {
     "delete_cmd_postfix": "",
     "delete_cmd_prefix": "del ",
     "library": "var_list.py",
     "varRefreshCmd": "print(var_dic_list())"
    },
    "r": {
     "delete_cmd_postfix": ") ",
     "delete_cmd_prefix": "rm(",
     "library": "var_list.r",
     "varRefreshCmd": "cat(var_dic_list()) "
    }
   },
   "types_to_exclude": [
    "module",
    "function",
    "builtin_function_or_method",
    "instance",
    "_Feature"
   ],
   "window_display": false
  }
 },
 "nbformat": 4,
 "nbformat_minor": 5
}
