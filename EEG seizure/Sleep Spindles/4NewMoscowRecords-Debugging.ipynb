{
 "cells": [
  {
   "cell_type": "code",
   "execution_count": 1,
   "id": "482fba81",
   "metadata": {
    "ExecuteTime": {
     "end_time": "2024-11-21T11:11:42.742972Z",
     "start_time": "2024-11-21T11:11:40.274499Z"
    }
   },
   "outputs": [],
   "source": [
    "import pyedflib\n",
    "import mne\n",
    "import numpy as np\n",
    "\n",
    "import torchvision\n",
    "import torchaudio\n",
    "import torch\n",
    "from torch import nn\n",
    "import torch.nn.functional as F\n",
    "import torch.optim as optim\n",
    "from torch.optim.lr_scheduler import ReduceLROnPlateau\n",
    "\n",
    "\n",
    "import matplotlib.pyplot as plt\n",
    "from torch.utils.data import DataLoader\n",
    "\n",
    "from IPython.display import clear_output\n",
    "from tqdm import tqdm\n",
    "import matplotlib.ticker as ticker\n",
    "from os import listdir\n",
    "import os\n",
    "\n",
    "from sklearn.metrics import precision_score, recall_score, f1_score, confusion_matrix, ConfusionMatrixDisplay\n",
    "\n",
    "%matplotlib inline"
   ]
  },
  {
   "cell_type": "markdown",
   "id": "35676bf3",
   "metadata": {},
   "source": [
    "# Collecting Data"
   ]
  },
  {
   "cell_type": "code",
   "execution_count": 2,
   "id": "9f61556f",
   "metadata": {
    "ExecuteTime": {
     "end_time": "2024-11-21T11:11:42.751392Z",
     "start_time": "2024-11-21T11:11:42.745091Z"
    }
   },
   "outputs": [],
   "source": [
    "def ReadSignal(file_name): \n",
    "\n",
    "    f = pyedflib.EdfReader(file_name)\n",
    "    n = f.signals_in_file\n",
    "    signal_labels = f.getSignalLabels()\n",
    "    sigbufs = np.zeros((20, f.getNSamples()[0])) #or n\n",
    "    \n",
    "    if n == 22:\n",
    "        for i in np.arange(19):\n",
    "            sigbufs[i, :] = f.readSignal(i)\n",
    "        sigbufs[19, :] = f.readSignal(21)\n",
    "    elif n == 23:\n",
    "        for i in np.arange(19):\n",
    "            sigbufs[i, :] = f.readSignal(i)\n",
    "        sigbufs[19, :] = f.readSignal(20)\n",
    "    else:\n",
    "        for i in np.arange(n):\n",
    "            sigbufs[i, :] = f.readSignal(i)\n",
    "\n",
    "    time = [1/f.samplefrequency(0) * i for i in range(len(sigbufs[0]))]\n",
    "\n",
    "    annotations = f.readAnnotations()  \n",
    "\n",
    "\n",
    "    new_annot = [(annotations[0][i], annotations[1][i], annotations[2][i])  \n",
    "                 for i in range(len(annotations[0])) \n",
    "                                if (annotations[1][i] > 0) and (annotations[2][i] in ['?', 'Ð²Ñ\\x81', 'Ð²Ñ\\x81?'])]\n",
    "    f.close()\n",
    "    return sigbufs, new_annot, time, f.samplefrequency(0)"
   ]
  },
  {
   "cell_type": "code",
   "execution_count": 3,
   "id": "a23d02bd",
   "metadata": {
    "ExecuteTime": {
     "end_time": "2024-11-21T11:12:00.345689Z",
     "start_time": "2024-11-21T11:11:42.753927Z"
    }
   },
   "outputs": [],
   "source": [
    "record_names = [\"MoscowSpecialistsData/P2.edf\", \n",
    "                \"MoscowSpecialistsData/P3.edf\", \n",
    "                \"MoscowSpecialistsData/P4.edf\", \n",
    "                \"MoscowSpecialistsData/P5.edf\"]\n",
    "\n",
    "\n",
    "records = []\n",
    "annots = []\n",
    "times = []\n",
    "freqs = []\n",
    "for file_name in record_names:\n",
    "\n",
    "    sigbufs, new_annot, time, freq = ReadSignal(file_name)\n",
    "    records.append(sigbufs)\n",
    "    annots.append(new_annot)\n",
    "    times.append(time)\n",
    "    freqs.append(freq)\n",
    "    "
   ]
  },
  {
   "cell_type": "code",
   "execution_count": 4,
   "id": "acbdec6e",
   "metadata": {
    "ExecuteTime": {
     "end_time": "2024-11-21T11:12:00.354417Z",
     "start_time": "2024-11-21T11:12:00.348364Z"
    }
   },
   "outputs": [
    {
     "data": {
      "text/plain": [
       "[199.50274692224406,\n",
       " 199.50274692224406,\n",
       " 199.50274692224406,\n",
       " 199.50274692224406]"
      ]
     },
     "execution_count": 4,
     "metadata": {},
     "output_type": "execute_result"
    }
   ],
   "source": [
    "freqs"
   ]
  },
  {
   "cell_type": "code",
   "execution_count": 5,
   "id": "aa0f0ac6",
   "metadata": {
    "ExecuteTime": {
     "end_time": "2024-11-21T11:12:00.360027Z",
     "start_time": "2024-11-21T11:12:00.356038Z"
    }
   },
   "outputs": [],
   "source": [
    "def Labeling(time, events_lst):\n",
    "    labels = np.zeros_like(time)\n",
    "\n",
    "    for events in events_lst:\n",
    "        for event in tqdm(events):\n",
    "            start = np.array(time < event[0]).argmin()\n",
    "            fin = np.array(time < event[0] + event[1]).argmin()\n",
    "            labels[start:fin] =  1\n",
    "    return labels\n",
    "        "
   ]
  },
  {
   "cell_type": "code",
   "execution_count": 6,
   "id": "735438bc",
   "metadata": {
    "ExecuteTime": {
     "end_time": "2024-11-21T11:12:00.364244Z",
     "start_time": "2024-11-21T11:12:00.361535Z"
    }
   },
   "outputs": [],
   "source": [
    "# all_labels = []\n",
    "# for i in range(len(records)):\n",
    "#     labels = Labeling(times[i], [annots[i]])\n",
    "#     if \"NN\" in record_names[i]:\n",
    "#         np.save(\"data/NNSpecialistsData/Labels/\" + record_names[i][18:] + \"freq\" + str(freqs[i])[:3], labels)\n",
    "#     elif \"Moscow\" in record_names[i]:\n",
    "#         np.save(\"data/MoscowSpecialistsData/Labels/\" + record_names[i][22:] + \"freq\" + str(freqs[i])[:3], labels)\n",
    "#     all_labels.append(labels)"
   ]
  },
  {
   "cell_type": "code",
   "execution_count": 7,
   "id": "905e12fb",
   "metadata": {
    "ExecuteTime": {
     "end_time": "2024-11-21T11:12:00.417672Z",
     "start_time": "2024-11-21T11:12:00.365727Z"
    }
   },
   "outputs": [],
   "source": [
    "all_labels = []\n",
    "\n",
    "for i in range(len(records)):\n",
    "    \n",
    "    all_labels.append(np.load(\"MoscowSpecialistsData/Labels/\" + \n",
    "                                  record_names[i][22:] + \"freq\" + str(freqs[i])[:3] + \".npy\"))"
   ]
  },
  {
   "cell_type": "markdown",
   "id": "ea14796c",
   "metadata": {},
   "source": [
    "# Train Test Split"
   ]
  },
  {
   "cell_type": "code",
   "execution_count": 8,
   "id": "6ee3aa69",
   "metadata": {
    "ExecuteTime": {
     "end_time": "2024-11-21T11:12:00.423304Z",
     "start_time": "2024-11-21T11:12:00.419780Z"
    }
   },
   "outputs": [],
   "source": [
    "def Shuffle(records):\n",
    "    shuffled_records = []\n",
    "    for i in range(len(records)):\n",
    "        shuffled_records.append(records[i].copy())\n",
    "        np.random.shuffle(shuffled_records[-1][:-1])\n",
    "    return shuffled_records"
   ]
  },
  {
   "cell_type": "code",
   "execution_count": 9,
   "id": "adf81d47",
   "metadata": {
    "ExecuteTime": {
     "end_time": "2024-11-21T11:12:00.534386Z",
     "start_time": "2024-11-21T11:12:00.426398Z"
    }
   },
   "outputs": [],
   "source": [
    "def GetTrainTestByIdxs(array, train_indices):\n",
    "    train_array = [array[idx] for idx, is_train in enumerate(train_indices) if is_train == True]\n",
    "    test_array = [array[idx] for idx, is_train in enumerate(train_indices) if is_train == False]    \n",
    "    return train_array, test_array\n",
    "\n",
    "def GetTrainTestSplit(records, annots, times, labels, index, shuffle_leads):\n",
    "    train_indices = np.ones(4) #number of records\n",
    "    \n",
    "    train_indices[index] = 0\n",
    "    \n",
    "    train_records, test_records = GetTrainTestByIdxs(records, train_indices)\n",
    "    train_labels, test_labels = GetTrainTestByIdxs(labels, train_indices)  \n",
    "    train_annots, test_annots = GetTrainTestByIdxs(annots, train_indices)\n",
    "    train_times, test_times = GetTrainTestByIdxs(times, train_indices)\n",
    "    \n",
    "    \n",
    "    if shuffle_leads:\n",
    "        train_records = Shuffle(train_records)\n",
    "    \n",
    "    train_data = []\n",
    "    for i in range(len(train_records)):\n",
    "        train_time_start = train_annots[i][0][0]\n",
    "        train_time_end = train_annots[i][-1][0]\n",
    "        train_idx_start = (np.array(train_times[i]) < train_time_start).argmin()\n",
    "        train_idx_fin = (np.array(train_times[i])< train_time_end).argmin()\n",
    "        \n",
    "        train_data.append(torch.FloatTensor(train_records[i][:, train_idx_start:train_idx_fin]))\n",
    "        \n",
    "        current_labels = train_labels[i][train_idx_start:train_idx_fin]\n",
    "        new_trainl = torch.zeros(2, len(current_labels))\n",
    "        new_trainl = (torch.arange(2) == torch.LongTensor(current_labels)[:,None]).T\n",
    "        new_trainl = new_trainl.float()\n",
    "        train_labels[i] = new_trainl\n",
    "    \n",
    "    test_data = []\n",
    "    for i in range(len(test_records)):\n",
    "        test_time_start = test_annots[i][0][0]\n",
    "        test_time_end = test_annots[i][-1][0]\n",
    "        test_idx_start = (np.array(test_times[i]) < test_time_start).argmin()\n",
    "        test_idx_fin = (np.array(test_times[i])< test_time_end).argmin()\n",
    "\n",
    "        test_data.append(torch.FloatTensor(test_records[i][:, test_idx_start:test_idx_fin]))\n",
    "        \n",
    "        current_labels = test_labels[i][test_idx_start:test_idx_fin]\n",
    "        new_testl = torch.zeros(2, len(current_labels))\n",
    "        new_testl = (torch.arange(2) == torch.LongTensor(current_labels)[:,None]).T\n",
    "        new_testl = new_testl.float()\n",
    "        test_labels[i] = new_testl\n",
    "    \n",
    "    return train_data, train_labels, test_data, test_labels"
   ]
  },
  {
   "cell_type": "code",
   "execution_count": 10,
   "id": "418380c2",
   "metadata": {
    "ExecuteTime": {
     "end_time": "2024-11-21T11:12:00.539993Z",
     "start_time": "2024-11-21T11:12:00.535943Z"
    }
   },
   "outputs": [],
   "source": [
    "RECEPTIVE_FIELD = 4000\n",
    "OVERLAP = 0 \n",
    "\n",
    "def CreateSamples(x, labels, rf = RECEPTIVE_FIELD, ov = OVERLAP):\n",
    "    inout_seq = []\n",
    "    L = x.shape[-1]\n",
    "    for i in tqdm(range(ov, L- rf - ov, rf)):\n",
    "        train_seq = x[:, i-ov:i+rf+ov]\n",
    "        train_label = labels[:, i:i+rf]\n",
    "        inout_seq.append((train_seq ,train_label))\n",
    "    return inout_seq\n",
    "    "
   ]
  },
  {
   "cell_type": "markdown",
   "id": "2690d923",
   "metadata": {},
   "source": [
    "#  Net and Training"
   ]
  },
  {
   "cell_type": "code",
   "execution_count": 11,
   "id": "6fda25bd",
   "metadata": {
    "ExecuteTime": {
     "end_time": "2024-11-21T11:12:00.681353Z",
     "start_time": "2024-11-21T11:12:00.541624Z"
    },
    "code_folding": [
     0,
     15,
     37,
     53
    ]
   },
   "outputs": [],
   "source": [
    "class conbr_block(nn.Module):\n",
    "    def __init__(self, in_layer, out_layer, kernel_size, stride, dilation):\n",
    "        super(conbr_block, self).__init__()\n",
    "\n",
    "        self.conv1 = nn.Conv1d(in_layer, out_layer, kernel_size=kernel_size, stride=stride, dilation = dilation, padding = 3, bias=True)\n",
    "        self.bn = nn.BatchNorm1d(out_layer)\n",
    "        self.relu = nn.ReLU()\n",
    "    \n",
    "    def forward(self,x):\n",
    "        x = self.conv1(x)\n",
    "        x = self.bn(x)\n",
    "        out = self.relu(x)\n",
    "        \n",
    "        return out       \n",
    "\n",
    "class se_block(nn.Module):\n",
    "    def __init__(self,in_layer, out_layer):\n",
    "        super(se_block, self).__init__()\n",
    "        \n",
    "        self.conv1 = nn.Conv1d(in_layer, out_layer//8, kernel_size=1, padding=0)\n",
    "        self.conv2 = nn.Conv1d(out_layer//8, in_layer, kernel_size=1, padding=0)\n",
    "        self.fc = nn.Linear(1,out_layer//8)\n",
    "        self.fc2 = nn.Linear(out_layer//8,out_layer)\n",
    "        self.relu = nn.ReLU()\n",
    "        self.sigmoid = nn.Sigmoid()\n",
    "    \n",
    "    def forward(self,x):\n",
    "\n",
    "        x_se = nn.functional.adaptive_avg_pool1d(x,1)\n",
    "        x_se = self.conv1(x_se)\n",
    "        x_se = self.relu(x_se)\n",
    "        x_se = self.conv2(x_se)\n",
    "        x_se = self.sigmoid(x_se)\n",
    "        \n",
    "        x_out = torch.add(x, x_se)\n",
    "        return x_out\n",
    "\n",
    "class re_block(nn.Module):\n",
    "    def __init__(self, in_layer, out_layer, kernel_size, dilation):\n",
    "        super(re_block, self).__init__()\n",
    "        \n",
    "        self.cbr1 = conbr_block(in_layer,out_layer, kernel_size, 1, dilation)\n",
    "        self.cbr2 = conbr_block(out_layer,out_layer, kernel_size, 1, dilation)\n",
    "        self.seblock = se_block(out_layer, out_layer)\n",
    "    \n",
    "    def forward(self,x):\n",
    "\n",
    "        x_re = self.cbr1(x)\n",
    "        x_re = self.cbr2(x_re)\n",
    "        x_re = self.seblock(x_re)\n",
    "        x_out = torch.add(x, x_re)\n",
    "        return x_out          \n",
    "\n",
    "class UNET_1D(nn.Module):\n",
    "    def __init__(self ,input_dim,layer_n,kernel_size,depth):\n",
    "        super(UNET_1D, self).__init__()\n",
    "        self.input_dim = input_dim\n",
    "        self.layer_n = layer_n\n",
    "        self.kernel_size = kernel_size\n",
    "        self.depth = depth\n",
    "        \n",
    "        self.AvgPool1D1 = nn.AvgPool1d(input_dim, stride=5, padding=8)\n",
    "        self.AvgPool1D2 = nn.AvgPool1d(input_dim, stride=25, padding=8)\n",
    "        self.AvgPool1D3 = nn.AvgPool1d(input_dim, stride=125, padding=8)\n",
    "        \n",
    "        self.layer1 = self.down_layer(self.input_dim, self.layer_n, self.kernel_size,1, 2)\n",
    "        self.layer2 = self.down_layer(self.layer_n, int(self.layer_n*2), self.kernel_size,5, 2)\n",
    "        self.layer3 = self.down_layer(int(self.layer_n*2)+int(self.input_dim), int(self.layer_n*3), self.kernel_size,5, 2)\n",
    "        self.layer4 = self.down_layer(int(self.layer_n*3)+int(self.input_dim), int(self.layer_n*4), self.kernel_size,5, 2)\n",
    "        self.layer5 = self.down_layer(int(self.layer_n*4)+int(self.input_dim), int(self.layer_n*5), self.kernel_size,4, 2)\n",
    "\n",
    "        self.cbr_up1 = conbr_block(int(self.layer_n*7), int(self.layer_n*3), self.kernel_size, 1, 1)\n",
    "        self.cbr_up2 = conbr_block(int(self.layer_n*5), int(self.layer_n*2), self.kernel_size, 1, 1)\n",
    "        self.cbr_up3 = conbr_block(int(self.layer_n*3), self.layer_n, self.kernel_size, 1, 1)\n",
    "        self.upsample = nn.Upsample(scale_factor=5, mode='nearest')\n",
    "        self.upsample1 = nn.Upsample(scale_factor=5, mode='nearest') #for 4000 it is 5 and for 100 is 4\n",
    "        \n",
    "        self.outcov = nn.Conv1d(self.layer_n, 2, kernel_size=self.kernel_size, stride=1,padding = 3)\n",
    "    \n",
    "        \n",
    "    def down_layer(self, input_layer, out_layer, kernel, stride, depth):\n",
    "        block = []\n",
    "        block.append(conbr_block(input_layer, out_layer, kernel, stride, 1))\n",
    "        for i in range(depth):\n",
    "            block.append(re_block(out_layer,out_layer,kernel,1))\n",
    "        return nn.Sequential(*block)\n",
    "            \n",
    "    def forward(self, x):\n",
    "        \n",
    "        #print(\"x\", x.size())\n",
    "        pool_x1 = self.AvgPool1D1(x)\n",
    "        #print(\"pool_x1\", pool_x1.size())\n",
    "        \n",
    "        pool_x2 = self.AvgPool1D2(x)\n",
    "        #print(\"pool_x2\", pool_x2.size())\n",
    "        \n",
    "        pool_x3 = self.AvgPool1D3(x)\n",
    "        #print(\"pool_x3\", pool_x3.size())\n",
    "        \n",
    "        \n",
    "        #############Encoder#####################\n",
    "        \n",
    "        out_0 = self.layer1(x)\n",
    "        #print(\"out_0\", out_0.size())\n",
    "        out_1 = self.layer2(out_0)        \n",
    "        #print(\"out_1\", out_1.size())\n",
    "        \n",
    "        \n",
    "        x = torch.cat([out_1,pool_x1],1)\n",
    "\n",
    "        #print(\"x\", x.size())\n",
    "        out_2 = self.layer3(x)\n",
    "        #print(\"out_2\", out_2.size())\n",
    "        \n",
    "        x = torch.cat([out_2,pool_x2],1)\n",
    "        #print(\"x\", x.size())\n",
    "        x = self.layer4(x)\n",
    "        #print(\"x\", x.size())\n",
    "        \n",
    "        \n",
    "        #############Decoder####################\n",
    "        \n",
    "        up = self.upsample1(x)\n",
    "        #print(\"up\", up.size())\n",
    "        \n",
    "        up = torch.cat([up,out_2],1)\n",
    "        #print(\"up\", up.size())\n",
    "        \n",
    "        up = self.cbr_up1(up)\n",
    "        #print(\"up\", up.size())\n",
    "        \n",
    "        up = self.upsample(up)\n",
    "        #print(\"up\", up.size())\n",
    "        \n",
    "        up = torch.cat([up,out_1],1)\n",
    "        #print(\"up\", up.size())\n",
    "        \n",
    "        up = self.cbr_up2(up)\n",
    "        #print(\"up\", up.size())\n",
    "        \n",
    "        \n",
    "        up = self.upsample(up)\n",
    "        #print(\"up\", up.size())\n",
    "        \n",
    "        up = torch.cat([up,out_0],1)\n",
    "        #print(\"up\", up.size())\n",
    "        \n",
    "        up = self.cbr_up3(up)\n",
    "        #print(\"up\", up.size())\n",
    "        \n",
    "        out = self.outcov(up)\n",
    "        #print(\"out\", out.size())\n",
    "        \n",
    "        #out = nn.functional.softmax(out,dim=2)\n",
    "        \n",
    "        return out"
   ]
  },
  {
   "cell_type": "code",
   "execution_count": 12,
   "id": "517b12e5",
   "metadata": {
    "ExecuteTime": {
     "end_time": "2024-11-21T11:12:00.687545Z",
     "start_time": "2024-11-21T11:12:00.683119Z"
    }
   },
   "outputs": [],
   "source": [
    "def run_epoch(model, optimizer, criterion, dataloader, is_training=False):\n",
    "    epoch_loss = 0\n",
    "\n",
    "    if is_training:\n",
    "        model.train()\n",
    "    else:\n",
    "        model.eval()\n",
    "\n",
    "    for idx, (x, y) in tqdm(enumerate(dataloader)):\n",
    "        if is_training:\n",
    "            optimizer.zero_grad()\n",
    "      \n",
    "        #print(\"x\", x.shape)\n",
    "        \n",
    "\n",
    "        out = model(x.to('cuda'))\n",
    "        #print(\"y\", y.shape)\n",
    "        #print(\"out\", out.shape)\n",
    "        loss = criterion(out, y.to('cuda'))\n",
    "\n",
    "        if is_training:\n",
    "            loss.backward()\n",
    "            optimizer.step()\n",
    "\n",
    "        epoch_loss += (loss.detach().item() / len(dataloader))\n",
    "\n",
    "\n",
    "    return epoch_loss"
   ]
  },
  {
   "cell_type": "code",
   "execution_count": 13,
   "id": "6ef5d7f4",
   "metadata": {
    "ExecuteTime": {
     "end_time": "2024-11-21T11:12:00.695543Z",
     "start_time": "2024-11-21T11:12:00.689050Z"
    }
   },
   "outputs": [],
   "source": [
    "def Train(model, train_dataloader, test_dataloader, i, path):\n",
    "\n",
    "    criterion = nn.BCEWithLogitsLoss()#pos_weight = torch.FloatTensor([[0.3, 0.7]] * 4000).T.to(\"cuda\"))\n",
    "    optimizer = optim.Adam(model.parameters(), lr=0.001, betas=(0.9, 0.999), eps=1e-9)\n",
    "    scheduler = ReduceLROnPlateau(optimizer, patience = 3, factor=0.5, min_lr=0.00001)\n",
    "    epochs = 250\n",
    "\n",
    "    losses_train = []\n",
    "    losses_test = []\n",
    "    best_loss = 10e9\n",
    "    # begin training\n",
    "\n",
    "    early_stop_count = 15\n",
    "    current_es = 0\n",
    "    best_epoch = 0\n",
    "    for epoch in range(epochs): \n",
    "\n",
    "\n",
    "        loss_train = run_epoch(model, optimizer, criterion, train_dataloader, is_training=True)\n",
    "        loss_val = run_epoch(model, optimizer, criterion, test_dataloader)\n",
    "        scheduler.step(loss_val)\n",
    "        losses_train.append(loss_train)\n",
    "        losses_test.append(loss_val)\n",
    "\n",
    "        if losses_test[-1] < best_loss:\n",
    "            current_es = 0\n",
    "            best_loss = losses_test[-1]\n",
    "            torch.save(model.state_dict(), path + \"/Split\" + str(i) +\"/Unet1d\")\n",
    "            best_epoch = epoch\n",
    "        else:\n",
    "            current_es += 1\n",
    "        #if current_es == early_stop_count:\n",
    "            #break\n",
    "\n",
    "        clear_output(True)\n",
    "        fig = plt.figure(figsize=(10, 9))\n",
    "\n",
    "        ax_1 = fig.add_subplot(2, 1, 1)\n",
    "        ax_2 = fig.add_subplot(2, 1, 2)\n",
    "        ax_1.set_title('train')\n",
    "        ax_1.plot(losses_train)\n",
    "        ax_2.set_title('test')\n",
    "        ax_2.plot(losses_test)\n",
    "        plt.savefig(path + \"/Split\" + str(i) + \"/Unet1dFigure\")\n",
    "\n",
    "        plt.show()\n",
    "\n",
    "\n",
    "        print('Epoch[{}/{}] | loss train:{:.6f}, test:{:.6f}'\n",
    "                  .format(epoch+1, epochs, loss_train, loss_val))\n",
    "    f = open(path + \"/Split\" + str(i) + \"/BestEpoch.txt\", 'w')\n",
    "    f.write(str(best_epoch))\n",
    "    f.close()\n",
    "    "
   ]
  },
  {
   "cell_type": "markdown",
   "id": "fb1e7f63",
   "metadata": {},
   "source": [
    "# Collecting Predictions, Calculating Metrics"
   ]
  },
  {
   "cell_type": "code",
   "execution_count": 14,
   "id": "30c817da",
   "metadata": {
    "ExecuteTime": {
     "end_time": "2024-11-21T11:12:00.701594Z",
     "start_time": "2024-11-21T11:12:00.697047Z"
    }
   },
   "outputs": [],
   "source": [
    "def CollectingPreds(model, test_data):\n",
    "\n",
    "    model.eval()\n",
    "    model.cpu()\n",
    "    all_preds = []\n",
    "    for i in range(len(test_data)):\n",
    "        record_preds = []\n",
    "        for idx in tqdm(range(OVERLAP, test_data[i].size()[1]- RECEPTIVE_FIELD - OVERLAP, RECEPTIVE_FIELD)):\n",
    "\n",
    "            train_seq = test_data[i][:, idx-OVERLAP:idx+RECEPTIVE_FIELD+OVERLAP][None, ...]\n",
    "                  \n",
    "            out = model(train_seq)\n",
    "            m = nn.Softmax(dim=1)\n",
    "            out = m(out)\n",
    "            \n",
    "            preds = np.argmax(out.detach().cpu().numpy(), axis=1)\n",
    "            record_preds.append(preds)\n",
    "        shapes = np.array(record_preds).shape\n",
    "        record_preds = np.array(record_preds).reshape(shapes[0] * shapes[1] * shapes[2])\n",
    "        all_preds.append(record_preds)\n",
    "    return all_preds"
   ]
  },
  {
   "cell_type": "code",
   "execution_count": 15,
   "id": "b6c9cda4",
   "metadata": {
    "ExecuteTime": {
     "end_time": "2024-11-21T11:12:00.708255Z",
     "start_time": "2024-11-21T11:12:00.702960Z"
    }
   },
   "outputs": [],
   "source": [
    "def MergeClose(predictions, threshold):\n",
    "    i = 0\n",
    "    in_event = False\n",
    "    while i < len(predictions):\n",
    "        while i < len(predictions) and predictions[i] == 1:\n",
    "            in_event = True\n",
    "            i += 1\n",
    "        if  i < len(predictions) and in_event:\n",
    "            if np.any(predictions[i:i+threshold]):\n",
    "                while  i < len(predictions) and predictions[i] == 0:\n",
    "                    predictions[i] = 1\n",
    "                    i += 1\n",
    "            else:\n",
    "                in_event = False\n",
    "        i += 1\n",
    "\n",
    "def DeleteShortEvents(predictions, threshold):\n",
    "    i = 0\n",
    "    while i < len(predictions):\n",
    "        event_len = 0\n",
    "        event_idx_start = i\n",
    "        while i < len(predictions) and predictions[i] == 1:\n",
    "            i += 1\n",
    "            event_len += 1\n",
    "        if event_len < threshold:\n",
    "            predictions[event_idx_start:i] = 0\n",
    "        i += 1\n",
    "def PostProcessing(predictions, threshold):\n",
    "    MergeClose(predictions, threshold)\n",
    "    DeleteShortEvents(predictions, threshold)"
   ]
  },
  {
   "cell_type": "code",
   "execution_count": 16,
   "id": "18a6bc19",
   "metadata": {
    "ExecuteTime": {
     "end_time": "2024-11-21T11:12:00.719483Z",
     "start_time": "2024-11-21T11:12:00.709837Z"
    },
    "code_folding": [
     0
    ]
   },
   "outputs": [],
   "source": [
    "def CollectingTPFPFN(pred_labels, true_labels):\n",
    "    i = 0\n",
    "    TP = 0\n",
    "    FP = 0\n",
    "    FN = 0\n",
    "\n",
    "    is_true_flag = 0\n",
    "    is_pred_flag = 0\n",
    "    while i < len(pred_labels):\n",
    "        while i < len(pred_labels) and true_labels[i] == 1:\n",
    "            is_true_flag = 1\n",
    "            if pred_labels[i] == 1:\n",
    "                is_pred_flag = 1\n",
    "            i += 1\n",
    "        if is_true_flag:\n",
    "            if is_pred_flag:\n",
    "                TP += 1\n",
    "            else:\n",
    "                FN += 1\n",
    "        \n",
    "        is_true_flag = 0\n",
    "        is_pred_flag = 0   \n",
    "        i += 1\n",
    "\n",
    "    i = 0\n",
    "    while i < len(pred_labels):\n",
    "        while i < len(pred_labels) and pred_labels[i] == 1:\n",
    "            is_pred_flag = 1\n",
    "            if true_labels[i] == 1:\n",
    "                is_true_flag = 1\n",
    "            i += 1\n",
    "        if is_pred_flag and not is_true_flag:\n",
    "            FP += 1\n",
    "        is_pred_flag = 0\n",
    "        is_true_flag = 0\n",
    "        i += 1\n",
    "\n",
    "    return TP, FP, FN \n",
    "\n",
    "def GetRawMetricsAndCMEPI(predictions, test_labels, split_index, path):\n",
    "    lens = []\n",
    "    sums = []\n",
    "\n",
    "    acc = []\n",
    "    precision = []\n",
    "    recall = []\n",
    "    f1 = []\n",
    "\n",
    "    TP_sum = 0\n",
    "    FP_sum = 0\n",
    "    FN_sum = 0\n",
    "    \n",
    "    all_cm = 0\n",
    "    \n",
    "    train_indices = np.ones(4) #number of records\n",
    "    \n",
    "    train_indices[split_index] = 0\n",
    "        \n",
    "    train_record_names, test_record_names = GetTrainTestByIdxs(record_names, train_indices)\n",
    "    \n",
    "        \n",
    "    f = open(path + \"/Split\" + str(split_index) + \"/Metrics.txt\", 'w')\n",
    "    \n",
    "    for i in range(len(test_labels)):\n",
    "        pred_len = len(predictions[i])\n",
    "\n",
    "        TP, FP, FN = CollectingTPFPFN(predictions[i], test_labels[i][1, :pred_len].numpy())\n",
    "\n",
    "        TP_sum += TP\n",
    "        FP_sum += FP\n",
    "        FN_sum += FN\n",
    "            \n",
    "\n",
    "        precision.append(TP / (TP + FP))\n",
    "        recall.append(TP / (TP + FN))\n",
    "        f1.append(2 * TP / (2 * TP + FP + FN))\n",
    "        \n",
    "\n",
    "        cm = np.array([[0, FP], [FN, TP]])\n",
    "        all_cm += cm\n",
    "        \n",
    "        f.write(\"=============Record \" + test_record_names[i] + \"================\\n\")\n",
    "    \n",
    "        f.write(\"precision \" + str(precision[i]) + \"\\n\")\n",
    "        f.write(\"recall \" + str(recall[i]) + \"\\n\")\n",
    "        f.write(\"f1 score \" + str(f1[i]) + \"\\n\")\n",
    "                \n",
    "        con_mat = ConfusionMatrixDisplay(cm)\n",
    "        con_mat.plot().figure_.savefig(path + \"/Split\" + str(split_index) + \n",
    "                                \"/ConfusionMatrix_\" + test_record_names[i].replace(\"/\", \"_\") + \".png\")\n",
    "    f.write(\"===========ALL RECORDS SCORE==================\\n\")\n",
    "    \n",
    "    \n",
    "    f.write(\"Full precision \" + str(TP_sum / (TP_sum + FP_sum)) + \"\\n\")\n",
    "    f.write(\"Full recall \" + str(TP_sum / (TP_sum + FN_sum)) + \"\\n\")\n",
    "    f.write(\"Full f1 \" + str(2 * TP_sum / (2 * TP_sum + FP_sum + FN_sum)) + \"\\n\")\n",
    "    \n",
    "    \n",
    "    f.close()\n",
    "    con_mat = ConfusionMatrixDisplay(all_cm)\n",
    "    con_mat.plot().figure_.savefig(path + \"/Split\" + str(split_index) + \n",
    "                                \"/ConfusionMatrixFull.png\")"
   ]
  },
  {
   "cell_type": "code",
   "execution_count": 17,
   "id": "2cfc3338",
   "metadata": {
    "ExecuteTime": {
     "end_time": "2024-11-21T11:12:00.724686Z",
     "start_time": "2024-11-21T11:12:00.721015Z"
    }
   },
   "outputs": [],
   "source": [
    "def CalculateSWI(labels, sampling_rate=500, area_SWI=False):\n",
    "    if not area_SWI:\n",
    "        event_num = 0\n",
    "        silence_num = 0\n",
    "        for i in range(0, len(labels), sampling_rate):\n",
    "            if labels[i:i+sampling_rate].max() == 1:\n",
    "                event_num += 1\n",
    "            else:\n",
    "                silence_num += 1\n",
    "        return event_num / (event_num + silence_num)\n",
    "    return labels.sum() / len(labels)"
   ]
  },
  {
   "cell_type": "markdown",
   "id": "d54e0027",
   "metadata": {},
   "source": [
    "# Logging and Creating Folder"
   ]
  },
  {
   "cell_type": "code",
   "execution_count": 18,
   "id": "3f8cf30f",
   "metadata": {
    "ExecuteTime": {
     "end_time": "2024-11-21T11:12:00.729937Z",
     "start_time": "2024-11-21T11:12:00.726056Z"
    }
   },
   "outputs": [],
   "source": [
    "def LogResults(model, test_data, test_labels, i, path, last_epoch, low_freq, area_SWI):\n",
    "    if not last_epoch:\n",
    "        model.load_state_dict(torch.load(path + \"/Split\" + str(i) +\"/Unet1d\"))  \n",
    "    all_preds = CollectingPreds(model, test_data)\n",
    "    threshold = 25 #low because of lower sample rate, for 500 need to up to 30\n",
    "    sr = 200\n",
    "    if not low_freq:\n",
    "        threshold = 30\n",
    "        sr = 500\n",
    "    for j in range(len(all_preds)):\n",
    "        PostProcessing(all_preds[j], threshold)\n",
    "    GetRawMetricsAndCMEPI(all_preds, test_labels, i, path)  "
   ]
  },
  {
   "cell_type": "code",
   "execution_count": 19,
   "id": "d9f0d226",
   "metadata": {
    "ExecuteTime": {
     "end_time": "2024-11-21T11:12:00.734648Z",
     "start_time": "2024-11-21T11:12:00.731390Z"
    }
   },
   "outputs": [],
   "source": [
    "def CreateFolder(path):\n",
    "    try:  \n",
    "        os.mkdir(path)  \n",
    "    except OSError as error:\n",
    "        True\n",
    "    for i in range(4):\n",
    "        try:\n",
    "            os.mkdir(path + \"/Split\" + str(i))\n",
    "        except OSError as error:\n",
    "            continue\n",
    "    "
   ]
  },
  {
   "cell_type": "markdown",
   "id": "6a8dfc8f",
   "metadata": {},
   "source": [
    "# Experements"
   ]
  },
  {
   "cell_type": "code",
   "execution_count": 20,
   "id": "7c24c46d",
   "metadata": {
    "ExecuteTime": {
     "end_time": "2024-11-21T11:12:00.741067Z",
     "start_time": "2024-11-21T11:12:00.736138Z"
    }
   },
   "outputs": [],
   "source": [
    "def CrossValidationExperement(records, annots, times, labels, path, shuffle_leads=False, last_epoch=False, low_freq=True, \n",
    "                              is_train=True, area_SWI=False):\n",
    "    CreateFolder(path)\n",
    "    for i in range(4):\n",
    "        train_data, train_labels, test_data, test_labels = GetTrainTestSplit(records, annots, times, labels, i, \n",
    "                                                                             shuffle_leads)\n",
    "        train_samples = []\n",
    "        for j in range(len(train_data)):\n",
    "            train_samples += CreateSamples(train_data[j], train_labels[j])\n",
    "\n",
    "        test_samples = []\n",
    "        for j in range(len(test_data)):\n",
    "            test_samples += CreateSamples(test_data[j], test_labels[j])\n",
    "            \n",
    "        train_dataloader = DataLoader(train_samples, batch_size=len(train_samples), shuffle=True, drop_last=True) # or train_samples for 4000 or new_train_samples for 100\n",
    "        test_dataloader = DataLoader(test_samples, batch_size=len(test_samples), shuffle=False, drop_last=True)\n",
    "        model = UNET_1D(20,128,7,3) #(input_dim, hidden_layer, kernel_size, depth)\n",
    "        model = model.to(\"cuda\")\n",
    "        if is_train:\n",
    "            Train(model, train_dataloader, test_dataloader, i, path)\n",
    "        LogResults(model, test_data, test_labels, i, path, last_epoch, low_freq, area_SWI)"
   ]
  },
  {
   "cell_type": "code",
   "execution_count": 21,
   "id": "4fa6855a",
   "metadata": {
    "ExecuteTime": {
     "end_time": "2024-11-21T11:15:07.857730Z",
     "start_time": "2024-11-21T11:12:00.742420Z"
    }
   },
   "outputs": [
    {
     "data": {
      "image/png": "[encoded data removed]",
      "text/plain": [
       "<Figure size 1000x900 with 2 Axes>"
      ]
     },
     "metadata": {},
     "output_type": "display_data"
    },
    {
     "name": "stdout",
     "output_type": "stream",
     "text": [
      "Epoch[250/250] | loss train:0.055018, test:0.680987\n"
     ]
    },
    {
     "name": "stderr",
     "output_type": "stream",
     "text": [
      "100%|████████████████████████████████████████████████████| 30/30 [00:01<00:00, 15.44it/s]\n"
     ]
    },
    {
     "ename": "ZeroDivisionError",
     "evalue": "division by zero",
     "output_type": "error",
     "traceback": [
      "\u001b[0;31m---------------------------------------------------------------------------\u001b[0m",
      "\u001b[0;31mZeroDivisionError\u001b[0m                         Traceback (most recent call last)",
      "Cell \u001b[0;32mIn[21], line 1\u001b[0m\n\u001b[0;32m----> 1\u001b[0m \u001b[43mCrossValidationExperement\u001b[49m\u001b[43m(\u001b[49m\u001b[43mrecords\u001b[49m\u001b[43m,\u001b[49m\u001b[43m \u001b[49m\u001b[43mannots\u001b[49m\u001b[43m,\u001b[49m\u001b[43m \u001b[49m\u001b[43mtimes\u001b[49m\u001b[43m,\u001b[49m\u001b[43m \u001b[49m\u001b[43mall_labels\u001b[49m\u001b[43m,\u001b[49m\u001b[43m \u001b[49m\u001b[38;5;124;43m\"\u001b[39;49m\u001b[38;5;124;43m./CrossValidationResults/DebugTrain\u001b[39;49m\u001b[38;5;124;43m\"\u001b[39;49m\u001b[43m,\u001b[49m\u001b[43m \u001b[49m\n\u001b[1;32m      2\u001b[0m \u001b[43m                          \u001b[49m\u001b[43mshuffle_leads\u001b[49m\u001b[38;5;241;43m=\u001b[39;49m\u001b[38;5;28;43;01mFalse\u001b[39;49;00m\u001b[43m,\u001b[49m\u001b[43m \u001b[49m\u001b[43mlow_freq\u001b[49m\u001b[38;5;241;43m=\u001b[39;49m\u001b[38;5;28;43;01mTrue\u001b[39;49;00m\u001b[43m,\u001b[49m\u001b[43m \u001b[49m\u001b[43mis_train\u001b[49m\u001b[38;5;241;43m=\u001b[39;49m\u001b[38;5;28;43;01mTrue\u001b[39;49;00m\u001b[43m,\u001b[49m\u001b[43m \u001b[49m\u001b[43marea_SWI\u001b[49m\u001b[38;5;241;43m=\u001b[39;49m\u001b[38;5;28;43;01mTrue\u001b[39;49;00m\u001b[43m)\u001b[49m\n",
      "Cell \u001b[0;32mIn[20], line 21\u001b[0m, in \u001b[0;36mCrossValidationExperement\u001b[0;34m(records, annots, times, labels, path, shuffle_leads, last_epoch, low_freq, is_train, area_SWI)\u001b[0m\n\u001b[1;32m     19\u001b[0m \u001b[38;5;28;01mif\u001b[39;00m is_train:\n\u001b[1;32m     20\u001b[0m     Train(model, train_dataloader, test_dataloader, i, path)\n\u001b[0;32m---> 21\u001b[0m \u001b[43mLogResults\u001b[49m\u001b[43m(\u001b[49m\u001b[43mmodel\u001b[49m\u001b[43m,\u001b[49m\u001b[43m \u001b[49m\u001b[43mtest_data\u001b[49m\u001b[43m,\u001b[49m\u001b[43m \u001b[49m\u001b[43mtest_labels\u001b[49m\u001b[43m,\u001b[49m\u001b[43m \u001b[49m\u001b[43mi\u001b[49m\u001b[43m,\u001b[49m\u001b[43m \u001b[49m\u001b[43mpath\u001b[49m\u001b[43m,\u001b[49m\u001b[43m \u001b[49m\u001b[43mlast_epoch\u001b[49m\u001b[43m,\u001b[49m\u001b[43m \u001b[49m\u001b[43mlow_freq\u001b[49m\u001b[43m,\u001b[49m\u001b[43m \u001b[49m\u001b[43marea_SWI\u001b[49m\u001b[43m)\u001b[49m\n",
      "Cell \u001b[0;32mIn[18], line 12\u001b[0m, in \u001b[0;36mLogResults\u001b[0;34m(model, test_data, test_labels, i, path, last_epoch, low_freq, area_SWI)\u001b[0m\n\u001b[1;32m     10\u001b[0m \u001b[38;5;28;01mfor\u001b[39;00m j \u001b[38;5;129;01min\u001b[39;00m \u001b[38;5;28mrange\u001b[39m(\u001b[38;5;28mlen\u001b[39m(all_preds)):\n\u001b[1;32m     11\u001b[0m     PostProcessing(all_preds[j], threshold)\n\u001b[0;32m---> 12\u001b[0m \u001b[43mGetRawMetricsAndCMEPI\u001b[49m\u001b[43m(\u001b[49m\u001b[43mall_preds\u001b[49m\u001b[43m,\u001b[49m\u001b[43m \u001b[49m\u001b[43mtest_labels\u001b[49m\u001b[43m,\u001b[49m\u001b[43m \u001b[49m\u001b[43mi\u001b[49m\u001b[43m,\u001b[49m\u001b[43m \u001b[49m\u001b[43mpath\u001b[49m\u001b[43m)\u001b[49m\n",
      "Cell \u001b[0;32mIn[16], line 74\u001b[0m, in \u001b[0;36mGetRawMetricsAndCMEPI\u001b[0;34m(predictions, test_labels, split_index, path)\u001b[0m\n\u001b[1;32m     70\u001b[0m FP_sum \u001b[38;5;241m+\u001b[39m\u001b[38;5;241m=\u001b[39m FP\n\u001b[1;32m     71\u001b[0m FN_sum \u001b[38;5;241m+\u001b[39m\u001b[38;5;241m=\u001b[39m FN\n\u001b[0;32m---> 74\u001b[0m precision\u001b[38;5;241m.\u001b[39mappend(\u001b[43mTP\u001b[49m\u001b[43m \u001b[49m\u001b[38;5;241;43m/\u001b[39;49m\u001b[43m \u001b[49m\u001b[43m(\u001b[49m\u001b[43mTP\u001b[49m\u001b[43m \u001b[49m\u001b[38;5;241;43m+\u001b[39;49m\u001b[43m \u001b[49m\u001b[43mFP\u001b[49m\u001b[43m)\u001b[49m)\n\u001b[1;32m     75\u001b[0m recall\u001b[38;5;241m.\u001b[39mappend(TP \u001b[38;5;241m/\u001b[39m (TP \u001b[38;5;241m+\u001b[39m FN))\n\u001b[1;32m     76\u001b[0m f1\u001b[38;5;241m.\u001b[39mappend(\u001b[38;5;241m2\u001b[39m \u001b[38;5;241m*\u001b[39m TP \u001b[38;5;241m/\u001b[39m (\u001b[38;5;241m2\u001b[39m \u001b[38;5;241m*\u001b[39m TP \u001b[38;5;241m+\u001b[39m FP \u001b[38;5;241m+\u001b[39m FN))\n",
      "\u001b[0;31mZeroDivisionError\u001b[0m: division by zero"
     ]
    }
   ],
   "source": [
    "CrossValidationExperement(records, annots, times, all_labels, \"./CrossValidationResults/DebugTrain\", \n",
    "                          shuffle_leads=False, low_freq=True, is_train=True, area_SWI=True)"
   ]
  }
 ],
 "metadata": {
  "kernelspec": {
   "display_name": "Python 3 (ipykernel)",
   "language": "python",
   "name": "python3"
  },
  "language_info": {
   "codemirror_mode": {
    "name": "ipython",
    "version": 3
   },
   "file_extension": ".py",
   "mimetype": "text/x-python",
   "name": "python",
   "nbconvert_exporter": "python",
   "pygments_lexer": "ipython3",
   "version": "3.10.12"
  },
  "toc": {
   "base_numbering": 1,
   "nav_menu": {},
   "number_sections": true,
   "sideBar": true,
   "skip_h1_title": false,
   "title_cell": "Table of Contents",
   "title_sidebar": "Contents",
   "toc_cell": false,
   "toc_position": {},
   "toc_section_display": true,
   "toc_window_display": false
  },
  "varInspector": {
   "cols": {
    "lenName": 16,
    "lenType": 16,
    "lenVar": 40
   },
   "kernels_config": {
    "python": {
     "delete_cmd_postfix": "",
     "delete_cmd_prefix": "del ",
     "library": "var_list.py",
     "varRefreshCmd": "print(var_dic_list())"
    },
    "r": {
     "delete_cmd_postfix": ") ",
     "delete_cmd_prefix": "rm(",
     "library": "var_list.r",
     "varRefreshCmd": "cat(var_dic_list()) "
    }
   },
   "types_to_exclude": [
    "module",
    "function",
    "builtin_function_or_method",
    "instance",
    "_Feature"
   ],
   "window_display": false
  }
 },
 "nbformat": 4,
 "nbformat_minor": 5
}
