{
 "cells": [
  {
   "cell_type": "code",
   "execution_count": 1,
   "id": "c0c32327",
   "metadata": {},
   "outputs": [],
   "source": [
    "import pyedflib\n",
    "import numpy as np\n",
    "\n",
    "import torchvision\n",
    "import torch\n",
    "import torchvision.transforms as transforms\n",
    "from torch.utils.data.sampler import SubsetRandomSampler\n",
    "from torch import nn\n",
    "import torch.nn.functional as F\n",
    "import torch.optim as optim\n",
    "from torch.autograd import Variable\n",
    "from sklearn.preprocessing import MinMaxScaler\n",
    "import numpy as np\n",
    "import matplotlib.pyplot as plt\n",
    "from scipy.integrate import odeint\n",
    "from scipy.integrate import solve_ivp\n",
    "import matplotlib.pyplot as plt\n",
    "from torch.utils.data import DataLoader\n",
    "import math\n",
    "from IPython.display import clear_output\n",
    "from tqdm import tqdm\n",
    "import matplotlib.ticker as ticker\n",
    "from scipy.ndimage import gaussian_filter\n",
    "from torch.optim.lr_scheduler import ReduceLROnPlateau\n",
    "%matplotlib inline"
   ]
  },
  {
   "cell_type": "code",
   "execution_count": 2,
   "id": "ac726670",
   "metadata": {},
   "outputs": [],
   "source": [
    "summary = [\n",
    "    (\"chb01_03.edf\", [(2996, 3036), ]),\n",
    "    (\"chb01_04.edf\", [(1467, 1494), ]),\n",
    "    (\"chb01_15.edf\", [(1732, 1772), ]),\n",
    "    (\"chb01_16.edf\", [(1015, 1066), ]),\n",
    "    (\"chb01_18.edf\", [(1720, 1810), ]),\n",
    "    (\"chb01_21.edf\", [(327, 420), ]),\n",
    "    (\"chb01_26.edf\", [(1862, 1963), ]),\n",
    "    (\"chb02_16.edf\", [(130, 212), ]),\n",
    "    (\"chb02_16+.edf\", [(2972, 3053), ]),\n",
    "    (\"chb02_19.edf\", [(3369, 3378), ]),\n",
    "    (\"chb03_01.edf\", [(362, 414), ]),\n",
    "    (\"chb03_02.edf\", [(731, 796), ]),\n",
    "    (\"chb03_03.edf\", [(432, 501), ]),\n",
    "    (\"chb03_04.edf\", [(2162, 2214), ]),\n",
    "    (\"chb03_34.edf\", [(1982, 2029), ]),\n",
    "    (\"chb03_35.edf\", [(2592, 2656), ]),\n",
    "    (\"chb03_36.edf\", [(1725, 1778), ]),\n",
    "    (\"chb04_05.edf\", [(7804, 7853), ]), \n",
    "    (\"chb04_08.edf\", [(6446, 6557), ]), \n",
    "    (\"chb04_28.edf\", [(1679, 1781), (3782, 3898), ]),\n",
    "    (\"chb05_06.edf\", [(417, 532), ]),\n",
    "    (\"chb05_13.edf\", [(1086, 1196), ]),\n",
    "    (\"chb05_16.edf\", [(2317, 2413), ]),\n",
    "    (\"chb05_17.edf\", [(2451, 2571), ]),\n",
    "    (\"chb05_22.edf\", [(2348, 2465), ]),\n",
    "    (\"chb06_01.edf\", [(1724, 1738), (7461, 7476), (13525, 13540)]),\n",
    "    (\"chb06_04.edf\", [(327, 347), (6211, 6231), ]),\n",
    "    (\"chb06_09.edf\", [(12500, 12516), ]),\n",
    "    (\"chb06_10.edf\", [(10833, 10845), ]),\n",
    "    (\"chb06_13.edf\", [(506, 519), ]),\n",
    "    (\"chb06_18.edf\", [(7799, 7811), ]),\n",
    "    (\"chb06_24.edf\", [(9387, 9403), ]),\n",
    "    (\"chb07_12.edf\", [(4920, 5006), ]),\n",
    "    (\"chb07_13.edf\", [(3285, 3381), ]),\n",
    "    (\"chb07_19.edf\", [(13688, 13831), ]),\n",
    "    (\"chb08_02.edf\", [(2670, 2841), ]),\n",
    "    (\"chb08_05.edf\", [(2856, 3046), ]),\n",
    "    (\"chb08_11.edf\", [(2988, 3122), ]),\n",
    "    (\"chb08_13.edf\", [(2417, 2577), ]),\n",
    "    (\"chb08_21.edf\", [(2083, 2347), ]),\n",
    "    (\"chb09_06.edf\", [(12231, 12295), ]),\n",
    "    (\"chb09_08.edf\", [(2951, 3030), (9196, 9267), ]),\n",
    "    (\"chb09_19.edf\", [(5299, 5361), ]),\n",
    "    (\"chb10_12.edf\", [(6313, 6348), ]),\n",
    "    (\"chb10_20.edf\", [(6888, 6958), ]),\n",
    "    (\"chb10_27.edf\", [(2382, 2447), ]),\n",
    "    (\"chb10_30.edf\", [(3021, 3079), ]),\n",
    "    (\"chb10_31.edf\", [(3801, 3877), ]),\n",
    "    (\"chb10_38.edf\", [(4618, 4707), ]),\n",
    "    (\"chb10_89.edf\", [(1383, 1437), ]),\n",
    "    (\"chb11_82.edf\", [(298, 320), ]),\n",
    "    (\"chb11_92.edf\", [(2695, 2727), ]),\n",
    "    (\"chb11_99.edf\", [(1454, 2206), ]),\n",
    "]"
   ]
  },
  {
   "cell_type": "code",
   "execution_count": 3,
   "id": "b56c412a",
   "metadata": {},
   "outputs": [],
   "source": [
    "data_path = \"../../../../CHBData/chb-mit-scalp-eeg-database-1.0.0/\"\n",
    "sr = 8  #records have 256 i downsample in 32 times\n",
    "batch_size = 16\n",
    "preictal_time = 20 * 60 * sr  # 20 min\n",
    "\n",
    "siez_starts = []\n",
    "siez_ends = []\n",
    "for i in range(len(summary)):\n",
    "    cur_record_starts = []\n",
    "    cur_record_ends = []\n",
    "    for j in range(len(summary[i][1])):\n",
    "        cur_record_starts += [summary[i][1][j][0]*sr]\n",
    "        cur_record_ends += [summary[i][1][j][1]*sr]\n",
    "    siez_starts.append(cur_record_starts)\n",
    "    siez_ends.append(cur_record_ends)\n",
    "    \n",
    "file_names = [data_path + rec[0][:5] + \"/\" + rec[0] for rec in summary]"
   ]
  },
  {
   "cell_type": "markdown",
   "id": "6401ce75",
   "metadata": {},
   "source": [
    "lets test 5 and 11\n",
    "valid 7 and 3 or 8"
   ]
  },
  {
   "cell_type": "code",
   "execution_count": 4,
   "id": "15cc13b8",
   "metadata": {},
   "outputs": [],
   "source": [
    "train_idxs = []\n",
    "val_idxs = []\n",
    "test_idxs = []\n",
    "\n",
    "for i, file_name in enumerate(file_names):\n",
    "    if (\"chb05\" in file_name) or (\"chb11\" in file_name):\n",
    "        test_idxs.append(i)\n",
    "    elif (\"chb08\" in file_name) or (\"chb07\" in file_name):\n",
    "        val_idxs.append(i)\n",
    "    else:\n",
    "        train_idxs.append(i)\n",
    "        "
   ]
  },
  {
   "cell_type": "code",
   "execution_count": 5,
   "id": "7526d23e",
   "metadata": {},
   "outputs": [
    {
     "name": "stdout",
     "output_type": "stream",
     "text": [
      "Hi\n"
     ]
    }
   ],
   "source": [
    "print(\"Hi\")"
   ]
  },
  {
   "cell_type": "code",
   "execution_count": 6,
   "id": "3c03a95f",
   "metadata": {},
   "outputs": [],
   "source": [
    "assert len(train_idxs) + len(val_idxs) + len(test_idxs) == len(summary)"
   ]
  },
  {
   "cell_type": "code",
   "execution_count": 7,
   "id": "29c02c41",
   "metadata": {},
   "outputs": [],
   "source": [
    "def read_signal(file_name):\n",
    "    f = pyedflib.EdfReader(file_name)\n",
    "    n = f.signals_in_file\n",
    "    signal_labels = f.getSignalLabels()\n",
    "    sigbufs = np.zeros((n, f.getNSamples()[0]))\n",
    "    for i in np.arange(n):\n",
    "            sigbufs[i, :] = f.readSignal(i)\n",
    "    return sigbufs"
   ]
  },
  {
   "cell_type": "code",
   "execution_count": 8,
   "id": "37ee69f2",
   "metadata": {},
   "outputs": [
    {
     "name": "stdout",
     "output_type": "stream",
     "text": [
      "Shape (23, 921600)\n"
     ]
    }
   ],
   "source": [
    "signals = [read_signal(file_names[i]) for i in range(len(file_names))]\n",
    "print(\"Shape\", signals[0].shape)\n"
   ]
  },
  {
   "cell_type": "code",
   "execution_count": 9,
   "id": "7876724e",
   "metadata": {},
   "outputs": [
    {
     "name": "stderr",
     "output_type": "stream",
     "text": [
      "100%|██████████████████████████████████████████████████████████████████████████████████| 53/53 [02:29<00:00,  2.81s/it]\n"
     ]
    }
   ],
   "source": [
    "#no axes in my version of filter\n",
    "filtered_signals = []\n",
    "for i in tqdm(range(len(signals))):\n",
    "    filtered_signal = []\n",
    "    for channel in range(len(signals[i])):\n",
    "        filtered_signal.append(gaussian_filter(gaussian_filter(signals[i][channel], sigma=3, radius=32)[::32], sigma=3, radius=5))\n",
    "        \n",
    "    filtered_signals.append(np.array(filtered_signal))"
   ]
  },
  {
   "cell_type": "code",
   "execution_count": 10,
   "id": "1b25a4b1",
   "metadata": {},
   "outputs": [],
   "source": [
    "assert len(filtered_signals) == len(signals)\n",
    "#assert filtered_signals[0].shape == signals[0].shape"
   ]
  },
  {
   "cell_type": "code",
   "execution_count": 11,
   "id": "1f83e5f4",
   "metadata": {},
   "outputs": [],
   "source": [
    "signals = filtered_signals"
   ]
  },
  {
   "cell_type": "code",
   "execution_count": 12,
   "id": "d4d5d82c",
   "metadata": {},
   "outputs": [
    {
     "name": "stdout",
     "output_type": "stream",
     "text": [
      "(23, 28800)\n",
      "(23, 28800)\n",
      "(23, 28800)\n",
      "(23, 28800)\n",
      "(23, 28800)\n",
      "(23, 28800)\n",
      "(23, 18600)\n",
      "(23, 7672)\n",
      "(23, 28800)\n",
      "(23, 28800)\n",
      "(23, 28800)\n",
      "(23, 28800)\n",
      "(23, 28800)\n",
      "(23, 28800)\n",
      "(23, 28800)\n",
      "(23, 28800)\n",
      "(23, 28800)\n",
      "(23, 76288)\n",
      "(24, 115200)\n",
      "(24, 115384)\n",
      "(23, 28800)\n",
      "(23, 28800)\n",
      "(23, 28800)\n",
      "(23, 28800)\n",
      "(23, 28800)\n",
      "(23, 115416)\n",
      "(23, 106088)\n",
      "(23, 115200)\n",
      "(23, 115200)\n",
      "(23, 115200)\n",
      "(23, 63424)\n",
      "(23, 115200)\n",
      "(23, 115200)\n",
      "(23, 29808)\n",
      "(23, 115288)\n",
      "(23, 28800)\n",
      "(23, 28800)\n",
      "(23, 28800)\n",
      "(23, 28800)\n",
      "(23, 28800)\n",
      "(24, 115192)\n",
      "(24, 115200)\n",
      "(24, 45600)\n",
      "(23, 57600)\n",
      "(23, 57696)\n",
      "(23, 57744)\n",
      "(23, 57704)\n",
      "(23, 57768)\n",
      "(23, 57600)\n",
      "(23, 57600)\n",
      "(28, 28800)\n",
      "(28, 28800)\n",
      "(28, 22872)\n"
     ]
    }
   ],
   "source": [
    "for i in range(len(signals)):\n",
    "    print(signals[i].shape)"
   ]
  },
  {
   "cell_type": "markdown",
   "id": "96477440",
   "metadata": {},
   "source": [
    "147456 for 10 minuts, now 5 minuts\n"
   ]
  },
  {
   "cell_type": "code",
   "execution_count": 13,
   "id": "461ff901",
   "metadata": {},
   "outputs": [],
   "source": [
    "for i in range(len(signals)):\n",
    "    signals[i] = signals[i][:23]"
   ]
  },
  {
   "cell_type": "markdown",
   "id": "5a1ee8e6",
   "metadata": {},
   "source": [
    "##### 10 min is 153 600 but WaveNet has limits  5 min is 76 800  our model limit is 73728;  4800 is 10 minuts after resampling 4608 our model limit\n"
   ]
  },
  {
   "cell_type": "code",
   "execution_count": 14,
   "id": "8a6d9215",
   "metadata": {},
   "outputs": [],
   "source": [
    "train_window = 4608 \n",
    "def create_inout_sequences(input_data, tw, pre_ind, start_ind):\n",
    "    inout_seq = []\n",
    "    L = input_data.shape[1]\n",
    "    \n",
    "    for i in tqdm(range(0, L - tw, tw)):\n",
    "        train_seq = input_data[:, i:i+tw]\n",
    "        assert train_seq.shape[1] == tw\n",
    "        train_label = 0\n",
    "        for j in range(len(pre_ind)):\n",
    "            train_label = 0\n",
    "            if pre_ind[j] < i + tw < start_ind[j]:\n",
    "                train_label = 1\n",
    "        \n",
    "        inout_seq.append((torch.FloatTensor(train_seq), torch.LongTensor([train_label])))\n",
    "    return inout_seq"
   ]
  },
  {
   "cell_type": "code",
   "execution_count": 15,
   "id": "e28e4290",
   "metadata": {},
   "outputs": [
    {
     "name": "stderr",
     "output_type": "stream",
     "text": [
      "100%|████████████████████████████████████████████████████████████████████████████████████| 6/6 [00:01<00:00,  3.57it/s]\n",
      "100%|██████████████████████████████████████████████████████████████████████████████████| 6/6 [00:00<00:00, 1199.69it/s]\n",
      "100%|██████████████████████████████████████████████████████████████████████████████████| 6/6 [00:00<00:00, 1999.83it/s]\n",
      "100%|██████████████████████████████████████████████████████████████████████████████████| 6/6 [00:00<00:00, 1499.66it/s]\n",
      "100%|██████████████████████████████████████████████████████████████████████████████████| 6/6 [00:00<00:00, 2000.46it/s]\n",
      "100%|██████████████████████████████████████████████████████████████████████████████████| 6/6 [00:00<00:00, 1199.80it/s]\n",
      "100%|██████████████████████████████████████████████████████████████████████████████████| 4/4 [00:00<00:00, 1332.90it/s]\n",
      "100%|███████████████████████████████████████████████████████████████████████████████████| 1/1 [00:00<00:00, 999.60it/s]\n",
      "100%|██████████████████████████████████████████████████████████████████████████████████| 6/6 [00:00<00:00, 1199.63it/s]\n",
      "100%|██████████████████████████████████████████████████████████████████████████████████| 6/6 [00:00<00:00, 1199.74it/s]\n",
      "100%|███████████████████████████████████████████████████████████████████████████████████| 6/6 [00:00<00:00, 999.40it/s]\n",
      "100%|██████████████████████████████████████████████████████████████████████████████████| 6/6 [00:00<00:00, 1499.66it/s]\n",
      "100%|██████████████████████████████████████████████████████████████████████████████████| 6/6 [00:00<00:00, 1499.66it/s]\n",
      "100%|██████████████████████████████████████████████████████████████████████████████████| 6/6 [00:00<00:00, 1499.75it/s]\n",
      "100%|██████████████████████████████████████████████████████████████████████████████████| 6/6 [00:00<00:00, 1999.35it/s]\n",
      "100%|██████████████████████████████████████████████████████████████████████████████████| 6/6 [00:00<00:00, 1391.84it/s]\n",
      "100%|██████████████████████████████████████████████████████████████████████████████████| 6/6 [00:00<00:00, 1999.51it/s]\n",
      "100%|████████████████████████████████████████████████████████████████████████████████| 16/16 [00:00<00:00, 1599.58it/s]\n",
      "100%|████████████████████████████████████████████████████████████████████████████████| 24/24 [00:00<00:00, 2666.08it/s]\n",
      "100%|████████████████████████████████████████████████████████████████████████████████| 25/25 [00:00<00:00, 2499.53it/s]\n",
      "100%|████████████████████████████████████████████████████████████████████████████████| 25/25 [00:00<00:00, 4068.98it/s]\n",
      "100%|████████████████████████████████████████████████████████████████████████████████| 23/23 [00:00<00:00, 3832.55it/s]\n",
      "100%|████████████████████████████████████████████████████████████████████████████████| 24/24 [00:00<00:00, 4798.97it/s]\n",
      "100%|████████████████████████████████████████████████████████████████████████████████| 24/24 [00:00<00:00, 3427.54it/s]\n",
      "100%|████████████████████████████████████████████████████████████████████████████████| 24/24 [00:00<00:00, 3420.20it/s]\n",
      "100%|████████████████████████████████████████████████████████████████████████████████| 13/13 [00:00<00:00, 3248.88it/s]\n",
      "100%|████████████████████████████████████████████████████████████████████████████████| 24/24 [00:00<00:00, 4798.97it/s]\n",
      "100%|████████████████████████████████████████████████████████████████████████████████| 24/24 [00:00<00:00, 3428.00it/s]\n",
      "100%|████████████████████████████████████████████████████████████████████████████████| 24/24 [00:00<00:00, 3998.86it/s]\n",
      "100%|██████████████████████████████████████████████████████████████████████████████████| 9/9 [00:00<00:00, 4499.25it/s]\n",
      "100%|████████████████████████████████████████████████████████████████████████████████| 12/12 [00:00<00:00, 2999.50it/s]\n",
      "100%|████████████████████████████████████████████████████████████████████████████████| 12/12 [00:00<00:00, 3401.71it/s]\n",
      "100%|████████████████████████████████████████████████████████████████████████████████| 12/12 [00:00<00:00, 3999.02it/s]\n",
      "100%|████████████████████████████████████████████████████████████████████████████████| 12/12 [00:00<00:00, 2998.79it/s]\n",
      "100%|████████████████████████████████████████████████████████████████████████████████| 12/12 [00:00<00:00, 2999.32it/s]\n",
      "100%|████████████████████████████████████████████████████████████████████████████████| 12/12 [00:00<00:00, 2998.61it/s]\n",
      "100%|████████████████████████████████████████████████████████████████████████████████| 12/12 [00:00<00:00, 2399.37it/s]\n"
     ]
    }
   ],
   "source": [
    "train_inout_seq = []\n",
    "for i in train_idxs:\n",
    "    pre_ind = []\n",
    "    for starts in siez_starts[i]:\n",
    "        pre_ind += [((starts - preictal_time) > 0) * (starts - preictal_time)]\n",
    "    train_inout_seq += create_inout_sequences(signals[i], train_window, pre_ind, siez_starts[i])"
   ]
  },
  {
   "cell_type": "code",
   "execution_count": 16,
   "id": "6ea6a9cd",
   "metadata": {},
   "outputs": [],
   "source": [
    "for i in range(len(train_inout_seq)):\n",
    "    assert train_inout_seq[i][0].size()[1] == train_window"
   ]
  },
  {
   "cell_type": "code",
   "execution_count": 17,
   "id": "d187608f",
   "metadata": {},
   "outputs": [
    {
     "name": "stderr",
     "output_type": "stream",
     "text": [
      "100%|████████████████████████████████████████████████████████████████████████████████| 24/24 [00:00<00:00, 3999.02it/s]\n",
      "100%|██████████████████████████████████████████████████████████████████████████████████| 6/6 [00:00<00:00, 2999.14it/s]\n",
      "100%|████████████████████████████████████████████████████████████████████████████████| 25/25 [00:00<00:00, 4165.98it/s]\n",
      "100%|██████████████████████████████████████████████████████████████████████████████████| 6/6 [00:00<00:00, 2998.79it/s]\n",
      "100%|██████████████████████████████████████████████████████████████████████████████████| 6/6 [00:00<00:00, 2394.01it/s]\n",
      "100%|██████████████████████████████████████████████████████████████████████████████████| 6/6 [00:00<00:00, 2998.43it/s]\n",
      "100%|██████████████████████████████████████████████████████████████████████████████████| 6/6 [00:00<00:00, 5994.72it/s]\n",
      "100%|██████████████████████████████████████████████████████████████████████████████████| 6/6 [00:00<00:00, 1937.32it/s]\n"
     ]
    }
   ],
   "source": [
    "val_inout_seq = []\n",
    "for i in val_idxs:\n",
    "    pre_ind = []\n",
    "    for starts in siez_starts[i]:\n",
    "        pre_ind += [((starts - preictal_time) > 0) * (starts - preictal_time)]\n",
    "    val_inout_seq += create_inout_sequences(signals[i], train_window, pre_ind, siez_starts[i])"
   ]
  },
  {
   "cell_type": "code",
   "execution_count": 18,
   "id": "571076f2",
   "metadata": {},
   "outputs": [
    {
     "name": "stderr",
     "output_type": "stream",
     "text": [
      "100%|██████████████████████████████████████████████████████████████████████████████████| 6/6 [00:00<00:00, 2000.62it/s]\n",
      "100%|██████████████████████████████████████████████████████████████████████████████████| 6/6 [00:00<00:00, 2965.57it/s]\n",
      "100%|██████████████████████████████████████████████████████████████████████████████████| 6/6 [00:00<00:00, 2999.14it/s]\n",
      "100%|██████████████████████████████████████████████████████████████████████████████████| 6/6 [00:00<00:00, 2999.50it/s]\n",
      "100%|██████████████████████████████████████████████████████████████████████████████████| 6/6 [00:00<00:00, 3000.58it/s]\n",
      "100%|██████████████████████████████████████████████████████████████████████████████████| 6/6 [00:00<00:00, 2999.14it/s]\n",
      "100%|██████████████████████████████████████████████████████████████████████████████████| 6/6 [00:00<00:00, 2998.79it/s]\n",
      "100%|██████████████████████████████████████████████████████████████████████████████████| 4/4 [00:00<00:00, 3997.43it/s]\n"
     ]
    }
   ],
   "source": [
    "test_inout_seq = []\n",
    "for i in test_idxs:\n",
    "    pre_ind = []\n",
    "    for starts in siez_starts[i]:\n",
    "        pre_ind += [((starts - preictal_time) > 0) * (starts - preictal_time)]\n",
    "    test_inout_seq += create_inout_sequences(signals[i], train_window, pre_ind, siez_starts[i])"
   ]
  },
  {
   "cell_type": "code",
   "execution_count": 19,
   "id": "af750189",
   "metadata": {},
   "outputs": [],
   "source": [
    "train_dataloader = DataLoader(train_inout_seq, batch_size=batch_size, shuffle=True, drop_last=True)\n",
    "val_dataloader = DataLoader(val_inout_seq, batch_size=batch_size, shuffle=False, drop_last=True)\n",
    "test_dataloader = DataLoader(test_inout_seq, batch_size=batch_size, shuffle=False, drop_last=True)"
   ]
  },
  {
   "cell_type": "code",
   "execution_count": 20,
   "id": "5acca594",
   "metadata": {
    "code_folding": []
   },
   "outputs": [],
   "source": [
    "class CausalConv1d(nn.Conv1d):\n",
    "    def __init__(self, *args, **kwargs):\n",
    "        super(CausalConv1d, self).__init__(*args, **kwargs)\n",
    "        self.padding = ((self.kernel_size[0] - 1) * self.dilation[0],)\n",
    "\n",
    "    def forward(self, x):\n",
    "        x = super(CausalConv1d, self).forward(x)\n",
    "        return x[:, :, :-self.padding[0]]\n",
    "\n",
    "    \n",
    "\n",
    "\n",
    "\n",
    "class WaveNet(nn.Module):\n",
    "    \"\"\"WaveNet architecture with local conditioning\n",
    "\n",
    "    https://arxiv.org/pdf/1609.03499.pdf - original paper\n",
    "    https://arxiv.org/pdf/1702.07825.pdf - appending A for more details\n",
    "    \n",
    "    But given implementation has following differences:\n",
    "    1. tanh is not applied to input embedding\n",
    "    2. vector is scaled (multiplied 0.5 ** 0.5) between blocks\n",
    "    3. GRU is used for processing mel spectrogram\n",
    "    4. GRU output is nearest neighbour apsampled hop_size times\n",
    "    5. each block has own conditioning projection\n",
    "\n",
    "    Args:\n",
    "        num_channels       (int): size of modelled categorical distribution\n",
    "        residual_channels  (int): hidden vector size\n",
    "        gate_channels      (int): gate block dimension\n",
    "        skip_channels      (int): skip-vector size\n",
    "        pre_channels       (int): dimension before the last layer\n",
    "        dilation_cycles    (int): number of dilation cycles\n",
    "        dilation_depth     (int): blocks number in dilation cycle (e.g. if set 10, max dilation = 2^(10-1))\n",
    "        condition_channels (int): number of mel filters\n",
    "        hop_size           (int): STFT hop size\n",
    "    \"\"\"\n",
    "\n",
    "    def __init__(self,\n",
    "                 num_channels,\n",
    "                 residual_channels,\n",
    "                 gate_channels,\n",
    "                 skip_channels,\n",
    "                 pre_channels,\n",
    "                 dilation_cycles,\n",
    "                 dilation_depth,\n",
    "                 condition_channels,\n",
    "                 hop_size):\n",
    "        super(WaveNet, self).__init__()\n",
    "        \n",
    "        self.kernel_size = 2\n",
    "        self.dilations = np.array([\n",
    "            2 ** (i % dilation_depth) \n",
    "            for i in range(dilation_cycles * dilation_depth)\n",
    "        ])\n",
    "        \n",
    "        self.num_channels = num_channels\n",
    "        self.residual_channels = residual_channels\n",
    "        self.gate_channels = gate_channels\n",
    "        self.skip_channels = skip_channels\n",
    "        self.pre_channels = pre_channels\n",
    "        self.hop_size = hop_size\n",
    "        \n",
    "        \n",
    "        self.conv_input = nn.Conv1d(\n",
    "            in_channels=num_channels,\n",
    "            out_channels=residual_channels,\n",
    "            kernel_size=1)\n",
    "\n",
    "        self.blocks_conv_filter = nn.ModuleList([\n",
    "            CausalConv1d(\n",
    "                in_channels=residual_channels,\n",
    "                out_channels=gate_channels,\n",
    "                kernel_size=2,\n",
    "                dilation=d\n",
    "            ) for d in self.dilations])\n",
    "\n",
    "        self.blocks_conv_gate = nn.ModuleList([\n",
    "            CausalConv1d(\n",
    "                in_channels=residual_channels,\n",
    "                out_channels=gate_channels,\n",
    "                kernel_size=2,\n",
    "                dilation=d\n",
    "            ) for d in self.dilations])\n",
    "        \n",
    "        self.blocks_conv_residual = nn.ModuleList([\n",
    "            nn.Conv1d(\n",
    "                in_channels=gate_channels,\n",
    "                out_channels=residual_channels,\n",
    "                kernel_size=1\n",
    "            ) for _ in range(len(self.dilations) - 1)])\n",
    "        \n",
    "        self.blocks_conv_skip = nn.ModuleList([\n",
    "            nn.Conv1d(\n",
    "                in_channels=gate_channels,\n",
    "                out_channels=skip_channels,\n",
    "                kernel_size=1\n",
    "            ) for _ in range(len(self.dilations))])\n",
    "        \n",
    "        \n",
    "        self.conv_out_1 = nn.Conv1d(\n",
    "            in_channels=skip_channels,\n",
    "            out_channels=pre_channels,\n",
    "            kernel_size=1)\n",
    "        self.conv_out_2 = nn.Conv1d(\n",
    "            in_channels=pre_channels,\n",
    "            out_channels=num_channels,\n",
    "            kernel_size=1)\n",
    "        \n",
    "        self.lin1 = nn.Linear(num_channels, 1)\n",
    "        \n",
    "        self.lin2 = nn.Linear((2 ** dilation_depth) * dilation_cycles, 100)\n",
    "                \n",
    "        self.relu = nn.ReLU()\n",
    "        self.lin3 = nn.Linear(100, 2)\n",
    "        \n",
    "\n",
    "    def forward(self, x):\n",
    "        \"\"\"\n",
    "        Args:\n",
    "            x (FloatTensor): continuous audio signal [B x K x T]\n",
    "\n",
    "        Returns:\n",
    "            FloatTensor: output [B x out_channels x T]\n",
    "        \"\"\"\n",
    "        \n",
    "        x = self.conv_input(x) # equal to x = torch.matmul(x.transpose(1, 2), model.conv_input.weight.squeeze().transpose(0, 1)) + model.conv_input.bias and transpose(1, 2)\n",
    "        \n",
    "\n",
    "        x_acc = 0\n",
    "        for b in range(len(self.dilations)):\n",
    "            x_filter = self.blocks_conv_filter[b](x)\n",
    "            x_gate = self.blocks_conv_gate[b](x)\n",
    "\n",
    "\n",
    "            x_hidden = torch.tanh(x_filter) * torch.sigmoid(x_gate)\n",
    "\n",
    "            x_skip = self.blocks_conv_skip[b](x_hidden)\n",
    "            x_acc = x_acc + x_skip\n",
    "\n",
    "            if b < len(self.dilations) - 1:\n",
    "                x_residual = self.blocks_conv_residual[b](x_hidden)\n",
    "                x = x + x_residual\n",
    "\n",
    "            x = x * 0.5 ** 0.5\n",
    "            \n",
    "\n",
    "        x = self.conv_out_1(torch.relu(x_acc))\n",
    "        x = self.conv_out_2(torch.relu(x))\n",
    "        \n",
    "        x = x.transpose(1, 2)\n",
    "        x = self.lin1(x)\n",
    "        \n",
    "        x = x[:, :, 0]\n",
    "        \n",
    "        x = self.relu(x)\n",
    "        x = self.lin2(x)\n",
    "        \n",
    "        x = self.relu(x)\n",
    "        x = self.lin3(x)\n",
    "        \n",
    "        \n",
    "        \n",
    "        return x"
   ]
  },
  {
   "cell_type": "code",
   "execution_count": 21,
   "id": "5eae6d2f",
   "metadata": {},
   "outputs": [],
   "source": [
    "WaveNet_model = WaveNet(\n",
    "    num_channels=23,\n",
    "    residual_channels=32,\n",
    "    gate_channels=32,\n",
    "    skip_channels=64,\n",
    "    pre_channels=128,\n",
    "    dilation_cycles=9,\n",
    "    dilation_depth=9,\n",
    "    condition_channels=80,\n",
    "    hop_size=300)"
   ]
  },
  {
   "cell_type": "code",
   "execution_count": 22,
   "id": "792c658f",
   "metadata": {},
   "outputs": [
    {
     "data": {
      "text/plain": [
       "WaveNet(\n",
       "  (conv_input): Conv1d(23, 32, kernel_size=(1,), stride=(1,))\n",
       "  (blocks_conv_filter): ModuleList(\n",
       "    (0): CausalConv1d(32, 32, kernel_size=(2,), stride=(1,), padding=(1,))\n",
       "    (1): CausalConv1d(32, 32, kernel_size=(2,), stride=(1,), padding=(2,), dilation=(2,))\n",
       "    (2): CausalConv1d(32, 32, kernel_size=(2,), stride=(1,), padding=(4,), dilation=(4,))\n",
       "    (3): CausalConv1d(32, 32, kernel_size=(2,), stride=(1,), padding=(8,), dilation=(8,))\n",
       "    (4): CausalConv1d(32, 32, kernel_size=(2,), stride=(1,), padding=(16,), dilation=(16,))\n",
       "    (5): CausalConv1d(32, 32, kernel_size=(2,), stride=(1,), padding=(32,), dilation=(32,))\n",
       "    (6): CausalConv1d(32, 32, kernel_size=(2,), stride=(1,), padding=(64,), dilation=(64,))\n",
       "    (7): CausalConv1d(32, 32, kernel_size=(2,), stride=(1,), padding=(128,), dilation=(128,))\n",
       "    (8): CausalConv1d(32, 32, kernel_size=(2,), stride=(1,), padding=(256,), dilation=(256,))\n",
       "    (9): CausalConv1d(32, 32, kernel_size=(2,), stride=(1,), padding=(1,))\n",
       "    (10): CausalConv1d(32, 32, kernel_size=(2,), stride=(1,), padding=(2,), dilation=(2,))\n",
       "    (11): CausalConv1d(32, 32, kernel_size=(2,), stride=(1,), padding=(4,), dilation=(4,))\n",
       "    (12): CausalConv1d(32, 32, kernel_size=(2,), stride=(1,), padding=(8,), dilation=(8,))\n",
       "    (13): CausalConv1d(32, 32, kernel_size=(2,), stride=(1,), padding=(16,), dilation=(16,))\n",
       "    (14): CausalConv1d(32, 32, kernel_size=(2,), stride=(1,), padding=(32,), dilation=(32,))\n",
       "    (15): CausalConv1d(32, 32, kernel_size=(2,), stride=(1,), padding=(64,), dilation=(64,))\n",
       "    (16): CausalConv1d(32, 32, kernel_size=(2,), stride=(1,), padding=(128,), dilation=(128,))\n",
       "    (17): CausalConv1d(32, 32, kernel_size=(2,), stride=(1,), padding=(256,), dilation=(256,))\n",
       "    (18): CausalConv1d(32, 32, kernel_size=(2,), stride=(1,), padding=(1,))\n",
       "    (19): CausalConv1d(32, 32, kernel_size=(2,), stride=(1,), padding=(2,), dilation=(2,))\n",
       "    (20): CausalConv1d(32, 32, kernel_size=(2,), stride=(1,), padding=(4,), dilation=(4,))\n",
       "    (21): CausalConv1d(32, 32, kernel_size=(2,), stride=(1,), padding=(8,), dilation=(8,))\n",
       "    (22): CausalConv1d(32, 32, kernel_size=(2,), stride=(1,), padding=(16,), dilation=(16,))\n",
       "    (23): CausalConv1d(32, 32, kernel_size=(2,), stride=(1,), padding=(32,), dilation=(32,))\n",
       "    (24): CausalConv1d(32, 32, kernel_size=(2,), stride=(1,), padding=(64,), dilation=(64,))\n",
       "    (25): CausalConv1d(32, 32, kernel_size=(2,), stride=(1,), padding=(128,), dilation=(128,))\n",
       "    (26): CausalConv1d(32, 32, kernel_size=(2,), stride=(1,), padding=(256,), dilation=(256,))\n",
       "    (27): CausalConv1d(32, 32, kernel_size=(2,), stride=(1,), padding=(1,))\n",
       "    (28): CausalConv1d(32, 32, kernel_size=(2,), stride=(1,), padding=(2,), dilation=(2,))\n",
       "    (29): CausalConv1d(32, 32, kernel_size=(2,), stride=(1,), padding=(4,), dilation=(4,))\n",
       "    (30): CausalConv1d(32, 32, kernel_size=(2,), stride=(1,), padding=(8,), dilation=(8,))\n",
       "    (31): CausalConv1d(32, 32, kernel_size=(2,), stride=(1,), padding=(16,), dilation=(16,))\n",
       "    (32): CausalConv1d(32, 32, kernel_size=(2,), stride=(1,), padding=(32,), dilation=(32,))\n",
       "    (33): CausalConv1d(32, 32, kernel_size=(2,), stride=(1,), padding=(64,), dilation=(64,))\n",
       "    (34): CausalConv1d(32, 32, kernel_size=(2,), stride=(1,), padding=(128,), dilation=(128,))\n",
       "    (35): CausalConv1d(32, 32, kernel_size=(2,), stride=(1,), padding=(256,), dilation=(256,))\n",
       "    (36): CausalConv1d(32, 32, kernel_size=(2,), stride=(1,), padding=(1,))\n",
       "    (37): CausalConv1d(32, 32, kernel_size=(2,), stride=(1,), padding=(2,), dilation=(2,))\n",
       "    (38): CausalConv1d(32, 32, kernel_size=(2,), stride=(1,), padding=(4,), dilation=(4,))\n",
       "    (39): CausalConv1d(32, 32, kernel_size=(2,), stride=(1,), padding=(8,), dilation=(8,))\n",
       "    (40): CausalConv1d(32, 32, kernel_size=(2,), stride=(1,), padding=(16,), dilation=(16,))\n",
       "    (41): CausalConv1d(32, 32, kernel_size=(2,), stride=(1,), padding=(32,), dilation=(32,))\n",
       "    (42): CausalConv1d(32, 32, kernel_size=(2,), stride=(1,), padding=(64,), dilation=(64,))\n",
       "    (43): CausalConv1d(32, 32, kernel_size=(2,), stride=(1,), padding=(128,), dilation=(128,))\n",
       "    (44): CausalConv1d(32, 32, kernel_size=(2,), stride=(1,), padding=(256,), dilation=(256,))\n",
       "    (45): CausalConv1d(32, 32, kernel_size=(2,), stride=(1,), padding=(1,))\n",
       "    (46): CausalConv1d(32, 32, kernel_size=(2,), stride=(1,), padding=(2,), dilation=(2,))\n",
       "    (47): CausalConv1d(32, 32, kernel_size=(2,), stride=(1,), padding=(4,), dilation=(4,))\n",
       "    (48): CausalConv1d(32, 32, kernel_size=(2,), stride=(1,), padding=(8,), dilation=(8,))\n",
       "    (49): CausalConv1d(32, 32, kernel_size=(2,), stride=(1,), padding=(16,), dilation=(16,))\n",
       "    (50): CausalConv1d(32, 32, kernel_size=(2,), stride=(1,), padding=(32,), dilation=(32,))\n",
       "    (51): CausalConv1d(32, 32, kernel_size=(2,), stride=(1,), padding=(64,), dilation=(64,))\n",
       "    (52): CausalConv1d(32, 32, kernel_size=(2,), stride=(1,), padding=(128,), dilation=(128,))\n",
       "    (53): CausalConv1d(32, 32, kernel_size=(2,), stride=(1,), padding=(256,), dilation=(256,))\n",
       "    (54): CausalConv1d(32, 32, kernel_size=(2,), stride=(1,), padding=(1,))\n",
       "    (55): CausalConv1d(32, 32, kernel_size=(2,), stride=(1,), padding=(2,), dilation=(2,))\n",
       "    (56): CausalConv1d(32, 32, kernel_size=(2,), stride=(1,), padding=(4,), dilation=(4,))\n",
       "    (57): CausalConv1d(32, 32, kernel_size=(2,), stride=(1,), padding=(8,), dilation=(8,))\n",
       "    (58): CausalConv1d(32, 32, kernel_size=(2,), stride=(1,), padding=(16,), dilation=(16,))\n",
       "    (59): CausalConv1d(32, 32, kernel_size=(2,), stride=(1,), padding=(32,), dilation=(32,))\n",
       "    (60): CausalConv1d(32, 32, kernel_size=(2,), stride=(1,), padding=(64,), dilation=(64,))\n",
       "    (61): CausalConv1d(32, 32, kernel_size=(2,), stride=(1,), padding=(128,), dilation=(128,))\n",
       "    (62): CausalConv1d(32, 32, kernel_size=(2,), stride=(1,), padding=(256,), dilation=(256,))\n",
       "    (63): CausalConv1d(32, 32, kernel_size=(2,), stride=(1,), padding=(1,))\n",
       "    (64): CausalConv1d(32, 32, kernel_size=(2,), stride=(1,), padding=(2,), dilation=(2,))\n",
       "    (65): CausalConv1d(32, 32, kernel_size=(2,), stride=(1,), padding=(4,), dilation=(4,))\n",
       "    (66): CausalConv1d(32, 32, kernel_size=(2,), stride=(1,), padding=(8,), dilation=(8,))\n",
       "    (67): CausalConv1d(32, 32, kernel_size=(2,), stride=(1,), padding=(16,), dilation=(16,))\n",
       "    (68): CausalConv1d(32, 32, kernel_size=(2,), stride=(1,), padding=(32,), dilation=(32,))\n",
       "    (69): CausalConv1d(32, 32, kernel_size=(2,), stride=(1,), padding=(64,), dilation=(64,))\n",
       "    (70): CausalConv1d(32, 32, kernel_size=(2,), stride=(1,), padding=(128,), dilation=(128,))\n",
       "    (71): CausalConv1d(32, 32, kernel_size=(2,), stride=(1,), padding=(256,), dilation=(256,))\n",
       "    (72): CausalConv1d(32, 32, kernel_size=(2,), stride=(1,), padding=(1,))\n",
       "    (73): CausalConv1d(32, 32, kernel_size=(2,), stride=(1,), padding=(2,), dilation=(2,))\n",
       "    (74): CausalConv1d(32, 32, kernel_size=(2,), stride=(1,), padding=(4,), dilation=(4,))\n",
       "    (75): CausalConv1d(32, 32, kernel_size=(2,), stride=(1,), padding=(8,), dilation=(8,))\n",
       "    (76): CausalConv1d(32, 32, kernel_size=(2,), stride=(1,), padding=(16,), dilation=(16,))\n",
       "    (77): CausalConv1d(32, 32, kernel_size=(2,), stride=(1,), padding=(32,), dilation=(32,))\n",
       "    (78): CausalConv1d(32, 32, kernel_size=(2,), stride=(1,), padding=(64,), dilation=(64,))\n",
       "    (79): CausalConv1d(32, 32, kernel_size=(2,), stride=(1,), padding=(128,), dilation=(128,))\n",
       "    (80): CausalConv1d(32, 32, kernel_size=(2,), stride=(1,), padding=(256,), dilation=(256,))\n",
       "  )\n",
       "  (blocks_conv_gate): ModuleList(\n",
       "    (0): CausalConv1d(32, 32, kernel_size=(2,), stride=(1,), padding=(1,))\n",
       "    (1): CausalConv1d(32, 32, kernel_size=(2,), stride=(1,), padding=(2,), dilation=(2,))\n",
       "    (2): CausalConv1d(32, 32, kernel_size=(2,), stride=(1,), padding=(4,), dilation=(4,))\n",
       "    (3): CausalConv1d(32, 32, kernel_size=(2,), stride=(1,), padding=(8,), dilation=(8,))\n",
       "    (4): CausalConv1d(32, 32, kernel_size=(2,), stride=(1,), padding=(16,), dilation=(16,))\n",
       "    (5): CausalConv1d(32, 32, kernel_size=(2,), stride=(1,), padding=(32,), dilation=(32,))\n",
       "    (6): CausalConv1d(32, 32, kernel_size=(2,), stride=(1,), padding=(64,), dilation=(64,))\n",
       "    (7): CausalConv1d(32, 32, kernel_size=(2,), stride=(1,), padding=(128,), dilation=(128,))\n",
       "    (8): CausalConv1d(32, 32, kernel_size=(2,), stride=(1,), padding=(256,), dilation=(256,))\n",
       "    (9): CausalConv1d(32, 32, kernel_size=(2,), stride=(1,), padding=(1,))\n",
       "    (10): CausalConv1d(32, 32, kernel_size=(2,), stride=(1,), padding=(2,), dilation=(2,))\n",
       "    (11): CausalConv1d(32, 32, kernel_size=(2,), stride=(1,), padding=(4,), dilation=(4,))\n",
       "    (12): CausalConv1d(32, 32, kernel_size=(2,), stride=(1,), padding=(8,), dilation=(8,))\n",
       "    (13): CausalConv1d(32, 32, kernel_size=(2,), stride=(1,), padding=(16,), dilation=(16,))\n",
       "    (14): CausalConv1d(32, 32, kernel_size=(2,), stride=(1,), padding=(32,), dilation=(32,))\n",
       "    (15): CausalConv1d(32, 32, kernel_size=(2,), stride=(1,), padding=(64,), dilation=(64,))\n",
       "    (16): CausalConv1d(32, 32, kernel_size=(2,), stride=(1,), padding=(128,), dilation=(128,))\n",
       "    (17): CausalConv1d(32, 32, kernel_size=(2,), stride=(1,), padding=(256,), dilation=(256,))\n",
       "    (18): CausalConv1d(32, 32, kernel_size=(2,), stride=(1,), padding=(1,))\n",
       "    (19): CausalConv1d(32, 32, kernel_size=(2,), stride=(1,), padding=(2,), dilation=(2,))\n",
       "    (20): CausalConv1d(32, 32, kernel_size=(2,), stride=(1,), padding=(4,), dilation=(4,))\n",
       "    (21): CausalConv1d(32, 32, kernel_size=(2,), stride=(1,), padding=(8,), dilation=(8,))\n",
       "    (22): CausalConv1d(32, 32, kernel_size=(2,), stride=(1,), padding=(16,), dilation=(16,))\n",
       "    (23): CausalConv1d(32, 32, kernel_size=(2,), stride=(1,), padding=(32,), dilation=(32,))\n",
       "    (24): CausalConv1d(32, 32, kernel_size=(2,), stride=(1,), padding=(64,), dilation=(64,))\n",
       "    (25): CausalConv1d(32, 32, kernel_size=(2,), stride=(1,), padding=(128,), dilation=(128,))\n",
       "    (26): CausalConv1d(32, 32, kernel_size=(2,), stride=(1,), padding=(256,), dilation=(256,))\n",
       "    (27): CausalConv1d(32, 32, kernel_size=(2,), stride=(1,), padding=(1,))\n",
       "    (28): CausalConv1d(32, 32, kernel_size=(2,), stride=(1,), padding=(2,), dilation=(2,))\n",
       "    (29): CausalConv1d(32, 32, kernel_size=(2,), stride=(1,), padding=(4,), dilation=(4,))\n",
       "    (30): CausalConv1d(32, 32, kernel_size=(2,), stride=(1,), padding=(8,), dilation=(8,))\n",
       "    (31): CausalConv1d(32, 32, kernel_size=(2,), stride=(1,), padding=(16,), dilation=(16,))\n",
       "    (32): CausalConv1d(32, 32, kernel_size=(2,), stride=(1,), padding=(32,), dilation=(32,))\n",
       "    (33): CausalConv1d(32, 32, kernel_size=(2,), stride=(1,), padding=(64,), dilation=(64,))\n",
       "    (34): CausalConv1d(32, 32, kernel_size=(2,), stride=(1,), padding=(128,), dilation=(128,))\n",
       "    (35): CausalConv1d(32, 32, kernel_size=(2,), stride=(1,), padding=(256,), dilation=(256,))\n",
       "    (36): CausalConv1d(32, 32, kernel_size=(2,), stride=(1,), padding=(1,))\n",
       "    (37): CausalConv1d(32, 32, kernel_size=(2,), stride=(1,), padding=(2,), dilation=(2,))\n",
       "    (38): CausalConv1d(32, 32, kernel_size=(2,), stride=(1,), padding=(4,), dilation=(4,))\n",
       "    (39): CausalConv1d(32, 32, kernel_size=(2,), stride=(1,), padding=(8,), dilation=(8,))\n",
       "    (40): CausalConv1d(32, 32, kernel_size=(2,), stride=(1,), padding=(16,), dilation=(16,))\n",
       "    (41): CausalConv1d(32, 32, kernel_size=(2,), stride=(1,), padding=(32,), dilation=(32,))\n",
       "    (42): CausalConv1d(32, 32, kernel_size=(2,), stride=(1,), padding=(64,), dilation=(64,))\n",
       "    (43): CausalConv1d(32, 32, kernel_size=(2,), stride=(1,), padding=(128,), dilation=(128,))\n",
       "    (44): CausalConv1d(32, 32, kernel_size=(2,), stride=(1,), padding=(256,), dilation=(256,))\n",
       "    (45): CausalConv1d(32, 32, kernel_size=(2,), stride=(1,), padding=(1,))\n",
       "    (46): CausalConv1d(32, 32, kernel_size=(2,), stride=(1,), padding=(2,), dilation=(2,))\n",
       "    (47): CausalConv1d(32, 32, kernel_size=(2,), stride=(1,), padding=(4,), dilation=(4,))\n",
       "    (48): CausalConv1d(32, 32, kernel_size=(2,), stride=(1,), padding=(8,), dilation=(8,))\n",
       "    (49): CausalConv1d(32, 32, kernel_size=(2,), stride=(1,), padding=(16,), dilation=(16,))\n",
       "    (50): CausalConv1d(32, 32, kernel_size=(2,), stride=(1,), padding=(32,), dilation=(32,))\n",
       "    (51): CausalConv1d(32, 32, kernel_size=(2,), stride=(1,), padding=(64,), dilation=(64,))\n",
       "    (52): CausalConv1d(32, 32, kernel_size=(2,), stride=(1,), padding=(128,), dilation=(128,))\n",
       "    (53): CausalConv1d(32, 32, kernel_size=(2,), stride=(1,), padding=(256,), dilation=(256,))\n",
       "    (54): CausalConv1d(32, 32, kernel_size=(2,), stride=(1,), padding=(1,))\n",
       "    (55): CausalConv1d(32, 32, kernel_size=(2,), stride=(1,), padding=(2,), dilation=(2,))\n",
       "    (56): CausalConv1d(32, 32, kernel_size=(2,), stride=(1,), padding=(4,), dilation=(4,))\n",
       "    (57): CausalConv1d(32, 32, kernel_size=(2,), stride=(1,), padding=(8,), dilation=(8,))\n",
       "    (58): CausalConv1d(32, 32, kernel_size=(2,), stride=(1,), padding=(16,), dilation=(16,))\n",
       "    (59): CausalConv1d(32, 32, kernel_size=(2,), stride=(1,), padding=(32,), dilation=(32,))\n",
       "    (60): CausalConv1d(32, 32, kernel_size=(2,), stride=(1,), padding=(64,), dilation=(64,))\n",
       "    (61): CausalConv1d(32, 32, kernel_size=(2,), stride=(1,), padding=(128,), dilation=(128,))\n",
       "    (62): CausalConv1d(32, 32, kernel_size=(2,), stride=(1,), padding=(256,), dilation=(256,))\n",
       "    (63): CausalConv1d(32, 32, kernel_size=(2,), stride=(1,), padding=(1,))\n",
       "    (64): CausalConv1d(32, 32, kernel_size=(2,), stride=(1,), padding=(2,), dilation=(2,))\n",
       "    (65): CausalConv1d(32, 32, kernel_size=(2,), stride=(1,), padding=(4,), dilation=(4,))\n",
       "    (66): CausalConv1d(32, 32, kernel_size=(2,), stride=(1,), padding=(8,), dilation=(8,))\n",
       "    (67): CausalConv1d(32, 32, kernel_size=(2,), stride=(1,), padding=(16,), dilation=(16,))\n",
       "    (68): CausalConv1d(32, 32, kernel_size=(2,), stride=(1,), padding=(32,), dilation=(32,))\n",
       "    (69): CausalConv1d(32, 32, kernel_size=(2,), stride=(1,), padding=(64,), dilation=(64,))\n",
       "    (70): CausalConv1d(32, 32, kernel_size=(2,), stride=(1,), padding=(128,), dilation=(128,))\n",
       "    (71): CausalConv1d(32, 32, kernel_size=(2,), stride=(1,), padding=(256,), dilation=(256,))\n",
       "    (72): CausalConv1d(32, 32, kernel_size=(2,), stride=(1,), padding=(1,))\n",
       "    (73): CausalConv1d(32, 32, kernel_size=(2,), stride=(1,), padding=(2,), dilation=(2,))\n",
       "    (74): CausalConv1d(32, 32, kernel_size=(2,), stride=(1,), padding=(4,), dilation=(4,))\n",
       "    (75): CausalConv1d(32, 32, kernel_size=(2,), stride=(1,), padding=(8,), dilation=(8,))\n",
       "    (76): CausalConv1d(32, 32, kernel_size=(2,), stride=(1,), padding=(16,), dilation=(16,))\n",
       "    (77): CausalConv1d(32, 32, kernel_size=(2,), stride=(1,), padding=(32,), dilation=(32,))\n",
       "    (78): CausalConv1d(32, 32, kernel_size=(2,), stride=(1,), padding=(64,), dilation=(64,))\n",
       "    (79): CausalConv1d(32, 32, kernel_size=(2,), stride=(1,), padding=(128,), dilation=(128,))\n",
       "    (80): CausalConv1d(32, 32, kernel_size=(2,), stride=(1,), padding=(256,), dilation=(256,))\n",
       "  )\n",
       "  (blocks_conv_residual): ModuleList(\n",
       "    (0-79): 80 x Conv1d(32, 32, kernel_size=(1,), stride=(1,))\n",
       "  )\n",
       "  (blocks_conv_skip): ModuleList(\n",
       "    (0-80): 81 x Conv1d(32, 64, kernel_size=(1,), stride=(1,))\n",
       "  )\n",
       "  (conv_out_1): Conv1d(64, 128, kernel_size=(1,), stride=(1,))\n",
       "  (conv_out_2): Conv1d(128, 23, kernel_size=(1,), stride=(1,))\n",
       "  (lin1): Linear(in_features=23, out_features=1, bias=True)\n",
       "  (lin2): Linear(in_features=4608, out_features=100, bias=True)\n",
       "  (relu): ReLU()\n",
       "  (lin3): Linear(in_features=100, out_features=2, bias=True)\n",
       ")"
      ]
     },
     "execution_count": 22,
     "metadata": {},
     "output_type": "execute_result"
    }
   ],
   "source": [
    "WaveNet_model.to(\"cuda\")"
   ]
  },
  {
   "cell_type": "code",
   "execution_count": 25,
   "id": "936ab006",
   "metadata": {},
   "outputs": [],
   "source": [
    "def run_epoch(model, dataloader, is_training=False):\n",
    "    epoch_loss = 0\n",
    "\n",
    "    if is_training:\n",
    "        model.train()\n",
    "    else:\n",
    "        model.eval()\n",
    "\n",
    "    for idx, (x, y) in enumerate(tqdm(dataloader)):\n",
    "        if is_training:\n",
    "            optimizer.zero_grad()\n",
    "\n",
    "        x = x.to('cuda')\n",
    "        \n",
    "        #x = torch.reshape(x, (64, 20, 1)).to('cuda')\n",
    "        y = y.view(-1).to('cuda')\n",
    "        new_target = torch.zeros((batch_size, 2), dtype=torch.float)\n",
    "        for i, val in enumerate(y):\n",
    "            new_target[i, val] = 1\n",
    "\n",
    "        y = torch.FloatTensor(new_target).to('cuda')\n",
    "        #y = y.view(-1)\n",
    "        #print(y.size())\n",
    "\n",
    "        out = model(x)\n",
    "\n",
    "        loss = criterion(out.contiguous(), y.contiguous())\n",
    "\n",
    "        if is_training:\n",
    "            loss.backward()\n",
    "            optimizer.step()\n",
    "\n",
    "        epoch_loss += (loss.detach().item() / len(dataloader))\n",
    "\n",
    "\n",
    "    return epoch_loss"
   ]
  },
  {
   "cell_type": "code",
   "execution_count": 26,
   "id": "2ec6e8c5",
   "metadata": {},
   "outputs": [
    {
     "data": {
      "image/png": "[encoded data removed]",
      "text/plain": [
       "<Figure size 1000x900 with 2 Axes>"
      ]
     },
     "metadata": {},
     "output_type": "display_data"
    },
    {
     "name": "stderr",
     "output_type": "stream",
     "text": [
      "\r",
      "  5%|███▋                                                                          | 48/1000 [10:13<3:13:05, 12.17s/it]"
     ]
    },
    {
     "name": "stdout",
     "output_type": "stream",
     "text": [
      "Epoch[48/1000] | loss train:0.097046, test:1.375639\n"
     ]
    },
    {
     "name": "stderr",
     "output_type": "stream",
     "text": [
      "\n",
      "  0%|                                                                                           | 0/28 [00:00<?, ?it/s]\u001b[A\n",
      "  4%|██▉                                                                                | 1/28 [00:00<00:10,  2.49it/s]\u001b[A\n",
      "  7%|█████▉                                                                             | 2/28 [00:00<00:10,  2.43it/s]\u001b[A\n",
      " 11%|████████▉                                                                          | 3/28 [00:01<00:10,  2.45it/s]\u001b[A\n",
      " 14%|███████████▊                                                                       | 4/28 [00:01<00:09,  2.48it/s]\u001b[A\n",
      " 18%|██████████████▊                                                                    | 5/28 [00:02<00:09,  2.46it/s]\u001b[A\n",
      " 21%|█████████████████▊                                                                 | 6/28 [00:02<00:08,  2.46it/s]\u001b[A\n",
      " 25%|████████████████████▊                                                              | 7/28 [00:02<00:08,  2.46it/s]\u001b[A\n",
      " 29%|███████████████████████▋                                                           | 8/28 [00:03<00:08,  2.44it/s]\u001b[A\n",
      " 32%|██████████████████████████▋                                                        | 9/28 [00:03<00:07,  2.45it/s]\u001b[A\n",
      " 36%|█████████████████████████████▎                                                    | 10/28 [00:04<00:07,  2.45it/s]\u001b[A\n",
      " 39%|████████████████████████████████▏                                                 | 11/28 [00:04<00:06,  2.47it/s]\u001b[A\n",
      " 43%|███████████████████████████████████▏                                              | 12/28 [00:04<00:06,  2.48it/s]\u001b[A\n",
      " 46%|██████████████████████████████████████                                            | 13/28 [00:05<00:06,  2.50it/s]\u001b[A\n",
      " 50%|█████████████████████████████████████████                                         | 14/28 [00:05<00:05,  2.51it/s]\u001b[A\n",
      " 54%|███████████████████████████████████████████▉                                      | 15/28 [00:06<00:05,  2.49it/s]\u001b[A\n",
      " 57%|██████████████████████████████████████████████▊                                   | 16/28 [00:06<00:04,  2.48it/s]\u001b[A\n",
      " 61%|█████████████████████████████████████████████████▊                                | 17/28 [00:06<00:04,  2.45it/s]\u001b[A\n",
      " 64%|████████████████████████████████████████████████████▋                             | 18/28 [00:07<00:04,  2.41it/s]\u001b[A\n",
      " 68%|███████████████████████████████████████████████████████▋                          | 19/28 [00:07<00:03,  2.42it/s]\u001b[A\n",
      " 71%|██████████████████████████████████████████████████████████▌                       | 20/28 [00:08<00:03,  2.46it/s]\u001b[A\n",
      " 75%|█████████████████████████████████████████████████████████████▌                    | 21/28 [00:08<00:02,  2.48it/s]\u001b[A\n",
      " 79%|████████████████████████████████████████████████████████████████▍                 | 22/28 [00:08<00:02,  2.49it/s]\u001b[A\n",
      " 82%|███████████████████████████████████████████████████████████████████▎              | 23/28 [00:09<00:02,  2.50it/s]\u001b[A\n",
      " 86%|██████████████████████████████████████████████████████████████████████▎           | 24/28 [00:09<00:01,  2.47it/s]\u001b[A\n",
      " 89%|█████████████████████████████████████████████████████████████████████████▏        | 25/28 [00:10<00:01,  2.48it/s]\u001b[A\n",
      " 93%|████████████████████████████████████████████████████████████████████████████▏     | 26/28 [00:10<00:00,  2.49it/s]\u001b[A\n",
      " 96%|███████████████████████████████████████████████████████████████████████████████   | 27/28 [00:11<00:00,  2.38it/s]\u001b[A\n",
      "  5%|███▋                                                                          | 48/1000 [10:24<3:26:24, 13.01s/it]\n"
     ]
    },
    {
     "ename": "KeyboardInterrupt",
     "evalue": "",
     "output_type": "error",
     "traceback": [
      "\u001b[1;31m---------------------------------------------------------------------------\u001b[0m",
      "\u001b[1;31mKeyboardInterrupt\u001b[0m                         Traceback (most recent call last)",
      "Cell \u001b[1;32mIn[26], line 20\u001b[0m\n\u001b[0;32m     11\u001b[0m \u001b[38;5;66;03m# begin training\u001b[39;00m\n\u001b[0;32m     12\u001b[0m \u001b[38;5;28;01mfor\u001b[39;00m epoch \u001b[38;5;129;01min\u001b[39;00m tqdm(\u001b[38;5;28mrange\u001b[39m(epochs)): \n\u001b[0;32m     13\u001b[0m \u001b[38;5;66;03m#     if epoch > 6:\u001b[39;00m\n\u001b[0;32m     14\u001b[0m \u001b[38;5;66;03m#         lr = 0.0005\u001b[39;00m\n\u001b[0;32m     15\u001b[0m \u001b[38;5;66;03m#     if epoch > 30:\u001b[39;00m\n\u001b[0;32m     16\u001b[0m \u001b[38;5;66;03m#         lr = 0.0001\u001b[39;00m\n\u001b[1;32m---> 20\u001b[0m     loss_train \u001b[38;5;241m=\u001b[39m run_epoch(WaveNet_model, train_dataloader, is_training\u001b[38;5;241m=\u001b[39m\u001b[38;5;28;01mTrue\u001b[39;00m)\n\u001b[0;32m     21\u001b[0m     loss_val \u001b[38;5;241m=\u001b[39m run_epoch(WaveNet_model, val_dataloader)\n\u001b[0;32m     22\u001b[0m     scheduler\u001b[38;5;241m.\u001b[39mstep(loss_val)\n",
      "Cell \u001b[1;32mIn[25], line 33\u001b[0m, in \u001b[0;36mrun_epoch\u001b[1;34m(model, dataloader, is_training)\u001b[0m\n\u001b[0;32m     30\u001b[0m         loss\u001b[38;5;241m.\u001b[39mbackward()\n\u001b[0;32m     31\u001b[0m         optimizer\u001b[38;5;241m.\u001b[39mstep()\n\u001b[1;32m---> 33\u001b[0m     epoch_loss \u001b[38;5;241m+\u001b[39m\u001b[38;5;241m=\u001b[39m (loss\u001b[38;5;241m.\u001b[39mdetach()\u001b[38;5;241m.\u001b[39mitem() \u001b[38;5;241m/\u001b[39m \u001b[38;5;28mlen\u001b[39m(dataloader))\n\u001b[0;32m     36\u001b[0m \u001b[38;5;28;01mreturn\u001b[39;00m epoch_loss\n",
      "\u001b[1;31mKeyboardInterrupt\u001b[0m: "
     ]
    }
   ],
   "source": [
    "epochs = 1000\n",
    "criterion = nn.BCEWithLogitsLoss()\n",
    "lr = 0.0001\n",
    "optimizer = optim.Adam(WaveNet_model.parameters(), lr=lr, betas=(0.9, 0.98), eps=1e-9)\n",
    "scheduler = ReduceLROnPlateau(optimizer, 'min', factor=0.5, patience=5, min_lr=0.000008)\n",
    "\n",
    "\n",
    "losses_train = []\n",
    "losses_test = []\n",
    "best_loss = 10e9\n",
    "# begin training\n",
    "for epoch in tqdm(range(epochs)): \n",
    "#     if epoch > 6:\n",
    "#         lr = 0.0005\n",
    "#     if epoch > 30:\n",
    "#         lr = 0.0001\n",
    "\n",
    "    \n",
    "      \n",
    "    loss_train = run_epoch(WaveNet_model, train_dataloader, is_training=True)\n",
    "    loss_val = run_epoch(WaveNet_model, val_dataloader)\n",
    "    scheduler.step(loss_val)\n",
    "    losses_train.append(loss_train)\n",
    "    losses_test.append(loss_val)\n",
    "    \n",
    "    if losses_test[-1] < best_loss:\n",
    "        best_loss = losses_test[-1]\n",
    "        torch.save(WaveNet_model.state_dict(), \"./WaveNetEEGAlexeyCheck2\")\n",
    "    \n",
    "    clear_output(True)\n",
    "    fig = plt.figure(figsize=(10, 9))\n",
    "    \n",
    "    ax_1 = fig.add_subplot(2, 1, 1)\n",
    "    ax_2 = fig.add_subplot(2, 1, 2)\n",
    "    ax_1.set_title('train')\n",
    "    ax_1.plot(losses_train)\n",
    "    ax_2.set_title('test')\n",
    "    ax_2.plot(losses_test)\n",
    "    plt.show()\n",
    "    \n",
    "    print('Epoch[{}/{}] | loss train:{:.6f}, test:{:.6f}'\n",
    "              .format(epoch+1, epochs, loss_train, loss_val))"
   ]
  },
  {
   "cell_type": "code",
   "execution_count": 47,
   "id": "171722c5",
   "metadata": {},
   "outputs": [
    {
     "data": {
      "text/plain": [
       "0.3734430491924286"
      ]
     },
     "execution_count": 47,
     "metadata": {},
     "output_type": "execute_result"
    }
   ],
   "source": [
    "best_loss"
   ]
  },
  {
   "cell_type": "code",
   "execution_count": 24,
   "id": "42629ae6",
   "metadata": {},
   "outputs": [
    {
     "data": {
      "text/plain": [
       "<All keys matched successfully>"
      ]
     },
     "execution_count": 24,
     "metadata": {},
     "output_type": "execute_result"
    }
   ],
   "source": [
    "WaveNet_model.load_state_dict(torch.load(\"./WaveNetEEGAlexeyCheck\"))"
   ]
  },
  {
   "cell_type": "code",
   "execution_count": 25,
   "id": "65af0346",
   "metadata": {},
   "outputs": [],
   "source": [
    "def GetAnswers(model, val_dataloader, is_trans=True):\n",
    "    model.eval()\n",
    "    answers = []\n",
    "    for idx, (x, y) in enumerate(val_dataloader):\n",
    "        if is_trans:\n",
    "            x = x.transpose(1, 2)\n",
    "        x = x.to('cuda')\n",
    "        \n",
    "        out = model(x)\n",
    "        answers.append(out.detach().cpu().numpy().argmax(axis=1))\n",
    "            \n",
    "    return answers"
   ]
  },
  {
   "cell_type": "code",
   "execution_count": 26,
   "id": "ab8e0991",
   "metadata": {},
   "outputs": [],
   "source": [
    "preds = GetAnswers(WaveNet_model, test_dataloader, is_trans=False)\n",
    "preds = np.array(preds).reshape(len(preds)*batch_size)"
   ]
  },
  {
   "cell_type": "code",
   "execution_count": 72,
   "id": "b8657e22",
   "metadata": {},
   "outputs": [
    {
     "data": {
      "text/plain": [
       "array([1, 1, 1, 1, 0, 1, 0, 1, 1, 0, 1, 1, 1, 1, 1, 0, 1, 1, 1, 1, 1, 1,\n",
       "       0, 1, 1, 1, 1, 0, 1, 0, 1, 1], dtype=int64)"
      ]
     },
     "execution_count": 72,
     "metadata": {},
     "output_type": "execute_result"
    }
   ],
   "source": [
    "preds"
   ]
  },
  {
   "cell_type": "code",
   "execution_count": 70,
   "id": "1b71104d",
   "metadata": {},
   "outputs": [],
   "source": [
    "true_vals = np.array([int(test_inout_seq[i][1]) for i in range(len(preds))])"
   ]
  },
  {
   "cell_type": "code",
   "execution_count": 38,
   "id": "3fc58d2a",
   "metadata": {},
   "outputs": [
    {
     "data": {
      "text/plain": [
       "0.6875"
      ]
     },
     "execution_count": 38,
     "metadata": {},
     "output_type": "execute_result"
    }
   ],
   "source": [
    "(preds != true_vals).sum() / len(preds)"
   ]
  },
  {
   "cell_type": "code",
   "execution_count": 29,
   "id": "c41dc7ad",
   "metadata": {},
   "outputs": [],
   "source": [
    "true_vals = np.array([int(test_inout_seq[i][1]) for i in range(len(preds))])"
   ]
  },
  {
   "cell_type": "code",
   "execution_count": 36,
   "id": "5b4ba25f",
   "metadata": {},
   "outputs": [
    {
     "data": {
      "text/plain": [
       "array([0, 0, 0, 0, 0, 0, 1, 0, 0, 0, 0, 0, 0, 1, 1, 1, 0, 0, 0, 0, 1, 1,\n",
       "       0, 0, 0, 1, 1, 1, 0, 0, 0, 0])"
      ]
     },
     "execution_count": 36,
     "metadata": {},
     "output_type": "execute_result"
    }
   ],
   "source": [
    "true_vals"
   ]
  },
  {
   "cell_type": "code",
   "execution_count": 39,
   "id": "ccdd50a6",
   "metadata": {},
   "outputs": [],
   "source": [
    "new_preds = [0 if x == 1 else 1 for x in preds]"
   ]
  },
  {
   "cell_type": "code",
   "execution_count": 41,
   "id": "5d881ec0",
   "metadata": {},
   "outputs": [
    {
     "data": {
      "text/plain": [
       "0.6875"
      ]
     },
     "execution_count": 41,
     "metadata": {},
     "output_type": "execute_result"
    }
   ],
   "source": [
    "(new_preds == true_vals).sum() / len(preds)"
   ]
  },
  {
   "cell_type": "code",
   "execution_count": 45,
   "id": "4d318ee0",
   "metadata": {},
   "outputs": [
    {
     "data": {
      "text/plain": [
       "array([0, 0, 0, 0, 1, 0, 1, 0, 0, 1, 0, 0, 0, 0, 0, 1, 0, 0, 0, 0, 0, 0,\n",
       "       1, 0, 0, 0, 0, 1, 0, 1, 0, 0])"
      ]
     },
     "execution_count": 45,
     "metadata": {},
     "output_type": "execute_result"
    }
   ],
   "source": [
    "np.array(new_preds)"
   ]
  },
  {
   "cell_type": "markdown",
   "id": "6d0ee299",
   "metadata": {},
   "source": [
    "4 ложно положительных 3 угаданых, 6 не угаданых - очень плохо"
   ]
  },
  {
   "cell_type": "markdown",
   "id": "3b752aa8",
   "metadata": {},
   "source": []
  },
  {
   "cell_type": "code",
   "execution_count": 33,
   "id": "2943df6c",
   "metadata": {},
   "outputs": [],
   "source": [
    "from sklearn.metrics import roc_auc_score, f1_score"
   ]
  },
  {
   "cell_type": "code",
   "execution_count": 42,
   "id": "fd32ca46",
   "metadata": {},
   "outputs": [
    {
     "data": {
      "text/plain": [
       "0.5797101449275363"
      ]
     },
     "execution_count": 42,
     "metadata": {},
     "output_type": "execute_result"
    }
   ],
   "source": [
    "roc_auc_score(true_vals, new_preds)"
   ]
  },
  {
   "cell_type": "code",
   "execution_count": 43,
   "id": "7b51893a",
   "metadata": {},
   "outputs": [
    {
     "data": {
      "text/plain": [
       "0.375"
      ]
     },
     "execution_count": 43,
     "metadata": {},
     "output_type": "execute_result"
    }
   ],
   "source": [
    "f1_score(true_vals, new_preds)"
   ]
  },
  {
   "cell_type": "code",
   "execution_count": 141,
   "id": "fa33b207",
   "metadata": {},
   "outputs": [],
   "source": [
    "test_idxs"
   ]
  },
  {
   "cell_type": "code",
   "execution_count": 52,
   "id": "9f714a84",
   "metadata": {},
   "outputs": [
    {
     "name": "stderr",
     "output_type": "stream",
     "text": [
      "100%|██████████████████████████████████████████████████████████████████████████████████| 6/6 [00:00<00:00, 6004.73it/s]\n",
      "100%|██████████████████████████████████████████████████████████████████████████████████| 6/6 [00:00<00:00, 2999.86it/s]\n",
      "100%|██████████████████████████████████████████████████████████████████████████████████| 6/6 [00:00<00:00, 2998.07it/s]\n",
      "100%|██████████████████████████████████████████████████████████████████████████████████| 6/6 [00:00<00:00, 5999.00it/s]\n",
      "100%|██████████████████████████████████████████████████████████████████████████████████| 6/6 [00:00<00:00, 6006.16it/s]\n",
      "100%|██████████████████████████████████████████████████████████████████████████████████| 6/6 [00:00<00:00, 5997.57it/s]\n",
      "100%|██████████████████████████████████████████████████████████████████████████████████| 6/6 [00:00<00:00, 5999.00it/s]\n",
      "100%|██████████████████████████████████████████████████████████████████████████████████| 4/4 [00:00<00:00, 3998.38it/s]\n"
     ]
    }
   ],
   "source": [
    "test_inout_seq1 = []\n",
    "for i in test_idxs:\n",
    "    pre_ind = []\n",
    "    for starts in siez_starts[i]:\n",
    "        pre_ind += [((starts - preictal_time) > 0) * (starts - preictal_time)]\n",
    "    test_inout_seq1 += create_inout_sequences(signals[i], train_window, pre_ind, siez_starts[i])"
   ]
  },
  {
   "cell_type": "code",
   "execution_count": 101,
   "id": "fb5f2ea6",
   "metadata": {},
   "outputs": [
    {
     "data": {
      "text/plain": [
       "[<matplotlib.lines.Line2D at 0x19c21f3c910>]"
      ]
     },
     "execution_count": 101,
     "metadata": {},
     "output_type": "execute_result"
    },
    {
     "data": {
      "image/png": "[encoded data removed]",
      "text/plain": [
       "<Figure size 640x480 with 1 Axes>"
      ]
     },
     "metadata": {},
     "output_type": "display_data"
    }
   ],
   "source": [
    "plt.plot(signals[i][0])"
   ]
  },
  {
   "cell_type": "code",
   "execution_count": 98,
   "id": "7dfaa75d",
   "metadata": {},
   "outputs": [
    {
     "data": {
      "text/plain": [
       "[8688]"
      ]
     },
     "execution_count": 98,
     "metadata": {},
     "output_type": "execute_result"
    }
   ],
   "source": [
    "siez_starts[i]"
   ]
  },
  {
   "cell_type": "code",
   "execution_count": 99,
   "id": "f08b95c1",
   "metadata": {},
   "outputs": [
    {
     "data": {
      "text/plain": [
       "[0]"
      ]
     },
     "execution_count": 99,
     "metadata": {},
     "output_type": "execute_result"
    }
   ],
   "source": [
    "pre_ind"
   ]
  },
  {
   "cell_type": "code",
   "execution_count": 91,
   "id": "dd295273",
   "metadata": {},
   "outputs": [
    {
     "data": {
      "text/plain": [
       "[0]"
      ]
     },
     "execution_count": 91,
     "metadata": {},
     "output_type": "execute_result"
    }
   ],
   "source": [
    "pre_ind"
   ]
  },
  {
   "cell_type": "code",
   "execution_count": 74,
   "id": "db4c66dc",
   "metadata": {},
   "outputs": [
    {
     "name": "stderr",
     "output_type": "stream",
     "text": [
      "100%|████████████████████████████████████████████████████████████████████████████████████████████| 6/6 [00:00<?, ?it/s]\n",
      "100%|██████████████████████████████████████████████████████████████████████████████████| 6/6 [00:00<00:00, 5994.72it/s]\n",
      "100%|██████████████████████████████████████████████████████████████████████████████████| 4/4 [00:00<00:00, 3998.38it/s]\n"
     ]
    }
   ],
   "source": [
    "test_inout_seq2 = []\n",
    "for i in test_idxs[5:]:\n",
    "    pre_ind = []\n",
    "    for starts in siez_starts[i]:\n",
    "        pre_ind += [((starts - preictal_time) > 0) * (starts - preictal_time)]\n",
    "    test_inout_seq2 += create_inout_sequences(signals[i], train_window, pre_ind, siez_starts[i])"
   ]
  },
  {
   "cell_type": "code",
   "execution_count": 87,
   "id": "3d4f7d02",
   "metadata": {},
   "outputs": [
    {
     "data": {
      "text/plain": [
       "[(tensor([[ 22.7729,  18.8149,  11.8339,  ..., -60.9880, -71.7085, -68.6501],\n",
       "          [ 22.2633,  24.1646,  20.0127,  ..., -48.4087, -41.4379, -31.5423],\n",
       "          [ -6.1510,  -3.2400,  -3.5967,  ..., -45.2690, -52.0679, -49.2675],\n",
       "          ...,\n",
       "          [ 48.5195,  48.4718,  36.7468,  ...,   6.4792,  27.6942,  36.8938],\n",
       "          [-17.2908, -17.4441, -14.2211,  ...,  -2.6755,  -3.0650,  -0.1185],\n",
       "          [  3.3427,   1.9922,   3.2420,  ..., -56.9655, -71.7024, -72.6967]]),\n",
       "  tensor([0])),\n",
       " (tensor([[-59.6461, -39.2952, -15.3481,  ...,  -9.3113, -10.7595,  -8.0196],\n",
       "          [-28.2944, -20.1250, -15.5677,  ..., -11.6202, -17.4321, -21.1119],\n",
       "          [-39.0416, -30.4478, -21.8368,  ...,  -7.2261,  -3.1929,  -0.5805],\n",
       "          ...,\n",
       "          [ 42.1995,  30.3802,  14.5908,  ...,  21.1503,  24.7900,  22.8527],\n",
       "          [  1.9314,  -1.1072,  -6.5323,  ...,  -4.8234,  -4.7094,  -5.5230],\n",
       "          [-73.0151, -60.0892, -37.0077,  ...,  -2.1236,  -1.5408,  -1.2924]]),\n",
       "  tensor([0])),\n",
       " (tensor([[ -5.1584,  -2.1265,   2.5019,  ...,  -0.3470,   3.7250,   4.0907],\n",
       "          [-14.0853,  -9.1916,   1.2018,  ..., -18.4321, -13.7285,  -7.2533],\n",
       "          [  3.4278,   5.7889,   3.1066,  ...,   1.0095,  -2.1232,  -2.7125],\n",
       "          ...,\n",
       "          [ 21.2966,  14.4597,   5.9256,  ...,  15.2907,  11.4253,  12.7734],\n",
       "          [ -5.0091,  -3.0945,  -2.5438,  ...,   3.9468,   4.0807,   4.7479],\n",
       "          [ -1.8811,  -2.4893,  -3.5352,  ...,   2.1620,   3.4773,   2.0804]]),\n",
       "  tensor([0])),\n",
       " (tensor([[ 5.8820e+00,  5.5334e+00,  3.5278e+00,  ..., -8.8808e-01,\n",
       "           -8.8497e-01,  1.8973e+00],\n",
       "          [ 1.9636e+00,  1.2557e+01,  1.7928e+01,  ..., -8.9096e+00,\n",
       "           -3.2872e-01,  6.6557e+00],\n",
       "          [-4.5271e+00, -7.0742e+00, -1.1352e+01,  ..., -9.0056e+00,\n",
       "           -6.6487e+00, -1.8243e+00],\n",
       "          ...,\n",
       "          [ 1.4687e+01,  1.5329e+01,  1.7155e+01,  ...,  7.8108e+00,\n",
       "            3.8144e+00,  1.3899e-02],\n",
       "          [ 5.2463e+00,  3.9838e+00,  2.3688e+00,  ...,  8.4310e+00,\n",
       "            7.4199e+00,  8.1184e+00],\n",
       "          [-5.2582e-02, -2.6099e+00, -5.2519e+00,  ...,  4.8317e+00,\n",
       "           -9.3779e-01, -1.9387e+00]]),\n",
       "  tensor([0])),\n",
       " (tensor([[  2.2813,   3.3497,   3.7877,  ...,  -2.8833,  -1.4664,  -0.6773],\n",
       "          [ 12.8234,  15.6427,  14.7224,  ...,   2.0311,   1.3082,   7.4718],\n",
       "          [  1.2374,   2.4130,   3.3760,  ...,   0.2914,  -2.9804,  -4.3832],\n",
       "          ...,\n",
       "          [ -2.0543,  -6.2621,  -6.7704,  ...,  -8.6256, -13.3124, -16.6941],\n",
       "          [  7.9714,   8.1160,   7.2461,  ...,  -8.2150,  -8.4115,  -8.6114],\n",
       "          [ -1.6755,  -1.3913,  -0.9548,  ...,  -0.3871,   1.1607,   1.3953]]),\n",
       "  tensor([0])),\n",
       " (tensor([[  3.0152,   7.1653,   7.2064,  ...,  -0.5080,  -3.7392,  -8.1129],\n",
       "          [ 11.9533,  13.0668,  10.7080,  ...,  12.1356,  13.2054,  11.7405],\n",
       "          [ -4.7050,  -7.5474, -13.3874,  ..., -15.7510,  -6.2773,   1.1476],\n",
       "          ...,\n",
       "          [-19.3322, -17.6703, -12.6281,  ..., -13.4858,  -7.9516,   1.8976],\n",
       "          [ -8.0765,  -5.2601,  -4.4887,  ...,  -2.1993,  -4.0874,  -2.1327],\n",
       "          [  1.7607,  -3.0478,  -6.3612,  ...,   8.4377,   7.0432,   7.1570]]),\n",
       "  tensor([0])),\n",
       " (tensor([[-1.8435e+01, -1.7068e+01, -1.5349e+01,  ...,  1.4009e+01,\n",
       "            1.7933e+01,  2.0661e+01],\n",
       "          [-8.6956e+00, -8.1534e+00,  3.7427e+00,  ..., -2.6147e+01,\n",
       "           -1.8811e+01, -4.3263e+00],\n",
       "          [-5.1592e+00, -5.5544e+00, -4.6195e+00,  ...,  8.6157e+00,\n",
       "            1.6678e+01,  2.0932e+01],\n",
       "          ...,\n",
       "          [ 1.9147e+01,  1.9016e+01,  1.9766e+01,  ..., -1.8483e+01,\n",
       "           -1.1536e+01, -5.0302e+00],\n",
       "          [ 1.3802e-01,  2.2433e-02,  1.5596e-01,  ...,  6.3423e+00,\n",
       "            1.3371e+01,  1.8471e+01],\n",
       "          [-1.8439e+01, -1.6182e+01, -9.9213e+00,  ...,  9.9225e+00,\n",
       "            1.3298e+01,  1.4705e+01]]),\n",
       "  tensor([1])),\n",
       " (tensor([[ 17.9839,  11.8442,   2.3869,  ..., -43.5939, -17.3064,   6.1055],\n",
       "          [  8.2102,  19.1353,  27.5724,  ...,  56.8065,  56.0237,  67.7099],\n",
       "          [ 21.9694,  21.4004,  18.9291,  ..., -57.5022, -68.5365, -79.3877],\n",
       "          ...,\n",
       "          [  4.5075,  12.3027,  19.4289,  ...,  11.0438,   3.0470,  -3.7195],\n",
       "          [ 19.7241,  19.3705,  16.7159,  ..., -13.3752, -22.1052, -30.3654],\n",
       "          [ 13.6313,  11.5640,   8.4144,  ..., -19.5753, -31.2150, -34.9862]]),\n",
       "  tensor([1])),\n",
       " (tensor([[  38.4173,   50.2176,   64.9889,  ...,    7.2817,   10.5445,\n",
       "             10.4655],\n",
       "          [  56.2182,   62.8387,   61.0241,  ...,   16.6329,   18.3218,\n",
       "             15.3478],\n",
       "          [ -99.5860, -106.8395, -103.3717,  ...,    4.0135,    9.8372,\n",
       "             20.9197],\n",
       "          ...,\n",
       "          [ -15.5564,   -2.3851,    0.7170,  ...,    2.1148,    2.5787,\n",
       "              5.7769],\n",
       "          [ -34.6482,  -39.0832,  -45.6032,  ...,   -7.2595,   -8.6524,\n",
       "             -5.1675],\n",
       "          [ -40.3872,  -54.4478,  -52.7446,  ...,   15.1945,   15.9859,\n",
       "             16.1763]]),\n",
       "  tensor([1])),\n",
       " (tensor([[ 5.5669,  3.8111,  1.6680,  ...,  6.0366,  4.3916,  1.5643],\n",
       "          [10.2593,  4.9504, -0.7625,  ..., -3.9575,  8.4361, 19.1922],\n",
       "          [20.8357, 22.0884, 22.4115,  ...,  3.6560, -4.1821, -7.1395],\n",
       "          ...,\n",
       "          [ 8.3429, 11.4445, 14.8166,  ..., -1.5965, -4.2881, -1.6801],\n",
       "          [-4.2094, -3.3129, -1.7413,  ...,  2.8464,  3.6568,  4.2194],\n",
       "          [ 8.9750,  6.1560,  5.1194,  ...,  0.8529,  4.8555,  5.3770]]),\n",
       "  tensor([1])),\n",
       " (tensor([[-2.1834e+00, -1.7630e+00, -3.0685e+00,  ..., -1.2575e+01,\n",
       "           -7.7390e+00, -3.0715e+00],\n",
       "          [ 1.9295e+01,  1.6460e+01,  9.8173e+00,  ..., -1.2414e+01,\n",
       "           -9.0990e+00, -1.6011e+00],\n",
       "          [-4.0316e+00, -1.7091e-01,  5.5318e+00,  ...,  7.6607e+00,\n",
       "            7.2157e-01, -5.1833e+00],\n",
       "          ...,\n",
       "          [ 4.2335e-01, -3.6205e+00, -4.7255e-01,  ...,  1.3226e+01,\n",
       "            7.7928e+00,  1.3665e-02],\n",
       "          [ 3.3501e+00,  3.6716e+00,  3.6998e+00,  ..., -1.7344e+00,\n",
       "           -8.6783e-01, -3.3214e-01],\n",
       "          [ 4.6755e+00,  2.9176e+00,  2.2862e+00,  ...,  2.0471e+00,\n",
       "            2.0503e+00,  7.3064e-01]]),\n",
       "  tensor([1])),\n",
       " (tensor([[  0.5178,   7.0805,  11.0296,  ...,  -4.4783, -14.2565, -15.4923],\n",
       "          [  2.1595,   8.3635,   7.8063,  ..., -53.1171, -59.0533, -53.5978],\n",
       "          [-12.9891, -13.1208, -11.4084,  ...,   0.5961,   6.8831,  15.6515],\n",
       "          ...,\n",
       "          [ -5.5778, -12.3525, -14.0340,  ...,  14.0274,  16.0358,  14.6284],\n",
       "          [  0.2695,   0.5386,   1.8937,  ...,  14.1921,  28.4910,  42.6052],\n",
       "          [ -0.0884,   2.0609,   2.9782,  ..., -52.4147, -61.3557, -66.6606]]),\n",
       "  tensor([1])),\n",
       " (tensor([[-1.2077e+01, -1.1999e+01, -1.1853e+01,  ...,  3.5681e+01,\n",
       "            3.5391e+01,  3.3190e+01],\n",
       "          [-1.6916e+00,  3.3536e+00,  7.3691e+00,  ..., -1.8773e-03,\n",
       "           -1.4787e+00, -1.8724e-01],\n",
       "          [-5.2374e+00, -2.6378e+00, -1.9598e+00,  ..., -1.4853e+01,\n",
       "           -1.3491e+01, -5.2535e+00],\n",
       "          ...,\n",
       "          [ 1.6012e+01,  1.5207e+01,  1.3771e+01,  ..., -1.7820e+01,\n",
       "           -1.9295e+01, -1.7980e+01],\n",
       "          [ 4.7666e+00,  4.7655e+00,  4.4128e+00,  ..., -1.3502e-01,\n",
       "           -8.5666e-01, -4.1206e-01],\n",
       "          [-9.7932e+00, -6.6946e+00, -4.0298e+00,  ..., -5.1091e+00,\n",
       "           -2.7446e+00, -3.2006e+00]]),\n",
       "  tensor([0])),\n",
       " (tensor([[ 28.7316,  24.6818,  12.8600,  ...,   1.5585,  -4.1331,  -7.9495],\n",
       "          [ -2.7841,  -1.3220,  -9.2275,  ...,   8.5707,   4.4382,  -0.9756],\n",
       "          [ -3.7154,   0.1067,   4.1870,  ...,  16.3835,  10.6763,   6.0015],\n",
       "          ...,\n",
       "          [-12.8871,  -8.1294,   4.1051,  ...,  12.7730,  14.7597,  16.0166],\n",
       "          [  1.2819,   3.1440,   5.1970,  ...,   7.1625,   6.9943,   8.7651],\n",
       "          [ -5.1422,  -6.8421,  -9.4639,  ...,   5.8336,   5.7373,   6.9669]]),\n",
       "  tensor([0])),\n",
       " (tensor([[-10.5599,  -9.6579, -11.3205,  ...,   9.9433,  17.6669,  22.0969],\n",
       "          [ -6.4453, -13.6917, -23.0831,  ...,   1.4063,   2.8843,   0.2099],\n",
       "          [  0.6181,  -2.2039,  -3.4829,  ...,  -9.2792,  -6.6207,  -1.0726],\n",
       "          ...,\n",
       "          [ 13.5196,   9.6543,   9.6633,  ..., -25.0912, -31.3484, -33.6446],\n",
       "          [  8.3658,   7.3855,   5.7710,  ...,  -5.6114,  -5.5810,  -4.9119],\n",
       "          [  7.3119,   8.0673,   8.3771,  ...,  -9.9589,  -5.3862,   0.2897]]),\n",
       "  tensor([0])),\n",
       " (tensor([[ 24.6220,  23.1810,  20.6295,  ..., -35.7304, -34.4709, -26.7332],\n",
       "          [  1.2780,   5.1340,   8.0590,  ...,  -6.2635,  -9.4868,  -7.3726],\n",
       "          [  6.6427,  15.8722,  21.6794,  ...,  22.7718,  22.2316,  15.6873],\n",
       "          ...,\n",
       "          [-31.7709, -24.9110, -16.2412,  ...,  82.7842,  85.5616,  75.6195],\n",
       "          [ -3.0194,  -0.4814,   2.5601,  ..., -10.4968,  -9.7373, -10.9244],\n",
       "          [  7.7142,  12.9587,  17.0155,  ..., -16.2948, -18.5421, -20.3468]]),\n",
       "  tensor([0])),\n",
       " (tensor([[-15.5389,  -7.5255,  -3.2145,  ...,  -8.5849,  -6.3481,  -4.9605],\n",
       "          [ -4.4286,   2.1674,   6.8357,  ..., -10.7739, -11.4668, -10.0681],\n",
       "          [  4.3187,  -6.3647, -15.7207,  ...,   6.1180,   6.8651,   5.1736],\n",
       "          ...,\n",
       "          [ 55.2513,  37.5469,  16.2072,  ...,  12.2138,   7.2660,  -1.5337],\n",
       "          [-13.3118, -16.2285, -17.9514,  ...,  -1.8564,  -4.3808,  -7.0773],\n",
       "          [-19.5523, -17.6037, -16.0991,  ..., -10.0348,  -2.4096,   3.4490]]),\n",
       "  tensor([0])),\n",
       " (tensor([[ -3.7128,  -3.4385,  -1.8957,  ...,   0.3432,  -1.2240,  -5.8066],\n",
       "          [ -9.1171, -11.1962,  -6.6049,  ...,   8.4487,   0.1709,  -4.9818],\n",
       "          [  2.0059,  -4.0013,  -2.3658,  ...,   3.6734,   2.0339,  -0.1444],\n",
       "          ...,\n",
       "          [ -5.5618,  -8.4688, -10.8430,  ..., -12.4614,  -8.3829,  -3.7765],\n",
       "          [-10.0586, -10.4584,  -9.6419,  ...,   0.6648,  -0.0555,  -1.5846],\n",
       "          [  5.6775,  10.5923,  15.1169,  ...,   2.7702,   1.9788,  -3.6029]]),\n",
       "  tensor([0])),\n",
       " (tensor([[ 14.9852,  15.2715,  16.4479,  ...,  -2.6199,  -1.4551,   0.7835],\n",
       "          [ -8.0887,  -7.5822,  -3.9663,  ...,  12.4887,  19.7133,  22.5198],\n",
       "          [  5.4341,   2.5490,  -0.4513,  ...,  16.4537,  16.5251,  16.1114],\n",
       "          ...,\n",
       "          [-20.6038, -21.3930, -23.5766,  ...,  -1.9918,  -6.1520,  -8.1446],\n",
       "          [  0.2546,   0.6069,   0.1027,  ...,   1.5299,   1.0080,  -0.3580],\n",
       "          [ 10.5774,   8.8701,   4.2422,  ...,   5.1147,   8.4605,  14.2296]]),\n",
       "  tensor([0])),\n",
       " (tensor([[  0.0615,  -1.5319,   0.7071,  ...,  13.9266,  17.0269,  15.7761],\n",
       "          [ 18.8493,  15.1121,  10.3390,  ...,   7.9429,  11.9656,  10.0163],\n",
       "          [ 11.2410,   4.9847,   1.0654,  ...,   0.9318,   4.0237,   7.4578],\n",
       "          ...,\n",
       "          [ -6.3843,  -2.3415,  -0.3447,  ..., -12.3828, -13.2206,  -9.9808],\n",
       "          [ -2.4001,  -5.1991,  -8.4173,  ...,  -4.0891,  -3.7649,  -4.3970],\n",
       "          [ 15.9723,  15.4702,  14.7265,  ...,   4.7155,   5.1339,   5.0185]]),\n",
       "  tensor([0])),\n",
       " (tensor([[14.8885, 12.7046, 11.6886,  ..., -6.5024,  5.8470, 14.4048],\n",
       "          [10.6452, 10.4105, 12.5788,  ..., -8.8830, -6.6138, -2.3729],\n",
       "          [ 9.7000, 10.7842, 14.9652,  ..., 12.0089, 12.5381, 11.9435],\n",
       "          ...,\n",
       "          [-6.8252, -2.2666,  0.7314,  ..., 13.6552,  0.5484, -9.4776],\n",
       "          [-6.9291, -8.9062, -9.8194,  ...,  6.6039,  4.7535,  2.5831],\n",
       "          [ 4.7206,  1.9917,  1.3589,  ...,  0.0172,  4.0694,  7.6677]]),\n",
       "  tensor([0])),\n",
       " (tensor([[ 18.1473,  15.1846,   7.2767,  ...,   8.3420,  10.6765,  12.1690],\n",
       "          [  1.8640,   1.7627,   1.6195,  ...,  27.0355,  32.5173,  30.8945],\n",
       "          [  9.1057,   5.3705,   2.8086,  ...,   5.4521,   8.3876,  11.9655],\n",
       "          ...,\n",
       "          [-15.8449, -16.2827, -10.4528,  ...,  26.3383,  29.5547,  28.8368],\n",
       "          [ -0.0950,  -1.7513,  -2.5161,  ..., -19.8471, -20.1705, -19.7658],\n",
       "          [  8.8133,   9.4228,   9.3207,  ...,  -8.6972,  -4.0142,  -3.4555]]),\n",
       "  tensor([0])),\n",
       " (tensor([[ 10.7936,   8.8128,   1.2725,  ...,   5.7220,   4.1165,   9.5955],\n",
       "          [ 28.0034,  25.1222,  18.9673,  ...,  -7.4886,  -3.8319,   8.5540],\n",
       "          [  9.8900,   8.3932,   6.4496,  ..., -50.2357, -34.3449, -16.7174],\n",
       "          ...,\n",
       "          [ 26.5401,  24.1425,  25.0996,  ..., -77.5306, -77.3372, -68.1433],\n",
       "          [-18.0753, -18.9978, -14.8945,  ...,  -4.8799,  20.1497,  37.8679],\n",
       "          [ -2.1838,  -0.6114,   2.2299,  ...,  55.0048,  27.2908,   2.4410]]),\n",
       "  tensor([0])),\n",
       " (tensor([[ 11.8120,  10.5247,  16.5643,  ...,  13.3032,  22.8016,  27.2073],\n",
       "          [ 18.2845,  22.1952,  21.9740,  ...,  25.0319,  22.2264,  14.2852],\n",
       "          [  5.7823,  32.9448,  52.2473,  ...,   2.2350,  -5.9386,  -9.4714],\n",
       "          ...,\n",
       "          [-45.0120,  -2.8887,  34.7279,  ..., -33.1595, -41.1841, -42.6262],\n",
       "          [ 51.4397,  57.6090,  62.0816,  ...,  -7.1280, -11.9204, -14.2715],\n",
       "          [-27.2026, -65.5182, -92.5285,  ...,  26.6556,  26.8682,  25.8326]]),\n",
       "  tensor([0])),\n",
       " (tensor([[ 23.7903,  19.9280,  12.0418,  ..., -12.8048, -14.2373, -16.6519],\n",
       "          [ 29.2054,  30.7883,  26.2143,  ...,   1.3761,  -0.5181,   2.0982],\n",
       "          [-17.5848, -12.0363,  -5.9473,  ...,   8.7179,  13.6739,  14.8511],\n",
       "          ...,\n",
       "          [ 10.1829,  12.6499,  21.8801,  ...,  27.8429,  25.5641,  19.0599],\n",
       "          [ -9.5985,  -8.8149,  -9.8506,  ..., -15.0441, -12.0639,  -8.2652],\n",
       "          [  0.4693,  -0.9342,   1.3089,  ...,  -9.8330, -11.0487,  -8.6512]]),\n",
       "  tensor([0])),\n",
       " (tensor([[-14.2757, -13.6749, -11.0821,  ..., -22.7455, -21.0182, -24.2712],\n",
       "          [ -7.4311, -22.0421, -29.4571,  ..., -10.3710,  -2.7302,   2.8334],\n",
       "          [ 14.9119,  12.2367,   9.3756,  ...,   7.8517,   4.7580,  -1.1836],\n",
       "          ...,\n",
       "          [ 11.1543,   2.2187,  -8.9600,  ...,   8.9837,   5.1485,  10.2064],\n",
       "          [ -2.6813,   0.9019,   5.5514,  ...,  20.0206,  12.9192,   6.4226],\n",
       "          [ -6.8157,  -5.3822,  -2.6202,  ...,  26.3686,  21.2906,  12.5455]]),\n",
       "  tensor([0])),\n",
       " (tensor([[-22.9379, -18.4928, -12.8677,  ..., -36.3497, -34.3345, -26.1680],\n",
       "          [ 10.3502,  17.1523,  17.7592,  ...,  10.7760,  12.4562,   9.6828],\n",
       "          [ -8.2210, -11.0748, -14.2323,  ...,   3.0479,   8.3568,   8.2699],\n",
       "          ...,\n",
       "          [ 13.9837,  14.5815,  11.4310,  ...,   9.1746,  10.3313,   6.4340],\n",
       "          [ -2.9304, -10.8644, -15.4234,  ...,  13.3759,  12.3237,   9.6920],\n",
       "          [  1.0953,  -8.5138, -15.8815,  ...,  -7.3018,  -6.2704,  -5.4815]]),\n",
       "  tensor([0])),\n",
       " (tensor([[-1.4722e+01,  1.3063e+01,  3.0571e+01,  ...,  2.2950e+01,\n",
       "            2.6364e+01,  2.6872e+01],\n",
       "          [ 2.6626e+00, -6.2913e+00, -2.5096e+01,  ...,  8.9984e+00,\n",
       "            9.6548e+00,  1.2135e+01],\n",
       "          [ 9.0175e+00,  1.0345e+01,  1.2864e+01,  ...,  1.5109e+01,\n",
       "            6.3659e+00,  2.9477e+00],\n",
       "          ...,\n",
       "          [ 2.5713e+00, -2.1031e+01, -4.4158e+01,  ..., -2.1685e+01,\n",
       "           -3.2571e+01, -3.9913e+01],\n",
       "          [ 6.4461e+00,  8.7241e+00,  1.1474e+01,  ...,  7.4139e+00,\n",
       "            1.0885e+01,  1.4394e+01],\n",
       "          [-4.9771e+00,  3.3347e+00,  1.3385e+01,  ..., -3.9734e-02,\n",
       "           -9.8783e-01, -1.2870e+00]]),\n",
       "  tensor([0])),\n",
       " (tensor([[ 21.3101,  15.0184,   6.1612,  ...,   5.2795,   5.9896,   4.9230],\n",
       "          [ 12.3207,  17.6420,  24.4180,  ...,  25.3581,  23.2348,  25.8774],\n",
       "          [ -0.2963,   0.8565,   3.5548,  ..., -21.1447, -20.7612, -17.6046],\n",
       "          ...,\n",
       "          [-44.6021, -40.4812, -27.0267,  ...,  -2.4644,  -8.5982, -10.5842],\n",
       "          [ 14.0719,   9.5918,   7.2023,  ...,  -2.3884,  -7.1330,  -8.8716],\n",
       "          [  0.6190,   1.5800,   2.9123,  ...,  -7.5259,  -1.5726,   6.5965]]),\n",
       "  tensor([0])),\n",
       " (tensor([[  1.1919,  -6.7790, -12.4653,  ...,   0.7288,  -1.2384,  -2.5666],\n",
       "          [ 28.2219,  24.6236,  11.9494,  ...,  16.6688,   9.9637,   6.1550],\n",
       "          [-14.7984,  -5.2849,   3.5950,  ...,  -4.9032,  -8.5226,  -7.9638],\n",
       "          ...,\n",
       "          [ -3.9524,   8.1274,  13.9353,  ...,   8.2434,  12.9273,  11.7517],\n",
       "          [ -8.1395,  -7.4936,  -8.2231,  ...,   7.2207,   6.2786,   3.8035],\n",
       "          [  9.3982,  12.7412,  16.3832,  ..., -17.8597, -20.7709, -16.3228]]),\n",
       "  tensor([0]))]"
      ]
     },
     "execution_count": 87,
     "metadata": {},
     "output_type": "execute_result"
    }
   ],
   "source": [
    "test_inout_seq1"
   ]
  },
  {
   "cell_type": "code",
   "execution_count": 75,
   "id": "2d582d15",
   "metadata": {},
   "outputs": [],
   "source": [
    "test_dataloader1 = DataLoader(test_inout_seq1, batch_size=batch_size, shuffle=False, drop_last=True)\n",
    "test_dataloader2 = DataLoader(test_inout_seq2, batch_size=batch_size, shuffle=False, drop_last=True)"
   ]
  },
  {
   "cell_type": "code",
   "execution_count": 54,
   "id": "c58b9391",
   "metadata": {},
   "outputs": [],
   "source": [
    "preds = GetAnswers(WaveNet_model, test_dataloader1, is_trans=False)\n",
    "preds = np.array(preds).reshape(len(preds)*batch_size)"
   ]
  },
  {
   "cell_type": "code",
   "execution_count": 64,
   "id": "825e78c2",
   "metadata": {},
   "outputs": [],
   "source": [
    "true_vals = np.array([int(test_inout_seq1[i][1]) for i in range(32)])"
   ]
  },
  {
   "cell_type": "code",
   "execution_count": 55,
   "id": "fe4680d4",
   "metadata": {},
   "outputs": [
    {
     "data": {
      "text/plain": [
       "array([1, 1, 1, 1, 0, 1, 0, 1, 1, 0, 1, 1, 1, 1, 1, 0, 1, 1, 1, 1, 1, 1,\n",
       "       0, 1, 1, 1, 1, 0, 1, 0, 1, 1], dtype=int64)"
      ]
     },
     "execution_count": 55,
     "metadata": {},
     "output_type": "execute_result"
    }
   ],
   "source": [
    "preds"
   ]
  },
  {
   "cell_type": "code",
   "execution_count": 65,
   "id": "33b95e9e",
   "metadata": {},
   "outputs": [
    {
     "data": {
      "text/plain": [
       "array([0, 0, 0, 0, 0, 0, 1, 0, 0, 0, 0, 0, 0, 1, 1, 1, 0, 0, 0, 0, 1, 1,\n",
       "       0, 0, 0, 1, 1, 1, 0, 0, 0, 0])"
      ]
     },
     "execution_count": 65,
     "metadata": {},
     "output_type": "execute_result"
    }
   ],
   "source": [
    "true_vals"
   ]
  },
  {
   "cell_type": "code",
   "execution_count": 67,
   "id": "43c26a8f",
   "metadata": {},
   "outputs": [
    {
     "data": {
      "text/plain": [
       "0.6875"
      ]
     },
     "execution_count": 67,
     "metadata": {},
     "output_type": "execute_result"
    }
   ],
   "source": [
    "(preds != true_vals).sum() / len(preds)"
   ]
  },
  {
   "cell_type": "code",
   "execution_count": 77,
   "id": "c1cdaa2d",
   "metadata": {},
   "outputs": [
    {
     "data": {
      "text/plain": [
       "0.5625"
      ]
     },
     "execution_count": 77,
     "metadata": {},
     "output_type": "execute_result"
    }
   ],
   "source": [
    "preds = GetAnswers(WaveNet_model, test_dataloader2, is_trans=False)\n",
    "preds = np.array(preds).reshape(len(preds)*batch_size)\n",
    "\n",
    "true_vals = np.array([int(test_inout_seq2[i][1]) for i in range(len(preds))])\n",
    "\n",
    "(preds != true_vals).sum() / len(preds)"
   ]
  },
  {
   "cell_type": "code",
   "execution_count": 38,
   "id": "05e43505",
   "metadata": {},
   "outputs": [],
   "source": [
    "ind_st = siez_starts[test_idxs[0]][0] // train_window \n",
    "ind_pre = ind_st - preictal_time // train_window\n",
    "\n",
    "preictal_preds = np.array(preds[ind_pre:ind_st])"
   ]
  },
  {
   "cell_type": "code",
   "execution_count": 39,
   "id": "42ef2e08",
   "metadata": {},
   "outputs": [
    {
     "name": "stdout",
     "output_type": "stream",
     "text": [
      "0\n",
      "0\n"
     ]
    },
    {
     "name": "stderr",
     "output_type": "stream",
     "text": [
      "C:\\Users\\gromo\\AppData\\Local\\Temp\\ipykernel_15324\\1933064808.py:3: RuntimeWarning: invalid value encountered in scalar divide\n",
      "  preictal_preds.sum() / len(preictal_preds)\n"
     ]
    },
    {
     "data": {
      "text/plain": [
       "nan"
      ]
     },
     "execution_count": 39,
     "metadata": {},
     "output_type": "execute_result"
    }
   ],
   "source": [
    "print(preictal_preds.sum())\n",
    "print(len(preictal_preds))\n",
    "preictal_preds.sum() / len(preictal_preds)"
   ]
  }
 ],
 "metadata": {
  "kernelspec": {
   "display_name": "Python 3 (ipykernel)",
   "language": "python",
   "name": "python3"
  },
  "language_info": {
   "codemirror_mode": {
    "name": "ipython",
    "version": 3
   },
   "file_extension": ".py",
   "mimetype": "text/x-python",
   "name": "python",
   "nbconvert_exporter": "python",
   "pygments_lexer": "ipython3",
   "version": "3.11.3"
  }
 },
 "nbformat": 4,
 "nbformat_minor": 5
}
