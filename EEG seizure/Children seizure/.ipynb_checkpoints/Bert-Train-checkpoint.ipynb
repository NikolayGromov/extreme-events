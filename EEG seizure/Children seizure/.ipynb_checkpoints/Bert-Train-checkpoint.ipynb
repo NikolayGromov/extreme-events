{
 "cells": [
  {
   "cell_type": "code",
   "execution_count": 1,
   "id": "bc7e3029",
   "metadata": {},
   "outputs": [],
   "source": [
    "# !pip3 install einops\n",
    "# # assert 1 == 2"
   ]
  },
  {
   "cell_type": "code",
   "execution_count": 2,
   "id": "40727094",
   "metadata": {},
   "outputs": [
    {
     "data": {
      "application/javascript": [
       "IPython.OutputArea.auto_scroll_threshold = 9999;\n"
      ],
      "text/plain": [
       "<IPython.core.display.Javascript object>"
      ]
     },
     "metadata": {},
     "output_type": "display_data"
    }
   ],
   "source": [
    "%%javascript\n",
    "IPython.OutputArea.auto_scroll_threshold = 9999;"
   ]
  },
  {
   "cell_type": "code",
   "execution_count": null,
   "id": "70daf632",
   "metadata": {},
   "outputs": [],
   "source": []
  },
  {
   "cell_type": "code",
   "execution_count": 3,
   "id": "56c7ac7a",
   "metadata": {},
   "outputs": [],
   "source": [
    "# https://medium.com/mlearning-ai/vision-transformers-from-scratch-pytorch-a-step-by-step-guide-96c3313c2e0c\n",
    "import os\n",
    "import pyedflib\n",
    "import numpy as np\n",
    "import pandas as pd\n",
    "import wfdb\n",
    "import ast\n",
    "import sys\n",
    "import torch\n",
    "import math\n",
    "import matplotlib.pyplot as plt\n",
    "import torch.nn as nn\n",
    "import time\n",
    "import matplotlib.cm as cm\n",
    "import pywt\n",
    "import scipy.signal\n",
    "\n",
    "from functools import reduce\n",
    "from sklearn.metrics import (\n",
    "    confusion_matrix, balanced_accuracy_score, f1_score, precision_score, recall_score, roc_auc_score, roc_curve, \n",
    "    precision_recall_curve\n",
    ")\n",
    "from sklearn.preprocessing import MinMaxScaler\n",
    "from torch.optim.lr_scheduler import ReduceLROnPlateau\n",
    "from sklearn.model_selection import train_test_split\n",
    "from torcheval.metrics import BinaryAccuracy, BinaryF1Score, BinaryAUROC, BinaryConfusionMatrix\n",
    "from prettytable import PrettyTable\n",
    "from torch.optim import Adam\n",
    "from tqdm import tqdm, trange\n",
    "from numpy import sqrt, argmax\n",
    "from einops import rearrange\n",
    "from PIL import Image\n",
    "from torch.utils.data import Dataset, DataLoader\n",
    "\n",
    "global get_attention\n",
    "global last_attention"
   ]
  },
  {
   "cell_type": "code",
   "execution_count": 4,
   "id": "3aa868e3",
   "metadata": {},
   "outputs": [],
   "source": [
    "np.set_printoptions(linewidth=200)\n",
    "sr = 256\n",
    "batch_size = 16\n",
    "device = torch.device(\"cuda\" if torch.cuda.is_available() else \"cpu\")\n",
    "data_directory_path = \"../DATA/chb-mit-scalp-eeg-database-1.0.0\"\n",
    "\n",
    "slice_len = sr * 60 * 10\n",
    "global get_attention\n",
    "get_attention = False\n",
    "need_leads = list(range(23))\n",
    "\n"
   ]
  },
  {
   "cell_type": "code",
   "execution_count": 5,
   "id": "6cd6c6d9",
   "metadata": {},
   "outputs": [
    {
     "data": {
      "text/plain": [
       "device(type='cuda')"
      ]
     },
     "execution_count": 5,
     "metadata": {},
     "output_type": "execute_result"
    }
   ],
   "source": [
    "TRAIN = 1\n",
    "TRAIN_MYPRETRAINED = TRAIN * 0\n",
    "\n",
    "device = torch.device('cuda' if torch.cuda.is_available() else 'cpu')\n",
    "DEVICE = device\n",
    "device"
   ]
  },
  {
   "cell_type": "code",
   "execution_count": 6,
   "id": "ca0b285c",
   "metadata": {},
   "outputs": [],
   "source": [
    "def count_parameters(model):\n",
    "    table = PrettyTable([\"Modules\", \"Parameters\"])\n",
    "    total_params = 0\n",
    "    for name, parameter in model.named_parameters():\n",
    "        if not parameter.requires_grad: continue\n",
    "        params = parameter.numel()\n",
    "        table.add_row([name, params])\n",
    "        total_params += params\n",
    "    print(table)\n",
    "    print(f\"Total Params: {total_params}\")\n",
    "    return total_params"
   ]
  },
  {
   "cell_type": "code",
   "execution_count": null,
   "id": "3b462b0c",
   "metadata": {},
   "outputs": [],
   "source": []
  },
  {
   "cell_type": "code",
   "execution_count": 7,
   "id": "adb92a14",
   "metadata": {},
   "outputs": [
    {
     "name": "stdout",
     "output_type": "stream",
     "text": [
      "[OK] have all the data\n"
     ]
    }
   ],
   "source": [
    "dataset_items_names = ['x_train_0', 'x_train_1', 'x_test_0', 'x_test_1']\n",
    "pool_dir = os.path.join(data_directory_path, \"numpy\")\n",
    "if reduce((lambda x, y: x * y), [int(os.path.isfile(f'{pool_dir}/{name}.npy')) for name in dataset_items_names]):\n",
    "    print('[OK] have all the data')\n",
    "    dataset = [np.load(f'{pool_dir}/{name}.npy') for name in dataset_items_names]"
   ]
  },
  {
   "cell_type": "code",
   "execution_count": 8,
   "id": "07857abd",
   "metadata": {
    "scrolled": false
   },
   "outputs": [
    {
     "name": "stdout",
     "output_type": "stream",
     "text": [
      "(1849, 23, 5120)\n",
      "(2150, 23, 5120)\n",
      "(463, 23, 5120)\n",
      "(538, 23, 5120)\n"
     ]
    }
   ],
   "source": [
    "for data in dataset:\n",
    "    print(data.shape)\n"
   ]
  },
  {
   "cell_type": "code",
   "execution_count": 9,
   "id": "29cb526e",
   "metadata": {},
   "outputs": [],
   "source": [
    "x_train_0, x_train_1, x_test_0, x_test_1 = tuple(dataset)\n",
    "y_train_0 = np.asarray([0] * x_train_0.shape[0])\n",
    "y_train_1 = np.asarray([1] * x_train_1.shape[0])\n",
    "y_test_0 = np.asarray([0] * x_test_0.shape[0])\n",
    "y_test_1 = np.asarray([1] * x_test_1.shape[0])\n"
   ]
  },
  {
   "cell_type": "code",
   "execution_count": null,
   "id": "07ec10dc",
   "metadata": {},
   "outputs": [],
   "source": []
  },
  {
   "cell_type": "code",
   "execution_count": 10,
   "id": "77ce436a",
   "metadata": {},
   "outputs": [],
   "source": [
    "class Residual(nn.Module):\n",
    "    def __init__(self, fn):\n",
    "        super().__init__()\n",
    "        self.fn = fn\n",
    "    def forward(self, x, **kwargs):\n",
    "        return self.fn(x, **kwargs) + x\n",
    "class PreNorm(nn.Module):\n",
    "    def __init__(self, dim, fn):\n",
    "        super().__init__()\n",
    "        self.norm = nn.LayerNorm(dim)\n",
    "        self.fn = fn\n",
    "    def forward(self, x, **kwargs):\n",
    "        return self.fn(self.norm(x), **kwargs)\n",
    "class FeedForward(nn.Module):\n",
    "    def __init__(self, dim, hidden_dim):\n",
    "        super().__init__()\n",
    "        self.net = nn.Sequential(\n",
    "            nn.Linear(dim, hidden_dim),\n",
    "            nn.GELU(),\n",
    "            nn.Dropout(p=dropout_p, inplace=False),\n",
    "            nn.Linear(hidden_dim, dim),\n",
    "            nn.Dropout(p=dropout_p, inplace=False),\n",
    "        )\n",
    "    def forward(self, x):\n",
    "        return self.net(x)\n",
    "class Attention(nn.Module):\n",
    "    def __init__(self, dim, heads=8):\n",
    "        super().__init__()\n",
    "        self.heads = heads\n",
    "        self.scale = dim ** -0.5\n",
    "        self.to_qkv = nn.Linear(dim, dim * 3, bias=False)\n",
    "        self.to_out = nn.Linear(dim, dim)\n",
    "        self.dropout = nn.Dropout(p=dropout_p, inplace=False)\n",
    "\n",
    "    def forward(self, x):\n",
    "        b, n, _, h = *x.shape, self.heads\n",
    "        qkv = self.to_qkv(x)\n",
    "        q, k, v = rearrange(qkv, 'b n (qkv h d) -> qkv b h n d', qkv=3, h=h)\n",
    "        dots = torch.einsum('bhid,bhjd->bhij', q, k) * self.scale\n",
    "        attn = dots.softmax(dim=-1)\n",
    "        global get_attention\n",
    "        if get_attention:\n",
    "            global last_attention\n",
    "            last_attention = attn\n",
    "        out = torch.einsum('bhij,bhjd->bhid', attn, v)\n",
    "        out = rearrange(out, 'b h n d -> b n (h d)')\n",
    "        out = self.to_out(out)\n",
    "        out = self.dropout(out)\n",
    "        return out\n",
    "class Transformer(nn.Module):\n",
    "    def __init__(self, dim, depth, heads, mlp_dim):\n",
    "        super().__init__()\n",
    "        self.layers = nn.ModuleList([])\n",
    "        for _ in range(depth):\n",
    "            self.layers.append(nn.ModuleList([\n",
    "                Residual(PreNorm(dim, Attention(dim, heads=heads))),\n",
    "                Residual(PreNorm(dim, FeedForward(dim, mlp_dim)))\n",
    "            ]))\n",
    "    def forward(self, x):\n",
    "        for i, (attn, ff) in enumerate(self.layers):\n",
    "            x = attn(x)\n",
    "            x = ff(x)\n",
    "        return x\n",
    "class ViT(nn.Module):\n",
    "    def __init__(self, dim=120, depth=3, heads=1, mlp_head_mult=2, dim_feedforward_mult=2):\n",
    "        print(\"init model\", dim, depth, heads)\n",
    "        super().__init__()\n",
    "        self._k = dim\n",
    "        self._h = heads\n",
    "        self.cls_token = nn.Parameter(torch.randn(1, 1, dim))\n",
    "        self.transformer = Transformer(dim, depth, heads, dim_feedforward_mult*dim)\n",
    "        self._fc = nn.Sequential(\n",
    "            nn.Linear(dim, mlp_head_mult*dim),\n",
    "            nn.ReLU(),\n",
    "            nn.Linear(mlp_head_mult*dim, 1)\n",
    "        )\n",
    "    def forward(self, x):\n",
    "        x = torch.transpose(x, 1, 2)\n",
    "        x = torch.reshape(x, (len(x), -1, self._k))\n",
    "        x = rearrange(x, 'b n (d h) -> b n (h d)', h=self._h)\n",
    "        cls_tokens = self.cls_token.expand(x.shape[0], -1, -1)\n",
    "#         print(cls_tokens.shape)\n",
    "        x = torch.cat((cls_tokens, x), dim=1)\n",
    "#         print(x.shape)\n",
    "        x = self.transformer(x)\n",
    "#         x = x.mean(dim=1)\n",
    "        x = x[:, 0]\n",
    "        return self._fc(x)[:, 0]"
   ]
  },
  {
   "cell_type": "code",
   "execution_count": 11,
   "id": "3c0321e8",
   "metadata": {
    "scrolled": false
   },
   "outputs": [
    {
     "data": {
      "text/plain": [
       "(1849, 23, 5120)"
      ]
     },
     "execution_count": 11,
     "metadata": {},
     "output_type": "execute_result"
    }
   ],
   "source": [
    "x_train_0.shape"
   ]
  },
  {
   "cell_type": "code",
   "execution_count": 12,
   "id": "59bfefa9",
   "metadata": {},
   "outputs": [
    {
     "name": "stdout",
     "output_type": "stream",
     "text": [
      "init model 115 3 23\n",
      "+--------------------------------------------+------------+\n",
      "|                  Modules                   | Parameters |\n",
      "+--------------------------------------------+------------+\n",
      "|                 cls_token                  |    115     |\n",
      "|   transformer.layers.0.0.fn.norm.weight    |    115     |\n",
      "|    transformer.layers.0.0.fn.norm.bias     |    115     |\n",
      "| transformer.layers.0.0.fn.fn.to_qkv.weight |   39675    |\n",
      "| transformer.layers.0.0.fn.fn.to_out.weight |   13225    |\n",
      "|  transformer.layers.0.0.fn.fn.to_out.bias  |    115     |\n",
      "|   transformer.layers.0.1.fn.norm.weight    |    115     |\n",
      "|    transformer.layers.0.1.fn.norm.bias     |    115     |\n",
      "| transformer.layers.0.1.fn.fn.net.0.weight  |   26450    |\n",
      "|  transformer.layers.0.1.fn.fn.net.0.bias   |    230     |\n",
      "| transformer.layers.0.1.fn.fn.net.3.weight  |   26450    |\n",
      "|  transformer.layers.0.1.fn.fn.net.3.bias   |    115     |\n",
      "|   transformer.layers.1.0.fn.norm.weight    |    115     |\n",
      "|    transformer.layers.1.0.fn.norm.bias     |    115     |\n",
      "| transformer.layers.1.0.fn.fn.to_qkv.weight |   39675    |\n",
      "| transformer.layers.1.0.fn.fn.to_out.weight |   13225    |\n",
      "|  transformer.layers.1.0.fn.fn.to_out.bias  |    115     |\n",
      "|   transformer.layers.1.1.fn.norm.weight    |    115     |\n",
      "|    transformer.layers.1.1.fn.norm.bias     |    115     |\n",
      "| transformer.layers.1.1.fn.fn.net.0.weight  |   26450    |\n",
      "|  transformer.layers.1.1.fn.fn.net.0.bias   |    230     |\n",
      "| transformer.layers.1.1.fn.fn.net.3.weight  |   26450    |\n",
      "|  transformer.layers.1.1.fn.fn.net.3.bias   |    115     |\n",
      "|   transformer.layers.2.0.fn.norm.weight    |    115     |\n",
      "|    transformer.layers.2.0.fn.norm.bias     |    115     |\n",
      "| transformer.layers.2.0.fn.fn.to_qkv.weight |   39675    |\n",
      "| transformer.layers.2.0.fn.fn.to_out.weight |   13225    |\n",
      "|  transformer.layers.2.0.fn.fn.to_out.bias  |    115     |\n",
      "|   transformer.layers.2.1.fn.norm.weight    |    115     |\n",
      "|    transformer.layers.2.1.fn.norm.bias     |    115     |\n",
      "| transformer.layers.2.1.fn.fn.net.0.weight  |   26450    |\n",
      "|  transformer.layers.2.1.fn.fn.net.0.bias   |    230     |\n",
      "| transformer.layers.2.1.fn.fn.net.3.weight  |   26450    |\n",
      "|  transformer.layers.2.1.fn.fn.net.3.bias   |    115     |\n",
      "|                _fc.0.weight                |   26450    |\n",
      "|                 _fc.0.bias                 |    230     |\n",
      "|                _fc.2.weight                |    230     |\n",
      "|                 _fc.2.bias                 |     1      |\n",
      "+--------------------------------------------+------------+\n",
      "Total Params: 347186\n"
     ]
    }
   ],
   "source": [
    "criterion = nn.BCEWithLogitsLoss()\n",
    "\n",
    "chw = (x_train_0.shape[1], x_train_0.shape[2])\n",
    "hidden_d = x_train_0.shape[1] * 5\n",
    "n_blocks = 3\n",
    "n_heads = x_train_0.shape[1]\n",
    "dropout_p = 0.1\n",
    "\n",
    "model = ViT(dim=hidden_d, depth=n_blocks, heads=n_heads).to(DEVICE)\n",
    "x = torch.randn(2, chw[0], chw[1]).to(DEVICE) # Dummy \n",
    "\n",
    "model(x).detach().shape\n",
    "\n",
    "model_name = f'bert_{count_parameters(model)}_{n_heads}h'\n",
    "model_path =  f\"../MODELS/{model_name}\""
   ]
  },
  {
   "cell_type": "code",
   "execution_count": null,
   "id": "a6e3a74d",
   "metadata": {},
   "outputs": [],
   "source": []
  },
  {
   "cell_type": "code",
   "execution_count": 13,
   "id": "416b58d1",
   "metadata": {},
   "outputs": [
    {
     "name": "stdout",
     "output_type": "stream",
     "text": [
      "3999\n",
      "(463, 23, 5120)\n"
     ]
    }
   ],
   "source": [
    "train_dataset_0 = [x_train_0, y_train_0]\n",
    "train_dataset_1 = [x_train_1, y_train_1]\n",
    "test_dataset_0 = [x_test_0, y_test_0]\n",
    "test_dataset_1 = [x_test_1, y_test_1]\n",
    "x_test = np.concatenate((x_test_0, x_test_1), axis=0)\n",
    "y_test = np.concatenate((y_test_0, y_test_1), axis=0)\n",
    "\n",
    "train_data_len = len(train_dataset_0[0]) + len(train_dataset_1[0])\n",
    "test_data_len = len(test_dataset_0[0]) + len(test_dataset_1[0])\n",
    "print(train_data_len)\n",
    "\n",
    "print(test_dataset_0[0].shape)"
   ]
  },
  {
   "cell_type": "code",
   "execution_count": 14,
   "id": "1cea0a87",
   "metadata": {},
   "outputs": [],
   "source": [
    "def get_batch(dataset_0=test_dataset_0, dataset_1=test_dataset_1, batch_size=64):\n",
    "    batch_x = np.zeros((batch_size, chw[0], chw[1]), dtype='float32')\n",
    "    batch_y = np.zeros(batch_size, dtype='float32')\n",
    "    for i in range(batch_size):\n",
    "        rand = np.random.rand()\n",
    "        \n",
    "        if rand > 0.5:\n",
    "            index_0 = np.random.choice(len(dataset_0[0]))\n",
    "            batch_x[i] = dataset_0[0][index_0]\n",
    "            batch_y[i] = dataset_0[1][index_0]\n",
    "        else:\n",
    "            index_1 = np.random.choice(len(dataset_1[0]))\n",
    "            batch_x[i] = dataset_1[0][index_1]\n",
    "            batch_y[i] = dataset_1[1][index_1]\n",
    "    return torch.from_numpy(batch_x).to(device), torch.from_numpy(batch_y).to(device)\n",
    "\n",
    "def get_pred_test_batch(batch_size=8):\n",
    "    data, targets = get_batch(test_dataset_0, test_dataset_1, batch_size)\n",
    "    targets = targets.cpu()\n",
    "    y_pred = model(data).cpu()\n",
    "    torch.cuda.empty_cache()\n",
    "    return y_pred, targets\n",
    "\n",
    "def get_pred_all_test(batch_size=8):\n",
    "    test_loader = DataLoader(list(zip(torch.from_numpy(x_test), torch.from_numpy(y_test))), shuffle=True, batch_size=batch_size)\n",
    "    return torch.transpose(torch.cat([torch.stack((model(X_batch.to(DEVICE)).detach().cpu(), y_batch), dim=1) for X_batch, y_batch in test_loader], dim=0), 0, 1)\n"
   ]
  },
  {
   "cell_type": "code",
   "execution_count": 15,
   "id": "e0e2337d",
   "metadata": {},
   "outputs": [
    {
     "name": "stdout",
     "output_type": "stream",
     "text": [
      "torch.Size([2, 23, 5120])\n",
      "torch.Size([2])\n",
      "tensor([-0.3345, -0.3096], device='cuda:0', grad_fn=<SelectBackward0>)\n",
      "tensor([0., 0.], device='cuda:0')\n"
     ]
    },
    {
     "data": {
      "text/plain": [
       "47.0"
      ]
     },
     "execution_count": 15,
     "metadata": {},
     "output_type": "execute_result"
    }
   ],
   "source": [
    "data, targets = get_batch(test_dataset_0, test_dataset_1, 2)\n",
    "print(data.size())\n",
    "\n",
    "out = model(data)\n",
    "print(out.size())\n",
    "print(out)\n",
    "print(targets)\n",
    "\n",
    "data, targets = get_batch(test_dataset_0, test_dataset_1, 100)\n",
    "np.sum(targets.cpu().numpy())"
   ]
  },
  {
   "cell_type": "code",
   "execution_count": 16,
   "id": "465b7311",
   "metadata": {},
   "outputs": [
    {
     "name": "stdout",
     "output_type": "stream",
     "text": [
      "BCEWithLogitsLoss 0.7177993059158325\n",
      "BinaryF1Score 0.0\n",
      "BinaryAccuracy 0.4625374674797058\n",
      "BinaryAUROC 0.4610147173356243\n",
      "[[463   0]\n",
      " [538   0]]\n",
      "f1_score 0.0\n",
      "balanced_accuracy_score 0.5\n",
      "precision_score 0.0\n",
      "recall_score 0.0\n"
     ]
    },
    {
     "name": "stderr",
     "output_type": "stream",
     "text": [
      "C:\\Users\\coubex\\AppData\\Local\\anaconda3\\lib\\site-packages\\sklearn\\metrics\\_classification.py:1344: UndefinedMetricWarning: Precision is ill-defined and being set to 0.0 due to no predicted samples. Use `zero_division` parameter to control this behavior.\n",
      "  _warn_prf(average, modifier, msg_start, len(result))\n"
     ]
    }
   ],
   "source": [
    "y_pred, targets = get_pred_all_test()\n",
    "\n",
    "print(criterion.__class__.__name__, criterion(y_pred, targets).item())\n",
    "print('BinaryF1Score', BinaryF1Score().update(y_pred, targets).compute().item())\n",
    "print('BinaryAccuracy', BinaryAccuracy().update(y_pred, targets).compute().item())\n",
    "print('BinaryAUROC', BinaryAUROC().update(y_pred, targets).compute().item())\n",
    "print(confusion_matrix(targets, [int(x > 0.5) for x in y_pred]))\n",
    "print('f1_score', f1_score(targets, [int(x >= 0.5) for x in y_pred]))\n",
    "print('balanced_accuracy_score', balanced_accuracy_score(targets, [int(x >= 0.5) for x in y_pred]))\n",
    "print('precision_score', precision_score(targets, [int(x >= 0.5) for x in y_pred]))\n",
    "print('recall_score', recall_score(targets, [int(x >= 0.5) for x in y_pred]))"
   ]
  },
  {
   "cell_type": "code",
   "execution_count": 17,
   "id": "ab74aac4",
   "metadata": {},
   "outputs": [
    {
     "name": "stdout",
     "output_type": "stream",
     "text": [
      "../MODELS/bert_347186_23h\n"
     ]
    },
    {
     "data": {
      "text/plain": [
       "True"
      ]
     },
     "execution_count": 17,
     "metadata": {},
     "output_type": "execute_result"
    }
   ],
   "source": [
    "print(model_path)\n",
    "os.path.isfile(model_path)"
   ]
  },
  {
   "cell_type": "code",
   "execution_count": 18,
   "id": "130bfd6d",
   "metadata": {},
   "outputs": [
    {
     "data": {
      "text/plain": [
       "device(type='cuda')"
      ]
     },
     "execution_count": 18,
     "metadata": {},
     "output_type": "execute_result"
    }
   ],
   "source": [
    "device"
   ]
  },
  {
   "cell_type": "code",
   "execution_count": 19,
   "id": "67426603",
   "metadata": {},
   "outputs": [
    {
     "data": {
      "text/plain": [
       "3999"
      ]
     },
     "execution_count": 19,
     "metadata": {},
     "output_type": "execute_result"
    }
   ],
   "source": [
    "train_data_len"
   ]
  },
  {
   "cell_type": "code",
   "execution_count": 20,
   "id": "a26a7378",
   "metadata": {},
   "outputs": [],
   "source": [
    "# assert 1 == 2"
   ]
  },
  {
   "cell_type": "code",
   "execution_count": 21,
   "id": "5c74cb9b",
   "metadata": {
    "scrolled": true
   },
   "outputs": [
    {
     "name": "stderr",
     "output_type": "stream",
     "text": [
      "Epoch 1 in training: 100%|██████████| 499/499 [01:11<00:00,  6.95it/s]\n",
      "Training:   2%|▎         | 1/40 [01:18<50:47, 78.14s/it]"
     ]
    },
    {
     "name": "stdout",
     "output_type": "stream",
     "text": [
      "Epoch 1/40 train_loss: 0.6567 test_loss: 0.6173 f1: 0.6921\n"
     ]
    },
    {
     "name": "stderr",
     "output_type": "stream",
     "text": [
      "Epoch 2 in training: 100%|██████████| 499/499 [01:11<00:00,  6.94it/s]\n",
      "Training:   5%|▌         | 2/40 [02:36<49:29, 78.16s/it]"
     ]
    },
    {
     "name": "stdout",
     "output_type": "stream",
     "text": [
      "Epoch 2/40 train_loss: 0.5023 test_loss: 0.4357 f1: 0.8391\n"
     ]
    },
    {
     "name": "stderr",
     "output_type": "stream",
     "text": [
      "Epoch 3 in training: 100%|██████████| 499/499 [01:12<00:00,  6.90it/s]\n",
      "Training:   8%|▊         | 3/40 [03:54<48:18, 78.34s/it]"
     ]
    },
    {
     "name": "stdout",
     "output_type": "stream",
     "text": [
      "Epoch 3/40 train_loss: 0.2978 test_loss: 0.2710 f1: 0.9302\n"
     ]
    },
    {
     "name": "stderr",
     "output_type": "stream",
     "text": [
      "Epoch 4 in training: 100%|██████████| 499/499 [01:11<00:00,  6.95it/s]\n",
      "Training:  10%|█         | 4/40 [05:12<46:56, 78.25s/it]"
     ]
    },
    {
     "name": "stdout",
     "output_type": "stream",
     "text": [
      "Epoch 4/40 train_loss: 0.1510 test_loss: 0.1072 f1: 0.9693\n"
     ]
    },
    {
     "name": "stderr",
     "output_type": "stream",
     "text": [
      "Epoch 5 in training: 100%|██████████| 499/499 [01:11<00:00,  6.95it/s]\n",
      "Training:  12%|█▎        | 5/40 [06:31<45:37, 78.21s/it]"
     ]
    },
    {
     "name": "stdout",
     "output_type": "stream",
     "text": [
      "Epoch 5/40 train_loss: 0.0915 test_loss: 0.1037 f1: 0.9674\n"
     ]
    },
    {
     "name": "stderr",
     "output_type": "stream",
     "text": [
      "Epoch 6 in training: 100%|██████████| 499/499 [01:11<00:00,  6.94it/s]\n",
      "Training:  15%|█▌        | 6/40 [07:49<44:18, 78.20s/it]"
     ]
    },
    {
     "name": "stdout",
     "output_type": "stream",
     "text": [
      "Epoch 6/40 train_loss: 0.0640 test_loss: 0.1188 f1: 0.9730\n"
     ]
    },
    {
     "name": "stderr",
     "output_type": "stream",
     "text": [
      "Epoch 7 in training: 100%|██████████| 499/499 [01:11<00:00,  6.95it/s]\n",
      "Training:  18%|█▊        | 7/40 [09:07<42:59, 78.17s/it]"
     ]
    },
    {
     "name": "stdout",
     "output_type": "stream",
     "text": [
      "Epoch 7/40 train_loss: 0.0631 test_loss: 0.0816 f1: 0.9767\n"
     ]
    },
    {
     "name": "stderr",
     "output_type": "stream",
     "text": [
      "Epoch 8 in training: 100%|██████████| 499/499 [01:11<00:00,  6.94it/s]\n",
      "Training:  20%|██        | 8/40 [10:25<41:41, 78.17s/it]"
     ]
    },
    {
     "name": "stdout",
     "output_type": "stream",
     "text": [
      "Epoch 8/40 train_loss: 0.0555 test_loss: 0.1095 f1: 0.9674\n"
     ]
    },
    {
     "name": "stderr",
     "output_type": "stream",
     "text": [
      "Epoch 9 in training: 100%|██████████| 499/499 [01:11<00:00,  6.95it/s]\n",
      "Training:  22%|██▎       | 9/40 [11:43<40:22, 78.15s/it]"
     ]
    },
    {
     "name": "stdout",
     "output_type": "stream",
     "text": [
      "Epoch 9/40 train_loss: 0.0511 test_loss: 0.0675 f1: 0.9842\n"
     ]
    },
    {
     "name": "stderr",
     "output_type": "stream",
     "text": [
      "Epoch 10 in training: 100%|██████████| 499/499 [01:11<00:00,  6.95it/s]\n",
      "Training:  25%|██▌       | 10/40 [13:01<39:04, 78.15s/it]"
     ]
    },
    {
     "name": "stdout",
     "output_type": "stream",
     "text": [
      "Epoch 10/40 train_loss: 0.0427 test_loss: 0.0623 f1: 0.9842\n"
     ]
    },
    {
     "name": "stderr",
     "output_type": "stream",
     "text": [
      "Epoch 11 in training: 100%|██████████| 499/499 [01:11<00:00,  6.93it/s]\n",
      "Training:  28%|██▊       | 11/40 [14:20<37:47, 78.19s/it]"
     ]
    },
    {
     "name": "stdout",
     "output_type": "stream",
     "text": [
      "Epoch 11/40 train_loss: 0.0413 test_loss: 0.1015 f1: 0.9786\n"
     ]
    },
    {
     "name": "stderr",
     "output_type": "stream",
     "text": [
      "Epoch 12 in training: 100%|██████████| 499/499 [01:12<00:00,  6.85it/s]\n",
      "Training:  30%|███       | 12/40 [15:39<36:41, 78.61s/it]"
     ]
    },
    {
     "name": "stdout",
     "output_type": "stream",
     "text": [
      "Epoch 12/40 train_loss: 0.0347 test_loss: 0.0504 f1: 0.9842\n"
     ]
    },
    {
     "name": "stderr",
     "output_type": "stream",
     "text": [
      "Epoch 13 in training: 100%|██████████| 499/499 [01:15<00:00,  6.62it/s]\n",
      "Training:  32%|███▎      | 13/40 [17:01<35:48, 79.56s/it]"
     ]
    },
    {
     "name": "stdout",
     "output_type": "stream",
     "text": [
      "Epoch 13/40 train_loss: 0.0306 test_loss: 0.1021 f1: 0.9823\n"
     ]
    },
    {
     "name": "stderr",
     "output_type": "stream",
     "text": [
      "Epoch 14 in training: 100%|██████████| 499/499 [01:12<00:00,  6.85it/s]\n",
      "Training:  35%|███▌      | 14/40 [18:20<34:25, 79.45s/it]"
     ]
    },
    {
     "name": "stdout",
     "output_type": "stream",
     "text": [
      "Epoch 14/40 train_loss: 0.0313 test_loss: 0.0648 f1: 0.9879\n"
     ]
    },
    {
     "name": "stderr",
     "output_type": "stream",
     "text": [
      "Epoch 15 in training: 100%|██████████| 499/499 [01:13<00:00,  6.75it/s]\n",
      "Training:  38%|███▊      | 15/40 [19:41<33:15, 79.83s/it]"
     ]
    },
    {
     "name": "stdout",
     "output_type": "stream",
     "text": [
      "Epoch 15/40 train_loss: 0.0318 test_loss: 0.0379 f1: 0.9842\n"
     ]
    },
    {
     "name": "stderr",
     "output_type": "stream",
     "text": [
      "Epoch 16 in training: 100%|██████████| 499/499 [01:13<00:00,  6.76it/s]\n",
      "Training:  40%|████      | 16/40 [21:01<31:58, 79.92s/it]"
     ]
    },
    {
     "name": "stdout",
     "output_type": "stream",
     "text": [
      "Epoch 16/40 train_loss: 0.0245 test_loss: 0.0446 f1: 0.9860\n"
     ]
    },
    {
     "name": "stderr",
     "output_type": "stream",
     "text": [
      "Epoch 17 in training: 100%|██████████| 499/499 [01:11<00:00,  6.94it/s]\n",
      "Training:  42%|████▎     | 17/40 [22:19<30:26, 79.40s/it]"
     ]
    },
    {
     "name": "stdout",
     "output_type": "stream",
     "text": [
      "Epoch 17/40 train_loss: 0.0226 test_loss: 0.0364 f1: 0.9916\n"
     ]
    },
    {
     "name": "stderr",
     "output_type": "stream",
     "text": [
      "Epoch 18 in training: 100%|██████████| 499/499 [01:11<00:00,  6.94it/s]\n",
      "Training:  45%|████▌     | 18/40 [23:37<28:59, 79.05s/it]"
     ]
    },
    {
     "name": "stdout",
     "output_type": "stream",
     "text": [
      "Epoch 18/40 train_loss: 0.0231 test_loss: 0.0594 f1: 0.9935\n"
     ]
    },
    {
     "name": "stderr",
     "output_type": "stream",
     "text": [
      "Epoch 19 in training: 100%|██████████| 499/499 [01:11<00:00,  6.94it/s]\n",
      "Training:  48%|████▊     | 19/40 [24:56<27:34, 78.81s/it]"
     ]
    },
    {
     "name": "stdout",
     "output_type": "stream",
     "text": [
      "Epoch 19/40 train_loss: 0.0255 test_loss: 0.2112 f1: 0.9823\n"
     ]
    },
    {
     "name": "stderr",
     "output_type": "stream",
     "text": [
      "Epoch 20 in training: 100%|██████████| 499/499 [01:11<00:00,  6.93it/s]\n",
      "Training:  50%|█████     | 20/40 [26:14<26:12, 78.64s/it]"
     ]
    },
    {
     "name": "stdout",
     "output_type": "stream",
     "text": [
      "Epoch 20/40 train_loss: 0.0256 test_loss: 0.0717 f1: 0.9842\n"
     ]
    },
    {
     "name": "stderr",
     "output_type": "stream",
     "text": [
      "Epoch 21 in training: 100%|██████████| 499/499 [01:12<00:00,  6.93it/s]\n",
      "Training:  50%|█████     | 20/40 [27:32<27:32, 82.63s/it]"
     ]
    },
    {
     "name": "stdout",
     "output_type": "stream",
     "text": [
      "Epoch 21/40 train_loss: 0.0119 test_loss: 0.0555 f1: 0.9823\n",
      "[!!] OVERFITTING DETECTED\n"
     ]
    },
    {
     "name": "stderr",
     "output_type": "stream",
     "text": [
      "\n"
     ]
    },
    {
     "data": {
      "image/png": "[encoded data removed]",
      "text/plain": [
       "<Figure size 640x480 with 1 Axes>"
      ]
     },
     "metadata": {},
     "output_type": "display_data"
    }
   ],
   "source": [
    "if TRAIN:\n",
    "    if TRAIN_MYPRETRAINED:\n",
    "        model.load_state_dict(torch.load(model_path))\n",
    "        y_pred, targets = get_pred_test_batch()\n",
    "        print('diagnosis', diagnosis)\n",
    "        print(criterion.__class__.__name__, criterion(y_pred, targets).item())\n",
    "        print('BinaryF1Score', BinaryF1Score().update(y_pred, targets).compute().item())\n",
    "        print('BinaryAccuracy', BinaryAccuracy().update(y_pred, targets).compute().item())\n",
    "        print('BinaryAUROC', BinaryAUROC().update(y_pred, targets).compute().item())\n",
    "        print(confusion_matrix(targets, [int(x > 0.5) for x in y_pred]))\n",
    "        print('f1_score', f1_score(targets, [int(x >= 0.5) for x in y_pred]))\n",
    "        print('balanced_accuracy_score', balanced_accuracy_score(targets, [int(x >= 0.5) for x in y_pred]))\n",
    "        print('precision_score', precision_score(targets, [int(x >= 0.5) for x in y_pred]))\n",
    "        print('recall_score', recall_score(targets, [int(x >= 0.5) for x in y_pred]))\n",
    "    \n",
    "    N_EPOCHS = 40\n",
    "    LR = 3e-4\n",
    "    bptt = 8\n",
    "    num_batches = train_data_len // bptt \n",
    "    best_test_loss = 1e10\n",
    "    best_f1 = 0\n",
    "    best_ep = 0\n",
    "    train_loss_list = [] \n",
    "    test_loss_list = []\n",
    "    f1_scores_list = []\n",
    "\n",
    "    # Training loop\n",
    "    optimizer = Adam(model.parameters(), lr=LR)\n",
    "    scheduler = ReduceLROnPlateau(optimizer, mode='min', factor=0.1, patience=5, threshold=0.0001, \n",
    "                                  threshold_mode='rel', cooldown=0, min_lr=0, eps=1e-08, verbose=False)\n",
    "    for epoch in trange(N_EPOCHS, desc=\"Training\"):\n",
    "        train_loss = 0.0\n",
    "        model.train()\n",
    "        for batch in tqdm(list(range(num_batches)), desc=f\"Epoch {epoch + 1} in training\", position=0, leave=True):\n",
    "            x, y = get_batch(train_dataset_0, train_dataset_1, bptt)\n",
    "            y_hat = model(x)\n",
    "            loss = criterion(y_hat, y)\n",
    "            train_loss += loss.detach().cpu().item()\n",
    "            optimizer.zero_grad()\n",
    "            loss.backward()\n",
    "            optimizer.step()\n",
    "        train_loss /= num_batches\n",
    "        train_loss_list.append(train_loss)\n",
    "        model.eval()\n",
    "        y_pred, targets = get_pred_all_test()\n",
    "        test_loss = criterion(y_pred, targets).detach().cpu().item()\n",
    "        test_loss_list.append(test_loss)\n",
    "        precision, recall, thresholds = precision_recall_curve(targets, y_pred.detach())\n",
    "        thres = thresholds[np.argmin(list(zip(np.abs(precision - recall))))]\n",
    "        f1 = f1_score(targets, [int(x > thres) for x in y_pred])\n",
    "        f1_scores_list.append(f1)\n",
    "        scheduler.step(test_loss)\n",
    "        print(f\"Epoch {epoch + 1}/{N_EPOCHS} train_loss: {train_loss:.4f} test_loss: {test_loss:.4f} f1: {f1:.4f}\")\n",
    "        if test_loss < best_test_loss:\n",
    "            best_test_loss = test_loss\n",
    "            best_ep = epoch\n",
    "            torch.save(model.state_dict(), model_path + '_best')\n",
    "        elif epoch - best_ep > 3:\n",
    "            print('[!!] OVERFITTING DETECTED')\n",
    "            break\n",
    "    torch.save(model.state_dict(), model_path)\n",
    "    plt.plot(train_loss_list, label='Train Loss')\n",
    "    plt.plot(test_loss_list, label='Test Loss')\n",
    "    plt.plot(f1_scores_list, label='F1 Score')\n",
    "    plt.legend(loc='best')\n",
    "    plt.show()\n",
    "else:\n",
    "    model.load_state_dict(torch.load(model_path+'_best', map_location=torch.device('cpu')),)\n",
    "    model.eval()"
   ]
  },
  {
   "cell_type": "code",
   "execution_count": 22,
   "id": "7d792343",
   "metadata": {
    "scrolled": true
   },
   "outputs": [],
   "source": [
    "# y_pred, targets = get_pred_test_batch(5)\n",
    "# print(criterion.__class__.__name__, criterion(y_pred, targets).item())\n",
    "# print('BinaryF1Score', BinaryF1Score().update(y_pred, targets).compute().item())\n",
    "# print('BinaryAccuracy', BinaryAccuracy().update(y_pred, targets).compute().item())\n",
    "# print('BinaryAUROC', BinaryAUROC().update(y_pred, targets).compute().item())\n",
    "# print(confusion_matrix(targets, [int(x > 0.5) for x in y_pred]))\n",
    "# print('f1_score', f1_score(targets, [int(x >= 0.5) for x in y_pred]))\n",
    "# print('balanced_accuracy_score', balanced_accuracy_score(targets, [int(x >= 0.5) for x in y_pred]))\n",
    "# print('precision_score', precision_score(targets, [int(x >= 0.5) for x in y_pred]))\n",
    "# print('recall_score', recall_score(targets, [int(x >= 0.5) for x in y_pred]))"
   ]
  },
  {
   "cell_type": "code",
   "execution_count": 23,
   "id": "12a5cbfb",
   "metadata": {},
   "outputs": [
    {
     "name": "stdout",
     "output_type": "stream",
     "text": [
      "model bert_347186_23h\n",
      "[[454   9]\n",
      " [ 10 528]]\n",
      "f1_score 0.9823255813953489\n",
      "balanced_accuracy_score 0.9809870972403992\n",
      "precision_score 0.9832402234636871\n",
      "recall_score 0.9814126394052045\n"
     ]
    },
    {
     "data": {
      "image/png": "[encoded data removed]",
      "text/plain": [
       "<Figure size 300x200 with 1 Axes>"
      ]
     },
     "metadata": {},
     "output_type": "display_data"
    }
   ],
   "source": [
    "y_pred, targets = get_pred_all_test()\n",
    "precision, recall, thresholds = precision_recall_curve(targets, y_pred.detach())\n",
    "\n",
    "thres = thresholds[np.argmin(list(zip(np.abs(precision - recall))))]\n",
    "print('model', model_path[model_path.rfind('/')+1:])\n",
    "print(confusion_matrix(targets, [int(x > thres) for x in y_pred]))\n",
    "print('f1_score', f1_score(targets, [int(x > thres) for x in y_pred]))\n",
    "print('balanced_accuracy_score', balanced_accuracy_score(targets, [int(x > thres) for x in y_pred]))\n",
    "print('precision_score', precision_score(targets, [int(x > thres) for x in y_pred]))\n",
    "print('recall_score', recall_score(targets, [int(x > thres) for x in y_pred]))\n",
    "\n",
    "plt.figure(figsize=(3,2))\n",
    "plt.fill_between(recall, precision)\n",
    "plt.ylabel(\"Precision\", fontsize=15)\n",
    "plt.xlabel(\"Recall\", fontsize=15)\n",
    "plt.title(\"Precision-Recall curve\", fontsize=15)\n",
    "plt.show()"
   ]
  },
  {
   "cell_type": "code",
   "execution_count": 24,
   "id": "3781ded0",
   "metadata": {
    "scrolled": true
   },
   "outputs": [
    {
     "ename": "AssertionError",
     "evalue": "",
     "output_type": "error",
     "traceback": [
      "\u001b[1;31m---------------------------------------------------------------------------\u001b[0m",
      "\u001b[1;31mAssertionError\u001b[0m                            Traceback (most recent call last)",
      "Cell \u001b[1;32mIn[24], line 1\u001b[0m\n\u001b[1;32m----> 1\u001b[0m \u001b[38;5;28;01massert\u001b[39;00m \u001b[38;5;241m1\u001b[39m \u001b[38;5;241m==\u001b[39m \u001b[38;5;241m2\u001b[39m\n",
      "\u001b[1;31mAssertionError\u001b[0m: "
     ]
    }
   ],
   "source": [
    "assert 1 == 2"
   ]
  },
  {
   "cell_type": "code",
   "execution_count": null,
   "id": "82a4058f",
   "metadata": {},
   "outputs": [],
   "source": []
  },
  {
   "cell_type": "code",
   "execution_count": null,
   "id": "89b90893",
   "metadata": {
    "scrolled": true
   },
   "outputs": [],
   "source": []
  },
  {
   "cell_type": "code",
   "execution_count": null,
   "id": "afa47a09",
   "metadata": {},
   "outputs": [],
   "source": [
    "torch.cuda.empty_cache()\n"
   ]
  },
  {
   "cell_type": "code",
   "execution_count": null,
   "id": "17274f3b",
   "metadata": {},
   "outputs": [],
   "source": []
  }
 ],
 "metadata": {
  "kernelspec": {
   "display_name": "Python 3 (ipykernel)",
   "language": "python",
   "name": "python3"
  },
  "language_info": {
   "codemirror_mode": {
    "name": "ipython",
    "version": 3
   },
   "file_extension": ".py",
   "mimetype": "text/x-python",
   "name": "python",
   "nbconvert_exporter": "python",
   "pygments_lexer": "ipython3",
   "version": "3.11.3"
  }
 },
 "nbformat": 4,
 "nbformat_minor": 5
}
