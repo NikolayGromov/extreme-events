{
 "cells": [
  {
   "cell_type": "code",
   "execution_count": 1,
   "id": "a48d068a",
   "metadata": {},
   "outputs": [],
   "source": [
    "import pyedflib\n",
    "import numpy as np\n",
    "\n",
    "import torchvision\n",
    "import torch\n",
    "from torch import nn\n",
    "import torch.nn.functional as F\n",
    "import torch.optim as optim\n",
    "from torch.optim.lr_scheduler import ReduceLROnPlateau\n",
    "\n",
    "import matplotlib.pyplot as plt\n",
    "from torch.utils.data import DataLoader\n",
    "\n",
    "from IPython.display import clear_output\n",
    "from tqdm import tqdm\n",
    "import matplotlib.ticker as ticker\n",
    "from scipy.ndimage import gaussian_filter\n",
    "%matplotlib inline"
   ]
  },
  {
   "cell_type": "code",
   "execution_count": 2,
   "id": "92babebe",
   "metadata": {},
   "outputs": [],
   "source": [
    "file_name = \"./data/chb01_03.edf\"\n",
    "f = pyedflib.EdfReader(file_name)\n",
    "n = f.signals_in_file\n",
    "signal_labels = f.getSignalLabels()\n",
    "sigbufs = np.zeros((n, f.getNSamples()[0]))\n",
    "for i in np.arange(n):\n",
    "        sigbufs[i, :] = f.readSignal(i)"
   ]
  },
  {
   "cell_type": "code",
   "execution_count": 3,
   "id": "3f89bb31",
   "metadata": {},
   "outputs": [],
   "source": [
    "sr = 256\n",
    "batch_size = 64\n",
    "preictal_time = 20 * 60 * sr\n",
    "\n",
    "siez_starts = [2996, 1467, 1732, 1015, 1720, 327, 1862]\n",
    "siez_starts = [siez_starts[i] * sr for i in range(len(siez_starts))]\n",
    "siez_ends = [3036, 1494, 1772, 1066, 1810, 420, 1963]\n",
    "siez_ends = [siez_ends[i] * sr for i in range(len(siez_ends))]\n",
    "file_names = [\"chb01_03.edf\", \"chb01_04.edf\", \"chb01_15.edf\", \"chb01_16.edf\", \"chb01_18.edf\", \"chb01_21.edf\", \"chb01_26.edf\"]"
   ]
  },
  {
   "cell_type": "code",
   "execution_count": 4,
   "id": "a98d9ae7",
   "metadata": {},
   "outputs": [],
   "source": [
    "data = sigbufs\n",
    "data = gaussian_filter(data, sigma=3, radius=5)\n",
    "lstm_train = data[:, :400000]\n",
    "lstm_test =  data[:, 400000:500000]\n",
    "\n",
    "mean = lstm_train.mean(axis=1)\n",
    "std = lstm_train.std(axis=1)\n",
    "#sigmastest = np.abs(test - mean)\n",
    "train_norm = (lstm_train - mean[..., None])/std[..., None]\n",
    "test_norm = (lstm_test - mean[..., None])/std[..., None]\n",
    "\n",
    "train_norm = torch.FloatTensor(train_norm)\n",
    "test_norm = torch.FloatTensor(test_norm)"
   ]
  },
  {
   "cell_type": "code",
   "execution_count": 5,
   "id": "c02cbe86",
   "metadata": {},
   "outputs": [],
   "source": [
    "class LSTMModel(nn.Module):\n",
    "    def __init__(self, input_size=1, hidden_layer_size=32, num_layers=2, output_size=1, dropout=0.2):\n",
    "        super().__init__()\n",
    "        self.hidden_layer_size = hidden_layer_size\n",
    "\n",
    "        self.linear_1 = nn.Linear(input_size, hidden_layer_size)\n",
    "        self.relu = nn.ReLU()\n",
    "        self.lstm = nn.LSTM(hidden_layer_size, hidden_size=self.hidden_layer_size, num_layers=num_layers, batch_first=True)\n",
    "        self.dropout = nn.Dropout(dropout)\n",
    "        self.linear_2 = nn.Linear(num_layers*hidden_layer_size, output_size)\n",
    "        \n",
    "\n",
    "    def forward(self, x):\n",
    "        batchsize = x.shape[0]\n",
    "\n",
    "        # layer 1\n",
    "        x = self.linear_1(x)\n",
    "        x = self.relu(x)\n",
    "        \n",
    "        \n",
    "        # LSTM layer\n",
    "        lstm_out, (h_n, c_n) = self.lstm(x)\n",
    "\n",
    "        # Floating\n",
    "        \n",
    "\n",
    "        x = h_n.permute(1, 0, 2).reshape(batchsize, -1) \n",
    "\n",
    "        \n",
    "        # layer 2\n",
    "        x = self.dropout(x)\n",
    "        predictions = self.linear_2(x)\n",
    "        \n",
    "        return predictions"
   ]
  },
  {
   "cell_type": "code",
   "execution_count": 6,
   "id": "08a3d563",
   "metadata": {},
   "outputs": [],
   "source": [
    "train_window = 20\n",
    "\n",
    "def create_inout_sequences(input_data, tw):\n",
    "    inout_seq = []\n",
    "    L = input_data.shape[-1]\n",
    "    for i in range(L-tw):\n",
    "        train_seq = input_data[:, i:i+tw]\n",
    "        train_label = input_data[:, i+tw:i+tw+1]\n",
    "        inout_seq.append((train_seq ,train_label))\n",
    "    return inout_seq\n",
    "\n",
    "train_inout_seq = create_inout_sequences(train_norm, train_window)\n",
    "test_inout_seq = create_inout_sequences(test_norm, train_window)"
   ]
  },
  {
   "cell_type": "code",
   "execution_count": 8,
   "id": "bb9b5b0b",
   "metadata": {},
   "outputs": [],
   "source": [
    "for i in range(10):\n",
    "    np.savetxt(\"SimulinkData/input\" + str(i), test_inout_seq[i][0].numpy())\n",
    "    np.savetxt(\"SimulinkData/output\" + str(i), test_inout_seq[i][1].numpy())    "
   ]
  },
  {
   "cell_type": "code",
   "execution_count": 8,
   "id": "cfc54eb3",
   "metadata": {},
   "outputs": [],
   "source": [
    "train_dataloader = DataLoader(train_inout_seq, batch_size=64, shuffle=True, drop_last=True)\n",
    "test_dataloader = DataLoader(test_inout_seq, batch_size=64, shuffle=False, drop_last=True)"
   ]
  },
  {
   "cell_type": "code",
   "execution_count": 9,
   "id": "89a040f7",
   "metadata": {},
   "outputs": [],
   "source": [
    "def GetRmse(model, val_dataloader, lstm_test, std, mean):\n",
    "    model.eval()\n",
    "\n",
    "    rmse = []\n",
    "    \n",
    "    lstm_predicts = []\n",
    "    for k in tqdm(range(1, 20)):\n",
    "        test_right_part = (len(lstm_test[0])- 20)%64\n",
    "        predicted_val = np.zeros((1, 23))\n",
    "        for idx, (x, y) in enumerate(val_dataloader):\n",
    "            x = x.transpose(1, 2).to('cuda')\n",
    "            cur_x = x\n",
    "            for _ in range(k):\n",
    "                out = model(cur_x.to('cuda'))\n",
    "                #print(out.shape)\n",
    "                #print(cur_x.shape)\n",
    "                cur_x = torch.hstack((cur_x[:, 1:, :], out[..., None].transpose(1, 2)))\n",
    "                #print(cur_x.shape)\n",
    "            predicted_val = np.concatenate((predicted_val, cur_x[:, -1, :].cpu().detach().numpy()))\n",
    "            \n",
    "        lstm_predicts.append(np.array(predicted_val[1:])*std[None, ...]+mean[None, ...])\n",
    "        if k == 1:\n",
    "            \n",
    "            r = ((((np.array(predicted_val)*std[None, ...]+mean[None, ...])[1:, 0] - np.array(lstm_test[0, 20:-test_right_part]))**2).mean())**0.5\n",
    "        else:\n",
    "            r = ((((np.array(predicted_val[:-k+1])*std[None, ...]+mean[None, ...])[1:, 0] - np.array(lstm_test[0, 20+k-1:-test_right_part]))**2).mean())**0.5\n",
    "        rmse.append(r)\n",
    "    return rmse, np.array(lstm_predicts)"
   ]
  },
  {
   "cell_type": "code",
   "execution_count": 10,
   "id": "033f98cf",
   "metadata": {},
   "outputs": [],
   "source": [
    "def MAPE(Y_actual,Y_Predicted):\n",
    "    mape = np.mean(np.abs((Y_actual - Y_Predicted)/Y_actual))*100\n",
    "    return mape"
   ]
  },
  {
   "cell_type": "code",
   "execution_count": 11,
   "id": "2ed202fd",
   "metadata": {},
   "outputs": [],
   "source": [
    "def run_epoch(model, optimizer, criterion, dataloader, is_training=False):\n",
    "    epoch_loss = 0\n",
    "\n",
    "    if is_training:\n",
    "        model.train()\n",
    "    else:\n",
    "        model.eval()\n",
    "\n",
    "    for idx, (x, y) in enumerate(dataloader):\n",
    "        if is_training:\n",
    "            optimizer.zero_grad()\n",
    "\n",
    "        batchsize = x.shape[0]\n",
    "        \n",
    "        \n",
    "        x = x.transpose(1, 2).to('cuda')\n",
    "        #print(\"x\", x.shape)\n",
    "        y = y[:, :, -1].to('cuda')\n",
    "\n",
    "        out = model(x)\n",
    "        #print(\"y\", y.shape)\n",
    "        #print(\"out\", out.shape)\n",
    "        loss = criterion(out.contiguous(), y.contiguous())\n",
    "\n",
    "        if is_training:\n",
    "            loss.backward()\n",
    "            optimizer.step()\n",
    "\n",
    "        epoch_loss += (loss.detach().item() / len(dataloader))\n",
    "\n",
    "\n",
    "    return epoch_loss"
   ]
  },
  {
   "cell_type": "code",
   "execution_count": 11,
   "id": "28c5e3cd",
   "metadata": {},
   "outputs": [],
   "source": [
    "# define optimizer and loss function\n",
    "\n",
    "def train(model_lstm, exp_name):\n",
    "    criterion = nn.MSELoss()\n",
    "    optimizer = optim.Adam(model_lstm.parameters(), lr=0.001, betas=(0.9, 0.999), eps=1e-9)\n",
    "    scheduler = ReduceLROnPlateau(optimizer, patience = 8, factor=0.5, min_lr=0.0001)\n",
    "    lr = 0.001\n",
    "    epochs = 175\n",
    "\n",
    "    losses_train = []\n",
    "    losses_test = []\n",
    "    best_loss = 10e9\n",
    "    # begin training\n",
    "    \n",
    "    early_stop_count = 15\n",
    "    current_es = 0\n",
    "    for epoch in range(epochs): \n",
    "        loss_train = run_epoch(model_lstm, optimizer, criterion, train_dataloader, is_training=True)\n",
    "        loss_val = run_epoch(model_lstm, optimizer, criterion, test_dataloader)\n",
    "        scheduler.step(loss_val)\n",
    "        losses_train.append(loss_train)\n",
    "        losses_test.append(loss_val)\n",
    "\n",
    "        if losses_test[-1] < best_loss:\n",
    "            current_es = 0\n",
    "            best_loss = losses_test[-1]\n",
    "            torch.save(model_lstm.state_dict(), \"./models/LSTMChildrenSeveralLeads\" + exp_name)\n",
    "        else:\n",
    "            current_es += 1\n",
    "        if current_es == early_stop_count:\n",
    "            break\n",
    "\n",
    "        clear_output(True)\n",
    "        fig = plt.figure(figsize=(10, 9))\n",
    "\n",
    "        ax_1 = fig.add_subplot(2, 1, 1)\n",
    "        ax_2 = fig.add_subplot(2, 1, 2)\n",
    "        ax_1.set_title('train')\n",
    "        ax_1.plot(losses_train)\n",
    "        ax_2.set_title('test')\n",
    "        ax_2.plot(losses_test)\n",
    "        plt.show()\n",
    "    \n",
    "        \n",
    "        print(exp_name)\n",
    "        print('Epoch[{}/{}] | loss train:{:.6f}, test:{:.6f}'\n",
    "                  .format(epoch+1, epochs, loss_train, loss_val))\n",
    "        \n",
    "    model_lstm.load_state_dict(torch.load(\"./models/LSTMChildrenSeveralLeads\" + exp_name))\n",
    "    rmse_chaos, lstm_predicts = GetRmse(model_lstm, test_dataloader, lstm_test, std, mean)\n",
    "    np.save(\"./metrics/rmse\" + exp_name, np.array(rmse_chaos))\n",
    "    \n",
    "    test_right_part = (len(lstm_test[0])- 20)%64\n",
    "    mape_sev_lead = []\n",
    "    for i in range(len(lstm_predicts)):\n",
    "\n",
    "        if i:\n",
    "            mape_sev_lead.append(MAPE(lstm_test[0, 20+i:-test_right_part], lstm_predicts[i][:-i, 0]))\n",
    "        else:\n",
    "            mape_sev_lead.append(MAPE(lstm_test[0, 20:-test_right_part], lstm_predicts[0, :,0]))\n",
    "            \n",
    "    np.save(\"./metrics/mape\" + exp_name, np.array(mape_sev_lead))"
   ]
  },
  {
   "cell_type": "code",
   "execution_count": 15,
   "id": "b1f70877",
   "metadata": {},
   "outputs": [
    {
     "data": {
      "image/png": "[encoded data removed]",
      "text/plain": [
       "<Figure size 1000x900 with 2 Axes>"
      ]
     },
     "metadata": {},
     "output_type": "display_data"
    },
    {
     "name": "stdout",
     "output_type": "stream",
     "text": [
      "_50_2_0.2\n",
      "Epoch[133/175] | loss train:0.007725, test:0.000446\n"
     ]
    },
    {
     "name": "stderr",
     "output_type": "stream",
     "text": [
      "\n",
      "  0%|                                                                                           | 0/19 [00:00<?, ?it/s]\u001b[A\n",
      "  5%|████▎                                                                              | 1/19 [00:07<02:15,  7.52s/it]\u001b[A\n",
      " 11%|████████▋                                                                          | 2/19 [00:16<02:20,  8.24s/it]\u001b[A\n",
      " 16%|█████████████                                                                      | 3/19 [00:24<02:13,  8.32s/it]\u001b[A\n",
      " 21%|█████████████████▍                                                                 | 4/19 [00:33<02:10,  8.67s/it]\u001b[A\n",
      " 26%|█████████████████████▊                                                             | 5/19 [00:43<02:06,  9.03s/it]\u001b[A\n",
      " 32%|██████████████████████████▏                                                        | 6/19 [00:53<02:03,  9.51s/it]\u001b[A\n",
      " 37%|██████████████████████████████▌                                                    | 7/19 [01:04<01:59,  9.97s/it]\u001b[A\n",
      " 42%|██████████████████████████████████▉                                                | 8/19 [01:16<01:54, 10.43s/it]\u001b[A\n",
      " 47%|███████████████████████████████████████▎                                           | 9/19 [01:28<01:49, 10.97s/it]\u001b[A\n",
      " 53%|███████████████████████████████████████████▏                                      | 10/19 [01:41<01:43, 11.50s/it]\u001b[A\n",
      " 58%|███████████████████████████████████████████████▍                                  | 11/19 [01:54<01:36, 12.06s/it]\u001b[A\n",
      " 63%|███████████████████████████████████████████████████▊                              | 12/19 [02:08<01:28, 12.64s/it]\u001b[A\n",
      " 68%|████████████████████████████████████████████████████████                          | 13/19 [02:23<01:19, 13.25s/it]\u001b[A\n",
      " 74%|████████████████████████████████████████████████████████████▍                     | 14/19 [02:38<01:09, 13.87s/it]\u001b[A\n",
      " 79%|████████████████████████████████████████████████████████████████▋                 | 15/19 [02:54<00:58, 14.52s/it]\u001b[A\n",
      " 84%|█████████████████████████████████████████████████████████████████████             | 16/19 [03:11<00:45, 15.20s/it]\u001b[A\n",
      " 89%|█████████████████████████████████████████████████████████████████████████▎        | 17/19 [03:28<00:31, 15.84s/it]\u001b[A\n",
      " 95%|█████████████████████████████████████████████████████████████████████████████▋    | 18/19 [03:46<00:16, 16.49s/it]\u001b[A\n",
      "100%|██████████████████████████████████████████████████████████████████████████████████| 19/19 [04:05<00:00, 12.91s/it]\u001b[A\n",
      "100%|████████████████████████████████████████████████████████████████████████████████| 8/8 [3:37:20<00:00, 1630.04s/it]\n"
     ]
    }
   ],
   "source": [
    "hiddens = [10, 20, 30, 40, 50]\n",
    "n_layers = [1, 2]\n",
    "dropout = [0.1, 0.2]\n",
    "\n",
    "params = [(h, l, dr) for h in hiddens for l in n_layers for dr in dropout]\n",
    "\n",
    "for n_hidden, n_layers, dropout in tqdm(params[12:]):\n",
    "    exp_name = \"_\" + str(n_hidden) + \"_\" + str(n_layers) + \"_\" + str(dropout)\n",
    "    model = LSTMModel(input_size=23, hidden_layer_size=n_hidden, num_layers=n_layers, output_size=23, dropout=dropout)\n",
    "    model = model.to('cuda')\n",
    "    train(model, exp_name)"
   ]
  },
  {
   "cell_type": "markdown",
   "id": "ca14fb53",
   "metadata": {},
   "source": [
    "### Best model"
   ]
  },
  {
   "cell_type": "code",
   "execution_count": 12,
   "id": "765896dd",
   "metadata": {},
   "outputs": [
    {
     "name": "stderr",
     "output_type": "stream",
     "text": [
      "100%|██████████████████████████████████████████████████████████████████████████████████| 19/19 [04:25<00:00, 13.95s/it]\n"
     ]
    }
   ],
   "source": [
    "n_hidden, n_layers, dropout = 30, 2, 0.1\n",
    "\n",
    "exp_name = \"_\" + str(n_hidden) + \"_\" + str(n_layers) + \"_\" + str(dropout)\n",
    "model = LSTMModel(input_size=23, hidden_layer_size=n_hidden, num_layers=n_layers, output_size=23, dropout=dropout)\n",
    "model = model.to('cuda')\n",
    "\n",
    "model.load_state_dict(torch.load(\"./models/LSTMChildrenSeveralLeads\" + exp_name))\n",
    "rmse_chaos, lstm_predicts = GetRmse(model, test_dataloader, lstm_test, std, mean)"
   ]
  },
  {
   "cell_type": "code",
   "execution_count": 13,
   "id": "08db1b75",
   "metadata": {},
   "outputs": [],
   "source": [
    "np.save(\"./predicts/\"+ exp_name, lstm_predicts)"
   ]
  }
 ],
 "metadata": {
  "kernelspec": {
   "display_name": "Python 3 (ipykernel)",
   "language": "python",
   "name": "python3"
  },
  "language_info": {
   "codemirror_mode": {
    "name": "ipython",
    "version": 3
   },
   "file_extension": ".py",
   "mimetype": "text/x-python",
   "name": "python",
   "nbconvert_exporter": "python",
   "pygments_lexer": "ipython3",
   "version": "3.10.12"
  }
 },
 "nbformat": 4,
 "nbformat_minor": 5
}
