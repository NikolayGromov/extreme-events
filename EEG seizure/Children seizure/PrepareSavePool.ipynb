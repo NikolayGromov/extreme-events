{
 "cells": [
  {
   "cell_type": "code",
   "execution_count": 1,
   "id": "bc7e3029",
   "metadata": {},
   "outputs": [],
   "source": [
    "# !pip3 install einops\n",
    "# # assert 1 == 2"
   ]
  },
  {
   "cell_type": "code",
   "execution_count": 2,
   "id": "40727094",
   "metadata": {},
   "outputs": [
    {
     "data": {
      "application/javascript": [
       "IPython.OutputArea.auto_scroll_threshold = 9999;\n"
      ],
      "text/plain": [
       "<IPython.core.display.Javascript object>"
      ]
     },
     "metadata": {},
     "output_type": "display_data"
    }
   ],
   "source": [
    "%%javascript\n",
    "IPython.OutputArea.auto_scroll_threshold = 9999;"
   ]
  },
  {
   "cell_type": "code",
   "execution_count": 3,
   "id": "56c7ac7a",
   "metadata": {},
   "outputs": [],
   "source": [
    "# https://medium.com/mlearning-ai/vision-transformers-from-scratch-pytorch-a-step-by-step-guide-96c3313c2e0c\n",
    "import os\n",
    "import pyedflib\n",
    "import numpy as np\n",
    "import pandas as pd\n",
    "import wfdb\n",
    "import ast\n",
    "import sys\n",
    "import torch\n",
    "import math\n",
    "import matplotlib.pyplot as plt\n",
    "import torch.nn as nn\n",
    "import time\n",
    "import matplotlib.cm as cm\n",
    "import pywt\n",
    "import scipy.signal\n",
    "\n",
    "from functools import reduce\n",
    "from sklearn.metrics import (\n",
    "    confusion_matrix, balanced_accuracy_score, f1_score, precision_score, recall_score, roc_auc_score, roc_curve, \n",
    "    precision_recall_curve\n",
    ")\n",
    "from sklearn.preprocessing import MinMaxScaler\n",
    "from torch.optim.lr_scheduler import ReduceLROnPlateau\n",
    "from sklearn.model_selection import train_test_split\n",
    "from torcheval.metrics import BinaryAccuracy, BinaryF1Score, BinaryAUROC, BinaryConfusionMatrix\n",
    "from prettytable import PrettyTable\n",
    "from torch.optim import Adam\n",
    "from tqdm import tqdm, trange\n",
    "from numpy import sqrt, argmax\n",
    "from einops import rearrange\n",
    "from PIL import Image\n",
    "from torch.utils.data import Dataset, DataLoader\n",
    "\n",
    "global get_attention\n",
    "global last_attention"
   ]
  },
  {
   "cell_type": "code",
   "execution_count": 4,
   "id": "80e4e62b",
   "metadata": {},
   "outputs": [],
   "source": [
    "summary = [\n",
    "    (\"chb01_03.edf\", [(2996, 3036), ]),\n",
    "    (\"chb01_04.edf\", [(1467, 1494), ]),\n",
    "    (\"chb01_15.edf\", [(1732, 1772), ]),\n",
    "    (\"chb01_16.edf\", [(1015, 1066), ]),\n",
    "    (\"chb01_18.edf\", [(1720, 1810), ]),\n",
    "    (\"chb01_21.edf\", [(327, 420), ]),\n",
    "    (\"chb01_26.edf\", [(1862, 1963), ]),\n",
    "    (\"chb02_16.edf\", [(130, 212), ]),\n",
    "    (\"chb02_16+.edf\", [(2972, 3053), ]),\n",
    "    (\"chb02_19.edf\", [(3369, 3378), ]),\n",
    "    (\"chb03_01.edf\", [(362, 414), ]),\n",
    "    (\"chb03_02.edf\", [(731, 796), ]),\n",
    "    (\"chb03_03.edf\", [(432, 501), ]),\n",
    "    (\"chb03_04.edf\", [(2162, 2214), ]),\n",
    "    (\"chb03_34.edf\", [(1982, 2029), ]),\n",
    "    (\"chb03_35.edf\", [(2592, 2656), ]),\n",
    "    (\"chb03_36.edf\", [(1725, 1778), ]),\n",
    "    (\"chb04_05.edf\", [(7804, 7853), ]), \n",
    "    (\"chb04_08.edf\", [(6446, 6557), ]), \n",
    "    (\"chb04_28.edf\", [(1679, 1781), (3782, 3898), ]),\n",
    "    (\"chb05_06.edf\", [(417, 532), ]),\n",
    "    (\"chb05_13.edf\", [(1086, 1196), ]),\n",
    "    (\"chb05_16.edf\", [(2317, 2413), ]),\n",
    "    (\"chb05_17.edf\", [(2451, 2571), ]),\n",
    "    (\"chb05_22.edf\", [(2348, 2465), ]),\n",
    "    (\"chb06_01.edf\", [(1724, 1738), (7461, 7476), (13525, 13540)]),\n",
    "    (\"chb06_04.edf\", [(327, 347), (6211, 6231), ]),\n",
    "    (\"chb06_09.edf\", [(12500, 12516), ]),\n",
    "    (\"chb06_10.edf\", [(10833, 10845), ]),\n",
    "    (\"chb06_13.edf\", [(506, 519), ]),\n",
    "    (\"chb06_18.edf\", [(7799, 7811), ]),\n",
    "    (\"chb06_24.edf\", [(9387, 9403), ]),\n",
    "    (\"chb07_12.edf\", [(4920, 5006), ]),\n",
    "    (\"chb07_13.edf\", [(3285, 3381), ]),\n",
    "    (\"chb07_19.edf\", [(13688, 13831), ]),\n",
    "    (\"chb08_02.edf\", [(2670, 2841), ]),\n",
    "    (\"chb08_05.edf\", [(2856, 3046), ]),\n",
    "    (\"chb08_11.edf\", [(2988, 3122), ]),\n",
    "    (\"chb08_13.edf\", [(2417, 2577), ]),\n",
    "    (\"chb08_21.edf\", [(2083, 2347), ]),\n",
    "    (\"chb09_06.edf\", [(12231, 12295), ]),\n",
    "    (\"chb09_08.edf\", [(2951, 3030), (9196, 9267), ]),\n",
    "    (\"chb09_19.edf\", [(5299, 5361), ]),\n",
    "    (\"chb10_12.edf\", [(6313, 6348), ]),\n",
    "    (\"chb10_20.edf\", [(6888, 6958), ]),\n",
    "    (\"chb10_27.edf\", [(2382, 2447), ]),\n",
    "    (\"chb10_30.edf\", [(3021, 3079), ]),\n",
    "    (\"chb10_31.edf\", [(3801, 3877), ]),\n",
    "    (\"chb10_38.edf\", [(4618, 4707), ]),\n",
    "    (\"chb10_89.edf\", [(1383, 1437), ]),\n",
    "    (\"chb11_82.edf\", [(298, 320), ]),\n",
    "    (\"chb11_92.edf\", [(2695, 2727), ]),\n",
    "    (\"chb11_99.edf\", [(1454, 2206), ]),\n",
    "]"
   ]
  },
  {
   "cell_type": "code",
   "execution_count": 5,
   "id": "11a5377c",
   "metadata": {},
   "outputs": [],
   "source": [
    "sr = 256\n",
    "data_directory_path = \"../DATA/chb-mit-scalp-eeg-database-1.0.0\""
   ]
  },
  {
   "cell_type": "code",
   "execution_count": 6,
   "id": "848fe221",
   "metadata": {},
   "outputs": [],
   "source": [
    "np.set_printoptions(linewidth=200)\n",
    "slice_len = sr * 60 * 10\n",
    "sample_len = slice_len // 30\n",
    "need_leads = list(range(23))"
   ]
  },
  {
   "cell_type": "code",
   "execution_count": 7,
   "id": "809eeed5",
   "metadata": {},
   "outputs": [
    {
     "data": {
      "text/plain": [
       "device(type='cuda')"
      ]
     },
     "execution_count": 7,
     "metadata": {},
     "output_type": "execute_result"
    }
   ],
   "source": [
    "device = torch.device('cuda' if torch.cuda.is_available() else 'cpu')\n",
    "device"
   ]
  },
  {
   "cell_type": "code",
   "execution_count": 8,
   "id": "19b54419",
   "metadata": {},
   "outputs": [],
   "source": [
    "def read_signal(file_name):\n",
    "    f = pyedflib.EdfReader(file_name)\n",
    "    n = f.signals_in_file\n",
    "    sigbufs = np.zeros((n, f.getNSamples()[0]))\n",
    "    for i in np.arange(n):\n",
    "        sigbufs[i, :] = f.readSignal(i)\n",
    "    return sigbufs"
   ]
  },
  {
   "cell_type": "code",
   "execution_count": null,
   "id": "b2c71c14",
   "metadata": {},
   "outputs": [],
   "source": []
  },
  {
   "cell_type": "code",
   "execution_count": 9,
   "id": "3b9b5ed9",
   "metadata": {},
   "outputs": [],
   "source": [
    "def get_dataset():\n",
    "    dataset = []\n",
    "    for (fname, ts) in tqdm(summary):\n",
    "        whole_signal = read_signal(os.path.join(data_directory_path, fname[:fname.find('_')], fname))\n",
    "        sample_start = 0\n",
    "        for (ts_st, ts_end) in ts:\n",
    "            ts_st *= sr\n",
    "            ts_end *= sr\n",
    "            if ts_st - sample_start >= slice_len:\n",
    "                dataset.append((whole_signal[:len(need_leads), sample_start:ts_end], (ts_st - sample_start, ts_end - sample_start)))\n",
    "            sample_start = ts_end + 1\n",
    "    return dataset"
   ]
  },
  {
   "cell_type": "code",
   "execution_count": 10,
   "id": "4a7c9afa",
   "metadata": {},
   "outputs": [
    {
     "name": "stderr",
     "output_type": "stream",
     "text": [
      "100%|██████████| 53/53 [03:56<00:00,  4.46s/it]\n"
     ]
    }
   ],
   "source": [
    "dataset = get_dataset()"
   ]
  },
  {
   "cell_type": "code",
   "execution_count": 11,
   "id": "103637d7",
   "metadata": {},
   "outputs": [
    {
     "name": "stdout",
     "output_type": "stream",
     "text": [
      "50\n"
     ]
    }
   ],
   "source": [
    "print(len(dataset))"
   ]
  },
  {
   "cell_type": "code",
   "execution_count": 12,
   "id": "bf7a9c7e",
   "metadata": {},
   "outputs": [],
   "source": [
    "def plot_recording(rec):\n",
    "    class_height = rec[0][0].max()\n",
    "    plt.plot(rec[0][0])\n",
    "    plt.plot([class_height if x >= rec[1][0] and x <= rec[1][1] else 0 for x in range(len(rec[0][0]))])\n",
    "    return None"
   ]
  },
  {
   "cell_type": "code",
   "execution_count": 14,
   "id": "f66004d8",
   "metadata": {},
   "outputs": [
    {
     "data": {
      "image/png": "[encoded data removed]",
      "text/plain": [
       "<Figure size 640x480 with 1 Axes>"
      ]
     },
     "metadata": {},
     "output_type": "display_data"
    }
   ],
   "source": [
    "plot_recording(dataset[6])"
   ]
  },
  {
   "cell_type": "code",
   "execution_count": 23,
   "id": "d79f221c",
   "metadata": {},
   "outputs": [
    {
     "data": {
      "text/plain": [
       "351.42830078124996"
      ]
     },
     "execution_count": 23,
     "metadata": {},
     "output_type": "execute_result"
    }
   ],
   "source": [
    "# sum([dataset[x][0].shape[1] / sr / 60 for x in range(len(dataset))]) / 10"
   ]
  },
  {
   "cell_type": "code",
   "execution_count": 40,
   "id": "0ebc1803",
   "metadata": {},
   "outputs": [],
   "source": [
    "from abc import abstractmethod\n",
    "import numpy as np\n",
    "import numpy.typing as npt\n",
    "class Filter:\n",
    "    @abstractmethod\n",
    "    def apply(self, x: float) -> float:\n",
    "        pass\n",
    "class Average(Filter):\n",
    "    def __init__(self, buffer_samples):\n",
    "        self.buffer_samples_ = buffer_samples\n",
    "        self.buffer_ = np.array([])\n",
    "    def apply(self, x):\n",
    "        if self.buffer_.size < self.buffer_samples_:\n",
    "            self.buffer_ = np.append(self.buffer_, x)\n",
    "            return x\n",
    "        else:\n",
    "            mean = np.mean(self.buffer_)\n",
    "            self.buffer_ = np.append(self.buffer_[1:], x)\n",
    "            return x - mean\n",
    "class AverageExponent(Filter):\n",
    "    def __init__(self, n):\n",
    "        self.mean_ = 0\n",
    "        self.alpha_ = 2 / (n + 1)\n",
    "    def apply(self, x):\n",
    "        mean = self.mean_\n",
    "        self.mean_ = self.alpha_ * x + (1 - self.alpha_) * mean\n",
    "        return x - mean\n",
    "class Biquad(Filter):\n",
    "    def __init__(self, freq, filter_type):\n",
    "        if filter_type == 'low_pass':\n",
    "            self.kQ_ = 0.707\n",
    "        elif filter_type == 'notch':\n",
    "            self.kQ_ = 5\n",
    "        self.z1_ = 0\n",
    "        self.z2_ = 0\n",
    "        self.freq_ = freq\n",
    "        k = np.tan(np.pi * self.freq_ / 500)\n",
    "        norm = 1 / (1 + k / self.kQ_ + k * k)\n",
    "        self.b2_ = (1 - k / self.kQ_ + k * k) * norm\n",
    "        if filter_type == 'low_pass':\n",
    "            self.a0_ = k * k * norm\n",
    "            self.a1_ = 2 * self.a0_\n",
    "            self.b1_ = 2 * (k * k - 1) * norm\n",
    "        elif filter_type == 'high_pass':\n",
    "            self.a0_ = norm\n",
    "            self.a1_ = -2 * self.a0_\n",
    "            self.b1_ = 2 * (k * k - 1) * norm\n",
    "        else:\n",
    "            self.a0_ = (1 + k * k) * norm\n",
    "            self.a1_ = 2 * (k * k - 1) * norm\n",
    "            self.b1_ = self.a1_\n",
    "    def apply(self, x):\n",
    "        y = x * self.a0_ + self.z1_\n",
    "        self.z1_ = x * self.a1_ + self.z2_ - self.b1_ * y\n",
    "        self.z2_ = x * self.a0_ - self.b2_ * y\n",
    "        return y\n",
    "def handle(x: npt.NDArray, filter: Filter) -> npt.NDArray:\n",
    "    assert len(x.shape) == 1, 'Shape len must be equal one'\n",
    "    f = np.vectorize(filter.apply)\n",
    "    return f(x)\n",
    "def transform(x):\n",
    "    x = handle(x, Biquad(50, 'notch'))\n",
    "    x = handle(x, Biquad(35, 'low_pass'))\n",
    "    x = handle(x, AverageExponent(500))\n",
    "    return x\n",
    "def signal_transform(signal):\n",
    "    signal = scipy.signal.savgol_filter(signal, window_length=slice_len // 100, polyorder=2)\n",
    "    signal = scipy.signal.resample(signal, sample_len)\n",
    "    signal = transform(signal)\n",
    "    coeffs = pywt.wavedec(signal, wavelet='db4', level=3)\n",
    "    # Отбрасывание высокочастотных компонент\n",
    "    coeffs[1:] = [np.zeros_like(coeff) for coeff in coeffs[1:]]\n",
    "    # Обратное вейвлет-преобразование\n",
    "    signal = pywt.waverec(coeffs, wavelet='db4')\n",
    "    return signal"
   ]
  },
  {
   "cell_type": "code",
   "execution_count": 41,
   "id": "f6cae61f",
   "metadata": {},
   "outputs": [],
   "source": [
    "def is_overlap(seg1, seg2):\n",
    "    return int(seg1[0] <= seg2[1] and seg2[0] <= seg1[1])\n",
    "        # Если начало первого отрезка меньше или равно концу второго\n",
    "        # и начало второго отрезка меньше или равно концу первого,\n",
    "        # значит отрезки пересекаются.\n",
    "\n",
    "def prepare_pool(size=10, test_size=0.3, is_test=1):\n",
    "    batch_x = np.zeros((size, len(need_leads), sample_len), dtype='float32')\n",
    "    batch_y = np.zeros(size, dtype='float32')\n",
    "    for i in tqdm(range(size)):\n",
    "#         index = np.random.choice(len(dataset))\n",
    "        checker = lambda x: x % (1 // test_size) == 0 if is_test else lambda x: x % (1 // test_size)\n",
    "        index = np.random.choice(list(filter(checker, list(range(len(dataset))))))\n",
    "        ts_st, ts_end = dataset[index][1]\n",
    "\n",
    "        start_rand = 0\n",
    "        rand = np.random.rand()\n",
    "        if rand > 0.5:\n",
    "#             generate True\n",
    "            start_rand += max(ts_st - 2 * slice_len, 0)\n",
    "            start_rand += int(np.random.rand() * slice_len)\n",
    "            start_rand = min(start_rand, ts_st - slice_len)\n",
    "        else:\n",
    "#             generate False\n",
    "            rand_interval = max(ts_st - 2 * slice_len, 0)\n",
    "            start_rand += int(np.random.rand() * rand_interval)\n",
    "            start_rand = min(start_rand, ts_st - slice_len)\n",
    "        assert start_rand + slice_len < len(dataset[index][0][0]), f\"{start_rand}, {len(dataset[index][0][0])}, {ts_st}, {ts_end}\"\n",
    "        batch_x[i] = [signal_transform(x) for x in dataset[index][0][:, start_rand: start_rand + slice_len]]\n",
    "        batch_y[i] = is_overlap(\n",
    "            (start_rand + slice_len, start_rand + 2 * slice_len),\n",
    "            dataset[index][1]\n",
    "        )\n",
    "    return batch_x, batch_y"
   ]
  },
  {
   "cell_type": "code",
   "execution_count": 42,
   "id": "dbbf4819",
   "metadata": {},
   "outputs": [],
   "source": [
    "# list(filter(lambda x: x % (1 // 0.25), list(range(len(dataset)))))"
   ]
  },
  {
   "cell_type": "code",
   "execution_count": 16,
   "id": "08d5fba9",
   "metadata": {
    "scrolled": true
   },
   "outputs": [
    {
     "name": "stderr",
     "output_type": "stream",
     "text": [
      "100%|██████████| 5000/5000 [8:59:29<00:00,  6.47s/it]  \n"
     ]
    }
   ],
   "source": [
    "# pool = prepare_pool(5000)"
   ]
  },
  {
   "cell_type": "code",
   "execution_count": null,
   "id": "e073cb5b",
   "metadata": {},
   "outputs": [],
   "source": [
    "# pool_1 = [pool[0][i] for i in [x[0] for x in list(filter(lambda x: x[1] == 1, list(enumerate(pool[1]))))]]\n",
    "# pool_0 = [pool[0][i] for i in [x[0] for x in list(filter(lambda x: x[1] == 0, list(enumerate(pool[1]))))]]\n",
    "\n",
    "# x_train_1, x_test_1 = train_test_split(pool_1, test_size=0.2, random_state=42)\n",
    "# x_train_0, x_test_0 = train_test_split(pool_0, test_size=0.2, random_state=42)"
   ]
  },
  {
   "cell_type": "code",
   "execution_count": 43,
   "id": "498cb9f0",
   "metadata": {},
   "outputs": [
    {
     "name": "stderr",
     "output_type": "stream",
     "text": [
      "100%|██████████| 2/2 [00:12<00:00,  6.45s/it]\n",
      "100%|██████████| 7/7 [00:44<00:00,  6.34s/it]\n"
     ]
    }
   ],
   "source": [
    "test_size = 0.25\n",
    "merged_pool_size = 350\n",
    "test_pool = prepare_pool(int(merged_pool_size * test_size), test_size, is_test=1)\n",
    "x_test_1 = [test_pool[0][i] for i in [x[0] for x in list(filter(lambda x: x[1] == 1, list(enumerate(test_pool[1]))))]]\n",
    "x_test_0 = [test_pool[0][i] for i in [x[0] for x in list(filter(lambda x: x[1] == 0, list(enumerate(test_pool[1]))))]]\n",
    "\n",
    "train_pool = prepare_pool(int(merged_pool_size * (1.0 - test_size)), (1.0 - test_size), is_test=0)\n",
    "x_train_1 = [train_pool[0][i] for i in [x[0] for x in list(filter(lambda x: x[1] == 1, list(enumerate(train_pool[1]))))]]\n",
    "x_train_0 = [train_pool[0][i] for i in [x[0] for x in list(filter(lambda x: x[1] == 0, list(enumerate(train_pool[1]))))]]\n"
   ]
  },
  {
   "cell_type": "code",
   "execution_count": 46,
   "id": "0c349d76",
   "metadata": {},
   "outputs": [
    {
     "name": "stdout",
     "output_type": "stream",
     "text": [
      "(2, 23, 5120)\n",
      "(5, 23, 5120)\n",
      "(1, 23, 5120)\n",
      "(1, 23, 5120)\n"
     ]
    }
   ],
   "source": [
    "print(np.asarray(x_train_0).shape)\n",
    "print(np.asarray(x_train_1).shape)\n",
    "print(np.asarray(x_test_0).shape)\n",
    "print(np.asarray(x_test_1).shape)"
   ]
  },
  {
   "cell_type": "code",
   "execution_count": 17,
   "id": "7ccfe01d",
   "metadata": {},
   "outputs": [],
   "source": []
  },
  {
   "cell_type": "code",
   "execution_count": 47,
   "id": "173c8321",
   "metadata": {},
   "outputs": [
    {
     "name": "stdout",
     "output_type": "stream",
     "text": [
      "saving all the data\n"
     ]
    }
   ],
   "source": [
    "print('saving all the data')\n",
    "pool_items_names = ['x_train_0', 'x_train_1', 'x_test_0', 'x_test_1']\n",
    "pool_splitted = [x_train_0, x_train_1, x_test_0, x_test_1]\n",
    "for name, data in zip(pool_items_names, pool_splitted):\n",
    "    pool_dir = os.path.join(data_directory_path, \"numpy\")\n",
    "    if not os.path.exists(pool_dir):\n",
    "        os.makedirs(pool_dir)\n",
    "    np.save(f'{pool_dir}/{name}', data)"
   ]
  },
  {
   "cell_type": "code",
   "execution_count": null,
   "id": "afa47a09",
   "metadata": {},
   "outputs": [],
   "source": []
  }
 ],
 "metadata": {
  "kernelspec": {
   "display_name": "Python 3 (ipykernel)",
   "language": "python",
   "name": "python3"
  },
  "language_info": {
   "codemirror_mode": {
    "name": "ipython",
    "version": 3
   },
   "file_extension": ".py",
   "mimetype": "text/x-python",
   "name": "python",
   "nbconvert_exporter": "python",
   "pygments_lexer": "ipython3",
   "version": "3.11.3"
  }
 },
 "nbformat": 4,
 "nbformat_minor": 5
}
