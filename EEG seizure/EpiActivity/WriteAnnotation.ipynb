{
 "cells": [
  {
   "cell_type": "code",
   "execution_count": 1,
   "id": "4c1f5592",
   "metadata": {},
   "outputs": [],
   "source": [
    "import mne\n",
    "import numpy as np\n"
   ]
  },
  {
   "cell_type": "markdown",
   "id": "23d01357-e2ba-4f5b-83cb-8ba2af23c1f9",
   "metadata": {},
   "source": [
    "Открываем запись ЭЭГ"
   ]
  },
  {
   "cell_type": "code",
   "execution_count": 2,
   "id": "8507a64d-ce28-4bdf-9bd7-03a156d96859",
   "metadata": {},
   "outputs": [
    {
     "name": "stdout",
     "output_type": "stream",
     "text": [
      "Extracting EDF parameters from /home/gromov_n/extreme-events/EEG seizure/EpiActivity/data/record0-Copy1.edf...\n",
      "EDF file detected\n",
      "Setting channel info structure...\n",
      "Creating raw.info structure...\n"
     ]
    },
    {
     "name": "stderr",
     "output_type": "stream",
     "text": [
      "/tmp/ipykernel_3974060/659960048.py:1: RuntimeWarning: Channels contain different highpass filters. Highest filter setting will be stored.\n",
      "  data = mne.io.read_raw_edf(\"data/record0-Copy1.edf\")\n"
     ]
    }
   ],
   "source": [
    "data = mne.io.read_raw_edf(\"data/record0-Copy1.edf\")\n",
    "raw_data = data.get_data()\n",
    "# you can get the metadata included in the file and a list of all channels:\n",
    "info = data.info\n",
    "channels = data.ch_names"
   ]
  },
  {
   "cell_type": "code",
   "execution_count": 15,
   "id": "b450e98d-1730-4d66-9f93-39ba1235688b",
   "metadata": {},
   "outputs": [
    {
     "data": {
      "text/html": [
       "<details open>\n",
       "    <summary><strong>General</strong></summary>\n",
       "    <table class=\"table table-hover table-striped table-sm table-responsive small\">\n",
       "        <tr>\n",
       "            <th>Measurement date</th>\n",
       "            \n",
       "            <td>January 28, 2024  21:54:45 GMT</td>\n",
       "            \n",
       "        </tr>\n",
       "        <tr>\n",
       "            <th>Experimenter</th>\n",
       "            \n",
       "            <td>Unknown</td>\n",
       "            \n",
       "        </tr>\n",
       "        <tr>\n",
       "            <th>Participant</th>\n",
       "            \n",
       "            \n",
       "            <td>79CA7028-6DBC-43A2-80C4-7D616BAD34C9</td>\n",
       "            \n",
       "            \n",
       "        </tr>\n",
       "    </table>\n",
       "    </details>\n",
       "    <details open>\n",
       "        <summary><strong>Channels</strong></summary>\n",
       "        <table class=\"table table-hover table-striped table-sm table-responsive small\">\n",
       "            <tr>\n",
       "                <th>Digitized points</th>\n",
       "                \n",
       "                <td>Not available</td>\n",
       "                \n",
       "            </tr>\n",
       "            <tr>\n",
       "                <th>Good channels</th>\n",
       "                <td>20 EEG</td>\n",
       "            </tr>\n",
       "            <tr>\n",
       "                <th>Bad channels</th>\n",
       "                <td>None</td>\n",
       "            </tr>\n",
       "            <tr>\n",
       "                <th>EOG channels</th>\n",
       "                <td>Not available</td>\n",
       "            </tr>\n",
       "            <tr>\n",
       "                <th>ECG channels</th>\n",
       "                <td>Not available</td>\n",
       "            </tr>\n",
       "        </table>\n",
       "        </details>\n",
       "        <details open>\n",
       "            <summary><strong>Data</strong></summary>\n",
       "            <table class=\"table table-hover table-striped table-sm table-responsive small\">\n",
       "                \n",
       "                <tr>\n",
       "                    <th>Sampling frequency</th>\n",
       "                    <td>199.50 Hz</td>\n",
       "                </tr>\n",
       "                \n",
       "                \n",
       "                <tr>\n",
       "                    <th>Highpass</th>\n",
       "                    <td>3.00 Hz</td>\n",
       "                </tr>\n",
       "                \n",
       "                \n",
       "                <tr>\n",
       "                    <th>Lowpass</th>\n",
       "                    <td>70.00 Hz</td>\n",
       "                </tr>\n",
       "                \n",
       "                \n",
       "                \n",
       "                \n",
       "            </table>\n",
       "            </details>"
      ],
      "text/plain": [
       "<Info | 8 non-empty values\n",
       " bads: []\n",
       " ch_names: EEG Fp1-F3, EEG Fp2-F4, EEG F3-C3, EEG F4-C4, EEG C3-P3, EEG ...\n",
       " chs: 20 EEG\n",
       " custom_ref_applied: False\n",
       " highpass: 3.0 Hz\n",
       " lowpass: 70.0 Hz\n",
       " meas_date: 2024-01-28 21:54:45 UTC\n",
       " nchan: 20\n",
       " projs: []\n",
       " sfreq: 199.5 Hz\n",
       " subject_info: 5 items (dict)\n",
       ">"
      ]
     },
     "execution_count": 15,
     "metadata": {},
     "output_type": "execute_result"
    }
   ],
   "source": [
    "info"
   ]
  },
  {
   "cell_type": "markdown",
   "id": "390cef5c-1fbc-4ec1-806a-0e0ed20ae9c1",
   "metadata": {},
   "source": [
    "Собираю аннотацию, в формате списка из трех массивов [все времена старта события в секундах, все длительности в секундах, все описания] длительности все должны быть >=0, в edf бывает -1, тут нужно переделывать в 0. Чтобы перевести в секунды, нужно просто поделить на частоту дискретизации, она хранится в переменной info: info['sfreq']"
   ]
  },
  {
   "cell_type": "code",
   "execution_count": 26,
   "id": "c75303d4-66b0-4708-bcc5-d7f2d98e0829",
   "metadata": {},
   "outputs": [
    {
     "data": {
      "text/plain": [
       "0.0"
      ]
     },
     "execution_count": 26,
     "metadata": {},
     "output_type": "execute_result"
    }
   ],
   "source": [
    "dur_max = preds_annotations[1].max()\n",
    "preds_annotations = list(preds_annotations)\n",
    "preds_annotations[1] = np.clip(preds_annotations[1], a_min=0, a_max = dur_max)\n",
    "preds_annotations[1].min()"
   ]
  },
  {
   "cell_type": "markdown",
   "id": "74cc280e-35ee-4cb1-ae68-23d4b0890211",
   "metadata": {},
   "source": [
    "Склеиваю со старой аннотацией"
   ]
  },
  {
   "cell_type": "code",
   "execution_count": 28,
   "id": "b8613557-a92b-4f5d-af00-c48629ae4d99",
   "metadata": {},
   "outputs": [],
   "source": [
    "old_annot = np.array([[data.annotations[i][\"onset\"], data.annotations[i][\"duration\"], data.annotations[i][\"description\"]] \n",
    "                      for i in range(len(data.annotations))])\n",
    "full_annot = np.concatenate([np.array(preds_annotations), old_annot.T], axis=1)\n",
    "annotations = mne.Annotations(full_annot[0], full_annot[1], full_annot[2]) # тот же формат аргументов"
   ]
  },
  {
   "cell_type": "markdown",
   "id": "c8e28793-82fa-41d3-9f86-782f9a24d012",
   "metadata": {},
   "source": [
    "Добавляю в запись"
   ]
  },
  {
   "cell_type": "code",
   "execution_count": 29,
   "id": "890c36b5-cac0-4d68-82d4-7eef29a096ab",
   "metadata": {},
   "outputs": [
    {
     "data": {
      "text/plain": [
       "<Annotations | 3948 segments: * (2953), EndPredictionTime (1), ...>"
      ]
     },
     "execution_count": 29,
     "metadata": {},
     "output_type": "execute_result"
    }
   ],
   "source": [
    "data.set_annotations(annotations)\n",
    "data.annotations"
   ]
  },
  {
   "cell_type": "code",
   "execution_count": 4,
   "id": "6d1818f4-b455-4614-87f3-44459895c9e2",
   "metadata": {},
   "outputs": [
    {
     "name": "stdout",
     "output_type": "stream",
     "text": [
      "<Info | 8 non-empty values\n",
      " bads: []\n",
      " ch_names: EEG Fp1-F3, EEG Fp2-F4, EEG F3-C3, EEG F4-C4, EEG C3-P3, EEG ...\n",
      " chs: 20 EEG\n",
      " custom_ref_applied: False\n",
      " highpass: 3.0 Hz\n",
      " lowpass: 70.0 Hz\n",
      " meas_date: 2024-01-28 21:54:45 UTC\n",
      " nchan: 20\n",
      " projs: []\n",
      " sfreq: 199.5 Hz\n",
      " subject_info: 5 items (dict)\n",
      ">\n"
     ]
    }
   ],
   "source": [
    "print(info)"
   ]
  },
  {
   "cell_type": "code",
   "execution_count": null,
   "id": "845729ef-219e-4271-809e-017191ac0186",
   "metadata": {},
   "outputs": [],
   "source": [
    "data.set"
   ]
  },
  {
   "cell_type": "markdown",
   "id": "1d3f808d-f056-4309-8e47-f192327be08b",
   "metadata": {},
   "source": [
    "Сохраняю"
   ]
  },
  {
   "cell_type": "code",
   "execution_count": 3,
   "id": "8e3d54ed-c042-4778-bf59-332218e0b12c",
   "metadata": {},
   "outputs": [
    {
     "name": "stdout",
     "output_type": "stream",
     "text": [
      "Reading 0 ... 1551204  =      0.000 ...  7775.352 secs...\n"
     ]
    },
    {
     "name": "stderr",
     "output_type": "stream",
     "text": [
      "/tmp/ipykernel_3974060/2747206715.py:1: RuntimeWarning: Data has a non-integer sampling rate of 199.50274692224406; writing to EDF format may cause a small change to sample times.\n",
      "  data.export(\"predicts/Test.edf\", overwrite=True)\n"
     ]
    }
   ],
   "source": [
    "data.export(\"predicts/Test.edf\", overwrite=True)"
   ]
  },
  {
   "cell_type": "code",
   "execution_count": 7,
   "id": "25b4f879-0a3f-4129-bb54-b4a630c5ad7d",
   "metadata": {},
   "outputs": [
    {
     "data": {
      "text/plain": [
       "[7775.3566,\n",
       " 7775.3566,\n",
       " 7775.3566,\n",
       " 7775.3566,\n",
       " 7775.3566,\n",
       " 7775.3566,\n",
       " 7775.3566,\n",
       " 7775.3566,\n",
       " 7775.3566,\n",
       " 7775.3566,\n",
       " 7775.3566,\n",
       " 7775.3566,\n",
       " 7775.3566,\n",
       " 7775.3566,\n",
       " 7775.3566,\n",
       " 7775.3566,\n",
       " 7775.3566,\n",
       " 7775.3566,\n",
       " 7775.3566,\n",
       " 7775.3566]"
      ]
     },
     "execution_count": 7,
     "metadata": {},
     "output_type": "execute_result"
    }
   ],
   "source": [
    "durs = [round(len(s) / info[\"sfreq\"], 12) for s in raw_data]\n",
    "durs"
   ]
  },
  {
   "cell_type": "code",
   "execution_count": 7,
   "id": "e2ee005f-c830-4fb6-a522-a51a1be7355a",
   "metadata": {},
   "outputs": [
    {
     "data": {
      "text/plain": [
       "(1551205,)"
      ]
     },
     "execution_count": 7,
     "metadata": {},
     "output_type": "execute_result"
    }
   ],
   "source": [
    "raw_data[-2].shape"
   ]
  }
 ],
 "metadata": {
  "kernelspec": {
   "display_name": "Python 3 (ipykernel)",
   "language": "python",
   "name": "python3"
  },
  "language_info": {
   "codemirror_mode": {
    "name": "ipython",
    "version": 3
   },
   "file_extension": ".py",
   "mimetype": "text/x-python",
   "name": "python",
   "nbconvert_exporter": "python",
   "pygments_lexer": "ipython3",
   "version": "3.10.12"
  },
  "toc": {
   "base_numbering": 1,
   "nav_menu": {},
   "number_sections": true,
   "sideBar": true,
   "skip_h1_title": false,
   "title_cell": "Table of Contents",
   "title_sidebar": "Contents",
   "toc_cell": false,
   "toc_position": {},
   "toc_section_display": true,
   "toc_window_display": false
  },
  "varInspector": {
   "cols": {
    "lenName": 16,
    "lenType": 16,
    "lenVar": 40
   },
   "kernels_config": {
    "python": {
     "delete_cmd_postfix": "",
     "delete_cmd_prefix": "del ",
     "library": "var_list.py",
     "varRefreshCmd": "print(var_dic_list())"
    },
    "r": {
     "delete_cmd_postfix": ") ",
     "delete_cmd_prefix": "rm(",
     "library": "var_list.r",
     "varRefreshCmd": "cat(var_dic_list()) "
    }
   },
   "types_to_exclude": [
    "module",
    "function",
    "builtin_function_or_method",
    "instance",
    "_Feature"
   ],
   "window_display": false
  }
 },
 "nbformat": 4,
 "nbformat_minor": 5
}
