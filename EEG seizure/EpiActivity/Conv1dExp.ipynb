{
 "cells": [
  {
   "cell_type": "code",
   "execution_count": 1,
   "id": "4c1f5592",
   "metadata": {},
   "outputs": [],
   "source": [
    "import pyedflib\n",
    "import numpy as np\n",
    "\n",
    "import torchvision\n",
    "import torch\n",
    "from torch import nn\n",
    "import torch.nn.functional as F\n",
    "import torch.optim as optim\n",
    "from torch.optim.lr_scheduler import ReduceLROnPlateau\n",
    "\n",
    "import matplotlib.pyplot as plt\n",
    "from torch.utils.data import DataLoader\n",
    "\n",
    "from IPython.display import clear_output\n",
    "from tqdm import tqdm\n",
    "import matplotlib.ticker as ticker\n",
    "\n",
    "from sklearn.metrics import precision_score , recall_score, confusion_matrix,  ConfusionMatrixDisplay\n",
    "%matplotlib inline"
   ]
  },
  {
   "cell_type": "code",
   "execution_count": 4,
   "id": "b1f47f6d",
   "metadata": {},
   "outputs": [],
   "source": [
    "file_name = \"data/record0.edf\"\n",
    "f = pyedflib.EdfReader(file_name)\n",
    "n = f.signals_in_file\n",
    "signal_labels = f.getSignalLabels()\n",
    "sigbufs = np.zeros((n, f.getNSamples()[0]))\n",
    "for i in np.arange(n):\n",
    "    sigbufs[i, :] = f.readSignal(i)"
   ]
  },
  {
   "cell_type": "code",
   "execution_count": 5,
   "id": "a02aff9b",
   "metadata": {},
   "outputs": [],
   "source": [
    "time = [1/f.samplefrequency(0) * i for i in range(len(sigbufs[0]))]\n",
    "events = f.readAnnotations()[0]  "
   ]
  },
  {
   "cell_type": "code",
   "execution_count": 2,
   "id": "bffa03c4",
   "metadata": {},
   "outputs": [],
   "source": [
    "def Labeling(time, events):\n",
    "    labels = np.zeros_like(time)\n",
    "    for event in events:\n",
    "        idx = np.array(time < event).argmin()\n",
    "        if idx - 20 < 0:\n",
    "            labels[idx:idx + 20] = 1\n",
    "        elif idx + 20 >= len(time):\n",
    "            labels[idx - 20:idx] = 1\n",
    "        else:\n",
    "            labels[idx - 20:idx + 20] = 1\n",
    "    return labels\n",
    "        "
   ]
  },
  {
   "cell_type": "code",
   "execution_count": 3,
   "id": "adc63a6a",
   "metadata": {},
   "outputs": [],
   "source": [
    "labels = np.load(\"data/labels.npy\")"
   ]
  },
  {
   "cell_type": "markdown",
   "id": "b268404b",
   "metadata": {},
   "source": [
    "Let's test 6000 - 6800 sec, using only half of record to increase balance of classess"
   ]
  },
  {
   "cell_type": "code",
   "execution_count": 10,
   "id": "c008f7d1",
   "metadata": {},
   "outputs": [],
   "source": [
    "test_idx = (np.array(time) < 6000).argmin()\n",
    "test_idx2 = (np.array(time)< 6800).argmin()\n",
    "test_x = sigbufs[:, test_idx:test_idx2]\n",
    "test_labels = labels[test_idx:test_idx2]\n",
    "\n",
    "\n",
    "train_x1 = sigbufs[:, sigbufs[0].shape[0] // 2:test_idx]\n",
    "train_x2 = sigbufs[:, test_idx2:]\n",
    "train_labels1 = labels[sigbufs[0].shape[0] // 2:test_idx]\n",
    "train_labels2 = labels[test_idx2:]"
   ]
  },
  {
   "cell_type": "markdown",
   "id": "02a90530",
   "metadata": {},
   "source": [
    "Let's test 4000 points in sample"
   ]
  },
  {
   "cell_type": "code",
   "execution_count": 15,
   "id": "0d1acd9f",
   "metadata": {},
   "outputs": [],
   "source": [
    "RECEPTIVE_FIELD = 4000\n",
    "\n",
    "def CreateSamples(x, labels, rf = RECEPTIVE_FIELD):\n",
    "    inout_seq = []\n",
    "    L = x.shape[-1]\n",
    "    for i in tqdm(range(0, L- rf, rf)):\n",
    "        train_seq = x[:, i:i+rf]\n",
    "        train_label = labels[i:i+rf]\n",
    "        inout_seq.append((train_seq ,train_label))\n",
    "    return inout_seq\n",
    "    "
   ]
  },
  {
   "cell_type": "code",
   "execution_count": 18,
   "id": "92e7bbf4",
   "metadata": {},
   "outputs": [
    {
     "name": "stderr",
     "output_type": "stream",
     "text": [
      "\n",
      "100%|██████████████████████████████████████████████████████████████████████████████████████████| 39/39 [00:00<?, ?it/s]\u001b[A\n",
      "\n",
      "100%|████████████████████████████████████████████████████████████████████████████████████████| 105/105 [00:00<?, ?it/s]\u001b[A\n",
      "\n",
      "100%|██████████████████████████████████████████████████████████████████████████████████████████| 48/48 [00:00<?, ?it/s]\u001b[A\n"
     ]
    }
   ],
   "source": [
    "test_samples = CreateSamples(test_x, test_labels)\n",
    "train_samples = CreateSamples(train_x1, train_labels1) + CreateSamples(train_x2, train_labels2)"
   ]
  },
  {
   "cell_type": "code",
   "execution_count": 19,
   "id": "4a202e9f",
   "metadata": {},
   "outputs": [],
   "source": [
    "train_dataloader = DataLoader(train_samples, batch_size=15, shuffle=True, drop_last=True)\n",
    "test_dataloader = DataLoader(test_samples, batch_size=13, shuffle=False, drop_last=True)"
   ]
  },
  {
   "cell_type": "code",
   "execution_count": 24,
   "id": "d27af902",
   "metadata": {},
   "outputs": [
    {
     "name": "stdout",
     "output_type": "stream",
     "text": [
      "torch.Size([15, 20, 4000])\n",
      "torch.Size([15, 1, 4000])\n"
     ]
    }
   ],
   "source": [
    "for idx, (x, y) in enumerate(train_dataloader):\n",
    "    print(x.shape)\n",
    "    print(y[:, None, :].shape)    \n",
    "    break"
   ]
  },
  {
   "cell_type": "code",
   "execution_count": 66,
   "id": "ab68478f",
   "metadata": {
    "code_folding": [
     0,
     15,
     37,
     53
    ]
   },
   "outputs": [],
   "source": [
    "class conbr_block(nn.Module):\n",
    "    def __init__(self, in_layer, out_layer, kernel_size, stride, dilation):\n",
    "        super(conbr_block, self).__init__()\n",
    "\n",
    "        self.conv1 = nn.Conv1d(in_layer, out_layer, kernel_size=kernel_size, stride=stride, dilation = dilation, padding = 3, bias=True)\n",
    "        self.bn = nn.BatchNorm1d(out_layer)\n",
    "        self.relu = nn.ReLU()\n",
    "    \n",
    "    def forward(self,x):\n",
    "        x = self.conv1(x)\n",
    "        x = self.bn(x)\n",
    "        out = self.relu(x)\n",
    "        \n",
    "        return out       \n",
    "\n",
    "class se_block(nn.Module):\n",
    "    def __init__(self,in_layer, out_layer):\n",
    "        super(se_block, self).__init__()\n",
    "        \n",
    "        self.conv1 = nn.Conv1d(in_layer, out_layer//8, kernel_size=1, padding=0)\n",
    "        self.conv2 = nn.Conv1d(out_layer//8, in_layer, kernel_size=1, padding=0)\n",
    "        self.fc = nn.Linear(1,out_layer//8)\n",
    "        self.fc2 = nn.Linear(out_layer//8,out_layer)\n",
    "        self.relu = nn.ReLU()\n",
    "        self.sigmoid = nn.Sigmoid()\n",
    "    \n",
    "    def forward(self,x):\n",
    "\n",
    "        x_se = nn.functional.adaptive_avg_pool1d(x,1)\n",
    "        x_se = self.conv1(x_se)\n",
    "        x_se = self.relu(x_se)\n",
    "        x_se = self.conv2(x_se)\n",
    "        x_se = self.sigmoid(x_se)\n",
    "        \n",
    "        x_out = torch.add(x, x_se)\n",
    "        return x_out\n",
    "\n",
    "class re_block(nn.Module):\n",
    "    def __init__(self, in_layer, out_layer, kernel_size, dilation):\n",
    "        super(re_block, self).__init__()\n",
    "        \n",
    "        self.cbr1 = conbr_block(in_layer,out_layer, kernel_size, 1, dilation)\n",
    "        self.cbr2 = conbr_block(out_layer,out_layer, kernel_size, 1, dilation)\n",
    "        self.seblock = se_block(out_layer, out_layer)\n",
    "    \n",
    "    def forward(self,x):\n",
    "\n",
    "        x_re = self.cbr1(x)\n",
    "        x_re = self.cbr2(x_re)\n",
    "        x_re = self.seblock(x_re)\n",
    "        x_out = torch.add(x, x_re)\n",
    "        return x_out          \n",
    "\n",
    "class UNET_1D(nn.Module):\n",
    "    def __init__(self ,input_dim,layer_n,kernel_size,depth):\n",
    "        super(UNET_1D, self).__init__()\n",
    "        self.input_dim = input_dim\n",
    "        self.layer_n = layer_n\n",
    "        self.kernel_size = kernel_size\n",
    "        self.depth = depth\n",
    "        \n",
    "        self.AvgPool1D1 = nn.AvgPool1d(input_dim, stride=5, padding=8)\n",
    "        self.AvgPool1D2 = nn.AvgPool1d(input_dim, stride=25, padding=8)\n",
    "        self.AvgPool1D3 = nn.AvgPool1d(input_dim, stride=125, padding=8)\n",
    "        \n",
    "        self.layer1 = self.down_layer(self.input_dim, self.layer_n, self.kernel_size,1, 2)\n",
    "        self.layer2 = self.down_layer(self.layer_n, int(self.layer_n*2), self.kernel_size,5, 2)\n",
    "        self.layer3 = self.down_layer(int(self.layer_n*2)+int(self.input_dim), int(self.layer_n*3), self.kernel_size,5, 2)\n",
    "        self.layer4 = self.down_layer(int(self.layer_n*3)+int(self.input_dim), int(self.layer_n*4), self.kernel_size,5, 2)\n",
    "        self.layer5 = self.down_layer(int(self.layer_n*4)+int(self.input_dim), int(self.layer_n*5), self.kernel_size,4, 2)\n",
    "\n",
    "        self.cbr_up1 = conbr_block(int(self.layer_n*7), int(self.layer_n*3), self.kernel_size, 1, 1)\n",
    "        self.cbr_up2 = conbr_block(int(self.layer_n*5), int(self.layer_n*2), self.kernel_size, 1, 1)\n",
    "        self.cbr_up3 = conbr_block(int(self.layer_n*3), self.layer_n, self.kernel_size, 1, 1)\n",
    "        self.upsample = nn.Upsample(scale_factor=5, mode='nearest')\n",
    "        self.upsample1 = nn.Upsample(scale_factor=5, mode='nearest')\n",
    "        \n",
    "        self.outcov = nn.Conv1d(self.layer_n, 2, kernel_size=self.kernel_size, stride=1,padding = 3)\n",
    "    \n",
    "        \n",
    "    def down_layer(self, input_layer, out_layer, kernel, stride, depth):\n",
    "        block = []\n",
    "        block.append(conbr_block(input_layer, out_layer, kernel, stride, 1))\n",
    "        for i in range(depth):\n",
    "            block.append(re_block(out_layer,out_layer,kernel,1))\n",
    "        return nn.Sequential(*block)\n",
    "            \n",
    "    def forward(self, x):\n",
    "        \n",
    "        pool_x1 = self.AvgPool1D1(x)\n",
    "        pool_x2 = self.AvgPool1D2(x)\n",
    "        pool_x3 = self.AvgPool1D3(x)\n",
    "        \n",
    "        #############Encoder#####################\n",
    "        \n",
    "        out_0 = self.layer1(x)\n",
    "        out_1 = self.layer2(out_0)        \n",
    "        \n",
    "        \n",
    "        x = torch.cat([out_1,pool_x1],1)\n",
    "        out_2 = self.layer3(x)\n",
    "        \n",
    "        x = torch.cat([out_2,pool_x2],1)\n",
    "        x = self.layer4(x)\n",
    "        \n",
    "        #############Decoder####################\n",
    "        \n",
    "        up = self.upsample1(x)\n",
    "        up = torch.cat([up,out_2],1)\n",
    "        up = self.cbr_up1(up)\n",
    "        \n",
    "        up = self.upsample(up)\n",
    "        up = torch.cat([up,out_1],1)\n",
    "        up = self.cbr_up2(up)\n",
    "        \n",
    "        up = self.upsample(up)\n",
    "        up = torch.cat([up,out_0],1)\n",
    "        up = self.cbr_up3(up)\n",
    "        \n",
    "        out = self.outcov(up)\n",
    "        \n",
    "        #out = nn.functional.softmax(out,dim=2)\n",
    "        \n",
    "        return out"
   ]
  },
  {
   "cell_type": "code",
   "execution_count": 63,
   "id": "4e0617f9",
   "metadata": {},
   "outputs": [
    {
     "name": "stdout",
     "output_type": "stream",
     "text": [
      "out_1  torch.Size([8, 256, 800])\n",
      "pool_x1  torch.Size([8, 20, 800])\n",
      "pool_x2  torch.Size([8, 20, 160])\n",
      "pool_x3  torch.Size([8, 20, 32])\n"
     ]
    },
    {
     "data": {
      "text/plain": [
       "torch.Size([8, 2, 4000])"
      ]
     },
     "execution_count": 63,
     "metadata": {},
     "output_type": "execute_result"
    }
   ],
   "source": [
    "### check\n",
    "model_check = UNET_1D(20,128,7,3)\n",
    "out = model_check(torch.zeros((8, 20, 4000)))\n",
    "out.size()"
   ]
  },
  {
   "cell_type": "code",
   "execution_count": 50,
   "id": "2d617170",
   "metadata": {},
   "outputs": [
    {
     "name": "stdout",
     "output_type": "stream",
     "text": [
      "out_1  torch.Size([8, 256, 800])\n",
      "pool_x1  torch.Size([8, 5, 800])\n",
      "pool_x2  torch.Size([8, 5, 160])\n",
      "pool_x3  torch.Size([8, 5, 32])\n"
     ]
    },
    {
     "data": {
      "text/plain": [
       "torch.Size([8, 2, 4000])"
      ]
     },
     "execution_count": 50,
     "metadata": {},
     "output_type": "execute_result"
    }
   ],
   "source": [
    "### check\n",
    "model_check = UNET_1D(5,128,7,3)\n",
    "out = model_check(torch.zeros((8, 5, 4000)))\n",
    "out.size()"
   ]
  },
  {
   "cell_type": "code",
   "execution_count": 158,
   "id": "4d0066cf",
   "metadata": {},
   "outputs": [],
   "source": [
    "model = UNET_1D(20,128,7,3) #(input_dim, hidden_layer, kernel_size, depth)\n",
    "model = model.to(\"cuda\")"
   ]
  },
  {
   "cell_type": "code",
   "execution_count": 159,
   "id": "aacac38c",
   "metadata": {},
   "outputs": [],
   "source": [
    "def run_epoch(model, optimizer, criterion, dataloader, is_training=False):\n",
    "    epoch_loss = 0\n",
    "\n",
    "    if is_training:\n",
    "        model.train()\n",
    "    else:\n",
    "        model.eval()\n",
    "\n",
    "    for idx, (x, y) in tqdm(enumerate(dataloader)):\n",
    "        if is_training:\n",
    "            optimizer.zero_grad()\n",
    "\n",
    "        batchsize = x.shape[0]\n",
    "        \n",
    "        \n",
    "        x = x.float().to('cuda')\n",
    "        #print(\"x\", x.shape)\n",
    "        \n",
    "        new_y = torch.zeros(y.size()[0], 2, y.size()[1])\n",
    "        for i in range(y.size()[0]):\n",
    "            new_y[i] = (torch.arange(2) == y[i].long()[:,None]).T\n",
    "        new_y = new_y.float().to('cuda')\n",
    "\n",
    "        out = model(x)\n",
    "        #print(\"y\", y.shape)\n",
    "        #print(\"out\", out.shape)\n",
    "        loss = criterion(out, new_y)\n",
    "\n",
    "        if is_training:\n",
    "            loss.backward()\n",
    "            optimizer.step()\n",
    "\n",
    "        epoch_loss += (loss.detach().item() / len(dataloader))\n",
    "\n",
    "\n",
    "    return epoch_loss"
   ]
  },
  {
   "cell_type": "code",
   "execution_count": 160,
   "id": "70e02e8e",
   "metadata": {},
   "outputs": [
    {
     "ename": "KeyboardInterrupt",
     "evalue": "",
     "output_type": "error",
     "traceback": [
      "\u001b[1;31m---------------------------------------------------------------------------\u001b[0m",
      "\u001b[1;31mKeyboardInterrupt\u001b[0m                         Traceback (most recent call last)",
      "Cell \u001b[1;32mIn[160], line 43\u001b[0m\n\u001b[0;32m     41\u001b[0m ax_2\u001b[38;5;241m.\u001b[39mset_title(\u001b[38;5;124m'\u001b[39m\u001b[38;5;124mtest\u001b[39m\u001b[38;5;124m'\u001b[39m)\n\u001b[0;32m     42\u001b[0m ax_2\u001b[38;5;241m.\u001b[39mplot(losses_test)\n\u001b[1;32m---> 43\u001b[0m plt\u001b[38;5;241m.\u001b[39mshow()\n\u001b[0;32m     46\u001b[0m \u001b[38;5;28mprint\u001b[39m(\u001b[38;5;124m'\u001b[39m\u001b[38;5;124mEpoch[\u001b[39m\u001b[38;5;132;01m{}\u001b[39;00m\u001b[38;5;124m/\u001b[39m\u001b[38;5;132;01m{}\u001b[39;00m\u001b[38;5;124m] | loss train:\u001b[39m\u001b[38;5;132;01m{:.6f}\u001b[39;00m\u001b[38;5;124m, test:\u001b[39m\u001b[38;5;132;01m{:.6f}\u001b[39;00m\u001b[38;5;124m'\u001b[39m\n\u001b[0;32m     47\u001b[0m           \u001b[38;5;241m.\u001b[39mformat(epoch\u001b[38;5;241m+\u001b[39m\u001b[38;5;241m1\u001b[39m, epochs, loss_train, loss_val))\n",
      "File \u001b[1;32mD:\\Miniconda3\\envs\\ee\\Lib\\site-packages\\matplotlib\\pyplot.py:446\u001b[0m, in \u001b[0;36mshow\u001b[1;34m(*args, **kwargs)\u001b[0m\n\u001b[0;32m    402\u001b[0m \u001b[38;5;124;03m\"\"\"\u001b[39;00m\n\u001b[0;32m    403\u001b[0m \u001b[38;5;124;03mDisplay all open figures.\u001b[39;00m\n\u001b[0;32m    404\u001b[0m \n\u001b[1;32m   (...)\u001b[0m\n\u001b[0;32m    443\u001b[0m \u001b[38;5;124;03mexplicitly there.\u001b[39;00m\n\u001b[0;32m    444\u001b[0m \u001b[38;5;124;03m\"\"\"\u001b[39;00m\n\u001b[0;32m    445\u001b[0m _warn_if_gui_out_of_main_thread()\n\u001b[1;32m--> 446\u001b[0m \u001b[38;5;28;01mreturn\u001b[39;00m _get_backend_mod()\u001b[38;5;241m.\u001b[39mshow(\u001b[38;5;241m*\u001b[39margs, \u001b[38;5;241m*\u001b[39m\u001b[38;5;241m*\u001b[39mkwargs)\n",
      "File \u001b[1;32mD:\\Miniconda3\\envs\\ee\\Lib\\site-packages\\matplotlib_inline\\backend_inline.py:90\u001b[0m, in \u001b[0;36mshow\u001b[1;34m(close, block)\u001b[0m\n\u001b[0;32m     88\u001b[0m \u001b[38;5;28;01mtry\u001b[39;00m:\n\u001b[0;32m     89\u001b[0m     \u001b[38;5;28;01mfor\u001b[39;00m figure_manager \u001b[38;5;129;01min\u001b[39;00m Gcf\u001b[38;5;241m.\u001b[39mget_all_fig_managers():\n\u001b[1;32m---> 90\u001b[0m         display(\n\u001b[0;32m     91\u001b[0m             figure_manager\u001b[38;5;241m.\u001b[39mcanvas\u001b[38;5;241m.\u001b[39mfigure,\n\u001b[0;32m     92\u001b[0m             metadata\u001b[38;5;241m=\u001b[39m_fetch_figure_metadata(figure_manager\u001b[38;5;241m.\u001b[39mcanvas\u001b[38;5;241m.\u001b[39mfigure)\n\u001b[0;32m     93\u001b[0m         )\n\u001b[0;32m     94\u001b[0m \u001b[38;5;28;01mfinally\u001b[39;00m:\n\u001b[0;32m     95\u001b[0m     show\u001b[38;5;241m.\u001b[39m_to_draw \u001b[38;5;241m=\u001b[39m []\n",
      "File \u001b[1;32mD:\\Miniconda3\\envs\\ee\\Lib\\site-packages\\IPython\\core\\display_functions.py:298\u001b[0m, in \u001b[0;36mdisplay\u001b[1;34m(include, exclude, metadata, transient, display_id, raw, clear, *objs, **kwargs)\u001b[0m\n\u001b[0;32m    296\u001b[0m     publish_display_data(data\u001b[38;5;241m=\u001b[39mobj, metadata\u001b[38;5;241m=\u001b[39mmetadata, \u001b[38;5;241m*\u001b[39m\u001b[38;5;241m*\u001b[39mkwargs)\n\u001b[0;32m    297\u001b[0m \u001b[38;5;28;01melse\u001b[39;00m:\n\u001b[1;32m--> 298\u001b[0m     format_dict, md_dict \u001b[38;5;241m=\u001b[39m \u001b[38;5;28mformat\u001b[39m(obj, include\u001b[38;5;241m=\u001b[39minclude, exclude\u001b[38;5;241m=\u001b[39mexclude)\n\u001b[0;32m    299\u001b[0m     \u001b[38;5;28;01mif\u001b[39;00m \u001b[38;5;129;01mnot\u001b[39;00m format_dict:\n\u001b[0;32m    300\u001b[0m         \u001b[38;5;66;03m# nothing to display (e.g. _ipython_display_ took over)\u001b[39;00m\n\u001b[0;32m    301\u001b[0m         \u001b[38;5;28;01mcontinue\u001b[39;00m\n",
      "File \u001b[1;32mD:\\Miniconda3\\envs\\ee\\Lib\\site-packages\\IPython\\core\\formatters.py:179\u001b[0m, in \u001b[0;36mDisplayFormatter.format\u001b[1;34m(self, obj, include, exclude)\u001b[0m\n\u001b[0;32m    177\u001b[0m md \u001b[38;5;241m=\u001b[39m \u001b[38;5;28;01mNone\u001b[39;00m\n\u001b[0;32m    178\u001b[0m \u001b[38;5;28;01mtry\u001b[39;00m:\n\u001b[1;32m--> 179\u001b[0m     data \u001b[38;5;241m=\u001b[39m formatter(obj)\n\u001b[0;32m    180\u001b[0m \u001b[38;5;28;01mexcept\u001b[39;00m:\n\u001b[0;32m    181\u001b[0m     \u001b[38;5;66;03m# FIXME: log the exception\u001b[39;00m\n\u001b[0;32m    182\u001b[0m     \u001b[38;5;28;01mraise\u001b[39;00m\n",
      "File \u001b[1;32mD:\\Miniconda3\\envs\\ee\\Lib\\site-packages\\decorator.py:232\u001b[0m, in \u001b[0;36mdecorate.<locals>.fun\u001b[1;34m(*args, **kw)\u001b[0m\n\u001b[0;32m    230\u001b[0m \u001b[38;5;28;01mif\u001b[39;00m \u001b[38;5;129;01mnot\u001b[39;00m kwsyntax:\n\u001b[0;32m    231\u001b[0m     args, kw \u001b[38;5;241m=\u001b[39m fix(args, kw, sig)\n\u001b[1;32m--> 232\u001b[0m \u001b[38;5;28;01mreturn\u001b[39;00m caller(func, \u001b[38;5;241m*\u001b[39m(extras \u001b[38;5;241m+\u001b[39m args), \u001b[38;5;241m*\u001b[39m\u001b[38;5;241m*\u001b[39mkw)\n",
      "File \u001b[1;32mD:\\Miniconda3\\envs\\ee\\Lib\\site-packages\\IPython\\core\\formatters.py:223\u001b[0m, in \u001b[0;36mcatch_format_error\u001b[1;34m(method, self, *args, **kwargs)\u001b[0m\n\u001b[0;32m    221\u001b[0m \u001b[38;5;124;03m\"\"\"show traceback on failed format call\"\"\"\u001b[39;00m\n\u001b[0;32m    222\u001b[0m \u001b[38;5;28;01mtry\u001b[39;00m:\n\u001b[1;32m--> 223\u001b[0m     r \u001b[38;5;241m=\u001b[39m method(\u001b[38;5;28mself\u001b[39m, \u001b[38;5;241m*\u001b[39margs, \u001b[38;5;241m*\u001b[39m\u001b[38;5;241m*\u001b[39mkwargs)\n\u001b[0;32m    224\u001b[0m \u001b[38;5;28;01mexcept\u001b[39;00m \u001b[38;5;167;01mNotImplementedError\u001b[39;00m:\n\u001b[0;32m    225\u001b[0m     \u001b[38;5;66;03m# don't warn on NotImplementedErrors\u001b[39;00m\n\u001b[0;32m    226\u001b[0m     \u001b[38;5;28;01mreturn\u001b[39;00m \u001b[38;5;28mself\u001b[39m\u001b[38;5;241m.\u001b[39m_check_return(\u001b[38;5;28;01mNone\u001b[39;00m, args[\u001b[38;5;241m0\u001b[39m])\n",
      "File \u001b[1;32mD:\\Miniconda3\\envs\\ee\\Lib\\site-packages\\IPython\\core\\formatters.py:340\u001b[0m, in \u001b[0;36mBaseFormatter.__call__\u001b[1;34m(self, obj)\u001b[0m\n\u001b[0;32m    338\u001b[0m     \u001b[38;5;28;01mpass\u001b[39;00m\n\u001b[0;32m    339\u001b[0m \u001b[38;5;28;01melse\u001b[39;00m:\n\u001b[1;32m--> 340\u001b[0m     \u001b[38;5;28;01mreturn\u001b[39;00m printer(obj)\n\u001b[0;32m    341\u001b[0m \u001b[38;5;66;03m# Finally look for special method names\u001b[39;00m\n\u001b[0;32m    342\u001b[0m method \u001b[38;5;241m=\u001b[39m get_real_method(obj, \u001b[38;5;28mself\u001b[39m\u001b[38;5;241m.\u001b[39mprint_method)\n",
      "File \u001b[1;32mD:\\Miniconda3\\envs\\ee\\Lib\\site-packages\\IPython\\core\\pylabtools.py:152\u001b[0m, in \u001b[0;36mprint_figure\u001b[1;34m(fig, fmt, bbox_inches, base64, **kwargs)\u001b[0m\n\u001b[0;32m    149\u001b[0m     \u001b[38;5;28;01mfrom\u001b[39;00m \u001b[38;5;21;01mmatplotlib\u001b[39;00m\u001b[38;5;21;01m.\u001b[39;00m\u001b[38;5;21;01mbackend_bases\u001b[39;00m \u001b[38;5;28;01mimport\u001b[39;00m FigureCanvasBase\n\u001b[0;32m    150\u001b[0m     FigureCanvasBase(fig)\n\u001b[1;32m--> 152\u001b[0m fig\u001b[38;5;241m.\u001b[39mcanvas\u001b[38;5;241m.\u001b[39mprint_figure(bytes_io, \u001b[38;5;241m*\u001b[39m\u001b[38;5;241m*\u001b[39mkw)\n\u001b[0;32m    153\u001b[0m data \u001b[38;5;241m=\u001b[39m bytes_io\u001b[38;5;241m.\u001b[39mgetvalue()\n\u001b[0;32m    154\u001b[0m \u001b[38;5;28;01mif\u001b[39;00m fmt \u001b[38;5;241m==\u001b[39m \u001b[38;5;124m'\u001b[39m\u001b[38;5;124msvg\u001b[39m\u001b[38;5;124m'\u001b[39m:\n",
      "File \u001b[1;32mD:\\Miniconda3\\envs\\ee\\Lib\\site-packages\\matplotlib\\backend_bases.py:2346\u001b[0m, in \u001b[0;36mFigureCanvasBase.print_figure\u001b[1;34m(self, filename, dpi, facecolor, edgecolor, orientation, format, bbox_inches, pad_inches, bbox_extra_artists, backend, **kwargs)\u001b[0m\n\u001b[0;32m   2344\u001b[0m \u001b[38;5;28;01mif\u001b[39;00m bbox_inches:\n\u001b[0;32m   2345\u001b[0m     \u001b[38;5;28;01mif\u001b[39;00m bbox_inches \u001b[38;5;241m==\u001b[39m \u001b[38;5;124m\"\u001b[39m\u001b[38;5;124mtight\u001b[39m\u001b[38;5;124m\"\u001b[39m:\n\u001b[1;32m-> 2346\u001b[0m         bbox_inches \u001b[38;5;241m=\u001b[39m \u001b[38;5;28mself\u001b[39m\u001b[38;5;241m.\u001b[39mfigure\u001b[38;5;241m.\u001b[39mget_tightbbox(\n\u001b[0;32m   2347\u001b[0m             renderer, bbox_extra_artists\u001b[38;5;241m=\u001b[39mbbox_extra_artists)\n\u001b[0;32m   2348\u001b[0m         \u001b[38;5;28;01mif\u001b[39;00m pad_inches \u001b[38;5;129;01mis\u001b[39;00m \u001b[38;5;28;01mNone\u001b[39;00m:\n\u001b[0;32m   2349\u001b[0m             pad_inches \u001b[38;5;241m=\u001b[39m rcParams[\u001b[38;5;124m'\u001b[39m\u001b[38;5;124msavefig.pad_inches\u001b[39m\u001b[38;5;124m'\u001b[39m]\n",
      "File \u001b[1;32mD:\\Miniconda3\\envs\\ee\\Lib\\site-packages\\matplotlib\\figure.py:1753\u001b[0m, in \u001b[0;36mFigureBase.get_tightbbox\u001b[1;34m(self, renderer, bbox_extra_artists)\u001b[0m\n\u001b[0;32m   1749\u001b[0m \u001b[38;5;28;01mif\u001b[39;00m ax\u001b[38;5;241m.\u001b[39mget_visible():\n\u001b[0;32m   1750\u001b[0m     \u001b[38;5;66;03m# some axes don't take the bbox_extra_artists kwarg so we\u001b[39;00m\n\u001b[0;32m   1751\u001b[0m     \u001b[38;5;66;03m# need this conditional....\u001b[39;00m\n\u001b[0;32m   1752\u001b[0m     \u001b[38;5;28;01mtry\u001b[39;00m:\n\u001b[1;32m-> 1753\u001b[0m         bbox \u001b[38;5;241m=\u001b[39m ax\u001b[38;5;241m.\u001b[39mget_tightbbox(\n\u001b[0;32m   1754\u001b[0m             renderer, bbox_extra_artists\u001b[38;5;241m=\u001b[39mbbox_extra_artists)\n\u001b[0;32m   1755\u001b[0m     \u001b[38;5;28;01mexcept\u001b[39;00m \u001b[38;5;167;01mTypeError\u001b[39;00m:\n\u001b[0;32m   1756\u001b[0m         bbox \u001b[38;5;241m=\u001b[39m ax\u001b[38;5;241m.\u001b[39mget_tightbbox(renderer)\n",
      "File \u001b[1;32mD:\\Miniconda3\\envs\\ee\\Lib\\site-packages\\matplotlib\\axes\\_base.py:4385\u001b[0m, in \u001b[0;36m_AxesBase.get_tightbbox\u001b[1;34m(self, renderer, call_axes_locator, bbox_extra_artists, for_layout_only)\u001b[0m\n\u001b[0;32m   4383\u001b[0m \u001b[38;5;28;01mfor\u001b[39;00m axis \u001b[38;5;129;01min\u001b[39;00m \u001b[38;5;28mself\u001b[39m\u001b[38;5;241m.\u001b[39m_axis_map\u001b[38;5;241m.\u001b[39mvalues():\n\u001b[0;32m   4384\u001b[0m     \u001b[38;5;28;01mif\u001b[39;00m \u001b[38;5;28mself\u001b[39m\u001b[38;5;241m.\u001b[39maxison \u001b[38;5;129;01mand\u001b[39;00m axis\u001b[38;5;241m.\u001b[39mget_visible():\n\u001b[1;32m-> 4385\u001b[0m         ba \u001b[38;5;241m=\u001b[39m martist\u001b[38;5;241m.\u001b[39m_get_tightbbox_for_layout_only(axis, renderer)\n\u001b[0;32m   4386\u001b[0m         \u001b[38;5;28;01mif\u001b[39;00m ba:\n\u001b[0;32m   4387\u001b[0m             bb\u001b[38;5;241m.\u001b[39mappend(ba)\n",
      "File \u001b[1;32mD:\\Miniconda3\\envs\\ee\\Lib\\site-packages\\matplotlib\\artist.py:1415\u001b[0m, in \u001b[0;36m_get_tightbbox_for_layout_only\u001b[1;34m(obj, *args, **kwargs)\u001b[0m\n\u001b[0;32m   1409\u001b[0m \u001b[38;5;124;03m\"\"\"\u001b[39;00m\n\u001b[0;32m   1410\u001b[0m \u001b[38;5;124;03mMatplotlib's `.Axes.get_tightbbox` and `.Axis.get_tightbbox` support a\u001b[39;00m\n\u001b[0;32m   1411\u001b[0m \u001b[38;5;124;03m*for_layout_only* kwarg; this helper tries to use the kwarg but skips it\u001b[39;00m\n\u001b[0;32m   1412\u001b[0m \u001b[38;5;124;03mwhen encountering third-party subclasses that do not support it.\u001b[39;00m\n\u001b[0;32m   1413\u001b[0m \u001b[38;5;124;03m\"\"\"\u001b[39;00m\n\u001b[0;32m   1414\u001b[0m \u001b[38;5;28;01mtry\u001b[39;00m:\n\u001b[1;32m-> 1415\u001b[0m     \u001b[38;5;28;01mreturn\u001b[39;00m obj\u001b[38;5;241m.\u001b[39mget_tightbbox(\u001b[38;5;241m*\u001b[39margs, \u001b[38;5;241m*\u001b[39m\u001b[38;5;241m*\u001b[39m{\u001b[38;5;241m*\u001b[39m\u001b[38;5;241m*\u001b[39mkwargs, \u001b[38;5;124m\"\u001b[39m\u001b[38;5;124mfor_layout_only\u001b[39m\u001b[38;5;124m\"\u001b[39m: \u001b[38;5;28;01mTrue\u001b[39;00m})\n\u001b[0;32m   1416\u001b[0m \u001b[38;5;28;01mexcept\u001b[39;00m \u001b[38;5;167;01mTypeError\u001b[39;00m:\n\u001b[0;32m   1417\u001b[0m     \u001b[38;5;28;01mreturn\u001b[39;00m obj\u001b[38;5;241m.\u001b[39mget_tightbbox(\u001b[38;5;241m*\u001b[39margs, \u001b[38;5;241m*\u001b[39m\u001b[38;5;241m*\u001b[39mkwargs)\n",
      "File \u001b[1;32mD:\\Miniconda3\\envs\\ee\\Lib\\site-packages\\matplotlib\\axis.py:1325\u001b[0m, in \u001b[0;36mAxis.get_tightbbox\u001b[1;34m(self, renderer, for_layout_only)\u001b[0m\n\u001b[0;32m   1322\u001b[0m     renderer \u001b[38;5;241m=\u001b[39m \u001b[38;5;28mself\u001b[39m\u001b[38;5;241m.\u001b[39mfigure\u001b[38;5;241m.\u001b[39m_get_renderer()\n\u001b[0;32m   1323\u001b[0m ticks_to_draw \u001b[38;5;241m=\u001b[39m \u001b[38;5;28mself\u001b[39m\u001b[38;5;241m.\u001b[39m_update_ticks()\n\u001b[1;32m-> 1325\u001b[0m \u001b[38;5;28mself\u001b[39m\u001b[38;5;241m.\u001b[39m_update_label_position(renderer)\n\u001b[0;32m   1327\u001b[0m \u001b[38;5;66;03m# go back to just this axis's tick labels\u001b[39;00m\n\u001b[0;32m   1328\u001b[0m tlb1, tlb2 \u001b[38;5;241m=\u001b[39m \u001b[38;5;28mself\u001b[39m\u001b[38;5;241m.\u001b[39m_get_ticklabel_bboxes(ticks_to_draw, renderer)\n",
      "File \u001b[1;32mD:\\Miniconda3\\envs\\ee\\Lib\\site-packages\\matplotlib\\axis.py:2565\u001b[0m, in \u001b[0;36mYAxis._update_label_position\u001b[1;34m(self, renderer)\u001b[0m\n\u001b[0;32m   2561\u001b[0m     \u001b[38;5;28;01mreturn\u001b[39;00m\n\u001b[0;32m   2563\u001b[0m \u001b[38;5;66;03m# get bounding boxes for this axis and any siblings\u001b[39;00m\n\u001b[0;32m   2564\u001b[0m \u001b[38;5;66;03m# that have been set by `fig.align_ylabels()`\u001b[39;00m\n\u001b[1;32m-> 2565\u001b[0m bboxes, bboxes2 \u001b[38;5;241m=\u001b[39m \u001b[38;5;28mself\u001b[39m\u001b[38;5;241m.\u001b[39m_get_tick_boxes_siblings(renderer\u001b[38;5;241m=\u001b[39mrenderer)\n\u001b[0;32m   2566\u001b[0m x, y \u001b[38;5;241m=\u001b[39m \u001b[38;5;28mself\u001b[39m\u001b[38;5;241m.\u001b[39mlabel\u001b[38;5;241m.\u001b[39mget_position()\n\u001b[0;32m   2567\u001b[0m \u001b[38;5;28;01mif\u001b[39;00m \u001b[38;5;28mself\u001b[39m\u001b[38;5;241m.\u001b[39mlabel_position \u001b[38;5;241m==\u001b[39m \u001b[38;5;124m'\u001b[39m\u001b[38;5;124mleft\u001b[39m\u001b[38;5;124m'\u001b[39m:\n",
      "File \u001b[1;32mD:\\Miniconda3\\envs\\ee\\Lib\\site-packages\\matplotlib\\axis.py:2100\u001b[0m, in \u001b[0;36mAxis._get_tick_boxes_siblings\u001b[1;34m(self, renderer)\u001b[0m\n\u001b[0;32m   2098\u001b[0m axis \u001b[38;5;241m=\u001b[39m \u001b[38;5;28mgetattr\u001b[39m(ax, \u001b[38;5;124mf\u001b[39m\u001b[38;5;124m\"\u001b[39m\u001b[38;5;132;01m{\u001b[39;00maxis_name\u001b[38;5;132;01m}\u001b[39;00m\u001b[38;5;124maxis\u001b[39m\u001b[38;5;124m\"\u001b[39m)\n\u001b[0;32m   2099\u001b[0m ticks_to_draw \u001b[38;5;241m=\u001b[39m axis\u001b[38;5;241m.\u001b[39m_update_ticks()\n\u001b[1;32m-> 2100\u001b[0m tlb, tlb2 \u001b[38;5;241m=\u001b[39m axis\u001b[38;5;241m.\u001b[39m_get_ticklabel_bboxes(ticks_to_draw, renderer)\n\u001b[0;32m   2101\u001b[0m bboxes\u001b[38;5;241m.\u001b[39mextend(tlb)\n\u001b[0;32m   2102\u001b[0m bboxes2\u001b[38;5;241m.\u001b[39mextend(tlb2)\n",
      "File \u001b[1;32mD:\\Miniconda3\\envs\\ee\\Lib\\site-packages\\matplotlib\\axis.py:1304\u001b[0m, in \u001b[0;36mAxis._get_ticklabel_bboxes\u001b[1;34m(self, ticks, renderer)\u001b[0m\n\u001b[0;32m   1302\u001b[0m \u001b[38;5;28;01mif\u001b[39;00m renderer \u001b[38;5;129;01mis\u001b[39;00m \u001b[38;5;28;01mNone\u001b[39;00m:\n\u001b[0;32m   1303\u001b[0m     renderer \u001b[38;5;241m=\u001b[39m \u001b[38;5;28mself\u001b[39m\u001b[38;5;241m.\u001b[39mfigure\u001b[38;5;241m.\u001b[39m_get_renderer()\n\u001b[1;32m-> 1304\u001b[0m \u001b[38;5;28;01mreturn\u001b[39;00m ([tick\u001b[38;5;241m.\u001b[39mlabel1\u001b[38;5;241m.\u001b[39mget_window_extent(renderer)\n\u001b[0;32m   1305\u001b[0m          \u001b[38;5;28;01mfor\u001b[39;00m tick \u001b[38;5;129;01min\u001b[39;00m ticks \u001b[38;5;28;01mif\u001b[39;00m tick\u001b[38;5;241m.\u001b[39mlabel1\u001b[38;5;241m.\u001b[39mget_visible()],\n\u001b[0;32m   1306\u001b[0m         [tick\u001b[38;5;241m.\u001b[39mlabel2\u001b[38;5;241m.\u001b[39mget_window_extent(renderer)\n\u001b[0;32m   1307\u001b[0m          \u001b[38;5;28;01mfor\u001b[39;00m tick \u001b[38;5;129;01min\u001b[39;00m ticks \u001b[38;5;28;01mif\u001b[39;00m tick\u001b[38;5;241m.\u001b[39mlabel2\u001b[38;5;241m.\u001b[39mget_visible()])\n",
      "File \u001b[1;32mD:\\Miniconda3\\envs\\ee\\Lib\\site-packages\\matplotlib\\axis.py:1304\u001b[0m, in \u001b[0;36m<listcomp>\u001b[1;34m(.0)\u001b[0m\n\u001b[0;32m   1302\u001b[0m \u001b[38;5;28;01mif\u001b[39;00m renderer \u001b[38;5;129;01mis\u001b[39;00m \u001b[38;5;28;01mNone\u001b[39;00m:\n\u001b[0;32m   1303\u001b[0m     renderer \u001b[38;5;241m=\u001b[39m \u001b[38;5;28mself\u001b[39m\u001b[38;5;241m.\u001b[39mfigure\u001b[38;5;241m.\u001b[39m_get_renderer()\n\u001b[1;32m-> 1304\u001b[0m \u001b[38;5;28;01mreturn\u001b[39;00m ([tick\u001b[38;5;241m.\u001b[39mlabel1\u001b[38;5;241m.\u001b[39mget_window_extent(renderer)\n\u001b[0;32m   1305\u001b[0m          \u001b[38;5;28;01mfor\u001b[39;00m tick \u001b[38;5;129;01min\u001b[39;00m ticks \u001b[38;5;28;01mif\u001b[39;00m tick\u001b[38;5;241m.\u001b[39mlabel1\u001b[38;5;241m.\u001b[39mget_visible()],\n\u001b[0;32m   1306\u001b[0m         [tick\u001b[38;5;241m.\u001b[39mlabel2\u001b[38;5;241m.\u001b[39mget_window_extent(renderer)\n\u001b[0;32m   1307\u001b[0m          \u001b[38;5;28;01mfor\u001b[39;00m tick \u001b[38;5;129;01min\u001b[39;00m ticks \u001b[38;5;28;01mif\u001b[39;00m tick\u001b[38;5;241m.\u001b[39mlabel2\u001b[38;5;241m.\u001b[39mget_visible()])\n",
      "File \u001b[1;32mD:\\Miniconda3\\envs\\ee\\Lib\\site-packages\\matplotlib\\text.py:961\u001b[0m, in \u001b[0;36mText.get_window_extent\u001b[1;34m(self, renderer, dpi)\u001b[0m\n\u001b[0;32m    959\u001b[0m bbox, info, descent \u001b[38;5;241m=\u001b[39m \u001b[38;5;28mself\u001b[39m\u001b[38;5;241m.\u001b[39m_get_layout(\u001b[38;5;28mself\u001b[39m\u001b[38;5;241m.\u001b[39m_renderer)\n\u001b[0;32m    960\u001b[0m x, y \u001b[38;5;241m=\u001b[39m \u001b[38;5;28mself\u001b[39m\u001b[38;5;241m.\u001b[39mget_unitless_position()\n\u001b[1;32m--> 961\u001b[0m x, y \u001b[38;5;241m=\u001b[39m \u001b[38;5;28mself\u001b[39m\u001b[38;5;241m.\u001b[39mget_transform()\u001b[38;5;241m.\u001b[39mtransform((x, y))\n\u001b[0;32m    962\u001b[0m bbox \u001b[38;5;241m=\u001b[39m bbox\u001b[38;5;241m.\u001b[39mtranslated(x, y)\n\u001b[0;32m    963\u001b[0m \u001b[38;5;28;01mreturn\u001b[39;00m bbox\n",
      "File \u001b[1;32mD:\\Miniconda3\\envs\\ee\\Lib\\site-packages\\matplotlib\\transforms.py:1490\u001b[0m, in \u001b[0;36mTransform.transform\u001b[1;34m(self, values)\u001b[0m\n\u001b[0;32m   1487\u001b[0m values \u001b[38;5;241m=\u001b[39m values\u001b[38;5;241m.\u001b[39mreshape((\u001b[38;5;241m-\u001b[39m\u001b[38;5;241m1\u001b[39m, \u001b[38;5;28mself\u001b[39m\u001b[38;5;241m.\u001b[39minput_dims))\n\u001b[0;32m   1489\u001b[0m \u001b[38;5;66;03m# Transform the values\u001b[39;00m\n\u001b[1;32m-> 1490\u001b[0m res \u001b[38;5;241m=\u001b[39m \u001b[38;5;28mself\u001b[39m\u001b[38;5;241m.\u001b[39mtransform_affine(\u001b[38;5;28mself\u001b[39m\u001b[38;5;241m.\u001b[39mtransform_non_affine(values))\n\u001b[0;32m   1492\u001b[0m \u001b[38;5;66;03m# Convert the result back to the shape of the input values.\u001b[39;00m\n\u001b[0;32m   1493\u001b[0m \u001b[38;5;28;01mif\u001b[39;00m ndim \u001b[38;5;241m==\u001b[39m \u001b[38;5;241m0\u001b[39m:\n",
      "File \u001b[1;32mD:\\Miniconda3\\envs\\ee\\Lib\\site-packages\\matplotlib\\transforms.py:2415\u001b[0m, in \u001b[0;36mCompositeGenericTransform.transform_affine\u001b[1;34m(self, points)\u001b[0m\n\u001b[0;32m   2413\u001b[0m \u001b[38;5;28;01mdef\u001b[39;00m \u001b[38;5;21mtransform_affine\u001b[39m(\u001b[38;5;28mself\u001b[39m, points):\n\u001b[0;32m   2414\u001b[0m     \u001b[38;5;66;03m# docstring inherited\u001b[39;00m\n\u001b[1;32m-> 2415\u001b[0m     \u001b[38;5;28;01mreturn\u001b[39;00m \u001b[38;5;28mself\u001b[39m\u001b[38;5;241m.\u001b[39mget_affine()\u001b[38;5;241m.\u001b[39mtransform(points)\n",
      "File \u001b[1;32mD:\\Miniconda3\\envs\\ee\\Lib\\site-packages\\matplotlib\\transforms.py:2441\u001b[0m, in \u001b[0;36mCompositeGenericTransform.get_affine\u001b[1;34m(self)\u001b[0m\n\u001b[0;32m   2439\u001b[0m     \u001b[38;5;28;01mreturn\u001b[39;00m \u001b[38;5;28mself\u001b[39m\u001b[38;5;241m.\u001b[39m_b\u001b[38;5;241m.\u001b[39mget_affine()\n\u001b[0;32m   2440\u001b[0m \u001b[38;5;28;01melse\u001b[39;00m:\n\u001b[1;32m-> 2441\u001b[0m     \u001b[38;5;28;01mreturn\u001b[39;00m Affine2D(np\u001b[38;5;241m.\u001b[39mdot(\u001b[38;5;28mself\u001b[39m\u001b[38;5;241m.\u001b[39m_b\u001b[38;5;241m.\u001b[39mget_affine()\u001b[38;5;241m.\u001b[39mget_matrix(),\n\u001b[0;32m   2442\u001b[0m                            \u001b[38;5;28mself\u001b[39m\u001b[38;5;241m.\u001b[39m_a\u001b[38;5;241m.\u001b[39mget_affine()\u001b[38;5;241m.\u001b[39mget_matrix()))\n",
      "File \u001b[1;32m<__array_function__ internals>:200\u001b[0m, in \u001b[0;36mdot\u001b[1;34m(*args, **kwargs)\u001b[0m\n",
      "\u001b[1;31mKeyboardInterrupt\u001b[0m: "
     ]
    }
   ],
   "source": [
    "# define optimizer and loss function\n",
    "\n",
    "criterion = nn.BCEWithLogitsLoss(pos_weight = torch.FloatTensor([[0.3, 0.7]] * 4000).T.to(\"cuda\"))\n",
    "optimizer = optim.Adam(model.parameters(), lr=0.0001, betas=(0.9, 0.999), eps=1e-9)\n",
    "scheduler = ReduceLROnPlateau(optimizer, patience = 3, factor=0.5, min_lr=0.0001)\n",
    "lr = 0.001\n",
    "epochs = 175\n",
    "\n",
    "losses_train = []\n",
    "losses_test = []\n",
    "best_loss = 10e9\n",
    "# begin training\n",
    "\n",
    "early_stop_count = 15\n",
    "current_es = 0\n",
    "for epoch in range(epochs): \n",
    "    \n",
    "        \n",
    "    loss_train = run_epoch(model, optimizer, criterion, train_dataloader, is_training=True)\n",
    "    loss_val = run_epoch(model, optimizer, criterion, test_dataloader)\n",
    "    scheduler.step(loss_val)\n",
    "    losses_train.append(loss_train)\n",
    "    losses_test.append(loss_val)\n",
    "\n",
    "    if losses_test[-1] < best_loss:\n",
    "        current_es = 0\n",
    "        best_loss = losses_test[-1]\n",
    "        torch.save(model.state_dict(), \"./models/FirstConv1d5\")\n",
    "    else:\n",
    "        current_es += 1\n",
    "    #if current_es == early_stop_count:\n",
    "        #break\n",
    "\n",
    "    clear_output(True)\n",
    "    fig = plt.figure(figsize=(10, 9))\n",
    "\n",
    "    ax_1 = fig.add_subplot(2, 1, 1)\n",
    "    ax_2 = fig.add_subplot(2, 1, 2)\n",
    "    ax_1.set_title('train')\n",
    "    ax_1.plot(losses_train)\n",
    "    ax_2.set_title('test')\n",
    "    ax_2.plot(losses_test)\n",
    "    plt.show()\n",
    "\n",
    "\n",
    "    print('Epoch[{}/{}] | loss train:{:.6f}, test:{:.6f}'\n",
    "              .format(epoch+1, epochs, loss_train, loss_val))"
   ]
  },
  {
   "cell_type": "code",
   "execution_count": 278,
   "id": "dd7d4852",
   "metadata": {},
   "outputs": [
    {
     "data": {
      "text/plain": [
       "<All keys matched successfully>"
      ]
     },
     "execution_count": 278,
     "metadata": {},
     "output_type": "execute_result"
    }
   ],
   "source": [
    "model.load_state_dict(torch.load(\"./models/FirstConv1d2\"))"
   ]
  },
  {
   "cell_type": "code",
   "execution_count": 279,
   "id": "42ea5a82",
   "metadata": {},
   "outputs": [
    {
     "name": "stdout",
     "output_type": "stream",
     "text": [
      "torch.Size([13, 2, 4000])\n",
      "first tensor(1.0000, grad_fn=<MaxBackward1>)\n",
      "second tensor(0.4147, grad_fn=<MaxBackward1>)\n",
      "torch.Size([13, 2, 4000])\n",
      "first tensor(1.0000, grad_fn=<MaxBackward1>)\n",
      "second tensor(0.4025, grad_fn=<MaxBackward1>)\n",
      "torch.Size([13, 2, 4000])\n",
      "first tensor(1.0000, grad_fn=<MaxBackward1>)\n",
      "second tensor(0.3419, grad_fn=<MaxBackward1>)\n"
     ]
    }
   ],
   "source": [
    "model.eval()\n",
    "model.cpu()\n",
    "all_preds = []\n",
    "for idx, (x, y) in enumerate(test_dataloader):\n",
    "    x = x.float()\n",
    "    #print(\"x\", x.shape)\n",
    "\n",
    "    out = model(x)\n",
    "    m = nn.Softmax(dim=1)\n",
    "    out = m(out)\n",
    "    print(out.size())\n",
    "    print(\"first\", out[:, 0].max())\n",
    "    print(\"second\", out[:, 1].max())\n",
    "    \n",
    "    preds = out.detach().numpy()[:, 1, :] > 0.15\n",
    "    all_preds.append(preds)"
   ]
  },
  {
   "cell_type": "code",
   "execution_count": 280,
   "id": "b0cb4a74",
   "metadata": {},
   "outputs": [],
   "source": [
    "all_preds = np.array(all_preds).reshape(3 * 13 * 4000)"
   ]
  },
  {
   "cell_type": "code",
   "execution_count": 295,
   "id": "c091f65a",
   "metadata": {},
   "outputs": [],
   "source": [
    "np.save(\"predicts/conv1d_preds\", all_preds)"
   ]
  },
  {
   "cell_type": "markdown",
   "id": "dc3ec3dc",
   "metadata": {},
   "source": [
    "### Some results "
   ]
  },
  {
   "cell_type": "code",
   "execution_count": 281,
   "id": "8068e5e0",
   "metadata": {},
   "outputs": [
    {
     "data": {
      "text/plain": [
       "24644"
      ]
     },
     "execution_count": 281,
     "metadata": {},
     "output_type": "execute_result"
    }
   ],
   "source": [
    "pred_len = len(all_preds)\n",
    "all_preds.sum()"
   ]
  },
  {
   "cell_type": "code",
   "execution_count": 282,
   "id": "b5487bd8",
   "metadata": {},
   "outputs": [
    {
     "data": {
      "text/plain": [
       "30238.0"
      ]
     },
     "execution_count": 282,
     "metadata": {},
     "output_type": "execute_result"
    }
   ],
   "source": [
    "test_labels[:pred_len].sum()"
   ]
  },
  {
   "cell_type": "code",
   "execution_count": 283,
   "id": "9df96d9e",
   "metadata": {},
   "outputs": [
    {
     "data": {
      "text/plain": [
       "0.7236282051282051"
      ]
     },
     "execution_count": 283,
     "metadata": {},
     "output_type": "execute_result"
    }
   ],
   "source": [
    "(all_preds == test_labels[:pred_len]).sum() /  pred_len"
   ]
  },
  {
   "cell_type": "code",
   "execution_count": 284,
   "id": "44126222",
   "metadata": {},
   "outputs": [
    {
     "data": {
      "text/plain": [
       "0.2387599415679273"
      ]
     },
     "execution_count": 284,
     "metadata": {},
     "output_type": "execute_result"
    }
   ],
   "source": [
    "precision_score(test_labels[:pred_len], all_preds)"
   ]
  },
  {
   "cell_type": "code",
   "execution_count": 285,
   "id": "db15e245",
   "metadata": {},
   "outputs": [
    {
     "data": {
      "text/plain": [
       "0.19458958925854886"
      ]
     },
     "execution_count": 285,
     "metadata": {},
     "output_type": "execute_result"
    }
   ],
   "source": [
    "recall_score(test_labels[:pred_len], all_preds)"
   ]
  },
  {
   "cell_type": "code",
   "execution_count": 286,
   "id": "91fe51a9",
   "metadata": {},
   "outputs": [],
   "source": [
    "cm = confusion_matrix(test_labels[:pred_len], all_preds)"
   ]
  },
  {
   "cell_type": "code",
   "execution_count": 287,
   "id": "37356fb5",
   "metadata": {},
   "outputs": [
    {
     "data": {
      "image/png": "[encoded data removed]",
      "text/plain": [
       "<Figure size 640x480 with 2 Axes>"
      ]
     },
     "metadata": {},
     "output_type": "display_data"
    }
   ],
   "source": [
    "cm_display = ConfusionMatrixDisplay(cm).plot()"
   ]
  },
  {
   "cell_type": "code",
   "execution_count": null,
   "id": "84ca96a8",
   "metadata": {},
   "outputs": [],
   "source": [
    "sklearn.metrics.confusion_matrix"
   ]
  },
  {
   "cell_type": "code",
   "execution_count": 288,
   "id": "77a5c1df",
   "metadata": {},
   "outputs": [],
   "source": [
    "correct_idxs = []\n",
    "false_negative = []\n",
    "false_positive = []\n",
    "\n",
    "for i in range(pred_len):\n",
    "    if all_preds[i] == 1 and test_labels[:pred_len][i] == 1:\n",
    "        correct_idxs.append(i)\n",
    "    if all_preds[i] == 1 and test_labels[:pred_len][i] == 0:\n",
    "        false_positive.append(i)\n",
    "    if all_preds[i] == 0 and test_labels[:pred_len][i] == 1:\n",
    "        false_negative.append(i)"
   ]
  },
  {
   "cell_type": "code",
   "execution_count": 294,
   "id": "9bca6b7f",
   "metadata": {},
   "outputs": [
    {
     "data": {
      "text/plain": [
       "<matplotlib.collections.PathCollection at 0x1d0c273e290>"
      ]
     },
     "execution_count": 294,
     "metadata": {},
     "output_type": "execute_result"
    },
    {
     "data": {
      "image/png": "[encoded data removed]",
      "text/plain": [
       "<Figure size 1600x900 with 1 Axes>"
      ]
     },
     "metadata": {},
     "output_type": "display_data"
    }
   ],
   "source": [
    "range_start = 2050\n",
    "range_end = 2200\n",
    "\n",
    "plt.figure(figsize=(16, 9))\n",
    "plt.plot(test_x[2, :pred_len][range_start:range_end])\n",
    "plt.scatter(x=list(range(range_end - range_start)), y=test_labels[:pred_len][range_start:range_end] * -100, color=\"green\")\n",
    "plt.scatter(x=list(range(range_end - range_start)), y=all_preds[range_start:range_end] * 100, color=\"red\")"
   ]
  },
  {
   "cell_type": "code",
   "execution_count": null,
   "id": "c15245d6",
   "metadata": {},
   "outputs": [],
   "source": []
  }
 ],
 "metadata": {
  "kernelspec": {
   "display_name": "Python 3 (ipykernel)",
   "language": "python",
   "name": "python3"
  },
  "language_info": {
   "codemirror_mode": {
    "name": "ipython",
    "version": 3
   },
   "file_extension": ".py",
   "mimetype": "text/x-python",
   "name": "python",
   "nbconvert_exporter": "python",
   "pygments_lexer": "ipython3",
   "version": "3.10.12"
  }
 },
 "nbformat": 4,
 "nbformat_minor": 5
}
