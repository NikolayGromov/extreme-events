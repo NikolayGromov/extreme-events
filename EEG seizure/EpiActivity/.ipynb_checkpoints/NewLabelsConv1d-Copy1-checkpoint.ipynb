{
 "cells": [
  {
   "cell_type": "code",
   "execution_count": 1,
   "id": "4c1f5592",
   "metadata": {},
   "outputs": [],
   "source": [
    "import pyedflib\n",
    "import mne\n",
    "import numpy as np\n",
    "\n",
    "import torchvision\n",
    "import torch\n",
    "from torch import nn\n",
    "import torch.nn.functional as F\n",
    "import torch.optim as optim\n",
    "from torch.optim.lr_scheduler import ReduceLROnPlateau\n",
    "\n",
    "import matplotlib.pyplot as plt\n",
    "from torch.utils.data import DataLoader\n",
    "\n",
    "from IPython.display import clear_output\n",
    "from tqdm import tqdm\n",
    "import matplotlib.ticker as ticker\n",
    "from os import listdir\n",
    "\n",
    "from sklearn.metrics import precision_score , recall_score, confusion_matrix,  ConfusionMatrixDisplay\n",
    "%matplotlib inline"
   ]
  },
  {
   "cell_type": "markdown",
   "id": "4610914b-0352-4ce3-a9a4-fdc48c48ec17",
   "metadata": {
    "jp-MarkdownHeadingCollapsed": true
   },
   "source": [
    "### Reading signals"
   ]
  },
  {
   "cell_type": "code",
   "execution_count": 2,
   "id": "d8756790-4103-4b93-a6dd-6589792dabb5",
   "metadata": {},
   "outputs": [],
   "source": [
    "def ReadSignal(file_name): #move to utils\n",
    "\n",
    "    f = pyedflib.EdfReader(file_name)\n",
    "    n = f.signals_in_file\n",
    "    signal_labels = f.getSignalLabels()\n",
    "    sigbufs = np.zeros((n, f.getNSamples()[0]))\n",
    "    for i in np.arange(n):\n",
    "        sigbufs[i, :] = f.readSignal(i)\n",
    "\n",
    "    time = [1/f.samplefrequency(0) * i for i in range(len(sigbufs[0]))]\n",
    "\n",
    "    annotations = f.readAnnotations()  \n",
    "\n",
    "    shift = -annotations[0][0]\n",
    "\n",
    "    if file_name != \"data/record0.edf\":\n",
    "        assert np.isclose(shift, 0.91798)\n",
    "    else:\n",
    "        return sigbufs, f, time\n",
    "\n",
    "    new_annot = [(annotations[0][i] + shift, annotations[1][i], annotations[2][i])  for i in range(len(annotations[0])) \n",
    "             if annotations[2][i] in [\"new_label\", \"n\"]]\n",
    "    f.close()\n",
    "    return sigbufs, new_annot, time"
   ]
  },
  {
   "cell_type": "code",
   "execution_count": 3,
   "id": "8a01d1bb-be71-4667-86d6-03e6bc71b8db",
   "metadata": {},
   "outputs": [],
   "source": [
    "signals = []\n",
    "events = []\n",
    "\n",
    "for file_name in listdir(\"data\"):\n",
    "    if \"golden\" in file_name:\n",
    "        sigbufs, event, time = ReadSignal(\"data/\" + file_name)\n",
    "        signals.append(sigbufs)\n",
    "        events.append(event)\n",
    "        "
   ]
  },
  {
   "cell_type": "code",
   "execution_count": 4,
   "id": "156257c1-9d85-4bda-9f5f-2627de6b197c",
   "metadata": {},
   "outputs": [],
   "source": [
    "sigbufs, f, time = ReadSignal(\"data/record0.edf\")"
   ]
  },
  {
   "cell_type": "code",
   "execution_count": 5,
   "id": "bffa03c4",
   "metadata": {},
   "outputs": [],
   "source": [
    "def Labeling(time, events_lst):\n",
    "    labels = np.zeros_like(time)\n",
    "\n",
    "    for events in events_lst:\n",
    "        for event in events:\n",
    "            start = np.array(time < event[0]).argmin()\n",
    "            fin = np.array(time < event[0] + event[1]).argmin()\n",
    "            labels[start:fin] =  1\n",
    "    return labels\n",
    "        "
   ]
  },
  {
   "cell_type": "code",
   "execution_count": 6,
   "id": "43a980ad-85bc-41c2-8c16-d3d825be1d5d",
   "metadata": {},
   "outputs": [],
   "source": [
    "#labels = Labeling(time, events)\n",
    "#np.save(\"data/new_labels\", labels)\n",
    "labels = np.load(\"data/new_labels.npy\")"
   ]
  },
  {
   "cell_type": "markdown",
   "id": "45b987ee-ddb6-4720-89a1-18a5dcf363d6",
   "metadata": {},
   "source": [
    "### Train and Test"
   ]
  },
  {
   "cell_type": "markdown",
   "id": "b268404b",
   "metadata": {},
   "source": [
    "Let's test 6000 - 6800 sec, using only 6/9 of record to increase balance of classess"
   ]
  },
  {
   "cell_type": "code",
   "execution_count": 7,
   "id": "18a05f8a-b634-41ea-aced-f2f62e58db63",
   "metadata": {},
   "outputs": [],
   "source": [
    "TEST_TIME_START = 6000\n",
    "TEST_TIME_END = 6800"
   ]
  },
  {
   "cell_type": "code",
   "execution_count": 8,
   "id": "c008f7d1",
   "metadata": {},
   "outputs": [],
   "source": [
    "ind = np.argmax(labels)\n",
    "\n",
    "test_idx = (np.array(time) < TEST_TIME_START).argmin()\n",
    "test_idx2 = (np.array(time)< TEST_TIME_END).argmin()\n",
    "\n",
    "test_x = sigbufs[:, test_idx:test_idx2]\n",
    "test_labels = labels[test_idx:test_idx2]\n",
    "\n",
    "\n",
    "train_x1 = torch.FloatTensor(sigbufs[:, ind-100:test_idx]).to('cuda')\n",
    "train_x2 = torch.FloatTensor(sigbufs[:, test_idx2:]).to('cuda')\n",
    "train_labels1 = labels[ind-100:test_idx]\n",
    "train_labels2 = labels[test_idx2:]"
   ]
  },
  {
   "cell_type": "code",
   "execution_count": 9,
   "id": "d5241635-b17f-4193-b0c6-da1dda3020bd",
   "metadata": {},
   "outputs": [
    {
     "data": {
      "text/plain": [
       "0.04723752679901837"
      ]
     },
     "execution_count": 9,
     "metadata": {},
     "output_type": "execute_result"
    }
   ],
   "source": [
    "(train_labels1.sum() + train_labels2.sum()) /(len(train_labels1) + len(train_labels2))"
   ]
  },
  {
   "cell_type": "code",
   "execution_count": 10,
   "id": "1ad653a9-cd02-40be-85b3-c4f84c818882",
   "metadata": {},
   "outputs": [],
   "source": [
    "train_x_first_part = []\n"
   ]
  },
  {
   "cell_type": "markdown",
   "id": "02a90530",
   "metadata": {},
   "source": [
    "Let's test 4000 points in sample"
   ]
  },
  {
   "cell_type": "code",
   "execution_count": 37,
   "id": "0d1acd9f",
   "metadata": {},
   "outputs": [],
   "source": [
    "RECEPTIVE_FIELD = 100\n",
    "\n",
    "def CreateSamples(x, labels, rf = RECEPTIVE_FIELD):\n",
    "    inout_seq = []\n",
    "    L = x.shape[-1]\n",
    "    for i in tqdm(range(0, L- rf, rf)):\n",
    "        train_seq = x[:, i:i+rf]\n",
    "        train_label = labels[i:i+rf]\n",
    "        inout_seq.append((train_seq ,train_label))\n",
    "    return inout_seq\n",
    "    "
   ]
  },
  {
   "cell_type": "code",
   "execution_count": 38,
   "id": "92e7bbf4",
   "metadata": {},
   "outputs": [
    {
     "name": "stderr",
     "output_type": "stream",
     "text": [
      "100%|███████████████████████████████████████████| 1596/1596 [00:00<00:00, 254364.45it/s]\n",
      "100%|███████████████████████████████████████████| 2825/2825 [00:00<00:00, 271614.45it/s]\n",
      "100%|███████████████████████████████████████████| 1945/1945 [00:00<00:00, 360730.55it/s]\n"
     ]
    }
   ],
   "source": [
    "test_samples = CreateSamples(test_x, test_labels)\n",
    "train_samples = CreateSamples(train_x1, train_labels1) + CreateSamples(train_x2, train_labels2)"
   ]
  },
  {
   "cell_type": "code",
   "execution_count": 49,
   "id": "411a22ea-3277-4385-8e77-2757c4dc044b",
   "metadata": {},
   "outputs": [],
   "source": [
    "idxs = []\n",
    "new_train_samples = []\n",
    "c = 0\n",
    "labels_sum = 0\n",
    "for i in range(len(train_samples)): \n",
    "    if train_samples[i][1].max() == 1:\n",
    "        c += 1\n",
    "        idxs.append(i)\n",
    "        new_train_samples.append(train_samples[i])\n",
    "        labels_sum += train_samples[i][1].sum()"
   ]
  },
  {
   "cell_type": "code",
   "execution_count": 44,
   "id": "d4c73b3e-b236-47de-aee9-99cf74c838d2",
   "metadata": {},
   "outputs": [
    {
     "data": {
      "text/plain": [
       "1908"
      ]
     },
     "execution_count": 44,
     "metadata": {},
     "output_type": "execute_result"
    }
   ],
   "source": [
    "c"
   ]
  },
  {
   "cell_type": "code",
   "execution_count": 41,
   "id": "a930489c-9114-49be-8313-0c27a057620d",
   "metadata": {},
   "outputs": [
    {
     "data": {
      "text/plain": [
       "22529.0"
      ]
     },
     "execution_count": 41,
     "metadata": {},
     "output_type": "execute_result"
    }
   ],
   "source": [
    "labels_sum"
   ]
  },
  {
   "cell_type": "code",
   "execution_count": 42,
   "id": "4a2b8135-2f0b-4ea4-b035-c51f03ee1f43",
   "metadata": {},
   "outputs": [
    {
     "data": {
      "text/plain": [
       "0.11807651991614256"
      ]
     },
     "execution_count": 42,
     "metadata": {},
     "output_type": "execute_result"
    }
   ],
   "source": [
    "labels_sum / (100 * c)"
   ]
  },
  {
   "cell_type": "code",
   "execution_count": 47,
   "id": "7698ac2f-a17a-43d1-8151-290825d608f4",
   "metadata": {},
   "outputs": [
    {
     "ename": "ValueError",
     "evalue": "setting an array element with a sequence. The requested array has an inhomogeneous shape after 2 dimensions. The detected shape was (4770, 2) + inhomogeneous part.",
     "output_type": "error",
     "traceback": [
      "\u001b[0;31m---------------------------------------------------------------------------\u001b[0m",
      "\u001b[0;31mValueError\u001b[0m                                Traceback (most recent call last)",
      "Cell \u001b[0;32mIn[47], line 1\u001b[0m\n\u001b[0;32m----> 1\u001b[0m \u001b[38;5;28mlen\u001b[39m(\u001b[43mnp\u001b[49m\u001b[38;5;241;43m.\u001b[39;49m\u001b[43marray\u001b[49m\u001b[43m(\u001b[49m\u001b[43mtrain_samples\u001b[49m\u001b[43m)\u001b[49m[idxs])\n",
      "\u001b[0;31mValueError\u001b[0m: setting an array element with a sequence. The requested array has an inhomogeneous shape after 2 dimensions. The detected shape was (4770, 2) + inhomogeneous part."
     ]
    }
   ],
   "source": [
    "len(np.array(train_samples)[idxs])"
   ]
  },
  {
   "cell_type": "code",
   "execution_count": 12,
   "id": "4a202e9f",
   "metadata": {},
   "outputs": [],
   "source": [
    "train_dataloader = DataLoader(train_samples, batch_size=15, shuffle=True, drop_last=True)\n",
    "test_dataloader = DataLoader(test_samples, batch_size=13, shuffle=False, drop_last=True)"
   ]
  },
  {
   "cell_type": "code",
   "execution_count": 13,
   "id": "d27af902",
   "metadata": {},
   "outputs": [
    {
     "name": "stdout",
     "output_type": "stream",
     "text": [
      "torch.Size([15, 20, 4000])\n",
      "torch.Size([15, 1, 4000])\n"
     ]
    }
   ],
   "source": [
    "for idx, (x, y) in enumerate(train_dataloader):\n",
    "    print(x.shape)\n",
    "    print(y[:, None, :].shape)    \n",
    "    break"
   ]
  },
  {
   "cell_type": "code",
   "execution_count": 14,
   "id": "ab68478f",
   "metadata": {
    "code_folding": [
     0,
     15,
     37,
     53
    ]
   },
   "outputs": [],
   "source": [
    "class conbr_block(nn.Module):\n",
    "    def __init__(self, in_layer, out_layer, kernel_size, stride, dilation):\n",
    "        super(conbr_block, self).__init__()\n",
    "\n",
    "        self.conv1 = nn.Conv1d(in_layer, out_layer, kernel_size=kernel_size, stride=stride, dilation = dilation, padding = 3, bias=True)\n",
    "        self.bn = nn.BatchNorm1d(out_layer)\n",
    "        self.relu = nn.ReLU()\n",
    "    \n",
    "    def forward(self,x):\n",
    "        x = self.conv1(x)\n",
    "        x = self.bn(x)\n",
    "        out = self.relu(x)\n",
    "        \n",
    "        return out       \n",
    "\n",
    "class se_block(nn.Module):\n",
    "    def __init__(self,in_layer, out_layer):\n",
    "        super(se_block, self).__init__()\n",
    "        \n",
    "        self.conv1 = nn.Conv1d(in_layer, out_layer//8, kernel_size=1, padding=0)\n",
    "        self.conv2 = nn.Conv1d(out_layer//8, in_layer, kernel_size=1, padding=0)\n",
    "        self.fc = nn.Linear(1,out_layer//8)\n",
    "        self.fc2 = nn.Linear(out_layer//8,out_layer)\n",
    "        self.relu = nn.ReLU()\n",
    "        self.sigmoid = nn.Sigmoid()\n",
    "    \n",
    "    def forward(self,x):\n",
    "\n",
    "        x_se = nn.functional.adaptive_avg_pool1d(x,1)\n",
    "        x_se = self.conv1(x_se)\n",
    "        x_se = self.relu(x_se)\n",
    "        x_se = self.conv2(x_se)\n",
    "        x_se = self.sigmoid(x_se)\n",
    "        \n",
    "        x_out = torch.add(x, x_se)\n",
    "        return x_out\n",
    "\n",
    "class re_block(nn.Module):\n",
    "    def __init__(self, in_layer, out_layer, kernel_size, dilation):\n",
    "        super(re_block, self).__init__()\n",
    "        \n",
    "        self.cbr1 = conbr_block(in_layer,out_layer, kernel_size, 1, dilation)\n",
    "        self.cbr2 = conbr_block(out_layer,out_layer, kernel_size, 1, dilation)\n",
    "        self.seblock = se_block(out_layer, out_layer)\n",
    "    \n",
    "    def forward(self,x):\n",
    "\n",
    "        x_re = self.cbr1(x)\n",
    "        x_re = self.cbr2(x_re)\n",
    "        x_re = self.seblock(x_re)\n",
    "        x_out = torch.add(x, x_re)\n",
    "        return x_out          \n",
    "\n",
    "class UNET_1D(nn.Module):\n",
    "    def __init__(self ,input_dim,layer_n,kernel_size,depth):\n",
    "        super(UNET_1D, self).__init__()\n",
    "        self.input_dim = input_dim\n",
    "        self.layer_n = layer_n\n",
    "        self.kernel_size = kernel_size\n",
    "        self.depth = depth\n",
    "        \n",
    "        self.AvgPool1D1 = nn.AvgPool1d(input_dim, stride=5, padding=8)\n",
    "        self.AvgPool1D2 = nn.AvgPool1d(input_dim, stride=25, padding=8)\n",
    "        self.AvgPool1D3 = nn.AvgPool1d(input_dim, stride=125, padding=8)\n",
    "        \n",
    "        self.layer1 = self.down_layer(self.input_dim, self.layer_n, self.kernel_size,1, 2)\n",
    "        self.layer2 = self.down_layer(self.layer_n, int(self.layer_n*2), self.kernel_size,5, 2)\n",
    "        self.layer3 = self.down_layer(int(self.layer_n*2)+int(self.input_dim), int(self.layer_n*3), self.kernel_size,5, 2)\n",
    "        self.layer4 = self.down_layer(int(self.layer_n*3)+int(self.input_dim), int(self.layer_n*4), self.kernel_size,5, 2)\n",
    "        self.layer5 = self.down_layer(int(self.layer_n*4)+int(self.input_dim), int(self.layer_n*5), self.kernel_size,4, 2)\n",
    "\n",
    "        self.cbr_up1 = conbr_block(int(self.layer_n*7), int(self.layer_n*3), self.kernel_size, 1, 1)\n",
    "        self.cbr_up2 = conbr_block(int(self.layer_n*5), int(self.layer_n*2), self.kernel_size, 1, 1)\n",
    "        self.cbr_up3 = conbr_block(int(self.layer_n*3), self.layer_n, self.kernel_size, 1, 1)\n",
    "        self.upsample = nn.Upsample(scale_factor=5, mode='nearest')\n",
    "        self.upsample1 = nn.Upsample(scale_factor=5, mode='nearest')\n",
    "        \n",
    "        self.outcov = nn.Conv1d(self.layer_n, 2, kernel_size=self.kernel_size, stride=1,padding = 3)\n",
    "    \n",
    "        \n",
    "    def down_layer(self, input_layer, out_layer, kernel, stride, depth):\n",
    "        block = []\n",
    "        block.append(conbr_block(input_layer, out_layer, kernel, stride, 1))\n",
    "        for i in range(depth):\n",
    "            block.append(re_block(out_layer,out_layer,kernel,1))\n",
    "        return nn.Sequential(*block)\n",
    "            \n",
    "    def forward(self, x):\n",
    "        \n",
    "        pool_x1 = self.AvgPool1D1(x)\n",
    "        pool_x2 = self.AvgPool1D2(x)\n",
    "        pool_x3 = self.AvgPool1D3(x)\n",
    "        \n",
    "        #############Encoder#####################\n",
    "        \n",
    "        out_0 = self.layer1(x)\n",
    "        out_1 = self.layer2(out_0)        \n",
    "        \n",
    "        \n",
    "        x = torch.cat([out_1,pool_x1],1)\n",
    "        out_2 = self.layer3(x)\n",
    "        \n",
    "        x = torch.cat([out_2,pool_x2],1)\n",
    "        x = self.layer4(x)\n",
    "        \n",
    "        #############Decoder####################\n",
    "        \n",
    "        up = self.upsample1(x)\n",
    "        up = torch.cat([up,out_2],1)\n",
    "        up = self.cbr_up1(up)\n",
    "        \n",
    "        up = self.upsample(up)\n",
    "        up = torch.cat([up,out_1],1)\n",
    "        up = self.cbr_up2(up)\n",
    "        \n",
    "        up = self.upsample(up)\n",
    "        up = torch.cat([up,out_0],1)\n",
    "        up = self.cbr_up3(up)\n",
    "        \n",
    "        out = self.outcov(up)\n",
    "        \n",
    "        #out = nn.functional.softmax(out,dim=2)\n",
    "        \n",
    "        return out"
   ]
  },
  {
   "cell_type": "code",
   "execution_count": 15,
   "id": "4d0066cf",
   "metadata": {},
   "outputs": [],
   "source": [
    "model = UNET_1D(20,128,7,3) #(input_dim, hidden_layer, kernel_size, depth)\n",
    "model = model.to(\"cuda\")"
   ]
  },
  {
   "cell_type": "code",
   "execution_count": 16,
   "id": "aacac38c",
   "metadata": {},
   "outputs": [],
   "source": [
    "def run_epoch(model, optimizer, criterion, dataloader, is_training=False):\n",
    "    epoch_loss = 0\n",
    "\n",
    "    if is_training:\n",
    "        model.train()\n",
    "    else:\n",
    "        model.eval()\n",
    "\n",
    "    for idx, (x, y) in tqdm(enumerate(dataloader)):\n",
    "        if is_training:\n",
    "            optimizer.zero_grad()\n",
    "\n",
    "        batchsize = x.shape[0]\n",
    "        \n",
    "        \n",
    "        x = x.float().to('cuda')\n",
    "        #print(\"x\", x.shape)\n",
    "        \n",
    "        new_y = torch.zeros(y.size()[0], 2, y.size()[1])\n",
    "        for i in range(y.size()[0]):\n",
    "            new_y[i] = (torch.arange(2) == y[i].long()[:,None]).T\n",
    "        new_y = new_y.float().to('cuda')\n",
    "\n",
    "        out = model(x)\n",
    "        #print(\"y\", y.shape)\n",
    "        #print(\"out\", out.shape)\n",
    "        loss = criterion(out, new_y)\n",
    "\n",
    "        if is_training:\n",
    "            loss.backward()\n",
    "            optimizer.step()\n",
    "\n",
    "        epoch_loss += (loss.detach().item() / len(dataloader))\n",
    "\n",
    "\n",
    "    return epoch_loss"
   ]
  },
  {
   "cell_type": "code",
   "execution_count": 21,
   "id": "70e02e8e",
   "metadata": {},
   "outputs": [
    {
     "data": {
      "image/png": "[encoded data removed]",
      "text/plain": [
       "<Figure size 1000x900 with 2 Axes>"
      ]
     },
     "metadata": {},
     "output_type": "display_data"
    },
    {
     "name": "stdout",
     "output_type": "stream",
     "text": [
      "Epoch[175/175] | loss train:0.001120, test:0.087286\n"
     ]
    }
   ],
   "source": [
    "# define optimizer and loss function\n",
    "\n",
    "criterion = nn.BCEWithLogitsLoss(pos_weight = torch.FloatTensor([[0.3, 0.7]] * 4000).T.to(\"cuda\"))\n",
    "optimizer = optim.Adam(model.parameters(), lr=0.0001, betas=(0.9, 0.999), eps=1e-9)\n",
    "scheduler = ReduceLROnPlateau(optimizer, patience = 3, factor=0.5, min_lr=0.0001)\n",
    "lr = 0.001\n",
    "epochs = 175\n",
    "\n",
    "losses_train = []\n",
    "losses_test = []\n",
    "best_loss = 10e9\n",
    "# begin training\n",
    "\n",
    "early_stop_count = 15\n",
    "current_es = 0\n",
    "for epoch in range(epochs): \n",
    "    \n",
    "        \n",
    "    loss_train = run_epoch(model, optimizer, criterion, train_dataloader, is_training=True)\n",
    "    loss_val = run_epoch(model, optimizer, criterion, test_dataloader)\n",
    "    scheduler.step(loss_val)\n",
    "    losses_train.append(loss_train)\n",
    "    losses_test.append(loss_val)\n",
    "\n",
    "    if losses_test[-1] < best_loss:\n",
    "        current_es = 0\n",
    "        best_loss = losses_test[-1]\n",
    "        torch.save(model.state_dict(), \"./models/SecondConv1d1\")\n",
    "    else:\n",
    "        current_es += 1\n",
    "    #if current_es == early_stop_count:\n",
    "        #break\n",
    "\n",
    "    clear_output(True)\n",
    "    fig = plt.figure(figsize=(10, 9))\n",
    "\n",
    "    ax_1 = fig.add_subplot(2, 1, 1)\n",
    "    ax_2 = fig.add_subplot(2, 1, 2)\n",
    "    ax_1.set_title('train')\n",
    "    ax_1.plot(losses_train)\n",
    "    ax_2.set_title('test')\n",
    "    ax_2.plot(losses_test)\n",
    "    plt.show()\n",
    "\n",
    "\n",
    "    print('Epoch[{}/{}] | loss train:{:.6f}, test:{:.6f}'\n",
    "              .format(epoch+1, epochs, loss_train, loss_val))"
   ]
  },
  {
   "cell_type": "code",
   "execution_count": 17,
   "id": "dd7d4852",
   "metadata": {},
   "outputs": [
    {
     "data": {
      "text/plain": [
       "<All keys matched successfully>"
      ]
     },
     "execution_count": 17,
     "metadata": {},
     "output_type": "execute_result"
    }
   ],
   "source": [
    "model.load_state_dict(torch.load(\"./models/SecondConv1d1\"))"
   ]
  },
  {
   "cell_type": "code",
   "execution_count": 25,
   "id": "42ea5a82",
   "metadata": {},
   "outputs": [
    {
     "name": "stdout",
     "output_type": "stream",
     "text": [
      "torch.Size([13, 2, 4000])\n",
      "first tensor(1.0000, grad_fn=<MaxBackward1>)\n",
      "second tensor(1., grad_fn=<MaxBackward1>)\n",
      "torch.Size([13, 2, 4000])\n",
      "first tensor(1.0000, grad_fn=<MaxBackward1>)\n",
      "second tensor(1., grad_fn=<MaxBackward1>)\n",
      "torch.Size([13, 2, 4000])\n",
      "first tensor(1.0000, grad_fn=<MaxBackward1>)\n",
      "second tensor(1., grad_fn=<MaxBackward1>)\n"
     ]
    }
   ],
   "source": [
    "model.eval()\n",
    "model.cpu()\n",
    "all_preds = []\n",
    "for idx, (x, y) in enumerate(test_dataloader):\n",
    "    x = x.float()\n",
    "    #print(\"x\", x.shape)\n",
    "\n",
    "    out = model(x)\n",
    "    m = nn.Softmax(dim=1)\n",
    "    out = m(out)\n",
    "    print(out.size())\n",
    "    print(\"first\", out[:, 0].max())\n",
    "    print(\"second\", out[:, 1].max())\n",
    "    \n",
    "    preds = np.argmax(out.detach().numpy(), axis=1)\n",
    "    all_preds.append(preds)"
   ]
  },
  {
   "cell_type": "code",
   "execution_count": 26,
   "id": "b0cb4a74",
   "metadata": {},
   "outputs": [],
   "source": [
    "all_preds = np.array(all_preds).reshape(3 * 13 * 4000)"
   ]
  },
  {
   "cell_type": "code",
   "execution_count": 18,
   "id": "584bf7c0-3f2e-4a95-b382-e078fa9e3c6e",
   "metadata": {},
   "outputs": [],
   "source": [
    "all_preds = np.load(\"predicts/conv1d_preds.npy\")"
   ]
  },
  {
   "cell_type": "code",
   "execution_count": 28,
   "id": "c091f65a",
   "metadata": {},
   "outputs": [],
   "source": [
    "#np.save(\"predicts/conv1d_preds\", all_preds)"
   ]
  },
  {
   "cell_type": "markdown",
   "id": "dc3ec3dc",
   "metadata": {
    "jp-MarkdownHeadingCollapsed": true
   },
   "source": [
    "### Some results "
   ]
  },
  {
   "cell_type": "markdown",
   "id": "08d9b991-2238-48ec-8ab8-5eedca40cd5a",
   "metadata": {},
   "source": [
    "#### Raw Labels"
   ]
  },
  {
   "cell_type": "code",
   "execution_count": 23,
   "id": "db15e245",
   "metadata": {},
   "outputs": [
    {
     "name": "stdout",
     "output_type": "stream",
     "text": [
      "accuracy 0.9748910256410256\n",
      "precision 0.7211065861536301\n",
      "recall 0.7267195018397962\n"
     ]
    }
   ],
   "source": [
    "pred_len = len(all_preds)\n",
    "print(\"accuracy\", (all_preds == test_labels[:pred_len]).sum() /  pred_len)\n",
    "print(\"precision\", precision_score(test_labels[:pred_len], all_preds))\n",
    "print(\"recall\", recall_score(test_labels[:pred_len], all_preds))"
   ]
  },
  {
   "cell_type": "code",
   "execution_count": 24,
   "id": "37356fb5",
   "metadata": {},
   "outputs": [
    {
     "data": {
      "image/png": "[encoded data removed]",
      "text/plain": [
       "<Figure size 640x480 with 2 Axes>"
      ]
     },
     "metadata": {},
     "output_type": "display_data"
    }
   ],
   "source": [
    "cm = confusion_matrix(test_labels[:pred_len], all_preds)\n",
    "cm_display = ConfusionMatrixDisplay(cm).plot()"
   ]
  },
  {
   "cell_type": "markdown",
   "id": "22891d41-407c-4971-88d5-50deccf47ba3",
   "metadata": {},
   "source": [
    "#### EpiSpike"
   ]
  },
  {
   "cell_type": "code",
   "execution_count": 36,
   "id": "20852c33-1bf6-4a6b-aa7b-1842a6cdb7af",
   "metadata": {},
   "outputs": [],
   "source": [
    "def CollectingTPFPFN(pred_labels, true_labels):\n",
    "    i = 0\n",
    "    TP = 0\n",
    "    FP = 0\n",
    "    FN = 0\n",
    "\n",
    "    is_true_flag = 0\n",
    "    is_pred_flag = 0\n",
    "    while i < len(pred_labels):\n",
    "        while true_labels[i] == 1:\n",
    "            is_true_flag = 1\n",
    "            if pred_labels[i] == 1:\n",
    "                is_pred_flag = 1\n",
    "            i += 1\n",
    "        if is_true_flag:\n",
    "            if is_pred_flag:\n",
    "                TP += 1\n",
    "            else:\n",
    "                FN += 1\n",
    "        \n",
    "        is_true_flag = 0\n",
    "        is_pred_flag = 0   \n",
    "        i += 1\n",
    "\n",
    "    i = 0\n",
    "    while i < len(pred_labels):\n",
    "        while pred_labels[i] == 1:\n",
    "            is_pred_flag = 1\n",
    "            if true_labels[i] == 1:\n",
    "                is_true_flag = 1\n",
    "            i += 1\n",
    "        if is_pred_flag and not is_true_flag:\n",
    "            FP += 1\n",
    "        is_pred_flag = 0\n",
    "        is_true_flag = 0\n",
    "        i += 1\n",
    "\n",
    "    return TP, FP, FN              "
   ]
  },
  {
   "cell_type": "code",
   "execution_count": 37,
   "id": "19deec07-20d4-4f32-8bbf-18d4bc49a187",
   "metadata": {},
   "outputs": [],
   "source": [
    "TP, FP, FN = CollectingTPFPFN(all_preds, test_labels[:pred_len])"
   ]
  },
  {
   "cell_type": "code",
   "execution_count": 39,
   "id": "1dff7e05-8571-4bb4-acc2-aa84edebe349",
   "metadata": {},
   "outputs": [
    {
     "name": "stdout",
     "output_type": "stream",
     "text": [
      "precision 0.7079741379310345\n",
      "recall 0.9087136929460581\n"
     ]
    }
   ],
   "source": [
    "print(\"precision\",TP / (TP + FP))\n",
    "print(\"recall\", TP / (TP + FN))"
   ]
  },
  {
   "cell_type": "code",
   "execution_count": 38,
   "id": "393f2736-5971-496c-b3c4-a1d4d5e40c24",
   "metadata": {},
   "outputs": [
    {
     "data": {
      "image/png": "[encoded data removed]",
      "text/plain": [
       "<Figure size 640x480 with 2 Axes>"
      ]
     },
     "metadata": {},
     "output_type": "display_data"
    }
   ],
   "source": [
    "cm = np.array([[0, FP], [FN, TP]])\n",
    "cm_display = ConfusionMatrixDisplay(cm).plot()"
   ]
  },
  {
   "cell_type": "code",
   "execution_count": 30,
   "id": "77a5c1df",
   "metadata": {},
   "outputs": [],
   "source": [
    "correct_idxs = []\n",
    "false_negative = []\n",
    "false_positive = []\n",
    "\n",
    "for i in range(pred_len):\n",
    "    if all_preds[i] == 1 and test_labels[:pred_len][i] == 1:\n",
    "        correct_idxs.append(i)\n",
    "    if all_preds[i] == 1 and test_labels[:pred_len][i] == 0:\n",
    "        false_positive.append(i)\n",
    "    if all_preds[i] == 0 and test_labels[:pred_len][i] == 1:\n",
    "        false_negative.append(i)"
   ]
  },
  {
   "cell_type": "code",
   "execution_count": 34,
   "id": "9bca6b7f",
   "metadata": {},
   "outputs": [
    {
     "data": {
      "text/plain": [
       "<matplotlib.legend.Legend at 0x7f211c243460>"
      ]
     },
     "execution_count": 34,
     "metadata": {},
     "output_type": "execute_result"
    },
    {
     "data": {
      "image/png": "[encoded data removed]",
      "text/plain": [
       "<Figure size 1600x900 with 1 Axes>"
      ]
     },
     "metadata": {},
     "output_type": "display_data"
    }
   ],
   "source": [
    "range_start = false_positive[0] - 100\n",
    "range_end = false_positive[0] + 100\n",
    "\n",
    "plt.figure(figsize=(16, 9))\n",
    "plt.plot(test_x[2, :pred_len][range_start:range_end])\n",
    "plt.plot(test_x[4, :pred_len][range_start:range_end])\n",
    "\n",
    "plt.scatter(x=list(range(range_end - range_start)), y=test_labels[:pred_len][range_start:range_end] * -100, color=\"green\", label=\"True\")\n",
    "plt.scatter(x=list(range(range_end - range_start)), y=all_preds[range_start:range_end] * 100, color=\"red\", label=\"Pred\")\n",
    "plt.legend()"
   ]
  },
  {
   "cell_type": "markdown",
   "id": "7bf40124-e106-4e0a-a420-a960612e070e",
   "metadata": {
    "jp-MarkdownHeadingCollapsed": true
   },
   "source": [
    "### EDF wtire"
   ]
  },
  {
   "cell_type": "code",
   "execution_count": 7,
   "id": "c15245d6",
   "metadata": {},
   "outputs": [],
   "source": [
    "def CreateAnnotation(time_start, labels, freq):  # можно связать с прошлой анотацией, попробовать p concatenate\n",
    "    freq = 1/freq\n",
    "    i = 0\n",
    "    label_starts = [time_start]\n",
    "    label_lens = [-1]\n",
    "    desc = [\"StartPredictionTime\"]\n",
    "    while i < len(labels):\n",
    "        if labels[i] == 1:\n",
    "            desc.append(\"ModelPrediction\")\n",
    "            label_starts.append(time_start + i*freq)\n",
    "            cur_start = i\n",
    "            while labels[i] == 1:\n",
    "                i += 1\n",
    "            label_lens.append((i - cur_start) * freq)\n",
    "        i += 1\n",
    "    label_starts += [time_start + i*freq]\n",
    "    label_lens += [-1]\n",
    "    desc += [\"EndPredictionTime\"]\n",
    "\n",
    "    return np.array(label_starts), np.array(label_lens), np.array(desc)"
   ]
  },
  {
   "cell_type": "code",
   "execution_count": 8,
   "id": "033e69f6-0fa2-469d-9f7b-f4b371e989d6",
   "metadata": {},
   "outputs": [],
   "source": [
    "freq = f.samplefrequency(0)\n",
    "preds_annotations = CreateAnnotation(TEST_TIME_START, all_preds, freq)\n"
   ]
  },
  {
   "cell_type": "code",
   "execution_count": 10,
   "id": "3acc6b1e-e5f9-4d2a-a2d9-ae1aed527b25",
   "metadata": {},
   "outputs": [],
   "source": [
    "f.close()"
   ]
  },
  {
   "cell_type": "code",
   "execution_count": 24,
   "id": "8507a64d-ce28-4bdf-9bd7-03a156d96859",
   "metadata": {},
   "outputs": [
    {
     "name": "stdout",
     "output_type": "stream",
     "text": [
      "Extracting EDF parameters from /home/gromov_n/extreme-events/EEG seizure/EpiActivity/data/record0-Copy1.edf...\n",
      "EDF file detected\n",
      "Setting channel info structure...\n",
      "Creating raw.info structure...\n"
     ]
    },
    {
     "name": "stderr",
     "output_type": "stream",
     "text": [
      "/tmp/ipykernel_2950232/659960048.py:1: RuntimeWarning: Channels contain different highpass filters. Highest filter setting will be stored.\n",
      "  data = mne.io.read_raw_edf(\"data/record0-Copy1.edf\")\n"
     ]
    }
   ],
   "source": [
    "data = mne.io.read_raw_edf(\"data/record0-Copy1.edf\")\n",
    "raw_data = data.get_data()\n",
    "# you can get the metadata included in the file and a list of all channels:\n",
    "info = data.info\n",
    "channels = data.ch_names"
   ]
  },
  {
   "cell_type": "code",
   "execution_count": 26,
   "id": "c75303d4-66b0-4708-bcc5-d7f2d98e0829",
   "metadata": {},
   "outputs": [
    {
     "data": {
      "text/plain": [
       "0.0"
      ]
     },
     "execution_count": 26,
     "metadata": {},
     "output_type": "execute_result"
    }
   ],
   "source": [
    "dur_max = preds_annotations[1].max()\n",
    "preds_annotations = list(preds_annotations)\n",
    "preds_annotations[1] = np.clip(preds_annotations[1], a_min=0, a_max = dur_max)\n",
    "preds_annotations[1].min()"
   ]
  },
  {
   "cell_type": "code",
   "execution_count": 28,
   "id": "b8613557-a92b-4f5d-af00-c48629ae4d99",
   "metadata": {},
   "outputs": [],
   "source": [
    "old_annot = np.array([[data.annotations[i][\"onset\"], data.annotations[i][\"duration\"], data.annotations[i][\"description\"]] \n",
    "                      for i in range(len(data.annotations))])\n",
    "full_annot = np.concatenate([np.array(preds_annotations), old_annot.T], axis=1)\n",
    "annotations = mne.Annotations(full_annot[0], full_annot[1], full_annot[2])"
   ]
  },
  {
   "cell_type": "code",
   "execution_count": 29,
   "id": "890c36b5-cac0-4d68-82d4-7eef29a096ab",
   "metadata": {},
   "outputs": [
    {
     "data": {
      "text/plain": [
       "<Annotations | 3948 segments: * (2953), EndPredictionTime (1), ...>"
      ]
     },
     "execution_count": 29,
     "metadata": {},
     "output_type": "execute_result"
    }
   ],
   "source": [
    "data.set_annotations(annotations)\n",
    "data.annotations"
   ]
  },
  {
   "cell_type": "code",
   "execution_count": 31,
   "id": "8e3d54ed-c042-4778-bf59-332218e0b12c",
   "metadata": {},
   "outputs": [
    {
     "name": "stdout",
     "output_type": "stream",
     "text": [
      "Overwriting existing file.\n",
      "Reading 0 ... 1551204  =      0.000 ...  7775.352 secs...\n"
     ]
    },
    {
     "name": "stderr",
     "output_type": "stream",
     "text": [
      "/tmp/ipykernel_2950232/3438638728.py:1: RuntimeWarning: Data has a non-integer sampling rate of 199.50274692224406; writing to EDF format may cause a small change to sample times.\n",
      "  data.export(\"predicts/mnePredsrecord0.edf\", overwrite=True)\n"
     ]
    }
   ],
   "source": [
    "data.export(\"predicts/mnePredsrecord0.edf\", overwrite=True)"
   ]
  },
  {
   "cell_type": "code",
   "execution_count": null,
   "id": "25b4f879-0a3f-4129-bb54-b4a630c5ad7d",
   "metadata": {},
   "outputs": [],
   "source": []
  }
 ],
 "metadata": {
  "kernelspec": {
   "display_name": "Python 3 (ipykernel)",
   "language": "python",
   "name": "python3"
  },
  "language_info": {
   "codemirror_mode": {
    "name": "ipython",
    "version": 3
   },
   "file_extension": ".py",
   "mimetype": "text/x-python",
   "name": "python",
   "nbconvert_exporter": "python",
   "pygments_lexer": "ipython3",
   "version": "3.10.12"
  }
 },
 "nbformat": 4,
 "nbformat_minor": 5
}
