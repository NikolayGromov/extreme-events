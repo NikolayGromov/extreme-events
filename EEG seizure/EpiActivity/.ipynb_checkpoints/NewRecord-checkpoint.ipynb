{
 "cells": [
  {
   "cell_type": "code",
   "execution_count": 1,
   "id": "4c1f5592",
   "metadata": {},
   "outputs": [],
   "source": [
    "import pyedflib\n",
    "import mne\n",
    "import numpy as np\n",
    "\n",
    "import torchvision\n",
    "import torch\n",
    "from torch import nn\n",
    "import torch.nn.functional as F\n",
    "import torch.optim as optim\n",
    "from torch.optim.lr_scheduler import ReduceLROnPlateau\n",
    "\n",
    "import matplotlib.pyplot as plt\n",
    "from torch.utils.data import DataLoader\n",
    "\n",
    "from IPython.display import clear_output\n",
    "from tqdm import tqdm\n",
    "import matplotlib.ticker as ticker\n",
    "from os import listdir\n",
    "\n",
    "from sklearn.metrics import precision_score , recall_score, confusion_matrix,  ConfusionMatrixDisplay\n",
    "%matplotlib inline"
   ]
  },
  {
   "cell_type": "markdown",
   "id": "4610914b-0352-4ce3-a9a4-fdc48c48ec17",
   "metadata": {},
   "source": [
    "### Reading signals"
   ]
  },
  {
   "cell_type": "code",
   "execution_count": 42,
   "id": "d8756790-4103-4b93-a6dd-6589792dabb5",
   "metadata": {},
   "outputs": [],
   "source": [
    "def ReadSignal(file_name): #move to utils\n",
    "\n",
    "    f = pyedflib.EdfReader(file_name)\n",
    "    n = f.signals_in_file\n",
    "    signal_labels = f.getSignalLabels()\n",
    "    sigbufs = np.zeros((n, f.getNSamples()[0]))\n",
    "    for i in np.arange(n):\n",
    "        sigbufs[i, :] = f.readSignal(i)\n",
    "\n",
    "    time = [1/f.samplefrequency(0) * i for i in range(len(sigbufs[0]))]\n",
    "\n",
    "    annotations = f.readAnnotations()  \n",
    "\n",
    "\n",
    "    new_annot = [(annotations[0][i], annotations[1][i], annotations[2][i])  \n",
    "                 for i in range(len(annotations[0])) \n",
    "                                if (i > 2) and (annotations[1][i] > 0) and (annotations[2][i] in [\"Ð´Ð°Ð±Ð» Ñ\\x81Ð¿Ð°Ð¹Ðº\", \"*\", \"?\"])]\n",
    "    f.close()\n",
    "    return sigbufs, new_annot, time, f.samplefrequency(0)"
   ]
  },
  {
   "cell_type": "code",
   "execution_count": 43,
   "id": "156257c1-9d85-4bda-9f5f-2627de6b197c",
   "metadata": {},
   "outputs": [],
   "source": [
    "sigbufs, new_annot, time, freq = ReadSignal(\"data/labeled_10mins_checkedSHA.edf\")"
   ]
  },
  {
   "cell_type": "code",
   "execution_count": 4,
   "id": "ae737177-1795-47f4-8c37-c153f34790b6",
   "metadata": {},
   "outputs": [
    {
     "data": {
      "text/plain": [
       "500.0"
      ]
     },
     "execution_count": 4,
     "metadata": {},
     "output_type": "execute_result"
    }
   ],
   "source": [
    "freq"
   ]
  },
  {
   "cell_type": "code",
   "execution_count": 45,
   "id": "bffa03c4",
   "metadata": {},
   "outputs": [],
   "source": [
    "def Labeling(time, events_lst):\n",
    "    labels = np.zeros_like(time)\n",
    "\n",
    "    for events in events_lst:\n",
    "        for event in events:\n",
    "            start = np.array(time < event[0]).argmin()\n",
    "            fin = np.array(time < event[0] + event[1]).argmin()\n",
    "            labels[start:fin] =  1\n",
    "    return labels\n",
    "        "
   ]
  },
  {
   "cell_type": "code",
   "execution_count": 46,
   "id": "43a980ad-85bc-41c2-8c16-d3d825be1d5d",
   "metadata": {},
   "outputs": [],
   "source": [
    "#labels = Labeling(time, [new_annot])\n",
    "#np.save(\"data/new_record_labels\", labels)\n",
    "labels = np.load(\"data/new_record_labels.npy\")"
   ]
  },
  {
   "cell_type": "code",
   "execution_count": 12,
   "id": "e9adbe31-1a54-4249-acec-ae3b76d862a8",
   "metadata": {},
   "outputs": [
    {
     "name": "stdout",
     "output_type": "stream",
     "text": [
      "3601.956\n"
     ]
    },
    {
     "data": {
      "text/plain": [
       "4199.224"
      ]
     },
     "execution_count": 12,
     "metadata": {},
     "output_type": "execute_result"
    }
   ],
   "source": [
    "print(new_annot[0][0])\n",
    "new_annot[-1][0]"
   ]
  },
  {
   "cell_type": "code",
   "execution_count": 47,
   "id": "0db40dfd-81d2-4de4-8fff-765a992472e3",
   "metadata": {},
   "outputs": [],
   "source": [
    "TRAIN_TIME_START = new_annot[0][0] - 10\n",
    "TRAIN_TIME_END = new_annot[-1][0] - 60"
   ]
  },
  {
   "cell_type": "code",
   "execution_count": 48,
   "id": "ab5c9d94-1e03-45ff-99e0-33d187691b29",
   "metadata": {},
   "outputs": [],
   "source": [
    "TEST_TIME_START = TRAIN_TIME_END\n",
    "TEST_TIME_END = new_annot[-1][0] + 10"
   ]
  },
  {
   "cell_type": "markdown",
   "id": "45b987ee-ddb6-4720-89a1-18a5dcf363d6",
   "metadata": {},
   "source": [
    "### Train and Test"
   ]
  },
  {
   "cell_type": "code",
   "execution_count": 49,
   "id": "c008f7d1",
   "metadata": {},
   "outputs": [],
   "source": [
    "test_idx_start = (np.array(time) < TEST_TIME_START).argmin()\n",
    "test_idx_fin = (np.array(time)< TEST_TIME_END).argmin()\n",
    "\n",
    "test_x = torch.FloatTensor(sigbufs[:, test_idx_start:test_idx_fin]).to(\"cuda\")\n",
    "test_labels = labels[test_idx_start:test_idx_fin]\n",
    "\n",
    "new_testl = torch.zeros(2, len(test_labels))\n",
    "new_testl = (torch.arange(2) == torch.LongTensor(test_labels)[:,None]).T\n",
    "new_testl = new_testl.float().to('cuda')\n",
    "test_labels = new_testl\n",
    "\n",
    "train_idx_start = (np.array(time) < TRAIN_TIME_START).argmin()\n",
    "train_idx_fin = (np.array(time)< TRAIN_TIME_END).argmin()\n",
    "\n",
    "train_x = torch.FloatTensor(sigbufs[:, train_idx_start:train_idx_fin]).to(\"cuda\")\n",
    "train_labels = labels[train_idx_start:train_idx_fin]\n",
    "\n",
    "new_trainl = torch.zeros(2, len(train_labels))\n",
    "new_trainl = (torch.arange(2) == torch.LongTensor(train_labels)[:,None]).T\n",
    "new_trainl = new_trainl.float().to('cuda')\n",
    "train_labels = new_trainl"
   ]
  },
  {
   "cell_type": "code",
   "execution_count": 50,
   "id": "d5241635-b17f-4193-b0c6-da1dda3020bd",
   "metadata": {},
   "outputs": [
    {
     "data": {
      "text/plain": [
       "tensor(0.1625, device='cuda:0')"
      ]
     },
     "execution_count": 50,
     "metadata": {},
     "output_type": "execute_result"
    }
   ],
   "source": [
    "train_labels[1].sum() /len(train_labels[1]) "
   ]
  },
  {
   "cell_type": "markdown",
   "id": "02a90530",
   "metadata": {},
   "source": [
    "Let's test 4000 points in sample 15 and 13 batch size for it, for 100 it 190 and 16"
   ]
  },
  {
   "cell_type": "code",
   "execution_count": 51,
   "id": "0d1acd9f",
   "metadata": {},
   "outputs": [],
   "source": [
    "RECEPTIVE_FIELD = 4000\n",
    "\n",
    "def CreateSamples(x, labels, rf = RECEPTIVE_FIELD):\n",
    "    inout_seq = []\n",
    "    L = x.shape[-1]\n",
    "    for i in tqdm(range(0, L- rf, rf)):\n",
    "        train_seq = x[:, i:i+rf]\n",
    "        train_label = labels[:, i:i+rf]\n",
    "        inout_seq.append((train_seq ,train_label))\n",
    "    return inout_seq\n",
    "    "
   ]
  },
  {
   "cell_type": "code",
   "execution_count": 52,
   "id": "92e7bbf4",
   "metadata": {},
   "outputs": [
    {
     "name": "stderr",
     "output_type": "stream",
     "text": [
      "100%|██████████████████████████████████████████████████████████████████████████████████████████████████████████████| 8/8 [00:00<00:00, 14321.14it/s]\n",
      "100%|████████████████████████████████████████████████████████████████████████████████████████████████████████████| 68/68 [00:00<00:00, 29956.17it/s]\n"
     ]
    }
   ],
   "source": [
    "test_samples = CreateSamples(test_x, test_labels)\n",
    "train_samples = CreateSamples(train_x, train_labels)"
   ]
  },
  {
   "cell_type": "code",
   "execution_count": 14,
   "id": "411a22ea-3277-4385-8e77-2757c4dc044b",
   "metadata": {},
   "outputs": [],
   "source": [
    "idxs = []\n",
    "new_train_samples = []\n",
    "c = 0\n",
    "labels_sum = 0\n",
    "for i in range(len(train_samples)): \n",
    "    if train_samples[i][1][1].max() == 1:\n",
    "        c += 1\n",
    "        idxs.append(i)\n",
    "        new_train_samples.append(train_samples[i])\n",
    "        labels_sum += train_samples[i][1][1].sum()"
   ]
  },
  {
   "cell_type": "code",
   "execution_count": 53,
   "id": "4a202e9f",
   "metadata": {},
   "outputs": [],
   "source": [
    "train_dataloader = DataLoader(train_samples, batch_size=68, shuffle=True, drop_last=True) # or train_samples for 4000 or new_train_samples for 100\n",
    "test_dataloader = DataLoader(test_samples, batch_size=8, shuffle=False, drop_last=True)"
   ]
  },
  {
   "cell_type": "code",
   "execution_count": 16,
   "id": "d27af902",
   "metadata": {},
   "outputs": [
    {
     "name": "stdout",
     "output_type": "stream",
     "text": [
      "torch.Size([15, 20, 4000])\n",
      "torch.Size([15, 2, 4000])\n"
     ]
    }
   ],
   "source": [
    "for idx, (x, y) in enumerate(train_dataloader):\n",
    "    print(x.shape)\n",
    "    print(y.shape)    \n",
    "    break"
   ]
  },
  {
   "cell_type": "code",
   "execution_count": 54,
   "id": "ab68478f",
   "metadata": {
    "code_folding": [
     0,
     15,
     37,
     53
    ]
   },
   "outputs": [],
   "source": [
    "class conbr_block(nn.Module):\n",
    "    def __init__(self, in_layer, out_layer, kernel_size, stride, dilation):\n",
    "        super(conbr_block, self).__init__()\n",
    "\n",
    "        self.conv1 = nn.Conv1d(in_layer, out_layer, kernel_size=kernel_size, stride=stride, dilation = dilation, padding = 3, bias=True)\n",
    "        self.bn = nn.BatchNorm1d(out_layer)\n",
    "        self.relu = nn.ReLU()\n",
    "    \n",
    "    def forward(self,x):\n",
    "        x = self.conv1(x)\n",
    "        x = self.bn(x)\n",
    "        out = self.relu(x)\n",
    "        \n",
    "        return out       \n",
    "\n",
    "class se_block(nn.Module):\n",
    "    def __init__(self,in_layer, out_layer):\n",
    "        super(se_block, self).__init__()\n",
    "        \n",
    "        self.conv1 = nn.Conv1d(in_layer, out_layer//8, kernel_size=1, padding=0)\n",
    "        self.conv2 = nn.Conv1d(out_layer//8, in_layer, kernel_size=1, padding=0)\n",
    "        self.fc = nn.Linear(1,out_layer//8)\n",
    "        self.fc2 = nn.Linear(out_layer//8,out_layer)\n",
    "        self.relu = nn.ReLU()\n",
    "        self.sigmoid = nn.Sigmoid()\n",
    "    \n",
    "    def forward(self,x):\n",
    "\n",
    "        x_se = nn.functional.adaptive_avg_pool1d(x,1)\n",
    "        x_se = self.conv1(x_se)\n",
    "        x_se = self.relu(x_se)\n",
    "        x_se = self.conv2(x_se)\n",
    "        x_se = self.sigmoid(x_se)\n",
    "        \n",
    "        x_out = torch.add(x, x_se)\n",
    "        return x_out\n",
    "\n",
    "class re_block(nn.Module):\n",
    "    def __init__(self, in_layer, out_layer, kernel_size, dilation):\n",
    "        super(re_block, self).__init__()\n",
    "        \n",
    "        self.cbr1 = conbr_block(in_layer,out_layer, kernel_size, 1, dilation)\n",
    "        self.cbr2 = conbr_block(out_layer,out_layer, kernel_size, 1, dilation)\n",
    "        self.seblock = se_block(out_layer, out_layer)\n",
    "    \n",
    "    def forward(self,x):\n",
    "\n",
    "        x_re = self.cbr1(x)\n",
    "        x_re = self.cbr2(x_re)\n",
    "        x_re = self.seblock(x_re)\n",
    "        x_out = torch.add(x, x_re)\n",
    "        return x_out          \n",
    "\n",
    "class UNET_1D(nn.Module):\n",
    "    def __init__(self ,input_dim,layer_n,kernel_size,depth):\n",
    "        super(UNET_1D, self).__init__()\n",
    "        self.input_dim = input_dim\n",
    "        self.layer_n = layer_n\n",
    "        self.kernel_size = kernel_size\n",
    "        self.depth = depth\n",
    "        \n",
    "        self.AvgPool1D1 = nn.AvgPool1d(input_dim, stride=5, padding=8)\n",
    "        self.AvgPool1D2 = nn.AvgPool1d(input_dim, stride=25, padding=8)\n",
    "        self.AvgPool1D3 = nn.AvgPool1d(input_dim, stride=125, padding=8)\n",
    "        \n",
    "        self.layer1 = self.down_layer(self.input_dim, self.layer_n, self.kernel_size,1, 2)\n",
    "        self.layer2 = self.down_layer(self.layer_n, int(self.layer_n*2), self.kernel_size,5, 2)\n",
    "        self.layer3 = self.down_layer(int(self.layer_n*2)+int(self.input_dim), int(self.layer_n*3), self.kernel_size,5, 2)\n",
    "        self.layer4 = self.down_layer(int(self.layer_n*3)+int(self.input_dim), int(self.layer_n*4), self.kernel_size,5, 2)\n",
    "        self.layer5 = self.down_layer(int(self.layer_n*4)+int(self.input_dim), int(self.layer_n*5), self.kernel_size,4, 2)\n",
    "\n",
    "        self.cbr_up1 = conbr_block(int(self.layer_n*7), int(self.layer_n*3), self.kernel_size, 1, 1)\n",
    "        self.cbr_up2 = conbr_block(int(self.layer_n*5), int(self.layer_n*2), self.kernel_size, 1, 1)\n",
    "        self.cbr_up3 = conbr_block(int(self.layer_n*3), self.layer_n, self.kernel_size, 1, 1)\n",
    "        self.upsample = nn.Upsample(scale_factor=5, mode='nearest')\n",
    "        self.upsample1 = nn.Upsample(scale_factor=5, mode='nearest') #for 4000 it is 5 and for 100 is 4\n",
    "        \n",
    "        self.outcov = nn.Conv1d(self.layer_n, 2, kernel_size=self.kernel_size, stride=1,padding = 3)\n",
    "    \n",
    "        \n",
    "    def down_layer(self, input_layer, out_layer, kernel, stride, depth):\n",
    "        block = []\n",
    "        block.append(conbr_block(input_layer, out_layer, kernel, stride, 1))\n",
    "        for i in range(depth):\n",
    "            block.append(re_block(out_layer,out_layer,kernel,1))\n",
    "        return nn.Sequential(*block)\n",
    "            \n",
    "    def forward(self, x):\n",
    "        \n",
    "        #print(\"x\", x.size())\n",
    "        pool_x1 = self.AvgPool1D1(x)\n",
    "        #print(\"pool_x1\", pool_x1.size())\n",
    "        \n",
    "        pool_x2 = self.AvgPool1D2(x)\n",
    "        #print(\"pool_x2\", pool_x2.size())\n",
    "        \n",
    "        pool_x3 = self.AvgPool1D3(x)\n",
    "        #print(\"pool_x3\", pool_x3.size())\n",
    "        \n",
    "        \n",
    "        #############Encoder#####################\n",
    "        \n",
    "        out_0 = self.layer1(x)\n",
    "        #print(\"out_0\", out_0.size())\n",
    "        out_1 = self.layer2(out_0)        \n",
    "        #print(\"out_1\", out_1.size())\n",
    "        \n",
    "        \n",
    "        x = torch.cat([out_1,pool_x1],1)\n",
    "\n",
    "        #print(\"x\", x.size())\n",
    "        out_2 = self.layer3(x)\n",
    "        #print(\"out_2\", out_2.size())\n",
    "        \n",
    "        x = torch.cat([out_2,pool_x2],1)\n",
    "        #print(\"x\", x.size())\n",
    "        x = self.layer4(x)\n",
    "        #print(\"x\", x.size())\n",
    "        \n",
    "        \n",
    "        #############Decoder####################\n",
    "        \n",
    "        up = self.upsample1(x)\n",
    "        #print(\"up\", up.size())\n",
    "        \n",
    "        up = torch.cat([up,out_2],1)\n",
    "        #print(\"up\", up.size())\n",
    "        \n",
    "        up = self.cbr_up1(up)\n",
    "        #print(\"up\", up.size())\n",
    "        \n",
    "        up = self.upsample(up)\n",
    "        #print(\"up\", up.size())\n",
    "        \n",
    "        up = torch.cat([up,out_1],1)\n",
    "        #print(\"up\", up.size())\n",
    "        \n",
    "        up = self.cbr_up2(up)\n",
    "        #print(\"up\", up.size())\n",
    "        \n",
    "        \n",
    "        up = self.upsample(up)\n",
    "        #print(\"up\", up.size())\n",
    "        \n",
    "        up = torch.cat([up,out_0],1)\n",
    "        #print(\"up\", up.size())\n",
    "        \n",
    "        up = self.cbr_up3(up)\n",
    "        #print(\"up\", up.size())\n",
    "        \n",
    "        out = self.outcov(up)\n",
    "        #print(\"out\", out.size())\n",
    "        \n",
    "        #out = nn.functional.softmax(out,dim=2)\n",
    "        \n",
    "        return out"
   ]
  },
  {
   "cell_type": "markdown",
   "id": "b457056d-4cb8-49d7-9023-5081d27558a4",
   "metadata": {},
   "source": [
    "let it be 100 -> 20 -> 4 -> 1"
   ]
  },
  {
   "cell_type": "code",
   "execution_count": 55,
   "id": "4d0066cf",
   "metadata": {},
   "outputs": [],
   "source": [
    "model = UNET_1D(20,128,7,3) #(input_dim, hidden_layer, kernel_size, depth)\n",
    "model = model.to(\"cuda\")"
   ]
  },
  {
   "cell_type": "code",
   "execution_count": 56,
   "id": "aacac38c",
   "metadata": {},
   "outputs": [],
   "source": [
    "def run_epoch(model, optimizer, criterion, dataloader, is_training=False):\n",
    "    epoch_loss = 0\n",
    "\n",
    "    if is_training:\n",
    "        model.train()\n",
    "    else:\n",
    "        model.eval()\n",
    "\n",
    "    for idx, (x, y) in tqdm(enumerate(dataloader)):\n",
    "        if is_training:\n",
    "            optimizer.zero_grad()\n",
    "      \n",
    "        #print(\"x\", x.shape)\n",
    "        \n",
    "\n",
    "        out = model(x)\n",
    "        #print(\"y\", y.shape)\n",
    "        #print(\"out\", out.shape)\n",
    "        loss = criterion(out, y)\n",
    "\n",
    "        if is_training:\n",
    "            loss.backward()\n",
    "            optimizer.step()\n",
    "\n",
    "        epoch_loss += (loss.detach().item() / len(dataloader))\n",
    "\n",
    "\n",
    "    return epoch_loss"
   ]
  },
  {
   "cell_type": "code",
   "execution_count": 57,
   "id": "70e02e8e",
   "metadata": {},
   "outputs": [
    {
     "data": {
      "image/png": "[encoded data removed]",
      "text/plain": [
       "<Figure size 1000x900 with 2 Axes>"
      ]
     },
     "metadata": {},
     "output_type": "display_data"
    },
    {
     "name": "stdout",
     "output_type": "stream",
     "text": [
      "Epoch[175/175] | loss train:0.021512, test:0.389924\n"
     ]
    }
   ],
   "source": [
    "# define optimizer and loss function\n",
    "\n",
    "criterion = nn.BCEWithLogitsLoss()#pos_weight = torch.FloatTensor([[0.3, 0.7]] * 4000).T.to(\"cuda\"))\n",
    "optimizer = optim.Adam(model.parameters(), lr=0.0001, betas=(0.9, 0.999), eps=1e-9)\n",
    "scheduler = ReduceLROnPlateau(optimizer, patience = 3, factor=0.5, min_lr=0.0001)\n",
    "lr = 0.001\n",
    "epochs = 175\n",
    "\n",
    "losses_train = []\n",
    "losses_test = []\n",
    "best_loss = 10e9\n",
    "# begin training\n",
    "\n",
    "early_stop_count = 15\n",
    "current_es = 0\n",
    "for epoch in range(epochs): \n",
    "    \n",
    "        \n",
    "    loss_train = run_epoch(model, optimizer, criterion, train_dataloader, is_training=True)\n",
    "    loss_val = run_epoch(model, optimizer, criterion, test_dataloader)\n",
    "    scheduler.step(loss_val)\n",
    "    losses_train.append(loss_train)\n",
    "    losses_test.append(loss_val)\n",
    "\n",
    "    if losses_test[-1] < best_loss:\n",
    "        current_es = 0\n",
    "        best_loss = losses_test[-1]\n",
    "        torch.save(model.state_dict(), \"./models/4000NewRecord\")\n",
    "    else:\n",
    "        current_es += 1\n",
    "    #if current_es == early_stop_count:\n",
    "        #break\n",
    "\n",
    "    clear_output(True)\n",
    "    fig = plt.figure(figsize=(10, 9))\n",
    "\n",
    "    ax_1 = fig.add_subplot(2, 1, 1)\n",
    "    ax_2 = fig.add_subplot(2, 1, 2)\n",
    "    ax_1.set_title('train')\n",
    "    ax_1.plot(losses_train)\n",
    "    ax_2.set_title('test')\n",
    "    ax_2.plot(losses_test)\n",
    "    plt.show()\n",
    "\n",
    "\n",
    "    print('Epoch[{}/{}] | loss train:{:.6f}, test:{:.6f}'\n",
    "              .format(epoch+1, epochs, loss_train, loss_val))"
   ]
  },
  {
   "cell_type": "code",
   "execution_count": 58,
   "id": "dd7d4852",
   "metadata": {},
   "outputs": [
    {
     "data": {
      "text/plain": [
       "<All keys matched successfully>"
      ]
     },
     "execution_count": 58,
     "metadata": {},
     "output_type": "execute_result"
    }
   ],
   "source": [
    "model.load_state_dict(torch.load(\"./models/4000NewRecord\"))"
   ]
  },
  {
   "cell_type": "code",
   "execution_count": 59,
   "id": "5628338a-ff54-4a44-8af2-4367eb1bed16",
   "metadata": {},
   "outputs": [],
   "source": [
    "full_record_rest = torch.FloatTensor(sigbufs[:, test_idx_fin:]).to(\"cuda\")"
   ]
  },
  {
   "cell_type": "code",
   "execution_count": 60,
   "id": "43ae65da-afea-4c6c-9659-e68ba114cca6",
   "metadata": {},
   "outputs": [],
   "source": [
    "full_record_rest_dummy_labels = torch.zeros([2, full_record_rest.shape[1]])"
   ]
  },
  {
   "cell_type": "code",
   "execution_count": 61,
   "id": "3fd1020c-74ba-4fe0-abb3-7b41f5b0ed01",
   "metadata": {},
   "outputs": [
    {
     "name": "stderr",
     "output_type": "stream",
     "text": [
      "100%|████████████████████████████████████████████████████████████████████████████████████████████████████████| 3076/3076 [00:00<00:00, 63845.68it/s]\n"
     ]
    }
   ],
   "source": [
    "full_record_rest_samples = CreateSamples(full_record_rest, full_record_rest_dummy_labels)"
   ]
  },
  {
   "cell_type": "code",
   "execution_count": 62,
   "id": "88344654-afb0-48d8-ba76-5910aefea1ff",
   "metadata": {},
   "outputs": [],
   "source": [
    "full_record_rest_dataloader = DataLoader(full_record_rest_samples, batch_size=64, shuffle=True, drop_last=True) # or train_samples for 4000 or new_train_samples for 100"
   ]
  },
  {
   "cell_type": "code",
   "execution_count": 63,
   "id": "67042bdd-84c9-41c9-9e3b-d7edaff2b679",
   "metadata": {},
   "outputs": [],
   "source": [
    "model.eval()\n",
    "#model.cpu()\n",
    "all_preds_unlabeled = []\n",
    "for idx, (x, y) in enumerate(full_record_rest_dataloader):\n",
    "    x = x.float()\n",
    "    #print(\"x\", x.shape)\n",
    "\n",
    "    out = model(x)\n",
    "    m = nn.Softmax(dim=1)\n",
    "    out = m(out)\n",
    "    #print(out.size())\n",
    "    #print(\"first\", out[:, 0].max())\n",
    "    #print(\"second\", out[:, 1].max())\n",
    "    \n",
    "    preds = np.argmax(out.detach().cpu().numpy(), axis=1)\n",
    "    all_preds_unlabeled.append(preds)\n",
    "\n",
    "all_preds_unlabeled = np.array(all_preds_unlabeled).reshape(len(full_record_rest_dataloader) * 64 * 4000)\n"
   ]
  },
  {
   "cell_type": "code",
   "execution_count": 64,
   "id": "78416b14-812d-4fa0-a0cc-8c7d5d64aab5",
   "metadata": {},
   "outputs": [],
   "source": [
    "np.save(\"predicts/4000NewRecordUnlabeled\", all_preds_unlabeled)"
   ]
  },
  {
   "cell_type": "code",
   "execution_count": 65,
   "id": "42ea5a82",
   "metadata": {},
   "outputs": [],
   "source": [
    "model.eval()\n",
    "#model.cpu()\n",
    "all_preds = []\n",
    "for idx, (x, y) in enumerate(test_dataloader):\n",
    "    x = x.float()\n",
    "    #print(\"x\", x.shape)\n",
    "\n",
    "    out = model(x)\n",
    "    m = nn.Softmax(dim=1)\n",
    "    out = m(out)\n",
    "    #print(out.size())\n",
    "    #print(\"first\", out[:, 0].max())\n",
    "    #print(\"second\", out[:, 1].max())\n",
    "    \n",
    "    preds = np.argmax(out.detach().cpu().numpy(), axis=1)\n",
    "    all_preds.append(preds)\n",
    "\n",
    "all_preds = np.array(all_preds).reshape(1 * 8 * 4000)#all_preds = np.array(all_preds).reshape(99 * 16 * 100)\n"
   ]
  },
  {
   "cell_type": "code",
   "execution_count": 66,
   "id": "c091f65a",
   "metadata": {},
   "outputs": [],
   "source": [
    "np.save(\"predicts/4000NewRecord\", all_preds)"
   ]
  },
  {
   "cell_type": "code",
   "execution_count": 49,
   "id": "584bf7c0-3f2e-4a95-b382-e078fa9e3c6e",
   "metadata": {},
   "outputs": [],
   "source": [
    "all_preds = np.load(\"predicts/4000NewRecord.npy\")"
   ]
  },
  {
   "cell_type": "markdown",
   "id": "dc3ec3dc",
   "metadata": {},
   "source": [
    "### Some results "
   ]
  },
  {
   "cell_type": "markdown",
   "id": "08d9b991-2238-48ec-8ab8-5eedca40cd5a",
   "metadata": {},
   "source": [
    "#### Raw Labels"
   ]
  },
  {
   "cell_type": "code",
   "execution_count": 67,
   "id": "081c5408-f3dd-4b70-bd0a-66f38f9dd821",
   "metadata": {},
   "outputs": [
    {
     "name": "stdout",
     "output_type": "stream",
     "text": [
      "accuracy 0.871625\n",
      "precision 0.7734873821830344\n",
      "recall 0.43067546978161503\n"
     ]
    }
   ],
   "source": [
    "pred_len = len(all_preds)\n",
    "print(\"accuracy\", (all_preds == test_labels[1, :pred_len].detach().cpu().numpy()).sum() /  pred_len)\n",
    "print(\"precision\", precision_score(test_labels[1, :pred_len].detach().cpu().numpy(), all_preds))\n",
    "print(\"recall\", recall_score(test_labels[1, :pred_len].detach().cpu().numpy(), all_preds))"
   ]
  },
  {
   "cell_type": "code",
   "execution_count": 68,
   "id": "ecf465d6-0e07-4e4f-b808-e4fb4af32a31",
   "metadata": {},
   "outputs": [
    {
     "data": {
      "image/png": "[encoded data removed]",
      "text/plain": [
       "<Figure size 640x480 with 2 Axes>"
      ]
     },
     "metadata": {},
     "output_type": "display_data"
    }
   ],
   "source": [
    "cm = confusion_matrix(test_labels[1, :pred_len].detach().cpu().numpy(), all_preds)\n",
    "cm_display = ConfusionMatrixDisplay(cm).plot()"
   ]
  },
  {
   "cell_type": "markdown",
   "id": "22891d41-407c-4971-88d5-50deccf47ba3",
   "metadata": {},
   "source": [
    "#### EpiSpike"
   ]
  },
  {
   "cell_type": "code",
   "execution_count": 69,
   "id": "20852c33-1bf6-4a6b-aa7b-1842a6cdb7af",
   "metadata": {},
   "outputs": [],
   "source": [
    "def CollectingTPFPFN(pred_labels, true_labels):\n",
    "    i = 0\n",
    "    TP = 0\n",
    "    FP = 0\n",
    "    FN = 0\n",
    "\n",
    "    is_true_flag = 0\n",
    "    is_pred_flag = 0\n",
    "    while i < len(pred_labels):\n",
    "        while true_labels[i] == 1:\n",
    "            is_true_flag = 1\n",
    "            if pred_labels[i] == 1:\n",
    "                is_pred_flag = 1\n",
    "            i += 1\n",
    "        if is_true_flag:\n",
    "            if is_pred_flag:\n",
    "                TP += 1\n",
    "            else:\n",
    "                FN += 1\n",
    "        \n",
    "        is_true_flag = 0\n",
    "        is_pred_flag = 0   \n",
    "        i += 1\n",
    "\n",
    "    i = 0\n",
    "    while i < len(pred_labels):\n",
    "        while pred_labels[i] == 1:\n",
    "            is_pred_flag = 1\n",
    "            if true_labels[i] == 1:\n",
    "                is_true_flag = 1\n",
    "            i += 1\n",
    "        if is_pred_flag and not is_true_flag:\n",
    "            FP += 1\n",
    "        is_pred_flag = 0\n",
    "        is_true_flag = 0\n",
    "        i += 1\n",
    "\n",
    "    return TP, FP, FN              "
   ]
  },
  {
   "cell_type": "code",
   "execution_count": 70,
   "id": "6afe922d-6f3e-478a-943b-4ec5ce08273f",
   "metadata": {},
   "outputs": [],
   "source": [
    "TP, FP, FN = CollectingTPFPFN(all_preds, test_labels[1, :pred_len].detach().cpu().numpy())"
   ]
  },
  {
   "cell_type": "code",
   "execution_count": 71,
   "id": "0dfa2ed1-54af-472f-a9b0-3c481941d4f9",
   "metadata": {},
   "outputs": [
    {
     "name": "stdout",
     "output_type": "stream",
     "text": [
      "precision 0.6666666666666666\n",
      "recall 0.723404255319149\n"
     ]
    }
   ],
   "source": [
    "print(\"precision\",TP / (TP + FP))\n",
    "print(\"recall\", TP / (TP + FN))"
   ]
  },
  {
   "cell_type": "code",
   "execution_count": 72,
   "id": "7efb5cdf-5a37-46f2-a49c-852bb588ffbe",
   "metadata": {},
   "outputs": [
    {
     "data": {
      "image/png": "[encoded data removed]",
      "text/plain": [
       "<Figure size 640x480 with 2 Axes>"
      ]
     },
     "metadata": {},
     "output_type": "display_data"
    }
   ],
   "source": [
    "cm = np.array([[0, FP], [FN, TP]])\n",
    "cm_display = ConfusionMatrixDisplay(cm).plot()"
   ]
  },
  {
   "cell_type": "markdown",
   "id": "7bf40124-e106-4e0a-a420-a960612e070e",
   "metadata": {},
   "source": [
    "### EDF wtire"
   ]
  },
  {
   "cell_type": "code",
   "execution_count": 74,
   "id": "c15245d6",
   "metadata": {},
   "outputs": [],
   "source": [
    "def CreateAnnotation(time_start, labels, freq, text):  # можно связать с прошлой анотацией, попробовать p concatenate\n",
    "    freq = 1/freq\n",
    "    i = 0\n",
    "    label_starts = [time_start]\n",
    "    label_lens = [-1]\n",
    "    desc = [\"StartPredictionTime\"]\n",
    "    while i < len(labels):\n",
    "        if labels[i] == 1:\n",
    "            desc.append(text)\n",
    "            label_starts.append(time_start + i*freq)\n",
    "            cur_start = i\n",
    "            while labels[i] == 1:\n",
    "                i += 1\n",
    "            label_lens.append((i - cur_start) * freq)\n",
    "        i += 1\n",
    "    label_starts += [time_start + i*freq]\n",
    "    label_lens += [-1]\n",
    "    desc += [\"EndPredictionTime\"]\n",
    "\n",
    "    return np.array(label_starts), np.array(label_lens), np.array(desc)"
   ]
  },
  {
   "cell_type": "code",
   "execution_count": 75,
   "id": "34f4d7da-5361-4195-878e-a5b8fb382faf",
   "metadata": {},
   "outputs": [],
   "source": [
    "#TEST_TIME_START = 6000"
   ]
  },
  {
   "cell_type": "code",
   "execution_count": 76,
   "id": "033e69f6-0fa2-469d-9f7b-f4b371e989d6",
   "metadata": {},
   "outputs": [],
   "source": [
    "preds_annotations_labeled = CreateAnnotation(TEST_TIME_START, all_preds, freq, \"LabeledPartPrediction\")\n",
    "preds_annotations_unlabeled = CreateAnnotation(TEST_TIME_END, all_preds_unlabeled, freq, \"ModelPredictionUnlabeledPart\")\n"
   ]
  },
  {
   "cell_type": "code",
   "execution_count": 38,
   "id": "3acc6b1e-e5f9-4d2a-a2d9-ae1aed527b25",
   "metadata": {},
   "outputs": [],
   "source": [
    "f.close()"
   ]
  },
  {
   "cell_type": "code",
   "execution_count": 77,
   "id": "8507a64d-ce28-4bdf-9bd7-03a156d96859",
   "metadata": {},
   "outputs": [
    {
     "name": "stdout",
     "output_type": "stream",
     "text": [
      "Extracting EDF parameters from /home/gromov_n/extreme-events/EEG seizure/EpiActivity/data/labeled_10mins_checkedSHA.edf...\n",
      "EDF file detected\n",
      "Setting channel info structure...\n",
      "Creating raw.info structure...\n"
     ]
    }
   ],
   "source": [
    "data = mne.io.read_raw_edf(\"data/labeled_10mins_checkedSHA.edf\")\n",
    "raw_data = data.get_data()\n",
    "# you can get the metadata included in the file and a list of all channels:\n",
    "info = data.info\n",
    "channels = data.ch_names"
   ]
  },
  {
   "cell_type": "code",
   "execution_count": 81,
   "id": "c75303d4-66b0-4708-bcc5-d7f2d98e0829",
   "metadata": {},
   "outputs": [
    {
     "data": {
      "text/plain": [
       "0.0"
      ]
     },
     "execution_count": 81,
     "metadata": {},
     "output_type": "execute_result"
    }
   ],
   "source": [
    "dur_max = preds_annotations_labeled[1].max()\n",
    "preds_annotations_labeled = list(preds_annotations_labeled)\n",
    "preds_annotations_labeled[1] = np.clip(preds_annotations_labeled[1], a_min=0, a_max = dur_max)\n",
    "\n",
    "dur_max = preds_annotations_unlabeled[1].max()\n",
    "preds_annotations_unlabeled = list(preds_annotations_unlabeled)\n",
    "preds_annotations_unlabeled[1] = np.clip(preds_annotations_unlabeled[1], a_min=0, a_max = dur_max)\n",
    "preds_annotations_unlabeled[1].min()"
   ]
  },
  {
   "cell_type": "code",
   "execution_count": 85,
   "id": "b8613557-a92b-4f5d-af00-c48629ae4d99",
   "metadata": {},
   "outputs": [],
   "source": [
    "old_annot = np.array([[data.annotations[i][\"onset\"], data.annotations[i][\"duration\"], data.annotations[i][\"description\"]] \n",
    "                      for i in range(len(data.annotations)) if \"EEG\" not in data.annotations[i][\"description\"]])\n",
    "full_annot = np.concatenate([np.array(preds_annotations_labeled), np.array(preds_annotations_unlabeled), old_annot.T], axis=1)\n",
    "annotations = mne.Annotations(full_annot[0], full_annot[1], full_annot[2])"
   ]
  },
  {
   "cell_type": "code",
   "execution_count": 86,
   "id": "890c36b5-cac0-4d68-82d4-7eef29a096ab",
   "metadata": {},
   "outputs": [
    {
     "data": {
      "text/plain": [
       "<Annotations | 15659 segments: * (298), ? (99), EndPredictionTime (4), ...>"
      ]
     },
     "execution_count": 86,
     "metadata": {},
     "output_type": "execute_result"
    }
   ],
   "source": [
    "data.set_annotations(annotations)\n",
    "data.annotations"
   ]
  },
  {
   "cell_type": "code",
   "execution_count": 87,
   "id": "8e3d54ed-c042-4778-bf59-332218e0b12c",
   "metadata": {},
   "outputs": [
    {
     "name": "stdout",
     "output_type": "stream",
     "text": [
      "Overwriting existing file.\n"
     ]
    }
   ],
   "source": [
    "data.export(\"predicts/NewRecordPredsUnlabeledFixed.edf\", overwrite=True)"
   ]
  },
  {
   "cell_type": "code",
   "execution_count": null,
   "id": "25b4f879-0a3f-4129-bb54-b4a630c5ad7d",
   "metadata": {},
   "outputs": [],
   "source": []
  }
 ],
 "metadata": {
  "kernelspec": {
   "display_name": "Python 3 (ipykernel)",
   "language": "python",
   "name": "python3"
  },
  "language_info": {
   "codemirror_mode": {
    "name": "ipython",
    "version": 3
   },
   "file_extension": ".py",
   "mimetype": "text/x-python",
   "name": "python",
   "nbconvert_exporter": "python",
   "pygments_lexer": "ipython3",
   "version": "3.10.12"
  }
 },
 "nbformat": 4,
 "nbformat_minor": 5
}
