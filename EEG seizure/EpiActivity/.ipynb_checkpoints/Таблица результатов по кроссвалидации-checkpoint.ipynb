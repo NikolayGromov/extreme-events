{
 "cells": [
  {
   "cell_type": "code",
   "execution_count": 1,
   "id": "33d312d0",
   "metadata": {
    "ExecuteTime": {
     "end_time": "2024-12-26T13:47:01.319053Z",
     "start_time": "2024-12-26T13:47:01.083153Z"
    }
   },
   "outputs": [],
   "source": [
    "import pandas as pd\n",
    "import numpy as np\n",
    "import os"
   ]
  },
  {
   "cell_type": "code",
   "execution_count": 2,
   "id": "6e7402b3",
   "metadata": {
    "ExecuteTime": {
     "end_time": "2024-12-26T13:47:01.875263Z",
     "start_time": "2024-12-26T13:47:01.872153Z"
    }
   },
   "outputs": [],
   "source": [
    "path = \"CrossValidationResults/\""
   ]
  },
  {
   "cell_type": "code",
   "execution_count": 3,
   "id": "cc1bade8",
   "metadata": {
    "ExecuteTime": {
     "end_time": "2024-12-26T13:47:02.361513Z",
     "start_time": "2024-12-26T13:47:02.356908Z"
    }
   },
   "outputs": [],
   "source": [
    "df = pd.DataFrame(columns=['name', 'precision', 'recall', \"f1\"])"
   ]
  },
  {
   "cell_type": "code",
   "execution_count": 4,
   "id": "8fc235c0",
   "metadata": {
    "ExecuteTime": {
     "end_time": "2024-12-26T13:47:03.641096Z",
     "start_time": "2024-12-26T13:47:02.870476Z"
    }
   },
   "outputs": [],
   "source": [
    "i = 0\n",
    "for exp_name in os.listdir(path):\n",
    "    if \"ipynb\" not in exp_name:\n",
    "        precision = []\n",
    "        recall = []\n",
    "        f1 = []\n",
    "        for split in os.listdir(path+exp_name):\n",
    "            if \"ipynb\" not in split:\n",
    "                f = open(path + exp_name + \"/\" + split + \"/Metrics.txt\", 'r')\n",
    "                text = f.read()\n",
    "                #print(exp_name)\n",
    "                #print(text.split(\"\\n\"))\n",
    "                precision.append(float(text.split(\"\\n\")[-4].split(\" \")[2]))\n",
    "                recall.append(float(text.split(\"\\n\")[-3].split(\" \")[2]))            \n",
    "                f1.append(float(text.split(\"\\n\")[-2].split(\" \")[2])) \n",
    "                f.close()\n",
    "        df.loc[i] = [exp_name] + [np.mean(precision), np.mean(recall), np.mean(f1)]\n",
    "        i += 1\n",
    "        "
   ]
  },
  {
   "cell_type": "code",
   "execution_count": 5,
   "id": "6c7872e5",
   "metadata": {
    "ExecuteTime": {
     "end_time": "2024-12-26T13:47:04.568374Z",
     "start_time": "2024-12-26T13:47:04.541342Z"
    }
   },
   "outputs": [
    {
     "data": {
      "text/html": [
       "<div>\n",
       "<style scoped>\n",
       "    .dataframe tbody tr th:only-of-type {\n",
       "        vertical-align: middle;\n",
       "    }\n",
       "\n",
       "    .dataframe tbody tr th {\n",
       "        vertical-align: top;\n",
       "    }\n",
       "\n",
       "    .dataframe thead th {\n",
       "        text-align: right;\n",
       "    }\n",
       "</style>\n",
       "<table border=\"1\" class=\"dataframe\">\n",
       "  <thead>\n",
       "    <tr style=\"text-align: right;\">\n",
       "      <th></th>\n",
       "      <th>name</th>\n",
       "      <th>precision</th>\n",
       "      <th>recall</th>\n",
       "      <th>f1</th>\n",
       "    </tr>\n",
       "  </thead>\n",
       "  <tbody>\n",
       "    <tr>\n",
       "      <th>0</th>\n",
       "      <td>20RecordsNormalizedRightFreq</td>\n",
       "      <td>0.849458</td>\n",
       "      <td>0.566808</td>\n",
       "      <td>0.656051</td>\n",
       "    </tr>\n",
       "    <tr>\n",
       "      <th>1</th>\n",
       "      <td>MixedLeadsLastEpoch</td>\n",
       "      <td>0.630216</td>\n",
       "      <td>0.318792</td>\n",
       "      <td>0.364886</td>\n",
       "    </tr>\n",
       "    <tr>\n",
       "      <th>2</th>\n",
       "      <td>Freq500</td>\n",
       "      <td>0.854180</td>\n",
       "      <td>0.686722</td>\n",
       "      <td>0.752122</td>\n",
       "    </tr>\n",
       "    <tr>\n",
       "      <th>3</th>\n",
       "      <td>20RecordsNormalizedRightFreqOnlyMoscow</td>\n",
       "      <td>0.742490</td>\n",
       "      <td>0.540640</td>\n",
       "      <td>0.615320</td>\n",
       "    </tr>\n",
       "    <tr>\n",
       "      <th>4</th>\n",
       "      <td>Freq500MixedLeads</td>\n",
       "      <td>0.536064</td>\n",
       "      <td>0.310290</td>\n",
       "      <td>0.351303</td>\n",
       "    </tr>\n",
       "    <tr>\n",
       "      <th>5</th>\n",
       "      <td>20RecordsNormalized</td>\n",
       "      <td>0.796903</td>\n",
       "      <td>0.569467</td>\n",
       "      <td>0.628880</td>\n",
       "    </tr>\n",
       "    <tr>\n",
       "      <th>6</th>\n",
       "      <td>13Records</td>\n",
       "      <td>0.802944</td>\n",
       "      <td>0.526837</td>\n",
       "      <td>0.611770</td>\n",
       "    </tr>\n",
       "    <tr>\n",
       "      <th>7</th>\n",
       "      <td>MixedLeads</td>\n",
       "      <td>0.670215</td>\n",
       "      <td>0.379990</td>\n",
       "      <td>0.463501</td>\n",
       "    </tr>\n",
       "    <tr>\n",
       "      <th>8</th>\n",
       "      <td>18RecordsNormalized</td>\n",
       "      <td>0.773036</td>\n",
       "      <td>0.588744</td>\n",
       "      <td>0.659240</td>\n",
       "    </tr>\n",
       "    <tr>\n",
       "      <th>9</th>\n",
       "      <td>Freq500MixedLeadsLastEpoch</td>\n",
       "      <td>0.429014</td>\n",
       "      <td>0.177181</td>\n",
       "      <td>0.228387</td>\n",
       "    </tr>\n",
       "    <tr>\n",
       "      <th>10</th>\n",
       "      <td>NewSWI</td>\n",
       "      <td>0.876762</td>\n",
       "      <td>0.776043</td>\n",
       "      <td>0.819672</td>\n",
       "    </tr>\n",
       "    <tr>\n",
       "      <th>11</th>\n",
       "      <td>13RecordsNormalized</td>\n",
       "      <td>0.817994</td>\n",
       "      <td>0.577931</td>\n",
       "      <td>0.657816</td>\n",
       "    </tr>\n",
       "    <tr>\n",
       "      <th>12</th>\n",
       "      <td>FirstExperement</td>\n",
       "      <td>0.876762</td>\n",
       "      <td>0.776043</td>\n",
       "      <td>0.819672</td>\n",
       "    </tr>\n",
       "  </tbody>\n",
       "</table>\n",
       "</div>"
      ],
      "text/plain": [
       "                                      name  precision    recall        f1\n",
       "0             20RecordsNormalizedRightFreq   0.849458  0.566808  0.656051\n",
       "1                      MixedLeadsLastEpoch   0.630216  0.318792  0.364886\n",
       "2                                  Freq500   0.854180  0.686722  0.752122\n",
       "3   20RecordsNormalizedRightFreqOnlyMoscow   0.742490  0.540640  0.615320\n",
       "4                        Freq500MixedLeads   0.536064  0.310290  0.351303\n",
       "5                      20RecordsNormalized   0.796903  0.569467  0.628880\n",
       "6                                13Records   0.802944  0.526837  0.611770\n",
       "7                               MixedLeads   0.670215  0.379990  0.463501\n",
       "8                      18RecordsNormalized   0.773036  0.588744  0.659240\n",
       "9               Freq500MixedLeadsLastEpoch   0.429014  0.177181  0.228387\n",
       "10                                  NewSWI   0.876762  0.776043  0.819672\n",
       "11                     13RecordsNormalized   0.817994  0.577931  0.657816\n",
       "12                         FirstExperement   0.876762  0.776043  0.819672"
      ]
     },
     "execution_count": 5,
     "metadata": {},
     "output_type": "execute_result"
    }
   ],
   "source": [
    "df"
   ]
  },
  {
   "cell_type": "code",
   "execution_count": 6,
   "id": "f6c58e34",
   "metadata": {
    "ExecuteTime": {
     "end_time": "2024-12-26T13:47:08.062883Z",
     "start_time": "2024-12-26T13:47:08.042019Z"
    }
   },
   "outputs": [
    {
     "data": {
      "text/html": [
       "<div>\n",
       "<style scoped>\n",
       "    .dataframe tbody tr th:only-of-type {\n",
       "        vertical-align: middle;\n",
       "    }\n",
       "\n",
       "    .dataframe tbody tr th {\n",
       "        vertical-align: top;\n",
       "    }\n",
       "\n",
       "    .dataframe thead th {\n",
       "        text-align: right;\n",
       "    }\n",
       "</style>\n",
       "<table border=\"1\" class=\"dataframe\">\n",
       "  <thead>\n",
       "    <tr style=\"text-align: right;\">\n",
       "      <th></th>\n",
       "      <th>name</th>\n",
       "      <th>precision</th>\n",
       "      <th>recall</th>\n",
       "      <th>f1</th>\n",
       "    </tr>\n",
       "  </thead>\n",
       "  <tbody>\n",
       "    <tr>\n",
       "      <th>9</th>\n",
       "      <td>Freq500MixedLeadsLastEpoch</td>\n",
       "      <td>0.429014</td>\n",
       "      <td>0.177181</td>\n",
       "      <td>0.228387</td>\n",
       "    </tr>\n",
       "    <tr>\n",
       "      <th>4</th>\n",
       "      <td>Freq500MixedLeads</td>\n",
       "      <td>0.536064</td>\n",
       "      <td>0.310290</td>\n",
       "      <td>0.351303</td>\n",
       "    </tr>\n",
       "    <tr>\n",
       "      <th>1</th>\n",
       "      <td>MixedLeadsLastEpoch</td>\n",
       "      <td>0.630216</td>\n",
       "      <td>0.318792</td>\n",
       "      <td>0.364886</td>\n",
       "    </tr>\n",
       "    <tr>\n",
       "      <th>7</th>\n",
       "      <td>MixedLeads</td>\n",
       "      <td>0.670215</td>\n",
       "      <td>0.379990</td>\n",
       "      <td>0.463501</td>\n",
       "    </tr>\n",
       "    <tr>\n",
       "      <th>6</th>\n",
       "      <td>13Records</td>\n",
       "      <td>0.802944</td>\n",
       "      <td>0.526837</td>\n",
       "      <td>0.611770</td>\n",
       "    </tr>\n",
       "    <tr>\n",
       "      <th>3</th>\n",
       "      <td>20RecordsNormalizedRightFreqOnlyMoscow</td>\n",
       "      <td>0.742490</td>\n",
       "      <td>0.540640</td>\n",
       "      <td>0.615320</td>\n",
       "    </tr>\n",
       "    <tr>\n",
       "      <th>5</th>\n",
       "      <td>20RecordsNormalized</td>\n",
       "      <td>0.796903</td>\n",
       "      <td>0.569467</td>\n",
       "      <td>0.628880</td>\n",
       "    </tr>\n",
       "    <tr>\n",
       "      <th>0</th>\n",
       "      <td>20RecordsNormalizedRightFreq</td>\n",
       "      <td>0.849458</td>\n",
       "      <td>0.566808</td>\n",
       "      <td>0.656051</td>\n",
       "    </tr>\n",
       "    <tr>\n",
       "      <th>11</th>\n",
       "      <td>13RecordsNormalized</td>\n",
       "      <td>0.817994</td>\n",
       "      <td>0.577931</td>\n",
       "      <td>0.657816</td>\n",
       "    </tr>\n",
       "    <tr>\n",
       "      <th>8</th>\n",
       "      <td>18RecordsNormalized</td>\n",
       "      <td>0.773036</td>\n",
       "      <td>0.588744</td>\n",
       "      <td>0.659240</td>\n",
       "    </tr>\n",
       "    <tr>\n",
       "      <th>2</th>\n",
       "      <td>Freq500</td>\n",
       "      <td>0.854180</td>\n",
       "      <td>0.686722</td>\n",
       "      <td>0.752122</td>\n",
       "    </tr>\n",
       "    <tr>\n",
       "      <th>10</th>\n",
       "      <td>NewSWI</td>\n",
       "      <td>0.876762</td>\n",
       "      <td>0.776043</td>\n",
       "      <td>0.819672</td>\n",
       "    </tr>\n",
       "    <tr>\n",
       "      <th>12</th>\n",
       "      <td>FirstExperement</td>\n",
       "      <td>0.876762</td>\n",
       "      <td>0.776043</td>\n",
       "      <td>0.819672</td>\n",
       "    </tr>\n",
       "  </tbody>\n",
       "</table>\n",
       "</div>"
      ],
      "text/plain": [
       "                                      name  precision    recall        f1\n",
       "9               Freq500MixedLeadsLastEpoch   0.429014  0.177181  0.228387\n",
       "4                        Freq500MixedLeads   0.536064  0.310290  0.351303\n",
       "1                      MixedLeadsLastEpoch   0.630216  0.318792  0.364886\n",
       "7                               MixedLeads   0.670215  0.379990  0.463501\n",
       "6                                13Records   0.802944  0.526837  0.611770\n",
       "3   20RecordsNormalizedRightFreqOnlyMoscow   0.742490  0.540640  0.615320\n",
       "5                      20RecordsNormalized   0.796903  0.569467  0.628880\n",
       "0             20RecordsNormalizedRightFreq   0.849458  0.566808  0.656051\n",
       "11                     13RecordsNormalized   0.817994  0.577931  0.657816\n",
       "8                      18RecordsNormalized   0.773036  0.588744  0.659240\n",
       "2                                  Freq500   0.854180  0.686722  0.752122\n",
       "10                                  NewSWI   0.876762  0.776043  0.819672\n",
       "12                         FirstExperement   0.876762  0.776043  0.819672"
      ]
     },
     "execution_count": 6,
     "metadata": {},
     "output_type": "execute_result"
    }
   ],
   "source": [
    "df.sort_values(\"f1\")"
   ]
  },
  {
   "cell_type": "code",
   "execution_count": null,
   "id": "88e0affe",
   "metadata": {},
   "outputs": [],
   "source": []
  }
 ],
 "metadata": {
  "kernelspec": {
   "display_name": "Python 3 (ipykernel)",
   "language": "python",
   "name": "python3"
  },
  "language_info": {
   "codemirror_mode": {
    "name": "ipython",
    "version": 3
   },
   "file_extension": ".py",
   "mimetype": "text/x-python",
   "name": "python",
   "nbconvert_exporter": "python",
   "pygments_lexer": "ipython3",
   "version": "3.10.12"
  },
  "toc": {
   "base_numbering": 1,
   "nav_menu": {},
   "number_sections": true,
   "sideBar": true,
   "skip_h1_title": false,
   "title_cell": "Table of Contents",
   "title_sidebar": "Contents",
   "toc_cell": false,
   "toc_position": {},
   "toc_section_display": true,
   "toc_window_display": false
  },
  "varInspector": {
   "cols": {
    "lenName": 16,
    "lenType": 16,
    "lenVar": 40
   },
   "kernels_config": {
    "python": {
     "delete_cmd_postfix": "",
     "delete_cmd_prefix": "del ",
     "library": "var_list.py",
     "varRefreshCmd": "print(var_dic_list())"
    },
    "r": {
     "delete_cmd_postfix": ") ",
     "delete_cmd_prefix": "rm(",
     "library": "var_list.r",
     "varRefreshCmd": "cat(var_dic_list()) "
    }
   },
   "types_to_exclude": [
    "module",
    "function",
    "builtin_function_or_method",
    "instance",
    "_Feature"
   ],
   "window_display": false
  }
 },
 "nbformat": 4,
 "nbformat_minor": 5
}
