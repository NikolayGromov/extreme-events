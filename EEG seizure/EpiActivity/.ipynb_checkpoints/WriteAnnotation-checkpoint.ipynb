{
 "cells": [
  {
   "cell_type": "code",
   "execution_count": 1,
   "id": "4c1f5592",
   "metadata": {},
   "outputs": [],
   "source": [
    "import mne\n",
    "import numpy as np\n"
   ]
  },
  {
   "cell_type": "markdown",
   "id": "23d01357-e2ba-4f5b-83cb-8ba2af23c1f9",
   "metadata": {},
   "source": [
    "Открываем запись ЭЭГ"
   ]
  },
  {
   "cell_type": "code",
   "execution_count": 2,
   "id": "8507a64d-ce28-4bdf-9bd7-03a156d96859",
   "metadata": {},
   "outputs": [
    {
     "name": "stdout",
     "output_type": "stream",
     "text": [
      "Extracting EDF parameters from /home/gromov_n/extreme-events/EEG seizure/EpiActivity/data/record0-Copy1.edf...\n",
      "EDF file detected\n",
      "Setting channel info structure...\n",
      "Creating raw.info structure...\n"
     ]
    },
    {
     "name": "stderr",
     "output_type": "stream",
     "text": [
      "/tmp/ipykernel_3968909/659960048.py:1: RuntimeWarning: Channels contain different highpass filters. Highest filter setting will be stored.\n",
      "  data = mne.io.read_raw_edf(\"data/record0-Copy1.edf\")\n"
     ]
    }
   ],
   "source": [
    "data = mne.io.read_raw_edf(\"data/record0-Copy1.edf\")\n",
    "raw_data = data.get_data()\n",
    "# you can get the metadata included in the file and a list of all channels:\n",
    "info = data.info\n",
    "channels = data.ch_names"
   ]
  },
  {
   "cell_type": "code",
   "execution_count": 12,
   "id": "5d5d39ba-975e-4e2c-b9c8-9fd7dd06b060",
   "metadata": {},
   "outputs": [
    {
     "name": "stdout",
     "output_type": "stream",
     "text": [
      "<RawEDF | record0-Copy1.edf, 20 x 1551205 (7775.4 s), ~236.7 MB, data loaded>\n",
      "ch  name        type  unit        min         Q1     median         Q3        max\n",
      " 0  EEG Fp1-F3  EEG   µV     -3276.80     -16.40       1.10      21.80    3276.70\n",
      " 1  EEG Fp2-F4  EEG   µV     -3276.80     -13.20       0.60      16.90    3276.70\n",
      " 2  EEG F3-C3   EEG   µV     -3276.80     -10.30      -0.20       9.80    3276.70\n",
      " 3  EEG F4-C4   EEG   µV     -3276.80     -12.50      -0.20      11.30    3276.70\n",
      " 4  EEG C3-P3   EEG   µV     -3276.80     -10.40       0.00      10.00    3276.70\n",
      " 5  EEG C4-P4   EEG   µV     -3276.80     -10.30      -0.10       9.90    3276.70\n",
      " 6  EEG P3-O1   EEG   µV     -3276.80     -10.80       0.30      12.30    3276.70\n",
      " 7  EEG P4-O2   EEG   µV     -3276.80     -12.70       0.00      12.80    3276.70\n",
      " 8  EEG Fp1-F7  EEG   µV     -3276.80     -15.40       1.00      19.30    3276.70\n",
      " 9  EEG Fp2-F8  EEG   µV     -3276.80     -18.40       0.30      19.40    3276.70\n",
      "10  EEG F7-T3   EEG   µV     -3276.80     -11.40      -0.30      11.00    3276.70\n",
      "11  EEG F8-T4   EEG   µV     -3276.80     -15.00      -0.70      13.20    3276.70\n",
      "12  EEG T3-T5   EEG   µV     -3276.80     -13.30       0.00      12.70    3276.70\n",
      "13  EEG T4-T6   EEG   µV     -3276.80     -14.80      -0.50      12.90    3276.70\n",
      "14  EEG T5-O1   EEG   µV     -3276.80      -8.80       0.20       9.30    3276.70\n",
      "15  EEG T6-O2   EEG   µV     -3276.80      -9.20       0.10       9.50    3276.70\n",
      "16  EEG Fz-Cz   EEG   µV     -3276.80     -12.20      -0.40      11.10    3276.70\n",
      "17  EEG Cz-Pz   EEG   µV     -3276.80      -9.20       0.80      12.30    3276.70\n",
      "18  EEG Pz-Fz   EEG   µV     -3276.80     -16.60      -0.30      15.30    3276.70\n",
      "19  EEG ECG     EEG   µV     -3276.80     -16.70       6.30      21.10    3276.70\n"
     ]
    }
   ],
   "source": [
    "data."
   ]
  },
  {
   "cell_type": "code",
   "execution_count": 15,
   "id": "b450e98d-1730-4d66-9f93-39ba1235688b",
   "metadata": {},
   "outputs": [
    {
     "data": {
      "text/html": [
       "<details open>\n",
       "    <summary><strong>General</strong></summary>\n",
       "    <table class=\"table table-hover table-striped table-sm table-responsive small\">\n",
       "        <tr>\n",
       "            <th>Measurement date</th>\n",
       "            \n",
       "            <td>January 28, 2024  21:54:45 GMT</td>\n",
       "            \n",
       "        </tr>\n",
       "        <tr>\n",
       "            <th>Experimenter</th>\n",
       "            \n",
       "            <td>Unknown</td>\n",
       "            \n",
       "        </tr>\n",
       "        <tr>\n",
       "            <th>Participant</th>\n",
       "            \n",
       "            \n",
       "            <td>79CA7028-6DBC-43A2-80C4-7D616BAD34C9</td>\n",
       "            \n",
       "            \n",
       "        </tr>\n",
       "    </table>\n",
       "    </details>\n",
       "    <details open>\n",
       "        <summary><strong>Channels</strong></summary>\n",
       "        <table class=\"table table-hover table-striped table-sm table-responsive small\">\n",
       "            <tr>\n",
       "                <th>Digitized points</th>\n",
       "                \n",
       "                <td>Not available</td>\n",
       "                \n",
       "            </tr>\n",
       "            <tr>\n",
       "                <th>Good channels</th>\n",
       "                <td>20 EEG</td>\n",
       "            </tr>\n",
       "            <tr>\n",
       "                <th>Bad channels</th>\n",
       "                <td>None</td>\n",
       "            </tr>\n",
       "            <tr>\n",
       "                <th>EOG channels</th>\n",
       "                <td>Not available</td>\n",
       "            </tr>\n",
       "            <tr>\n",
       "                <th>ECG channels</th>\n",
       "                <td>Not available</td>\n",
       "            </tr>\n",
       "        </table>\n",
       "        </details>\n",
       "        <details open>\n",
       "            <summary><strong>Data</strong></summary>\n",
       "            <table class=\"table table-hover table-striped table-sm table-responsive small\">\n",
       "                \n",
       "                <tr>\n",
       "                    <th>Sampling frequency</th>\n",
       "                    <td>199.50 Hz</td>\n",
       "                </tr>\n",
       "                \n",
       "                \n",
       "                <tr>\n",
       "                    <th>Highpass</th>\n",
       "                    <td>3.00 Hz</td>\n",
       "                </tr>\n",
       "                \n",
       "                \n",
       "                <tr>\n",
       "                    <th>Lowpass</th>\n",
       "                    <td>70.00 Hz</td>\n",
       "                </tr>\n",
       "                \n",
       "                \n",
       "                \n",
       "                \n",
       "            </table>\n",
       "            </details>"
      ],
      "text/plain": [
       "<Info | 8 non-empty values\n",
       " bads: []\n",
       " ch_names: EEG Fp1-F3, EEG Fp2-F4, EEG F3-C3, EEG F4-C4, EEG C3-P3, EEG ...\n",
       " chs: 20 EEG\n",
       " custom_ref_applied: False\n",
       " highpass: 3.0 Hz\n",
       " lowpass: 70.0 Hz\n",
       " meas_date: 2024-01-28 21:54:45 UTC\n",
       " nchan: 20\n",
       " projs: []\n",
       " sfreq: 199.5 Hz\n",
       " subject_info: 5 items (dict)\n",
       ">"
      ]
     },
     "execution_count": 15,
     "metadata": {},
     "output_type": "execute_result"
    }
   ],
   "source": [
    "info"
   ]
  },
  {
   "cell_type": "markdown",
   "id": "390cef5c-1fbc-4ec1-806a-0e0ed20ae9c1",
   "metadata": {},
   "source": [
    "Собираю аннотацию, в формате списка из трех массивов [все времена старта события в секундах, все длительности в секундах, все описания] длительности все должны быть >=0, в edf бывает -1, тут нужно переделывать в 0. Чтобы перевести в секунды, нужно просто поделить на частоту дискретизации, она хранится в переменной info: info['sfreq']"
   ]
  },
  {
   "cell_type": "code",
   "execution_count": 26,
   "id": "c75303d4-66b0-4708-bcc5-d7f2d98e0829",
   "metadata": {},
   "outputs": [
    {
     "data": {
      "text/plain": [
       "0.0"
      ]
     },
     "execution_count": 26,
     "metadata": {},
     "output_type": "execute_result"
    }
   ],
   "source": [
    "dur_max = preds_annotations[1].max()\n",
    "preds_annotations = list(preds_annotations)\n",
    "preds_annotations[1] = np.clip(preds_annotations[1], a_min=0, a_max = dur_max)\n",
    "preds_annotations[1].min()"
   ]
  },
  {
   "cell_type": "markdown",
   "id": "74cc280e-35ee-4cb1-ae68-23d4b0890211",
   "metadata": {},
   "source": [
    "Склеиваю со старой аннотацией"
   ]
  },
  {
   "cell_type": "code",
   "execution_count": 28,
   "id": "b8613557-a92b-4f5d-af00-c48629ae4d99",
   "metadata": {},
   "outputs": [],
   "source": [
    "old_annot = np.array([[data.annotations[i][\"onset\"], data.annotations[i][\"duration\"], data.annotations[i][\"description\"]] \n",
    "                      for i in range(len(data.annotations))])\n",
    "full_annot = np.concatenate([np.array(preds_annotations), old_annot.T], axis=1)\n",
    "annotations = mne.Annotations(full_annot[0], full_annot[1], full_annot[2]) # тот же формат аргументов"
   ]
  },
  {
   "cell_type": "markdown",
   "id": "c8e28793-82fa-41d3-9f86-782f9a24d012",
   "metadata": {},
   "source": [
    "Добавляю в запись"
   ]
  },
  {
   "cell_type": "code",
   "execution_count": 29,
   "id": "890c36b5-cac0-4d68-82d4-7eef29a096ab",
   "metadata": {},
   "outputs": [
    {
     "data": {
      "text/plain": [
       "<Annotations | 3948 segments: * (2953), EndPredictionTime (1), ...>"
      ]
     },
     "execution_count": 29,
     "metadata": {},
     "output_type": "execute_result"
    }
   ],
   "source": [
    "data.set_annotations(annotations)\n",
    "data.annotations"
   ]
  },
  {
   "cell_type": "markdown",
   "id": "1d3f808d-f056-4309-8e47-f192327be08b",
   "metadata": {},
   "source": [
    "Сохраняю"
   ]
  },
  {
   "cell_type": "code",
   "execution_count": 3,
   "id": "8e3d54ed-c042-4778-bf59-332218e0b12c",
   "metadata": {},
   "outputs": [
    {
     "name": "stdout",
     "output_type": "stream",
     "text": [
      "Reading 0 ... 1551204  =      0.000 ...  7775.352 secs...\n"
     ]
    },
    {
     "name": "stderr",
     "output_type": "stream",
     "text": [
      "/tmp/ipykernel_3968909/2747206715.py:1: RuntimeWarning: Data has a non-integer sampling rate of 199.50274692224406; writing to EDF format may cause a small change to sample times.\n",
      "  data.export(\"predicts/Test.edf\", overwrite=True)\n"
     ]
    },
    {
     "ename": "ValueError",
     "evalue": "Inconsistent signal durations (in seconds): [7775.3566, 7775.3566, 7775.3566, 7775.3566, 7775.3566, 7775.3566, 7775.3566, 7775.3566, 7775.3566, 7775.3566, 7775.3566, 7775.3566, 7775.3566, 7775.3566, 7775.3566, 7775.3566, 7775.3566, 7775.3566, 7775.3566, 7775.3566, 7775.356600000001]",
     "output_type": "error",
     "traceback": [
      "\u001b[0;31m---------------------------------------------------------------------------\u001b[0m",
      "\u001b[0;31mValueError\u001b[0m                                Traceback (most recent call last)",
      "Cell \u001b[0;32mIn[3], line 1\u001b[0m\n\u001b[0;32m----> 1\u001b[0m \u001b[43mdata\u001b[49m\u001b[38;5;241;43m.\u001b[39;49m\u001b[43mexport\u001b[49m\u001b[43m(\u001b[49m\u001b[38;5;124;43m\"\u001b[39;49m\u001b[38;5;124;43mpredicts/Test.edf\u001b[39;49m\u001b[38;5;124;43m\"\u001b[39;49m\u001b[43m,\u001b[49m\u001b[43m \u001b[49m\u001b[43moverwrite\u001b[49m\u001b[38;5;241;43m=\u001b[39;49m\u001b[38;5;28;43;01mTrue\u001b[39;49;00m\u001b[43m)\u001b[49m\n",
      "File \u001b[0;32m<decorator-gen-196>:12\u001b[0m, in \u001b[0;36mexport\u001b[0;34m(self, fname, fmt, physical_range, add_ch_type, overwrite, verbose)\u001b[0m\n",
      "File \u001b[0;32m~/nikolay/lib/python3.10/site-packages/mne/io/base.py:1792\u001b[0m, in \u001b[0;36mBaseRaw.export\u001b[0;34m(self, fname, fmt, physical_range, add_ch_type, overwrite, verbose)\u001b[0m\n\u001b[1;32m   1765\u001b[0m \u001b[38;5;250m\u001b[39m\u001b[38;5;124;03m\"\"\"Export Raw to external formats.\u001b[39;00m\n\u001b[1;32m   1766\u001b[0m \n\u001b[1;32m   1767\u001b[0m \u001b[38;5;124;03m%(export_fmt_support_raw)s\u001b[39;00m\n\u001b[0;32m   (...)\u001b[0m\n\u001b[1;32m   1788\u001b[0m \u001b[38;5;124;03m%(export_edf_note)s\u001b[39;00m\n\u001b[1;32m   1789\u001b[0m \u001b[38;5;124;03m\"\"\"\u001b[39;00m\n\u001b[1;32m   1790\u001b[0m \u001b[38;5;28;01mfrom\u001b[39;00m \u001b[38;5;21;01m.\u001b[39;00m\u001b[38;5;21;01m.\u001b[39;00m\u001b[38;5;21;01mexport\u001b[39;00m \u001b[38;5;28;01mimport\u001b[39;00m export_raw\n\u001b[0;32m-> 1792\u001b[0m \u001b[43mexport_raw\u001b[49m\u001b[43m(\u001b[49m\n\u001b[1;32m   1793\u001b[0m \u001b[43m    \u001b[49m\u001b[43mfname\u001b[49m\u001b[43m,\u001b[49m\n\u001b[1;32m   1794\u001b[0m \u001b[43m    \u001b[49m\u001b[38;5;28;43mself\u001b[39;49m\u001b[43m,\u001b[49m\n\u001b[1;32m   1795\u001b[0m \u001b[43m    \u001b[49m\u001b[43mfmt\u001b[49m\u001b[43m,\u001b[49m\n\u001b[1;32m   1796\u001b[0m \u001b[43m    \u001b[49m\u001b[43mphysical_range\u001b[49m\u001b[38;5;241;43m=\u001b[39;49m\u001b[43mphysical_range\u001b[49m\u001b[43m,\u001b[49m\n\u001b[1;32m   1797\u001b[0m \u001b[43m    \u001b[49m\u001b[43madd_ch_type\u001b[49m\u001b[38;5;241;43m=\u001b[39;49m\u001b[43madd_ch_type\u001b[49m\u001b[43m,\u001b[49m\n\u001b[1;32m   1798\u001b[0m \u001b[43m    \u001b[49m\u001b[43moverwrite\u001b[49m\u001b[38;5;241;43m=\u001b[39;49m\u001b[43moverwrite\u001b[49m\u001b[43m,\u001b[49m\n\u001b[1;32m   1799\u001b[0m \u001b[43m    \u001b[49m\u001b[43mverbose\u001b[49m\u001b[38;5;241;43m=\u001b[39;49m\u001b[43mverbose\u001b[49m\u001b[43m,\u001b[49m\n\u001b[1;32m   1800\u001b[0m \u001b[43m\u001b[49m\u001b[43m)\u001b[49m\n",
      "File \u001b[0;32m<decorator-gen-242>:12\u001b[0m, in \u001b[0;36mexport_raw\u001b[0;34m(fname, raw, fmt, physical_range, add_ch_type, overwrite, verbose)\u001b[0m\n",
      "File \u001b[0;32m~/nikolay/lib/python3.10/site-packages/mne/export/_export.py:76\u001b[0m, in \u001b[0;36mexport_raw\u001b[0;34m(fname, raw, fmt, physical_range, add_ch_type, overwrite, verbose)\u001b[0m\n\u001b[1;32m     73\u001b[0m \u001b[38;5;28;01melif\u001b[39;00m fmt \u001b[38;5;241m==\u001b[39m \u001b[38;5;124m\"\u001b[39m\u001b[38;5;124medf\u001b[39m\u001b[38;5;124m\"\u001b[39m:\n\u001b[1;32m     74\u001b[0m     \u001b[38;5;28;01mfrom\u001b[39;00m \u001b[38;5;21;01m.\u001b[39;00m\u001b[38;5;21;01m_edf\u001b[39;00m \u001b[38;5;28;01mimport\u001b[39;00m _export_raw\n\u001b[0;32m---> 76\u001b[0m     \u001b[43m_export_raw\u001b[49m\u001b[43m(\u001b[49m\u001b[43mfname\u001b[49m\u001b[43m,\u001b[49m\u001b[43m \u001b[49m\u001b[43mraw\u001b[49m\u001b[43m,\u001b[49m\u001b[43m \u001b[49m\u001b[43mphysical_range\u001b[49m\u001b[43m,\u001b[49m\u001b[43m \u001b[49m\u001b[43madd_ch_type\u001b[49m\u001b[43m)\u001b[49m\n\u001b[1;32m     77\u001b[0m \u001b[38;5;28;01melif\u001b[39;00m fmt \u001b[38;5;241m==\u001b[39m \u001b[38;5;124m\"\u001b[39m\u001b[38;5;124mbrainvision\u001b[39m\u001b[38;5;124m\"\u001b[39m:\n\u001b[1;32m     78\u001b[0m     \u001b[38;5;28;01mfrom\u001b[39;00m \u001b[38;5;21;01m.\u001b[39;00m\u001b[38;5;21;01m_brainvision\u001b[39;00m \u001b[38;5;28;01mimport\u001b[39;00m _export_raw\n",
      "File \u001b[0;32m~/nikolay/lib/python3.10/site-packages/mne/export/_edf.py:215\u001b[0m, in \u001b[0;36m_export_raw\u001b[0;34m(fname, raw, physical_range, add_ch_type)\u001b[0m\n\u001b[1;32m    212\u001b[0m     \u001b[38;5;28;01melse\u001b[39;00m:\n\u001b[1;32m    213\u001b[0m         annotations\u001b[38;5;241m.\u001b[39mappend(EdfAnnotation(onset, duration, desc))\n\u001b[0;32m--> 215\u001b[0m \u001b[43mEdf\u001b[49m\u001b[43m(\u001b[49m\n\u001b[1;32m    216\u001b[0m \u001b[43m    \u001b[49m\u001b[43msignals\u001b[49m\u001b[38;5;241;43m=\u001b[39;49m\u001b[43msignals\u001b[49m\u001b[43m,\u001b[49m\n\u001b[1;32m    217\u001b[0m \u001b[43m    \u001b[49m\u001b[43mpatient\u001b[49m\u001b[38;5;241;43m=\u001b[39;49m\u001b[43mpatient\u001b[49m\u001b[43m,\u001b[49m\n\u001b[1;32m    218\u001b[0m \u001b[43m    \u001b[49m\u001b[43mrecording\u001b[49m\u001b[38;5;241;43m=\u001b[39;49m\u001b[43mrecording\u001b[49m\u001b[43m,\u001b[49m\n\u001b[1;32m    219\u001b[0m \u001b[43m    \u001b[49m\u001b[43mstarttime\u001b[49m\u001b[38;5;241;43m=\u001b[39;49m\u001b[43mstarttime\u001b[49m\u001b[43m,\u001b[49m\n\u001b[1;32m    220\u001b[0m \u001b[43m    \u001b[49m\u001b[43mdata_record_duration\u001b[49m\u001b[38;5;241;43m=\u001b[39;49m\u001b[43mdata_record_duration\u001b[49m\u001b[43m,\u001b[49m\n\u001b[1;32m    221\u001b[0m \u001b[43m    \u001b[49m\u001b[43mannotations\u001b[49m\u001b[38;5;241;43m=\u001b[39;49m\u001b[43mannotations\u001b[49m\u001b[43m,\u001b[49m\n\u001b[1;32m    222\u001b[0m \u001b[43m\u001b[49m\u001b[43m)\u001b[49m\u001b[38;5;241m.\u001b[39mwrite(fname)\n",
      "File \u001b[0;32m~/nikolay/lib/python3.10/site-packages/edfio/edf.py:698\u001b[0m, in \u001b[0;36mEdf.__init__\u001b[0;34m(self, signals, patient, recording, starttime, data_record_duration, annotations)\u001b[0m\n\u001b[1;32m    688\u001b[0m     signals \u001b[38;5;241m=\u001b[39m (\n\u001b[1;32m    689\u001b[0m         \u001b[38;5;241m*\u001b[39msignals,\n\u001b[1;32m    690\u001b[0m         _create_annotations_signal(\n\u001b[0;32m   (...)\u001b[0m\n\u001b[1;32m    695\u001b[0m         ),\n\u001b[1;32m    696\u001b[0m     )\n\u001b[1;32m    697\u001b[0m     \u001b[38;5;28mself\u001b[39m\u001b[38;5;241m.\u001b[39m_reserved \u001b[38;5;241m=\u001b[39m Edf\u001b[38;5;241m.\u001b[39mreserved\u001b[38;5;241m.\u001b[39mencode(\u001b[38;5;124m\"\u001b[39m\u001b[38;5;124mEDF+C\u001b[39m\u001b[38;5;124m\"\u001b[39m)\n\u001b[0;32m--> 698\u001b[0m \u001b[38;5;28;43mself\u001b[39;49m\u001b[38;5;241;43m.\u001b[39;49m\u001b[43m_set_signals\u001b[49m\u001b[43m(\u001b[49m\u001b[43msignals\u001b[49m\u001b[43m)\u001b[49m\n",
      "File \u001b[0;32m~/nikolay/lib/python3.10/site-packages/edfio/edf.py:746\u001b[0m, in \u001b[0;36mEdf._set_signals\u001b[0;34m(self, signals)\u001b[0m\n\u001b[1;32m    744\u001b[0m \u001b[38;5;28;01mdef\u001b[39;00m \u001b[38;5;21m_set_signals\u001b[39m(\u001b[38;5;28mself\u001b[39m, signals: Sequence[EdfSignal]) \u001b[38;5;241m-\u001b[39m\u001b[38;5;241m>\u001b[39m \u001b[38;5;28;01mNone\u001b[39;00m:\n\u001b[1;32m    745\u001b[0m     signals \u001b[38;5;241m=\u001b[39m \u001b[38;5;28mtuple\u001b[39m(signals)\n\u001b[0;32m--> 746\u001b[0m     \u001b[38;5;28;43mself\u001b[39;49m\u001b[38;5;241;43m.\u001b[39;49m\u001b[43m_set_num_data_records_with_signals\u001b[49m\u001b[43m(\u001b[49m\u001b[43msignals\u001b[49m\u001b[43m)\u001b[49m\n\u001b[1;32m    747\u001b[0m     \u001b[38;5;28mself\u001b[39m\u001b[38;5;241m.\u001b[39m_signals \u001b[38;5;241m=\u001b[39m signals\n\u001b[1;32m    748\u001b[0m     \u001b[38;5;28mself\u001b[39m\u001b[38;5;241m.\u001b[39m_bytes_in_header_record \u001b[38;5;241m=\u001b[39m Edf\u001b[38;5;241m.\u001b[39mbytes_in_header_record\u001b[38;5;241m.\u001b[39mencode(\n\u001b[1;32m    749\u001b[0m         \u001b[38;5;241m256\u001b[39m \u001b[38;5;241m*\u001b[39m (\u001b[38;5;28mlen\u001b[39m(signals) \u001b[38;5;241m+\u001b[39m \u001b[38;5;241m1\u001b[39m)\n\u001b[1;32m    750\u001b[0m     )\n",
      "File \u001b[0;32m~/nikolay/lib/python3.10/site-packages/edfio/edf.py:766\u001b[0m, in \u001b[0;36mEdf._set_num_data_records_with_signals\u001b[0;34m(self, signals)\u001b[0m\n\u001b[1;32m    762\u001b[0m signal_durations \u001b[38;5;241m=\u001b[39m [\n\u001b[1;32m    763\u001b[0m     \u001b[38;5;28mround\u001b[39m(\u001b[38;5;28mlen\u001b[39m(s\u001b[38;5;241m.\u001b[39m_digital) \u001b[38;5;241m/\u001b[39m s\u001b[38;5;241m.\u001b[39msampling_frequency, \u001b[38;5;241m12\u001b[39m) \u001b[38;5;28;01mfor\u001b[39;00m s \u001b[38;5;129;01min\u001b[39;00m signals\n\u001b[1;32m    764\u001b[0m ]\n\u001b[1;32m    765\u001b[0m \u001b[38;5;28;01mif\u001b[39;00m \u001b[38;5;28many\u001b[39m(v \u001b[38;5;241m!=\u001b[39m signal_durations[\u001b[38;5;241m0\u001b[39m] \u001b[38;5;28;01mfor\u001b[39;00m v \u001b[38;5;129;01min\u001b[39;00m signal_durations[\u001b[38;5;241m1\u001b[39m:]):\n\u001b[0;32m--> 766\u001b[0m     \u001b[38;5;28;01mraise\u001b[39;00m \u001b[38;5;167;01mValueError\u001b[39;00m(\n\u001b[1;32m    767\u001b[0m         \u001b[38;5;124mf\u001b[39m\u001b[38;5;124m\"\u001b[39m\u001b[38;5;124mInconsistent signal durations (in seconds): \u001b[39m\u001b[38;5;132;01m{\u001b[39;00msignal_durations\u001b[38;5;132;01m}\u001b[39;00m\u001b[38;5;124m\"\u001b[39m\n\u001b[1;32m    768\u001b[0m     )\n\u001b[1;32m    769\u001b[0m num_data_records \u001b[38;5;241m=\u001b[39m _calculate_num_data_records(\n\u001b[1;32m    770\u001b[0m     signal_durations[\u001b[38;5;241m0\u001b[39m],\n\u001b[1;32m    771\u001b[0m     \u001b[38;5;28mself\u001b[39m\u001b[38;5;241m.\u001b[39mdata_record_duration,\n\u001b[1;32m    772\u001b[0m )\n\u001b[1;32m    773\u001b[0m signal_lengths \u001b[38;5;241m=\u001b[39m [\u001b[38;5;28mlen\u001b[39m(s\u001b[38;5;241m.\u001b[39m_digital) \u001b[38;5;28;01mfor\u001b[39;00m s \u001b[38;5;129;01min\u001b[39;00m signals]\n",
      "\u001b[0;31mValueError\u001b[0m: Inconsistent signal durations (in seconds): [7775.3566, 7775.3566, 7775.3566, 7775.3566, 7775.3566, 7775.3566, 7775.3566, 7775.3566, 7775.3566, 7775.3566, 7775.3566, 7775.3566, 7775.3566, 7775.3566, 7775.3566, 7775.3566, 7775.3566, 7775.3566, 7775.3566, 7775.3566, 7775.356600000001]"
     ]
    }
   ],
   "source": [
    "data.export(\"predicts/Test.edf\", overwrite=True)"
   ]
  },
  {
   "cell_type": "code",
   "execution_count": 17,
   "id": "25b4f879-0a3f-4129-bb54-b4a630c5ad7d",
   "metadata": {},
   "outputs": [
    {
     "data": {
      "text/plain": [
       "[7775.3566,\n",
       " 7775.3566,\n",
       " 7775.3566,\n",
       " 7775.3566,\n",
       " 7775.3566,\n",
       " 7775.3566,\n",
       " 7775.3566,\n",
       " 7775.3566,\n",
       " 7775.3566,\n",
       " 7775.3566,\n",
       " 7775.3566,\n",
       " 7775.3566,\n",
       " 7775.3566,\n",
       " 7775.3566,\n",
       " 7775.3566,\n",
       " 7775.3566,\n",
       " 7775.3566,\n",
       " 7775.3566,\n",
       " 7775.3566,\n",
       " 7775.3566]"
      ]
     },
     "execution_count": 17,
     "metadata": {},
     "output_type": "execute_result"
    }
   ],
   "source": [
    "durs = [round(len(s) / info[\"sfreq\"], 12) for s in raw_data]\n",
    "durs"
   ]
  },
  {
   "cell_type": "code",
   "execution_count": 7,
   "id": "e2ee005f-c830-4fb6-a522-a51a1be7355a",
   "metadata": {},
   "outputs": [
    {
     "data": {
      "text/plain": [
       "(1551205,)"
      ]
     },
     "execution_count": 7,
     "metadata": {},
     "output_type": "execute_result"
    }
   ],
   "source": [
    "raw_data[-2].shape"
   ]
  }
 ],
 "metadata": {
  "kernelspec": {
   "display_name": "Python 3 (ipykernel)",
   "language": "python",
   "name": "python3"
  },
  "language_info": {
   "codemirror_mode": {
    "name": "ipython",
    "version": 3
   },
   "file_extension": ".py",
   "mimetype": "text/x-python",
   "name": "python",
   "nbconvert_exporter": "python",
   "pygments_lexer": "ipython3",
   "version": "3.10.12"
  }
 },
 "nbformat": 4,
 "nbformat_minor": 5
}
