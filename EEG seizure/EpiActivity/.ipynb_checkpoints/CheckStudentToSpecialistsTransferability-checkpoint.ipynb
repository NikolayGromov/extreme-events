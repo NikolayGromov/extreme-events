{
 "cells": [
  {
   "cell_type": "code",
   "execution_count": 100,
   "id": "482fba81",
   "metadata": {
    "ExecuteTime": {
     "end_time": "2024-08-08T14:09:47.623171Z",
     "start_time": "2024-08-08T14:09:47.613957Z"
    }
   },
   "outputs": [],
   "source": [
    "import pyedflib\n",
    "import mne\n",
    "import numpy as np\n",
    "\n",
    "import torchvision\n",
    "import torchaudio\n",
    "import torch\n",
    "from torch import nn\n",
    "import torch.nn.functional as F\n",
    "import torch.optim as optim\n",
    "from torch.optim.lr_scheduler import ReduceLROnPlateau\n",
    "\n",
    "\n",
    "import matplotlib.pyplot as plt\n",
    "from torch.utils.data import DataLoader\n",
    "\n",
    "from IPython.display import clear_output\n",
    "from tqdm import tqdm\n",
    "import matplotlib.ticker as ticker\n",
    "from os import listdir\n",
    "\n",
    "from sklearn.metrics import precision_score, recall_score, f1_score, confusion_matrix, ConfusionMatrixDisplay\n",
    "\n",
    "%matplotlib inline"
   ]
  },
  {
   "cell_type": "code",
   "execution_count": 59,
   "id": "9f61556f",
   "metadata": {
    "ExecuteTime": {
     "end_time": "2024-08-08T11:46:49.824973Z",
     "start_time": "2024-08-08T11:46:49.810877Z"
    }
   },
   "outputs": [],
   "source": [
    "def ReadSignal(file_name): #сделать по словарю отведений?\n",
    "\n",
    "    f = pyedflib.EdfReader(file_name)\n",
    "    n = f.signals_in_file\n",
    "    signal_labels = f.getSignalLabels()\n",
    "    sigbufs = np.zeros((20, f.getNSamples()[0])) #or n\n",
    "    \n",
    "    if n == 22:\n",
    "        for i in np.arange(19):\n",
    "            sigbufs[i, :] = f.readSignal(i)\n",
    "        sigbufs[19, :] = f.readSignal(21)\n",
    "    else:\n",
    "        for i in np.arange(n):\n",
    "            sigbufs[i, :] = f.readSignal(i)\n",
    "\n",
    "    time = [1/f.samplefrequency(0) * i for i in range(len(sigbufs[0]))]\n",
    "\n",
    "    annotations = f.readAnnotations()  \n",
    "\n",
    "\n",
    "    new_annot = [(annotations[0][i], annotations[1][i], annotations[2][i])  \n",
    "                 for i in range(len(annotations[0])) \n",
    "                                if (i > 2) and (annotations[1][i] > 0) and (annotations[2][i] in [\"Ð´Ð°Ð±Ð» Ñ\\x81Ð¿Ð°Ð¹Ðº\", \"*\", \"?\"])]\n",
    "    f.close()\n",
    "    return sigbufs, new_annot, time, f.samplefrequency(0)"
   ]
  },
  {
   "cell_type": "code",
   "execution_count": 60,
   "id": "a23d02bd",
   "metadata": {
    "ExecuteTime": {
     "end_time": "2024-08-08T11:46:52.190057Z",
     "start_time": "2024-08-08T11:46:51.572750Z"
    }
   },
   "outputs": [],
   "source": [
    "records = []\n",
    "annots = []\n",
    "times = []\n",
    "freqs = []\n",
    "for file_name in [\"Record1_annotated.edf\", \"Record2_annotated.edf\", \"Record4_annotated.edf\"]:\n",
    "\n",
    "    sigbufs, new_annot, time, freq = ReadSignal(\"data/StudentLabels/\"+file_name)\n",
    "    records.append(sigbufs)\n",
    "    annots.append(new_annot)\n",
    "    times.append(time)\n",
    "    freqs.append(freq)\n",
    "    "
   ]
  },
  {
   "cell_type": "code",
   "execution_count": 6,
   "id": "acbdec6e",
   "metadata": {
    "ExecuteTime": {
     "end_time": "2024-08-08T10:16:21.374582Z",
     "start_time": "2024-08-08T10:16:21.366443Z"
    }
   },
   "outputs": [
    {
     "data": {
      "text/plain": [
       "[199.50274692224406, 199.50274692224406, 199.50274692224406]"
      ]
     },
     "execution_count": 6,
     "metadata": {},
     "output_type": "execute_result"
    }
   ],
   "source": [
    "freqs"
   ]
  },
  {
   "cell_type": "code",
   "execution_count": 165,
   "id": "ddb7b871",
   "metadata": {
    "ExecuteTime": {
     "end_time": "2024-08-08T14:39:50.712249Z",
     "start_time": "2024-08-08T14:39:35.102293Z"
    }
   },
   "outputs": [
    {
     "data": {
      "text/plain": [
       "500.0"
      ]
     },
     "execution_count": 165,
     "metadata": {},
     "output_type": "execute_result"
    }
   ],
   "source": [
    "sigbufs, new_annot, time, freq = ReadSignal(\"data/labeled_10mins_checkedSHA.edf\")\n",
    "freq"
   ]
  },
  {
   "cell_type": "code",
   "execution_count": 166,
   "id": "ed42095b",
   "metadata": {
    "ExecuteTime": {
     "end_time": "2024-08-08T14:40:00.002689Z",
     "start_time": "2024-08-08T14:39:59.361782Z"
    }
   },
   "outputs": [],
   "source": [
    "transform = torchaudio.transforms.Resample(25062, 10000)"
   ]
  },
  {
   "cell_type": "code",
   "execution_count": 167,
   "id": "7f6191f7",
   "metadata": {
    "ExecuteTime": {
     "end_time": "2024-08-08T14:40:19.870075Z",
     "start_time": "2024-08-08T14:40:12.433048Z"
    }
   },
   "outputs": [
    {
     "name": "stderr",
     "output_type": "stream",
     "text": [
      "100%|██████████████████████████████████████████| 20/20 [00:07<00:00,  2.78it/s]\n"
     ]
    }
   ],
   "source": [
    "new_sigbufs = []\n",
    "for sig in tqdm(sigbufs):\n",
    "    new_sigbufs.append(transform(torch.FloatTensor(sig)))\n",
    "new_sigbufs = np.array(new_sigbufs)"
   ]
  },
  {
   "cell_type": "code",
   "execution_count": 19,
   "id": "494b7474",
   "metadata": {
    "ExecuteTime": {
     "end_time": "2024-08-08T10:31:14.970219Z",
     "start_time": "2024-08-08T10:31:14.963048Z"
    }
   },
   "outputs": [
    {
     "data": {
      "text/plain": [
       "199.50522703694836"
      ]
     },
     "execution_count": 19,
     "metadata": {},
     "output_type": "execute_result"
    }
   ],
   "source": [
    "500/2.5062"
   ]
  },
  {
   "cell_type": "code",
   "execution_count": 168,
   "id": "950fbb9d",
   "metadata": {
    "ExecuteTime": {
     "end_time": "2024-08-08T14:40:36.533344Z",
     "start_time": "2024-08-08T14:40:35.734265Z"
    }
   },
   "outputs": [],
   "source": [
    "time = [1/199.50522703694836 * i for i in range(len(new_sigbufs[0]))]"
   ]
  },
  {
   "cell_type": "code",
   "execution_count": 124,
   "id": "aa0f0ac6",
   "metadata": {
    "ExecuteTime": {
     "end_time": "2024-08-08T14:16:43.052975Z",
     "start_time": "2024-08-08T14:16:43.048385Z"
    }
   },
   "outputs": [],
   "source": [
    "def Labeling(time, events_lst):\n",
    "    labels = np.zeros_like(time)\n",
    "\n",
    "    for events in events_lst:\n",
    "        for event in events:\n",
    "            start = np.array(time < event[0]).argmin()\n",
    "            fin = np.array(time < event[0] + event[1]).argmin()\n",
    "            labels[start:fin] =  1\n",
    "    return labels\n",
    "        "
   ]
  },
  {
   "cell_type": "code",
   "execution_count": 64,
   "id": "735438bc",
   "metadata": {
    "ExecuteTime": {
     "end_time": "2024-08-08T11:48:50.706389Z",
     "start_time": "2024-08-08T11:48:48.796404Z"
    }
   },
   "outputs": [],
   "source": [
    "all_labels = []\n",
    "for i in range(3):\n",
    "    labels = Labeling(times[i], [annots[i]])\n",
    "    #np.save(\"data/StudentLabels/Labels\" + str(i+1), labels)\n",
    "    all_labels.append(labels)"
   ]
  },
  {
   "cell_type": "code",
   "execution_count": 176,
   "id": "1ed4437e",
   "metadata": {
    "ExecuteTime": {
     "end_time": "2024-08-08T14:44:46.635338Z",
     "start_time": "2024-08-08T14:42:21.040547Z"
    }
   },
   "outputs": [],
   "source": [
    "labels = Labeling(time, [new_annot])\n",
    "#labels = np.load(\"data/StudentLabels/Labels_10_min_SHAD.npy\")"
   ]
  },
  {
   "cell_type": "code",
   "execution_count": 177,
   "id": "0742e775",
   "metadata": {
    "ExecuteTime": {
     "end_time": "2024-08-08T14:44:51.683483Z",
     "start_time": "2024-08-08T14:44:51.679778Z"
    }
   },
   "outputs": [],
   "source": [
    "assert len(labels) == len(new_sigbufs[0])"
   ]
  },
  {
   "cell_type": "code",
   "execution_count": 178,
   "id": "0abe68e7",
   "metadata": {
    "ExecuteTime": {
     "end_time": "2024-08-08T14:44:56.906433Z",
     "start_time": "2024-08-08T14:44:56.836224Z"
    }
   },
   "outputs": [],
   "source": [
    "#np.save(\"data/StudentLabels/Labels_10_min_SHAD\", labels)"
   ]
  },
  {
   "cell_type": "code",
   "execution_count": 179,
   "id": "c184474b",
   "metadata": {
    "ExecuteTime": {
     "end_time": "2024-08-08T14:45:04.061338Z",
     "start_time": "2024-08-08T14:45:04.057417Z"
    }
   },
   "outputs": [],
   "source": [
    "TEST_TIME_START = new_annot[0][0]\n",
    "TEST_TIME_END = new_annot[-1][0]"
   ]
  },
  {
   "cell_type": "code",
   "execution_count": 180,
   "id": "dd8626b6",
   "metadata": {
    "ExecuteTime": {
     "end_time": "2024-08-08T14:45:05.138176Z",
     "start_time": "2024-08-08T14:45:05.131091Z"
    }
   },
   "outputs": [
    {
     "data": {
      "text/plain": [
       "3601.956"
      ]
     },
     "execution_count": 180,
     "metadata": {},
     "output_type": "execute_result"
    }
   ],
   "source": [
    "TEST_TIME_START"
   ]
  },
  {
   "cell_type": "code",
   "execution_count": 181,
   "id": "25fafaef",
   "metadata": {
    "ExecuteTime": {
     "end_time": "2024-08-08T14:45:06.195302Z",
     "start_time": "2024-08-08T14:45:06.188780Z"
    }
   },
   "outputs": [
    {
     "data": {
      "text/plain": [
       "4199.224"
      ]
     },
     "execution_count": 181,
     "metadata": {},
     "output_type": "execute_result"
    }
   ],
   "source": [
    "TEST_TIME_END"
   ]
  },
  {
   "cell_type": "code",
   "execution_count": 182,
   "id": "61b0d097",
   "metadata": {
    "ExecuteTime": {
     "end_time": "2024-08-08T14:45:22.358227Z",
     "start_time": "2024-08-08T14:45:21.813915Z"
    }
   },
   "outputs": [],
   "source": [
    "test_idx_start = (np.array(time) < TEST_TIME_START).argmin()\n",
    "test_idx_fin = (np.array(time)< TEST_TIME_END).argmin()\n",
    "\n",
    "test_x = torch.FloatTensor(new_sigbufs[:, test_idx_start:test_idx_fin]).to(\"cuda\")\n",
    "test_labels = labels[test_idx_start:test_idx_fin]\n",
    "\n",
    "new_testl = torch.zeros(2, len(test_labels))\n",
    "new_testl = (torch.arange(2) == torch.LongTensor(test_labels)[:,None]).T\n",
    "new_testl = new_testl.float().to('cuda')\n",
    "test_labels = new_testl"
   ]
  },
  {
   "cell_type": "code",
   "execution_count": 65,
   "id": "bceb865c",
   "metadata": {
    "ExecuteTime": {
     "end_time": "2024-08-08T11:49:01.903699Z",
     "start_time": "2024-08-08T11:49:01.885635Z"
    }
   },
   "outputs": [],
   "source": [
    "train_data = records\n",
    "train_labels = all_labels\n",
    "for i in range(len(train_data)):\n",
    "    train_data[i] = torch.FloatTensor(train_data[i]).to(\"cuda\")\n",
    "    new_trainl = torch.zeros(2, len(train_labels[i]))\n",
    "    new_trainl = (torch.arange(2) == torch.LongTensor(train_labels[i])[:,None]).T\n",
    "    new_trainl = new_trainl.float()\n",
    "    train_labels[i] = new_trainl.to(\"cuda\")\n",
    "\n",
    "# test_data = [new_sigbufs]\n",
    "# test_labels = [labels]\n",
    "# for i in range(len(test_data)):\n",
    "#     test_data[i] = torch.FloatTensor(test_data[i]).to(\"cuda\")\n",
    "#     new_testl = torch.zeros(2, len(test_labels[i]))\n",
    "#     new_testl = (torch.arange(2) == torch.LongTensor(test_labels[i])[:,None]).T\n",
    "#     new_testl = new_testl.float()\n",
    "#     test_labels[i] = new_testl.to(\"cuda\")"
   ]
  },
  {
   "cell_type": "code",
   "execution_count": 185,
   "id": "418380c2",
   "metadata": {
    "ExecuteTime": {
     "end_time": "2024-08-08T14:45:59.508847Z",
     "start_time": "2024-08-08T14:45:59.502315Z"
    }
   },
   "outputs": [],
   "source": [
    "RECEPTIVE_FIELD = 4000\n",
    "OVERLAP = 0 \n",
    "\n",
    "def CreateSamples(x, labels, rf = RECEPTIVE_FIELD, ov = OVERLAP):\n",
    "    inout_seq = []\n",
    "    L = x.shape[-1]\n",
    "    for i in tqdm(range(ov, L- rf - ov, rf)):\n",
    "        train_seq = x[:, i-ov:i+rf+ov]\n",
    "        train_label = labels[:, i:i+rf]\n",
    "        inout_seq.append((train_seq ,train_label))\n",
    "    return inout_seq\n",
    "    "
   ]
  },
  {
   "cell_type": "code",
   "execution_count": 186,
   "id": "336b9018",
   "metadata": {
    "ExecuteTime": {
     "end_time": "2024-08-08T14:46:00.428729Z",
     "start_time": "2024-08-08T14:46:00.400276Z"
    }
   },
   "outputs": [
    {
     "name": "stderr",
     "output_type": "stream",
     "text": [
      "100%|███████████████████████████████████████| 34/34 [00:00<00:00, 21287.71it/s]\n",
      "100%|███████████████████████████████████████| 30/30 [00:00<00:00, 20842.99it/s]\n",
      "100%|███████████████████████████████████████| 31/31 [00:00<00:00, 20589.62it/s]\n",
      "100%|███████████████████████████████████████| 29/29 [00:00<00:00, 20989.61it/s]\n"
     ]
    }
   ],
   "source": [
    "train_samples = []\n",
    "for i in range(len(train_data)):\n",
    "    train_samples += CreateSamples(train_data[i], train_labels[i])\n",
    "\n",
    "test_samples = CreateSamples(test_x, test_labels)\n",
    "    \n",
    "# test_samples = []\n",
    "# for i in range(len(test_data)):\n",
    "#     test_samples += CreateSamples(test_data[i], test_labels[i])"
   ]
  },
  {
   "cell_type": "code",
   "execution_count": 187,
   "id": "e6102bd8",
   "metadata": {
    "ExecuteTime": {
     "end_time": "2024-08-08T14:46:10.718073Z",
     "start_time": "2024-08-08T14:46:10.711953Z"
    }
   },
   "outputs": [],
   "source": [
    "train_dataloader = DataLoader(train_samples, batch_size=95, shuffle=True, drop_last=True) # or train_samples for 4000 or new_train_samples for 100\n",
    "test_dataloader = DataLoader(test_samples, batch_size=29, shuffle=False, drop_last=True)"
   ]
  },
  {
   "cell_type": "code",
   "execution_count": 49,
   "id": "6fda25bd",
   "metadata": {
    "ExecuteTime": {
     "end_time": "2024-08-08T11:36:03.628774Z",
     "start_time": "2024-08-08T11:36:03.585706Z"
    },
    "code_folding": [
     0,
     15,
     37,
     53
    ]
   },
   "outputs": [],
   "source": [
    "class conbr_block(nn.Module):\n",
    "    def __init__(self, in_layer, out_layer, kernel_size, stride, dilation):\n",
    "        super(conbr_block, self).__init__()\n",
    "\n",
    "        self.conv1 = nn.Conv1d(in_layer, out_layer, kernel_size=kernel_size, stride=stride, dilation = dilation, padding = 3, bias=True)\n",
    "        self.bn = nn.BatchNorm1d(out_layer)\n",
    "        self.relu = nn.ReLU()\n",
    "    \n",
    "    def forward(self,x):\n",
    "        x = self.conv1(x)\n",
    "        x = self.bn(x)\n",
    "        out = self.relu(x)\n",
    "        \n",
    "        return out       \n",
    "\n",
    "class se_block(nn.Module):\n",
    "    def __init__(self,in_layer, out_layer):\n",
    "        super(se_block, self).__init__()\n",
    "        \n",
    "        self.conv1 = nn.Conv1d(in_layer, out_layer//8, kernel_size=1, padding=0)\n",
    "        self.conv2 = nn.Conv1d(out_layer//8, in_layer, kernel_size=1, padding=0)\n",
    "        self.fc = nn.Linear(1,out_layer//8)\n",
    "        self.fc2 = nn.Linear(out_layer//8,out_layer)\n",
    "        self.relu = nn.ReLU()\n",
    "        self.sigmoid = nn.Sigmoid()\n",
    "    \n",
    "    def forward(self,x):\n",
    "\n",
    "        x_se = nn.functional.adaptive_avg_pool1d(x,1)\n",
    "        x_se = self.conv1(x_se)\n",
    "        x_se = self.relu(x_se)\n",
    "        x_se = self.conv2(x_se)\n",
    "        x_se = self.sigmoid(x_se)\n",
    "        \n",
    "        x_out = torch.add(x, x_se)\n",
    "        return x_out\n",
    "\n",
    "class re_block(nn.Module):\n",
    "    def __init__(self, in_layer, out_layer, kernel_size, dilation):\n",
    "        super(re_block, self).__init__()\n",
    "        \n",
    "        self.cbr1 = conbr_block(in_layer,out_layer, kernel_size, 1, dilation)\n",
    "        self.cbr2 = conbr_block(out_layer,out_layer, kernel_size, 1, dilation)\n",
    "        self.seblock = se_block(out_layer, out_layer)\n",
    "    \n",
    "    def forward(self,x):\n",
    "\n",
    "        x_re = self.cbr1(x)\n",
    "        x_re = self.cbr2(x_re)\n",
    "        x_re = self.seblock(x_re)\n",
    "        x_out = torch.add(x, x_re)\n",
    "        return x_out          \n",
    "\n",
    "class UNET_1D(nn.Module):\n",
    "    def __init__(self ,input_dim,layer_n,kernel_size,depth):\n",
    "        super(UNET_1D, self).__init__()\n",
    "        self.input_dim = input_dim\n",
    "        self.layer_n = layer_n\n",
    "        self.kernel_size = kernel_size\n",
    "        self.depth = depth\n",
    "        \n",
    "        self.AvgPool1D1 = nn.AvgPool1d(input_dim, stride=5, padding=8)\n",
    "        self.AvgPool1D2 = nn.AvgPool1d(input_dim, stride=25, padding=8)\n",
    "        self.AvgPool1D3 = nn.AvgPool1d(input_dim, stride=125, padding=8)\n",
    "        \n",
    "        self.layer1 = self.down_layer(self.input_dim, self.layer_n, self.kernel_size,1, 2)\n",
    "        self.layer2 = self.down_layer(self.layer_n, int(self.layer_n*2), self.kernel_size,5, 2)\n",
    "        self.layer3 = self.down_layer(int(self.layer_n*2)+int(self.input_dim), int(self.layer_n*3), self.kernel_size,5, 2)\n",
    "        self.layer4 = self.down_layer(int(self.layer_n*3)+int(self.input_dim), int(self.layer_n*4), self.kernel_size,5, 2)\n",
    "        self.layer5 = self.down_layer(int(self.layer_n*4)+int(self.input_dim), int(self.layer_n*5), self.kernel_size,4, 2)\n",
    "\n",
    "        self.cbr_up1 = conbr_block(int(self.layer_n*7), int(self.layer_n*3), self.kernel_size, 1, 1)\n",
    "        self.cbr_up2 = conbr_block(int(self.layer_n*5), int(self.layer_n*2), self.kernel_size, 1, 1)\n",
    "        self.cbr_up3 = conbr_block(int(self.layer_n*3), self.layer_n, self.kernel_size, 1, 1)\n",
    "        self.upsample = nn.Upsample(scale_factor=5, mode='nearest')\n",
    "        self.upsample1 = nn.Upsample(scale_factor=5, mode='nearest') #for 4000 it is 5 and for 100 is 4\n",
    "        \n",
    "        self.outcov = nn.Conv1d(self.layer_n, 2, kernel_size=self.kernel_size, stride=1,padding = 3)\n",
    "    \n",
    "        \n",
    "    def down_layer(self, input_layer, out_layer, kernel, stride, depth):\n",
    "        block = []\n",
    "        block.append(conbr_block(input_layer, out_layer, kernel, stride, 1))\n",
    "        for i in range(depth):\n",
    "            block.append(re_block(out_layer,out_layer,kernel,1))\n",
    "        return nn.Sequential(*block)\n",
    "            \n",
    "    def forward(self, x):\n",
    "        \n",
    "        #print(\"x\", x.size())\n",
    "        pool_x1 = self.AvgPool1D1(x)\n",
    "        #print(\"pool_x1\", pool_x1.size())\n",
    "        \n",
    "        pool_x2 = self.AvgPool1D2(x)\n",
    "        #print(\"pool_x2\", pool_x2.size())\n",
    "        \n",
    "        pool_x3 = self.AvgPool1D3(x)\n",
    "        #print(\"pool_x3\", pool_x3.size())\n",
    "        \n",
    "        \n",
    "        #############Encoder#####################\n",
    "        \n",
    "        out_0 = self.layer1(x)\n",
    "        #print(\"out_0\", out_0.size())\n",
    "        out_1 = self.layer2(out_0)        \n",
    "        #print(\"out_1\", out_1.size())\n",
    "        \n",
    "        \n",
    "        x = torch.cat([out_1,pool_x1],1)\n",
    "\n",
    "        #print(\"x\", x.size())\n",
    "        out_2 = self.layer3(x)\n",
    "        #print(\"out_2\", out_2.size())\n",
    "        \n",
    "        x = torch.cat([out_2,pool_x2],1)\n",
    "        #print(\"x\", x.size())\n",
    "        x = self.layer4(x)\n",
    "        #print(\"x\", x.size())\n",
    "        \n",
    "        \n",
    "        #############Decoder####################\n",
    "        \n",
    "        up = self.upsample1(x)\n",
    "        #print(\"up\", up.size())\n",
    "        \n",
    "        up = torch.cat([up,out_2],1)\n",
    "        #print(\"up\", up.size())\n",
    "        \n",
    "        up = self.cbr_up1(up)\n",
    "        #print(\"up\", up.size())\n",
    "        \n",
    "        up = self.upsample(up)\n",
    "        #print(\"up\", up.size())\n",
    "        \n",
    "        up = torch.cat([up,out_1],1)\n",
    "        #print(\"up\", up.size())\n",
    "        \n",
    "        up = self.cbr_up2(up)\n",
    "        #print(\"up\", up.size())\n",
    "        \n",
    "        \n",
    "        up = self.upsample(up)\n",
    "        #print(\"up\", up.size())\n",
    "        \n",
    "        up = torch.cat([up,out_0],1)\n",
    "        #print(\"up\", up.size())\n",
    "        \n",
    "        up = self.cbr_up3(up)\n",
    "        #print(\"up\", up.size())\n",
    "        \n",
    "        out = self.outcov(up)\n",
    "        #print(\"out\", out.size())\n",
    "        \n",
    "        #out = nn.functional.softmax(out,dim=2)\n",
    "        \n",
    "        return out"
   ]
  },
  {
   "cell_type": "code",
   "execution_count": 188,
   "id": "3974074a",
   "metadata": {
    "ExecuteTime": {
     "end_time": "2024-08-08T14:46:15.545234Z",
     "start_time": "2024-08-08T14:46:15.250899Z"
    }
   },
   "outputs": [],
   "source": [
    "model = UNET_1D(20,128,7,3) #(input_dim, hidden_layer, kernel_size, depth)\n",
    "model = model.to(\"cuda\")"
   ]
  },
  {
   "cell_type": "code",
   "execution_count": 189,
   "id": "517b12e5",
   "metadata": {
    "ExecuteTime": {
     "end_time": "2024-08-08T14:46:16.328505Z",
     "start_time": "2024-08-08T14:46:16.323923Z"
    }
   },
   "outputs": [],
   "source": [
    "def run_epoch(model, optimizer, criterion, dataloader, is_training=False):\n",
    "    epoch_loss = 0\n",
    "\n",
    "    if is_training:\n",
    "        model.train()\n",
    "    else:\n",
    "        model.eval()\n",
    "\n",
    "    for idx, (x, y) in tqdm(enumerate(dataloader)):\n",
    "        if is_training:\n",
    "            optimizer.zero_grad()\n",
    "      \n",
    "        #print(\"x\", x.shape)\n",
    "        \n",
    "\n",
    "        out = model(x)\n",
    "        #print(\"y\", y.shape)\n",
    "        #print(\"out\", out.shape)\n",
    "        loss = criterion(out, y)\n",
    "\n",
    "        if is_training:\n",
    "            loss.backward()\n",
    "            optimizer.step()\n",
    "\n",
    "        epoch_loss += (loss.detach().item() / len(dataloader))\n",
    "\n",
    "\n",
    "    return epoch_loss"
   ]
  },
  {
   "cell_type": "code",
   "execution_count": 190,
   "id": "6ef5d7f4",
   "metadata": {
    "ExecuteTime": {
     "end_time": "2024-08-08T14:47:48.889352Z",
     "start_time": "2024-08-08T14:46:18.385166Z"
    }
   },
   "outputs": [
    {
     "data": {
      "image/png": "[encoded data removed]",
      "text/plain": [
       "<Figure size 1000x900 with 2 Axes>"
      ]
     },
     "metadata": {},
     "output_type": "display_data"
    },
    {
     "name": "stdout",
     "output_type": "stream",
     "text": [
      "Epoch[175/175] | loss train:0.024572, test:0.536119\n"
     ]
    }
   ],
   "source": [
    "# define optimizer and loss function\n",
    "\n",
    "criterion = nn.BCEWithLogitsLoss()#pos_weight = torch.FloatTensor([[0.3, 0.7]] * 4000).T.to(\"cuda\"))\n",
    "optimizer = optim.Adam(model.parameters(), lr=0.0001, betas=(0.9, 0.999), eps=1e-9)\n",
    "scheduler = ReduceLROnPlateau(optimizer, patience = 3, factor=0.5, min_lr=0.0001)\n",
    "lr = 0.001\n",
    "epochs = 175\n",
    "\n",
    "losses_train = []\n",
    "losses_test = []\n",
    "best_loss = 10e9\n",
    "# begin training\n",
    "\n",
    "early_stop_count = 15\n",
    "current_es = 0\n",
    "for epoch in range(epochs): \n",
    "    \n",
    "        \n",
    "    loss_train = run_epoch(model, optimizer, criterion, train_dataloader, is_training=True)\n",
    "    loss_val = run_epoch(model, optimizer, criterion, test_dataloader)\n",
    "    scheduler.step(loss_val)\n",
    "    losses_train.append(loss_train)\n",
    "    losses_test.append(loss_val)\n",
    "\n",
    "    if losses_test[-1] < best_loss:\n",
    "        current_es = 0\n",
    "        best_loss = losses_test[-1]\n",
    "        torch.save(model.state_dict(), \"./models/4000TestStudentToSpec\")\n",
    "    else:\n",
    "        current_es += 1\n",
    "    #if current_es == early_stop_count:\n",
    "        #break\n",
    "\n",
    "    clear_output(True)\n",
    "    fig = plt.figure(figsize=(10, 9))\n",
    "\n",
    "    ax_1 = fig.add_subplot(2, 1, 1)\n",
    "    ax_2 = fig.add_subplot(2, 1, 2)\n",
    "    ax_1.set_title('train')\n",
    "    ax_1.plot(losses_train)\n",
    "    ax_2.set_title('test')\n",
    "    ax_2.plot(losses_test)\n",
    "    plt.show()\n",
    "\n",
    "\n",
    "    print('Epoch[{}/{}] | loss train:{:.6f}, test:{:.6f}'\n",
    "              .format(epoch+1, epochs, loss_train, loss_val))"
   ]
  },
  {
   "cell_type": "code",
   "execution_count": 191,
   "id": "1346d1bb",
   "metadata": {
    "ExecuteTime": {
     "end_time": "2024-08-08T14:47:54.237794Z",
     "start_time": "2024-08-08T14:47:54.121050Z"
    }
   },
   "outputs": [
    {
     "data": {
      "text/plain": [
       "<All keys matched successfully>"
      ]
     },
     "execution_count": 191,
     "metadata": {},
     "output_type": "execute_result"
    }
   ],
   "source": [
    "model.load_state_dict(torch.load(\"./models/4000TestStudentToSpec\"))"
   ]
  },
  {
   "cell_type": "code",
   "execution_count": 203,
   "id": "549ebd4e",
   "metadata": {
    "ExecuteTime": {
     "end_time": "2024-08-08T14:53:08.170045Z",
     "start_time": "2024-08-08T14:53:08.131335Z"
    }
   },
   "outputs": [
    {
     "name": "stdout",
     "output_type": "stream",
     "text": [
      "first tensor(0.9928, device='cuda:0', grad_fn=<MaxBackward1>)\n",
      "second tensor(0.3135, device='cuda:0', grad_fn=<MaxBackward1>)\n"
     ]
    }
   ],
   "source": [
    "model.eval()\n",
    "#model.cpu()\n",
    "all_preds = []\n",
    "for idx, (x, y) in enumerate(test_dataloader):\n",
    "    x = x.float()\n",
    "    #print(\"x\", x.shape)\n",
    "\n",
    "    out = model(x)\n",
    "    m = nn.Softmax(dim=1)\n",
    "    out = m(out)\n",
    "    #print(out.size())\n",
    "    print(\"first\", out[:, 0].max())\n",
    "    print(\"second\", out[:, 1].max())\n",
    "    \n",
    "    preds = out[:, 1].detach().cpu().numpy() > 0.2#np.argmax(out.detach().cpu().numpy(), axis=1)\n",
    "    all_preds.append(preds)\n",
    "\n",
    "all_preds = np.array(all_preds).reshape(29*len(test_dataloader) * 4000)#all_preds = np.array(all_preds).reshape(99 * 16 * 100)\n"
   ]
  },
  {
   "cell_type": "code",
   "execution_count": 204,
   "id": "e5841880",
   "metadata": {
    "ExecuteTime": {
     "end_time": "2024-08-08T14:53:09.858137Z",
     "start_time": "2024-08-08T14:53:09.851920Z"
    }
   },
   "outputs": [
    {
     "data": {
      "text/plain": [
       "True"
      ]
     },
     "execution_count": 204,
     "metadata": {},
     "output_type": "execute_result"
    }
   ],
   "source": [
    "all_preds.max()"
   ]
  },
  {
   "cell_type": "code",
   "execution_count": 205,
   "id": "b55cb0bc",
   "metadata": {
    "ExecuteTime": {
     "end_time": "2024-08-08T14:53:11.154489Z",
     "start_time": "2024-08-08T14:53:11.141875Z"
    }
   },
   "outputs": [],
   "source": [
    "def GetRawMetricsAndCM(predictions, test_labels):\n",
    "    lens = []\n",
    "    sums = []\n",
    "\n",
    "    acc = []\n",
    "    precision = []\n",
    "    recall = []\n",
    "    f1 = []\n",
    "    \n",
    "    all_cm = 0\n",
    "    for i in range(len(test_labels)):\n",
    "        pred_len = len(predictions[i])\n",
    "        lens.append(pred_len)\n",
    "        sums.append((predictions[i] == test_labels[i][1, :pred_len].numpy()).sum())      \n",
    "\n",
    "        acc.append(sums[i] / lens[i])\n",
    "        precision.append(precision_score(test_labels[i][1, :pred_len].numpy(), predictions[i]))\n",
    "        recall.append(recall_score(test_labels[i][1, :pred_len].numpy(), predictions[i]))\n",
    "        f1.append(f1_score(test_labels[i][1, :pred_len].numpy(), predictions[i]))\n",
    "        \n",
    "\n",
    "        cm = confusion_matrix(test_labels[i][1, :pred_len].numpy(), predictions[i])\n",
    "        all_cm += cm\n",
    "        print(\"=============Record \" + str(i) + \"================\")\n",
    "        print(\"accuracy\", acc[i])\n",
    "        print(\"precision\", precision[i])\n",
    "        print(\"recall\", recall[i])\n",
    "        print(\"f1 score\", f1[i])\n",
    "        \n",
    "        \n",
    "        ConfusionMatrixDisplay(cm).plot()\n",
    "    print(\"===========ALL RECORDS SCORE==================\")\n",
    "    print(\"Full accuracy\", np.sum(sums)/np.sum(lens))\n",
    "    print(\"Mean accuracy\", np.mean(acc))\n",
    "    print(\"Mean precision\", np.mean(precision))\n",
    "    print(\"Mean recall\", np.mean(recall))\n",
    "    print(\"Mean f1\", np.mean(f1))   \n",
    "    \n",
    "\n",
    "    print(\"Full Confusion Matrix\")\n",
    "    ConfusionMatrixDisplay(all_cm).plot()\n",
    "    "
   ]
  },
  {
   "cell_type": "code",
   "execution_count": 206,
   "id": "fe8121af",
   "metadata": {
    "ExecuteTime": {
     "end_time": "2024-08-08T14:53:12.946127Z",
     "start_time": "2024-08-08T14:53:12.396927Z"
    }
   },
   "outputs": [
    {
     "name": "stdout",
     "output_type": "stream",
     "text": [
      "=============Record 0================\n",
      "accuracy 0.8224482758620689\n",
      "precision 0.24796968056307525\n",
      "recall 0.023290109331299262\n",
      "f1 score 0.042580885087393085\n",
      "===========ALL RECORDS SCORE==================\n",
      "Full accuracy 0.8224482758620689\n",
      "Mean accuracy 0.8224482758620689\n",
      "Mean precision 0.24796968056307525\n",
      "Mean recall 0.023290109331299262\n",
      "Mean f1 0.042580885087393085\n",
      "Full Confusion Matrix\n"
     ]
    },
    {
     "data": {
      "image/png": "[encoded data removed]",
      "text/plain": [
       "<Figure size 640x480 with 2 Axes>"
      ]
     },
     "metadata": {},
     "output_type": "display_data"
    },
    {
     "data": {
      "image/png": "[encoded data removed]",
      "text/plain": [
       "<Figure size 640x480 with 2 Axes>"
      ]
     },
     "metadata": {},
     "output_type": "display_data"
    }
   ],
   "source": [
    "GetRawMetricsAndCM([all_preds], [test_labels.cpu()])"
   ]
  },
  {
   "cell_type": "code",
   "execution_count": 210,
   "id": "18a6bc19",
   "metadata": {
    "ExecuteTime": {
     "end_time": "2024-08-08T14:55:07.135296Z",
     "start_time": "2024-08-08T14:55:07.111745Z"
    },
    "code_folding": [
     0,
     39
    ]
   },
   "outputs": [],
   "source": [
    "def CollectingTPFPFN(pred_labels, true_labels):\n",
    "    i = 0\n",
    "    TP = 0\n",
    "    FP = 0\n",
    "    FN = 0\n",
    "\n",
    "    is_true_flag = 0\n",
    "    is_pred_flag = 0\n",
    "    while i < len(pred_labels):\n",
    "        while i < len(pred_labels) and true_labels[i] == 1:\n",
    "            is_true_flag = 1\n",
    "            if pred_labels[i] == 1:\n",
    "                is_pred_flag = 1\n",
    "            i += 1\n",
    "        if is_true_flag:\n",
    "            if is_pred_flag:\n",
    "                TP += 1\n",
    "            else:\n",
    "                FN += 1\n",
    "        \n",
    "        is_true_flag = 0\n",
    "        is_pred_flag = 0   \n",
    "        i += 1\n",
    "\n",
    "    i = 0\n",
    "    while i < len(pred_labels):\n",
    "        while i < len(pred_labels) and pred_labels[i] == 1:\n",
    "            is_pred_flag = 1\n",
    "            if true_labels[i] == 1:\n",
    "                is_true_flag = 1\n",
    "            i += 1\n",
    "        if is_pred_flag and not is_true_flag:\n",
    "            FP += 1\n",
    "        is_pred_flag = 0\n",
    "        is_true_flag = 0\n",
    "        i += 1\n",
    "\n",
    "    return TP, FP, FN \n",
    "\n",
    "def GetRawMetricsAndCMEPI(predictions, test_labels):\n",
    "    lens = []\n",
    "    sums = []\n",
    "\n",
    "    acc = []\n",
    "    precision = []\n",
    "    recall = []\n",
    "    f1 = []\n",
    "\n",
    "    TP_sum = 0\n",
    "    FP_sum = 0\n",
    "    FN_sum = 0\n",
    "    \n",
    "    all_cm = 0\n",
    "    for i in range(len(test_labels)):\n",
    "        pred_len = len(predictions[i])\n",
    "\n",
    "        TP, FP, FN = CollectingTPFPFN(predictions[i], test_labels[i][1, :pred_len].numpy())\n",
    "\n",
    "        TP_sum += TP\n",
    "        FP_sum += FP\n",
    "        FN_sum += FN\n",
    "            \n",
    "\n",
    "        precision.append(TP / (TP + FP))\n",
    "        recall.append(TP / (TP + FN))\n",
    "        f1.append(2 * TP / (2 * TP + FP + FN))\n",
    "        \n",
    "\n",
    "        cm = np.array([[0, FP], [FN, TP]])\n",
    "        all_cm += cm\n",
    "        print(\"=============Record \" + str(i) + \"================\")\n",
    "    \n",
    "        print(\"precision\", precision[i])\n",
    "        print(\"recall\", recall[i])\n",
    "        print(\"f1 score\", f1[i])\n",
    "        \n",
    "        ConfusionMatrixDisplay(cm).plot()\n",
    "    print(\"===========ALL RECORDS SCORE==================\")\n",
    "    \n",
    "    \n",
    "    print(\"Full precision\", TP_sum / (TP_sum + FP_sum))\n",
    "    print(\"Full recall\", TP_sum / (TP_sum + FN_sum))\n",
    "    print(\"Full f1\", 2 * TP_sum / (2 * TP_sum + FP_sum + FN_sum))   \n",
    "    \n",
    "\n",
    "    print(\"Full Confusion Matrix\")\n",
    "    ConfusionMatrixDisplay(all_cm).plot()"
   ]
  },
  {
   "cell_type": "code",
   "execution_count": 211,
   "id": "53be2e05",
   "metadata": {
    "ExecuteTime": {
     "end_time": "2024-08-08T14:55:08.344632Z",
     "start_time": "2024-08-08T14:55:08.337858Z"
    }
   },
   "outputs": [
    {
     "data": {
      "text/plain": [
       "array([False, False, False, ..., False, False,  True])"
      ]
     },
     "execution_count": 211,
     "metadata": {},
     "output_type": "execute_result"
    }
   ],
   "source": [
    "all_preds"
   ]
  },
  {
   "cell_type": "code",
   "execution_count": 212,
   "id": "61b7b6ec",
   "metadata": {
    "ExecuteTime": {
     "end_time": "2024-08-08T14:55:10.270533Z",
     "start_time": "2024-08-08T14:55:09.434431Z"
    }
   },
   "outputs": [
    {
     "name": "stdout",
     "output_type": "stream",
     "text": [
      "=============Record 0================\n",
      "precision 0.29239766081871343\n",
      "recall 0.13192612137203166\n",
      "f1 score 0.18181818181818182\n",
      "===========ALL RECORDS SCORE==================\n",
      "Full precision 0.29239766081871343\n",
      "Full recall 0.13192612137203166\n",
      "Full f1 0.18181818181818182\n",
      "Full Confusion Matrix\n"
     ]
    },
    {
     "data": {
      "image/png": "[encoded data removed]",
      "text/plain": [
       "<Figure size 640x480 with 2 Axes>"
      ]
     },
     "metadata": {},
     "output_type": "display_data"
    },
    {
     "data": {
      "image/png": "[encoded data removed]",
      "text/plain": [
       "<Figure size 640x480 with 2 Axes>"
      ]
     },
     "metadata": {},
     "output_type": "display_data"
    }
   ],
   "source": [
    "GetRawMetricsAndCMEPI([all_preds], [test_labels.cpu()])"
   ]
  },
  {
   "cell_type": "code",
   "execution_count": 217,
   "id": "b09d23a1",
   "metadata": {
    "ExecuteTime": {
     "end_time": "2024-08-08T14:56:14.024145Z",
     "start_time": "2024-08-08T14:56:14.012612Z"
    }
   },
   "outputs": [],
   "source": [
    "def CreateNewAnnotation(time_start, labels, freq): \n",
    "    freq = 1/freq\n",
    "    i = 0\n",
    "    label_starts = [time_start]\n",
    "    label_lens = [-1]\n",
    "    desc = [\"StartPredictionTime\"]\n",
    "    while i < len(labels):\n",
    "        if labels[i] == 1:\n",
    "            desc.append(\"ModelPrediction\")\n",
    "            label_starts.append(time_start + i*freq)\n",
    "            cur_start = i\n",
    "            while i < len(labels) and labels[i] == 1:\n",
    "                i += 1\n",
    "            label_lens.append((i - cur_start) * freq)\n",
    "        i += 1\n",
    "    label_starts += [time_start + i*freq]\n",
    "    label_lens += [-1]\n",
    "    desc += [\"EndPredictionTime\"]\n",
    "\n",
    "    return np.array(label_starts), np.array(label_lens), np.array(desc)"
   ]
  },
  {
   "cell_type": "code",
   "execution_count": 214,
   "id": "1cf6b98d",
   "metadata": {
    "ExecuteTime": {
     "end_time": "2024-08-08T14:55:33.771625Z",
     "start_time": "2024-08-08T14:55:33.765294Z"
    }
   },
   "outputs": [
    {
     "data": {
      "text/plain": [
       "3601.956"
      ]
     },
     "execution_count": 214,
     "metadata": {},
     "output_type": "execute_result"
    }
   ],
   "source": [
    "TEST_TIME_START"
   ]
  },
  {
   "cell_type": "code",
   "execution_count": 218,
   "id": "d5da8443",
   "metadata": {
    "ExecuteTime": {
     "end_time": "2024-08-08T14:56:19.069399Z",
     "start_time": "2024-08-08T14:56:19.060298Z"
    }
   },
   "outputs": [],
   "source": [
    "def WriteEDF(predictions):\n",
    "    freq = 199.50522703694836\n",
    "    time_start = TEST_TIME_START\n",
    "    for i in range(len(predictions)):\n",
    "        preds_annotations = CreateNewAnnotation(time_start, predictions[i], freq)\n",
    "        \n",
    "        data = mne.io.read_raw_edf(\"data/labeled_10mins_checkedSHA.edf\")\n",
    "\n",
    "        preds_annotations = list(preds_annotations)\n",
    "        preds_annotations[1] = np.clip(preds_annotations[1], a_min=0, a_max = None)\n",
    "\n",
    "        old_annot = np.array([[data.annotations[i][\"onset\"], data.annotations[i][\"duration\"], data.annotations[i][\"description\"]] \n",
    "                      for i in range(len(data.annotations))])\n",
    "        full_annot = np.concatenate([np.array(preds_annotations), old_annot.T], axis=1)\n",
    "        annotations = mne.Annotations(full_annot[0], full_annot[1], full_annot[2])\n",
    "        data.set_annotations(annotations)\n",
    "        \n",
    "        data.export(\"predicts/StudentToSpec/10minsSHA.edf\", overwrite=True)\n",
    "        data.close()\n",
    "        "
   ]
  },
  {
   "cell_type": "code",
   "execution_count": 219,
   "id": "c9f26cda",
   "metadata": {
    "ExecuteTime": {
     "end_time": "2024-08-08T14:56:45.019133Z",
     "start_time": "2024-08-08T14:56:20.397324Z"
    }
   },
   "outputs": [
    {
     "name": "stdout",
     "output_type": "stream",
     "text": [
      "Extracting EDF parameters from /mnt/hdd-home/gromov_n/extreme-events/EEG seizure/EpiActivity/data/labeled_10mins_checkedSHA.edf...\n",
      "EDF file detected\n",
      "Setting channel info structure...\n",
      "Creating raw.info structure...\n",
      "Overwriting existing file.\n",
      "Reading 0 ... 14409999  =      0.000 ... 28819.998 secs...\n"
     ]
    }
   ],
   "source": [
    "WriteEDF([all_preds])"
   ]
  },
  {
   "cell_type": "code",
   "execution_count": null,
   "id": "17a90257",
   "metadata": {},
   "outputs": [],
   "source": []
  }
 ],
 "metadata": {
  "kernelspec": {
   "display_name": "Python 3 (ipykernel)",
   "language": "python",
   "name": "python3"
  },
  "language_info": {
   "codemirror_mode": {
    "name": "ipython",
    "version": 3
   },
   "file_extension": ".py",
   "mimetype": "text/x-python",
   "name": "python",
   "nbconvert_exporter": "python",
   "pygments_lexer": "ipython3",
   "version": "3.10.12"
  },
  "toc": {
   "base_numbering": 1,
   "nav_menu": {},
   "number_sections": true,
   "sideBar": true,
   "skip_h1_title": false,
   "title_cell": "Table of Contents",
   "title_sidebar": "Contents",
   "toc_cell": false,
   "toc_position": {},
   "toc_section_display": true,
   "toc_window_display": false
  },
  "varInspector": {
   "cols": {
    "lenName": 16,
    "lenType": 16,
    "lenVar": 40
   },
   "kernels_config": {
    "python": {
     "delete_cmd_postfix": "",
     "delete_cmd_prefix": "del ",
     "library": "var_list.py",
     "varRefreshCmd": "print(var_dic_list())"
    },
    "r": {
     "delete_cmd_postfix": ") ",
     "delete_cmd_prefix": "rm(",
     "library": "var_list.r",
     "varRefreshCmd": "cat(var_dic_list()) "
    }
   },
   "types_to_exclude": [
    "module",
    "function",
    "builtin_function_or_method",
    "instance",
    "_Feature"
   ],
   "window_display": false
  }
 },
 "nbformat": 4,
 "nbformat_minor": 5
}
