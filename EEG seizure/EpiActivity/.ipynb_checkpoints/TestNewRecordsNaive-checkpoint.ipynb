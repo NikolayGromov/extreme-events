{
 "cells": [
  {
   "cell_type": "code",
   "execution_count": 1,
   "id": "603bbab5-e810-48fa-813a-c5188a938056",
   "metadata": {},
   "outputs": [],
   "source": [
    "import pyedflib\n",
    "import mne\n",
    "import numpy as np\n",
    "\n",
    "import torchvision\n",
    "import torch\n",
    "import torchaudio\n",
    "from torch import nn\n",
    "import torch.nn.functional as F\n",
    "import torch.optim as optim\n",
    "from torch.optim.lr_scheduler import ReduceLROnPlateau\n",
    "\n",
    "import matplotlib.pyplot as plt\n",
    "from torch.utils.data import DataLoader\n",
    "\n",
    "from IPython.display import clear_output\n",
    "from tqdm import tqdm\n",
    "import matplotlib.ticker as ticker\n",
    "from os import listdir\n",
    "\n",
    "from sklearn.metrics import precision_score , recall_score, confusion_matrix,  ConfusionMatrixDisplay\n",
    "%matplotlib inline"
   ]
  },
  {
   "cell_type": "code",
   "execution_count": 2,
   "id": "a542e3ab-6a31-427d-a4e5-90c280eefaf5",
   "metadata": {},
   "outputs": [],
   "source": [
    "def ReadSignal(file_name): #move to utils\n",
    "\n",
    "    f = pyedflib.EdfReader(file_name)\n",
    "    n = f.signals_in_file\n",
    "    signal_labels = f.getSignalLabels()\n",
    "    sigbufs = np.zeros((n, f.getNSamples()[0]))\n",
    "    for i in np.arange(n):\n",
    "        sigbufs[i, :] = f.readSignal(i)\n",
    "\n",
    "    time = [1/f.samplefrequency(0) * i for i in range(len(sigbufs[0]))]\n",
    "\n",
    "    annotations = f.readAnnotations()  \n",
    "\n",
    "    shift = -annotations[0][0]\n",
    "\n",
    "    new_annot = [(annotations[0][i], annotations[1][i], annotations[2][i])  for i in range(len(annotations[0]))]\n",
    "    f.close()\n",
    "    return sigbufs, new_annot, time, f.samplefrequency(0)"
   ]
  },
  {
   "cell_type": "code",
   "execution_count": 45,
   "id": "03cbc235-f77c-4f0a-931c-54f12334962d",
   "metadata": {},
   "outputs": [
    {
     "data": {
      "text/plain": [
       "2.5062311557788943"
      ]
     },
     "execution_count": 45,
     "metadata": {},
     "output_type": "execute_result"
    }
   ],
   "source": [
    "500 / 199.50274692224406"
   ]
  },
  {
   "cell_type": "code",
   "execution_count": 3,
   "id": "5f60039c-4e5f-4a81-963b-499c2ca94230",
   "metadata": {},
   "outputs": [],
   "source": [
    "transform = torchaudio.transforms.Resample(25062, 10000)"
   ]
  },
  {
   "cell_type": "code",
   "execution_count": 4,
   "id": "6bf590fe-77f2-4c45-92b0-689d64690269",
   "metadata": {},
   "outputs": [],
   "source": [
    "sigbufs, new_annot, time, freq = ReadSignal(\"data/labeled_30min_edSHA.edf\")"
   ]
  },
  {
   "cell_type": "code",
   "execution_count": 6,
   "id": "eb3f0e9a-c1ae-45ee-b21d-bc084de7d950",
   "metadata": {},
   "outputs": [
    {
     "data": {
      "text/plain": [
       "(20, 14410000)"
      ]
     },
     "execution_count": 6,
     "metadata": {},
     "output_type": "execute_result"
    }
   ],
   "source": [
    "sigbufs.shape"
   ]
  },
  {
   "cell_type": "code",
   "execution_count": 7,
   "id": "738dea26-c970-4166-a03c-8cc08d5cab88",
   "metadata": {},
   "outputs": [
    {
     "data": {
      "text/plain": [
       "torch.Size([5749741])"
      ]
     },
     "execution_count": 7,
     "metadata": {},
     "output_type": "execute_result"
    }
   ],
   "source": [
    "new_sigbufs[0].size()"
   ]
  },
  {
   "cell_type": "code",
   "execution_count": 8,
   "id": "8e61c0c9-4782-4782-9fd6-b3c81ccfcd93",
   "metadata": {},
   "outputs": [
    {
     "data": {
      "text/plain": [
       "2.5061998444799514"
      ]
     },
     "execution_count": 8,
     "metadata": {},
     "output_type": "execute_result"
    }
   ],
   "source": [
    "14410000 / 5749741"
   ]
  },
  {
   "cell_type": "code",
   "execution_count": 5,
   "id": "cfbe5f05-7eb6-440b-93aa-9c973e6f5fd4",
   "metadata": {},
   "outputs": [
    {
     "name": "stderr",
     "output_type": "stream",
     "text": [
      "100%|██████████████████████████████████████████████████████████████████████████████████████████████████████| 20/20 [00:11<00:00,  1.80it/s]\n"
     ]
    }
   ],
   "source": [
    "new_sigbufs = []\n",
    "for sig in tqdm(sigbufs):\n",
    "    new_sigbufs.append(transform(torch.FloatTensor(sig)))"
   ]
  },
  {
   "cell_type": "code",
   "execution_count": 13,
   "id": "2c5b0dcb-ea67-4cc0-a55a-349c31504d27",
   "metadata": {},
   "outputs": [],
   "source": [
    "time = [1/199.50274692224406 * i for i in range(len(new_sigbufs[0]))]"
   ]
  },
  {
   "cell_type": "code",
   "execution_count": 14,
   "id": "8054a09e-1a4d-428f-ade3-2853367ce56b",
   "metadata": {},
   "outputs": [
    {
     "data": {
      "text/plain": [
       "28820.35505125628"
      ]
     },
     "execution_count": 14,
     "metadata": {},
     "output_type": "execute_result"
    }
   ],
   "source": [
    "time[-1]"
   ]
  },
  {
   "cell_type": "code",
   "execution_count": 4,
   "id": "f3109d9c-eea4-463f-aeba-342eaa98cd31",
   "metadata": {},
   "outputs": [
    {
     "data": {
      "text/plain": [
       "(4198.848, 0.088, 'EEG F3-C3')"
      ]
     },
     "execution_count": 4,
     "metadata": {},
     "output_type": "execute_result"
    }
   ],
   "source": [
    "new_annot[-1]"
   ]
  },
  {
   "cell_type": "code",
   "execution_count": 15,
   "id": "7bf4b9ef-a5d7-4d08-9bf2-a338fff19b02",
   "metadata": {},
   "outputs": [],
   "source": [
    "def Labeling(time, events_lst):\n",
    "    labels = np.zeros_like(time)\n",
    "\n",
    "    for events in events_lst:\n",
    "        for event in tqdm(events):\n",
    "            start = np.array(time < event[0]).argmin()\n",
    "            fin = np.array(time < event[0] + event[1]).argmin()\n",
    "            labels[start:fin] =  1\n",
    "    return labels"
   ]
  },
  {
   "cell_type": "code",
   "execution_count": 16,
   "id": "13d07981-4bc4-404d-a53a-4a5af40d3a47",
   "metadata": {},
   "outputs": [
    {
     "name": "stderr",
     "output_type": "stream",
     "text": [
      "100%|██████████████████████████████████████████████████████████████████████████████████████████████████| 2451/2451 [14:58<00:00,  2.73it/s]\n"
     ]
    }
   ],
   "source": [
    "labels = Labeling(time, [new_annot])"
   ]
  },
  {
   "cell_type": "code",
   "execution_count": 17,
   "id": "e03ec29e-51c0-4465-9223-ee65ea572cd6",
   "metadata": {},
   "outputs": [],
   "source": [
    "np.save(\"data/labeles_resampled_30min_edSHA\", labels)"
   ]
  },
  {
   "cell_type": "code",
   "execution_count": 18,
   "id": "2bac4256-bd5a-4334-bf0f-389ceda6b02b",
   "metadata": {},
   "outputs": [
    {
     "data": {
      "text/plain": [
       "28820.35505125628"
      ]
     },
     "execution_count": 18,
     "metadata": {},
     "output_type": "execute_result"
    }
   ],
   "source": [
    "time[-1]"
   ]
  },
  {
   "cell_type": "code",
   "execution_count": 19,
   "id": "7bde80e3-76bc-4429-8389-a7200b7ee25d",
   "metadata": {},
   "outputs": [
    {
     "data": {
      "text/plain": [
       "[<matplotlib.lines.Line2D at 0x7fb6c2c55870>]"
      ]
     },
     "execution_count": 19,
     "metadata": {},
     "output_type": "execute_result"
    },
    {
     "data": {
      "image/png": "[encoded data removed]",
      "text/plain": [
       "<Figure size 640x480 with 1 Axes>"
      ]
     },
     "metadata": {},
     "output_type": "display_data"
    }
   ],
   "source": [
    "idx = np.array(time < new_annot[-1][0]).argmin()\n",
    "plt.plot(new_sigbufs[2][idx-100:idx+100])\n",
    "plt.plot(labels[idx-100:idx+100])\n",
    "         "
   ]
  },
  {
   "cell_type": "code",
   "execution_count": 21,
   "id": "40404bb8-6006-4590-a8cb-0206e845737f",
   "metadata": {},
   "outputs": [],
   "source": [
    "test_x = torch.FloatTensor(np.array(new_sigbufs)).to(\"cuda\")\n",
    "new_testl = torch.zeros(2, len(labels))\n",
    "new_testl = (torch.arange(2) == torch.LongTensor(labels)[:,None]).T\n",
    "new_testl = new_testl.float()\n",
    "labels = new_testl"
   ]
  },
  {
   "cell_type": "code",
   "execution_count": 22,
   "id": "445db89b-d59f-4910-a003-f468d54e6416",
   "metadata": {},
   "outputs": [],
   "source": [
    "RECEPTIVE_FIELD = 4000\n",
    "\n",
    "def CreateSamples(x, labels, rf = RECEPTIVE_FIELD):\n",
    "    inout_seq = []\n",
    "    L = x.shape[-1]\n",
    "    for i in tqdm(range(0, L- rf, rf)):\n",
    "        train_seq = x[:, i:i+rf]\n",
    "        train_label = labels[:, i:i+rf]\n",
    "        inout_seq.append((train_seq ,train_label))\n",
    "    return inout_seq\n",
    "    "
   ]
  },
  {
   "cell_type": "code",
   "execution_count": 23,
   "id": "911a2a8a-be3f-4831-a45a-b0ee52db5fe7",
   "metadata": {},
   "outputs": [
    {
     "name": "stderr",
     "output_type": "stream",
     "text": [
      "100%|███████████████████████████████████████████████████████████████████████████████████████████████| 1437/1437 [00:00<00:00, 31077.09it/s]\n"
     ]
    }
   ],
   "source": [
    "test_samples = CreateSamples(test_x, labels)\n",
    "test_dataloader = DataLoader(test_samples, batch_size=13, shuffle=False, drop_last=True)"
   ]
  },
  {
   "cell_type": "markdown",
   "id": "6e440cdd-82a7-462f-867d-6a3c142bdf38",
   "metadata": {},
   "source": [
    "### Model"
   ]
  },
  {
   "cell_type": "code",
   "execution_count": 24,
   "id": "522bb6aa-0879-49a4-8d7b-7ab735af3118",
   "metadata": {},
   "outputs": [],
   "source": [
    "class conbr_block(nn.Module):\n",
    "    def __init__(self, in_layer, out_layer, kernel_size, stride, dilation):\n",
    "        super(conbr_block, self).__init__()\n",
    "\n",
    "        self.conv1 = nn.Conv1d(in_layer, out_layer, kernel_size=kernel_size, stride=stride, dilation = dilation, padding = 3, bias=True)\n",
    "        self.bn = nn.BatchNorm1d(out_layer)\n",
    "        self.relu = nn.ReLU()\n",
    "    \n",
    "    def forward(self,x):\n",
    "        x = self.conv1(x)\n",
    "        x = self.bn(x)\n",
    "        out = self.relu(x)\n",
    "        \n",
    "        return out       \n",
    "\n",
    "class se_block(nn.Module):\n",
    "    def __init__(self,in_layer, out_layer):\n",
    "        super(se_block, self).__init__()\n",
    "        \n",
    "        self.conv1 = nn.Conv1d(in_layer, out_layer//8, kernel_size=1, padding=0)\n",
    "        self.conv2 = nn.Conv1d(out_layer//8, in_layer, kernel_size=1, padding=0)\n",
    "        self.fc = nn.Linear(1,out_layer//8)\n",
    "        self.fc2 = nn.Linear(out_layer//8,out_layer)\n",
    "        self.relu = nn.ReLU()\n",
    "        self.sigmoid = nn.Sigmoid()\n",
    "    \n",
    "    def forward(self,x):\n",
    "\n",
    "        x_se = nn.functional.adaptive_avg_pool1d(x,1)\n",
    "        x_se = self.conv1(x_se)\n",
    "        x_se = self.relu(x_se)\n",
    "        x_se = self.conv2(x_se)\n",
    "        x_se = self.sigmoid(x_se)\n",
    "        \n",
    "        x_out = torch.add(x, x_se)\n",
    "        return x_out\n",
    "\n",
    "class re_block(nn.Module):\n",
    "    def __init__(self, in_layer, out_layer, kernel_size, dilation):\n",
    "        super(re_block, self).__init__()\n",
    "        \n",
    "        self.cbr1 = conbr_block(in_layer,out_layer, kernel_size, 1, dilation)\n",
    "        self.cbr2 = conbr_block(out_layer,out_layer, kernel_size, 1, dilation)\n",
    "        self.seblock = se_block(out_layer, out_layer)\n",
    "    \n",
    "    def forward(self,x):\n",
    "\n",
    "        x_re = self.cbr1(x)\n",
    "        x_re = self.cbr2(x_re)\n",
    "        x_re = self.seblock(x_re)\n",
    "        x_out = torch.add(x, x_re)\n",
    "        return x_out          \n",
    "\n",
    "class UNET_1D(nn.Module):\n",
    "    def __init__(self ,input_dim,layer_n,kernel_size,depth):\n",
    "        super(UNET_1D, self).__init__()\n",
    "        self.input_dim = input_dim\n",
    "        self.layer_n = layer_n\n",
    "        self.kernel_size = kernel_size\n",
    "        self.depth = depth\n",
    "        \n",
    "        self.AvgPool1D1 = nn.AvgPool1d(input_dim, stride=5, padding=8)\n",
    "        self.AvgPool1D2 = nn.AvgPool1d(input_dim, stride=25, padding=8)\n",
    "        self.AvgPool1D3 = nn.AvgPool1d(input_dim, stride=125, padding=8)\n",
    "        \n",
    "        self.layer1 = self.down_layer(self.input_dim, self.layer_n, self.kernel_size,1, 2)\n",
    "        self.layer2 = self.down_layer(self.layer_n, int(self.layer_n*2), self.kernel_size,5, 2)\n",
    "        self.layer3 = self.down_layer(int(self.layer_n*2)+int(self.input_dim), int(self.layer_n*3), self.kernel_size,5, 2)\n",
    "        self.layer4 = self.down_layer(int(self.layer_n*3)+int(self.input_dim), int(self.layer_n*4), self.kernel_size,5, 2)\n",
    "        self.layer5 = self.down_layer(int(self.layer_n*4)+int(self.input_dim), int(self.layer_n*5), self.kernel_size,4, 2)\n",
    "\n",
    "        self.cbr_up1 = conbr_block(int(self.layer_n*7), int(self.layer_n*3), self.kernel_size, 1, 1)\n",
    "        self.cbr_up2 = conbr_block(int(self.layer_n*5), int(self.layer_n*2), self.kernel_size, 1, 1)\n",
    "        self.cbr_up3 = conbr_block(int(self.layer_n*3), self.layer_n, self.kernel_size, 1, 1)\n",
    "        self.upsample = nn.Upsample(scale_factor=5, mode='nearest')\n",
    "        self.upsample1 = nn.Upsample(scale_factor=5, mode='nearest') #for 4000 it is 5 and for 100 is 4\n",
    "        \n",
    "        self.outcov = nn.Conv1d(self.layer_n, 2, kernel_size=self.kernel_size, stride=1,padding = 3)\n",
    "    \n",
    "        \n",
    "    def down_layer(self, input_layer, out_layer, kernel, stride, depth):\n",
    "        block = []\n",
    "        block.append(conbr_block(input_layer, out_layer, kernel, stride, 1))\n",
    "        for i in range(depth):\n",
    "            block.append(re_block(out_layer,out_layer,kernel,1))\n",
    "        return nn.Sequential(*block)\n",
    "            \n",
    "    def forward(self, x):\n",
    "        \n",
    "        #print(\"x\", x.size())\n",
    "        pool_x1 = self.AvgPool1D1(x)\n",
    "        #print(\"pool_x1\", pool_x1.size())\n",
    "        \n",
    "        pool_x2 = self.AvgPool1D2(x)\n",
    "        #print(\"pool_x2\", pool_x2.size())\n",
    "        \n",
    "        pool_x3 = self.AvgPool1D3(x)\n",
    "        #print(\"pool_x3\", pool_x3.size())\n",
    "        \n",
    "        \n",
    "        #############Encoder#####################\n",
    "        \n",
    "        out_0 = self.layer1(x)\n",
    "        #print(\"out_0\", out_0.size())\n",
    "        out_1 = self.layer2(out_0)        \n",
    "        #print(\"out_1\", out_1.size())\n",
    "        \n",
    "        \n",
    "        x = torch.cat([out_1,pool_x1],1)\n",
    "\n",
    "        #print(\"x\", x.size())\n",
    "        out_2 = self.layer3(x)\n",
    "        #print(\"out_2\", out_2.size())\n",
    "        \n",
    "        x = torch.cat([out_2,pool_x2],1)\n",
    "        #print(\"x\", x.size())\n",
    "        x = self.layer4(x)\n",
    "        #print(\"x\", x.size())\n",
    "        \n",
    "        \n",
    "        #############Decoder####################\n",
    "        \n",
    "        up = self.upsample1(x)\n",
    "        #print(\"up\", up.size())\n",
    "        \n",
    "        up = torch.cat([up,out_2],1)\n",
    "        #print(\"up\", up.size())\n",
    "        \n",
    "        up = self.cbr_up1(up)\n",
    "        #print(\"up\", up.size())\n",
    "        \n",
    "        up = self.upsample(up)\n",
    "        #print(\"up\", up.size())\n",
    "        \n",
    "        up = torch.cat([up,out_1],1)\n",
    "        #print(\"up\", up.size())\n",
    "        \n",
    "        up = self.cbr_up2(up)\n",
    "        #print(\"up\", up.size())\n",
    "        \n",
    "        \n",
    "        up = self.upsample(up)\n",
    "        #print(\"up\", up.size())\n",
    "        \n",
    "        up = torch.cat([up,out_0],1)\n",
    "        #print(\"up\", up.size())\n",
    "        \n",
    "        up = self.cbr_up3(up)\n",
    "        #print(\"up\", up.size())\n",
    "        \n",
    "        out = self.outcov(up)\n",
    "        #print(\"out\", out.size())\n",
    "        \n",
    "        #out = nn.functional.softmax(out,dim=2)\n",
    "        \n",
    "        return out"
   ]
  },
  {
   "cell_type": "markdown",
   "id": "a57f2e84-a5cb-4c08-9ae8-d386e2bf425d",
   "metadata": {},
   "source": [
    "### Prediction"
   ]
  },
  {
   "cell_type": "code",
   "execution_count": 25,
   "id": "c5646830-9bf6-4aa0-b4af-9e40b4d892e6",
   "metadata": {},
   "outputs": [],
   "source": [
    "model = UNET_1D(20,128,7,3) #(input_dim, hidden_layer, kernel_size, depth)\n",
    "model = model.to(\"cuda\")"
   ]
  },
  {
   "cell_type": "code",
   "execution_count": 26,
   "id": "bb6c9518-8ab9-47ba-b0e3-7f861665b5f5",
   "metadata": {},
   "outputs": [
    {
     "data": {
      "text/plain": [
       "<All keys matched successfully>"
      ]
     },
     "execution_count": 26,
     "metadata": {},
     "output_type": "execute_result"
    }
   ],
   "source": [
    "model.load_state_dict(torch.load(\"./models/4000Conv1d3\"))"
   ]
  },
  {
   "cell_type": "code",
   "execution_count": 27,
   "id": "c72a5d66-cee6-4dff-b4b9-7145cd611dbe",
   "metadata": {},
   "outputs": [],
   "source": [
    "model.eval()\n",
    "#model.cpu()\n",
    "all_preds = []\n",
    "for idx, (x, y) in enumerate(test_dataloader):\n",
    "    x = x.float()\n",
    "    #print(\"x\", x.shape)\n",
    "\n",
    "    out = model(x)\n",
    "    m = nn.Softmax(dim=1)\n",
    "    out = m(out)\n",
    "    #print(out.size())\n",
    "    #print(\"first\", out[:, 0].max())\n",
    "    #print(\"second\", out[:, 1].max())\n",
    "    \n",
    "    preds = np.argmax(out.detach().cpu().numpy(), axis=1)\n",
    "    all_preds.append(preds)"
   ]
  },
  {
   "cell_type": "code",
   "execution_count": 29,
   "id": "609c3018-d6f7-4af6-b570-b6ff3b33de4d",
   "metadata": {},
   "outputs": [],
   "source": [
    "all_preds = np.array(all_preds).reshape(len(test_dataloader) * 13 * 4000)#all_preds = np.array(all_preds).reshape(99 * 16 * 100)"
   ]
  },
  {
   "cell_type": "code",
   "execution_count": 42,
   "id": "74c98ebe-6ffb-4c0a-bb4d-6324500a15e3",
   "metadata": {},
   "outputs": [
    {
     "data": {
      "text/plain": [
       "500.0"
      ]
     },
     "execution_count": 42,
     "metadata": {},
     "output_type": "execute_result"
    }
   ],
   "source": [
    "freq"
   ]
  },
  {
   "cell_type": "code",
   "execution_count": 30,
   "id": "6182c1ca-12aa-4dea-a76e-ef3ee5e160ae",
   "metadata": {},
   "outputs": [
    {
     "name": "stdout",
     "output_type": "stream",
     "text": [
      "accuracy 0.9812194055944056\n",
      "precision 0.037991597549084516\n",
      "recall 0.10291528076697319\n"
     ]
    }
   ],
   "source": [
    "test_labels = labels\n",
    "pred_len = len(all_preds)\n",
    "print(\"accuracy\", (all_preds == test_labels[1, :pred_len].detach().cpu().numpy()).sum() /  pred_len)\n",
    "print(\"precision\", precision_score(test_labels[1, :pred_len].detach().cpu().numpy(), all_preds))\n",
    "print(\"recall\", recall_score(test_labels[1, :pred_len].detach().cpu().numpy(), all_preds))"
   ]
  },
  {
   "cell_type": "code",
   "execution_count": 31,
   "id": "c3fe785c-8619-4100-87b4-c0fcdc496474",
   "metadata": {},
   "outputs": [
    {
     "data": {
      "image/png": "[encoded data removed]",
      "text/plain": [
       "<Figure size 640x480 with 2 Axes>"
      ]
     },
     "metadata": {},
     "output_type": "display_data"
    }
   ],
   "source": [
    "cm = confusion_matrix(test_labels[1, :pred_len].detach().cpu().numpy(), all_preds)\n",
    "cm_display = ConfusionMatrixDisplay(cm).plot()"
   ]
  },
  {
   "cell_type": "code",
   "execution_count": 32,
   "id": "86728f39-cbea-4cc7-9390-2bb2a4f188fa",
   "metadata": {},
   "outputs": [],
   "source": [
    "def CollectingTPFPFN(pred_labels, true_labels):\n",
    "    i = 0\n",
    "    TP = 0\n",
    "    FP = 0\n",
    "    FN = 0\n",
    "\n",
    "    is_true_flag = 0\n",
    "    is_pred_flag = 0\n",
    "    while i < len(pred_labels):\n",
    "        while true_labels[i] == 1:\n",
    "            is_true_flag = 1\n",
    "            if pred_labels[i] == 1:\n",
    "                is_pred_flag = 1\n",
    "            i += 1\n",
    "        if is_true_flag:\n",
    "            if is_pred_flag:\n",
    "                TP += 1\n",
    "            else:\n",
    "                FN += 1\n",
    "        \n",
    "        is_true_flag = 0\n",
    "        is_pred_flag = 0   \n",
    "        i += 1\n",
    "\n",
    "    i = 0\n",
    "    while i < len(pred_labels):\n",
    "        while pred_labels[i] == 1:\n",
    "            is_pred_flag = 1\n",
    "            if true_labels[i] == 1:\n",
    "                is_true_flag = 1\n",
    "            i += 1\n",
    "        if is_pred_flag and not is_true_flag:\n",
    "            FP += 1\n",
    "        is_pred_flag = 0\n",
    "        is_true_flag = 0\n",
    "        i += 1\n",
    "\n",
    "    return TP, FP, FN              "
   ]
  },
  {
   "cell_type": "code",
   "execution_count": 33,
   "id": "d2fede7a-80cf-4baf-aa25-7116d988ff82",
   "metadata": {},
   "outputs": [],
   "source": [
    "TP, FP, FN = CollectingTPFPFN(all_preds, test_labels[1, :pred_len].detach().cpu().numpy())"
   ]
  },
  {
   "cell_type": "code",
   "execution_count": 34,
   "id": "eeccaf32-6486-4c5c-8d09-34736e6fe183",
   "metadata": {},
   "outputs": [
    {
     "name": "stdout",
     "output_type": "stream",
     "text": [
      "precision 0.034946910793411924\n",
      "recall 0.2902777777777778\n"
     ]
    }
   ],
   "source": [
    "print(\"precision\",TP / (TP + FP))\n",
    "print(\"recall\", TP / (TP + FN))"
   ]
  },
  {
   "cell_type": "code",
   "execution_count": 35,
   "id": "78d4bc7d-8324-4c20-952b-53fc0e41d41e",
   "metadata": {},
   "outputs": [
    {
     "data": {
      "image/png": "[encoded data removed]",
      "text/plain": [
       "<Figure size 640x480 with 2 Axes>"
      ]
     },
     "metadata": {},
     "output_type": "display_data"
    }
   ],
   "source": [
    "cm = np.array([[0, FP], [FN, TP]])\n",
    "cm_display = ConfusionMatrixDisplay(cm).plot()"
   ]
  },
  {
   "cell_type": "code",
   "execution_count": 36,
   "id": "faa74840-3ae2-4ecf-b810-0e54e63793c5",
   "metadata": {},
   "outputs": [],
   "source": [
    "def CreateAnnotation(time_start, labels, freq):  # можно связать с прошлой анотацией, попробовать p concatenate\n",
    "    freq = 1/freq\n",
    "    i = 0\n",
    "    label_starts = [time_start]\n",
    "    label_lens = [-1]\n",
    "    desc = [\"StartPredictionTime\"]\n",
    "    while i < len(labels):\n",
    "        if labels[i] == 1:\n",
    "            desc.append(\"ModelPrediction\")\n",
    "            label_starts.append(time_start + i*freq)\n",
    "            cur_start = i\n",
    "            while labels[i] == 1:\n",
    "                i += 1\n",
    "            label_lens.append((i - cur_start) * freq)\n",
    "        i += 1\n",
    "    label_starts += [time_start + i*freq]\n",
    "    label_lens += [-1]\n",
    "    desc += [\"EndPredictionTime\"]\n",
    "\n",
    "    return np.array(label_starts), np.array(label_lens), np.array(desc)"
   ]
  },
  {
   "cell_type": "code",
   "execution_count": 38,
   "id": "e97a6add-95b7-4373-866d-40357ff8fa45",
   "metadata": {},
   "outputs": [],
   "source": [
    "TEST_TIME_START = 0\n",
    "freq = 199.50274692224406\n",
    "preds_annotations = CreateAnnotation(TEST_TIME_START, all_preds, freq)"
   ]
  },
  {
   "cell_type": "code",
   "execution_count": 39,
   "id": "43e1ab3c-4610-4e22-904a-8cee4422a965",
   "metadata": {},
   "outputs": [
    {
     "name": "stdout",
     "output_type": "stream",
     "text": [
      "Extracting EDF parameters from /home/gromov_n/extreme-events/EEG seizure/EpiActivity/data/labeled_30min_edSHA.edf...\n",
      "EDF file detected\n",
      "Setting channel info structure...\n",
      "Creating raw.info structure...\n"
     ]
    }
   ],
   "source": [
    "data = mne.io.read_raw_edf(\"data/labeled_30min_edSHA.edf\")\n",
    "raw_data = data.get_data()\n",
    "# you can get the metadata included in the file and a list of all channels:\n",
    "info = data.info\n",
    "channels = data.ch_names"
   ]
  },
  {
   "cell_type": "code",
   "execution_count": 40,
   "id": "716b5e0c-bafa-4c63-abf8-12b2f6372eff",
   "metadata": {},
   "outputs": [
    {
     "data": {
      "text/plain": [
       "0.0"
      ]
     },
     "execution_count": 40,
     "metadata": {},
     "output_type": "execute_result"
    }
   ],
   "source": [
    "dur_max = preds_annotations[1].max()\n",
    "preds_annotations = list(preds_annotations)\n",
    "preds_annotations[1] = np.clip(preds_annotations[1], a_min=0, a_max = dur_max)\n",
    "preds_annotations[1].min()"
   ]
  },
  {
   "cell_type": "code",
   "execution_count": 41,
   "id": "232c13d4-2a18-4e61-bc9d-4751b5cc7056",
   "metadata": {},
   "outputs": [],
   "source": [
    "old_annot = np.array([[data.annotations[i][\"onset\"], data.annotations[i][\"duration\"], data.annotations[i][\"description\"]] \n",
    "                      for i in range(len(data.annotations))])\n",
    "full_annot = np.concatenate([np.array(preds_annotations), old_annot.T], axis=1)\n",
    "annotations = mne.Annotations(full_annot[0], full_annot[1], full_annot[2])"
   ]
  },
  {
   "cell_type": "code",
   "execution_count": 42,
   "id": "0cf84a8f-8d4f-4241-a5f2-90d102e92832",
   "metadata": {},
   "outputs": [
    {
     "data": {
      "text/plain": [
       "<Annotations | 14428 segments: * (99), ? (31), EEG C3-P3 (868), EEG F3-C3 ...>"
      ]
     },
     "execution_count": 42,
     "metadata": {},
     "output_type": "execute_result"
    }
   ],
   "source": [
    "data.set_annotations(annotations)\n",
    "data.annotations"
   ]
  },
  {
   "cell_type": "code",
   "execution_count": 43,
   "id": "e83d651e-3ee7-4cc9-a54a-c3a9316a3ecd",
   "metadata": {},
   "outputs": [
    {
     "name": "stdout",
     "output_type": "stream",
     "text": [
      "Overwriting existing file.\n",
      "Reading 0 ... 14409999  =      0.000 ... 28819.998 secs...\n"
     ]
    }
   ],
   "source": [
    "data.export(\"predicts/Predslabeled_30min_edSHA.edf\", overwrite=True)"
   ]
  },
  {
   "cell_type": "code",
   "execution_count": 44,
   "id": "77d5eb14-0284-4df4-aadf-bbb89594ffdd",
   "metadata": {},
   "outputs": [],
   "source": [
    "data.close()"
   ]
  },
  {
   "cell_type": "code",
   "execution_count": null,
   "id": "a611dc33-07ee-4bff-9842-9f03b869668a",
   "metadata": {},
   "outputs": [],
   "source": []
  }
 ],
 "metadata": {
  "kernelspec": {
   "display_name": "Python 3 (ipykernel)",
   "language": "python",
   "name": "python3"
  },
  "language_info": {
   "codemirror_mode": {
    "name": "ipython",
    "version": 3
   },
   "file_extension": ".py",
   "mimetype": "text/x-python",
   "name": "python",
   "nbconvert_exporter": "python",
   "pygments_lexer": "ipython3",
   "version": "3.10.12"
  }
 },
 "nbformat": 4,
 "nbformat_minor": 5
}
