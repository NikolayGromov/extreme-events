{
 "cells": [
  {
   "cell_type": "code",
   "execution_count": 1,
   "id": "29d3957b-1bab-44e5-8380-c04226ada82f",
   "metadata": {},
   "outputs": [],
   "source": [
    "import mne\n",
    "import numpy as np\n",
    "import datetime"
   ]
  },
  {
   "cell_type": "code",
   "execution_count": 2,
   "id": "cc2cc235-7cd1-4d68-9093-ad439840247e",
   "metadata": {},
   "outputs": [],
   "source": [
    "TIME_DURATION = 8 * 60 * 60 + 20 #in seconds"
   ]
  },
  {
   "cell_type": "code",
   "execution_count": 3,
   "id": "3e161f37-3c7d-4cb0-b605-91655a4f4d64",
   "metadata": {},
   "outputs": [
    {
     "name": "stdout",
     "output_type": "stream",
     "text": [
      "Extracting EDF parameters from /home/gromov_n/extreme-events/EEG seizure/EpiActivity/predicts/NewRecordPredsUnlabeledFixed.edf...\n",
      "EDF file detected\n",
      "Setting channel info structure...\n",
      "Creating raw.info structure...\n",
      "Overwriting existing file.\n",
      "Reading 0 ... 300000  =      0.000 ...   600.000 secs...\n"
     ]
    },
    {
     "name": "stderr",
     "output_type": "stream",
     "text": [
      "/tmp/ipykernel_1448525/150263523.py:8: RuntimeWarning: EDF format requires equal-length data blocks, so 0.998 seconds of zeros were appended to all channels when writing the final block.\n",
      "  data_new.export(\"predicts/pieces/NewRecord\" + str(time_start // 60) + \"-\" + str(time_end // 60) + \"minutes.edf\", overwrite=True)\n"
     ]
    },
    {
     "name": "stdout",
     "output_type": "stream",
     "text": [
      "Extracting EDF parameters from /home/gromov_n/extreme-events/EEG seizure/EpiActivity/predicts/NewRecordPredsUnlabeledFixed.edf...\n",
      "EDF file detected\n",
      "Setting channel info structure...\n",
      "Creating raw.info structure...\n",
      "Overwriting existing file.\n",
      "Reading 0 ... 300000  =      0.000 ...   600.000 secs...\n"
     ]
    },
    {
     "name": "stderr",
     "output_type": "stream",
     "text": [
      "/tmp/ipykernel_1448525/150263523.py:8: RuntimeWarning: EDF format requires equal-length data blocks, so 0.998 seconds of zeros were appended to all channels when writing the final block.\n",
      "  data_new.export(\"predicts/pieces/NewRecord\" + str(time_start // 60) + \"-\" + str(time_end // 60) + \"minutes.edf\", overwrite=True)\n"
     ]
    },
    {
     "name": "stdout",
     "output_type": "stream",
     "text": [
      "Extracting EDF parameters from /home/gromov_n/extreme-events/EEG seizure/EpiActivity/predicts/NewRecordPredsUnlabeledFixed.edf...\n",
      "EDF file detected\n",
      "Setting channel info structure...\n",
      "Creating raw.info structure...\n",
      "Overwriting existing file.\n",
      "Reading 0 ... 300000  =      0.000 ...   600.000 secs...\n"
     ]
    },
    {
     "name": "stderr",
     "output_type": "stream",
     "text": [
      "/tmp/ipykernel_1448525/150263523.py:8: RuntimeWarning: EDF format requires equal-length data blocks, so 0.998 seconds of zeros were appended to all channels when writing the final block.\n",
      "  data_new.export(\"predicts/pieces/NewRecord\" + str(time_start // 60) + \"-\" + str(time_end // 60) + \"minutes.edf\", overwrite=True)\n"
     ]
    },
    {
     "name": "stdout",
     "output_type": "stream",
     "text": [
      "Extracting EDF parameters from /home/gromov_n/extreme-events/EEG seizure/EpiActivity/predicts/NewRecordPredsUnlabeledFixed.edf...\n",
      "EDF file detected\n",
      "Setting channel info structure...\n",
      "Creating raw.info structure...\n",
      "Overwriting existing file.\n",
      "Reading 0 ... 300000  =      0.000 ...   600.000 secs...\n"
     ]
    },
    {
     "name": "stderr",
     "output_type": "stream",
     "text": [
      "/tmp/ipykernel_1448525/150263523.py:8: RuntimeWarning: EDF format requires equal-length data blocks, so 0.998 seconds of zeros were appended to all channels when writing the final block.\n",
      "  data_new.export(\"predicts/pieces/NewRecord\" + str(time_start // 60) + \"-\" + str(time_end // 60) + \"minutes.edf\", overwrite=True)\n"
     ]
    },
    {
     "name": "stdout",
     "output_type": "stream",
     "text": [
      "Extracting EDF parameters from /home/gromov_n/extreme-events/EEG seizure/EpiActivity/predicts/NewRecordPredsUnlabeledFixed.edf...\n",
      "EDF file detected\n",
      "Setting channel info structure...\n",
      "Creating raw.info structure...\n",
      "Overwriting existing file.\n",
      "Reading 0 ... 300000  =      0.000 ...   600.000 secs...\n"
     ]
    },
    {
     "name": "stderr",
     "output_type": "stream",
     "text": [
      "/tmp/ipykernel_1448525/150263523.py:8: RuntimeWarning: EDF format requires equal-length data blocks, so 0.998 seconds of zeros were appended to all channels when writing the final block.\n",
      "  data_new.export(\"predicts/pieces/NewRecord\" + str(time_start // 60) + \"-\" + str(time_end // 60) + \"minutes.edf\", overwrite=True)\n"
     ]
    },
    {
     "name": "stdout",
     "output_type": "stream",
     "text": [
      "Extracting EDF parameters from /home/gromov_n/extreme-events/EEG seizure/EpiActivity/predicts/NewRecordPredsUnlabeledFixed.edf...\n",
      "EDF file detected\n",
      "Setting channel info structure...\n",
      "Creating raw.info structure...\n",
      "Overwriting existing file.\n",
      "Reading 0 ... 300000  =      0.000 ...   600.000 secs...\n"
     ]
    },
    {
     "name": "stderr",
     "output_type": "stream",
     "text": [
      "/tmp/ipykernel_1448525/150263523.py:8: RuntimeWarning: EDF format requires equal-length data blocks, so 0.998 seconds of zeros were appended to all channels when writing the final block.\n",
      "  data_new.export(\"predicts/pieces/NewRecord\" + str(time_start // 60) + \"-\" + str(time_end // 60) + \"minutes.edf\", overwrite=True)\n"
     ]
    },
    {
     "name": "stdout",
     "output_type": "stream",
     "text": [
      "Extracting EDF parameters from /home/gromov_n/extreme-events/EEG seizure/EpiActivity/predicts/NewRecordPredsUnlabeledFixed.edf...\n",
      "EDF file detected\n",
      "Setting channel info structure...\n",
      "Creating raw.info structure...\n",
      "Overwriting existing file.\n",
      "Reading 0 ... 300000  =      0.000 ...   600.000 secs...\n"
     ]
    },
    {
     "name": "stderr",
     "output_type": "stream",
     "text": [
      "/tmp/ipykernel_1448525/150263523.py:8: RuntimeWarning: EDF format requires equal-length data blocks, so 0.998 seconds of zeros were appended to all channels when writing the final block.\n",
      "  data_new.export(\"predicts/pieces/NewRecord\" + str(time_start // 60) + \"-\" + str(time_end // 60) + \"minutes.edf\", overwrite=True)\n"
     ]
    },
    {
     "name": "stdout",
     "output_type": "stream",
     "text": [
      "Extracting EDF parameters from /home/gromov_n/extreme-events/EEG seizure/EpiActivity/predicts/NewRecordPredsUnlabeledFixed.edf...\n",
      "EDF file detected\n",
      "Setting channel info structure...\n",
      "Creating raw.info structure...\n",
      "Overwriting existing file.\n",
      "Reading 0 ... 300000  =      0.000 ...   600.000 secs...\n"
     ]
    },
    {
     "name": "stderr",
     "output_type": "stream",
     "text": [
      "/tmp/ipykernel_1448525/150263523.py:8: RuntimeWarning: EDF format requires equal-length data blocks, so 0.998 seconds of zeros were appended to all channels when writing the final block.\n",
      "  data_new.export(\"predicts/pieces/NewRecord\" + str(time_start // 60) + \"-\" + str(time_end // 60) + \"minutes.edf\", overwrite=True)\n"
     ]
    },
    {
     "name": "stdout",
     "output_type": "stream",
     "text": [
      "Extracting EDF parameters from /home/gromov_n/extreme-events/EEG seizure/EpiActivity/predicts/NewRecordPredsUnlabeledFixed.edf...\n",
      "EDF file detected\n",
      "Setting channel info structure...\n",
      "Creating raw.info structure...\n",
      "Overwriting existing file.\n",
      "Reading 0 ... 300000  =      0.000 ...   600.000 secs...\n"
     ]
    },
    {
     "name": "stderr",
     "output_type": "stream",
     "text": [
      "/tmp/ipykernel_1448525/150263523.py:8: RuntimeWarning: EDF format requires equal-length data blocks, so 0.998 seconds of zeros were appended to all channels when writing the final block.\n",
      "  data_new.export(\"predicts/pieces/NewRecord\" + str(time_start // 60) + \"-\" + str(time_end // 60) + \"minutes.edf\", overwrite=True)\n"
     ]
    },
    {
     "name": "stdout",
     "output_type": "stream",
     "text": [
      "Extracting EDF parameters from /home/gromov_n/extreme-events/EEG seizure/EpiActivity/predicts/NewRecordPredsUnlabeledFixed.edf...\n",
      "EDF file detected\n",
      "Setting channel info structure...\n",
      "Creating raw.info structure...\n",
      "Overwriting existing file.\n",
      "Reading 0 ... 300000  =      0.000 ...   600.000 secs...\n"
     ]
    },
    {
     "name": "stderr",
     "output_type": "stream",
     "text": [
      "/tmp/ipykernel_1448525/150263523.py:8: RuntimeWarning: EDF format requires equal-length data blocks, so 0.998 seconds of zeros were appended to all channels when writing the final block.\n",
      "  data_new.export(\"predicts/pieces/NewRecord\" + str(time_start // 60) + \"-\" + str(time_end // 60) + \"minutes.edf\", overwrite=True)\n"
     ]
    },
    {
     "name": "stdout",
     "output_type": "stream",
     "text": [
      "Extracting EDF parameters from /home/gromov_n/extreme-events/EEG seizure/EpiActivity/predicts/NewRecordPredsUnlabeledFixed.edf...\n",
      "EDF file detected\n",
      "Setting channel info structure...\n",
      "Creating raw.info structure...\n",
      "Overwriting existing file.\n",
      "Reading 0 ... 300000  =      0.000 ...   600.000 secs...\n"
     ]
    },
    {
     "name": "stderr",
     "output_type": "stream",
     "text": [
      "/tmp/ipykernel_1448525/150263523.py:8: RuntimeWarning: EDF format requires equal-length data blocks, so 0.998 seconds of zeros were appended to all channels when writing the final block.\n",
      "  data_new.export(\"predicts/pieces/NewRecord\" + str(time_start // 60) + \"-\" + str(time_end // 60) + \"minutes.edf\", overwrite=True)\n"
     ]
    },
    {
     "name": "stdout",
     "output_type": "stream",
     "text": [
      "Extracting EDF parameters from /home/gromov_n/extreme-events/EEG seizure/EpiActivity/predicts/NewRecordPredsUnlabeledFixed.edf...\n",
      "EDF file detected\n",
      "Setting channel info structure...\n",
      "Creating raw.info structure...\n",
      "Overwriting existing file.\n",
      "Reading 0 ... 300000  =      0.000 ...   600.000 secs...\n"
     ]
    },
    {
     "name": "stderr",
     "output_type": "stream",
     "text": [
      "/tmp/ipykernel_1448525/150263523.py:8: RuntimeWarning: EDF format requires equal-length data blocks, so 0.998 seconds of zeros were appended to all channels when writing the final block.\n",
      "  data_new.export(\"predicts/pieces/NewRecord\" + str(time_start // 60) + \"-\" + str(time_end // 60) + \"minutes.edf\", overwrite=True)\n"
     ]
    },
    {
     "name": "stdout",
     "output_type": "stream",
     "text": [
      "Extracting EDF parameters from /home/gromov_n/extreme-events/EEG seizure/EpiActivity/predicts/NewRecordPredsUnlabeledFixed.edf...\n",
      "EDF file detected\n",
      "Setting channel info structure...\n",
      "Creating raw.info structure...\n",
      "Overwriting existing file.\n",
      "Reading 0 ... 300000  =      0.000 ...   600.000 secs...\n"
     ]
    },
    {
     "name": "stderr",
     "output_type": "stream",
     "text": [
      "/tmp/ipykernel_1448525/150263523.py:8: RuntimeWarning: EDF format requires equal-length data blocks, so 0.998 seconds of zeros were appended to all channels when writing the final block.\n",
      "  data_new.export(\"predicts/pieces/NewRecord\" + str(time_start // 60) + \"-\" + str(time_end // 60) + \"minutes.edf\", overwrite=True)\n"
     ]
    },
    {
     "name": "stdout",
     "output_type": "stream",
     "text": [
      "Extracting EDF parameters from /home/gromov_n/extreme-events/EEG seizure/EpiActivity/predicts/NewRecordPredsUnlabeledFixed.edf...\n",
      "EDF file detected\n",
      "Setting channel info structure...\n",
      "Creating raw.info structure...\n",
      "Overwriting existing file.\n",
      "Reading 0 ... 300000  =      0.000 ...   600.000 secs...\n"
     ]
    },
    {
     "name": "stderr",
     "output_type": "stream",
     "text": [
      "/tmp/ipykernel_1448525/150263523.py:8: RuntimeWarning: EDF format requires equal-length data blocks, so 0.998 seconds of zeros were appended to all channels when writing the final block.\n",
      "  data_new.export(\"predicts/pieces/NewRecord\" + str(time_start // 60) + \"-\" + str(time_end // 60) + \"minutes.edf\", overwrite=True)\n"
     ]
    },
    {
     "name": "stdout",
     "output_type": "stream",
     "text": [
      "Extracting EDF parameters from /home/gromov_n/extreme-events/EEG seizure/EpiActivity/predicts/NewRecordPredsUnlabeledFixed.edf...\n",
      "EDF file detected\n",
      "Setting channel info structure...\n",
      "Creating raw.info structure...\n",
      "Overwriting existing file.\n",
      "Reading 0 ... 300000  =      0.000 ...   600.000 secs...\n"
     ]
    },
    {
     "name": "stderr",
     "output_type": "stream",
     "text": [
      "/tmp/ipykernel_1448525/150263523.py:8: RuntimeWarning: EDF format requires equal-length data blocks, so 0.998 seconds of zeros were appended to all channels when writing the final block.\n",
      "  data_new.export(\"predicts/pieces/NewRecord\" + str(time_start // 60) + \"-\" + str(time_end // 60) + \"minutes.edf\", overwrite=True)\n"
     ]
    },
    {
     "name": "stdout",
     "output_type": "stream",
     "text": [
      "Extracting EDF parameters from /home/gromov_n/extreme-events/EEG seizure/EpiActivity/predicts/NewRecordPredsUnlabeledFixed.edf...\n",
      "EDF file detected\n",
      "Setting channel info structure...\n",
      "Creating raw.info structure...\n",
      "Overwriting existing file.\n",
      "Reading 0 ... 300000  =      0.000 ...   600.000 secs...\n"
     ]
    },
    {
     "name": "stderr",
     "output_type": "stream",
     "text": [
      "/tmp/ipykernel_1448525/150263523.py:8: RuntimeWarning: EDF format requires equal-length data blocks, so 0.998 seconds of zeros were appended to all channels when writing the final block.\n",
      "  data_new.export(\"predicts/pieces/NewRecord\" + str(time_start // 60) + \"-\" + str(time_end // 60) + \"minutes.edf\", overwrite=True)\n"
     ]
    },
    {
     "name": "stdout",
     "output_type": "stream",
     "text": [
      "Extracting EDF parameters from /home/gromov_n/extreme-events/EEG seizure/EpiActivity/predicts/NewRecordPredsUnlabeledFixed.edf...\n",
      "EDF file detected\n",
      "Setting channel info structure...\n",
      "Creating raw.info structure...\n",
      "Overwriting existing file.\n",
      "Reading 0 ... 300000  =      0.000 ...   600.000 secs...\n"
     ]
    },
    {
     "name": "stderr",
     "output_type": "stream",
     "text": [
      "/tmp/ipykernel_1448525/150263523.py:8: RuntimeWarning: EDF format requires equal-length data blocks, so 0.998 seconds of zeros were appended to all channels when writing the final block.\n",
      "  data_new.export(\"predicts/pieces/NewRecord\" + str(time_start // 60) + \"-\" + str(time_end // 60) + \"minutes.edf\", overwrite=True)\n"
     ]
    },
    {
     "name": "stdout",
     "output_type": "stream",
     "text": [
      "Extracting EDF parameters from /home/gromov_n/extreme-events/EEG seizure/EpiActivity/predicts/NewRecordPredsUnlabeledFixed.edf...\n",
      "EDF file detected\n",
      "Setting channel info structure...\n",
      "Creating raw.info structure...\n",
      "Overwriting existing file.\n",
      "Reading 0 ... 300000  =      0.000 ...   600.000 secs...\n"
     ]
    },
    {
     "name": "stderr",
     "output_type": "stream",
     "text": [
      "/tmp/ipykernel_1448525/150263523.py:8: RuntimeWarning: EDF format requires equal-length data blocks, so 0.998 seconds of zeros were appended to all channels when writing the final block.\n",
      "  data_new.export(\"predicts/pieces/NewRecord\" + str(time_start // 60) + \"-\" + str(time_end // 60) + \"minutes.edf\", overwrite=True)\n"
     ]
    },
    {
     "name": "stdout",
     "output_type": "stream",
     "text": [
      "Extracting EDF parameters from /home/gromov_n/extreme-events/EEG seizure/EpiActivity/predicts/NewRecordPredsUnlabeledFixed.edf...\n",
      "EDF file detected\n",
      "Setting channel info structure...\n",
      "Creating raw.info structure...\n",
      "Overwriting existing file.\n",
      "Reading 0 ... 300000  =      0.000 ...   600.000 secs...\n"
     ]
    },
    {
     "name": "stderr",
     "output_type": "stream",
     "text": [
      "/tmp/ipykernel_1448525/150263523.py:8: RuntimeWarning: EDF format requires equal-length data blocks, so 0.998 seconds of zeros were appended to all channels when writing the final block.\n",
      "  data_new.export(\"predicts/pieces/NewRecord\" + str(time_start // 60) + \"-\" + str(time_end // 60) + \"minutes.edf\", overwrite=True)\n"
     ]
    },
    {
     "name": "stdout",
     "output_type": "stream",
     "text": [
      "Extracting EDF parameters from /home/gromov_n/extreme-events/EEG seizure/EpiActivity/predicts/NewRecordPredsUnlabeledFixed.edf...\n",
      "EDF file detected\n",
      "Setting channel info structure...\n",
      "Creating raw.info structure...\n",
      "Overwriting existing file.\n",
      "Reading 0 ... 300000  =      0.000 ...   600.000 secs...\n"
     ]
    },
    {
     "name": "stderr",
     "output_type": "stream",
     "text": [
      "/tmp/ipykernel_1448525/150263523.py:8: RuntimeWarning: EDF format requires equal-length data blocks, so 0.998 seconds of zeros were appended to all channels when writing the final block.\n",
      "  data_new.export(\"predicts/pieces/NewRecord\" + str(time_start // 60) + \"-\" + str(time_end // 60) + \"minutes.edf\", overwrite=True)\n"
     ]
    },
    {
     "name": "stdout",
     "output_type": "stream",
     "text": [
      "Extracting EDF parameters from /home/gromov_n/extreme-events/EEG seizure/EpiActivity/predicts/NewRecordPredsUnlabeledFixed.edf...\n",
      "EDF file detected\n",
      "Setting channel info structure...\n",
      "Creating raw.info structure...\n",
      "Overwriting existing file.\n",
      "Reading 0 ... 300000  =      0.000 ...   600.000 secs...\n"
     ]
    },
    {
     "name": "stderr",
     "output_type": "stream",
     "text": [
      "/tmp/ipykernel_1448525/150263523.py:8: RuntimeWarning: EDF format requires equal-length data blocks, so 0.998 seconds of zeros were appended to all channels when writing the final block.\n",
      "  data_new.export(\"predicts/pieces/NewRecord\" + str(time_start // 60) + \"-\" + str(time_end // 60) + \"minutes.edf\", overwrite=True)\n"
     ]
    },
    {
     "name": "stdout",
     "output_type": "stream",
     "text": [
      "Extracting EDF parameters from /home/gromov_n/extreme-events/EEG seizure/EpiActivity/predicts/NewRecordPredsUnlabeledFixed.edf...\n",
      "EDF file detected\n",
      "Setting channel info structure...\n",
      "Creating raw.info structure...\n",
      "Overwriting existing file.\n",
      "Reading 0 ... 300000  =      0.000 ...   600.000 secs...\n"
     ]
    },
    {
     "name": "stderr",
     "output_type": "stream",
     "text": [
      "/tmp/ipykernel_1448525/150263523.py:8: RuntimeWarning: EDF format requires equal-length data blocks, so 0.998 seconds of zeros were appended to all channels when writing the final block.\n",
      "  data_new.export(\"predicts/pieces/NewRecord\" + str(time_start // 60) + \"-\" + str(time_end // 60) + \"minutes.edf\", overwrite=True)\n"
     ]
    },
    {
     "name": "stdout",
     "output_type": "stream",
     "text": [
      "Extracting EDF parameters from /home/gromov_n/extreme-events/EEG seizure/EpiActivity/predicts/NewRecordPredsUnlabeledFixed.edf...\n",
      "EDF file detected\n",
      "Setting channel info structure...\n",
      "Creating raw.info structure...\n",
      "Overwriting existing file.\n",
      "Reading 0 ... 300000  =      0.000 ...   600.000 secs...\n"
     ]
    },
    {
     "name": "stderr",
     "output_type": "stream",
     "text": [
      "/tmp/ipykernel_1448525/150263523.py:8: RuntimeWarning: EDF format requires equal-length data blocks, so 0.998 seconds of zeros were appended to all channels when writing the final block.\n",
      "  data_new.export(\"predicts/pieces/NewRecord\" + str(time_start // 60) + \"-\" + str(time_end // 60) + \"minutes.edf\", overwrite=True)\n"
     ]
    },
    {
     "name": "stdout",
     "output_type": "stream",
     "text": [
      "Extracting EDF parameters from /home/gromov_n/extreme-events/EEG seizure/EpiActivity/predicts/NewRecordPredsUnlabeledFixed.edf...\n",
      "EDF file detected\n",
      "Setting channel info structure...\n",
      "Creating raw.info structure...\n",
      "Overwriting existing file.\n",
      "Reading 0 ... 300000  =      0.000 ...   600.000 secs...\n"
     ]
    },
    {
     "name": "stderr",
     "output_type": "stream",
     "text": [
      "/tmp/ipykernel_1448525/150263523.py:8: RuntimeWarning: EDF format requires equal-length data blocks, so 0.998 seconds of zeros were appended to all channels when writing the final block.\n",
      "  data_new.export(\"predicts/pieces/NewRecord\" + str(time_start // 60) + \"-\" + str(time_end // 60) + \"minutes.edf\", overwrite=True)\n"
     ]
    },
    {
     "name": "stdout",
     "output_type": "stream",
     "text": [
      "Extracting EDF parameters from /home/gromov_n/extreme-events/EEG seizure/EpiActivity/predicts/NewRecordPredsUnlabeledFixed.edf...\n",
      "EDF file detected\n",
      "Setting channel info structure...\n",
      "Creating raw.info structure...\n",
      "Overwriting existing file.\n",
      "Reading 0 ... 300000  =      0.000 ...   600.000 secs...\n"
     ]
    },
    {
     "name": "stderr",
     "output_type": "stream",
     "text": [
      "/tmp/ipykernel_1448525/150263523.py:8: RuntimeWarning: EDF format requires equal-length data blocks, so 0.998 seconds of zeros were appended to all channels when writing the final block.\n",
      "  data_new.export(\"predicts/pieces/NewRecord\" + str(time_start // 60) + \"-\" + str(time_end // 60) + \"minutes.edf\", overwrite=True)\n"
     ]
    },
    {
     "name": "stdout",
     "output_type": "stream",
     "text": [
      "Extracting EDF parameters from /home/gromov_n/extreme-events/EEG seizure/EpiActivity/predicts/NewRecordPredsUnlabeledFixed.edf...\n",
      "EDF file detected\n",
      "Setting channel info structure...\n",
      "Creating raw.info structure...\n",
      "Overwriting existing file.\n",
      "Reading 0 ... 300000  =      0.000 ...   600.000 secs...\n"
     ]
    },
    {
     "name": "stderr",
     "output_type": "stream",
     "text": [
      "/tmp/ipykernel_1448525/150263523.py:8: RuntimeWarning: EDF format requires equal-length data blocks, so 0.998 seconds of zeros were appended to all channels when writing the final block.\n",
      "  data_new.export(\"predicts/pieces/NewRecord\" + str(time_start // 60) + \"-\" + str(time_end // 60) + \"minutes.edf\", overwrite=True)\n"
     ]
    },
    {
     "name": "stdout",
     "output_type": "stream",
     "text": [
      "Extracting EDF parameters from /home/gromov_n/extreme-events/EEG seizure/EpiActivity/predicts/NewRecordPredsUnlabeledFixed.edf...\n",
      "EDF file detected\n",
      "Setting channel info structure...\n",
      "Creating raw.info structure...\n",
      "Overwriting existing file.\n",
      "Reading 0 ... 300000  =      0.000 ...   600.000 secs...\n"
     ]
    },
    {
     "name": "stderr",
     "output_type": "stream",
     "text": [
      "/tmp/ipykernel_1448525/150263523.py:8: RuntimeWarning: EDF format requires equal-length data blocks, so 0.998 seconds of zeros were appended to all channels when writing the final block.\n",
      "  data_new.export(\"predicts/pieces/NewRecord\" + str(time_start // 60) + \"-\" + str(time_end // 60) + \"minutes.edf\", overwrite=True)\n"
     ]
    },
    {
     "name": "stdout",
     "output_type": "stream",
     "text": [
      "Extracting EDF parameters from /home/gromov_n/extreme-events/EEG seizure/EpiActivity/predicts/NewRecordPredsUnlabeledFixed.edf...\n",
      "EDF file detected\n",
      "Setting channel info structure...\n",
      "Creating raw.info structure...\n",
      "Overwriting existing file.\n",
      "Reading 0 ... 300000  =      0.000 ...   600.000 secs...\n"
     ]
    },
    {
     "name": "stderr",
     "output_type": "stream",
     "text": [
      "/tmp/ipykernel_1448525/150263523.py:8: RuntimeWarning: EDF format requires equal-length data blocks, so 0.998 seconds of zeros were appended to all channels when writing the final block.\n",
      "  data_new.export(\"predicts/pieces/NewRecord\" + str(time_start // 60) + \"-\" + str(time_end // 60) + \"minutes.edf\", overwrite=True)\n"
     ]
    },
    {
     "name": "stdout",
     "output_type": "stream",
     "text": [
      "Extracting EDF parameters from /home/gromov_n/extreme-events/EEG seizure/EpiActivity/predicts/NewRecordPredsUnlabeledFixed.edf...\n",
      "EDF file detected\n",
      "Setting channel info structure...\n",
      "Creating raw.info structure...\n",
      "Overwriting existing file.\n",
      "Reading 0 ... 300000  =      0.000 ...   600.000 secs...\n"
     ]
    },
    {
     "name": "stderr",
     "output_type": "stream",
     "text": [
      "/tmp/ipykernel_1448525/150263523.py:8: RuntimeWarning: EDF format requires equal-length data blocks, so 0.998 seconds of zeros were appended to all channels when writing the final block.\n",
      "  data_new.export(\"predicts/pieces/NewRecord\" + str(time_start // 60) + \"-\" + str(time_end // 60) + \"minutes.edf\", overwrite=True)\n"
     ]
    },
    {
     "name": "stdout",
     "output_type": "stream",
     "text": [
      "Extracting EDF parameters from /home/gromov_n/extreme-events/EEG seizure/EpiActivity/predicts/NewRecordPredsUnlabeledFixed.edf...\n",
      "EDF file detected\n",
      "Setting channel info structure...\n",
      "Creating raw.info structure...\n",
      "Overwriting existing file.\n",
      "Reading 0 ... 300000  =      0.000 ...   600.000 secs...\n"
     ]
    },
    {
     "name": "stderr",
     "output_type": "stream",
     "text": [
      "/tmp/ipykernel_1448525/150263523.py:8: RuntimeWarning: EDF format requires equal-length data blocks, so 0.998 seconds of zeros were appended to all channels when writing the final block.\n",
      "  data_new.export(\"predicts/pieces/NewRecord\" + str(time_start // 60) + \"-\" + str(time_end // 60) + \"minutes.edf\", overwrite=True)\n"
     ]
    },
    {
     "name": "stdout",
     "output_type": "stream",
     "text": [
      "Extracting EDF parameters from /home/gromov_n/extreme-events/EEG seizure/EpiActivity/predicts/NewRecordPredsUnlabeledFixed.edf...\n",
      "EDF file detected\n",
      "Setting channel info structure...\n",
      "Creating raw.info structure...\n",
      "Overwriting existing file.\n",
      "Reading 0 ... 300000  =      0.000 ...   600.000 secs...\n"
     ]
    },
    {
     "name": "stderr",
     "output_type": "stream",
     "text": [
      "/tmp/ipykernel_1448525/150263523.py:8: RuntimeWarning: EDF format requires equal-length data blocks, so 0.998 seconds of zeros were appended to all channels when writing the final block.\n",
      "  data_new.export(\"predicts/pieces/NewRecord\" + str(time_start // 60) + \"-\" + str(time_end // 60) + \"minutes.edf\", overwrite=True)\n"
     ]
    },
    {
     "name": "stdout",
     "output_type": "stream",
     "text": [
      "Extracting EDF parameters from /home/gromov_n/extreme-events/EEG seizure/EpiActivity/predicts/NewRecordPredsUnlabeledFixed.edf...\n",
      "EDF file detected\n",
      "Setting channel info structure...\n",
      "Creating raw.info structure...\n",
      "Overwriting existing file.\n",
      "Reading 0 ... 300000  =      0.000 ...   600.000 secs...\n"
     ]
    },
    {
     "name": "stderr",
     "output_type": "stream",
     "text": [
      "/tmp/ipykernel_1448525/150263523.py:8: RuntimeWarning: EDF format requires equal-length data blocks, so 0.998 seconds of zeros were appended to all channels when writing the final block.\n",
      "  data_new.export(\"predicts/pieces/NewRecord\" + str(time_start // 60) + \"-\" + str(time_end // 60) + \"minutes.edf\", overwrite=True)\n"
     ]
    },
    {
     "name": "stdout",
     "output_type": "stream",
     "text": [
      "Extracting EDF parameters from /home/gromov_n/extreme-events/EEG seizure/EpiActivity/predicts/NewRecordPredsUnlabeledFixed.edf...\n",
      "EDF file detected\n",
      "Setting channel info structure...\n",
      "Creating raw.info structure...\n",
      "Overwriting existing file.\n",
      "Reading 0 ... 300000  =      0.000 ...   600.000 secs...\n"
     ]
    },
    {
     "name": "stderr",
     "output_type": "stream",
     "text": [
      "/tmp/ipykernel_1448525/150263523.py:8: RuntimeWarning: EDF format requires equal-length data blocks, so 0.998 seconds of zeros were appended to all channels when writing the final block.\n",
      "  data_new.export(\"predicts/pieces/NewRecord\" + str(time_start // 60) + \"-\" + str(time_end // 60) + \"minutes.edf\", overwrite=True)\n"
     ]
    },
    {
     "name": "stdout",
     "output_type": "stream",
     "text": [
      "Extracting EDF parameters from /home/gromov_n/extreme-events/EEG seizure/EpiActivity/predicts/NewRecordPredsUnlabeledFixed.edf...\n",
      "EDF file detected\n",
      "Setting channel info structure...\n",
      "Creating raw.info structure...\n",
      "Overwriting existing file.\n",
      "Reading 0 ... 300000  =      0.000 ...   600.000 secs...\n"
     ]
    },
    {
     "name": "stderr",
     "output_type": "stream",
     "text": [
      "/tmp/ipykernel_1448525/150263523.py:8: RuntimeWarning: EDF format requires equal-length data blocks, so 0.998 seconds of zeros were appended to all channels when writing the final block.\n",
      "  data_new.export(\"predicts/pieces/NewRecord\" + str(time_start // 60) + \"-\" + str(time_end // 60) + \"minutes.edf\", overwrite=True)\n"
     ]
    },
    {
     "name": "stdout",
     "output_type": "stream",
     "text": [
      "Extracting EDF parameters from /home/gromov_n/extreme-events/EEG seizure/EpiActivity/predicts/NewRecordPredsUnlabeledFixed.edf...\n",
      "EDF file detected\n",
      "Setting channel info structure...\n",
      "Creating raw.info structure...\n",
      "Overwriting existing file.\n",
      "Reading 0 ... 300000  =      0.000 ...   600.000 secs...\n"
     ]
    },
    {
     "name": "stderr",
     "output_type": "stream",
     "text": [
      "/tmp/ipykernel_1448525/150263523.py:8: RuntimeWarning: EDF format requires equal-length data blocks, so 0.998 seconds of zeros were appended to all channels when writing the final block.\n",
      "  data_new.export(\"predicts/pieces/NewRecord\" + str(time_start // 60) + \"-\" + str(time_end // 60) + \"minutes.edf\", overwrite=True)\n"
     ]
    },
    {
     "name": "stdout",
     "output_type": "stream",
     "text": [
      "Extracting EDF parameters from /home/gromov_n/extreme-events/EEG seizure/EpiActivity/predicts/NewRecordPredsUnlabeledFixed.edf...\n",
      "EDF file detected\n",
      "Setting channel info structure...\n",
      "Creating raw.info structure...\n",
      "Overwriting existing file.\n",
      "Reading 0 ... 300000  =      0.000 ...   600.000 secs...\n"
     ]
    },
    {
     "name": "stderr",
     "output_type": "stream",
     "text": [
      "/tmp/ipykernel_1448525/150263523.py:8: RuntimeWarning: EDF format requires equal-length data blocks, so 0.998 seconds of zeros were appended to all channels when writing the final block.\n",
      "  data_new.export(\"predicts/pieces/NewRecord\" + str(time_start // 60) + \"-\" + str(time_end // 60) + \"minutes.edf\", overwrite=True)\n"
     ]
    },
    {
     "name": "stdout",
     "output_type": "stream",
     "text": [
      "Extracting EDF parameters from /home/gromov_n/extreme-events/EEG seizure/EpiActivity/predicts/NewRecordPredsUnlabeledFixed.edf...\n",
      "EDF file detected\n",
      "Setting channel info structure...\n",
      "Creating raw.info structure...\n",
      "Overwriting existing file.\n",
      "Reading 0 ... 300000  =      0.000 ...   600.000 secs...\n"
     ]
    },
    {
     "name": "stderr",
     "output_type": "stream",
     "text": [
      "/tmp/ipykernel_1448525/150263523.py:8: RuntimeWarning: EDF format requires equal-length data blocks, so 0.998 seconds of zeros were appended to all channels when writing the final block.\n",
      "  data_new.export(\"predicts/pieces/NewRecord\" + str(time_start // 60) + \"-\" + str(time_end // 60) + \"minutes.edf\", overwrite=True)\n"
     ]
    },
    {
     "name": "stdout",
     "output_type": "stream",
     "text": [
      "Extracting EDF parameters from /home/gromov_n/extreme-events/EEG seizure/EpiActivity/predicts/NewRecordPredsUnlabeledFixed.edf...\n",
      "EDF file detected\n",
      "Setting channel info structure...\n",
      "Creating raw.info structure...\n",
      "Overwriting existing file.\n",
      "Reading 0 ... 300000  =      0.000 ...   600.000 secs...\n"
     ]
    },
    {
     "name": "stderr",
     "output_type": "stream",
     "text": [
      "/tmp/ipykernel_1448525/150263523.py:8: RuntimeWarning: EDF format requires equal-length data blocks, so 0.998 seconds of zeros were appended to all channels when writing the final block.\n",
      "  data_new.export(\"predicts/pieces/NewRecord\" + str(time_start // 60) + \"-\" + str(time_end // 60) + \"minutes.edf\", overwrite=True)\n"
     ]
    },
    {
     "name": "stdout",
     "output_type": "stream",
     "text": [
      "Extracting EDF parameters from /home/gromov_n/extreme-events/EEG seizure/EpiActivity/predicts/NewRecordPredsUnlabeledFixed.edf...\n",
      "EDF file detected\n",
      "Setting channel info structure...\n",
      "Creating raw.info structure...\n",
      "Overwriting existing file.\n",
      "Reading 0 ... 300000  =      0.000 ...   600.000 secs...\n"
     ]
    },
    {
     "name": "stderr",
     "output_type": "stream",
     "text": [
      "/tmp/ipykernel_1448525/150263523.py:8: RuntimeWarning: EDF format requires equal-length data blocks, so 0.998 seconds of zeros were appended to all channels when writing the final block.\n",
      "  data_new.export(\"predicts/pieces/NewRecord\" + str(time_start // 60) + \"-\" + str(time_end // 60) + \"minutes.edf\", overwrite=True)\n"
     ]
    },
    {
     "name": "stdout",
     "output_type": "stream",
     "text": [
      "Extracting EDF parameters from /home/gromov_n/extreme-events/EEG seizure/EpiActivity/predicts/NewRecordPredsUnlabeledFixed.edf...\n",
      "EDF file detected\n",
      "Setting channel info structure...\n",
      "Creating raw.info structure...\n",
      "Overwriting existing file.\n",
      "Reading 0 ... 300000  =      0.000 ...   600.000 secs...\n"
     ]
    },
    {
     "name": "stderr",
     "output_type": "stream",
     "text": [
      "/tmp/ipykernel_1448525/150263523.py:8: RuntimeWarning: EDF format requires equal-length data blocks, so 0.998 seconds of zeros were appended to all channels when writing the final block.\n",
      "  data_new.export(\"predicts/pieces/NewRecord\" + str(time_start // 60) + \"-\" + str(time_end // 60) + \"minutes.edf\", overwrite=True)\n"
     ]
    },
    {
     "name": "stdout",
     "output_type": "stream",
     "text": [
      "Extracting EDF parameters from /home/gromov_n/extreme-events/EEG seizure/EpiActivity/predicts/NewRecordPredsUnlabeledFixed.edf...\n",
      "EDF file detected\n",
      "Setting channel info structure...\n",
      "Creating raw.info structure...\n",
      "Overwriting existing file.\n",
      "Reading 0 ... 300000  =      0.000 ...   600.000 secs...\n"
     ]
    },
    {
     "name": "stderr",
     "output_type": "stream",
     "text": [
      "/tmp/ipykernel_1448525/150263523.py:8: RuntimeWarning: EDF format requires equal-length data blocks, so 0.998 seconds of zeros were appended to all channels when writing the final block.\n",
      "  data_new.export(\"predicts/pieces/NewRecord\" + str(time_start // 60) + \"-\" + str(time_end // 60) + \"minutes.edf\", overwrite=True)\n"
     ]
    },
    {
     "name": "stdout",
     "output_type": "stream",
     "text": [
      "Extracting EDF parameters from /home/gromov_n/extreme-events/EEG seizure/EpiActivity/predicts/NewRecordPredsUnlabeledFixed.edf...\n",
      "EDF file detected\n",
      "Setting channel info structure...\n",
      "Creating raw.info structure...\n",
      "Overwriting existing file.\n",
      "Reading 0 ... 300000  =      0.000 ...   600.000 secs...\n"
     ]
    },
    {
     "name": "stderr",
     "output_type": "stream",
     "text": [
      "/tmp/ipykernel_1448525/150263523.py:8: RuntimeWarning: EDF format requires equal-length data blocks, so 0.998 seconds of zeros were appended to all channels when writing the final block.\n",
      "  data_new.export(\"predicts/pieces/NewRecord\" + str(time_start // 60) + \"-\" + str(time_end // 60) + \"minutes.edf\", overwrite=True)\n"
     ]
    },
    {
     "name": "stdout",
     "output_type": "stream",
     "text": [
      "Extracting EDF parameters from /home/gromov_n/extreme-events/EEG seizure/EpiActivity/predicts/NewRecordPredsUnlabeledFixed.edf...\n",
      "EDF file detected\n",
      "Setting channel info structure...\n",
      "Creating raw.info structure...\n",
      "Overwriting existing file.\n",
      "Reading 0 ... 300000  =      0.000 ...   600.000 secs...\n"
     ]
    },
    {
     "name": "stderr",
     "output_type": "stream",
     "text": [
      "/tmp/ipykernel_1448525/150263523.py:8: RuntimeWarning: EDF format requires equal-length data blocks, so 0.998 seconds of zeros were appended to all channels when writing the final block.\n",
      "  data_new.export(\"predicts/pieces/NewRecord\" + str(time_start // 60) + \"-\" + str(time_end // 60) + \"minutes.edf\", overwrite=True)\n"
     ]
    },
    {
     "name": "stdout",
     "output_type": "stream",
     "text": [
      "Extracting EDF parameters from /home/gromov_n/extreme-events/EEG seizure/EpiActivity/predicts/NewRecordPredsUnlabeledFixed.edf...\n",
      "EDF file detected\n",
      "Setting channel info structure...\n",
      "Creating raw.info structure...\n",
      "Overwriting existing file.\n",
      "Reading 0 ... 300000  =      0.000 ...   600.000 secs...\n"
     ]
    },
    {
     "name": "stderr",
     "output_type": "stream",
     "text": [
      "/tmp/ipykernel_1448525/150263523.py:8: RuntimeWarning: EDF format requires equal-length data blocks, so 0.998 seconds of zeros were appended to all channels when writing the final block.\n",
      "  data_new.export(\"predicts/pieces/NewRecord\" + str(time_start // 60) + \"-\" + str(time_end // 60) + \"minutes.edf\", overwrite=True)\n"
     ]
    },
    {
     "name": "stdout",
     "output_type": "stream",
     "text": [
      "Extracting EDF parameters from /home/gromov_n/extreme-events/EEG seizure/EpiActivity/predicts/NewRecordPredsUnlabeledFixed.edf...\n",
      "EDF file detected\n",
      "Setting channel info structure...\n",
      "Creating raw.info structure...\n",
      "Overwriting existing file.\n",
      "Reading 0 ... 300000  =      0.000 ...   600.000 secs...\n"
     ]
    },
    {
     "name": "stderr",
     "output_type": "stream",
     "text": [
      "/tmp/ipykernel_1448525/150263523.py:8: RuntimeWarning: EDF format requires equal-length data blocks, so 0.998 seconds of zeros were appended to all channels when writing the final block.\n",
      "  data_new.export(\"predicts/pieces/NewRecord\" + str(time_start // 60) + \"-\" + str(time_end // 60) + \"minutes.edf\", overwrite=True)\n"
     ]
    },
    {
     "name": "stdout",
     "output_type": "stream",
     "text": [
      "Extracting EDF parameters from /home/gromov_n/extreme-events/EEG seizure/EpiActivity/predicts/NewRecordPredsUnlabeledFixed.edf...\n",
      "EDF file detected\n",
      "Setting channel info structure...\n",
      "Creating raw.info structure...\n",
      "Overwriting existing file.\n",
      "Reading 0 ... 300000  =      0.000 ...   600.000 secs...\n"
     ]
    },
    {
     "name": "stderr",
     "output_type": "stream",
     "text": [
      "/tmp/ipykernel_1448525/150263523.py:8: RuntimeWarning: EDF format requires equal-length data blocks, so 0.998 seconds of zeros were appended to all channels when writing the final block.\n",
      "  data_new.export(\"predicts/pieces/NewRecord\" + str(time_start // 60) + \"-\" + str(time_end // 60) + \"minutes.edf\", overwrite=True)\n"
     ]
    },
    {
     "name": "stdout",
     "output_type": "stream",
     "text": [
      "Extracting EDF parameters from /home/gromov_n/extreme-events/EEG seizure/EpiActivity/predicts/NewRecordPredsUnlabeledFixed.edf...\n",
      "EDF file detected\n",
      "Setting channel info structure...\n",
      "Creating raw.info structure...\n",
      "Overwriting existing file.\n",
      "Reading 0 ... 300000  =      0.000 ...   600.000 secs...\n"
     ]
    },
    {
     "name": "stderr",
     "output_type": "stream",
     "text": [
      "/tmp/ipykernel_1448525/150263523.py:8: RuntimeWarning: EDF format requires equal-length data blocks, so 0.998 seconds of zeros were appended to all channels when writing the final block.\n",
      "  data_new.export(\"predicts/pieces/NewRecord\" + str(time_start // 60) + \"-\" + str(time_end // 60) + \"minutes.edf\", overwrite=True)\n"
     ]
    },
    {
     "name": "stdout",
     "output_type": "stream",
     "text": [
      "Extracting EDF parameters from /home/gromov_n/extreme-events/EEG seizure/EpiActivity/predicts/NewRecordPredsUnlabeledFixed.edf...\n",
      "EDF file detected\n",
      "Setting channel info structure...\n",
      "Creating raw.info structure...\n",
      "Overwriting existing file.\n",
      "Reading 0 ... 300000  =      0.000 ...   600.000 secs...\n"
     ]
    },
    {
     "name": "stderr",
     "output_type": "stream",
     "text": [
      "/tmp/ipykernel_1448525/150263523.py:8: RuntimeWarning: EDF format requires equal-length data blocks, so 0.998 seconds of zeros were appended to all channels when writing the final block.\n",
      "  data_new.export(\"predicts/pieces/NewRecord\" + str(time_start // 60) + \"-\" + str(time_end // 60) + \"minutes.edf\", overwrite=True)\n"
     ]
    }
   ],
   "source": [
    "for time_start in range(0, TIME_DURATION - 60*10, 60 * 10):\n",
    "    data = mne.io.read_raw_edf(\"predicts/NewRecordPredsUnlabeledFixed.edf\")\n",
    "    time_end = time_start + 60*10\n",
    "    \n",
    "    data_new = data.copy().crop(time_start, time_end)\n",
    "    for x in range(len(data_new.annotations)):\n",
    "        data_new.annotations.onset[x] -= time_start\n",
    "    data_new.export(\"predicts/pieces/NewRecord\" + str(time_start // 60) + \"-\" + str(time_end // 60) + \"minutes.edf\", overwrite=True)\n",
    "    data_new.close()\n",
    "    data.close()"
   ]
  },
  {
   "cell_type": "code",
   "execution_count": 5,
   "id": "f2a3c008-74b5-45b0-b6fb-6c9eafd6fe04",
   "metadata": {},
   "outputs": [],
   "source": [
    "# reminder that all we human\n",
    "# annot = np.array([[data.annotations[i][\"onset\"] - time_start, data.annotations[i][\"duration\"], \n",
    "    #                    data.annotations[i][\"description\"]] \n",
    "    #                   for i in range(len(data.annotations)) if time_start <= data.annotations[i][\"onset\"] <= time_end])\n",
    "    # #print(annot[0][3].tzinfo)\n",
    "    # annotations = mne.Annotations(annot.T[0], annot.T[1], annot.T[2], data.info[\"meas_date\"] - datetime.timedelta(0,time_start))\n",
    "    # data_new.set_annotations(annotations)\n",
    "    # if annot.size != 0:\n",
    "    #     print(\"yes\")\n",
    "    #     annotations = mne.Annotations(annot.T[0], annot.T[1], annot.T[2], data.info[\"meas_date\"])\n",
    "    #     data_new.set_annotations(annotations)\n",
    "    #     print(annotations)"
   ]
  }
 ],
 "metadata": {
  "kernelspec": {
   "display_name": "Python 3 (ipykernel)",
   "language": "python",
   "name": "python3"
  },
  "language_info": {
   "codemirror_mode": {
    "name": "ipython",
    "version": 3
   },
   "file_extension": ".py",
   "mimetype": "text/x-python",
   "name": "python",
   "nbconvert_exporter": "python",
   "pygments_lexer": "ipython3",
   "version": "3.10.12"
  }
 },
 "nbformat": 4,
 "nbformat_minor": 5
}
