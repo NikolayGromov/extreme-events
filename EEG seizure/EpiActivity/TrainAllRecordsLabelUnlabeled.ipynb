{
 "cells": [
  {
   "cell_type": "code",
   "execution_count": 1,
   "metadata": {},
   "outputs": [],
   "source": [
    "%load_ext autoreload\n",
    "%autoreload 2\n",
    "from utils import *"
   ]
  },
  {
   "cell_type": "code",
   "execution_count": 2,
   "metadata": {},
   "outputs": [
    {
     "name": "stdout",
     "output_type": "stream",
     "text": [
      "data/NNSpecialistsData/1.edf 20\n",
      "data/NNSpecialistsData/-2 marked.edf 23\n",
      "data/NNSpecialistsData/patient4.edf 21\n",
      "data/NNSpecialistsData/5_marked.edf 23\n",
      "data/MoscowSpecialistsData/P1_3.edf 20\n",
      "data/MoscowSpecialistsData/P1_4.edf 20\n",
      "data/MoscowSpecialistsData/P2.edf 20\n",
      "data/MoscowSpecialistsData/P3.edf 20\n",
      "data/MoscowSpecialistsData/P4.edf 20\n",
      "data/MoscowSpecialistsData/P5.edf 20\n",
      "data/MoscowSpecialistsData/P6.edf 20\n",
      "data/MoscowSpecialistsData/P9.edf 20\n",
      "data/MoscowSpecialistsData/P10.edf 20\n",
      "data/MoscowSpecialistsData/P11.edf 20\n",
      "data/MoscowSpecialistsData/P12.edf 20\n",
      "data/MoscowSpecialistsData/P13.edf 20\n",
      "data/MoscowSpecialistsData/P14.edf 20\n",
      "data/MoscowSpecialistsData/P15.edf 20\n",
      "data/MoscowSpecialistsData/P16.edf 20\n",
      "data/MoscowSpecialistsData/P17.edf 20\n",
      "data/MoscowSpecialistsData/P18.edf 20\n",
      "data/MoscowSpecialistsData/P19.edf 20\n",
      "data/MoscowSpecialistsData/P23.edf 20\n",
      "data/MoscowSpecialistsData/P27.edf 20\n"
     ]
    }
   ],
   "source": [
    "record_names = ALL_RECORD_NAMES #record_names = [record_name for record_name in ALL_RECORD_NAMES if \"NN\" not in record_name]\n",
    "\n",
    "records = []\n",
    "annots = []\n",
    "times = []\n",
    "freqs = []\n",
    "for file_name in ALL_RECORD_NAMES:\n",
    "\n",
    "    sigbufs, new_annot, time, freq = ReadSignal(\"data/\"+file_name)\n",
    "    records.append(sigbufs)\n",
    "    annots.append(new_annot)\n",
    "    times.append(time)\n",
    "    freqs.append(freq)\n",
    "    "
   ]
  },
  {
   "cell_type": "code",
   "execution_count": 3,
   "metadata": {},
   "outputs": [
    {
     "name": "stderr",
     "output_type": "stream",
     "text": [
      "  0%|                                                                                                                           | 0/24 [00:00<?, ?it/s]"
     ]
    },
    {
     "name": "stderr",
     "output_type": "stream",
     "text": [
      "100%|██████████████████████████████████████████████████████████████████████████████████████████████████████████████████| 24/24 [00:33<00:00,  1.41s/it]\n",
      "100%|██████████████████████████████████████████████████████████████████████████████████████████████████████████████████| 20/20 [00:01<00:00, 13.50it/s]\n",
      "100%|██████████████████████████████████████████████████████████████████████████████████████████████████████████████████| 20/20 [00:01<00:00, 14.16it/s]\n",
      "100%|██████████████████████████████████████████████████████████████████████████████████████████████████████████████████| 20/20 [00:01<00:00, 13.76it/s]\n",
      "100%|██████████████████████████████████████████████████████████████████████████████████████████████████████████████████| 20/20 [00:01<00:00, 14.53it/s]\n",
      "100%|██████████████████████████████████████████████████████████████████████████████████████████████████████████████████| 20/20 [00:02<00:00,  9.94it/s]\n"
     ]
    }
   ],
   "source": [
    "NormalizeAndClip(records)\n",
    "Transform(199, records, freqs, times)"
   ]
  },
  {
   "cell_type": "code",
   "execution_count": 4,
   "metadata": {},
   "outputs": [],
   "source": [
    "all_labels = []\n",
    "\n",
    "for i in range(len(records)):\n",
    "    name = \"data/\" + record_names[i].split(\"/\")[0] + \"/Labels/\" + record_names[i].split(\"/\")[1] + \"freq\" + str(freqs[i])[:3]\n",
    "    if \"NN\" in record_names[i]:\n",
    "        all_labels.append(np.load(name + \".npy\"))\n",
    "    elif \"Moscow\" in record_names[i]:\n",
    "        all_labels.append(np.load(name + \".npy\"))"
   ]
  },
  {
   "cell_type": "code",
   "execution_count": 5,
   "metadata": {},
   "outputs": [
    {
     "name": "stdout",
     "output_type": "stream",
     "text": [
      "data/MoscowSpecialistsData/P38_TEST1.edf 20\n",
      "data/MoscowSpecialistsData/P38_TEST2.edf 20\n"
     ]
    }
   ],
   "source": [
    "test_record_names =  [\"MoscowSpecialistsData/P38_TEST1.edf\", \"MoscowSpecialistsData/P38_TEST2.edf\"]\n",
    "\n",
    "test_records = []\n",
    "test_times = []\n",
    "test_freqs = []\n",
    "for file_name in test_record_names:\n",
    "\n",
    "    sigbufs, _, time, freq = ReadSignal(\"data/\"+file_name)\n",
    "    test_records.append(sigbufs)\n",
    "    test_times.append(time)\n",
    "    test_freqs.append(freq)\n",
    "    "
   ]
  },
  {
   "cell_type": "code",
   "execution_count": 6,
   "metadata": {},
   "outputs": [
    {
     "name": "stderr",
     "output_type": "stream",
     "text": [
      "100%|████████████████████████████████████████████████████████████████████████████████████████████████████████████████████| 2/2 [00:00<00:00, 31.52it/s]\n"
     ]
    }
   ],
   "source": [
    "NormalizeAndClip(test_records)\n",
    "Transform(199, test_records, test_freqs, test_times)"
   ]
  },
  {
   "cell_type": "code",
   "execution_count": 8,
   "metadata": {},
   "outputs": [
    {
     "name": "stderr",
     "output_type": "stream",
     "text": [
      "100%|███████████████████████████████████████████████████████████████████████████████████████████████████████████████| 35/35 [00:00<00:00, 33600.51it/s]\n",
      "100%|███████████████████████████████████████████████████████████████████████████████████████████████████████████████| 29/29 [00:00<00:00, 41613.01it/s]\n",
      "100%|███████████████████████████████████████████████████████████████████████████████████████████████████████████████| 29/29 [00:00<00:00, 39415.04it/s]\n",
      "100%|███████████████████████████████████████████████████████████████████████████████████████████████████████████████| 30/30 [00:00<00:00, 41391.16it/s]\n",
      "100%|███████████████████████████████████████████████████████████████████████████████████████████████████████████████| 27/27 [00:00<00:00, 39707.65it/s]\n",
      "100%|███████████████████████████████████████████████████████████████████████████████████████████████████████████████| 29/29 [00:00<00:00, 41162.37it/s]\n",
      "100%|███████████████████████████████████████████████████████████████████████████████████████████████████████████████| 56/56 [00:00<00:00, 45661.16it/s]\n",
      "100%|███████████████████████████████████████████████████████████████████████████████████████████████████████████████| 29/29 [00:00<00:00, 43332.67it/s]\n",
      "100%|███████████████████████████████████████████████████████████████████████████████████████████████████████████████| 28/28 [00:00<00:00, 45100.04it/s]\n",
      "100%|███████████████████████████████████████████████████████████████████████████████████████████████████████████████| 28/28 [00:00<00:00, 47183.81it/s]\n",
      "100%|███████████████████████████████████████████████████████████████████████████████████████████████████████████████| 28/28 [00:00<00:00, 49932.19it/s]\n",
      "100%|███████████████████████████████████████████████████████████████████████████████████████████████████████████████| 27/27 [00:00<00:00, 49216.08it/s]\n",
      "100%|███████████████████████████████████████████████████████████████████████████████████████████████████████████████| 30/30 [00:00<00:00, 51463.85it/s]\n",
      "100%|███████████████████████████████████████████████████████████████████████████████████████████████████████████████| 28/28 [00:00<00:00, 37994.34it/s]\n",
      "100%|███████████████████████████████████████████████████████████████████████████████████████████████████████████████| 33/33 [00:00<00:00, 52211.25it/s]\n",
      "100%|███████████████████████████████████████████████████████████████████████████████████████████████████████████████| 31/31 [00:00<00:00, 52302.26it/s]\n",
      "100%|███████████████████████████████████████████████████████████████████████████████████████████████████████████████| 31/31 [00:00<00:00, 51822.81it/s]\n",
      "100%|███████████████████████████████████████████████████████████████████████████████████████████████████████████████| 29/29 [00:00<00:00, 51540.18it/s]\n",
      "100%|███████████████████████████████████████████████████████████████████████████████████████████████████████████████| 29/29 [00:00<00:00, 52181.39it/s]\n",
      "100%|███████████████████████████████████████████████████████████████████████████████████████████████████████████████| 29/29 [00:00<00:00, 51064.15it/s]\n",
      "100%|███████████████████████████████████████████████████████████████████████████████████████████████████████████████| 32/32 [00:00<00:00, 52655.05it/s]\n",
      "100%|███████████████████████████████████████████████████████████████████████████████████████████████████████████████| 30/30 [00:00<00:00, 51738.95it/s]\n",
      "100%|███████████████████████████████████████████████████████████████████████████████████████████████████████████████| 26/26 [00:00<00:00, 39128.78it/s]\n",
      "100%|███████████████████████████████████████████████████████████████████████████████████████████████████████████████| 32/32 [00:00<00:00, 51982.08it/s]\n",
      "100%|███████████████████████████████████████████████████████████████████████████████████████████████████████████████| 32/32 [00:00<00:00, 52696.40it/s]\n",
      "100%|███████████████████████████████████████████████████████████████████████████████████████████████████████████████| 30/30 [00:00<00:00, 51108.50it/s]\n",
      "100%|██████████████████████████████████████████████████████████████████████████████████████████████████████████████████| 32/32 [00:35<00:00,  1.11s/it]\n",
      "100%|██████████████████████████████████████████████████████████████████████████████████████████████████████████████████| 30/30 [00:33<00:00,  1.11s/it]\n"
     ]
    },
    {
     "name": "stdout",
     "output_type": "stream",
     "text": [
      "Extracting EDF parameters from /mnt/hdd-home/gromov_n/extreme-events/EEG seizure/EpiActivity/data/MoscowSpecialistsData/P38_TEST1.edf...\n",
      "EDF file detected\n",
      "Setting channel info structure...\n",
      "Creating raw.info structure...\n",
      "Overwriting existing file.\n",
      "Reading 0 ... 130941  =      0.000 ...   656.337 secs...\n",
      "Extracting EDF parameters from /mnt/hdd-home/gromov_n/extreme-events/EEG seizure/EpiActivity/data/MoscowSpecialistsData/P38_TEST2.edf...\n",
      "EDF file detected\n",
      "Setting channel info structure...\n",
      "Creating raw.info structure...\n",
      "Overwriting existing file.\n",
      "Reading 0 ... 120394  =      0.000 ...   603.470 secs...\n"
     ]
    },
    {
     "name": "stderr",
     "output_type": "stream",
     "text": [
      "/mnt/hdd-home/gromov_n/extreme-events/EEG seizure/EpiActivity/utils.py:1132: RuntimeWarning: Channels contain different highpass filters. Highest filter setting will be stored.\n",
      "  \n",
      "/mnt/hdd-home/gromov_n/extreme-events/EEG seizure/EpiActivity/utils.py:1132: RuntimeWarning: Channels contain different lowpass filters. Lowest filter setting will be stored.\n",
      "  \n",
      "/mnt/hdd-home/gromov_n/extreme-events/EEG seizure/EpiActivity/utils.py:1146: RuntimeWarning: Data has a non-integer sampling rate of 199.50274692224406; writing to EDF format may cause a small change to sample times.\n",
      "  data.close()\n",
      "/mnt/hdd-home/gromov_n/extreme-events/EEG seizure/EpiActivity/utils.py:1132: RuntimeWarning: Channels contain different highpass filters. Highest filter setting will be stored.\n",
      "  \n",
      "/mnt/hdd-home/gromov_n/extreme-events/EEG seizure/EpiActivity/utils.py:1132: RuntimeWarning: Channels contain different lowpass filters. Lowest filter setting will be stored.\n",
      "  \n",
      "/mnt/hdd-home/gromov_n/extreme-events/EEG seizure/EpiActivity/utils.py:1146: RuntimeWarning: Data has a non-integer sampling rate of 199.50274692224406; writing to EDF format may cause a small change to sample times.\n",
      "  data.close()\n"
     ]
    }
   ],
   "source": [
    "AllRecordsPredictionNewRecords(records, annots, times, all_labels, \n",
    "                                   test_record_names, test_records, CreateFakeAnnots(test_times), test_times,\n",
    "                                   \"UnseenDataPredicts\", shuffle_leads=False, is_train=False, sneos=None, mcs=None)"
   ]
  },
  {
   "cell_type": "code",
   "execution_count": null,
   "metadata": {},
   "outputs": [],
   "source": []
  }
 ],
 "metadata": {
  "kernelspec": {
   "display_name": "Python 3 (ipykernel)",
   "language": "python",
   "name": "python3"
  },
  "language_info": {
   "codemirror_mode": {
    "name": "ipython",
    "version": 3
   },
   "file_extension": ".py",
   "mimetype": "text/x-python",
   "name": "python",
   "nbconvert_exporter": "python",
   "pygments_lexer": "ipython3",
   "version": "3.10.12"
  }
 },
 "nbformat": 4,
 "nbformat_minor": 2
}
