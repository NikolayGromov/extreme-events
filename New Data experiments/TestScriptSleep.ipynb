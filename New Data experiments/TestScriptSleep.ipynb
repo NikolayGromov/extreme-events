{
 "cells": [
  {
   "cell_type": "code",
   "execution_count": 5,
   "id": "9983668f",
   "metadata": {},
   "outputs": [],
   "source": [
    "import numpy as np\n",
    "import time\n",
    "#time.sleep(120)\n",
    "\n",
    "arr = np.zeros((1000000), dtype='float64')\n",
    "\n",
    "#np.savetxt(\"test_arr_2\", arr)"
   ]
  },
  {
   "cell_type": "code",
   "execution_count": 6,
   "id": "26f07de9",
   "metadata": {},
   "outputs": [
    {
     "data": {
      "text/plain": [
       "array([0., 0., 0., ..., 0., 0., 0.])"
      ]
     },
     "execution_count": 6,
     "metadata": {},
     "output_type": "execute_result"
    }
   ],
   "source": [
    "arr"
   ]
  }
 ],
 "metadata": {
  "kernelspec": {
   "display_name": "Python 3 (ipykernel)",
   "language": "python",
   "name": "python3"
  },
  "language_info": {
   "codemirror_mode": {
    "name": "ipython",
    "version": 3
   },
   "file_extension": ".py",
   "mimetype": "text/x-python",
   "name": "python",
   "nbconvert_exporter": "python",
   "pygments_lexer": "ipython3",
   "version": "3.10.4"
  }
 },
 "nbformat": 4,
 "nbformat_minor": 5
}
