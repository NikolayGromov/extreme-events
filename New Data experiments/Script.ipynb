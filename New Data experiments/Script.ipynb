{
 "cells": [
  {
   "cell_type": "code",
   "execution_count": 2,
   "id": "c92f8ac5",
   "metadata": {},
   "outputs": [],
   "source": [
    "import numpy as np\n",
    "from scipy.integrate import solve_ivp\n",
    "\n",
    "def dk(self, X):\n",
    "    x1, y1, z1, x2, y2, z2 = X\n",
    "    return [y1 + b*x1**2 - a*x1**3 -z1 + I - k1*(x1-vs)*G(x2),\n",
    "            c - d*x1**2 - y1,\n",
    "            r*(s*(x1 - xr) - z1),\n",
    "            y2 + b*x2**2 - a*x2**3 -z2 + I - k2*(x2-vs)*G(x1),\n",
    "            c - d*x2**2 - y2,\n",
    "            r*(s*(x2 - xr) - z2)        \n",
    "    ]\n",
    " \n",
    "def G(x):\n",
    "    return 1/(1+np.exp(-lam*(x-teta)))\n",
    "\n",
    "a = 1\n",
    "b = 3\n",
    "c = 1\n",
    "d = 5\n",
    "xr = -1.6\n",
    "r = 0.01\n",
    "s = 5\n",
    "I = 4\n",
    "vs = 2\n",
    "lam = 10\n",
    "teta = -0.25\n",
    "k1 = -0.17\n",
    "k2 = -0.17\n",
    "\n",
    "srart_point = np.load(\"DK_time_series_eighth.npy\")[:, -1]\n",
    "\n",
    "sol = solve_ivp(dk, [2000000, 2250000], srart_point, \n",
    "                t_eval=np.array(range(2000000, 2250000, 1)), rtol = 1e-11, atol = 1e-11, dense_output=True)\n",
    "\n",
    "np.save('DK_time_series_ninth', sol.y)\n",
    "\n",
    "sol = solve_ivp(dk, [2250000, 2500000], sol.y[:, -1], \n",
    "                t_eval=np.array(range(2250000, 2500000, 1)), rtol = 1e-11, atol = 1e-11, dense_output=True)\n",
    "\n",
    "np.save('DK_time_series_tenth', sol.y)\n",
    "\n",
    "sol = solve_ivp(dk, [2500000, 2750000], sol.y[:, -1], \n",
    "                t_eval=np.array(range(2500000, 2750000, 1)), rtol = 1e-11, atol = 1e-11, dense_output=True)\n",
    "\n",
    "np.save('DK_time_series_eleventh', sol.y)\n",
    "\n",
    "sol = solve_ivp(dk, [2750000, 3000000], sol.y[:, -1], \n",
    "                t_eval=np.array(range(2750000, 3000000, 1)), rtol = 1e-11, atol = 1e-11, dense_output=True)\n",
    "\n",
    "np.save('DK_time_series_twelvth', sol.y)"
   ]
  }
 ],
 "metadata": {
  "kernelspec": {
   "display_name": "Python 3 (ipykernel)",
   "language": "python",
   "name": "python3"
  },
  "language_info": {
   "codemirror_mode": {
    "name": "ipython",
    "version": 3
   },
   "file_extension": ".py",
   "mimetype": "text/x-python",
   "name": "python",
   "nbconvert_exporter": "python",
   "pygments_lexer": "ipython3",
   "version": "3.11.3"
  }
 },
 "nbformat": 4,
 "nbformat_minor": 5
}
