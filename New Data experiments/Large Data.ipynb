{
 "cells": [
  {
   "cell_type": "code",
   "execution_count": 14,
   "id": "b6b713d2",
   "metadata": {},
   "outputs": [],
   "source": [
    "import numpy as np\n",
    "from scipy.integrate import solve_ivp\n",
    "import matplotlib.pyplot as plt\n",
    "from scipy.signal import argrelextrema"
   ]
  },
  {
   "cell_type": "code",
   "execution_count": 2,
   "id": "39d5823c",
   "metadata": {},
   "outputs": [],
   "source": [
    "def dk(self, X):\n",
    "    x1, y1, z1, x2, y2, z2 = X\n",
    "    return [y1 + b*x1**2 - a*x1**3 -z1 + I - k1*(x1-vs)*G(x2),\n",
    "            c - d*x1**2 - y1,\n",
    "            r*(s*(x1 - xr) - z1),\n",
    "            y2 + b*x2**2 - a*x2**3 -z2 + I - k2*(x2-vs)*G(x1),\n",
    "            c - d*x2**2 - y2,\n",
    "            r*(s*(x2 - xr) - z2)        \n",
    "    ]\n",
    " \n",
    "def G(x):\n",
    "    return 1/(1+np.exp(-lam*(x-teta)))"
   ]
  },
  {
   "cell_type": "code",
   "execution_count": 3,
   "id": "89761eca",
   "metadata": {},
   "outputs": [],
   "source": [
    "a = 1\n",
    "b = 3\n",
    "c = 1\n",
    "d = 5\n",
    "xr = -1.6\n",
    "r = 0.01\n",
    "s = 5\n",
    "I = 4\n",
    "vs = 2\n",
    "lam = 10\n",
    "teta = -0.25\n",
    "k1 = -0.17\n",
    "k2 = -0.17"
   ]
  },
  {
   "cell_type": "code",
   "execution_count": 4,
   "id": "594c7003",
   "metadata": {},
   "outputs": [],
   "source": [
    "sol = solve_ivp(dk, [0, 250000], [-0.1, 0.1, -0.1, -0.1, -0.1, -0.1], \n",
    "                t_eval=np.array(range(0, 250000, 1)), rtol = 1e-11, atol = 1e-11, dense_output=True)"
   ]
  },
  {
   "cell_type": "code",
   "execution_count": 8,
   "id": "22134eb7",
   "metadata": {},
   "outputs": [],
   "source": [
    "np.save('DK_time_series_250000', sol.y)"
   ]
  },
  {
   "cell_type": "code",
   "execution_count": 9,
   "id": "d7ebc574",
   "metadata": {},
   "outputs": [],
   "source": [
    "data = np.load(\"DK_time_series_250000.npy\")\n",
    "data = data[0] + data[3]"
   ]
  },
  {
   "cell_type": "code",
   "execution_count": 13,
   "id": "b0bed21d",
   "metadata": {},
   "outputs": [
    {
     "data": {
      "text/plain": [
       "(250000,)"
      ]
     },
     "execution_count": 13,
     "metadata": {},
     "output_type": "execute_result"
    }
   ],
   "source": [
    "data.shape"
   ]
  },
  {
   "cell_type": "code",
   "execution_count": 12,
   "id": "48d7ec0c",
   "metadata": {},
   "outputs": [
    {
     "data": {
      "text/plain": [
       "[<matplotlib.lines.Line2D at 0x218f955c8e0>]"
      ]
     },
     "execution_count": 12,
     "metadata": {},
     "output_type": "execute_result"
    },
    {
     "data": {
      "image/png": "[encoded data removed]",
      "text/plain": [
       "<Figure size 432x288 with 1 Axes>"
      ]
     },
     "metadata": {
      "needs_background": "light"
     },
     "output_type": "display_data"
    }
   ],
   "source": [
    "plt.plot(data)"
   ]
  },
  {
   "cell_type": "code",
   "execution_count": 17,
   "id": "9512d967",
   "metadata": {},
   "outputs": [
    {
     "data": {
      "text/plain": [
       "2.4421381315489237"
      ]
     },
     "execution_count": 17,
     "metadata": {},
     "output_type": "execute_result"
    }
   ],
   "source": [
    "mu1 = np.mean(data)\n",
    "sigma1 = np.std(data)\n",
    "Hs1 = mu1 + 6*sigma1\n",
    "Hs1"
   ]
  },
  {
   "cell_type": "code",
   "execution_count": 18,
   "id": "9ac6b4ba",
   "metadata": {},
   "outputs": [],
   "source": [
    "spikes_ind1 = argrelextrema(data, np.greater) \n",
    "spikes1 = data[spikes_ind1]\n",
    "\n",
    "\n",
    "mu2 = np.mean(spikes1)\n",
    "sigma2 = np.std(spikes1)\n",
    "\n",
    "\n",
    "Hs2 = mu2 + 6*sigma2"
   ]
  },
  {
   "cell_type": "code",
   "execution_count": 31,
   "id": "28a33636",
   "metadata": {},
   "outputs": [
    {
     "data": {
      "text/plain": [
       "[0]"
      ]
     },
     "execution_count": 31,
     "metadata": {},
     "output_type": "execute_result"
    }
   ],
   "source": [
    "list(range())"
   ]
  },
  {
   "cell_type": "code",
   "execution_count": 32,
   "id": "7fd44962",
   "metadata": {},
   "outputs": [
    {
     "data": {
      "text/plain": [
       "1"
      ]
     },
     "execution_count": 32,
     "metadata": {},
     "output_type": "execute_result"
    }
   ],
   "source": [
    "len(spikes_ind1)"
   ]
  },
  {
   "cell_type": "code",
   "execution_count": 35,
   "id": "cfeb1dbe",
   "metadata": {},
   "outputs": [
    {
     "data": {
      "text/plain": [
       "array([     1,      4,      7, ..., 249967, 249976, 249993], dtype=int64)"
      ]
     },
     "execution_count": 35,
     "metadata": {},
     "output_type": "execute_result"
    }
   ],
   "source": [
    "spikes_ind1[0]"
   ]
  },
  {
   "cell_type": "code",
   "execution_count": 42,
   "id": "f25671ec",
   "metadata": {},
   "outputs": [
    {
     "ename": "IndexError",
     "evalue": "too many indices for array: array is 1-dimensional, but 2 were indexed",
     "output_type": "error",
     "traceback": [
      "\u001b[1;31m---------------------------------------------------------------------------\u001b[0m",
      "\u001b[1;31mIndexError\u001b[0m                                Traceback (most recent call last)",
      "Input \u001b[1;32mIn [42]\u001b[0m, in \u001b[0;36m<cell line: 1>\u001b[1;34m()\u001b[0m\n\u001b[1;32m----> 1\u001b[0m \u001b[38;5;28mlen\u001b[39m(\u001b[43mspikes1\u001b[49m\u001b[43m[\u001b[49m\u001b[43m:\u001b[49m\u001b[43m,\u001b[49m\u001b[43m \u001b[49m\u001b[43mspikes_ind1\u001b[49m\u001b[43m[\u001b[49m\u001b[38;5;241;43m0\u001b[39;49m\u001b[43m]\u001b[49m\u001b[43m \u001b[49m\u001b[38;5;241;43m>\u001b[39;49m\u001b[43m \u001b[49m\u001b[43mHs1\u001b[49m\u001b[43m]\u001b[49m)\n",
      "\u001b[1;31mIndexError\u001b[0m: too many indices for array: array is 1-dimensional, but 2 were indexed"
     ]
    }
   ],
   "source": [
    "len(spikes1[spikes_ind1[0] > Hs1])"
   ]
  },
  {
   "cell_type": "code",
   "execution_count": 49,
   "id": "18753167",
   "metadata": {},
   "outputs": [
    {
     "data": {
      "text/plain": [
       "49"
      ]
     },
     "execution_count": 49,
     "metadata": {},
     "output_type": "execute_result"
    }
   ],
   "source": [
    "len(spikes1[spikes1 > Hs1])"
   ]
  },
  {
   "cell_type": "code",
   "execution_count": 43,
   "id": "a9580a4d",
   "metadata": {},
   "outputs": [
    {
     "data": {
      "text/plain": [
       "(17418,)"
      ]
     },
     "execution_count": 43,
     "metadata": {},
     "output_type": "execute_result"
    }
   ],
   "source": [
    "spikes1.shape"
   ]
  },
  {
   "cell_type": "code",
   "execution_count": 52,
   "id": "f32a5bd4",
   "metadata": {},
   "outputs": [
    {
     "data": {
      "text/plain": [
       "[<matplotlib.lines.Line2D at 0x219d8d300d0>]"
      ]
     },
     "execution_count": 52,
     "metadata": {},
     "output_type": "execute_result"
    },
    {
     "data": {
      "image/png": "[encoded data removed]",
      "text/plain": [
       "<Figure size 432x288 with 1 Axes>"
      ]
     },
     "metadata": {
      "needs_background": "light"
     },
     "output_type": "display_data"
    }
   ],
   "source": [
    "plt.plot(spikes1)"
   ]
  },
  {
   "cell_type": "code",
   "execution_count": 59,
   "id": "f5c8504e",
   "metadata": {},
   "outputs": [
    {
     "data": {
      "text/plain": [
       "(2.4421381315489237, 4.0)"
      ]
     },
     "execution_count": 59,
     "metadata": {},
     "output_type": "execute_result"
    },
    {
     "data": {
      "image/png": "[encoded data removed]",
      "text/plain": [
       "<Figure size 1152x648 with 1 Axes>"
      ]
     },
     "metadata": {
      "needs_background": "light"
     },
     "output_type": "display_data"
    }
   ],
   "source": [
    "plt.figure(figsize=(16, 9))\n",
    "plt.scatter(list(range(len(spikes1)))[100: 2500], spikes1[100: 2500])\n",
    "plt.ylim(Hs1, 4)"
   ]
  },
  {
   "cell_type": "code",
   "execution_count": null,
   "id": "ae00c59f",
   "metadata": {},
   "outputs": [],
   "source": []
  },
  {
   "cell_type": "code",
   "execution_count": 19,
   "id": "006a7d82",
   "metadata": {},
   "outputs": [
    {
     "data": {
      "text/plain": [
       "2.7322965235185324"
      ]
     },
     "execution_count": 19,
     "metadata": {},
     "output_type": "execute_result"
    }
   ],
   "source": [
    "Hs2"
   ]
  },
  {
   "cell_type": "code",
   "execution_count": 25,
   "id": "788aa7a1",
   "metadata": {},
   "outputs": [
    {
     "data": {
      "text/plain": [
       "49"
      ]
     },
     "execution_count": 25,
     "metadata": {},
     "output_type": "execute_result"
    }
   ],
   "source": [
    "(spikes1 > Hs1).sum()"
   ]
  },
  {
   "cell_type": "code",
   "execution_count": 21,
   "id": "1affc04d",
   "metadata": {},
   "outputs": [
    {
     "data": {
      "text/plain": [
       "[<matplotlib.lines.Line2D at 0x219d2b44df0>]"
      ]
     },
     "execution_count": 21,
     "metadata": {},
     "output_type": "execute_result"
    },
    {
     "data": {
      "image/png": "[encoded data removed]",
      "text/plain": [
       "<Figure size 432x288 with 1 Axes>"
      ]
     },
     "metadata": {
      "needs_background": "light"
     },
     "output_type": "display_data"
    }
   ],
   "source": [
    "plt.plot(spikes1[:100])"
   ]
  }
 ],
 "metadata": {
  "kernelspec": {
   "display_name": "Python 3 (ipykernel)",
   "language": "python",
   "name": "python3"
  },
  "language_info": {
   "codemirror_mode": {
    "name": "ipython",
    "version": 3
   },
   "file_extension": ".py",
   "mimetype": "text/x-python",
   "name": "python",
   "nbconvert_exporter": "python",
   "pygments_lexer": "ipython3",
   "version": "3.10.4"
  }
 },
 "nbformat": 4,
 "nbformat_minor": 5
}
