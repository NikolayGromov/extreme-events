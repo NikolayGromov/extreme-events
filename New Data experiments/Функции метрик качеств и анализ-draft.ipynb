{
 "cells": [
  {
   "cell_type": "code",
   "execution_count": 1,
   "id": "13d0ad06",
   "metadata": {},
   "outputs": [],
   "source": [
    "import numpy as np\n",
    "import torchvision\n",
    "import torch\n",
    "import torchvision.transforms as transforms\n",
    "from torch.utils.data.sampler import SubsetRandomSampler\n",
    "from torch import nn\n",
    "import torch.nn.functional as F\n",
    "import torch.optim as optim\n",
    "from torch.autograd import Variable\n",
    "from sklearn.preprocessing import MinMaxScaler\n",
    "import numpy as np\n",
    "import matplotlib.pyplot as plt\n",
    "from scipy.integrate import odeint\n",
    "from scipy.integrate import solve_ivp\n",
    "import matplotlib.pyplot as plt\n",
    "from torch.utils.data import DataLoader\n",
    "import math\n",
    "from IPython.display import clear_output\n",
    "from tqdm import tqdm\n",
    "import matplotlib.ticker as ticker\n",
    "from scipy.signal import argrelextrema\n",
    "%matplotlib inline"
   ]
  },
  {
   "cell_type": "code",
   "execution_count": 2,
   "id": "3dd5bf45",
   "metadata": {},
   "outputs": [],
   "source": [
    "data = np.load(\"data/DK_time_series_3000000.npy\")\n",
    "\n",
    "train = data[:-500000]\n",
    "test =  data[-500000:]\n",
    "\n",
    "mean = train.mean()\n",
    "std = train.std()\n",
    "#sigmastest = np.abs(test - mean)\n",
    "train_norm = (train - mean)/std\n",
    "test_norm = (test - mean)/std\n",
    "\n",
    "train_norm = torch.FloatTensor(train_norm).view(-1)\n",
    "test_norm = torch.FloatTensor(test_norm).view(-1)"
   ]
  },
  {
   "cell_type": "code",
   "execution_count": 3,
   "id": "ea168f09",
   "metadata": {},
   "outputs": [],
   "source": [
    "Hs = mean + 4 * std"
   ]
  },
  {
   "cell_type": "code",
   "execution_count": 4,
   "id": "64007fdf",
   "metadata": {},
   "outputs": [],
   "source": [
    "lstm_predicts = []\n",
    "for i in range(19):\n",
    "    lstm_predicts.append(np.load(\"predicts/lstm_predict_\" + str(i) + \".npy\"))"
   ]
  },
  {
   "cell_type": "code",
   "execution_count": 5,
   "id": "4a182bbd",
   "metadata": {},
   "outputs": [],
   "source": [
    "def Calc_TP(predict, target, k, n, m):\n",
    "\n",
    "    assert len(predict) == len(target)\n",
    "\n",
    "    TP = 0\n",
    "    i = n\n",
    "    TP_lst = []\n",
    "    while i < len(predict):\n",
    "        if predict[i] > Hs:\n",
    "            if (target[i - k + 1: i + n] > Hs).any() and (test[i-m: i - k + 1] < Hs).all():\n",
    "                #print(i)\n",
    "                TP_lst.append(i)\n",
    "                i += n\n",
    "                TP += 1\n",
    "        i += 1\n",
    "    return TP, TP_lst"
   ]
  },
  {
   "cell_type": "code",
   "execution_count": 6,
   "id": "45ab6473",
   "metadata": {},
   "outputs": [
    {
     "data": {
      "text/plain": [
       "766"
      ]
     },
     "execution_count": 6,
     "metadata": {},
     "output_type": "execute_result"
    }
   ],
   "source": [
    "test_right_part = (len(test)- 20)%64\n",
    "TP = Calc_TP(lstm_predicts[0], test[20:-test_right_part], 1, 50, 5)\n",
    "TP"
   ]
  },
  {
   "cell_type": "code",
   "execution_count": 7,
   "id": "dce37ff5",
   "metadata": {},
   "outputs": [
    {
     "data": {
      "text/plain": [
       "711"
      ]
     },
     "execution_count": 7,
     "metadata": {},
     "output_type": "execute_result"
    }
   ],
   "source": [
    "test_right_part = (len(test)- 20)%64\n",
    "TP = Calc_TP(lstm_predicts[1][:-1], test[21:-test_right_part], 2, 50, 7)\n",
    "TP"
   ]
  },
  {
   "cell_type": "code",
   "execution_count": 8,
   "id": "75e5808b",
   "metadata": {},
   "outputs": [
    {
     "data": {
      "text/plain": [
       "405"
      ]
     },
     "execution_count": 8,
     "metadata": {},
     "output_type": "execute_result"
    }
   ],
   "source": [
    "TP = Calc_TP(lstm_predicts[2][:-2], test[22:-test_right_part], 3, 50, 10)\n",
    "TP"
   ]
  },
  {
   "cell_type": "code",
   "execution_count": null,
   "id": "10a4953b",
   "metadata": {},
   "outputs": [],
   "source": []
  },
  {
   "cell_type": "code",
   "execution_count": 6,
   "id": "fd689509",
   "metadata": {},
   "outputs": [],
   "source": [
    "wave_net_predicts = np.load(\"predicts/wavenet_predict_all_steps.npy\")"
   ]
  },
  {
   "cell_type": "code",
   "execution_count": 7,
   "id": "c55cb3cd",
   "metadata": {},
   "outputs": [],
   "source": [
    "def amp_to_int(x, n=256):\n",
    "    ### x.min must be negative\n",
    "    step = (x.max() - x.min()) / n\n",
    "    ans = np.zeros_like(x)\n",
    "    for i, val in enumerate(np.arange(x.min(), x.max(), step)):\n",
    "        for j in range(len(x)):\n",
    "            if val <= x[j] < val + step:\n",
    "                ans[j] = i\n",
    "                \n",
    "    return ans\n",
    "\n",
    "\n",
    "def int_to_amp(x, x_true, n=256):\n",
    "    ### x.min must be negative\n",
    "    step = (x_true.max() - x_true.min()) / n\n",
    "    ans = np.zeros_like(x, dtype=float)\n",
    "    #for j in range(len(x)):\n",
    "    ans = x_true.min() + x * step\n",
    "                \n",
    "    return ans     "
   ]
  },
  {
   "cell_type": "code",
   "execution_count": 9,
   "id": "8d131e84",
   "metadata": {},
   "outputs": [
    {
     "data": {
      "text/plain": [
       "array([-0.60564967,  0.09434186,  1.01936623, ..., -1.72870774,\n",
       "       -1.60470045, -1.43263915])"
      ]
     },
     "execution_count": 9,
     "metadata": {},
     "output_type": "execute_result"
    }
   ],
   "source": [
    "lstm_predicts[0]"
   ]
  },
  {
   "cell_type": "code",
   "execution_count": null,
   "id": "cf60d688",
   "metadata": {},
   "outputs": [],
   "source": [
    "test_right_part = (len(test)- 20)%64\n",
    "TPs_lstm = []\n",
    "TPs_wave = []\n",
    "for i in range(19):\n",
    "    TP_wave, _ = Calc_TP(int_to_amp(wave_net_predicts[:, 1:][i], data, n=256)[:-1], test[1:], 1, 50, 5 + i)\n",
    "    TPs_wave.append(TP_wave)\n",
    "    if i:\n",
    "        TP_lstm, _ = Calc_TP(lstm_predicts[i][:-i], test[20+i:-test_right_part], i+1, 50, 5 + i)\n",
    "        TPs_lstm.append(TP_lstm)\n",
    "    else:\n",
    "        TP_lstm, _ = Calc_TP(lstm_predicts[0], test[20:-test_right_part], 1, 50, 5)\n",
    "        TPs_lstm.append(TP_lstm)\n",
    "    "
   ]
  },
  {
   "cell_type": "code",
   "execution_count": 101,
   "id": "70f12d85",
   "metadata": {},
   "outputs": [
    {
     "data": {
      "text/plain": [
       "157"
      ]
     },
     "execution_count": 101,
     "metadata": {},
     "output_type": "execute_result"
    }
   ],
   "source": [
    "TP = Calc_TP(int_to_amp(wave_net_predicts[:, 1:][0], data, n=256)[:-1], test[1:], 1, 50, 5)\n",
    "TP"
   ]
  },
  {
   "cell_type": "code",
   "execution_count": 102,
   "id": "cc94541d",
   "metadata": {},
   "outputs": [
    {
     "data": {
      "text/plain": [
       "66"
      ]
     },
     "execution_count": 102,
     "metadata": {},
     "output_type": "execute_result"
    }
   ],
   "source": [
    "TP = Calc_TP(int_to_amp(wave_net_predicts[:, 1:][1], data, n=256)[:-2], test[2:], 2, 50, 7)\n",
    "TP"
   ]
  },
  {
   "cell_type": "code",
   "execution_count": 103,
   "id": "aadc7a54",
   "metadata": {},
   "outputs": [
    {
     "data": {
      "text/plain": [
       "10"
      ]
     },
     "execution_count": 103,
     "metadata": {},
     "output_type": "execute_result"
    }
   ],
   "source": [
    "TP = Calc_TP(int_to_amp(wave_net_predicts[:, 1:][2], data, n=256)[:-3], test[3:], 3, 50, 10)\n",
    "TP"
   ]
  },
  {
   "cell_type": "code",
   "execution_count": 63,
   "id": "f8d9e17c",
   "metadata": {},
   "outputs": [
    {
     "data": {
      "text/plain": [
       "833"
      ]
     },
     "execution_count": 63,
     "metadata": {},
     "output_type": "execute_result"
    }
   ],
   "source": [
    "(test > Hs).sum()"
   ]
  },
  {
   "cell_type": "code",
   "execution_count": 56,
   "id": "bbdf7e9b",
   "metadata": {},
   "outputs": [
    {
     "data": {
      "text/plain": [
       "30969"
      ]
     },
     "execution_count": 56,
     "metadata": {},
     "output_type": "execute_result"
    }
   ],
   "source": [
    "(test[19987:] > Hs).argmax() + 19986"
   ]
  },
  {
   "cell_type": "code",
   "execution_count": 46,
   "id": "76057a0e",
   "metadata": {},
   "outputs": [
    {
     "data": {
      "text/plain": [
       "2.763562053982881"
      ]
     },
     "execution_count": 46,
     "metadata": {},
     "output_type": "execute_result"
    }
   ],
   "source": [
    "test[3:][4040:4050]"
   ]
  },
  {
   "cell_type": "code",
   "execution_count": 57,
   "id": "ecb41427",
   "metadata": {},
   "outputs": [
    {
     "data": {
      "text/plain": [
       "[<matplotlib.lines.Line2D at 0x163ebe4add0>]"
      ]
     },
     "execution_count": 57,
     "metadata": {},
     "output_type": "execute_result"
    },
    {
     "data": {
      "image/png": "[encoded data removed]",
      "text/plain": [
       "<Figure size 1152x648 with 1 Axes>"
      ]
     },
     "metadata": {
      "needs_background": "light"
     },
     "output_type": "display_data"
    }
   ],
   "source": [
    "plt.figure(figsize=(16, 9))\n",
    "\n",
    "wavenet_pred_3 = int_to_amp(wave_net_predicts[:, 1:][2], data, n=256)[:-3]\n",
    "plt.plot(test[3:][30960:30980])\n",
    "plt.plot(wavenet_pred_3[30960:30980])"
   ]
  },
  {
   "cell_type": "code",
   "execution_count": 17,
   "id": "f2d80dfa",
   "metadata": {},
   "outputs": [
    {
     "data": {
      "text/plain": [
       "[<matplotlib.lines.Line2D at 0x163e0daba30>]"
      ]
     },
     "execution_count": 17,
     "metadata": {},
     "output_type": "execute_result"
    },
    {
     "data": {
      "image/png": "[encoded data removed]",
      "text/plain": [
       "<Figure size 1152x648 with 1 Axes>"
      ]
     },
     "metadata": {
      "needs_background": "light"
     },
     "output_type": "display_data"
    }
   ],
   "source": [
    "target = test[21:-test_right_part]\n",
    "\n",
    "plt.figure(figsize=(16, 9))\n",
    "plt.plot(target[:100])\n",
    "plt.plot(lstm_predicts[1][:100])"
   ]
  },
  {
   "cell_type": "code",
   "execution_count": 12,
   "id": "77a7b921",
   "metadata": {},
   "outputs": [
    {
     "data": {
      "text/plain": [
       "[<matplotlib.lines.Line2D at 0x163c2d21360>]"
      ]
     },
     "execution_count": 12,
     "metadata": {},
     "output_type": "execute_result"
    },
    {
     "data": {
      "image/png": "[encoded data removed]",
      "text/plain": [
       "<Figure size 1152x648 with 1 Axes>"
      ]
     },
     "metadata": {
      "needs_background": "light"
     },
     "output_type": "display_data"
    }
   ],
   "source": [
    "target = test[20:-test_right_part]\n",
    "\n",
    "plt.figure(figsize=(16, 9))\n",
    "plt.plot(target[:100])\n",
    "plt.plot(lstm_predicts[0][:100])"
   ]
  },
  {
   "cell_type": "code",
   "execution_count": 22,
   "id": "59ee0e70",
   "metadata": {},
   "outputs": [],
   "source": [
    "def Calc_FN(predict, target, k, n, m):\n",
    "\n",
    "    assert len(predict) == len(target)\n",
    "\n",
    "    FN = 0\n",
    "    i = n\n",
    "    FN_lst = []\n",
    "    while i < len(predict):\n",
    "        if target[i] > Hs:\n",
    "            if (predict[i - n: i + k] < Hs).all():\n",
    "                #print(i)\n",
    "                #return FN\n",
    "                FN_lst.append(i)\n",
    "                i += n\n",
    "                FN += 1\n",
    "        i += 1\n",
    "    return FN, FN_lst"
   ]
  },
  {
   "cell_type": "code",
   "execution_count": 10,
   "id": "0d1ef308",
   "metadata": {},
   "outputs": [],
   "source": [
    "Hs = mean + 4 * std"
   ]
  },
  {
   "cell_type": "code",
   "execution_count": 11,
   "id": "ae81611b",
   "metadata": {},
   "outputs": [],
   "source": [
    "TP = Calc_TP(lstm_predicts[0], test[20:-test_right_part], 1, 50, 5)\n",
    "FN = Calc_FN(lstm_predicts[0], test[20:-test_right_part], 1, 50, 5)\n",
    "#assert TP + FN == (test > Hs).sum()"
   ]
  },
  {
   "cell_type": "code",
   "execution_count": 12,
   "id": "5f20f21a",
   "metadata": {},
   "outputs": [],
   "source": [
    "TP = Calc_TP(lstm_predicts[1][:-1], test[21:-test_right_part], 2, 50, 5)\n",
    "FN = Calc_FN(lstm_predicts[1][:-1], test[21:-test_right_part], 2, 50, 5)\n",
    "#assert TP + FN == (test > Hs).sum()"
   ]
  },
  {
   "cell_type": "code",
   "execution_count": 24,
   "id": "2b06689c",
   "metadata": {},
   "outputs": [],
   "source": [
    "TP, TP_lst = Calc_TP(lstm_predicts[2][:-2], test[22:-test_right_part], 3, 50, 5)\n",
    "FN, FN_lst = Calc_FN(lstm_predicts[2][:-2], test[22:-test_right_part], 3, 50, 5)\n",
    "#assert TP + FN == (test > Hs).sum()"
   ]
  },
  {
   "cell_type": "code",
   "execution_count": 14,
   "id": "6df6471d",
   "metadata": {},
   "outputs": [
    {
     "data": {
      "text/plain": [
       "405"
      ]
     },
     "execution_count": 14,
     "metadata": {},
     "output_type": "execute_result"
    }
   ],
   "source": [
    "TP"
   ]
  },
  {
   "cell_type": "code",
   "execution_count": 17,
   "id": "ff552374",
   "metadata": {},
   "outputs": [],
   "source": [
    "def OnlyPeaks(time_series):\n",
    "    spikes_ind = argrelextrema(time_series, np.greater) \n",
    "    spikes = time_series[spikes_ind]\n",
    "    return spikes"
   ]
  },
  {
   "cell_type": "code",
   "execution_count": 18,
   "id": "0d1314e1",
   "metadata": {},
   "outputs": [
    {
     "data": {
      "text/plain": [
       "785"
      ]
     },
     "execution_count": 18,
     "metadata": {},
     "output_type": "execute_result"
    }
   ],
   "source": [
    "(OnlyPeaks(test) > Hs).sum()"
   ]
  },
  {
   "cell_type": "code",
   "execution_count": 27,
   "id": "47904ca1",
   "metadata": {},
   "outputs": [
    {
     "data": {
      "text/plain": [
       "774"
      ]
     },
     "execution_count": 27,
     "metadata": {},
     "output_type": "execute_result"
    }
   ],
   "source": [
    "TP + FN"
   ]
  },
  {
   "cell_type": "code",
   "execution_count": 52,
   "id": "8c1686f0",
   "metadata": {},
   "outputs": [
    {
     "data": {
      "text/plain": [
       "369"
      ]
     },
     "execution_count": 52,
     "metadata": {},
     "output_type": "execute_result"
    }
   ],
   "source": [
    "FN"
   ]
  },
  {
   "cell_type": "code",
   "execution_count": 25,
   "id": "4e2aa8af",
   "metadata": {},
   "outputs": [],
   "source": [
    "All_picks = TP_lst + FN_lst"
   ]
  },
  {
   "cell_type": "code",
   "execution_count": 33,
   "id": "d863fe76",
   "metadata": {},
   "outputs": [
    {
     "data": {
      "text/plain": [
       "774"
      ]
     },
     "execution_count": 33,
     "metadata": {},
     "output_type": "execute_result"
    }
   ],
   "source": [
    "len(All_picks)"
   ]
  },
  {
   "cell_type": "code",
   "execution_count": 40,
   "id": "9656a0d5",
   "metadata": {},
   "outputs": [],
   "source": [
    "true_picks = [i for i in range(len(test[22:-test_right_part])) if (test[22:-test_right_part][i] > Hs)]"
   ]
  },
  {
   "cell_type": "code",
   "execution_count": 41,
   "id": "8e7778be",
   "metadata": {},
   "outputs": [],
   "source": [
    "dif = set(true_picks).difference(set(All_picks))"
   ]
  },
  {
   "cell_type": "code",
   "execution_count": 42,
   "id": "8290b4fc",
   "metadata": {},
   "outputs": [
    {
     "data": {
      "text/plain": [
       "106"
      ]
     },
     "execution_count": 42,
     "metadata": {},
     "output_type": "execute_result"
    }
   ],
   "source": [
    "len(dif)"
   ]
  },
  {
   "cell_type": "code",
   "execution_count": 61,
   "id": "faffc35a",
   "metadata": {},
   "outputs": [
    {
     "data": {
      "text/plain": [
       "100354"
      ]
     },
     "execution_count": 61,
     "metadata": {},
     "output_type": "execute_result"
    }
   ],
   "source": [
    "list(dif)[0]"
   ]
  },
  {
   "cell_type": "code",
   "execution_count": 62,
   "id": "700e0db6",
   "metadata": {},
   "outputs": [
    {
     "data": {
      "text/plain": [
       "1.7218634650882372"
      ]
     },
     "execution_count": 62,
     "metadata": {},
     "output_type": "execute_result"
    }
   ],
   "source": [
    "test[22:-test_right_part][100354]"
   ]
  },
  {
   "cell_type": "code",
   "execution_count": 64,
   "id": "307fef10",
   "metadata": {},
   "outputs": [
    {
     "data": {
      "text/plain": [
       "1.185853752424743"
      ]
     },
     "execution_count": 64,
     "metadata": {},
     "output_type": "execute_result"
    }
   ],
   "source": [
    "lstm_predicts[2][:-2][100353]"
   ]
  },
  {
   "cell_type": "code",
   "execution_count": 50,
   "id": "bb5159b9",
   "metadata": {},
   "outputs": [
    {
     "data": {
      "text/plain": [
       "1.0722118587496372"
      ]
     },
     "execution_count": 50,
     "metadata": {},
     "output_type": "execute_result"
    }
   ],
   "source": [
    "Hs"
   ]
  },
  {
   "cell_type": "code",
   "execution_count": 58,
   "id": "fbb90a67",
   "metadata": {},
   "outputs": [
    {
     "data": {
      "text/plain": [
       "True"
      ]
     },
     "execution_count": 58,
     "metadata": {},
     "output_type": "execute_result"
    }
   ],
   "source": [
    "385026 in TP_lst"
   ]
  },
  {
   "cell_type": "code",
   "execution_count": 67,
   "id": "90e1423e",
   "metadata": {},
   "outputs": [
    {
     "data": {
      "text/plain": [
       "array([ True, False,  True,  True,  True,  True,  True,  True,  True,\n",
       "        True,  True,  True])"
      ]
     },
     "execution_count": 67,
     "metadata": {},
     "output_type": "execute_result"
    }
   ],
   "source": [
    "lstm_predicts[2][:-2][100354-2:100354 + 10] < Hs"
   ]
  },
  {
   "cell_type": "code",
   "execution_count": 68,
   "id": "448a686e",
   "metadata": {},
   "outputs": [
    {
     "data": {
      "text/plain": [
       "False"
      ]
     },
     "execution_count": 68,
     "metadata": {},
     "output_type": "execute_result"
    }
   ],
   "source": [
    "((lstm_predicts[2][:-2][100354-2:100354 + 10]) < Hs).all()\n",
    "    "
   ]
  },
  {
   "cell_type": "code",
   "execution_count": 69,
   "id": "c1204288",
   "metadata": {},
   "outputs": [
    {
     "name": "stdout",
     "output_type": "stream",
     "text": [
      "180233\n",
      "92209\n",
      "99399\n",
      "109131\n",
      "109132\n",
      "207492\n",
      "84689\n",
      "52959\n",
      "130273\n",
      "316146\n",
      "52979\n",
      "32538\n",
      "288539\n",
      "255784\n",
      "176469\n",
      "44479\n",
      "471493\n",
      "48587\n",
      "443345\n",
      "356849\n",
      "165363\n"
     ]
    }
   ],
   "source": [
    "for ind in list(dif):\n",
    "    if ((lstm_predicts[2][:-2][ind-2:ind + 10]) < Hs).all():\n",
    "        print(ind)"
   ]
  },
  {
   "cell_type": "code",
   "execution_count": 71,
   "id": "18bc1198",
   "metadata": {},
   "outputs": [
    {
     "data": {
      "text/plain": [
       "False"
      ]
     },
     "execution_count": 71,
     "metadata": {},
     "output_type": "execute_result"
    }
   ],
   "source": [
    "92209 in FN_lst"
   ]
  },
  {
   "cell_type": "code",
   "execution_count": 72,
   "id": "560956c6",
   "metadata": {},
   "outputs": [
    {
     "data": {
      "text/plain": [
       "[1284,\n",
       " 2008,\n",
       " 4178,\n",
       " 8738,\n",
       " 9183,\n",
       " 9692,\n",
       " 11030,\n",
       " 12023,\n",
       " 12387,\n",
       " 13754,\n",
       " 14363,\n",
       " 15220,\n",
       " 15674,\n",
       " 17219,\n",
       " 19964,\n",
       " 21404,\n",
       " 22335,\n",
       " 22813,\n",
       " 24366,\n",
       " 24655,\n",
       " 25093,\n",
       " 25404,\n",
       " 26096,\n",
       " 30948,\n",
       " 31197,\n",
       " 31303,\n",
       " 31611,\n",
       " 34386,\n",
       " 36927,\n",
       " 37345,\n",
       " 37512,\n",
       " 38733,\n",
       " 40333,\n",
       " 44437,\n",
       " 44556,\n",
       " 46068,\n",
       " 48586,\n",
       " 48951,\n",
       " 51346,\n",
       " 52958,\n",
       " 53412,\n",
       " 55331,\n",
       " 56894,\n",
       " 58682,\n",
       " 59246,\n",
       " 59430,\n",
       " 63982,\n",
       " 64920,\n",
       " 65338,\n",
       " 65514,\n",
       " 66849,\n",
       " 67618,\n",
       " 70162,\n",
       " 75660,\n",
       " 78739,\n",
       " 78931,\n",
       " 79369,\n",
       " 81240,\n",
       " 81903,\n",
       " 84688,\n",
       " 84914,\n",
       " 85997,\n",
       " 88042,\n",
       " 89295,\n",
       " 92208,\n",
       " 93510,\n",
       " 93589,\n",
       " 94597,\n",
       " 94834,\n",
       " 95226,\n",
       " 96247,\n",
       " 96854,\n",
       " 97765,\n",
       " 98857,\n",
       " 99398,\n",
       " 100061,\n",
       " 103487,\n",
       " 106233,\n",
       " 112850,\n",
       " 113217,\n",
       " 117434,\n",
       " 117996,\n",
       " 118386,\n",
       " 119325,\n",
       " 120556,\n",
       " 121637,\n",
       " 122109,\n",
       " 129675,\n",
       " 130272,\n",
       " 131523,\n",
       " 132433,\n",
       " 134174,\n",
       " 135552,\n",
       " 137981,\n",
       " 138412,\n",
       " 139245,\n",
       " 140003,\n",
       " 140677,\n",
       " 142498,\n",
       " 142897,\n",
       " 143066,\n",
       " 143432,\n",
       " 143550,\n",
       " 143824,\n",
       " 144289,\n",
       " 146811,\n",
       " 147140,\n",
       " 147718,\n",
       " 148316,\n",
       " 148738,\n",
       " 149618,\n",
       " 150998,\n",
       " 151323,\n",
       " 155040,\n",
       " 155792,\n",
       " 156388,\n",
       " 158764,\n",
       " 158926,\n",
       " 162705,\n",
       " 163651,\n",
       " 165362,\n",
       " 167507,\n",
       " 169830,\n",
       " 170976,\n",
       " 171057,\n",
       " 171545,\n",
       " 175171,\n",
       " 175249,\n",
       " 176366,\n",
       " 177643,\n",
       " 177899,\n",
       " 184524,\n",
       " 185479,\n",
       " 186669,\n",
       " 187042,\n",
       " 188900,\n",
       " 189962,\n",
       " 190251,\n",
       " 191266,\n",
       " 195738,\n",
       " 195933,\n",
       " 197386,\n",
       " 201372,\n",
       " 202658,\n",
       " 203831,\n",
       " 206657,\n",
       " 207028,\n",
       " 207491,\n",
       " 207715,\n",
       " 208434,\n",
       " 209051,\n",
       " 209118,\n",
       " 210557,\n",
       " 212443,\n",
       " 212966,\n",
       " 213730,\n",
       " 215040,\n",
       " 216322,\n",
       " 216919,\n",
       " 218267,\n",
       " 219798,\n",
       " 220432,\n",
       " 225409,\n",
       " 227097,\n",
       " 227811,\n",
       " 228300,\n",
       " 228633,\n",
       " 228836,\n",
       " 229084,\n",
       " 229853,\n",
       " 229906,\n",
       " 231564,\n",
       " 232465,\n",
       " 237340,\n",
       " 237501,\n",
       " 239752,\n",
       " 241161,\n",
       " 241369,\n",
       " 244115,\n",
       " 246010,\n",
       " 246164,\n",
       " 246711,\n",
       " 248357,\n",
       " 248443,\n",
       " 251280,\n",
       " 252666,\n",
       " 253466,\n",
       " 253781,\n",
       " 254395,\n",
       " 255027,\n",
       " 255579,\n",
       " 255743,\n",
       " 256217,\n",
       " 259490,\n",
       " 262538,\n",
       " 263064,\n",
       " 265847,\n",
       " 266256,\n",
       " 266776,\n",
       " 267907,\n",
       " 271450,\n",
       " 273035,\n",
       " 273191,\n",
       " 274151,\n",
       " 275811,\n",
       " 276254,\n",
       " 276332,\n",
       " 277781,\n",
       " 278533,\n",
       " 279810,\n",
       " 280543,\n",
       " 281125,\n",
       " 285815,\n",
       " 287898,\n",
       " 287964,\n",
       " 288802,\n",
       " 289034,\n",
       " 289697,\n",
       " 291397,\n",
       " 291693,\n",
       " 292617,\n",
       " 292753,\n",
       " 292938,\n",
       " 293181,\n",
       " 293798,\n",
       " 295757,\n",
       " 295850,\n",
       " 298978,\n",
       " 299140,\n",
       " 299434,\n",
       " 300356,\n",
       " 300941,\n",
       " 303548,\n",
       " 309007,\n",
       " 310159,\n",
       " 313124,\n",
       " 313176,\n",
       " 313442,\n",
       " 313996,\n",
       " 314514,\n",
       " 315088,\n",
       " 316103,\n",
       " 316212,\n",
       " 317423,\n",
       " 317581,\n",
       " 319508,\n",
       " 320924,\n",
       " 322137,\n",
       " 322840,\n",
       " 323032,\n",
       " 323206,\n",
       " 323773,\n",
       " 323978,\n",
       " 324416,\n",
       " 325158,\n",
       " 325654,\n",
       " 325751,\n",
       " 327162,\n",
       " 329662,\n",
       " 330794,\n",
       " 332914,\n",
       " 338794,\n",
       " 339945,\n",
       " 343226,\n",
       " 344154,\n",
       " 345046,\n",
       " 347800,\n",
       " 349578,\n",
       " 352765,\n",
       " 355355,\n",
       " 355731,\n",
       " 356284,\n",
       " 356848,\n",
       " 357357,\n",
       " 358223,\n",
       " 359745,\n",
       " 361253,\n",
       " 363224,\n",
       " 369966,\n",
       " 371357,\n",
       " 371757,\n",
       " 372244,\n",
       " 373048,\n",
       " 376220,\n",
       " 376874,\n",
       " 379102,\n",
       " 383556,\n",
       " 386577,\n",
       " 386662,\n",
       " 387159,\n",
       " 388479,\n",
       " 389386,\n",
       " 390523,\n",
       " 392997,\n",
       " 393428,\n",
       " 395443,\n",
       " 397855,\n",
       " 398224,\n",
       " 400346,\n",
       " 401342,\n",
       " 401456,\n",
       " 403496,\n",
       " 404086,\n",
       " 407821,\n",
       " 408739,\n",
       " 410466,\n",
       " 412032,\n",
       " 413686,\n",
       " 415936,\n",
       " 418841,\n",
       " 419194,\n",
       " 420926,\n",
       " 421009,\n",
       " 423918,\n",
       " 424133,\n",
       " 424533,\n",
       " 424992,\n",
       " 425383,\n",
       " 426272,\n",
       " 428055,\n",
       " 429985,\n",
       " 430808,\n",
       " 432293,\n",
       " 433257,\n",
       " 433711,\n",
       " 436533,\n",
       " 438561,\n",
       " 440184,\n",
       " 441891,\n",
       " 443344,\n",
       " 443827,\n",
       " 444228,\n",
       " 445128,\n",
       " 446385,\n",
       " 447677,\n",
       " 447739,\n",
       " 448312,\n",
       " 452123,\n",
       " 452532,\n",
       " 456243,\n",
       " 458546,\n",
       " 459564,\n",
       " 460555,\n",
       " 460608,\n",
       " 464053,\n",
       " 464247,\n",
       " 465717,\n",
       " 466205,\n",
       " 466462,\n",
       " 470291,\n",
       " 471439,\n",
       " 471492,\n",
       " 472990,\n",
       " 473340,\n",
       " 474884,\n",
       " 476784,\n",
       " 477151,\n",
       " 480337,\n",
       " 480471,\n",
       " 480546,\n",
       " 483325,\n",
       " 483409,\n",
       " 483679,\n",
       " 484603,\n",
       " 487076,\n",
       " 487220,\n",
       " 488772,\n",
       " 488893,\n",
       " 494950]"
      ]
     },
     "execution_count": 72,
     "metadata": {},
     "output_type": "execute_result"
    }
   ],
   "source": [
    "FN_lst"
   ]
  },
  {
   "cell_type": "code",
   "execution_count": 70,
   "id": "23df8b29",
   "metadata": {},
   "outputs": [
    {
     "data": {
      "text/plain": [
       "[<matplotlib.lines.Line2D at 0x23a0b111810>]"
      ]
     },
     "execution_count": 70,
     "metadata": {},
     "output_type": "execute_result"
    },
    {
     "data": {
      "image/png": "[encoded data removed]",
      "text/plain": [
       "<Figure size 1152x648 with 1 Axes>"
      ]
     },
     "metadata": {
      "needs_background": "light"
     },
     "output_type": "display_data"
    }
   ],
   "source": [
    "plt.figure(figsize=(16, 9))\n",
    "plt.plot(test[22:-test_right_part][92200: 92220])\n",
    "plt.plot(lstm_predicts[2][:-2][92200: 92220])"
   ]
  },
  {
   "cell_type": "code",
   "execution_count": 43,
   "id": "529d8a02",
   "metadata": {},
   "outputs": [
    {
     "data": {
      "text/plain": [
       "59"
      ]
     },
     "execution_count": 43,
     "metadata": {},
     "output_type": "execute_result"
    }
   ],
   "source": [
    "len(true_picks) - len(All_picks)"
   ]
  },
  {
   "cell_type": "code",
   "execution_count": 89,
   "id": "4167d2b9",
   "metadata": {},
   "outputs": [
    {
     "data": {
      "text/plain": [
       "6"
      ]
     },
     "execution_count": 89,
     "metadata": {},
     "output_type": "execute_result"
    }
   ],
   "source": [
    "FN"
   ]
  },
  {
   "cell_type": "code",
   "execution_count": 83,
   "id": "d0b603bf",
   "metadata": {},
   "outputs": [
    {
     "data": {
      "text/plain": [
       "1.0722118587496372"
      ]
     },
     "execution_count": 83,
     "metadata": {},
     "output_type": "execute_result"
    }
   ],
   "source": [
    "Hs"
   ]
  },
  {
   "cell_type": "code",
   "execution_count": 84,
   "id": "fd3dfb2c",
   "metadata": {},
   "outputs": [
    {
     "data": {
      "text/plain": [
       "1.1384990915406354"
      ]
     },
     "execution_count": 84,
     "metadata": {},
     "output_type": "execute_result"
    }
   ],
   "source": [
    "target[1286]"
   ]
  },
  {
   "cell_type": "code",
   "execution_count": 85,
   "id": "d4a3c65d",
   "metadata": {},
   "outputs": [
    {
     "data": {
      "text/plain": [
       "1.139992045143501"
      ]
     },
     "execution_count": 85,
     "metadata": {},
     "output_type": "execute_result"
    }
   ],
   "source": [
    "lstm_predicts[0][1286]"
   ]
  },
  {
   "cell_type": "code",
   "execution_count": 81,
   "id": "0e53765b",
   "metadata": {},
   "outputs": [
    {
     "data": {
      "text/plain": [
       "[<matplotlib.lines.Line2D at 0x163eb96e5c0>]"
      ]
     },
     "execution_count": 81,
     "metadata": {},
     "output_type": "execute_result"
    },
    {
     "data": {
      "image/png": "[encoded data removed]",
      "text/plain": [
       "<Figure size 1152x648 with 1 Axes>"
      ]
     },
     "metadata": {
      "needs_background": "light"
     },
     "output_type": "display_data"
    }
   ],
   "source": [
    "target = test[20:-test_right_part]\n",
    "\n",
    "plt.figure(figsize=(16, 9))\n",
    "plt.plot(target[1280:1290])\n",
    "plt.plot(lstm_predicts[0][1280:1290])"
   ]
  }
 ],
 "metadata": {
  "kernelspec": {
   "display_name": "Python 3 (ipykernel)",
   "language": "python",
   "name": "python3"
  },
  "language_info": {
   "codemirror_mode": {
    "name": "ipython",
    "version": 3
   },
   "file_extension": ".py",
   "mimetype": "text/x-python",
   "name": "python",
   "nbconvert_exporter": "python",
   "pygments_lexer": "ipython3",
   "version": "3.10.4"
  }
 },
 "nbformat": 4,
 "nbformat_minor": 5
}
