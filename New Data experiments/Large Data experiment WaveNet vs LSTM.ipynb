{
 "cells": [
  {
   "cell_type": "code",
   "execution_count": 8,
   "id": "fe97d619",
   "metadata": {},
   "outputs": [],
   "source": [
    "import numpy as np\n",
    "import torchvision\n",
    "import torch\n",
    "import torchvision.transforms as transforms\n",
    "from torch.utils.data.sampler import SubsetRandomSampler\n",
    "from torch import nn\n",
    "import torch.nn.functional as F\n",
    "import torch.optim as optim\n",
    "from torch.autograd import Variable\n",
    "from sklearn.preprocessing import MinMaxScaler\n",
    "import numpy as np\n",
    "import matplotlib.pyplot as plt\n",
    "from scipy.integrate import odeint\n",
    "from scipy.integrate import solve_ivp\n",
    "import matplotlib.pyplot as plt\n",
    "from torch.utils.data import DataLoader\n",
    "import math\n",
    "from IPython.display import clear_output\n",
    "from tqdm import tqdm\n",
    "%matplotlib inline"
   ]
  },
  {
   "cell_type": "code",
   "execution_count": 5,
   "id": "6d313bdf",
   "metadata": {},
   "outputs": [],
   "source": [
    "data = np.load(\"data/DK_time_series_3000000.npy\")\n",
    "\n",
    "train = data[:-500000]\n",
    "test =  data[-500000:]\n",
    "\n",
    "mean = train.mean()\n",
    "std = train.std()\n",
    "#sigmastest = np.abs(test - mean)\n",
    "train_norm = (train - mean)/std\n",
    "test_norm = (test - mean)/std\n",
    "\n",
    "train_norm = torch.FloatTensor(train_norm).view(-1)\n",
    "test_norm = torch.FloatTensor(test_norm).view(-1)"
   ]
  },
  {
   "cell_type": "code",
   "execution_count": null,
   "id": "fa878910",
   "metadata": {},
   "outputs": [],
   "source": [
    "train_window = 20\n",
    "\n",
    "def create_inout_sequences(input_data, tw):\n",
    "    inout_seq = []\n",
    "    L = len(input_data)\n",
    "    for i in range(L-tw):\n",
    "        train_seq = input_data[i:i+tw]\n",
    "        train_label = input_data[i+1:i+tw+1]\n",
    "        inout_seq.append((train_seq ,train_label))\n",
    "    return inout_seq\n",
    "\n",
    "train_inout_seq = create_inout_sequences(train_norm, train_window)\n",
    "test_inout_seq = create_inout_sequences(test_norm, train_window)"
   ]
  },
  {
   "cell_type": "code",
   "execution_count": null,
   "id": "ff807159",
   "metadata": {},
   "outputs": [],
   "source": [
    "train_dataloader = DataLoader(train_inout_seq, batch_size=10, shuffle=True, drop_last=True)\n",
    "test_dataloader = DataLoader(test_inout_seq, batch_size=10, shuffle=True, drop_last=True)"
   ]
  },
  {
   "cell_type": "code",
   "execution_count": null,
   "id": "49ccd762",
   "metadata": {},
   "outputs": [],
   "source": [
    "class PositionalEncoding(nn.Module):\n",
    "\n",
    "    def __init__(self, d_model, max_len=5000):\n",
    "        super(PositionalEncoding, self).__init__()       \n",
    "        pe = torch.zeros(max_len, d_model)\n",
    "        position = torch.arange(0, max_len, dtype=torch.float).unsqueeze(1)\n",
    "        div_term = torch.exp(torch.arange(0, d_model, 2).float() * (-math.log(10000.0) / d_model))\n",
    "        pe[:, 0::2] = torch.sin(position * div_term)\n",
    "        pe[:, 1::2] = torch.cos(position * div_term)\n",
    "        pe = pe.unsqueeze(0).transpose(0, 1)\n",
    "        #pe.requires_grad = False\n",
    "        self.register_buffer('pe', pe)\n",
    "\n",
    "    def forward(self, x):\n",
    "    \n",
    "        return x + self.pe[:x.size(0), :]\n",
    "          \n",
    "\n",
    "class TransAm(nn.Module):\n",
    "    def __init__(self,feature_size=250, nhead=10, num_layers=2,dropout=0.1):\n",
    "        super(TransAm, self).__init__()\n",
    "        self.model_type = 'Transformer'\n",
    "        \n",
    "        self.src_mask = None\n",
    "        self.pos_encoder = PositionalEncoding(feature_size)\n",
    "        self.encoder_layer = nn.TransformerEncoderLayer(d_model=feature_size, nhead=nhead, dropout=dropout)\n",
    "        self.transformer_encoder = nn.TransformerEncoder(self.encoder_layer, num_layers=num_layers)        \n",
    "        self.decoder = nn.Linear(feature_size,1)\n",
    "        self.init_weights()\n",
    "\n",
    "    def init_weights(self):\n",
    "        initrange = 0.1    \n",
    "        self.decoder.bias.data.zero_()\n",
    "        self.decoder.weight.data.uniform_(-initrange, initrange)\n",
    "\n",
    "    def forward(self,src):\n",
    "        if self.src_mask is None or self.src_mask.size(0) != len(src):\n",
    "            device = src.device\n",
    "            mask = self._generate_square_subsequent_mask(len(src)).to(device)\n",
    "            self.src_mask = mask\n",
    "        \n",
    "        #print(src.size())\n",
    "        src = self.pos_encoder(src)\n",
    "        #print(src.size())\n",
    "\n",
    "        output = self.transformer_encoder(src,self.src_mask)#, self.src_mask)\n",
    "        #print(output.size())\n",
    "        \n",
    "        output = self.decoder(output)\n",
    "        #print(output.size())\n",
    "        return output\n",
    "\n",
    "    def _generate_square_subsequent_mask(self, sz):\n",
    "        mask = (torch.triu(torch.ones(sz, sz)) == 1).transpose(0, 1)\n",
    "        mask = mask.float().masked_fill(mask == 0, float('-inf')).masked_fill(mask == 1, float(0.0))\n",
    "        return mask"
   ]
  },
  {
   "cell_type": "code",
   "execution_count": null,
   "id": "3173b13c",
   "metadata": {},
   "outputs": [],
   "source": [
    "model_trans = TransAm().to('cuda')"
   ]
  },
  {
   "cell_type": "code",
   "execution_count": null,
   "id": "5af8a005",
   "metadata": {},
   "outputs": [],
   "source": [
    "input_window = 20"
   ]
  },
  {
   "cell_type": "code",
   "execution_count": null,
   "id": "704a290e",
   "metadata": {},
   "outputs": [],
   "source": [
    "def get_batch(source, i,batch_size):\n",
    "    seq_len = min(batch_size, len(source) - 1 - i)\n",
    "    data = source[i:i+seq_len]    \n",
    "    input = torch.stack(torch.stack([item[0] for item in data]).chunk(input_window,1)) # 1 is feature size\n",
    "    target = torch.stack(torch.stack([item[1] for item in data]).chunk(input_window,1))\n",
    "    return input, target"
   ]
  },
  {
   "cell_type": "code",
   "execution_count": null,
   "id": "a175852a",
   "metadata": {},
   "outputs": [],
   "source": [
    "batch_size = 64"
   ]
  },
  {
   "cell_type": "code",
   "execution_count": null,
   "id": "2592175d",
   "metadata": {},
   "outputs": [],
   "source": [
    "def run_epoch(train_data, is_training=False):\n",
    "    epoch_loss = 0\n",
    "\n",
    "    if is_training:\n",
    "        model.train()\n",
    "    else:\n",
    "        model.eval()\n",
    "\n",
    "    for batch, i in enumerate(range(0, len(train_data) - 1, batch_size)):\n",
    "        data, targets = get_batch(train_data, i,batch_size)\n",
    "        if is_training:\n",
    "            optimizer.zero_grad()\n",
    "            \n",
    "        #print(x.size())\n",
    "        #print(y.size())\n",
    "        #x = torch.transpose(x, 0, 1).reshape((20, 10, 1)).float().to('cuda')\n",
    "        #y = y.view(-1).float().to('cuda')\n",
    "\n",
    "        out = model(data.to('cuda'))\n",
    "        loss = criterion(out, targets.to('cuda'))\n",
    "\n",
    "        if is_training:\n",
    "            loss.backward()\n",
    "            torch.nn.utils.clip_grad_norm_(model.parameters(), 0.7)\n",
    "            optimizer.step()\n",
    "\n",
    "        epoch_loss += (loss.detach().item() / batch_size)\n",
    "\n",
    "    #lr = scheduler.get_last_lr()[0]\n",
    "\n",
    "    return epoch_loss"
   ]
  },
  {
   "cell_type": "code",
   "execution_count": null,
   "id": "cadf0a06",
   "metadata": {},
   "outputs": [],
   "source": [
    "criterion = nn.MSELoss()\n",
    "lr = 0.005 \n",
    "optimizer = optim.Adam(model.parameters(), lr=lr, betas=(0.9, 0.98), eps=1e-9)\n",
    "scheduler = optim.lr_scheduler.StepLR(optimizer,  1.0, gamma=0.95)\n",
    "\n",
    "losses_train = []\n",
    "losses_test = []\n",
    "# begin training\n",
    "for epoch in range(200):\n",
    "    loss_train = run_epoch(train_inout_seq, is_training=True)\n",
    "    loss_val = run_epoch(test_inout_seq)\n",
    "    scheduler.step()\n",
    "    losses_train.append(loss_train)\n",
    "    losses_test.append(loss_val)\n",
    "    \n",
    "    clear_output(True)\n",
    "    fig = plt.figure(figsize=(10, 9))\n",
    "    \n",
    "    ax_1 = fig.add_subplot(2, 1, 1)\n",
    "    ax_2 = fig.add_subplot(2, 1, 2)\n",
    "    ax_1.set_title('train')\n",
    "    ax_1.plot(losses_train)\n",
    "    ax_2.set_title('test')\n",
    "    ax_2.plot(losses_test)\n",
    "    plt.show()\n",
    "    \n",
    "    print('Epoch[{}/{}] | loss train:{:.6f}, test:{:.6f}'\n",
    "              .format(epoch+1, 200, loss_train, loss_val))"
   ]
  },
  {
   "cell_type": "code",
   "execution_count": null,
   "id": "a9f1c0cd",
   "metadata": {},
   "outputs": [],
   "source": [
    "#torch.save(model.state_dict(), \"./TransformerChaosLarge\")"
   ]
  },
  {
   "cell_type": "code",
   "execution_count": null,
   "id": "9b7e4b7d",
   "metadata": {},
   "outputs": [],
   "source": [
    "def GetRmseTransformer(model, train_dataloader, val_dataloader, test, std, mean):\n",
    "    model.eval()\n",
    "\n",
    "    rmse = []\n",
    "    transformer_predicts = []\n",
    "    for k in tqdm(range(1, 20)):\n",
    "        test_right_part = (len(test)- 20)%64\n",
    "        predicted_val = np.array([])\n",
    "        for batch, i in enumerate(range(0, len(test_inout_seq) - 1, batch_size)):\n",
    "            data, targets = get_batch(test_inout_seq, i,batch_size)\n",
    "            if data.size()[1] < 64:\n",
    "                break\n",
    "            cur_x = data\n",
    "            for _ in range(k):\n",
    "                out = model(cur_x.to('cuda'))\n",
    "                #cur_x = torch.hstack((cur_x[:, 1:], out.cpu()))\n",
    "                cur_x = torch.vstack((cur_x[1:, :], out[-1].cpu().reshape((1, 64, 1))))\n",
    "            #out = model1(cur_x.to('cuda'))\n",
    "            #predicted_val = np.concatenate((predicted_val, out[-1, :, 0].cpu().detach().numpy()))\n",
    "            predicted_val = np.concatenate((predicted_val, cur_x[-1, :, 0].cpu().detach().numpy()))\n",
    "            \n",
    "        transformer_predicts.append(np.array(predicted_val)*std+mean)\n",
    "        \n",
    "        if k == 1:\n",
    "            r = (((np.array(predicted_val)*std+mean - np.array(test[20:-test_right_part]))**2).mean())**0.5\n",
    "        else:\n",
    "            r = (((np.array(predicted_val[:-k+1])*std+mean - np.array(test[20+k-1:-test_right_part]))**2).mean())**0.5\n",
    "        rmse.append(r)\n",
    "    return rmse, transformer_predicts"
   ]
  },
  {
   "cell_type": "code",
   "execution_count": null,
   "id": "9592fee8",
   "metadata": {},
   "outputs": [],
   "source": [
    "rmse_transformer, transformer_predicts = GetRmseTransformer(model_trans, train_dataloader, test_dataloader, test, std, mean)"
   ]
  },
  {
   "cell_type": "markdown",
   "id": "e65a6107",
   "metadata": {},
   "source": [
    "# LSTM"
   ]
  },
  {
   "cell_type": "code",
   "execution_count": 13,
   "id": "ec2d77a8",
   "metadata": {},
   "outputs": [],
   "source": [
    "class LSTMModel(nn.Module):\n",
    "    def __init__(self, input_size=1, hidden_layer_size=32, num_layers=2, output_size=1, dropout=0.2):\n",
    "        super().__init__()\n",
    "        self.hidden_layer_size = hidden_layer_size\n",
    "\n",
    "        self.linear_1 = nn.Linear(input_size, hidden_layer_size)\n",
    "        self.relu = nn.ReLU()\n",
    "        self.lstm = nn.LSTM(hidden_layer_size, hidden_size=self.hidden_layer_size, num_layers=num_layers, batch_first=True)\n",
    "        self.dropout = nn.Dropout(dropout)\n",
    "        self.linear_2 = nn.Linear(num_layers*hidden_layer_size, output_size)\n",
    "        \n",
    "\n",
    "    def forward(self, x):\n",
    "        batchsize = x.shape[0]\n",
    "\n",
    "        # layer 1\n",
    "        x = self.linear_1(x)\n",
    "        x = self.relu(x)\n",
    "        \n",
    "        # LSTM layer\n",
    "        lstm_out, (h_n, c_n) = self.lstm(x)\n",
    "\n",
    "        # Floating\n",
    "        x = h_n.permute(1, 0, 2).reshape(batchsize, -1) \n",
    "        \n",
    "        # layer 2\n",
    "        x = self.dropout(x)\n",
    "        predictions = self.linear_2(x)\n",
    "        return predictions[:,-1]"
   ]
  },
  {
   "cell_type": "code",
   "execution_count": 9,
   "id": "f20442a7",
   "metadata": {},
   "outputs": [],
   "source": [
    "lstm_train = data[:-500000]\n",
    "lstm_test =  data[-500000:]\n",
    "\n",
    "mean = lstm_train.mean()\n",
    "std = lstm_train.std()\n",
    "#sigmastest = np.abs(test - mean)\n",
    "train_norm = (lstm_train - mean)/std\n",
    "test_norm = (lstm_test - mean)/std\n",
    "\n",
    "train_norm = torch.FloatTensor(train_norm).view(-1)\n",
    "test_norm = torch.FloatTensor(test_norm).view(-1)"
   ]
  },
  {
   "cell_type": "code",
   "execution_count": 10,
   "id": "e50d8ea0",
   "metadata": {},
   "outputs": [],
   "source": [
    "train_window = 20\n",
    "\n",
    "def create_inout_sequences(input_data, tw):\n",
    "    inout_seq = []\n",
    "    L = len(input_data)\n",
    "    for i in range(L-tw):\n",
    "        train_seq = input_data[i:i+tw]\n",
    "        train_label = input_data[i+tw:i+tw+1]\n",
    "        inout_seq.append((train_seq ,train_label))\n",
    "    return inout_seq\n",
    "\n",
    "train_inout_seq = create_inout_sequences(train_norm, train_window)\n",
    "test_inout_seq = create_inout_sequences(test_norm, train_window)"
   ]
  },
  {
   "cell_type": "code",
   "execution_count": 11,
   "id": "15258f12",
   "metadata": {},
   "outputs": [],
   "source": [
    "train_dataloader = DataLoader(train_inout_seq, batch_size=64, shuffle=True, drop_last=True)\n",
    "test_dataloader = DataLoader(test_inout_seq, batch_size=64, shuffle=False, drop_last=True)"
   ]
  },
  {
   "cell_type": "code",
   "execution_count": 14,
   "id": "e84ef106",
   "metadata": {},
   "outputs": [],
   "source": [
    "model_lstm = LSTMModel(input_size=1, hidden_layer_size=100, num_layers=2, output_size=1, dropout=0.2)\n",
    "model_lstm = model_lstm.to('cuda')"
   ]
  },
  {
   "cell_type": "code",
   "execution_count": 16,
   "id": "af90f3a8",
   "metadata": {},
   "outputs": [],
   "source": [
    "def run_epoch(model, dataloader, is_training=False):\n",
    "    epoch_loss = 0\n",
    "\n",
    "    if is_training:\n",
    "        model.train()\n",
    "    else:\n",
    "        model.eval()\n",
    "\n",
    "    for idx, (x, y) in enumerate(dataloader):\n",
    "        if is_training:\n",
    "            optimizer.zero_grad()\n",
    "\n",
    "        batchsize = x.shape[0]\n",
    "\n",
    "        x = torch.reshape(x, (64, 20, 1)).to('cuda')\n",
    "        y = y.view(-1).to('cuda')\n",
    "\n",
    "        out = model(x)\n",
    "        loss = criterion(out.contiguous(), y.contiguous())\n",
    "\n",
    "        if is_training:\n",
    "            loss.backward()\n",
    "            optimizer.step()\n",
    "\n",
    "        epoch_loss += (loss.detach().item() / batchsize)\n",
    "\n",
    "\n",
    "    return epoch_loss"
   ]
  },
  {
   "cell_type": "code",
   "execution_count": null,
   "id": "4cb1da01",
   "metadata": {},
   "outputs": [
    {
     "data": {
      "image/png": "[encoded data removed]",
      "text/plain": [
       "<Figure size 720x648 with 2 Axes>"
      ]
     },
     "metadata": {
      "needs_background": "light"
     },
     "output_type": "display_data"
    },
    {
     "name": "stdout",
     "output_type": "stream",
     "text": [
      "Epoch[49/175] | loss train:1.003810, test:0.032598\n"
     ]
    }
   ],
   "source": [
    "# define optimizer and loss function\n",
    "criterion = nn.MSELoss()\n",
    "optimizer = optim.Adam(model_lstm.parameters(), lr=0.001, betas=(0.9, 0.999), eps=1e-9)\n",
    "lr = 0.001\n",
    "epochs = 175\n",
    "\n",
    "losses_train = []\n",
    "losses_test = []\n",
    "# begin training\n",
    "for epoch in range(epochs): \n",
    "    if epoch > 40:\n",
    "        lr = 0.0005\n",
    "    if epoch > 100:\n",
    "        lr = 0.0001\n",
    "    optimizer = optim.Adam(model_lstm.parameters(), lr=lr, betas=(0.9, 0.999), eps=1e-9)    \n",
    "    loss_train = run_epoch(model_lstm, train_dataloader, is_training=True)\n",
    "    loss_val = run_epoch(model_lstm, test_dataloader)\n",
    "    losses_train.append(loss_train)\n",
    "    losses_test.append(loss_val)\n",
    "    \n",
    "    clear_output(True)\n",
    "    fig = plt.figure(figsize=(10, 9))\n",
    "    \n",
    "    ax_1 = fig.add_subplot(2, 1, 1)\n",
    "    ax_2 = fig.add_subplot(2, 1, 2)\n",
    "    ax_1.set_title('train')\n",
    "    ax_1.plot(losses_train)\n",
    "    ax_2.set_title('test')\n",
    "    ax_2.plot(losses_test)\n",
    "    plt.show()\n",
    "    \n",
    "    print('Epoch[{}/{}] | loss train:{:.6f}, test:{:.6f}'\n",
    "              .format(epoch+1, epochs, loss_train, loss_val))"
   ]
  },
  {
   "cell_type": "code",
   "execution_count": null,
   "id": "0ed97f17",
   "metadata": {},
   "outputs": [],
   "source": [
    "def GetRmse(model, train_dataloader, val_dataloader, test, std, mean):\n",
    "    model.eval()\n",
    "\n",
    "    rmse = []\n",
    "    \n",
    "    lstm_predicts = []\n",
    "    for k in tqdm(range(1, 20)):\n",
    "        test_right_part = (len(lstm_test)- 20)%64\n",
    "        predicted_val = np.array([])\n",
    "        for idx, (x, y) in enumerate(val_dataloader):\n",
    "            x = torch.reshape(x, (64, 20, 1)).to('cuda')\n",
    "            cur_x = x\n",
    "            for _ in range(k):\n",
    "                out = model(cur_x.to('cuda'))\n",
    "                cur_x = torch.hstack((cur_x[:, 1:], torch.reshape(out, (64, 1, 1))))\n",
    "            predicted_val = np.concatenate((predicted_val, cur_x[:, -1, 0].cpu().detach().numpy()))\n",
    "            \n",
    "        lstm_predicts.append(np.array(predicted_val)*std+mean)\n",
    "        if k == 1:\n",
    "            r = (((np.array(predicted_val)*std+mean - np.array(lstm_test[20:-test_right_part]))**2).mean())**0.5\n",
    "        else:\n",
    "            r = (((np.array(predicted_val[:-k+1])*std+mean - np.array(lstm_test[20+k-1:-test_right_part]))**2).mean())**0.5\n",
    "        rmse.append(r)\n",
    "    return rmse, lstm_predicts"
   ]
  },
  {
   "cell_type": "code",
   "execution_count": null,
   "id": "f925c58e",
   "metadata": {},
   "outputs": [],
   "source": [
    "rmse_chaos, lstm_predicts = GetRmse(model_lstm, train_dataloader, test_dataloader, test, std, mean)"
   ]
  }
 ],
 "metadata": {
  "kernelspec": {
   "display_name": "Python 3 (ipykernel)",
   "language": "python",
   "name": "python3"
  },
  "language_info": {
   "codemirror_mode": {
    "name": "ipython",
    "version": 3
   },
   "file_extension": ".py",
   "mimetype": "text/x-python",
   "name": "python",
   "nbconvert_exporter": "python",
   "pygments_lexer": "ipython3",
   "version": "3.10.4"
  }
 },
 "nbformat": 4,
 "nbformat_minor": 5
}
