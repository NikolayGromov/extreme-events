{
 "cells": [
  {
   "cell_type": "code",
   "execution_count": 5,
   "id": "c5558340",
   "metadata": {},
   "outputs": [],
   "source": [
    "import numpy as np\n",
    "import torchvision\n",
    "import torch\n",
    "import torchvision.transforms as transforms\n",
    "from torch.utils.data.sampler import SubsetRandomSampler\n",
    "from torch import nn\n",
    "import torch.nn.functional as F\n",
    "import torch.optim as optim\n",
    "from torch.autograd import Variable\n",
    "from sklearn.preprocessing import MinMaxScaler\n",
    "import numpy as np\n",
    "import matplotlib.pyplot as plt\n",
    "from scipy.integrate import odeint\n",
    "from scipy.integrate import solve_ivp\n",
    "import matplotlib.pyplot as plt\n",
    "from torch.utils.data import DataLoader\n",
    "import math\n",
    "from IPython.display import clear_output\n",
    "from tqdm import tqdm\n",
    "import matplotlib.ticker as ticker\n",
    "from scipy.signal import argrelextrema\n",
    "%matplotlib inline"
   ]
  },
  {
   "cell_type": "code",
   "execution_count": 2,
   "id": "854eeaec",
   "metadata": {},
   "outputs": [],
   "source": [
    "data = np.load(\"data/DK_time_series_3000000.npy\")\n",
    "\n",
    "train = data[:-500000]\n",
    "test =  data[-500000:]\n",
    "\n",
    "mean = train.mean()\n",
    "std = train.std()\n",
    "#sigmastest = np.abs(test - mean)\n",
    "train_norm = (train - mean)/std\n",
    "test_norm = (test - mean)/std\n",
    "\n",
    "train_norm = torch.FloatTensor(train_norm).view(-1)\n",
    "test_norm = torch.FloatTensor(test_norm).view(-1)"
   ]
  },
  {
   "cell_type": "code",
   "execution_count": 4,
   "id": "eb79ae5a",
   "metadata": {},
   "outputs": [],
   "source": [
    "lstm_predicts = []\n",
    "for i in range(19):\n",
    "    lstm_predicts.append(np.load(\"predicts/lstm_predict_\" + str(i) + \".npy\"))"
   ]
  },
  {
   "cell_type": "code",
   "execution_count": 6,
   "id": "6e9ccffc",
   "metadata": {},
   "outputs": [],
   "source": [
    "def OnlyPeaks(time_series):\n",
    "    spikes_ind = argrelextrema(time_series, np.greater) \n",
    "    spikes = time_series[spikes_ind]\n",
    "    return spikes"
   ]
  },
  {
   "cell_type": "code",
   "execution_count": 7,
   "id": "173f325d",
   "metadata": {},
   "outputs": [],
   "source": [
    "peaks_data = OnlyPeaks(test)"
   ]
  },
  {
   "cell_type": "code",
   "execution_count": 30,
   "id": "f6b589c0",
   "metadata": {},
   "outputs": [
    {
     "data": {
      "text/plain": [
       "77"
      ]
     },
     "execution_count": 30,
     "metadata": {},
     "output_type": "execute_result"
    }
   ],
   "source": [
    "(peaks_data > mean + 6 * std).sum()"
   ]
  },
  {
   "cell_type": "code",
   "execution_count": 18,
   "id": "5c1f5f2d",
   "metadata": {},
   "outputs": [],
   "source": [
    "Hs = mean + 6 * std"
   ]
  },
  {
   "cell_type": "code",
   "execution_count": 40,
   "id": "d4c4c17b",
   "metadata": {},
   "outputs": [],
   "source": [
    "#test is test[20+k-1: -test_right_part]  \n",
    "\n",
    "test_right_part = (len(test)- 20)%64\n",
    "\n",
    "assert len(lstm_predicts[0]) == len(test[20:-test_right_part])\n",
    "\n",
    "control_test_lstm = test[20:-test_right_part]\n",
    "\n",
    "n = 50\n",
    "\n",
    "TP = 0\n",
    "i = 0\n",
    "while i < len(lstm_predicts[0]):\n",
    "    if lstm_predicts[0][i] > Hs:\n",
    "        if (test[20 + i: 20 + i + n] > Hs).any() and (test[i: 20 + i] < Hs).all():\n",
    "            i += n\n",
    "            TP += 1\n",
    "    i += 1"
   ]
  },
  {
   "cell_type": "code",
   "execution_count": 41,
   "id": "8db14fd0",
   "metadata": {},
   "outputs": [
    {
     "data": {
      "text/plain": [
       "77"
      ]
     },
     "execution_count": 41,
     "metadata": {},
     "output_type": "execute_result"
    }
   ],
   "source": [
    "TP"
   ]
  },
  {
   "cell_type": "markdown",
   "id": "0b054f2b",
   "metadata": {},
   "source": [
    "Отдельно собираю статистики, потому что шагаю на n шагов и могу что-то пропустить"
   ]
  },
  {
   "cell_type": "code",
   "execution_count": 59,
   "id": "ff1c5339",
   "metadata": {},
   "outputs": [],
   "source": [
    "FN = 0\n",
    "i = 0\n",
    "n = 50\n",
    "while i < len(lstm_predicts[0]):\n",
    "    if test[20 + i] > Hs:\n",
    "        if i > n and (lstm_predicts[0][i - n: i + 1] < Hs).all():\n",
    "            i += n\n",
    "            FN += 1\n",
    "    i += 1"
   ]
  },
  {
   "cell_type": "code",
   "execution_count": 60,
   "id": "2baa426d",
   "metadata": {},
   "outputs": [
    {
     "data": {
      "text/plain": [
       "0"
      ]
     },
     "execution_count": 60,
     "metadata": {},
     "output_type": "execute_result"
    }
   ],
   "source": [
    "FN"
   ]
  },
  {
   "cell_type": "code",
   "execution_count": 66,
   "id": "1d8339ee",
   "metadata": {},
   "outputs": [
    {
     "name": "stdout",
     "output_type": "stream",
     "text": [
      "32427\n",
      "103784\n",
      "104766\n",
      "216324\n",
      "349580\n"
     ]
    }
   ],
   "source": [
    "FP = 0\n",
    "i = 0\n",
    "n = 50\n",
    "while i < len(lstm_predicts[0]):\n",
    "    if lstm_predicts[0][i] > Hs:\n",
    "        if (test[20 + i: 20 + i + n] < Hs).all():\n",
    "            print(i)\n",
    "            i += n\n",
    "            FP += 1\n",
    "    i += 1"
   ]
  },
  {
   "cell_type": "code",
   "execution_count": 69,
   "id": "5548bcb9",
   "metadata": {},
   "outputs": [
    {
     "data": {
      "text/plain": [
       "2.4504572369804736"
      ]
     },
     "execution_count": 69,
     "metadata": {},
     "output_type": "execute_result"
    }
   ],
   "source": [
    "lstm_predicts[0][32427]"
   ]
  },
  {
   "cell_type": "code",
   "execution_count": 70,
   "id": "2b01c0de",
   "metadata": {},
   "outputs": [
    {
     "data": {
      "text/plain": [
       "2.3932986605984374"
      ]
     },
     "execution_count": 70,
     "metadata": {},
     "output_type": "execute_result"
    }
   ],
   "source": [
    "test[32447]"
   ]
  },
  {
   "cell_type": "code",
   "execution_count": 71,
   "id": "6a0e83ee",
   "metadata": {},
   "outputs": [
    {
     "data": {
      "text/plain": [
       "2.439750194428158"
      ]
     },
     "execution_count": 71,
     "metadata": {},
     "output_type": "execute_result"
    }
   ],
   "source": [
    "Hs"
   ]
  },
  {
   "cell_type": "code",
   "execution_count": 72,
   "id": "9183a34c",
   "metadata": {},
   "outputs": [
    {
     "data": {
      "text/plain": [
       "[<matplotlib.lines.Line2D at 0x248af65b340>]"
      ]
     },
     "execution_count": 72,
     "metadata": {},
     "output_type": "execute_result"
    },
    {
     "data": {
      "image/png": "[encoded data removed]",
      "text/plain": [
       "<Figure size 1152x648 with 1 Axes>"
      ]
     },
     "metadata": {
      "needs_background": "light"
     },
     "output_type": "display_data"
    }
   ],
   "source": [
    "plt.figure(figsize=(16, 9))\n",
    "plt.plot(test[103800:103810])\n",
    "plt.plot(lstm_predicts[0][103780:103790])"
   ]
  },
  {
   "cell_type": "code",
   "execution_count": 62,
   "id": "b91c6b7a",
   "metadata": {},
   "outputs": [
    {
     "data": {
      "text/plain": [
       "5"
      ]
     },
     "execution_count": 62,
     "metadata": {},
     "output_type": "execute_result"
    }
   ],
   "source": [
    "FP"
   ]
  },
  {
   "cell_type": "code",
   "execution_count": 63,
   "id": "b486a151",
   "metadata": {},
   "outputs": [
    {
     "data": {
      "text/plain": [
       "82"
      ]
     },
     "execution_count": 63,
     "metadata": {},
     "output_type": "execute_result"
    }
   ],
   "source": [
    "(lstm_predicts[0] > Hs).sum()"
   ]
  },
  {
   "cell_type": "code",
   "execution_count": 58,
   "id": "d312bd0f",
   "metadata": {},
   "outputs": [
    {
     "data": {
      "text/plain": [
       "[<matplotlib.lines.Line2D at 0x248af4fe080>]"
      ]
     },
     "execution_count": 58,
     "metadata": {},
     "output_type": "execute_result"
    },
    {
     "data": {
      "image/png": "[encoded data removed]",
      "text/plain": [
       "<Figure size 1152x648 with 1 Axes>"
      ]
     },
     "metadata": {
      "needs_background": "light"
     },
     "output_type": "display_data"
    }
   ],
   "source": [
    "plt.figure(figsize=(16, 9))\n",
    "plt.plot(test[4040:4050])\n",
    "plt.plot(lstm_predicts[0][4020:4030])"
   ]
  },
  {
   "cell_type": "code",
   "execution_count": 37,
   "id": "681f1781",
   "metadata": {},
   "outputs": [
    {
     "data": {
      "text/plain": [
       "82"
      ]
     },
     "execution_count": 37,
     "metadata": {},
     "output_type": "execute_result"
    }
   ],
   "source": [
    "(lstm_predicts[0] > Hs).sum()"
   ]
  },
  {
   "cell_type": "code",
   "execution_count": 29,
   "id": "7eb60a2b",
   "metadata": {},
   "outputs": [
    {
     "data": {
      "text/plain": [
       "False"
      ]
     },
     "execution_count": 29,
     "metadata": {},
     "output_type": "execute_result"
    }
   ],
   "source": [
    "(test < -3).any() "
   ]
  },
  {
   "cell_type": "code",
   "execution_count": 21,
   "id": "490e8bea",
   "metadata": {},
   "outputs": [
    {
     "data": {
      "text/plain": [
       "-2.641122645744558"
      ]
     },
     "execution_count": 21,
     "metadata": {},
     "output_type": "execute_result"
    }
   ],
   "source": [
    "test.min()"
   ]
  },
  {
   "cell_type": "markdown",
   "id": "b701e212",
   "metadata": {},
   "source": [
    "### WaveNet"
   ]
  },
  {
   "cell_type": "code",
   "execution_count": 73,
   "id": "8228d63d",
   "metadata": {},
   "outputs": [],
   "source": [
    "wave_net_predicts = np.load(\"predicts/wavenet_predict_all_steps.npy\")"
   ]
  },
  {
   "cell_type": "code",
   "execution_count": 75,
   "id": "f79a77f3",
   "metadata": {},
   "outputs": [],
   "source": [
    "def amp_to_int(x, n=256):\n",
    "    ### x.min must be negative\n",
    "    step = (x.max() - x.min()) / n\n",
    "    ans = np.zeros_like(x)\n",
    "    for i, val in enumerate(np.arange(x.min(), x.max(), step)):\n",
    "        for j in range(len(x)):\n",
    "            if val <= x[j] < val + step:\n",
    "                ans[j] = i\n",
    "                \n",
    "    return ans\n",
    "\n",
    "\n",
    "def int_to_amp(x, x_true, n=256):\n",
    "    ### x.min must be negative\n",
    "    step = (x_true.max() - x_true.min()) / n\n",
    "    ans = np.zeros_like(x, dtype=float)\n",
    "    #for j in range(len(x)):\n",
    "    ans = x_true.min() + x * step\n",
    "                \n",
    "    return ans        \n",
    "    "
   ]
  },
  {
   "cell_type": "code",
   "execution_count": 77,
   "id": "def79173",
   "metadata": {},
   "outputs": [],
   "source": [
    "wave_net_pred_0 = int_to_amp(wave_net_predicts[:, 1:][0], data, n=256)[:-1]"
   ]
  },
  {
   "cell_type": "code",
   "execution_count": 79,
   "id": "910cef11",
   "metadata": {},
   "outputs": [
    {
     "data": {
      "text/plain": [
       "499999"
      ]
     },
     "execution_count": 79,
     "metadata": {},
     "output_type": "execute_result"
    }
   ],
   "source": [
    "len(wave_net_pred_0)"
   ]
  },
  {
   "cell_type": "code",
   "execution_count": 110,
   "id": "dfcc3ba3",
   "metadata": {},
   "outputs": [],
   "source": [
    "#test is test[20+k-1: -test_right_part]  \n",
    "\n",
    "\n",
    "\n",
    "assert len(wave_net_pred_0) == len(test[1:])\n",
    "\n",
    "n = 50\n",
    "m = 2\n",
    "\n",
    "TP = 0\n",
    "i = n\n",
    "while i < len(wave_net_pred_0):\n",
    "    if wave_net_pred_0[i] > Hs:\n",
    "        if (test[1 + i: 1 + i + n] > Hs).any() and (test[i - m: 1 + i] < Hs).all():\n",
    "            i += n\n",
    "            TP += 1\n",
    "    i += 1"
   ]
  },
  {
   "cell_type": "code",
   "execution_count": 111,
   "id": "b8878513",
   "metadata": {},
   "outputs": [
    {
     "data": {
      "text/plain": [
       "49"
      ]
     },
     "execution_count": 111,
     "metadata": {},
     "output_type": "execute_result"
    }
   ],
   "source": [
    "TP"
   ]
  },
  {
   "cell_type": "code",
   "execution_count": 112,
   "id": "9f4e0e61",
   "metadata": {},
   "outputs": [
    {
     "name": "stdout",
     "output_type": "stream",
     "text": [
      "30969\n",
      "48608\n",
      "56915\n",
      "93531\n",
      "93610\n",
      "94205\n",
      "107238\n",
      "120577\n",
      "143648\n",
      "165384\n",
      "170684\n",
      "190471\n",
      "206995\n",
      "215806\n",
      "222047\n",
      "292456\n",
      "334203\n",
      "350697\n",
      "355376\n",
      "356870\n",
      "371095\n",
      "381073\n",
      "383054\n",
      "406503\n",
      "412053\n",
      "421758\n",
      "453397\n",
      "460900\n"
     ]
    }
   ],
   "source": [
    "FN = 0\n",
    "\n",
    "m = 2\n",
    "n = 50\n",
    "i = n\n",
    "while i < len(wave_net_pred_0):\n",
    "    if test[1 + i] > Hs:\n",
    "        if (wave_net_pred_0[i - n: i + 1] < Hs).all():\n",
    "            print(i)\n",
    "            i += n\n",
    "            FN += 1\n",
    "    i += 1"
   ]
  },
  {
   "cell_type": "code",
   "execution_count": 113,
   "id": "951fae0d",
   "metadata": {},
   "outputs": [
    {
     "data": {
      "text/plain": [
       "28"
      ]
     },
     "execution_count": 113,
     "metadata": {},
     "output_type": "execute_result"
    }
   ],
   "source": [
    "FN"
   ]
  },
  {
   "cell_type": "code",
   "execution_count": 114,
   "id": "54f92119",
   "metadata": {},
   "outputs": [
    {
     "data": {
      "text/plain": [
       "0.6363636363636364"
      ]
     },
     "execution_count": 114,
     "metadata": {},
     "output_type": "execute_result"
    }
   ],
   "source": [
    "49 / 77"
   ]
  },
  {
   "cell_type": "code",
   "execution_count": 96,
   "id": "332f7849",
   "metadata": {},
   "outputs": [
    {
     "data": {
      "text/plain": [
       "2.0777766713196337"
      ]
     },
     "execution_count": 96,
     "metadata": {},
     "output_type": "execute_result"
    }
   ],
   "source": [
    "wave_net_pred_0[30969]"
   ]
  },
  {
   "cell_type": "code",
   "execution_count": 97,
   "id": "4d6cc635",
   "metadata": {},
   "outputs": [
    {
     "data": {
      "text/plain": [
       "2.866132304556769"
      ]
     },
     "execution_count": 97,
     "metadata": {},
     "output_type": "execute_result"
    }
   ],
   "source": [
    "test[30970]"
   ]
  },
  {
   "cell_type": "code",
   "execution_count": 102,
   "id": "9a45635c",
   "metadata": {},
   "outputs": [
    {
     "data": {
      "text/plain": [
       "[<matplotlib.lines.Line2D at 0x248b8bcb310>]"
      ]
     },
     "execution_count": 102,
     "metadata": {},
     "output_type": "execute_result"
    },
    {
     "data": {
      "image/png": "[encoded data removed]",
      "text/plain": [
       "<Figure size 1152x648 with 1 Axes>"
      ]
     },
     "metadata": {
      "needs_background": "light"
     },
     "output_type": "display_data"
    }
   ],
   "source": [
    "plt.figure(figsize=(16, 9))\n",
    "plt.plot(test[30966:30981])\n",
    "plt.plot(wave_net_pred_0[30965:30980])"
   ]
  },
  {
   "cell_type": "code",
   "execution_count": 99,
   "id": "af60b8b9",
   "metadata": {},
   "outputs": [
    {
     "data": {
      "text/plain": [
       "2.439750194428158"
      ]
     },
     "execution_count": 99,
     "metadata": {},
     "output_type": "execute_result"
    }
   ],
   "source": [
    "Hs"
   ]
  },
  {
   "cell_type": "code",
   "execution_count": 100,
   "id": "dc8e016c",
   "metadata": {},
   "outputs": [
    {
     "data": {
      "text/plain": [
       "array([2.45447372, 2.48345041, 2.51242711, 2.5414038 , 2.5703805 ,\n",
       "       2.59935719, 2.62833389, 2.65731059, 2.68628728, 2.71526398,\n",
       "       2.77321737, 2.80219406, 2.88912415, 2.91810085, 2.97605424,\n",
       "       3.03400763, 3.06298433, 3.09196102, 3.14991441, 3.20786781])"
      ]
     },
     "execution_count": 100,
     "metadata": {},
     "output_type": "execute_result"
    }
   ],
   "source": [
    "np.unique(wave_net_pred_0)[np.unique(wave_net_pred_0) > Hs]"
   ]
  },
  {
   "cell_type": "code",
   "execution_count": 105,
   "id": "e56610c0",
   "metadata": {},
   "outputs": [],
   "source": [
    "FP = 0\n",
    "n = 50\n",
    "i = n\n",
    "while i < len(wave_net_pred_0):\n",
    "    if wave_net_pred_0[i] > Hs:\n",
    "        if (test[1 + i: 1 + i + n] < Hs).all():\n",
    "            i += n\n",
    "            FP += 1\n",
    "    i += 1"
   ]
  },
  {
   "cell_type": "code",
   "execution_count": 106,
   "id": "fdd93637",
   "metadata": {},
   "outputs": [
    {
     "data": {
      "text/plain": [
       "39"
      ]
     },
     "execution_count": 106,
     "metadata": {},
     "output_type": "execute_result"
    }
   ],
   "source": [
    "FP"
   ]
  },
  {
   "cell_type": "code",
   "execution_count": 81,
   "id": "c1474a0e",
   "metadata": {},
   "outputs": [
    {
     "data": {
      "text/plain": [
       "[<matplotlib.lines.Line2D at 0x248b3a0b4f0>]"
      ]
     },
     "execution_count": 81,
     "metadata": {},
     "output_type": "execute_result"
    },
    {
     "data": {
      "image/png": "[encoded data removed]",
      "text/plain": [
       "<Figure size 1152x648 with 1 Axes>"
      ]
     },
     "metadata": {
      "needs_background": "light"
     },
     "output_type": "display_data"
    }
   ],
   "source": [
    "plt.figure(figsize=(16, 9))\n",
    "plt.plot(test[4021:4031])\n",
    "plt.plot(wave_net_pred_0[4020:4030])"
   ]
  }
 ],
 "metadata": {
  "kernelspec": {
   "display_name": "Python 3 (ipykernel)",
   "language": "python",
   "name": "python3"
  },
  "language_info": {
   "codemirror_mode": {
    "name": "ipython",
    "version": 3
   },
   "file_extension": ".py",
   "mimetype": "text/x-python",
   "name": "python",
   "nbconvert_exporter": "python",
   "pygments_lexer": "ipython3",
   "version": "3.10.4"
  }
 },
 "nbformat": 4,
 "nbformat_minor": 5
}
