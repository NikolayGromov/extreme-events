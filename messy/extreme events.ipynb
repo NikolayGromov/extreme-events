{
 "cells": [
  {
   "cell_type": "code",
   "execution_count": 1,
   "metadata": {},
   "outputs": [],
   "source": [
    "import torch\n",
    "import torch.nn as nn\n",
    "import torch.nn.functional as F\n",
    "import torch.utils.data as data\n",
    "import torch.optim as optim\n",
    "import torch.optim.lr_scheduler\n",
    "import torch.nn.init\n",
    "import numpy as np"
   ]
  },
  {
   "cell_type": "code",
   "execution_count": 2,
   "metadata": {},
   "outputs": [
    {
     "ename": "ModuleNotFoundError",
     "evalue": "No module named 'config'",
     "output_type": "error",
     "traceback": [
      "\u001b[1;31m---------------------------------------------------------------------------\u001b[0m",
      "\u001b[1;31mModuleNotFoundError\u001b[0m                       Traceback (most recent call last)",
      "\u001b[1;32m<ipython-input-2-01cdcbae2783>\u001b[0m in \u001b[0;36m<module>\u001b[1;34m\u001b[0m\n\u001b[1;32m----> 1\u001b[1;33m \u001b[1;32mfrom\u001b[0m \u001b[0mconfig\u001b[0m \u001b[1;32mimport\u001b[0m \u001b[0mcfg\u001b[0m\u001b[1;33m\u001b[0m\u001b[1;33m\u001b[0m\u001b[0m\n\u001b[0m",
      "\u001b[1;31mModuleNotFoundError\u001b[0m: No module named 'config'"
     ]
    }
   ],
   "source": [
    "from config import cfg"
   ]
  },
  {
   "cell_type": "code",
   "execution_count": null,
   "metadata": {},
   "outputs": [],
   "source": [
    "def add_conv_block(in_ch=1, out_ch=1, filter_size=cfg.FIL_SIZE, dilate=1, last=False):\n",
    "        conv_1 = nn.Conv2d(in_ch, out_ch, tuple(filter_size), padding=0, dilation=dilate)\n",
    "        bn_1 = nn.BatchNorm2d(out_ch)\n",
    "\n",
    "        return [conv_1, bn_1]\n",
    "\n",
    "class MSDNet(nn.Module):\n",
    "        \"\"\"\n",
    "        Paper: A mixed-scale dense convolutional neural network for image analysis\n",
    "        Published: PNAS, Jan. 2018 \n",
    "        Paper: http://www.pnas.org/content/early/2017/12/21/1715832114\n",
    "        \"\"\"\n",
    "        @staticmethod\n",
    "        def weight_init(m):\n",
    "                if isinstance(m, nn.Linear):\n",
    "                        torch.nn.init.kaiming_normal(m, m.weight.data)\n",
    "\n",
    "        def __init__(self, num_layers=cfg.N_LAYERS, in_channels=None, out_channels=None):\n",
    "                if in_channels is None:\n",
    "                        in_channels=cfg.IN_CHANNELS\n",
    "\n",
    "                if out_channels is None:\n",
    "                        out_channels=cfg.N_CLASSES\n",
    "\n",
    "                super(MSDNet, self).__init__()\n",
    "\n",
    "                self.layer_list = add_conv_block(in_ch=in_channels)\n",
    "\n",
    "                current_in_channels = 1\n",
    "                # Add N layers\n",
    "                for i in range(num_layers):\n",
    "                        s1 = (i)%(cfg.DIL_M[0]) + 1\n",
    "                        s2 = (i)%(cfg.DIL_M[1]) + 1\n",
    "                        self.layer_list += add_conv_block(in_ch=current_in_channels, dilate=(s1,s2))\n",
    "                        current_in_channels += 1\n",
    "\n",
    "                # Add final output block\n",
    "                self.layer_list += add_conv_block(in_ch=current_in_channels + in_channels, out_ch=out_channels, filter_size=(1,1), last=True)\n",
    "\n",
    "                # Add to Module List\n",
    "                self.layers = nn.ModuleList(self.layer_list)\n",
    "\n",
    "\n",
    "        def forward(self, x):\n",
    "                prev_features = []\n",
    "                inp = x\n",
    "                fil1 = (cfg.FIL_SIZE[0]-1)/2\n",
    "                fil2 = (cfg.FIL_SIZE[1]-1)/2\n",
    "\n",
    "                for i, f in enumerate(self.layers):\n",
    "                        # Periodic & Zero paddings in x & t\n",
    "                        # Check if last conv block\n",
    "                        if i == (len(self.layers) - 2):\n",
    "                                x = torch.cat(prev_features + [inp], 1)\n",
    "                        elif (i)%2 == 0:\n",
    "                                if i > 1:\n",
    "                                    ilayer = i/2-1\n",
    "                                    s1 = int(fil1 * (ilayer%cfg.DIL_M[0] + 1))\n",
    "                                    s2 = int(fil2 * (ilayer%cfg.DIL_M[1] + 1))\n",
    "                                    x_pad = F.pad(x, (0,0, s1,s1), \"circular\")\n",
    "                                    x = F.pad(x_pad, (s2,s2, 0,0), \"replicate\") \n",
    "                                elif i == 0:\n",
    "                                    s1 = int(fil1)\n",
    "                                    s2 = int(fil2)\n",
    "                                    x_pad = F.pad(x, (0,0,s1,s1), \"circular\")\n",
    "                                    x = F.pad(x_pad, (s2,s2, 0,0), \"replicate\")\n",
    "\n",
    "\n",
    "\n",
    "                        if (i+1)%2 == 0 and (not i==(len(self.layers)-1)):\n",
    "                                x = F.relu(x)\n",
    "                                # Append output into previous features\n",
    "                                prev_features.append(x)\n",
    "                                x = torch.cat(prev_features, 1)\n",
    "\n",
    "                return x"
   ]
  },
  {
   "cell_type": "code",
   "execution_count": 5,
   "metadata": {},
   "outputs": [],
   "source": [
    "import gflags"
   ]
  }
 ],
 "metadata": {
  "kernelspec": {
   "display_name": "Python 3",
   "language": "python",
   "name": "python3"
  },
  "language_info": {
   "codemirror_mode": {
    "name": "ipython",
    "version": 3
   },
   "file_extension": ".py",
   "mimetype": "text/x-python",
   "name": "python",
   "nbconvert_exporter": "python",
   "pygments_lexer": "ipython3",
   "version": "3.8.3"
  }
 },
 "nbformat": 4,
 "nbformat_minor": 4
}
