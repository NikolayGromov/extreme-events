{
 "cells": [
  {
   "cell_type": "code",
   "execution_count": 1,
   "id": "7b0669b1",
   "metadata": {},
   "outputs": [
    {
     "name": "stderr",
     "output_type": "stream",
     "text": [
      "D:\\miniconda\\envs\\torchenv\\lib\\site-packages\\torchvision\\io\\image.py:11: UserWarning: Failed to load image Python extension: Could not find module 'D:\\miniconda\\envs\\torchenv\\Lib\\site-packages\\torchvision\\image.pyd' (or one of its dependencies). Try using the full path with constructor syntax.\n",
      "  warn(f\"Failed to load image Python extension: {e}\")\n"
     ]
    }
   ],
   "source": [
    "import numpy as np\n",
    "import pandas as pd\n",
    "import torchvision\n",
    "import torch\n",
    "import matplotlib.pyplot as plt\n",
    "import torchvision.transforms as transforms\n",
    "from torch.utils.data.sampler import SubsetRandomSampler\n",
    "from torch import nn\n",
    "import torch.nn.functional as F\n",
    "import torch.optim as optim\n",
    "from torch.autograd import Variable\n",
    "from sklearn.preprocessing import MinMaxScaler\n",
    "import numpy as np\n",
    "import matplotlib.pyplot as plt\n",
    "from scipy.integrate import odeint\n",
    "from scipy.integrate import solve_ivp\n",
    "import matplotlib.pyplot as plt\n",
    "%matplotlib inline"
   ]
  },
  {
   "cell_type": "code",
   "execution_count": 2,
   "id": "0d17d5c3",
   "metadata": {},
   "outputs": [],
   "source": [
    "a = 0.45\n",
    "b = 0.5\n",
    "gm = - 0.5\n",
    "F = 0.2\n",
    "w = 0.6423"
   ]
  },
  {
   "cell_type": "code",
   "execution_count": 3,
   "id": "8f6a00fd",
   "metadata": {},
   "outputs": [],
   "source": [
    "def Lienard(t, X):\n",
    "    x, y = X\n",
    "    return [y,\n",
    "          -a*x*y - gm * x - b*x**3 + F*np.sin(w*t)]"
   ]
  },
  {
   "cell_type": "code",
   "execution_count": 4,
   "id": "02647153",
   "metadata": {},
   "outputs": [],
   "source": [
    "data = np.loadtxt(\"./lienard_intermittency.dat\")"
   ]
  },
  {
   "cell_type": "code",
   "execution_count": 6,
   "id": "dd11bc02",
   "metadata": {},
   "outputs": [
    {
     "ename": "MemoryError",
     "evalue": "",
     "output_type": "error",
     "traceback": [
      "\u001b[1;31m---------------------------------------------------------------------------\u001b[0m",
      "\u001b[1;31mMemoryError\u001b[0m                               Traceback (most recent call last)",
      "\u001b[1;32m~\\AppData\\Local\\Temp/ipykernel_23332/1009325013.py\u001b[0m in \u001b[0;36m<module>\u001b[1;34m\u001b[0m\n\u001b[1;32m----> 1\u001b[1;33m sol = solve_ivp(Lienard, [0, 100], [1.00093500e+04, 4.32548689e-01], method= \"LSODA\",\n\u001b[0m\u001b[0;32m      2\u001b[0m                 t_eval=np.array(range(0, 100, 2)), rtol = 1e-11, atol = 1e-11, dense_output=True)\n",
      "\u001b[1;32mD:\\miniconda\\envs\\torchenv\\lib\\site-packages\\scipy\\integrate\\_ivp\\ivp.py\u001b[0m in \u001b[0;36msolve_ivp\u001b[1;34m(fun, t_span, y0, method, t_eval, dense_output, events, vectorized, args, **options)\u001b[0m\n\u001b[0;32m    636\u001b[0m \u001b[1;33m\u001b[0m\u001b[0m\n\u001b[0;32m    637\u001b[0m         \u001b[1;32mif\u001b[0m \u001b[0mt_eval\u001b[0m \u001b[1;32mis\u001b[0m \u001b[1;32mnot\u001b[0m \u001b[1;32mNone\u001b[0m \u001b[1;32mand\u001b[0m \u001b[0mdense_output\u001b[0m\u001b[1;33m:\u001b[0m\u001b[1;33m\u001b[0m\u001b[1;33m\u001b[0m\u001b[0m\n\u001b[1;32m--> 638\u001b[1;33m             \u001b[0mti\u001b[0m\u001b[1;33m.\u001b[0m\u001b[0mappend\u001b[0m\u001b[1;33m(\u001b[0m\u001b[0mt\u001b[0m\u001b[1;33m)\u001b[0m\u001b[1;33m\u001b[0m\u001b[1;33m\u001b[0m\u001b[0m\n\u001b[0m\u001b[0;32m    639\u001b[0m \u001b[1;33m\u001b[0m\u001b[0m\n\u001b[0;32m    640\u001b[0m     \u001b[0mmessage\u001b[0m \u001b[1;33m=\u001b[0m \u001b[0mMESSAGES\u001b[0m\u001b[1;33m.\u001b[0m\u001b[0mget\u001b[0m\u001b[1;33m(\u001b[0m\u001b[0mstatus\u001b[0m\u001b[1;33m,\u001b[0m \u001b[0mmessage\u001b[0m\u001b[1;33m)\u001b[0m\u001b[1;33m\u001b[0m\u001b[1;33m\u001b[0m\u001b[0m\n",
      "\u001b[1;31mMemoryError\u001b[0m: "
     ]
    }
   ],
   "source": [
    "sol = solve_ivp(Lienard, [0, 100], [1.00093500e+04, 4.32548689e-01], method= \"LSODA\",\n",
    "                t_eval=np.array(range(0, 100, 2)), rtol = 1e-11, atol = 1e-11, dense_output=True)"
   ]
  },
  {
   "cell_type": "code",
   "execution_count": 5,
   "id": "6e1cd065",
   "metadata": {},
   "outputs": [
    {
     "data": {
      "text/plain": [
       "array([[1.00093500e+04, 4.32548689e-01],\n",
       "       [1.00191400e+04, 4.32840419e-01],\n",
       "       [1.00289200e+04, 4.33159212e-01],\n",
       "       [1.00387000e+04, 4.33490921e-01],\n",
       "       [1.00484900e+04, 4.33846241e-01],\n",
       "       [1.00582700e+04, 4.34230128e-01],\n",
       "       [1.00680500e+04, 4.34635258e-01],\n",
       "       [1.00778400e+04, 4.35086041e-01],\n",
       "       [1.00876200e+04, 4.35566954e-01],\n",
       "       [1.00974100e+04, 4.36100363e-01],\n",
       "       [1.01071900e+04, 4.36682416e-01],\n",
       "       [1.01169800e+04, 4.37334005e-01],\n",
       "       [1.01267600e+04, 4.38055403e-01],\n",
       "       [1.01365500e+04, 4.38879406e-01],\n",
       "       [1.01463400e+04, 4.39811056e-01],\n",
       "       [1.01561200e+04, 4.40883366e-01],\n",
       "       [1.01659100e+04, 4.42141193e-01],\n",
       "       [1.01757000e+04, 4.43626895e-01],\n",
       "       [1.01854900e+04, 4.45413246e-01],\n",
       "       [1.01952900e+04, 4.47605721e-01]])"
      ]
     },
     "execution_count": 5,
     "metadata": {},
     "output_type": "execute_result"
    }
   ],
   "source": [
    "data[:20]"
   ]
  }
 ],
 "metadata": {
  "kernelspec": {
   "display_name": "Python 3 (ipykernel)",
   "language": "python",
   "name": "python3"
  },
  "language_info": {
   "codemirror_mode": {
    "name": "ipython",
    "version": 3
   },
   "file_extension": ".py",
   "mimetype": "text/x-python",
   "name": "python",
   "nbconvert_exporter": "python",
   "pygments_lexer": "ipython3",
   "version": "3.9.7"
  }
 },
 "nbformat": 4,
 "nbformat_minor": 5
}
