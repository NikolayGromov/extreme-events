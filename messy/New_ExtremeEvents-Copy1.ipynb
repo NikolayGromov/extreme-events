{
 "cells": [
  {
   "cell_type": "code",
   "execution_count": 1,
   "metadata": {},
   "outputs": [],
   "source": [
    "import numpy as np\n",
    "import pandas as pd\n",
    "import torchvision\n",
    "import torch\n",
    "import matplotlib.pyplot as plt\n",
    "import torchvision.transforms as transforms\n",
    "from torch.utils.data.sampler import SubsetRandomSampler\n",
    "from torch import nn\n",
    "import torch.nn.functional as F\n",
    "import torch.optim as optim\n",
    "from torch.autograd import Variable\n",
    "from sklearn.preprocessing import MinMaxScaler"
   ]
  },
  {
   "cell_type": "code",
   "execution_count": 2,
   "metadata": {},
   "outputs": [],
   "source": [
    "class LSTM(nn.Module):\n",
    "    def __init__(self, input_size=1, hidden_layer_size=100, output_size=1):\n",
    "        super().__init__()\n",
    "        self.hidden_layer_size = hidden_layer_size\n",
    "\n",
    "        self.lstm = nn.LSTM(input_size, hidden_layer_size)\n",
    "\n",
    "        self.linear = nn.Linear(hidden_layer_size, output_size)\n",
    "\n",
    "        self.hidden_cell = (torch.zeros(1,1,self.hidden_layer_size).to('cuda'),\n",
    "                            torch.zeros(1,1,self.hidden_layer_size).to('cuda'))\n",
    "\n",
    "    def forward(self, input_seq):\n",
    "        lstm_out, self.hidden_cell = self.lstm(input_seq.view(len(input_seq) ,1, -1), self.hidden_cell)\n",
    "        predictions = self.linear(lstm_out.view(len(input_seq), -1))\n",
    "        return predictions[-1]"
   ]
  },
  {
   "cell_type": "code",
   "execution_count": 3,
   "metadata": {},
   "outputs": [],
   "source": [
    "import matplotlib.pyplot as plt\n",
    "%matplotlib inline\n"
   ]
  },
  {
   "cell_type": "code",
   "execution_count": 4,
   "metadata": {},
   "outputs": [],
   "source": [
    "import numpy as np\n",
    "import matplotlib.pyplot as plt\n",
    "from scipy.integrate import odeint\n",
    "from scipy.integrate import solve_ivp"
   ]
  },
  {
   "cell_type": "code",
   "execution_count": 5,
   "metadata": {},
   "outputs": [],
   "source": [
    "a = -0.025794\n",
    "c = 0.02\n",
    "b1 = 0.0135\n",
    "b2 = 0.0065\n",
    "k = 0.129\n",
    "sigma = 1\n",
    "alpha = 0.35\n",
    "eps = 1\n",
    "beta = 10e-8\n",
    "q=1.6"
   ]
  },
  {
   "cell_type": "code",
   "execution_count": 6,
   "metadata": {},
   "outputs": [],
   "source": [
    "def FHN(self, X):\n",
    "        x1, y1, x2, y2 = X\n",
    "        return [x1*(a-x1)*(x1-1) - y1 + k*(x2-x1),\n",
    "                b1*x1 - c*y1,\n",
    "                x2*(a-x2)*(x2-1) - y2 + k*(x1-x2),\n",
    "                b2*x2 - c*y2\n",
    "               ]"
   ]
  },
  {
   "cell_type": "code",
   "execution_count": 7,
   "metadata": {},
   "outputs": [],
   "source": [
    "sol = solve_ivp(FHN, [0, 25000], [-0.1, -0.1, -0.1, -0.1], \n",
    "                t_eval=np.array(range(0, 25000, 2)), rtol = 1e-11, atol = 1e-11, dense_output=True)"
   ]
  },
  {
   "cell_type": "code",
   "execution_count": 8,
   "metadata": {},
   "outputs": [
    {
     "data": {
      "text/plain": [
       "Text(0, 0.5, 'x1')"
      ]
     },
     "execution_count": 8,
     "metadata": {},
     "output_type": "execute_result"
    },
    {
     "data": {
      "image/png": "[encoded data removed]",
      "text/plain": [
       "<Figure size 432x288 with 1 Axes>"
      ]
     },
     "metadata": {
      "needs_background": "light"
     },
     "output_type": "display_data"
    }
   ],
   "source": [
    "plt.plot(sol.t[100:10230],sol.y[0][100:10230])\n",
    "plt.xlabel('t')\n",
    "plt.ylabel('x1')"
   ]
  },
  {
   "cell_type": "code",
   "execution_count": 9,
   "metadata": {},
   "outputs": [],
   "source": [
    "train = sol.y[0][100:10218]\n",
    "test = sol.y[0][10218:] \n",
    "\n",
    "mean = train.mean()\n",
    "std = train.std()\n",
    "\n",
    "#scaler = MinMaxScaler(feature_range=(-1, 1))\n",
    "#train_norm = scaler.fit_transform(train.reshape(-1, 1))\n",
    "#test_norm = scaler.transform(test.reshape(-1, 1))\n",
    "#sigmastest = np.abs(test - mean)\n",
    "train_norm = (train - mean)/std\n",
    "test_norm = (test - mean)/std"
   ]
  },
  {
   "cell_type": "code",
   "execution_count": 10,
   "metadata": {},
   "outputs": [],
   "source": [
    "train_norm = torch.FloatTensor(train_norm).view(-1)\n",
    "test_norm = torch.FloatTensor(test_norm).view(-1)"
   ]
  },
  {
   "cell_type": "code",
   "execution_count": 14,
   "metadata": {},
   "outputs": [],
   "source": [
    "train_window = 40\n",
    "\n",
    "def create_inout_sequences(input_data, tw):\n",
    "    inout_seq = []\n",
    "    L = len(input_data)\n",
    "    for i in range(L-tw):\n",
    "        train_seq = input_data[i:i+tw]\n",
    "        train_label = input_data[i+tw:i+tw+1]\n",
    "        inout_seq.append((train_seq ,train_label))\n",
    "    return inout_seq"
   ]
  },
  {
   "cell_type": "code",
   "execution_count": 64,
   "metadata": {},
   "outputs": [],
   "source": [
    "train_inout_seq = create_inout_sequences(train_norm, train_window)"
   ]
  },
  {
   "cell_type": "code",
   "execution_count": 15,
   "metadata": {},
   "outputs": [],
   "source": [
    "from IPython.display import clear_output"
   ]
  },
  {
   "cell_type": "code",
   "execution_count": 66,
   "metadata": {},
   "outputs": [
    {
     "data": {
      "image/png": "[encoded data removed]",
      "text/plain": [
       "<Figure size 432x288 with 1 Axes>"
      ]
     },
     "metadata": {
      "needs_background": "light"
     },
     "output_type": "display_data"
    },
    {
     "name": "stdout",
     "output_type": "stream",
     "text": [
      "0.0013112978926189066\n"
     ]
    }
   ],
   "source": [
    "epochs = 5\n",
    "model = LSTM().to('cuda')\n",
    "learning_rate = 0.001\n",
    "optimizer = torch.optim.Adam(model.parameters(),lr=learning_rate)\n",
    "losses = []\n",
    "model.train()\n",
    "for i in range(epochs):\n",
    "    if i> 0 and i % 10 == 0:\n",
    "        learning_rate *= 0.5\n",
    "    epoch_loss = []\n",
    "    for seq, label in train_inout_seq:\n",
    "        optimizer = torch.optim.Adam(model.parameters(),lr=learning_rate)\n",
    "        optimizer.zero_grad()\n",
    "        model.hidden_cell = (torch.zeros(1, 1, model.hidden_layer_size).to('cuda'),\n",
    "                        torch.zeros(1, 1, model.hidden_layer_size).to('cuda'))\n",
    "        y_pred = model(seq.to('cuda'))\n",
    "\n",
    "        single_loss = nn.MSELoss()(y_pred, label.to('cuda'))\n",
    "        single_loss.backward()\n",
    "        optimizer.step()\n",
    "        epoch_loss.append(single_loss.item())\n",
    "\n",
    "        \n",
    "    clear_output(True)\n",
    "    losses.append(np.mean(epoch_loss))\n",
    "    plt.title(\"loss on train\")\n",
    "    plt.plot(losses)\n",
    "    plt.show()\n",
    "    print(losses[-1])"
   ]
  },
  {
   "cell_type": "code",
   "execution_count": 67,
   "metadata": {},
   "outputs": [],
   "source": [
    "fut_pred = 40\n",
    "\n",
    "test_inputs = train_norm[-train_window:].tolist()\n",
    "model.eval()\n",
    "\n",
    "for i in range(fut_pred):\n",
    "    seq = torch.FloatTensor(test_inputs[-train_window:]).to('cuda')\n",
    "    with torch.no_grad():\n",
    "        model.hidden = (torch.zeros(1, 1, model.hidden_layer_size).to('cuda'),\n",
    "                        torch.zeros(1, 1, model.hidden_layer_size).to('cuda'))\n",
    "        test_inputs.append(model(seq).item())"
   ]
  },
  {
   "cell_type": "code",
   "execution_count": 68,
   "metadata": {},
   "outputs": [
    {
     "data": {
      "text/plain": [
       "[<matplotlib.lines.Line2D at 0x2219e521be0>]"
      ]
     },
     "execution_count": 68,
     "metadata": {},
     "output_type": "execute_result"
    },
    {
     "data": {
      "image/png": "[encoded data removed]",
      "text/plain": [
       "<Figure size 432x288 with 1 Axes>"
      ]
     },
     "metadata": {
      "needs_background": "light"
     },
     "output_type": "display_data"
    }
   ],
   "source": [
    "plt.plot(test_inputs[40:])"
   ]
  },
  {
   "cell_type": "code",
   "execution_count": 43,
   "metadata": {},
   "outputs": [
    {
     "data": {
      "text/plain": [
       "tensor(-0.6682)"
      ]
     },
     "execution_count": 43,
     "metadata": {},
     "output_type": "execute_result"
    }
   ],
   "source": [
    "train_norm[6000:6500].min()"
   ]
  },
  {
   "cell_type": "code",
   "execution_count": 45,
   "metadata": {},
   "outputs": [
    {
     "data": {
      "text/plain": [
       "tensor([-0.2819, -0.2756, -0.2704, -0.2663, -0.2633, -0.2612, -0.2598, -0.2588,\n",
       "        -0.2577, -0.2559, -0.2521, -0.2446, -0.2304, -0.2042, -0.1556, -0.0643,\n",
       "         0.1086,  0.4111,  0.7768,  0.9720])"
      ]
     },
     "execution_count": 45,
     "metadata": {},
     "output_type": "execute_result"
    }
   ],
   "source": [
    "test_norm[:20]"
   ]
  },
  {
   "cell_type": "code",
   "execution_count": 44,
   "metadata": {},
   "outputs": [
    {
     "data": {
      "text/plain": [
       "[-0.2874065041542053,\n",
       " -0.29074883460998535,\n",
       " -0.2943924069404602,\n",
       " -0.29776573181152344,\n",
       " -0.3010562062263489,\n",
       " -0.3043469190597534,\n",
       " -0.30764907598495483,\n",
       " -0.31096363067626953,\n",
       " -0.31428903341293335,\n",
       " -0.3176223039627075,\n",
       " -0.3209591507911682,\n",
       " -0.3242942690849304,\n",
       " -0.3276214599609375,\n",
       " -0.33093345165252686,\n",
       " -0.33422207832336426,\n",
       " -0.3374784588813782,\n",
       " -0.3406928777694702,\n",
       " -0.34385526180267334,\n",
       " -0.34695547819137573,\n",
       " -0.34998297691345215]"
      ]
     },
     "execution_count": 44,
     "metadata": {},
     "output_type": "execute_result"
    }
   ],
   "source": [
    "test_inputs[20:40]"
   ]
  },
  {
   "cell_type": "code",
   "execution_count": 69,
   "metadata": {},
   "outputs": [],
   "source": [
    "true_evol = train_norm"
   ]
  },
  {
   "cell_type": "code",
   "execution_count": 70,
   "metadata": {},
   "outputs": [
    {
     "data": {
      "text/plain": [
       "10118"
      ]
     },
     "execution_count": 70,
     "metadata": {},
     "output_type": "execute_result"
    }
   ],
   "source": [
    "len(true_evol)"
   ]
  },
  {
   "cell_type": "code",
   "execution_count": 71,
   "metadata": {},
   "outputs": [],
   "source": [
    "model_test = LSTM()\n",
    "model_test.load_state_dict(model.state_dict())\n",
    "model_test.to('cuda')\n",
    "model_test.hidden_cell = (torch.zeros(1, 1, model_test.hidden_layer_size).to('cuda'),\n",
    "                        torch.zeros(1, 1, model_test.hidden_layer_size).to('cuda'))"
   ]
  },
  {
   "cell_type": "code",
   "execution_count": 72,
   "metadata": {},
   "outputs": [],
   "source": [
    "predicted = []\n",
    "\n",
    "for step in range(0, len(test_norm), train_window):\n",
    "    fut_pred = 7\n",
    "    true_evol_per_step = test_norm[step: step + train_window]\n",
    "    test_inputs = true_evol[-train_window:].tolist()\n",
    "    model_test.eval()\n",
    "    \n",
    "    for i in range(fut_pred):\n",
    "        seq = torch.FloatTensor(test_inputs[-train_window:]).to('cuda')\n",
    "        with torch.no_grad():\n",
    "            model_test.hidden = (torch.zeros(1, 1, model_test.hidden_layer_size).to('cuda'),\n",
    "                            torch.zeros(1, 1, model_test.hidden_layer_size).to('cuda'))\n",
    "            test_inputs.append(model_test(seq).item())\n",
    "    predicted += test_inputs[train_window:]\n",
    "    \n",
    "    if len(true_evol_per_step) == train_window:\n",
    "        model_test.train()\n",
    "        test_inout_seq = create_inout_sequences(true_evol_per_step, train_window)\n",
    "        for seq, labels in test_inout_seq:\n",
    "            optimizer.zero_grad()\n",
    "            model_test.hidden_cell = (torch.zeros(1, 1, model_test.hidden_layer_size).to('cuda'),\n",
    "                                torch.zeros(1, 1, model_test.hidden_layer_size).to('cuda'))\n",
    "            y_pred = model_test(seq.to('cuda'))\n",
    "\n",
    "            single_loss = nn.MSELoss()(y_pred, labels.to('cuda'))\n",
    "            single_loss.backward()\n",
    "            optimizer.step()\n",
    "    true_evol = torch.cat((true_evol, true_evol_per_step))"
   ]
  },
  {
   "cell_type": "code",
   "execution_count": 19,
   "metadata": {},
   "outputs": [],
   "source": [
    "def test_window_size(size):\n",
    "    train_inout_seq = create_inout_sequences(train_norm, size)\n",
    "    epochs = 5\n",
    "    model = LSTM().to('cuda')\n",
    "    optimizer = torch.optim.Adam(model.parameters(),lr=0.001)\n",
    "    learning_rate = 0.001\n",
    "    losses = []\n",
    "    for i in range(epochs):\n",
    "        epoch_loss = []\n",
    "        for seq, label in train_inout_seq:\n",
    "            #learning_rate *= 0.5\n",
    "            optimizer = torch.optim.Adam(model.parameters(),lr=learning_rate)\n",
    "            optimizer.zero_grad()\n",
    "            model.hidden_cell = (torch.zeros(1, 1, model.hidden_layer_size).to('cuda'),\n",
    "                            torch.zeros(1, 1, model.hidden_layer_size).to('cuda'))\n",
    "            y_pred = model(seq.to('cuda'))\n",
    "\n",
    "            single_loss = nn.MSELoss()(y_pred, label.to('cuda'))\n",
    "            single_loss.backward()\n",
    "            optimizer.step()\n",
    "            epoch_loss.append(single_loss.item())\n",
    "\n",
    "\n",
    "        clear_output(True)\n",
    "        losses.append(np.mean(epoch_loss))\n",
    "        plt.title(\"loss on train\")\n",
    "        plt.plot(losses)\n",
    "        plt.show()\n",
    "        print(losses[-1])\n",
    "\n",
    "    true_evol = train_norm\n",
    "    predicted = []\n",
    "    fut_pred = 7\n",
    "    for step in range(0, len(test_norm), fut_pred):\n",
    "        true_evol_per_step = test_norm[step: step + fut_pred]\n",
    "        test_inputs = true_evol[-size:].tolist()\n",
    "        model.eval()\n",
    "\n",
    "        for i in range(fut_pred):\n",
    "            seq = torch.FloatTensor(test_inputs[-size:]).to('cuda')\n",
    "            with torch.no_grad():\n",
    "                model.hidden = (torch.zeros(1, 1, model.hidden_layer_size).to('cuda'),\n",
    "                                torch.zeros(1, 1, model.hidden_layer_size).to('cuda'))\n",
    "                test_inputs.append(model(seq).item())\n",
    "        predicted += test_inputs[size:]\n",
    "        \n",
    "        true_evol = torch.cat((true_evol, true_evol_per_step))\n",
    "\n",
    "        \n",
    "        model.train()\n",
    "        test_inout_seq = create_inout_sequences(true_evol[-size:], size)\n",
    "        for seq, labels in test_inout_seq:\n",
    "            optimizer.zero_grad()\n",
    "            model.hidden_cell = (torch.zeros(1, 1, model.hidden_layer_size).to('cuda'),\n",
    "                                torch.zeros(1, 1, model.hidden_layer_size).to('cuda'))\n",
    "            y_pred = model(seq.to('cuda'))\n",
    "            single_loss = nn.MSELoss()(y_pred, labels.to('cuda'))\n",
    "            single_loss.backward()\n",
    "            optimizer.step()\n",
    "        \n",
    "    plt.plot(predicted)"
   ]
  },
  {
   "cell_type": "code",
   "execution_count": 20,
   "metadata": {},
   "outputs": [
    {
     "data": {
      "image/png": "[encoded data removed]",
      "text/plain": [
       "<Figure size 432x288 with 1 Axes>"
      ]
     },
     "metadata": {
      "needs_background": "light"
     },
     "output_type": "display_data"
    },
    {
     "name": "stdout",
     "output_type": "stream",
     "text": [
      "0.02382987996504236\n"
     ]
    },
    {
     "data": {
      "image/png": "[encoded data removed]",
      "text/plain": [
       "<Figure size 432x288 with 1 Axes>"
      ]
     },
     "metadata": {
      "needs_background": "light"
     },
     "output_type": "display_data"
    }
   ],
   "source": [
    "test_window_size(20)"
   ]
  },
  {
   "cell_type": "code",
   "execution_count": 21,
   "metadata": {},
   "outputs": [
    {
     "data": {
      "image/png": "[encoded data removed]",
      "text/plain": [
       "<Figure size 432x288 with 1 Axes>"
      ]
     },
     "metadata": {
      "needs_background": "light"
     },
     "output_type": "display_data"
    },
    {
     "name": "stdout",
     "output_type": "stream",
     "text": [
      "0.0018320313477858347\n"
     ]
    },
    {
     "data": {
      "image/png": "[encoded data removed]",
      "text/plain": [
       "<Figure size 432x288 with 1 Axes>"
      ]
     },
     "metadata": {
      "needs_background": "light"
     },
     "output_type": "display_data"
    }
   ],
   "source": [
    "test_window_size(30)"
   ]
  },
  {
   "cell_type": "code",
   "execution_count": 22,
   "metadata": {},
   "outputs": [
    {
     "data": {
      "image/png": "[encoded data removed]",
      "text/plain": [
       "<Figure size 432x288 with 1 Axes>"
      ]
     },
     "metadata": {
      "needs_background": "light"
     },
     "output_type": "display_data"
    },
    {
     "name": "stdout",
     "output_type": "stream",
     "text": [
      "0.006324700955278187\n"
     ]
    },
    {
     "data": {
      "image/png": "[encoded data removed]",
      "text/plain": [
       "<Figure size 432x288 with 1 Axes>"
      ]
     },
     "metadata": {
      "needs_background": "light"
     },
     "output_type": "display_data"
    }
   ],
   "source": [
    "test_window_size(40)"
   ]
  },
  {
   "cell_type": "code",
   "execution_count": 23,
   "metadata": {},
   "outputs": [
    {
     "data": {
      "image/png": "[encoded data removed]",
      "text/plain": [
       "<Figure size 432x288 with 1 Axes>"
      ]
     },
     "metadata": {
      "needs_background": "light"
     },
     "output_type": "display_data"
    },
    {
     "name": "stdout",
     "output_type": "stream",
     "text": [
      "0.010117597721922297\n"
     ]
    },
    {
     "data": {
      "image/png": "[encoded data removed]",
      "text/plain": [
       "<Figure size 432x288 with 1 Axes>"
      ]
     },
     "metadata": {
      "needs_background": "light"
     },
     "output_type": "display_data"
    }
   ],
   "source": [
    "test_window_size(50)"
   ]
  },
  {
   "cell_type": "code",
   "execution_count": 73,
   "metadata": {},
   "outputs": [
    {
     "data": {
      "text/plain": [
       "[<matplotlib.lines.Line2D at 0x221b1f804c0>]"
      ]
     },
     "execution_count": 73,
     "metadata": {},
     "output_type": "execute_result"
    },
    {
     "data": {
      "image/png": "[encoded data removed]",
      "text/plain": [
       "<Figure size 432x288 with 1 Axes>"
      ]
     },
     "metadata": {
      "needs_background": "light"
     },
     "output_type": "display_data"
    }
   ],
   "source": [
    "plt.plot(predicted)"
   ]
  },
  {
   "cell_type": "code",
   "execution_count": 252,
   "metadata": {},
   "outputs": [
    {
     "data": {
      "text/plain": [
       "12400"
      ]
     },
     "execution_count": 252,
     "metadata": {},
     "output_type": "execute_result"
    }
   ],
   "source": [
    "len(true_evol)"
   ]
  },
  {
   "cell_type": "code",
   "execution_count": 30,
   "metadata": {},
   "outputs": [
    {
     "data": {
      "text/plain": [
       "[-0.28083232045173645,\n",
       " -0.2781691253185272,\n",
       " -0.2852184474468231,\n",
       " -0.3043537139892578,\n",
       " -0.3351193964481354,\n",
       " -0.3777504563331604,\n",
       " -0.4328705668449402,\n",
       " -0.4981294870376587,\n",
       " -0.5665013790130615,\n",
       " -0.6299400329589844,\n",
       " -0.6836214661598206,\n",
       " -0.7271395325660706,\n",
       " -0.762722373008728,\n",
       " -0.7927835583686829,\n",
       " -0.8188215494155884,\n",
       " -0.8415041565895081,\n",
       " -0.8611176013946533,\n",
       " -0.8777932524681091,\n",
       " -0.8915459513664246,\n",
       " -0.9023662209510803,\n",
       " 0.8675659894943237,\n",
       " 0.7433639168739319,\n",
       " 0.61821448802948,\n",
       " 0.4537748396396637,\n",
       " 0.2378138303756714,\n",
       " -0.08138487488031387,\n",
       " -0.5449763536453247,\n",
       " -0.9311510920524597,\n",
       " -1.186600685119629,\n",
       " -1.4074485301971436,\n",
       " -1.5905563831329346,\n",
       " -1.7342748641967773,\n",
       " -1.8387929201126099,\n",
       " -1.8868147134780884,\n",
       " -1.9133301973342896,\n",
       " -1.9313915967941284,\n",
       " -1.947511076927185,\n",
       " -1.9711819887161255,\n",
       " -2.0192298889160156,\n",
       " -2.062382221221924,\n",
       " -0.9260802865028381,\n",
       " -0.9764562249183655,\n",
       " -1.051385521888733,\n",
       " -1.1313647031784058,\n",
       " -1.2180243730545044,\n",
       " -1.299889087677002,\n",
       " -1.3875054121017456,\n",
       " -1.474420428276062,\n",
       " -1.5356417894363403,\n",
       " -1.5689386129379272,\n",
       " -1.5731860399246216,\n",
       " -1.5545003414154053,\n",
       " -1.518332600593567,\n",
       " -1.4704750776290894,\n",
       " -1.4155726432800293,\n",
       " -1.3566094636917114,\n",
       " -1.295392394065857,\n",
       " -1.2329010963439941,\n",
       " -1.1696492433547974,\n",
       " -1.1059026718139648,\n",
       " -0.49065113067626953,\n",
       " -0.49526554346084595,\n",
       " -0.5128796100616455,\n",
       " -0.5382800698280334,\n",
       " -0.5668743848800659,\n",
       " -0.5949951410293579,\n",
       " -0.620140552520752,\n",
       " -0.6411857008934021,\n",
       " -0.6580671668052673,\n",
       " -0.671271800994873,\n",
       " -0.6814508438110352,\n",
       " -0.6892147660255432,\n",
       " -0.6950600147247314,\n",
       " -0.6993661522865295,\n",
       " -0.7024174332618713,\n",
       " -0.7044233083724976,\n",
       " -0.7055366039276123,\n",
       " -0.7058585286140442,\n",
       " -0.7054400444030762,\n",
       " -0.7042962908744812,\n",
       " -0.385185569524765,\n",
       " -0.4332185387611389,\n",
       " -0.5003671646118164,\n",
       " -0.574955940246582,\n",
       " -0.6445111036300659,\n",
       " -0.7024884819984436,\n",
       " -0.7482986450195312,\n",
       " -0.7844664454460144,\n",
       " -0.8136540055274963,\n",
       " -0.837675929069519,\n",
       " -0.8575552105903625,\n",
       " -0.8738210797309875,\n",
       " -0.8867876529693604,\n",
       " -0.8966521620750427,\n",
       " -0.9035816788673401,\n",
       " -0.9076955914497375,\n",
       " -0.9089767336845398,\n",
       " -0.9072696566581726,\n",
       " -0.9023844599723816,\n",
       " -0.894117534160614,\n",
       " -0.42259907722473145,\n",
       " -0.4527645707130432,\n",
       " -0.5050694346427917,\n",
       " -0.5659027695655823,\n",
       " -0.6235350370407104,\n",
       " -0.6717642545700073,\n",
       " -0.7089706063270569,\n",
       " -0.7364317178726196,\n",
       " -0.7562781572341919,\n",
       " -0.7704148888587952,\n",
       " -0.7802627086639404,\n",
       " -0.7868162989616394,\n",
       " -0.790769100189209,\n",
       " -0.7926190495491028,\n",
       " -0.7927404046058655,\n",
       " -0.7914071679115295,\n",
       " -0.7887858748435974,\n",
       " -0.7849208116531372,\n",
       " -0.7797697186470032,\n",
       " -0.7732482552528381,\n",
       " -0.5055942535400391,\n",
       " -0.5479990243911743,\n",
       " -0.6002877950668335,\n",
       " -0.6532729268074036,\n",
       " -0.7007440328598022,\n",
       " -0.7408751249313354,\n",
       " -0.7740078568458557,\n",
       " -0.8010954260826111,\n",
       " -0.8230141997337341,\n",
       " -0.8404015898704529,\n",
       " -0.8536986708641052,\n",
       " -0.8632091283798218,\n",
       " -0.8691357970237732,\n",
       " -0.8716230988502502,\n",
       " -0.8707888722419739,\n",
       " -0.8667059540748596,\n",
       " -0.8594063520431519,\n",
       " -0.848910391330719,\n",
       " -0.8352847695350647,\n",
       " -0.8186838030815125,\n",
       " -0.36473044753074646,\n",
       " -0.39657360315322876,\n",
       " -0.4525863528251648,\n",
       " -0.5215998291969299,\n",
       " -0.5913749933242798,\n",
       " -0.6531209945678711,\n",
       " -0.7027757167816162,\n",
       " -0.740768313407898,\n",
       " -0.7694827318191528,\n",
       " -0.7913439869880676,\n",
       " -0.808194637298584,\n",
       " -0.8212682008743286,\n",
       " -0.8313330411911011,\n",
       " -0.8388677835464478,\n",
       " -0.8442083597183228,\n",
       " -0.8475950956344604,\n",
       " -0.8491355776786804,\n",
       " -0.8487898111343384,\n",
       " -0.8464548587799072,\n",
       " -0.8420026898384094,\n",
       " -0.5356122255325317,\n",
       " -0.5641050934791565,\n",
       " -0.6074663400650024,\n",
       " -0.6542211174964905,\n",
       " -0.6972261667251587,\n",
       " -0.7338917851448059,\n",
       " -0.7637712359428406,\n",
       " -0.7872795462608337,\n",
       " -0.805012047290802,\n",
       " -0.8174842596054077,\n",
       " -0.825117290019989,\n",
       " -0.8282756209373474,\n",
       " -0.8273236751556396,\n",
       " -0.8226709961891174,\n",
       " -0.8147836327552795,\n",
       " -0.8041568398475647,\n",
       " -0.7912864089012146,\n",
       " -0.7766293287277222,\n",
       " -0.760593056678772,\n",
       " -0.7435497641563416,\n",
       " -0.335451602935791,\n",
       " -0.3715396523475647,\n",
       " -0.4321768283843994,\n",
       " -0.5080676078796387,\n",
       " -0.5862571001052856,\n",
       " -0.6562077403068542,\n",
       " -0.7127399444580078,\n",
       " -0.7562942504882812,\n",
       " -0.7897791266441345,\n",
       " -0.8160845637321472,\n",
       " -0.8372817039489746,\n",
       " -0.8545914888381958,\n",
       " -0.8686781525611877,\n",
       " -0.8799161911010742,\n",
       " -0.8885636329650879,\n",
       " -0.894815981388092,\n",
       " -0.8987407088279724,\n",
       " -0.9002458453178406,\n",
       " -0.8991939425468445,\n",
       " -0.8954346776008606,\n",
       " -0.4924483299255371,\n",
       " -0.5196101665496826,\n",
       " -0.5657902359962463,\n",
       " -0.6172820329666138,\n",
       " -0.6646094918251038,\n",
       " -0.7037965059280396,\n",
       " -0.7340215444564819,\n",
       " -0.7560288906097412,\n",
       " -0.770995557308197,\n",
       " -0.780082106590271,\n",
       " -0.7843335866928101,\n",
       " -0.784665048122406,\n",
       " -0.7818922400474548,\n",
       " -0.7767348289489746,\n",
       " -0.7698087692260742,\n",
       " -0.7616169452667236,\n",
       " -0.7525448203086853,\n",
       " -0.7428462505340576,\n",
       " -0.732660174369812,\n",
       " -0.7220538258552551,\n",
       " -0.3530105948448181,\n",
       " -0.3984740376472473,\n",
       " -0.46624070405960083,\n",
       " -0.5454095005989075,\n",
       " -0.6217984557151794,\n",
       " -0.6863165497779846,\n",
       " -0.736985981464386,\n",
       " -0.7764703035354614,\n",
       " -0.8080875277519226,\n",
       " -0.8341536521911621,\n",
       " -0.855960488319397,\n",
       " -0.874127984046936,\n",
       " -0.8890058398246765,\n",
       " -0.900810182094574,\n",
       " -0.9097134470939636,\n",
       " -0.9158613085746765,\n",
       " -0.9192696213722229,\n",
       " -0.919794499874115,\n",
       " -0.9172491431236267,\n",
       " -0.9114219546318054,\n",
       " -0.44056475162506104,\n",
       " -0.46902430057525635,\n",
       " -0.519214928150177,\n",
       " -0.5769292116165161,\n",
       " -0.6307397484779358,\n",
       " -0.6750051975250244,\n",
       " -0.7084633708000183,\n",
       " -0.7324559092521667,\n",
       " -0.7490524649620056,\n",
       " -0.7601216435432434,\n",
       " -0.7670928835868835,\n",
       " -0.7709948420524597,\n",
       " -0.7725655436515808,\n",
       " -0.7723429203033447,\n",
       " -0.7707245349884033,\n",
       " -0.7679943442344666,\n",
       " -0.7643299698829651,\n",
       " -0.7597922086715698,\n",
       " -0.7543497085571289,\n",
       " -0.7479244470596313,\n",
       " -0.41717851161956787,\n",
       " -0.4730396270751953,\n",
       " -0.5418130159378052,\n",
       " -0.6113012433052063,\n",
       " -0.6718589067459106,\n",
       " -0.7212598919868469,\n",
       " -0.7616025805473328,\n",
       " -0.7953850030899048,\n",
       " -0.8240376114845276,\n",
       " -0.8482853174209595,\n",
       " -0.8685305118560791,\n",
       " -0.8850474953651428,\n",
       " -0.8980632424354553,\n",
       " -0.907738983631134,\n",
       " -0.9142095446586609,\n",
       " -0.917539656162262,\n",
       " -0.917658269405365,\n",
       " -0.9143776297569275,\n",
       " -0.9074708819389343,\n",
       " -0.8966982960700989,\n",
       " -0.4013497233390808,\n",
       " -0.4303170442581177,\n",
       " -0.48268628120422363,\n",
       " -0.5451604127883911,\n",
       " -0.6056436896324158,\n",
       " -0.6570694446563721,\n",
       " -0.6970816850662231,\n",
       " -0.7267630696296692,\n",
       " -0.7483943700790405,\n",
       " -0.7641001343727112,\n",
       " -0.7754691243171692,\n",
       " -0.7835938334465027,\n",
       " -0.7892053723335266,\n",
       " -0.792799711227417,\n",
       " -0.7947323322296143,\n",
       " -0.7952538728713989,\n",
       " -0.7945025563240051,\n",
       " -0.7924876809120178,\n",
       " -0.7891337275505066,\n",
       " -0.7843251824378967,\n",
       " -0.4564494490623474,\n",
       " -0.5145425200462341,\n",
       " -0.5762034058570862,\n",
       " -0.6325586438179016,\n",
       " -0.6806847453117371,\n",
       " -0.7226324081420898,\n",
       " -0.7603067755699158,\n",
       " -0.7940089702606201,\n",
       " -0.8234529495239258,\n",
       " -0.8485368490219116,\n",
       " -0.8693820834159851,\n",
       " -0.8862099051475525,\n",
       " -0.8992416262626648,\n",
       " -0.9086393713951111,\n",
       " -0.9145117402076721,\n",
       " -0.9168731570243835,\n",
       " -0.9156240820884705,\n",
       " -0.9105823636054993,\n",
       " -0.9015387892723083,\n",
       " -0.8883107304573059,\n",
       " -0.3906613290309906,\n",
       " -0.4192383289337158,\n",
       " -0.47156834602355957,\n",
       " -0.5348297357559204,\n",
       " -0.5970075130462646,\n",
       " -0.6506494283676147,\n",
       " -0.6928796768188477,\n",
       " -0.7245074510574341,\n",
       " -0.7477802634239197,\n",
       " -0.7648878693580627,\n",
       " -0.7774950861930847,\n",
       " -0.7867515683174133,\n",
       " -0.793419361114502,\n",
       " -0.7980062365531921,\n",
       " -0.8008706569671631,\n",
       " -0.8022640347480774,\n",
       " -0.8023192882537842,\n",
       " -0.8010353446006775,\n",
       " -0.7983282208442688,\n",
       " -0.7940759658813477,\n",
       " -0.29279598593711853,\n",
       " -0.33172544836997986,\n",
       " -0.4339092969894409,\n",
       " -0.59780353307724,\n",
       " -0.7322388291358948,\n",
       " -0.7920160293579102,\n",
       " -0.8159106373786926,\n",
       " -0.8417633771896362,\n",
       " -0.8704563975334167,\n",
       " -0.8971986174583435,\n",
       " -0.9206079840660095,\n",
       " -0.9410858750343323,\n",
       " -0.9582468867301941,\n",
       " -0.9722686409950256,\n",
       " -0.9833845496177673,\n",
       " -0.9915546774864197,\n",
       " -0.9970441460609436,\n",
       " -0.9996092915534973,\n",
       " -0.998791515827179,\n",
       " -0.9942260384559631,\n",
       " -0.5090070962905884,\n",
       " -0.5336632132530212,\n",
       " -0.5772461295127869,\n",
       " -0.6250330805778503,\n",
       " -0.6675019264221191,\n",
       " -0.7007817625999451,\n",
       " -0.7241902351379395,\n",
       " -0.7387428879737854,\n",
       " -0.746034562587738,\n",
       " -0.7477721571922302,\n",
       " -0.7455261945724487,\n",
       " -0.7406061291694641,\n",
       " -0.7340556383132935,\n",
       " -0.7266514897346497,\n",
       " -0.7189321517944336,\n",
       " -0.7112428545951843,\n",
       " -0.7037789821624756,\n",
       " -0.6966107487678528,\n",
       " -0.6897113919258118,\n",
       " -0.6830006241798401,\n",
       " -0.3289461135864258,\n",
       " -0.37160974740982056,\n",
       " -0.4388684630393982,\n",
       " -0.5215815305709839,\n",
       " -0.6042402386665344,\n",
       " -0.6744575500488281,\n",
       " -0.7286688685417175,\n",
       " -0.7701258063316345,\n",
       " -0.8032739162445068,\n",
       " -0.8310021162033081,\n",
       " -0.8547034859657288,\n",
       " -0.8749213814735413,\n",
       " -0.8919119238853455,\n",
       " -0.9058317542076111,\n",
       " -0.9168110489845276,\n",
       " -0.9249827265739441,\n",
       " -0.9303794503211975,\n",
       " -0.9328574538230896,\n",
       " -0.9322267174720764,\n",
       " -0.9282825589179993,\n",
       " -0.4564771056175232,\n",
       " -0.484447181224823,\n",
       " -0.5336074233055115,\n",
       " -0.589476466178894,\n",
       " -0.6409647464752197,\n",
       " -0.6828914880752563,\n",
       " -0.7142221331596375,\n",
       " -0.7362638115882874,\n",
       " -0.7509624361991882,\n",
       " -0.760110080242157,\n",
       " -0.7651262283325195,\n",
       " -0.7670700550079346,\n",
       " -0.7667317986488342,\n",
       " -0.7647024393081665,\n",
       " -0.7614212036132812,\n",
       " -0.7572015523910522,\n",
       " -0.7522448897361755,\n",
       " -0.7466344833374023,\n",
       " -0.7403571605682373,\n",
       " -0.733349084854126,\n",
       " -0.35299283266067505,\n",
       " -0.40261489152908325,\n",
       " -0.4748731851577759,\n",
       " -0.557103157043457,\n",
       " -0.632006049156189,\n",
       " -0.6912981271743774,\n",
       " -0.7369141578674316,\n",
       " -0.774052619934082,\n",
       " -0.8059209585189819,\n",
       " -0.8336816430091858,\n",
       " -0.8577083945274353,\n",
       " -0.8781230449676514,\n",
       " -0.8950759768486023,\n",
       " -0.9087141156196594,\n",
       " -0.9191696047782898,\n",
       " -0.9265758395195007,\n",
       " -0.9309403300285339,\n",
       " -0.9320968985557556,\n",
       " -0.929835855960846,\n",
       " -0.9239253401756287,\n",
       " -0.43436336517333984,\n",
       " -0.46240198612213135,\n",
       " -0.5125647187232971,\n",
       " -0.5704749226570129,\n",
       " -0.6244725584983826,\n",
       " -0.6687173843383789,\n",
       " -0.7019167542457581,\n",
       " -0.7255375385284424,\n",
       " -0.7418109774589539,\n",
       " -0.7527239918708801,\n",
       " -0.7597609758377075,\n",
       " -0.7639575600624084,\n",
       " -0.766028642654419,\n",
       " -0.7664742469787598,\n",
       " -0.7656511068344116,\n",
       " -0.7638054490089417,\n",
       " -0.7610824704170227,\n",
       " -0.7575157284736633,\n",
       " -0.7530505061149597,\n",
       " -0.7475888729095459,\n",
       " -0.30444109439849854,\n",
       " -0.3426220118999481,\n",
       " -0.4155743718147278,\n",
       " -0.5194369554519653,\n",
       " -0.6173234581947327,\n",
       " -0.6796514987945557,\n",
       " -0.7156941890716553,\n",
       " -0.7456583380699158,\n",
       " -0.7769426703453064,\n",
       " -0.8078938126564026,\n",
       " -0.8364902138710022,\n",
       " -0.8619849681854248,\n",
       " -0.8839929699897766,\n",
       " -0.9024662375450134,\n",
       " -0.9175497889518738,\n",
       " -0.9293479323387146,\n",
       " -0.938007652759552,\n",
       " -0.9434069991111755,\n",
       " -0.945264995098114,\n",
       " -0.9433789849281311,\n",
       " -0.4795547127723694,\n",
       " -0.5056818127632141,\n",
       " -0.552038311958313,\n",
       " -0.603764533996582,\n",
       " -0.6503683924674988,\n",
       " -0.6872769594192505,\n",
       " -0.7137446403503418,\n",
       " -0.7311218976974487,\n",
       " -0.7413514256477356,\n",
       " -0.7462958097457886,\n",
       " -0.7474891543388367,\n",
       " -0.7460976839065552,\n",
       " -0.7429862022399902,\n",
       " -0.738776445388794,\n",
       " -0.7338985800743103,\n",
       " -0.7286317348480225,\n",
       " -0.723137378692627,\n",
       " -0.7174679040908813,\n",
       " -0.7115861773490906,\n",
       " -0.7054089903831482,\n",
       " -0.2973572015762329,\n",
       " -0.3326287269592285,\n",
       " -0.3958768844604492,\n",
       " -0.48481273651123047,\n",
       " -0.5815469622612,\n",
       " -0.660519540309906,\n",
       " -0.7144632935523987,\n",
       " -0.752701997756958,\n",
       " -0.7847607135772705,\n",
       " -0.8141213655471802,\n",
       " -0.8409523367881775,\n",
       " -0.8649436235427856,\n",
       " -0.8858752250671387,\n",
       " -0.9036343693733215,\n",
       " -0.9182925820350647,\n",
       " -0.929945170879364,\n",
       " -0.9386560320854187,\n",
       " -0.9443250298500061,\n",
       " -0.9467442631721497,\n",
       " -0.945720374584198,\n",
       " -0.49056029319763184,\n",
       " -0.5166752338409424,\n",
       " -0.5627409815788269,\n",
       " -0.6140497922897339,\n",
       " -0.6604667901992798,\n",
       " -0.6976581811904907,\n",
       " -0.7247833609580994,\n",
       " -0.7428771257400513,\n",
       " -0.7535579204559326,\n",
       " -0.758478045463562,\n",
       " -0.7591009736061096,\n",
       " -0.7566279768943787,\n",
       " -0.7520281672477722,\n",
       " -0.74605393409729,\n",
       " -0.739261269569397,\n",
       " -0.7320371270179749,\n",
       " -0.724628210067749,\n",
       " -0.7171499133110046,\n",
       " -0.7096112966537476,\n",
       " -0.7019612789154053,\n",
       " -0.2729216516017914,\n",
       " -0.29872673749923706,\n",
       " -0.3500787913799286,\n",
       " -0.42965638637542725,\n",
       " -0.5322901010513306,\n",
       " -0.6301805973052979,\n",
       " -0.698593020439148,\n",
       " -0.7415797710418701,\n",
       " -0.7734381556510925,\n",
       " -0.8024552464485168,\n",
       " -0.829867422580719,\n",
       " -0.8550822138786316,\n",
       " -0.8777402639389038,\n",
       " -0.8974582552909851,\n",
       " -0.9141717553138733,\n",
       " -0.9280113577842712,\n",
       " -0.9389835000038147,\n",
       " -0.9470306038856506,\n",
       " -0.9519917368888855,\n",
       " -0.9536852240562439,\n",
       " 0.7690670490264893,\n",
       " -0.20760241150856018,\n",
       " -1.5514912605285645,\n",
       " -3.912396192550659,\n",
       " -2.629350185394287,\n",
       " -3.2460978031158447,\n",
       " -2.170393943786621,\n",
       " -2.8565168380737305,\n",
       " -2.5203893184661865,\n",
       " -2.822359561920166,\n",
       " -2.4751009941101074,\n",
       " -2.474167823791504,\n",
       " -2.087631940841675,\n",
       " -2.440892219543457,\n",
       " -2.1943249702453613,\n",
       " -2.380699396133423,\n",
       " -2.089747428894043,\n",
       " -2.265376091003418,\n",
       " -2.154637098312378,\n",
       " -2.267831325531006,\n",
       " -0.7971318364143372,\n",
       " -0.782981276512146,\n",
       " -0.7939004302024841,\n",
       " -0.8348776698112488,\n",
       " -0.8869132399559021,\n",
       " -0.9368639588356018,\n",
       " -0.9792142510414124,\n",
       " -1.00161612033844,\n",
       " -1.0025179386138916,\n",
       " -0.9827457070350647,\n",
       " -0.9475528597831726,\n",
       " -0.9002459645271301,\n",
       " -0.8442088961601257,\n",
       " -0.7833961248397827,\n",
       " -0.7218096852302551,\n",
       " -0.6631941795349121,\n",
       " -0.6107994318008423,\n",
       " -0.5668310523033142,\n",
       " -0.5324954390525818,\n",
       " -0.508357584476471,\n",
       " -0.4368901252746582,\n",
       " -0.44745969772338867,\n",
       " -0.4739178419113159,\n",
       " -0.5101446509361267,\n",
       " -0.5503108501434326,\n",
       " -0.5897102355957031,\n",
       " -0.6250187158584595,\n",
       " -0.6547200083732605,\n",
       " -0.6787484884262085,\n",
       " -0.6977630257606506,\n",
       " -0.7126169204711914,\n",
       " -0.7241005301475525,\n",
       " -0.7328552007675171,\n",
       " -0.7393763065338135,\n",
       " -0.744044303894043,\n",
       " -0.747148871421814,\n",
       " -0.7489020824432373,\n",
       " -0.7494324445724487,\n",
       " -0.7487909197807312,\n",
       " -0.7469752430915833,\n",
       " -0.460726797580719,\n",
       " -0.5090678930282593,\n",
       " -0.5693522691726685,\n",
       " -0.6309576034545898,\n",
       " -0.6858477592468262,\n",
       " -0.731611967086792,\n",
       " -0.7690494060516357,\n",
       " -0.7997528314590454,\n",
       " -0.824995756149292,\n",
       " -0.845609188079834,\n",
       " -0.8621172308921814,\n",
       " -0.8748641014099121,\n",
       " -0.88407963514328,\n",
       " -0.8899224996566772,\n",
       " -0.8925219178199768,\n",
       " -0.891940176486969,\n",
       " -0.8881425857543945,\n",
       " -0.8810267448425293,\n",
       " -0.8705029487609863,\n",
       " -0.8565345406532288,\n",
       " -0.3855626583099365,\n",
       " -0.4168965220451355,\n",
       " -0.471710741519928,\n",
       " -0.5377703905105591,\n",
       " -0.6028934121131897,\n",
       " -0.6593050956726074,\n",
       " -0.7040178775787354,\n",
       " -0.7378841042518616,\n",
       " -0.7632104754447937,\n",
       " -0.7821999192237854,\n",
       " -0.7964996695518494,\n",
       " -0.8072263598442078,\n",
       " -0.815104603767395,\n",
       " -0.8206124305725098,\n",
       " -0.824094831943512,\n",
       " -0.8258002996444702,\n",
       " -0.825853705406189,\n",
       " -0.8242425322532654,\n",
       " -0.8208814263343811,\n",
       " -0.8156526684761047,\n",
       " -0.5329846143722534,\n",
       " -0.5645630359649658,\n",
       " -0.6093339323997498,\n",
       " -0.6567664742469788,\n",
       " -0.7001824975013733,\n",
       " -0.7372575998306274,\n",
       " -0.7677336931228638,\n",
       " -0.7921286225318909,\n",
       " -0.8110828399658203,\n",
       " -0.8251177668571472,\n",
       " -0.8346279859542847,\n",
       " -0.8399165272712708,\n",
       " -0.8412402868270874,\n",
       " -0.8388606309890747,\n",
       " -0.8330762982368469,\n",
       " -0.8242155909538269,\n",
       " -0.8126299381256104,\n",
       " -0.7986719012260437,\n",
       " -0.7826948165893555,\n",
       " -0.7650672793388367,\n",
       " -0.34563925862312317,\n",
       " -0.3805350661277771,\n",
       " -0.4396888017654419,\n",
       " -0.5131946206092834,\n",
       " -0.5884703993797302,\n",
       " -0.6556743383407593,\n",
       " -0.710020899772644,\n",
       " -0.7518908977508545,\n",
       " -0.7839507460594177,\n",
       " -0.8088947534561157,\n",
       " -0.8287132978439331,\n",
       " -0.8446484804153442,\n",
       " -0.8574090600013733,\n",
       " -0.8674069046974182,\n",
       " -0.8749278783798218,\n",
       " -0.8801828026771545,\n",
       " -0.8832489252090454,\n",
       " -0.8840490579605103,\n",
       " -0.8824570178985596,\n",
       " -0.8783302307128906,\n",
       " -0.5006126761436462,\n",
       " -0.5279930233955383,\n",
       " -0.5735669732093811,\n",
       " -0.6240766048431396,\n",
       " -0.6705436706542969,\n",
       " -0.7093156576156616,\n",
       " -0.7396657466888428,\n",
       " -0.7622486352920532,\n",
       " -0.778073251247406,\n",
       " -0.7881080508232117,\n",
       " -0.7932223677635193,\n",
       " -0.7941979765892029,\n",
       " -0.7917641997337341,\n",
       " -0.7866013050079346,\n",
       " -0.7793250679969788,\n",
       " -0.7704668641090393,\n",
       " -0.7604594826698303,\n",
       " -0.7496148347854614,\n",
       " -0.738134503364563,\n",
       " -0.7261486649513245,\n",
       " -0.35835736989974976,\n",
       " -0.40255385637283325,\n",
       " -0.468658447265625,\n",
       " -0.5458579063415527,\n",
       " -0.6207340955734253,\n",
       " -0.6846063137054443,\n",
       " -0.7351446151733398,\n",
       " -0.7744518518447876,\n",
       " -0.8055846691131592,\n",
       " -0.8308883309364319,\n",
       " -0.8517826199531555,\n",
       " -0.8690057396888733,\n",
       " -0.8829691410064697,\n",
       " -0.893920361995697,\n",
       " -0.9020525813102722,\n",
       " -0.9075189232826233,\n",
       " -0.9103404879570007,\n",
       " -0.9103845953941345,\n",
       " -0.9074757695198059,\n",
       " -0.9014149308204651,\n",
       " -0.4419143795967102,\n",
       " -0.47064805030822754,\n",
       " -0.5208929777145386,\n",
       " -0.5785908699035645,\n",
       " -0.6324418187141418,\n",
       " -0.6768873929977417,\n",
       " -0.7106723785400391,\n",
       " -0.7350821495056152,\n",
       " -0.7521130442619324,\n",
       " -0.763569712638855,\n",
       " -0.7708402276039124,\n",
       " -0.7749329805374146,\n",
       " -0.7765812277793884,\n",
       " -0.7763285636901855,\n",
       " -0.7745839953422546,\n",
       " -0.7716453671455383,\n",
       " -0.7677039504051208,\n",
       " -0.7628326416015625,\n",
       " -0.757011353969574,\n",
       " -0.7501726150512695,\n",
       " -0.4475674629211426,\n",
       " -0.5009956359863281,\n",
       " -0.5650908946990967,\n",
       " -0.6292690634727478,\n",
       " -0.6856814026832581,\n",
       " -0.7323324680328369,\n",
       " -0.7704982161521912,\n",
       " -0.8020275235176086,\n",
       " -0.8282387256622314,\n",
       " -0.8499444127082825,\n",
       " -0.8676413297653198,\n",
       " -0.8816587328910828,\n",
       " -0.8922279477119446,\n",
       " -0.8995071053504944,\n",
       " -0.9036157727241516,\n",
       " -0.9045937657356262,\n",
       " -0.9023628830909729,\n",
       " -0.8967506289482117,\n",
       " -0.8875671625137329,\n",
       " -0.8746501803398132,\n",
       " -0.38848206400871277,\n",
       " -0.41815876960754395,\n",
       " -0.4716295599937439,\n",
       " -0.5362657308578491,\n",
       " -0.5998889803886414,\n",
       " -0.6548473834991455,\n",
       " -0.6982021927833557,\n",
       " -0.7307927012443542,\n",
       " -0.7549073100090027,\n",
       " -0.7727525234222412,\n",
       " -0.7859932780265808,\n",
       " -0.7957719564437866,\n",
       " -0.8028420209884644,\n",
       " -0.8077050447463989,\n",
       " -0.8107191920280457,\n",
       " -0.8121390342712402,\n",
       " -0.81209796667099,\n",
       " -0.8105926513671875,\n",
       " -0.8075398206710815,\n",
       " -0.8028199672698975,\n",
       " -0.5462190508842468,\n",
       " -0.5886979699134827,\n",
       " -0.6369954943656921,\n",
       " -0.6842503547668457,\n",
       " -0.7267760038375854,\n",
       " -0.7637631893157959,\n",
       " -0.795295000076294,\n",
       " -0.821674644947052,\n",
       " -0.843271017074585,\n",
       " -0.8604387044906616,\n",
       " -0.8734725713729858,\n",
       " -0.8825852870941162,\n",
       " -0.8879015445709229,\n",
       " -0.889484703540802,\n",
       " -0.8873642683029175,\n",
       " -0.8815256357192993,\n",
       " -0.8719456195831299,\n",
       " -0.858650803565979,\n",
       " -0.8417883515357971,\n",
       " -0.8216668963432312,\n",
       " -0.3499162793159485,\n",
       " -0.3798830211162567,\n",
       " -0.43492311239242554,\n",
       " -0.5045416951179504,\n",
       " -0.576714277267456,\n",
       " -0.6419528126716614,\n",
       " -0.6950818300247192,\n",
       " -0.7358933687210083,\n",
       " -0.7666981220245361,\n",
       " -0.7901002764701843,\n",
       " -0.8081578016281128,\n",
       " -0.8222745656967163,\n",
       " -0.8333225846290588,\n",
       " -0.8418310284614563,\n",
       " -0.8481574058532715,\n",
       " -0.8525530695915222,\n",
       " -0.8551294207572937,\n",
       " -0.8558424711227417,\n",
       " -0.8545864224433899,\n",
       " -0.8512334227561951,\n",
       " -0.5885376334190369,\n",
       " -0.6216993927955627,\n",
       " -0.6629570722579956,\n",
       " -0.7049591541290283,\n",
       " -0.7438926100730896,\n",
       " -0.7783008217811584,\n",
       " -0.8076184391975403,\n",
       " -0.8318129777908325,\n",
       " -0.8511244058609009,\n",
       " -0.8658361434936523,\n",
       " -0.876168429851532,\n",
       " -0.8822529315948486,\n",
       " -0.8841495513916016,\n",
       " -0.8818833231925964,\n",
       " -0.8754866123199463,\n",
       " -0.8650334477424622,\n",
       " -0.8507119417190552,\n",
       " -0.8328551650047302,\n",
       " -0.8119414448738098,\n",
       " -0.7885778546333313,\n",
       " -0.33251166343688965,\n",
       " -0.3620932996273041,\n",
       " -0.4171413779258728,\n",
       " -0.4883961081504822,\n",
       " -0.5641801357269287,\n",
       " -0.6342025995254517,\n",
       " -0.6920510530471802,\n",
       " -0.7368147373199463,\n",
       " -0.7707511782646179,\n",
       " -0.7966845631599426,\n",
       " -0.816912055015564,\n",
       " -0.8329938054084778,\n",
       " -0.8458672761917114,\n",
       " -0.8560757040977478,\n",
       " -0.8639729619026184,\n",
       " -0.8698056936264038,\n",
       " -0.8736782670021057,\n",
       " -0.8755356669425964,\n",
       " -0.8752685785293579,\n",
       " -0.8727536201477051,\n",
       " -0.5384365916252136,\n",
       " -0.5873062014579773,\n",
       " -0.6270772218704224,\n",
       " -0.6631366610527039,\n",
       " -0.7019343972206116,\n",
       " -0.7422215938568115,\n",
       " -0.7801511287689209,\n",
       " -0.81348717212677,\n",
       " -0.841618001461029,\n",
       " -0.8647034168243408,\n",
       " -0.8831217885017395,\n",
       " -0.8972324728965759,\n",
       " -0.9072907567024231,\n",
       " -0.9134309887886047,\n",
       " -0.9156845211982727,\n",
       " -0.91399747133255,\n",
       " -0.9082656502723694,\n",
       " -0.8983386158943176,\n",
       " -0.8841015100479126,\n",
       " -0.865600049495697,\n",
       " -0.3822355568408966,\n",
       " -0.4101678729057312,\n",
       " -0.46171414852142334,\n",
       " -0.5248396992683411,\n",
       " -0.5880222916603088,\n",
       " -0.6435949802398682,\n",
       " -0.688065230846405,\n",
       " -0.7217918038368225,\n",
       " -0.7468664050102234,\n",
       " -0.7654938697814941,\n",
       " -0.7794056534767151,\n",
       " -0.7898156046867371,\n",
       " -0.7975276112556458,\n",
       " -0.8030696511268616,\n",
       " -0.8068091869354248,\n",
       " -0.809001088142395,\n",
       " -0.809776782989502,\n",
       " -0.8091297149658203,\n",
       " -0.8069727420806885,\n",
       " -0.8031823039054871,\n",
       " -0.5133748650550842,\n",
       " -0.5655199885368347,\n",
       " -0.6174814105033875,\n",
       " -0.6649059057235718,\n",
       " -0.7076637744903564,\n",
       " -0.7467760443687439,\n",
       " -0.7821520566940308,\n",
       " -0.8132205009460449,\n",
       " -0.8396921753883362,\n",
       " -0.8616445660591125,\n",
       " -0.8793128132820129,\n",
       " -0.8929453492164612,\n",
       " -0.9027286171913147,\n",
       " -0.9087671637535095,\n",
       " -0.9111009240150452,\n",
       " -0.9096824526786804,\n",
       " -0.9043871760368347,\n",
       " -0.8950560688972473,\n",
       " -0.881584107875824,\n",
       " -0.8640109300613403,\n",
       " -0.3711254298686981,\n",
       " -0.39996790885925293,\n",
       " -0.45326942205429077,\n",
       " -0.5192641615867615,\n",
       " -0.5859577059745789,\n",
       " -0.6449695229530334,\n",
       " -0.6923277378082275,\n",
       " -0.7283216118812561,\n",
       " -0.755182683467865,\n",
       " -0.7752681970596313,\n",
       " -0.7904179692268372,\n",
       " -0.8019068241119385,\n",
       " -0.8105635046958923,\n",
       " -0.8169209957122803,\n",
       " -0.8213486671447754,\n",
       " -0.8241050243377686,\n",
       " -0.8253170251846313,\n",
       " -0.8249651193618774,\n",
       " -0.8229550123214722,\n",
       " -0.8191595673561096,\n",
       " -0.2875927686691284,\n",
       " -0.328019917011261,\n",
       " -0.4515112638473511,\n",
       " -0.6594365835189819,\n",
       " -0.8311217427253723,\n",
       " -0.9036306738853455,\n",
       " -0.9280219674110413,\n",
       " -0.9490117430686951,\n",
       " -0.9712134003639221,\n",
       " -0.9918712973594666,\n",
       " -1.0099241733551025,\n",
       " -1.0256760120391846,\n",
       " -1.0384858846664429,\n",
       " -1.0486338138580322,\n",
       " -1.0563299655914307,\n",
       " -1.0614744424819946,\n",
       " -1.0643231868743896,\n",
       " -1.0646508932113647,\n",
       " -1.061995029449463,\n",
       " -1.0557667016983032,\n",
       " -0.5321093201637268,\n",
       " -0.5558804869651794,\n",
       " -0.5978002548217773,\n",
       " -0.6433172821998596,\n",
       " -0.6836014986038208,\n",
       " -0.7152940630912781,\n",
       " -0.7377093434333801,\n",
       " -0.7514725923538208,\n",
       " -0.757739782333374,\n",
       " -0.7579414248466492,\n",
       " -0.7535808086395264,\n",
       " -0.746057391166687,\n",
       " -0.7365990281105042,\n",
       " -0.7261883616447449,\n",
       " -0.7155410647392273,\n",
       " -0.7051368355751038,\n",
       " -0.6952636241912842,\n",
       " -0.686052680015564,\n",
       " -0.677515983581543,\n",
       " -0.6695922017097473,\n",
       " ...]"
      ]
     },
     "execution_count": 30,
     "metadata": {},
     "output_type": "execute_result"
    }
   ],
   "source": [
    "predicted"
   ]
  },
  {
   "cell_type": "code",
   "execution_count": 31,
   "metadata": {},
   "outputs": [
    {
     "data": {
      "text/plain": [
       "[<matplotlib.lines.Line2D at 0x1ed7bd36a30>]"
      ]
     },
     "execution_count": 31,
     "metadata": {},
     "output_type": "execute_result"
    },
    {
     "data": {
      "image/png": "[encoded data removed]",
      "text/plain": [
       "<Figure size 432x288 with 1 Axes>"
      ]
     },
     "metadata": {
      "needs_background": "light"
     },
     "output_type": "display_data"
    }
   ],
   "source": [
    "plt.plot(train_norm)"
   ]
  },
  {
   "cell_type": "code",
   "execution_count": 11,
   "metadata": {},
   "outputs": [
    {
     "data": {
      "text/plain": [
       "[<matplotlib.lines.Line2D at 0x19d411ccdf0>]"
      ]
     },
     "execution_count": 11,
     "metadata": {},
     "output_type": "execute_result"
    },
    {
     "data": {
      "image/png": "[encoded data removed]",
      "text/plain": [
       "<Figure size 432x288 with 1 Axes>"
      ]
     },
     "metadata": {
      "needs_background": "light"
     },
     "output_type": "display_data"
    }
   ],
   "source": [
    "plt.plot(test_norm)"
   ]
  },
  {
   "cell_type": "code",
   "execution_count": 29,
   "metadata": {},
   "outputs": [
    {
     "data": {
      "text/plain": [
       "[<matplotlib.lines.Line2D at 0x1ed0328f6a0>]"
      ]
     },
     "execution_count": 29,
     "metadata": {},
     "output_type": "execute_result"
    },
    {
     "data": {
      "image/png": "[encoded data removed]",
      "text/plain": [
       "<Figure size 432x288 with 1 Axes>"
      ]
     },
     "metadata": {
      "needs_background": "light"
     },
     "output_type": "display_data"
    }
   ],
   "source": [
    "plt.plot(predicted)"
   ]
  },
  {
   "cell_type": "code",
   "execution_count": 288,
   "metadata": {},
   "outputs": [
    {
     "data": {
      "text/plain": [
       "[0.7254955768585205,\n",
       " 0.759441077709198,\n",
       " 0.8165570497512817,\n",
       " 0.9066677689552307,\n",
       " 1.0596500635147095,\n",
       " 1.3597785234451294,\n",
       " 2.053805351257324,\n",
       " 3.542520523071289,\n",
       " 5.817389011383057,\n",
       " 7.216159820556641,\n",
       " 7.410839557647705,\n",
       " 7.430907726287842,\n",
       " 7.428900718688965,\n",
       " 7.428427696228027,\n",
       " 7.42883825302124,\n",
       " 7.428889274597168,\n",
       " 7.428878307342529,\n",
       " 7.428896903991699,\n",
       " 7.428868770599365,\n",
       " 7.428895950317383,\n",
       " 7.364964485168457,\n",
       " 7.422447681427002,\n",
       " 7.4313249588012695,\n",
       " 7.429101467132568,\n",
       " 7.428415298461914,\n",
       " 6.4967942237854,\n",
       " 6.403209209442139,\n",
       " 6.394354820251465,\n",
       " 5.8704328536987305,\n",
       " 5.772806644439697,\n",
       " 5.774835586547852,\n",
       " 5.771492004394531,\n",
       " 5.772113800048828,\n",
       " 4.77903413772583,\n",
       " 4.435580730438232,\n",
       " 4.254242420196533,\n",
       " 4.127035140991211,\n",
       " 4.041009426116943,\n",
       " 4.017014503479004,\n",
       " 4.00699520111084,\n",
       " -2.221782684326172,\n",
       " -2.3046770095825195,\n",
       " -2.378777503967285,\n",
       " -2.4135990142822266,\n",
       " -2.271876811981201,\n",
       " -2.0543274879455566,\n",
       " -1.7386926412582397,\n",
       " -1.556733250617981,\n",
       " -1.5152684450149536,\n",
       " -1.4920154809951782,\n",
       " -1.4453860521316528,\n",
       " -1.4004017114639282,\n",
       " -1.3643935918807983,\n",
       " -1.3367160558700562,\n",
       " -1.3154751062393188,\n",
       " -1.2995682954788208,\n",
       " -1.2879329919815063,\n",
       " -1.2796965837478638,\n",
       " -1.2741450071334839,\n",
       " -1.2707198858261108]"
      ]
     },
     "execution_count": 288,
     "metadata": {},
     "output_type": "execute_result"
    }
   ],
   "source": [
    "predicted[540:600]"
   ]
  },
  {
   "cell_type": "code",
   "execution_count": 255,
   "metadata": {},
   "outputs": [
    {
     "data": {
      "text/plain": [
       "2300"
      ]
     },
     "execution_count": 255,
     "metadata": {},
     "output_type": "execute_result"
    }
   ],
   "source": [
    "len(predicted)"
   ]
  },
  {
   "cell_type": "code",
   "execution_count": 256,
   "metadata": {},
   "outputs": [
    {
     "data": {
      "text/plain": [
       "2282"
      ]
     },
     "execution_count": 256,
     "metadata": {},
     "output_type": "execute_result"
    }
   ],
   "source": [
    "(len(test))"
   ]
  },
  {
   "cell_type": "code",
   "execution_count": 275,
   "metadata": {},
   "outputs": [
    {
     "data": {
      "text/plain": [
       "[<matplotlib.lines.Line2D at 0x1de73800880>]"
      ]
     },
     "execution_count": 275,
     "metadata": {},
     "output_type": "execute_result"
    },
    {
     "data": {
      "image/png": "[encoded data removed]",
      "text/plain": [
       "<Figure size 432x288 with 1 Axes>"
      ]
     },
     "metadata": {
      "needs_background": "light"
     },
     "output_type": "display_data"
    }
   ],
   "source": [
    "plt.plot(test[540:600])"
   ]
  },
  {
   "cell_type": "code",
   "execution_count": 233,
   "metadata": {},
   "outputs": [
    {
     "data": {
      "text/plain": [
       "tensor(7.2043)"
      ]
     },
     "execution_count": 233,
     "metadata": {},
     "output_type": "execute_result"
    }
   ],
   "source": [
    "train_norm.max()"
   ]
  },
  {
   "cell_type": "code",
   "execution_count": 17,
   "metadata": {},
   "outputs": [
    {
     "data": {
      "text/plain": [
       "tensor(0.7050)"
      ]
     },
     "execution_count": 17,
     "metadata": {},
     "output_type": "execute_result"
    }
   ],
   "source": [
    "train_norm[6000:6500].max()"
   ]
  },
  {
   "cell_type": "code",
   "execution_count": 15,
   "metadata": {},
   "outputs": [
    {
     "data": {
      "text/plain": [
       "[0.616908073425293,\n",
       " 0.6662673950195312,\n",
       " 0.7360585927963257,\n",
       " 0.8477460145950317,\n",
       " 1.0375640392303467,\n",
       " 1.382082462310791,\n",
       " 2.077755928039551,\n",
       " 3.553882360458374,\n",
       " 5.988043308258057,\n",
       " 7.623494625091553,\n",
       " 7.865307807922363,\n",
       " 7.769824504852295,\n",
       " 7.305576801300049,\n",
       " 6.853262901306152,\n",
       " 6.533700942993164,\n",
       " 6.257808208465576,\n",
       " 5.98073148727417,\n",
       " 5.655295372009277,\n",
       " 5.201878547668457,\n",
       " 4.45725679397583]"
      ]
     },
     "execution_count": 15,
     "metadata": {},
     "output_type": "execute_result"
    }
   ],
   "source": [
    "test_inputs[20:40]"
   ]
  },
  {
   "cell_type": "code",
   "execution_count": 16,
   "metadata": {},
   "outputs": [
    {
     "data": {
      "text/plain": [
       "[-0.809381902217865,\n",
       " -0.7330803871154785,\n",
       " -0.6515586376190186,\n",
       " -0.5671824216842651,\n",
       " -0.48149025440216064,\n",
       " -0.39551928639411926,\n",
       " -0.31000402569770813,\n",
       " -0.2254968136548996,\n",
       " -0.142441987991333,\n",
       " -0.0612218864262104,\n",
       " 0.017813704907894135,\n",
       " 0.09432881325483322,\n",
       " 0.16798919439315796,\n",
       " 0.238455131649971,\n",
       " 0.3053778409957886,\n",
       " 0.368399441242218,\n",
       " 0.427156001329422,\n",
       " 0.4812846779823303,\n",
       " 0.5304350256919861,\n",
       " 0.5742854475975037,\n",
       " 0.616908073425293,\n",
       " 0.6662673950195312,\n",
       " 0.7360585927963257,\n",
       " 0.8477460145950317,\n",
       " 1.0375640392303467,\n",
       " 1.382082462310791,\n",
       " 2.077755928039551,\n",
       " 3.553882360458374,\n",
       " 5.988043308258057,\n",
       " 7.623494625091553,\n",
       " 7.865307807922363,\n",
       " 7.769824504852295,\n",
       " 7.305576801300049,\n",
       " 6.853262901306152,\n",
       " 6.533700942993164,\n",
       " 6.257808208465576,\n",
       " 5.98073148727417,\n",
       " 5.655295372009277,\n",
       " 5.201878547668457,\n",
       " 4.45725679397583]"
      ]
     },
     "execution_count": 16,
     "metadata": {},
     "output_type": "execute_result"
    }
   ],
   "source": [
    "test_inputs"
   ]
  },
  {
   "cell_type": "code",
   "execution_count": 57,
   "metadata": {},
   "outputs": [
    {
     "data": {
      "text/plain": [
       "7.430398941040039"
      ]
     },
     "execution_count": 57,
     "metadata": {},
     "output_type": "execute_result"
    }
   ],
   "source": [
    "np.max(test_inputs[:60])"
   ]
  },
  {
   "cell_type": "code",
   "execution_count": 67,
   "metadata": {},
   "outputs": [
    {
     "data": {
      "text/plain": [
       "[<matplotlib.lines.Line2D at 0x29cd72aa0d0>]"
      ]
     },
     "execution_count": 67,
     "metadata": {},
     "output_type": "execute_result"
    },
    {
     "data": {
      "image/png": "[encoded data removed]",
      "text/plain": [
       "<Figure size 432x288 with 1 Axes>"
      ]
     },
     "metadata": {
      "needs_background": "light"
     },
     "output_type": "display_data"
    }
   ],
   "source": [
    "plt.plot(train_norm)"
   ]
  },
  {
   "cell_type": "code",
   "execution_count": 44,
   "metadata": {},
   "outputs": [
    {
     "data": {
      "text/plain": [
       "[<matplotlib.lines.Line2D at 0x1de5ba1c2b0>]"
      ]
     },
     "execution_count": 44,
     "metadata": {},
     "output_type": "execute_result"
    },
    {
     "data": {
      "image/png": "[encoded data removed]",
      "text/plain": [
       "<Figure size 432x288 with 1 Axes>"
      ]
     },
     "metadata": {
      "needs_background": "light"
     },
     "output_type": "display_data"
    }
   ],
   "source": [
    "plt.plot(test[:1000])"
   ]
  },
  {
   "cell_type": "code",
   "execution_count": 43,
   "metadata": {},
   "outputs": [
    {
     "data": {
      "text/plain": [
       "[<matplotlib.lines.Line2D at 0x1de5ba308e0>]"
      ]
     },
     "execution_count": 43,
     "metadata": {},
     "output_type": "execute_result"
    },
    {
     "data": {
      "image/png": "[encoded data removed]",
      "text/plain": [
       "<Figure size 432x288 with 1 Axes>"
      ]
     },
     "metadata": {
      "needs_background": "light"
     },
     "output_type": "display_data"
    }
   ],
   "source": [
    "plt.plot(test_inputs)"
   ]
  },
  {
   "cell_type": "code",
   "execution_count": 38,
   "metadata": {},
   "outputs": [
    {
     "ename": "RuntimeError",
     "evalue": "input must have 3 dimensions, got 2",
     "output_type": "error",
     "traceback": [
      "\u001b[1;31m---------------------------------------------------------------------------\u001b[0m",
      "\u001b[1;31mRuntimeError\u001b[0m                              Traceback (most recent call last)",
      "\u001b[1;32m<ipython-input-38-b527e56f8a35>\u001b[0m in \u001b[0;36m<module>\u001b[1;34m\u001b[0m\n\u001b[0;32m      7\u001b[0m         \u001b[0mx\u001b[0m \u001b[1;33m=\u001b[0m \u001b[0mtorch\u001b[0m\u001b[1;33m.\u001b[0m\u001b[0mfrom_numpy\u001b[0m\u001b[1;33m(\u001b[0m\u001b[0mnp\u001b[0m\u001b[1;33m.\u001b[0m\u001b[0mexpand_dims\u001b[0m\u001b[1;33m(\u001b[0m\u001b[0mnp\u001b[0m\u001b[1;33m.\u001b[0m\u001b[0marray\u001b[0m\u001b[1;33m(\u001b[0m\u001b[1;33m[\u001b[0m\u001b[0mx\u001b[0m\u001b[1;33m]\u001b[0m\u001b[1;33m)\u001b[0m\u001b[1;33m,\u001b[0m \u001b[0maxis\u001b[0m\u001b[1;33m=\u001b[0m\u001b[1;36m0\u001b[0m\u001b[1;33m)\u001b[0m\u001b[1;33m)\u001b[0m\u001b[1;33m.\u001b[0m\u001b[0mtype\u001b[0m\u001b[1;33m(\u001b[0m\u001b[0mtorch\u001b[0m\u001b[1;33m.\u001b[0m\u001b[0mFloatTensor\u001b[0m\u001b[1;33m)\u001b[0m\u001b[1;33m\u001b[0m\u001b[1;33m\u001b[0m\u001b[0m\n\u001b[0;32m      8\u001b[0m         \u001b[0my\u001b[0m \u001b[1;33m=\u001b[0m \u001b[0mtorch\u001b[0m\u001b[1;33m.\u001b[0m\u001b[0mfrom_numpy\u001b[0m\u001b[1;33m(\u001b[0m\u001b[0mnp\u001b[0m\u001b[1;33m.\u001b[0m\u001b[0mexpand_dims\u001b[0m\u001b[1;33m(\u001b[0m\u001b[0mnp\u001b[0m\u001b[1;33m.\u001b[0m\u001b[0marray\u001b[0m\u001b[1;33m(\u001b[0m\u001b[1;33m[\u001b[0m\u001b[0my\u001b[0m\u001b[1;33m]\u001b[0m\u001b[1;33m)\u001b[0m\u001b[1;33m,\u001b[0m \u001b[0maxis\u001b[0m\u001b[1;33m=\u001b[0m\u001b[1;36m0\u001b[0m\u001b[1;33m)\u001b[0m\u001b[1;33m)\u001b[0m\u001b[1;33m.\u001b[0m\u001b[0mtype\u001b[0m\u001b[1;33m(\u001b[0m\u001b[0mtorch\u001b[0m\u001b[1;33m.\u001b[0m\u001b[0mFloatTensor\u001b[0m\u001b[1;33m)\u001b[0m\u001b[1;33m\u001b[0m\u001b[1;33m\u001b[0m\u001b[0m\n\u001b[1;32m----> 9\u001b[1;33m         \u001b[0my_pred\u001b[0m \u001b[1;33m=\u001b[0m \u001b[0mmodel\u001b[0m\u001b[1;33m(\u001b[0m\u001b[0mx\u001b[0m\u001b[1;33m)\u001b[0m\u001b[1;33m\u001b[0m\u001b[1;33m\u001b[0m\u001b[0m\n\u001b[0m\u001b[0;32m     10\u001b[0m         \u001b[0mloss\u001b[0m \u001b[1;33m=\u001b[0m \u001b[0mF\u001b[0m\u001b[1;33m.\u001b[0m\u001b[0mcross_entropy\u001b[0m\u001b[1;33m(\u001b[0m\u001b[0my_pred\u001b[0m\u001b[1;33m,\u001b[0m \u001b[0my\u001b[0m\u001b[1;33m)\u001b[0m\u001b[1;33m\u001b[0m\u001b[1;33m\u001b[0m\u001b[0m\n\u001b[0;32m     11\u001b[0m         \u001b[0mloss\u001b[0m\u001b[1;33m.\u001b[0m\u001b[0mbackward\u001b[0m\u001b[1;33m(\u001b[0m\u001b[1;33m)\u001b[0m\u001b[1;33m\u001b[0m\u001b[1;33m\u001b[0m\u001b[0m\n",
      "\u001b[1;32mD:\\miniconda\\lib\\site-packages\\torch\\nn\\modules\\module.py\u001b[0m in \u001b[0;36m_call_impl\u001b[1;34m(self, *input, **kwargs)\u001b[0m\n\u001b[0;32m    720\u001b[0m             \u001b[0mresult\u001b[0m \u001b[1;33m=\u001b[0m \u001b[0mself\u001b[0m\u001b[1;33m.\u001b[0m\u001b[0m_slow_forward\u001b[0m\u001b[1;33m(\u001b[0m\u001b[1;33m*\u001b[0m\u001b[0minput\u001b[0m\u001b[1;33m,\u001b[0m \u001b[1;33m**\u001b[0m\u001b[0mkwargs\u001b[0m\u001b[1;33m)\u001b[0m\u001b[1;33m\u001b[0m\u001b[1;33m\u001b[0m\u001b[0m\n\u001b[0;32m    721\u001b[0m         \u001b[1;32melse\u001b[0m\u001b[1;33m:\u001b[0m\u001b[1;33m\u001b[0m\u001b[1;33m\u001b[0m\u001b[0m\n\u001b[1;32m--> 722\u001b[1;33m             \u001b[0mresult\u001b[0m \u001b[1;33m=\u001b[0m \u001b[0mself\u001b[0m\u001b[1;33m.\u001b[0m\u001b[0mforward\u001b[0m\u001b[1;33m(\u001b[0m\u001b[1;33m*\u001b[0m\u001b[0minput\u001b[0m\u001b[1;33m,\u001b[0m \u001b[1;33m**\u001b[0m\u001b[0mkwargs\u001b[0m\u001b[1;33m)\u001b[0m\u001b[1;33m\u001b[0m\u001b[1;33m\u001b[0m\u001b[0m\n\u001b[0m\u001b[0;32m    723\u001b[0m         for hook in itertools.chain(\n\u001b[0;32m    724\u001b[0m                 \u001b[0m_global_forward_hooks\u001b[0m\u001b[1;33m.\u001b[0m\u001b[0mvalues\u001b[0m\u001b[1;33m(\u001b[0m\u001b[1;33m)\u001b[0m\u001b[1;33m,\u001b[0m\u001b[1;33m\u001b[0m\u001b[1;33m\u001b[0m\u001b[0m\n",
      "\u001b[1;32m<ipython-input-19-c19cf69c58fd>\u001b[0m in \u001b[0;36mforward\u001b[1;34m(self, input_seq)\u001b[0m\n\u001b[0;32m     12\u001b[0m \u001b[1;33m\u001b[0m\u001b[0m\n\u001b[0;32m     13\u001b[0m     \u001b[1;32mdef\u001b[0m \u001b[0mforward\u001b[0m\u001b[1;33m(\u001b[0m\u001b[0mself\u001b[0m\u001b[1;33m,\u001b[0m \u001b[0minput_seq\u001b[0m\u001b[1;33m)\u001b[0m\u001b[1;33m:\u001b[0m\u001b[1;33m\u001b[0m\u001b[1;33m\u001b[0m\u001b[0m\n\u001b[1;32m---> 14\u001b[1;33m         \u001b[0mlstm_out\u001b[0m\u001b[1;33m,\u001b[0m \u001b[0mself\u001b[0m\u001b[1;33m.\u001b[0m\u001b[0mhidden_cell\u001b[0m \u001b[1;33m=\u001b[0m \u001b[0mself\u001b[0m\u001b[1;33m.\u001b[0m\u001b[0mlstm\u001b[0m\u001b[1;33m(\u001b[0m\u001b[0minput_seq\u001b[0m\u001b[1;33m,\u001b[0m \u001b[0mself\u001b[0m\u001b[1;33m.\u001b[0m\u001b[0mhidden_cell\u001b[0m\u001b[1;33m)\u001b[0m\u001b[1;33m\u001b[0m\u001b[1;33m\u001b[0m\u001b[0m\n\u001b[0m\u001b[0;32m     15\u001b[0m         \u001b[0mpredictions\u001b[0m \u001b[1;33m=\u001b[0m \u001b[0mself\u001b[0m\u001b[1;33m.\u001b[0m\u001b[0mlinear\u001b[0m\u001b[1;33m(\u001b[0m\u001b[0mlstm_out\u001b[0m\u001b[1;33m.\u001b[0m\u001b[0mview\u001b[0m\u001b[1;33m(\u001b[0m\u001b[0mlen\u001b[0m\u001b[1;33m(\u001b[0m\u001b[0minput_seq\u001b[0m\u001b[1;33m)\u001b[0m\u001b[1;33m,\u001b[0m \u001b[1;33m-\u001b[0m\u001b[1;36m1\u001b[0m\u001b[1;33m)\u001b[0m\u001b[1;33m)\u001b[0m\u001b[1;33m\u001b[0m\u001b[1;33m\u001b[0m\u001b[0m\n\u001b[0;32m     16\u001b[0m         \u001b[1;32mreturn\u001b[0m \u001b[0mpredictions\u001b[0m\u001b[1;33m[\u001b[0m\u001b[1;33m-\u001b[0m\u001b[1;36m1\u001b[0m\u001b[1;33m]\u001b[0m\u001b[1;33m\u001b[0m\u001b[1;33m\u001b[0m\u001b[0m\n",
      "\u001b[1;32mD:\\miniconda\\lib\\site-packages\\torch\\nn\\modules\\module.py\u001b[0m in \u001b[0;36m_call_impl\u001b[1;34m(self, *input, **kwargs)\u001b[0m\n\u001b[0;32m    720\u001b[0m             \u001b[0mresult\u001b[0m \u001b[1;33m=\u001b[0m \u001b[0mself\u001b[0m\u001b[1;33m.\u001b[0m\u001b[0m_slow_forward\u001b[0m\u001b[1;33m(\u001b[0m\u001b[1;33m*\u001b[0m\u001b[0minput\u001b[0m\u001b[1;33m,\u001b[0m \u001b[1;33m**\u001b[0m\u001b[0mkwargs\u001b[0m\u001b[1;33m)\u001b[0m\u001b[1;33m\u001b[0m\u001b[1;33m\u001b[0m\u001b[0m\n\u001b[0;32m    721\u001b[0m         \u001b[1;32melse\u001b[0m\u001b[1;33m:\u001b[0m\u001b[1;33m\u001b[0m\u001b[1;33m\u001b[0m\u001b[0m\n\u001b[1;32m--> 722\u001b[1;33m             \u001b[0mresult\u001b[0m \u001b[1;33m=\u001b[0m \u001b[0mself\u001b[0m\u001b[1;33m.\u001b[0m\u001b[0mforward\u001b[0m\u001b[1;33m(\u001b[0m\u001b[1;33m*\u001b[0m\u001b[0minput\u001b[0m\u001b[1;33m,\u001b[0m \u001b[1;33m**\u001b[0m\u001b[0mkwargs\u001b[0m\u001b[1;33m)\u001b[0m\u001b[1;33m\u001b[0m\u001b[1;33m\u001b[0m\u001b[0m\n\u001b[0m\u001b[0;32m    723\u001b[0m         for hook in itertools.chain(\n\u001b[0;32m    724\u001b[0m                 \u001b[0m_global_forward_hooks\u001b[0m\u001b[1;33m.\u001b[0m\u001b[0mvalues\u001b[0m\u001b[1;33m(\u001b[0m\u001b[1;33m)\u001b[0m\u001b[1;33m,\u001b[0m\u001b[1;33m\u001b[0m\u001b[1;33m\u001b[0m\u001b[0m\n",
      "\u001b[1;32mD:\\miniconda\\lib\\site-packages\\torch\\nn\\modules\\rnn.py\u001b[0m in \u001b[0;36mforward\u001b[1;34m(self, input, hx)\u001b[0m\n\u001b[0;32m    572\u001b[0m             \u001b[0mhx\u001b[0m \u001b[1;33m=\u001b[0m \u001b[0mself\u001b[0m\u001b[1;33m.\u001b[0m\u001b[0mpermute_hidden\u001b[0m\u001b[1;33m(\u001b[0m\u001b[0mhx\u001b[0m\u001b[1;33m,\u001b[0m \u001b[0msorted_indices\u001b[0m\u001b[1;33m)\u001b[0m\u001b[1;33m\u001b[0m\u001b[1;33m\u001b[0m\u001b[0m\n\u001b[0;32m    573\u001b[0m \u001b[1;33m\u001b[0m\u001b[0m\n\u001b[1;32m--> 574\u001b[1;33m         \u001b[0mself\u001b[0m\u001b[1;33m.\u001b[0m\u001b[0mcheck_forward_args\u001b[0m\u001b[1;33m(\u001b[0m\u001b[0minput\u001b[0m\u001b[1;33m,\u001b[0m \u001b[0mhx\u001b[0m\u001b[1;33m,\u001b[0m \u001b[0mbatch_sizes\u001b[0m\u001b[1;33m)\u001b[0m\u001b[1;33m\u001b[0m\u001b[1;33m\u001b[0m\u001b[0m\n\u001b[0m\u001b[0;32m    575\u001b[0m         \u001b[1;32mif\u001b[0m \u001b[0mbatch_sizes\u001b[0m \u001b[1;32mis\u001b[0m \u001b[1;32mNone\u001b[0m\u001b[1;33m:\u001b[0m\u001b[1;33m\u001b[0m\u001b[1;33m\u001b[0m\u001b[0m\n\u001b[0;32m    576\u001b[0m             result = _VF.lstm(input, hx, self._flat_weights, self.bias, self.num_layers,\n",
      "\u001b[1;32mD:\\miniconda\\lib\\site-packages\\torch\\nn\\modules\\rnn.py\u001b[0m in \u001b[0;36mcheck_forward_args\u001b[1;34m(self, input, hidden, batch_sizes)\u001b[0m\n\u001b[0;32m    523\u001b[0m \u001b[1;33m\u001b[0m\u001b[0m\n\u001b[0;32m    524\u001b[0m     \u001b[1;32mdef\u001b[0m \u001b[0mcheck_forward_args\u001b[0m\u001b[1;33m(\u001b[0m\u001b[0mself\u001b[0m\u001b[1;33m,\u001b[0m \u001b[0minput\u001b[0m\u001b[1;33m:\u001b[0m \u001b[0mTensor\u001b[0m\u001b[1;33m,\u001b[0m \u001b[0mhidden\u001b[0m\u001b[1;33m:\u001b[0m \u001b[0mTuple\u001b[0m\u001b[1;33m[\u001b[0m\u001b[0mTensor\u001b[0m\u001b[1;33m,\u001b[0m \u001b[0mTensor\u001b[0m\u001b[1;33m]\u001b[0m\u001b[1;33m,\u001b[0m \u001b[0mbatch_sizes\u001b[0m\u001b[1;33m:\u001b[0m \u001b[0mOptional\u001b[0m\u001b[1;33m[\u001b[0m\u001b[0mTensor\u001b[0m\u001b[1;33m]\u001b[0m\u001b[1;33m)\u001b[0m\u001b[1;33m:\u001b[0m\u001b[1;33m\u001b[0m\u001b[1;33m\u001b[0m\u001b[0m\n\u001b[1;32m--> 525\u001b[1;33m         \u001b[0mself\u001b[0m\u001b[1;33m.\u001b[0m\u001b[0mcheck_input\u001b[0m\u001b[1;33m(\u001b[0m\u001b[0minput\u001b[0m\u001b[1;33m,\u001b[0m \u001b[0mbatch_sizes\u001b[0m\u001b[1;33m)\u001b[0m\u001b[1;33m\u001b[0m\u001b[1;33m\u001b[0m\u001b[0m\n\u001b[0m\u001b[0;32m    526\u001b[0m         \u001b[0mexpected_hidden_size\u001b[0m \u001b[1;33m=\u001b[0m \u001b[0mself\u001b[0m\u001b[1;33m.\u001b[0m\u001b[0mget_expected_hidden_size\u001b[0m\u001b[1;33m(\u001b[0m\u001b[0minput\u001b[0m\u001b[1;33m,\u001b[0m \u001b[0mbatch_sizes\u001b[0m\u001b[1;33m)\u001b[0m\u001b[1;33m\u001b[0m\u001b[1;33m\u001b[0m\u001b[0m\n\u001b[0;32m    527\u001b[0m \u001b[1;33m\u001b[0m\u001b[0m\n",
      "\u001b[1;32mD:\\miniconda\\lib\\site-packages\\torch\\nn\\modules\\rnn.py\u001b[0m in \u001b[0;36mcheck_input\u001b[1;34m(self, input, batch_sizes)\u001b[0m\n\u001b[0;32m    171\u001b[0m         \u001b[0mexpected_input_dim\u001b[0m \u001b[1;33m=\u001b[0m \u001b[1;36m2\u001b[0m \u001b[1;32mif\u001b[0m \u001b[0mbatch_sizes\u001b[0m \u001b[1;32mis\u001b[0m \u001b[1;32mnot\u001b[0m \u001b[1;32mNone\u001b[0m \u001b[1;32melse\u001b[0m \u001b[1;36m3\u001b[0m\u001b[1;33m\u001b[0m\u001b[1;33m\u001b[0m\u001b[0m\n\u001b[0;32m    172\u001b[0m         \u001b[1;32mif\u001b[0m \u001b[0minput\u001b[0m\u001b[1;33m.\u001b[0m\u001b[0mdim\u001b[0m\u001b[1;33m(\u001b[0m\u001b[1;33m)\u001b[0m \u001b[1;33m!=\u001b[0m \u001b[0mexpected_input_dim\u001b[0m\u001b[1;33m:\u001b[0m\u001b[1;33m\u001b[0m\u001b[1;33m\u001b[0m\u001b[0m\n\u001b[1;32m--> 173\u001b[1;33m             raise RuntimeError(\n\u001b[0m\u001b[0;32m    174\u001b[0m                 'input must have {} dimensions, got {}'.format(\n\u001b[0;32m    175\u001b[0m                     expected_input_dim, input.dim()))\n",
      "\u001b[1;31mRuntimeError\u001b[0m: input must have 3 dimensions, got 2"
     ]
    }
   ],
   "source": [
    "losses = []\n",
    "model = LSTM()\n",
    "optimizer = torch.optim.Adam(model.parameters(),lr=0.001)\n",
    "for epoch in range(20):\n",
    "    for x, y in zip(X_train, Y_train):\n",
    "        optimizer.zero_grad()\n",
    "        x = torch.from_numpy(np.expand_dims(np.array([x]), axis=0)).type(torch.FloatTensor)\n",
    "        y = torch.from_numpy(np.expand_dims(np.array([y]), axis=0)).type(torch.FloatTensor)\n",
    "        y_pred = model(x)\n",
    "        loss = nn.MSELoss()(y_pred, y)\n",
    "        loss.backward()\n",
    "        optimizer.step()\n",
    "        \n",
    "        losses.append(loss.item())\n",
    "        plt.plot(range(len(losses)), losses)\n",
    "        plt.ylabel(\"loss\")\n",
    "        plt.xlabel(\"epochs\")"
   ]
  },
  {
   "cell_type": "code",
   "execution_count": null,
   "metadata": {},
   "outputs": [],
   "source": []
  }
 ],
 "metadata": {
  "kernelspec": {
   "display_name": "Python 3",
   "language": "python",
   "name": "python3"
  },
  "language_info": {
   "codemirror_mode": {
    "name": "ipython",
    "version": 3
   },
   "file_extension": ".py",
   "mimetype": "text/x-python",
   "name": "python",
   "nbconvert_exporter": "python",
   "pygments_lexer": "ipython3",
   "version": "3.8.3"
  }
 },
 "nbformat": 4,
 "nbformat_minor": 4
}
