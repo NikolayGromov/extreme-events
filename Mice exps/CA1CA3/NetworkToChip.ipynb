{
 "cells": [
  {
   "cell_type": "code",
   "execution_count": 1,
   "id": "0db1ce4b",
   "metadata": {
    "ExecuteTime": {
     "end_time": "2024-09-09T10:29:26.156060Z",
     "start_time": "2024-09-09T10:29:23.475912Z"
    }
   },
   "outputs": [],
   "source": [
    "import numpy as np\n",
    "import torch\n",
    "from torch import nn\n",
    "import torch.nn.functional as F\n",
    "import matplotlib.pyplot as plt\n",
    "from torch.utils.data import DataLoader\n",
    "from tqdm.notebook import tqdm\n",
    "from scipy.ndimage import gaussian_filter\n",
    "import matplotlib.ticker as ticker\n",
    "from scipy import stats\n",
    "%matplotlib inline"
   ]
  },
  {
   "cell_type": "code",
   "execution_count": 2,
   "id": "367ce8a8",
   "metadata": {
    "ExecuteTime": {
     "end_time": "2024-09-09T10:29:27.005492Z",
     "start_time": "2024-09-09T10:29:27.002314Z"
    }
   },
   "outputs": [],
   "source": [
    "n_signals = 9"
   ]
  },
  {
   "cell_type": "code",
   "execution_count": 3,
   "id": "2ad3911d",
   "metadata": {
    "ExecuteTime": {
     "end_time": "2024-09-09T10:29:27.781453Z",
     "start_time": "2024-09-09T10:29:27.764324Z"
    }
   },
   "outputs": [],
   "source": [
    "ca1 = []\n",
    "ca3 = []\n",
    "for i in range(n_signals):\n",
    "    ca1.append(np.load(\"data_intersec/ca1_3_\" + str(i) + \".npy\"))\n",
    "    ca3.append(np.load(\"data_intersec/ca3_3_\" + str(i) + \".npy\"))   \n",
    "    \n",
    "ca1 = np.array(ca1)\n",
    "ca3 = np.array(ca3)"
   ]
  },
  {
   "cell_type": "code",
   "execution_count": 4,
   "id": "412d2e09",
   "metadata": {
    "ExecuteTime": {
     "end_time": "2024-09-09T10:29:29.092257Z",
     "start_time": "2024-09-09T10:29:29.086632Z"
    }
   },
   "outputs": [],
   "source": [
    "def gausFilter(signal, sigma = 35):\n",
    "    min1 = np.min(signal)\n",
    "    gf = gaussian_filter(signal, sigma)\n",
    "    min2 = np.min(gf)\n",
    "    return gf*min1/min2"
   ]
  },
  {
   "cell_type": "code",
   "execution_count": 5,
   "id": "bf037058",
   "metadata": {
    "ExecuteTime": {
     "end_time": "2024-09-09T10:29:29.734108Z",
     "start_time": "2024-09-09T10:29:29.644658Z"
    }
   },
   "outputs": [],
   "source": [
    "for i in range(n_signals):\n",
    "    ca1[i] = gausFilter(ca1[i])\n",
    "    ca3[i] = gausFilter(ca3[i])    "
   ]
  },
  {
   "cell_type": "code",
   "execution_count": 6,
   "id": "5b27b06c",
   "metadata": {
    "ExecuteTime": {
     "end_time": "2024-09-09T10:29:30.501535Z",
     "start_time": "2024-09-09T10:29:30.486766Z"
    }
   },
   "outputs": [],
   "source": [
    "train_ca1 = ca1[1:].copy()\n",
    "test_ca1 = ca1[0].copy()\n",
    "\n",
    "train_ca3 = ca3[1:].copy()\n",
    "test_ca3 = ca3[0].copy()\n",
    "\n",
    "for i in range(len(train_ca1)):\n",
    "    train_ca1[i] = (train_ca1[i] - train_ca1[i].mean()) / train_ca1[i].std()\n",
    "    train_ca3[i] = (train_ca3[i] - train_ca3[i].mean()) / train_ca3[i].std() \n",
    "    \n",
    "# for i in range(len(test_ca1)):\n",
    "#     test_ca1[i] = (test_ca1[i] - test_ca1[i].mean()) / test_ca1[i].std()\n",
    "#     test_ca3[i] = (test_ca3[i] - test_ca3[i].mean()) / test_ca3[i].std()\n",
    "    \n",
    "\n",
    "test_ca1 = (test_ca1 - test_ca1.mean()) / test_ca1.std()\n",
    "test_ca3 = (test_ca3 - test_ca3.mean()) / test_ca3.std()"
   ]
  },
  {
   "cell_type": "code",
   "execution_count": 8,
   "id": "8b067f28",
   "metadata": {
    "ExecuteTime": {
     "end_time": "2024-09-09T10:34:28.501356Z",
     "start_time": "2024-09-09T10:34:28.497034Z"
    }
   },
   "outputs": [],
   "source": [
    "# import os\n",
    "\n",
    "# array = os.listdir(\"./metrics/\")"
   ]
  },
  {
   "cell_type": "code",
   "execution_count": 9,
   "id": "a6326888",
   "metadata": {
    "ExecuteTime": {
     "end_time": "2024-09-09T10:34:32.784065Z",
     "start_time": "2024-09-09T10:34:32.778602Z"
    }
   },
   "outputs": [],
   "source": [
    "# min_interval = 1e9\n",
    "# min_border = 1e9\n",
    "# min_loss = 1e9\n",
    "\n",
    "# min_loss_params = None\n",
    "# min_interval_params = None\n",
    "# min_border_params = None\n",
    "\n",
    "# for filename in array:\n",
    "#     if \"interval\" in filename and \"metric\" in filename:\n",
    "#         metric = np.load(\"./metrics/\" + filename)\n",
    "#         if metric < min_interval:\n",
    "#             min_interval = metric\n",
    "#             min_interval_params = filename\n",
    "#     if \"border\" in filename and \"metric\" in filename:\n",
    "#         metric = np.load(\"./metrics/\" + filename)\n",
    "#         if metric < min_border:\n",
    "#             min_border = metric\n",
    "#             min_border_params = filename\n",
    "#     if \"loss\" in filename:\n",
    "#         loss = np.load(\"./metrics/\" + filename)\n",
    "#         if loss < min_loss:\n",
    "#             min_loss = loss\n",
    "#             min_loss_params = filename"
   ]
  },
  {
   "cell_type": "code",
   "execution_count": 10,
   "id": "6d61e240",
   "metadata": {
    "ExecuteTime": {
     "end_time": "2024-09-09T10:34:35.729405Z",
     "start_time": "2024-09-09T10:34:35.724664Z"
    }
   },
   "outputs": [],
   "source": [
    "MAXLEN = 12000"
   ]
  },
  {
   "cell_type": "code",
   "execution_count": 11,
   "id": "bc722173",
   "metadata": {
    "ExecuteTime": {
     "end_time": "2024-09-09T10:34:37.432665Z",
     "start_time": "2024-09-09T10:34:37.427418Z"
    }
   },
   "outputs": [],
   "source": [
    "#h_params_interval = [64, 50, 200, 0.2, 3, \"interval\"]\n",
    "h_params_loss = [64, 50, 100, 0.2, 2, \"interval\"]\n",
    "#h_params_border = [4, 1000, 200, 0.1, 2, \"border\"]"
   ]
  },
  {
   "cell_type": "code",
   "execution_count": 12,
   "id": "085b8b83",
   "metadata": {
    "ExecuteTime": {
     "end_time": "2024-09-09T10:34:40.372289Z",
     "start_time": "2024-09-09T10:34:40.366694Z"
    }
   },
   "outputs": [],
   "source": [
    "def create_inout_sequences(input_data, target_data, tw, hop, batch_size=64):\n",
    "    inout_seq = []\n",
    "    L = len(input_data)\n",
    "    for i in range(0, L - max(batch_size,train_window), hop):\n",
    "        train_seq = input_data[i:i+tw]\n",
    "        train_label = target_data[i:i+tw]\n",
    "        inout_seq.append((torch.FloatTensor(train_seq), torch.FloatTensor(train_label)))\n",
    "    return inout_seq"
   ]
  },
  {
   "cell_type": "code",
   "execution_count": 13,
   "id": "37c86e92",
   "metadata": {
    "ExecuteTime": {
     "end_time": "2024-09-09T10:34:41.366046Z",
     "start_time": "2024-09-09T10:34:41.357117Z"
    }
   },
   "outputs": [],
   "source": [
    "class LSTMModel(nn.Module):\n",
    "    def __init__(self, input_size=1, hidden_layer_size=100, num_layers=2, output_size=1, dropout=0.2):\n",
    "        super().__init__()\n",
    "        self.hidden_layer_size = hidden_layer_size\n",
    "\n",
    "        self.linear_1 = nn.Linear(input_size, hidden_layer_size)\n",
    "        self.relu = nn.ReLU()\n",
    "        self.lstm = nn.LSTM(hidden_layer_size, hidden_size=self.hidden_layer_size, \n",
    "                            num_layers=num_layers, batch_first=True, bidirectional=True)\n",
    "        self.dropout = nn.Dropout(dropout)\n",
    "        self.linear_2 = nn.Linear(2*hidden_layer_size, output_size)\n",
    "\n",
    "\n",
    "    def forward(self, x):\n",
    "        batchsize = x.shape[0]\n",
    "\n",
    "        # layer 1\n",
    "        x = self.linear_1(x)\n",
    "        x = self.relu(x)\n",
    "\n",
    "        # LSTM layer\n",
    "        lstm_out, _ = self.lstm(x)\n",
    "\n",
    "        # layer 2\n",
    "        x = self.dropout(lstm_out)\n",
    "        predictions = self.linear_2(x)\n",
    "        return predictions"
   ]
  },
  {
   "cell_type": "code",
   "execution_count": 14,
   "id": "fa602352",
   "metadata": {
    "ExecuteTime": {
     "end_time": "2024-09-09T10:34:43.754152Z",
     "start_time": "2024-09-09T10:34:43.747929Z"
    }
   },
   "outputs": [],
   "source": [
    "def GetWeitsWin(concat_len):\n",
    "    y_data = stats.norm.pdf(np.arange(0, concat_len, 1), 0, concat_len/5)\n",
    "    y_data2 = stats.norm.pdf(np.arange(-concat_len, 0, 1), 0, concat_len/5)\n",
    "\n",
    "    weights = np.concatenate((np.expand_dims(y_data, axis=1), np.expand_dims(y_data2, axis=1)), axis=1)\n",
    "    weights = weights / np.expand_dims(weights.sum(axis=1), axis=1)\n",
    "    return weights"
   ]
  },
  {
   "cell_type": "code",
   "execution_count": 15,
   "id": "148590eb",
   "metadata": {
    "ExecuteTime": {
     "end_time": "2024-09-09T10:34:44.275860Z",
     "start_time": "2024-09-09T10:34:44.268350Z"
    }
   },
   "outputs": [],
   "source": [
    "def SmoothSignal(signal, win, hop):\n",
    "    #now support only win // hop = 2\n",
    "    sm_signal = []\n",
    "    weights = GetWeitsWin(hop)\n",
    "    sm_signal.append(signal[:hop])\n",
    "    for w in range(0, len(signal) - win, win):\n",
    "        left_signal = signal[w+(win-hop):w+win] * weights[:, 0]\n",
    "        right_signal = signal[w+win:w+win+hop] * weights[:, 1]\n",
    "           \n",
    "        sm_signal.append(left_signal + right_signal)\n",
    "    #sm_signal.append(signal[w+win+hop: w+2*win])\n",
    "        \n",
    "    return np.array(sm_signal).flatten()"
   ]
  },
  {
   "cell_type": "code",
   "execution_count": 16,
   "id": "c370ebf0",
   "metadata": {
    "ExecuteTime": {
     "end_time": "2024-09-09T10:35:06.674257Z",
     "start_time": "2024-09-09T10:35:06.667557Z"
    }
   },
   "outputs": [],
   "source": [
    "def GetPredSignal(model_lstm, win, hop, test_dataloader):\n",
    "    preds = []\n",
    "    model_lstm.eval()\n",
    "    for idx, (x, y) in enumerate(tqdm(test_dataloader)):\n",
    "\n",
    "\n",
    "            x = x[..., None]#.to('cuda')\n",
    "\n",
    "            out = model_lstm(x)\n",
    "            \n",
    "            \n",
    "            preds.append(out.detach().cpu().numpy().flatten())\n",
    "    preds = np.array(preds).flatten()\n",
    "    sm_preds = SmoothSignal(preds, win, hop)\n",
    "    return sm_preds"
   ]
  },
  {
   "cell_type": "code",
   "execution_count": 17,
   "id": "32526f88",
   "metadata": {
    "ExecuteTime": {
     "end_time": "2024-09-09T10:35:07.542943Z",
     "start_time": "2024-09-09T10:35:07.537299Z"
    }
   },
   "outputs": [],
   "source": [
    "MAXLEN = 12000\n",
    "def getAnswer(signal, maxlen=MAXLEN):\n",
    "    left = right = np.argmin(signal)\n",
    "    mean = np.mean(signal)\n",
    "    while signal[left]<mean and left>0:\n",
    "        left-=1\n",
    "    while signal[right]<mean and right<maxlen:\n",
    "        right+=1\n",
    "    return [left, right]"
   ]
  },
  {
   "cell_type": "markdown",
   "id": "50e25d63",
   "metadata": {},
   "source": [
    "## Loss"
   ]
  },
  {
   "cell_type": "code",
   "execution_count": 18,
   "id": "3ecd35cf",
   "metadata": {
    "ExecuteTime": {
     "end_time": "2024-09-09T10:35:18.221033Z",
     "start_time": "2024-09-09T10:35:18.216550Z"
    }
   },
   "outputs": [],
   "source": [
    "batch_size, train_window, n_hidden, dropout, n_layers, mode = h_params_loss\n",
    "hop_len = train_window // 2"
   ]
  },
  {
   "cell_type": "code",
   "execution_count": 19,
   "id": "52c171e0",
   "metadata": {
    "ExecuteTime": {
     "end_time": "2024-09-09T10:35:20.464263Z",
     "start_time": "2024-09-09T10:35:20.337222Z"
    }
   },
   "outputs": [],
   "source": [
    "train_inout_seq = []\n",
    "for i in range(len(train_ca1)):\n",
    "    train_inout_seq += create_inout_sequences(train_ca3[i], train_ca1[i], train_window, hop_len)\n",
    "    \n",
    "\n",
    "test_inout_seq = create_inout_sequences(test_ca3, test_ca1, train_window, hop_len)\n",
    "\n",
    "train_dataloader = DataLoader(train_inout_seq, batch_size=batch_size, shuffle=True, drop_last=True)\n",
    "test_dataloader = DataLoader(test_inout_seq, batch_size=batch_size, shuffle=False, drop_last=True)"
   ]
  },
  {
   "cell_type": "code",
   "execution_count": 20,
   "id": "e93d51d4",
   "metadata": {
    "ExecuteTime": {
     "end_time": "2024-09-09T10:35:45.926235Z",
     "start_time": "2024-09-09T10:35:45.913916Z"
    }
   },
   "outputs": [],
   "source": [
    "model_lstm = LSTMModel(input_size=1, hidden_layer_size=n_hidden, num_layers=n_layers, output_size=1, dropout=dropout)\n",
    "model_lstm = model_lstm#.to('cuda')\n",
    "#model_lstm.load_state_dict(torch.load(\"./SearchHParams/BestLoss\" + min_loss_params[:-8]))"
   ]
  },
  {
   "cell_type": "code",
   "execution_count": 21,
   "id": "65875be6",
   "metadata": {
    "ExecuteTime": {
     "end_time": "2024-09-09T10:35:52.970805Z",
     "start_time": "2024-09-09T10:35:52.687981Z"
    }
   },
   "outputs": [
    {
     "data": {
      "application/vnd.jupyter.widget-view+json": {
       "model_id": "b8129606cc2a4717879014b7e83e59be",
       "version_major": 2,
       "version_minor": 0
      },
      "text/plain": [
       "  0%|          | 0/6 [00:00<?, ?it/s]"
      ]
     },
     "metadata": {},
     "output_type": "display_data"
    }
   ],
   "source": [
    "sm_preds = GetPredSignal(model_lstm, train_window, hop_len, test_dataloader)"
   ]
  },
  {
   "cell_type": "code",
   "execution_count": 22,
   "id": "f700661b",
   "metadata": {
    "ExecuteTime": {
     "end_time": "2024-09-09T10:35:59.010644Z",
     "start_time": "2024-09-09T10:35:58.811492Z"
    }
   },
   "outputs": [
    {
     "data": {
      "text/plain": [
       "<matplotlib.legend.Legend at 0x7f0ca12070d0>"
      ]
     },
     "execution_count": 22,
     "metadata": {},
     "output_type": "execute_result"
    },
    {
     "data": {
      "image/png": "[encoded data removed]",
      "text/plain": [
       "<Figure size 1600x900 with 1 Axes>"
      ]
     },
     "metadata": {},
     "output_type": "display_data"
    }
   ],
   "source": [
    "bord = getAnswer(sm_preds)\n",
    "tr_bord = getAnswer(test_ca1)\n",
    "\n",
    "plt.figure(figsize=(16, 9))\n",
    "\n",
    "plt.plot(test_ca1, label=\"true\")\n",
    "plt.plot(sm_preds, label=\"predicted\")\n",
    "plt.plot([bord[0]]*2, [-5, 2], color=\"r\", linewidth = 3, label=\"Pred bord\")\n",
    "plt.plot([bord[1]]*2, [-5, 2], color=\"r\", linewidth = 3)\n",
    "plt.plot([tr_bord[0]]*2, [-5, 2], color=\"g\", linewidth = 3, label=\"True bord\")\n",
    "plt.plot([tr_bord[1]]*2, [-5, 2], color=\"g\", linewidth = 3)\n",
    "\n",
    "\n",
    "plt.legend()"
   ]
  }
 ],
 "metadata": {
  "kernelspec": {
   "display_name": "Python 3 (ipykernel)",
   "language": "python",
   "name": "python3"
  },
  "language_info": {
   "codemirror_mode": {
    "name": "ipython",
    "version": 3
   },
   "file_extension": ".py",
   "mimetype": "text/x-python",
   "name": "python",
   "nbconvert_exporter": "python",
   "pygments_lexer": "ipython3",
   "version": "3.10.12"
  },
  "toc": {
   "base_numbering": 1,
   "nav_menu": {},
   "number_sections": true,
   "sideBar": true,
   "skip_h1_title": false,
   "title_cell": "Table of Contents",
   "title_sidebar": "Contents",
   "toc_cell": false,
   "toc_position": {},
   "toc_section_display": true,
   "toc_window_display": false
  },
  "varInspector": {
   "cols": {
    "lenName": 16,
    "lenType": 16,
    "lenVar": 40
   },
   "kernels_config": {
    "python": {
     "delete_cmd_postfix": "",
     "delete_cmd_prefix": "del ",
     "library": "var_list.py",
     "varRefreshCmd": "print(var_dic_list())"
    },
    "r": {
     "delete_cmd_postfix": ") ",
     "delete_cmd_prefix": "rm(",
     "library": "var_list.r",
     "varRefreshCmd": "cat(var_dic_list()) "
    }
   },
   "types_to_exclude": [
    "module",
    "function",
    "builtin_function_or_method",
    "instance",
    "_Feature"
   ],
   "window_display": false
  }
 },
 "nbformat": 4,
 "nbformat_minor": 5
}
